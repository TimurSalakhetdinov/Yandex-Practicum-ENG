{
 "cells": [
  {
   "cell_type": "markdown",
   "metadata": {},
   "source": [
    "# Определение перспективного тарифа для телеком-компании\n",
    "\n",
    "Клиентам предлагают два тарифных плана: «Смарт» и «Ультра». Чтобы скорректировать рекламный бюджет, коммерческий департамент хочет понять, какой тариф приносит больше денег.\n",
    "\n",
    "Вам предстоит сделать предварительный анализ тарифов на небольшой выборке клиентов. В вашем распоряжении данные 500 пользователей «Мегалайна»: кто они, откуда, каким тарифом пользуются, сколько звонков и сообщений каждый отправил за 2018 год. Нужно проанализировать поведение клиентов и сделать вывод — какой тариф лучше.\n",
    "\n",
    "**Описание тарифов**\n",
    "\n",
    "Тариф «Смарт»\n",
    "* \t\tЕжемесячная плата: 550 рублей\n",
    "* \t\tВключено 500 минут разговора, 50 сообщений и 15 Гб интернет-трафика\n",
    "* \t\tСтоимость услуг сверх тарифного пакета: 1. минута разговора: 3 рубля («Мегалайн» всегда округляет вверх значения минут и мегабайтов. Если пользователь проговорил всего 1 секунду, в тарифе засчитывается целая минута); 2. сообщение: 3 рубля; 3. 1 Гб интернет-трафика: 200 рублей.\n",
    "\n",
    "Тариф «Ультра»\n",
    "* \t\tЕжемесячная плата: 1950 рублей\n",
    "* \t\tВключено 3000 минут разговора, 1000 сообщений и 30 Гб интернет-трафика\n",
    "* \t\tСтоимость услуг сверх тарифного пакета: 1. минута разговора: 1 рубль; 2. сообщение: 1 рубль; 3. 1 Гб интернет-трафика: 150 рублей.\n",
    "\n",
    "*Примечание:*\n",
    "«Мегалайн» всегда округляет секунды до минут, а мегабайты — до гигабайт. Каждый звонок округляется отдельно: даже если он длился всего 1 секунду, будет засчитан как 1 минута.\n",
    "Для веб-трафика отдельные сессии не считаются. Вместо этого общая сумма за месяц округляется в бо́льшую сторону. Если абонент использует 1025 мегабайт в этом месяце, с него возьмут плату за 2 гигабайта."
   ]
  },
  {
   "cell_type": "markdown",
   "metadata": {},
   "source": [
    "## Изучение данных из файла"
   ]
  },
  {
   "cell_type": "markdown",
   "metadata": {},
   "source": [
    "**Вывод данных**"
   ]
  },
  {
   "cell_type": "code",
   "execution_count": 261,
   "metadata": {},
   "outputs": [
    {
     "name": "stdout",
     "output_type": "stream",
     "text": [
      "Defaulting to user installation because normal site-packages is not writeable\n",
      "Requirement already up-to-date: pandas in /home/jovyan/.local/lib/python3.7/site-packages (1.3.5)\n",
      "Requirement already satisfied, skipping upgrade: python-dateutil>=2.7.3 in /opt/conda/lib/python3.7/site-packages (from pandas) (2.8.1)\n",
      "Requirement already satisfied, skipping upgrade: pytz>=2017.3 in /opt/conda/lib/python3.7/site-packages (from pandas) (2021.1)\n",
      "Requirement already satisfied, skipping upgrade: numpy>=1.17.3; platform_machine != \"aarch64\" and platform_machine != \"arm64\" and python_version < \"3.10\" in /opt/conda/lib/python3.7/site-packages (from pandas) (1.19.5)\n",
      "Requirement already satisfied, skipping upgrade: six>=1.5 in /opt/conda/lib/python3.7/site-packages (from python-dateutil>=2.7.3->pandas) (1.15.0)\n"
     ]
    }
   ],
   "source": [
    "# Импортируем, обновим необходимые библиотеки и уберем предупреждения:\n",
    "import pandas as pd\n",
    "import matplotlib.pyplot as plt\n",
    "import numpy as np\n",
    "import math\n",
    "from scipy import stats as st\n",
    "pd.set_option('display.float_format', '{:,.2f}'.format)\n",
    "!pip install -U pandas\n",
    "import warnings\n",
    "warnings.simplefilter('ignore')"
   ]
  },
  {
   "cell_type": "code",
   "execution_count": 262,
   "metadata": {
    "scrolled": false
   },
   "outputs": [
    {
     "data": {
      "text/html": [
       "<div>\n",
       "<style scoped>\n",
       "    .dataframe tbody tr th:only-of-type {\n",
       "        vertical-align: middle;\n",
       "    }\n",
       "\n",
       "    .dataframe tbody tr th {\n",
       "        vertical-align: top;\n",
       "    }\n",
       "\n",
       "    .dataframe thead th {\n",
       "        text-align: right;\n",
       "    }\n",
       "</style>\n",
       "<table border=\"1\" class=\"dataframe\">\n",
       "  <thead>\n",
       "    <tr style=\"text-align: right;\">\n",
       "      <th></th>\n",
       "      <th>user_id</th>\n",
       "      <th>age</th>\n",
       "      <th>churn_date</th>\n",
       "      <th>city</th>\n",
       "      <th>first_name</th>\n",
       "      <th>last_name</th>\n",
       "      <th>reg_date</th>\n",
       "      <th>tariff</th>\n",
       "    </tr>\n",
       "  </thead>\n",
       "  <tbody>\n",
       "    <tr>\n",
       "      <td>0</td>\n",
       "      <td>1000</td>\n",
       "      <td>52</td>\n",
       "      <td>NaN</td>\n",
       "      <td>Краснодар</td>\n",
       "      <td>Рафаил</td>\n",
       "      <td>Верещагин</td>\n",
       "      <td>2018-05-25</td>\n",
       "      <td>ultra</td>\n",
       "    </tr>\n",
       "    <tr>\n",
       "      <td>1</td>\n",
       "      <td>1001</td>\n",
       "      <td>41</td>\n",
       "      <td>NaN</td>\n",
       "      <td>Москва</td>\n",
       "      <td>Иван</td>\n",
       "      <td>Ежов</td>\n",
       "      <td>2018-11-01</td>\n",
       "      <td>smart</td>\n",
       "    </tr>\n",
       "    <tr>\n",
       "      <td>2</td>\n",
       "      <td>1002</td>\n",
       "      <td>59</td>\n",
       "      <td>NaN</td>\n",
       "      <td>Стерлитамак</td>\n",
       "      <td>Евгений</td>\n",
       "      <td>Абрамович</td>\n",
       "      <td>2018-06-17</td>\n",
       "      <td>smart</td>\n",
       "    </tr>\n",
       "    <tr>\n",
       "      <td>3</td>\n",
       "      <td>1003</td>\n",
       "      <td>23</td>\n",
       "      <td>NaN</td>\n",
       "      <td>Москва</td>\n",
       "      <td>Белла</td>\n",
       "      <td>Белякова</td>\n",
       "      <td>2018-08-17</td>\n",
       "      <td>ultra</td>\n",
       "    </tr>\n",
       "    <tr>\n",
       "      <td>4</td>\n",
       "      <td>1004</td>\n",
       "      <td>68</td>\n",
       "      <td>NaN</td>\n",
       "      <td>Новокузнецк</td>\n",
       "      <td>Татьяна</td>\n",
       "      <td>Авдеенко</td>\n",
       "      <td>2018-05-14</td>\n",
       "      <td>ultra</td>\n",
       "    </tr>\n",
       "    <tr>\n",
       "      <td>5</td>\n",
       "      <td>1005</td>\n",
       "      <td>67</td>\n",
       "      <td>NaN</td>\n",
       "      <td>Набережные Челны</td>\n",
       "      <td>Афанасий</td>\n",
       "      <td>Горлов</td>\n",
       "      <td>2018-01-25</td>\n",
       "      <td>smart</td>\n",
       "    </tr>\n",
       "    <tr>\n",
       "      <td>6</td>\n",
       "      <td>1006</td>\n",
       "      <td>21</td>\n",
       "      <td>NaN</td>\n",
       "      <td>Ульяновск</td>\n",
       "      <td>Леонид</td>\n",
       "      <td>Ермолаев</td>\n",
       "      <td>2018-02-26</td>\n",
       "      <td>smart</td>\n",
       "    </tr>\n",
       "    <tr>\n",
       "      <td>7</td>\n",
       "      <td>1007</td>\n",
       "      <td>65</td>\n",
       "      <td>NaN</td>\n",
       "      <td>Москва</td>\n",
       "      <td>Юна</td>\n",
       "      <td>Березина</td>\n",
       "      <td>2018-04-19</td>\n",
       "      <td>smart</td>\n",
       "    </tr>\n",
       "    <tr>\n",
       "      <td>8</td>\n",
       "      <td>1008</td>\n",
       "      <td>63</td>\n",
       "      <td>NaN</td>\n",
       "      <td>Челябинск</td>\n",
       "      <td>Рустэм</td>\n",
       "      <td>Пономарёв</td>\n",
       "      <td>2018-12-19</td>\n",
       "      <td>smart</td>\n",
       "    </tr>\n",
       "    <tr>\n",
       "      <td>9</td>\n",
       "      <td>1009</td>\n",
       "      <td>24</td>\n",
       "      <td>NaN</td>\n",
       "      <td>Пермь</td>\n",
       "      <td>Василиса</td>\n",
       "      <td>Блинова</td>\n",
       "      <td>2018-03-22</td>\n",
       "      <td>smart</td>\n",
       "    </tr>\n",
       "  </tbody>\n",
       "</table>\n",
       "</div>"
      ],
      "text/plain": [
       "   user_id  age churn_date              city first_name  last_name  \\\n",
       "0     1000   52        NaN         Краснодар     Рафаил  Верещагин   \n",
       "1     1001   41        NaN            Москва       Иван       Ежов   \n",
       "2     1002   59        NaN       Стерлитамак    Евгений  Абрамович   \n",
       "3     1003   23        NaN            Москва      Белла   Белякова   \n",
       "4     1004   68        NaN       Новокузнецк    Татьяна   Авдеенко   \n",
       "5     1005   67        NaN  Набережные Челны   Афанасий     Горлов   \n",
       "6     1006   21        NaN         Ульяновск     Леонид   Ермолаев   \n",
       "7     1007   65        NaN            Москва        Юна   Березина   \n",
       "8     1008   63        NaN         Челябинск     Рустэм  Пономарёв   \n",
       "9     1009   24        NaN             Пермь   Василиса    Блинова   \n",
       "\n",
       "     reg_date tariff  \n",
       "0  2018-05-25  ultra  \n",
       "1  2018-11-01  smart  \n",
       "2  2018-06-17  smart  \n",
       "3  2018-08-17  ultra  \n",
       "4  2018-05-14  ultra  \n",
       "5  2018-01-25  smart  \n",
       "6  2018-02-26  smart  \n",
       "7  2018-04-19  smart  \n",
       "8  2018-12-19  smart  \n",
       "9  2018-03-22  smart  "
      ]
     },
     "metadata": {},
     "output_type": "display_data"
    },
    {
     "name": "stdout",
     "output_type": "stream",
     "text": [
      "<class 'pandas.core.frame.DataFrame'>\n",
      "RangeIndex: 500 entries, 0 to 499\n",
      "Data columns (total 8 columns):\n",
      "user_id       500 non-null int64\n",
      "age           500 non-null int64\n",
      "churn_date    38 non-null object\n",
      "city          500 non-null object\n",
      "first_name    500 non-null object\n",
      "last_name     500 non-null object\n",
      "reg_date      500 non-null object\n",
      "tariff        500 non-null object\n",
      "dtypes: int64(2), object(6)\n",
      "memory usage: 31.4+ KB\n"
     ]
    },
    {
     "data": {
      "text/plain": [
       "None"
      ]
     },
     "metadata": {},
     "output_type": "display_data"
    },
    {
     "data": {
      "text/html": [
       "<div>\n",
       "<style scoped>\n",
       "    .dataframe tbody tr th:only-of-type {\n",
       "        vertical-align: middle;\n",
       "    }\n",
       "\n",
       "    .dataframe tbody tr th {\n",
       "        vertical-align: top;\n",
       "    }\n",
       "\n",
       "    .dataframe thead th {\n",
       "        text-align: right;\n",
       "    }\n",
       "</style>\n",
       "<table border=\"1\" class=\"dataframe\">\n",
       "  <thead>\n",
       "    <tr style=\"text-align: right;\">\n",
       "      <th></th>\n",
       "      <th>messages_included</th>\n",
       "      <th>mb_per_month_included</th>\n",
       "      <th>minutes_included</th>\n",
       "      <th>rub_monthly_fee</th>\n",
       "      <th>rub_per_gb</th>\n",
       "      <th>rub_per_message</th>\n",
       "      <th>rub_per_minute</th>\n",
       "      <th>tariff_name</th>\n",
       "    </tr>\n",
       "  </thead>\n",
       "  <tbody>\n",
       "    <tr>\n",
       "      <td>0</td>\n",
       "      <td>50</td>\n",
       "      <td>15360</td>\n",
       "      <td>500</td>\n",
       "      <td>550</td>\n",
       "      <td>200</td>\n",
       "      <td>3</td>\n",
       "      <td>3</td>\n",
       "      <td>smart</td>\n",
       "    </tr>\n",
       "    <tr>\n",
       "      <td>1</td>\n",
       "      <td>1000</td>\n",
       "      <td>30720</td>\n",
       "      <td>3000</td>\n",
       "      <td>1950</td>\n",
       "      <td>150</td>\n",
       "      <td>1</td>\n",
       "      <td>1</td>\n",
       "      <td>ultra</td>\n",
       "    </tr>\n",
       "  </tbody>\n",
       "</table>\n",
       "</div>"
      ],
      "text/plain": [
       "   messages_included  mb_per_month_included  minutes_included  \\\n",
       "0                 50                  15360               500   \n",
       "1               1000                  30720              3000   \n",
       "\n",
       "   rub_monthly_fee  rub_per_gb  rub_per_message  rub_per_minute tariff_name  \n",
       "0              550         200                3               3       smart  \n",
       "1             1950         150                1               1       ultra  "
      ]
     },
     "metadata": {},
     "output_type": "display_data"
    },
    {
     "name": "stdout",
     "output_type": "stream",
     "text": [
      "<class 'pandas.core.frame.DataFrame'>\n",
      "RangeIndex: 2 entries, 0 to 1\n",
      "Data columns (total 8 columns):\n",
      "messages_included        2 non-null int64\n",
      "mb_per_month_included    2 non-null int64\n",
      "minutes_included         2 non-null int64\n",
      "rub_monthly_fee          2 non-null int64\n",
      "rub_per_gb               2 non-null int64\n",
      "rub_per_message          2 non-null int64\n",
      "rub_per_minute           2 non-null int64\n",
      "tariff_name              2 non-null object\n",
      "dtypes: int64(7), object(1)\n",
      "memory usage: 256.0+ bytes\n"
     ]
    },
    {
     "data": {
      "text/plain": [
       "None"
      ]
     },
     "metadata": {},
     "output_type": "display_data"
    },
    {
     "data": {
      "text/html": [
       "<div>\n",
       "<style scoped>\n",
       "    .dataframe tbody tr th:only-of-type {\n",
       "        vertical-align: middle;\n",
       "    }\n",
       "\n",
       "    .dataframe tbody tr th {\n",
       "        vertical-align: top;\n",
       "    }\n",
       "\n",
       "    .dataframe thead th {\n",
       "        text-align: right;\n",
       "    }\n",
       "</style>\n",
       "<table border=\"1\" class=\"dataframe\">\n",
       "  <thead>\n",
       "    <tr style=\"text-align: right;\">\n",
       "      <th></th>\n",
       "      <th>id</th>\n",
       "      <th>message_date</th>\n",
       "      <th>user_id</th>\n",
       "    </tr>\n",
       "  </thead>\n",
       "  <tbody>\n",
       "    <tr>\n",
       "      <td>0</td>\n",
       "      <td>1000_0</td>\n",
       "      <td>2018-06-27</td>\n",
       "      <td>1000</td>\n",
       "    </tr>\n",
       "    <tr>\n",
       "      <td>1</td>\n",
       "      <td>1000_1</td>\n",
       "      <td>2018-10-08</td>\n",
       "      <td>1000</td>\n",
       "    </tr>\n",
       "    <tr>\n",
       "      <td>2</td>\n",
       "      <td>1000_2</td>\n",
       "      <td>2018-08-04</td>\n",
       "      <td>1000</td>\n",
       "    </tr>\n",
       "    <tr>\n",
       "      <td>3</td>\n",
       "      <td>1000_3</td>\n",
       "      <td>2018-06-16</td>\n",
       "      <td>1000</td>\n",
       "    </tr>\n",
       "    <tr>\n",
       "      <td>4</td>\n",
       "      <td>1000_4</td>\n",
       "      <td>2018-12-05</td>\n",
       "      <td>1000</td>\n",
       "    </tr>\n",
       "    <tr>\n",
       "      <td>5</td>\n",
       "      <td>1000_5</td>\n",
       "      <td>2018-06-20</td>\n",
       "      <td>1000</td>\n",
       "    </tr>\n",
       "    <tr>\n",
       "      <td>6</td>\n",
       "      <td>1000_6</td>\n",
       "      <td>2018-11-19</td>\n",
       "      <td>1000</td>\n",
       "    </tr>\n",
       "    <tr>\n",
       "      <td>7</td>\n",
       "      <td>1000_7</td>\n",
       "      <td>2018-10-29</td>\n",
       "      <td>1000</td>\n",
       "    </tr>\n",
       "    <tr>\n",
       "      <td>8</td>\n",
       "      <td>1000_8</td>\n",
       "      <td>2018-06-25</td>\n",
       "      <td>1000</td>\n",
       "    </tr>\n",
       "    <tr>\n",
       "      <td>9</td>\n",
       "      <td>1000_9</td>\n",
       "      <td>2018-12-18</td>\n",
       "      <td>1000</td>\n",
       "    </tr>\n",
       "  </tbody>\n",
       "</table>\n",
       "</div>"
      ],
      "text/plain": [
       "       id message_date  user_id\n",
       "0  1000_0   2018-06-27     1000\n",
       "1  1000_1   2018-10-08     1000\n",
       "2  1000_2   2018-08-04     1000\n",
       "3  1000_3   2018-06-16     1000\n",
       "4  1000_4   2018-12-05     1000\n",
       "5  1000_5   2018-06-20     1000\n",
       "6  1000_6   2018-11-19     1000\n",
       "7  1000_7   2018-10-29     1000\n",
       "8  1000_8   2018-06-25     1000\n",
       "9  1000_9   2018-12-18     1000"
      ]
     },
     "metadata": {},
     "output_type": "display_data"
    },
    {
     "name": "stdout",
     "output_type": "stream",
     "text": [
      "<class 'pandas.core.frame.DataFrame'>\n",
      "RangeIndex: 123036 entries, 0 to 123035\n",
      "Data columns (total 3 columns):\n",
      "id              123036 non-null object\n",
      "message_date    123036 non-null object\n",
      "user_id         123036 non-null int64\n",
      "dtypes: int64(1), object(2)\n",
      "memory usage: 2.8+ MB\n"
     ]
    },
    {
     "data": {
      "text/plain": [
       "None"
      ]
     },
     "metadata": {},
     "output_type": "display_data"
    },
    {
     "data": {
      "text/html": [
       "<div>\n",
       "<style scoped>\n",
       "    .dataframe tbody tr th:only-of-type {\n",
       "        vertical-align: middle;\n",
       "    }\n",
       "\n",
       "    .dataframe tbody tr th {\n",
       "        vertical-align: top;\n",
       "    }\n",
       "\n",
       "    .dataframe thead th {\n",
       "        text-align: right;\n",
       "    }\n",
       "</style>\n",
       "<table border=\"1\" class=\"dataframe\">\n",
       "  <thead>\n",
       "    <tr style=\"text-align: right;\">\n",
       "      <th></th>\n",
       "      <th>Unnamed: 0</th>\n",
       "      <th>id</th>\n",
       "      <th>mb_used</th>\n",
       "      <th>session_date</th>\n",
       "      <th>user_id</th>\n",
       "    </tr>\n",
       "  </thead>\n",
       "  <tbody>\n",
       "    <tr>\n",
       "      <td>0</td>\n",
       "      <td>0</td>\n",
       "      <td>1000_0</td>\n",
       "      <td>112.95</td>\n",
       "      <td>2018-11-25</td>\n",
       "      <td>1000</td>\n",
       "    </tr>\n",
       "    <tr>\n",
       "      <td>1</td>\n",
       "      <td>1</td>\n",
       "      <td>1000_1</td>\n",
       "      <td>1,052.81</td>\n",
       "      <td>2018-09-07</td>\n",
       "      <td>1000</td>\n",
       "    </tr>\n",
       "    <tr>\n",
       "      <td>2</td>\n",
       "      <td>2</td>\n",
       "      <td>1000_2</td>\n",
       "      <td>1,197.26</td>\n",
       "      <td>2018-06-25</td>\n",
       "      <td>1000</td>\n",
       "    </tr>\n",
       "    <tr>\n",
       "      <td>3</td>\n",
       "      <td>3</td>\n",
       "      <td>1000_3</td>\n",
       "      <td>550.27</td>\n",
       "      <td>2018-08-22</td>\n",
       "      <td>1000</td>\n",
       "    </tr>\n",
       "    <tr>\n",
       "      <td>4</td>\n",
       "      <td>4</td>\n",
       "      <td>1000_4</td>\n",
       "      <td>302.56</td>\n",
       "      <td>2018-09-24</td>\n",
       "      <td>1000</td>\n",
       "    </tr>\n",
       "    <tr>\n",
       "      <td>5</td>\n",
       "      <td>5</td>\n",
       "      <td>1000_5</td>\n",
       "      <td>399.97</td>\n",
       "      <td>2018-10-02</td>\n",
       "      <td>1000</td>\n",
       "    </tr>\n",
       "    <tr>\n",
       "      <td>6</td>\n",
       "      <td>6</td>\n",
       "      <td>1000_6</td>\n",
       "      <td>540.08</td>\n",
       "      <td>2018-09-07</td>\n",
       "      <td>1000</td>\n",
       "    </tr>\n",
       "    <tr>\n",
       "      <td>7</td>\n",
       "      <td>7</td>\n",
       "      <td>1000_7</td>\n",
       "      <td>415.70</td>\n",
       "      <td>2018-07-11</td>\n",
       "      <td>1000</td>\n",
       "    </tr>\n",
       "    <tr>\n",
       "      <td>8</td>\n",
       "      <td>8</td>\n",
       "      <td>1000_8</td>\n",
       "      <td>505.40</td>\n",
       "      <td>2018-10-08</td>\n",
       "      <td>1000</td>\n",
       "    </tr>\n",
       "    <tr>\n",
       "      <td>9</td>\n",
       "      <td>9</td>\n",
       "      <td>1000_9</td>\n",
       "      <td>345.54</td>\n",
       "      <td>2018-09-03</td>\n",
       "      <td>1000</td>\n",
       "    </tr>\n",
       "  </tbody>\n",
       "</table>\n",
       "</div>"
      ],
      "text/plain": [
       "   Unnamed: 0      id  mb_used session_date  user_id\n",
       "0           0  1000_0   112.95   2018-11-25     1000\n",
       "1           1  1000_1 1,052.81   2018-09-07     1000\n",
       "2           2  1000_2 1,197.26   2018-06-25     1000\n",
       "3           3  1000_3   550.27   2018-08-22     1000\n",
       "4           4  1000_4   302.56   2018-09-24     1000\n",
       "5           5  1000_5   399.97   2018-10-02     1000\n",
       "6           6  1000_6   540.08   2018-09-07     1000\n",
       "7           7  1000_7   415.70   2018-07-11     1000\n",
       "8           8  1000_8   505.40   2018-10-08     1000\n",
       "9           9  1000_9   345.54   2018-09-03     1000"
      ]
     },
     "metadata": {},
     "output_type": "display_data"
    },
    {
     "name": "stdout",
     "output_type": "stream",
     "text": [
      "<class 'pandas.core.frame.DataFrame'>\n",
      "RangeIndex: 149396 entries, 0 to 149395\n",
      "Data columns (total 5 columns):\n",
      "Unnamed: 0      149396 non-null int64\n",
      "id              149396 non-null object\n",
      "mb_used         149396 non-null float64\n",
      "session_date    149396 non-null object\n",
      "user_id         149396 non-null int64\n",
      "dtypes: float64(1), int64(2), object(2)\n",
      "memory usage: 5.7+ MB\n"
     ]
    },
    {
     "data": {
      "text/plain": [
       "None"
      ]
     },
     "metadata": {},
     "output_type": "display_data"
    },
    {
     "data": {
      "text/html": [
       "<div>\n",
       "<style scoped>\n",
       "    .dataframe tbody tr th:only-of-type {\n",
       "        vertical-align: middle;\n",
       "    }\n",
       "\n",
       "    .dataframe tbody tr th {\n",
       "        vertical-align: top;\n",
       "    }\n",
       "\n",
       "    .dataframe thead th {\n",
       "        text-align: right;\n",
       "    }\n",
       "</style>\n",
       "<table border=\"1\" class=\"dataframe\">\n",
       "  <thead>\n",
       "    <tr style=\"text-align: right;\">\n",
       "      <th></th>\n",
       "      <th>id</th>\n",
       "      <th>call_date</th>\n",
       "      <th>duration</th>\n",
       "      <th>user_id</th>\n",
       "    </tr>\n",
       "  </thead>\n",
       "  <tbody>\n",
       "    <tr>\n",
       "      <td>0</td>\n",
       "      <td>1000_0</td>\n",
       "      <td>2018-07-25</td>\n",
       "      <td>0.00</td>\n",
       "      <td>1000</td>\n",
       "    </tr>\n",
       "    <tr>\n",
       "      <td>1</td>\n",
       "      <td>1000_1</td>\n",
       "      <td>2018-08-17</td>\n",
       "      <td>0.00</td>\n",
       "      <td>1000</td>\n",
       "    </tr>\n",
       "    <tr>\n",
       "      <td>2</td>\n",
       "      <td>1000_2</td>\n",
       "      <td>2018-06-11</td>\n",
       "      <td>2.85</td>\n",
       "      <td>1000</td>\n",
       "    </tr>\n",
       "    <tr>\n",
       "      <td>3</td>\n",
       "      <td>1000_3</td>\n",
       "      <td>2018-09-21</td>\n",
       "      <td>13.80</td>\n",
       "      <td>1000</td>\n",
       "    </tr>\n",
       "    <tr>\n",
       "      <td>4</td>\n",
       "      <td>1000_4</td>\n",
       "      <td>2018-12-15</td>\n",
       "      <td>5.18</td>\n",
       "      <td>1000</td>\n",
       "    </tr>\n",
       "    <tr>\n",
       "      <td>5</td>\n",
       "      <td>1000_5</td>\n",
       "      <td>2018-11-02</td>\n",
       "      <td>0.00</td>\n",
       "      <td>1000</td>\n",
       "    </tr>\n",
       "    <tr>\n",
       "      <td>6</td>\n",
       "      <td>1000_6</td>\n",
       "      <td>2018-10-18</td>\n",
       "      <td>0.00</td>\n",
       "      <td>1000</td>\n",
       "    </tr>\n",
       "    <tr>\n",
       "      <td>7</td>\n",
       "      <td>1000_7</td>\n",
       "      <td>2018-08-22</td>\n",
       "      <td>18.31</td>\n",
       "      <td>1000</td>\n",
       "    </tr>\n",
       "    <tr>\n",
       "      <td>8</td>\n",
       "      <td>1000_8</td>\n",
       "      <td>2018-09-15</td>\n",
       "      <td>18.44</td>\n",
       "      <td>1000</td>\n",
       "    </tr>\n",
       "    <tr>\n",
       "      <td>9</td>\n",
       "      <td>1000_9</td>\n",
       "      <td>2018-08-15</td>\n",
       "      <td>0.00</td>\n",
       "      <td>1000</td>\n",
       "    </tr>\n",
       "  </tbody>\n",
       "</table>\n",
       "</div>"
      ],
      "text/plain": [
       "       id   call_date  duration  user_id\n",
       "0  1000_0  2018-07-25      0.00     1000\n",
       "1  1000_1  2018-08-17      0.00     1000\n",
       "2  1000_2  2018-06-11      2.85     1000\n",
       "3  1000_3  2018-09-21     13.80     1000\n",
       "4  1000_4  2018-12-15      5.18     1000\n",
       "5  1000_5  2018-11-02      0.00     1000\n",
       "6  1000_6  2018-10-18      0.00     1000\n",
       "7  1000_7  2018-08-22     18.31     1000\n",
       "8  1000_8  2018-09-15     18.44     1000\n",
       "9  1000_9  2018-08-15      0.00     1000"
      ]
     },
     "metadata": {},
     "output_type": "display_data"
    },
    {
     "name": "stdout",
     "output_type": "stream",
     "text": [
      "<class 'pandas.core.frame.DataFrame'>\n",
      "RangeIndex: 202607 entries, 0 to 202606\n",
      "Data columns (total 4 columns):\n",
      "id           202607 non-null object\n",
      "call_date    202607 non-null object\n",
      "duration     202607 non-null float64\n",
      "user_id      202607 non-null int64\n",
      "dtypes: float64(1), int64(1), object(2)\n",
      "memory usage: 6.2+ MB\n"
     ]
    },
    {
     "data": {
      "text/plain": [
       "None"
      ]
     },
     "metadata": {},
     "output_type": "display_data"
    }
   ],
   "source": [
    "# Посмотрим на данные:\n",
    "users = pd.read_csv('/datasets/users.csv')\n",
    "tariffs = pd.read_csv('/datasets/tariffs.csv')\n",
    "messages = pd.read_csv('/datasets/messages.csv')\n",
    "internet = pd.read_csv('/datasets/internet.csv')\n",
    "calls = pd.read_csv('/datasets/calls.csv')\n",
    "\n",
    "tables = [users, tariffs, messages, internet, calls]\n",
    "\n",
    "for i in tables:\n",
    "    display(i.head(10))\n",
    "    display(i.info())"
   ]
  },
  {
   "cell_type": "code",
   "execution_count": 263,
   "metadata": {},
   "outputs": [
    {
     "data": {
      "text/plain": [
       "count   500.00\n",
       "mean     46.59\n",
       "std      16.67\n",
       "min      18.00\n",
       "25%      32.00\n",
       "50%      46.00\n",
       "75%      62.00\n",
       "max      75.00\n",
       "Name: age, dtype: float64"
      ]
     },
     "execution_count": 263,
     "metadata": {},
     "output_type": "execute_result"
    }
   ],
   "source": [
    "# Проверим столбцы с цифровыми дынными на наличие ошибок:\n",
    "users['age'].describe()"
   ]
  },
  {
   "cell_type": "code",
   "execution_count": 264,
   "metadata": {},
   "outputs": [
    {
     "data": {
      "text/plain": [
       "Москва             99\n",
       "Санкт-Петербург    39\n",
       "Новосибирск        16\n",
       "Казань             14\n",
       "Омск               14\n",
       "                   ..\n",
       "Иваново             1\n",
       "Архангельск         1\n",
       "Подольск            1\n",
       "Нижневартовск       1\n",
       "Химки               1\n",
       "Name: city, Length: 76, dtype: int64"
      ]
     },
     "execution_count": 264,
     "metadata": {},
     "output_type": "execute_result"
    }
   ],
   "source": [
    "users['city'].value_counts()"
   ]
  },
  {
   "cell_type": "code",
   "execution_count": 265,
   "metadata": {},
   "outputs": [
    {
     "data": {
      "text/plain": [
       "2018-12-09    2\n",
       "2018-12-21    2\n",
       "2018-12-03    2\n",
       "2018-10-14    2\n",
       "2018-10-03    2\n",
       "2018-11-13    1\n",
       "2018-12-30    1\n",
       "2018-09-26    1\n",
       "2018-12-18    1\n",
       "2018-11-16    1\n",
       "2018-11-27    1\n",
       "2018-11-30    1\n",
       "2018-10-28    1\n",
       "2018-10-05    1\n",
       "2018-12-14    1\n",
       "2018-10-27    1\n",
       "2018-12-26    1\n",
       "2018-11-22    1\n",
       "2018-12-11    1\n",
       "2018-08-17    1\n",
       "2018-09-02    1\n",
       "2018-12-24    1\n",
       "2018-11-07    1\n",
       "2018-12-20    1\n",
       "2018-12-16    1\n",
       "2018-12-23    1\n",
       "2018-11-21    1\n",
       "2018-12-25    1\n",
       "2018-09-27    1\n",
       "2018-10-04    1\n",
       "2018-08-31    1\n",
       "2018-11-26    1\n",
       "2018-10-25    1\n",
       "Name: churn_date, dtype: int64"
      ]
     },
     "execution_count": 265,
     "metadata": {},
     "output_type": "execute_result"
    }
   ],
   "source": [
    "users['churn_date'].value_counts()"
   ]
  },
  {
   "cell_type": "code",
   "execution_count": 266,
   "metadata": {},
   "outputs": [
    {
     "data": {
      "text/plain": [
       "462"
      ]
     },
     "execution_count": 266,
     "metadata": {},
     "output_type": "execute_result"
    }
   ],
   "source": [
    "users['churn_date'].isna().sum()"
   ]
  },
  {
   "cell_type": "code",
   "execution_count": 267,
   "metadata": {},
   "outputs": [
    {
     "data": {
      "text/plain": [
       "smart    351\n",
       "ultra    149\n",
       "Name: tariff, dtype: int64"
      ]
     },
     "execution_count": 267,
     "metadata": {},
     "output_type": "execute_result"
    }
   ],
   "source": [
    "users['tariff'].value_counts()"
   ]
  },
  {
   "cell_type": "code",
   "execution_count": 268,
   "metadata": {
    "scrolled": true
   },
   "outputs": [
    {
     "data": {
      "text/plain": [
       "array(['2018-06-27', '2018-10-08', '2018-08-04', '2018-06-16',\n",
       "       '2018-12-05', '2018-06-20', '2018-11-19', '2018-10-29',\n",
       "       '2018-06-25', '2018-12-18', '2018-05-30', '2018-07-06',\n",
       "       '2018-08-20', '2018-10-30', '2018-09-14', '2018-08-28',\n",
       "       '2018-06-29', '2018-07-07', '2018-05-29', '2018-05-28',\n",
       "       '2018-08-15', '2018-07-29', '2018-12-07', '2018-12-25',\n",
       "       '2018-10-31', '2018-07-30', '2018-11-05', '2018-12-15',\n",
       "       '2018-12-04', '2018-06-30', '2018-12-22', '2018-10-02',\n",
       "       '2018-08-29', '2018-09-09', '2018-07-19', '2018-09-04',\n",
       "       '2018-07-15', '2018-10-25', '2018-12-08', '2018-06-01',\n",
       "       '2018-06-12', '2018-12-21', '2018-10-07', '2018-08-30',\n",
       "       '2018-06-04', '2018-10-01', '2018-06-22', '2018-10-12',\n",
       "       '2018-10-15', '2018-10-24', '2018-09-20', '2018-08-22',\n",
       "       '2018-09-17', '2018-08-27', '2018-07-26', '2018-06-05',\n",
       "       '2018-11-16', '2018-09-06', '2018-11-26', '2018-11-18',\n",
       "       '2018-09-21', '2018-07-11', '2018-07-16', '2018-11-08',\n",
       "       '2018-07-25', '2018-09-13', '2018-08-13', '2018-12-31',\n",
       "       '2018-06-10', '2018-06-28', '2018-09-18', '2018-10-11',\n",
       "       '2018-12-12', '2018-07-12', '2018-09-01', '2018-07-23',\n",
       "       '2018-09-22', '2018-08-17', '2018-09-29', '2018-07-22',\n",
       "       '2018-06-18', '2018-06-14', '2018-12-10', '2018-11-29',\n",
       "       '2018-11-21', '2018-12-28', '2018-11-30', '2018-08-31',\n",
       "       '2018-06-26', '2018-07-21', '2018-11-15', '2018-10-06',\n",
       "       '2018-06-13', '2018-12-29', '2018-11-10', '2018-08-24',\n",
       "       '2018-11-07', '2018-09-19', '2018-08-10', '2018-07-08',\n",
       "       '2018-05-25', '2018-08-21', '2018-07-28', '2018-07-31',\n",
       "       '2018-11-03', '2018-11-04', '2018-10-26', '2018-07-01',\n",
       "       '2018-09-23', '2018-08-25', '2018-07-18', '2018-11-02',\n",
       "       '2018-05-27', '2018-12-03', '2018-11-23', '2018-10-05',\n",
       "       '2018-11-12', '2018-07-10', '2018-06-24', '2018-10-17',\n",
       "       '2018-11-22', '2018-11-09', '2018-11-24', '2018-10-23',\n",
       "       '2018-10-19', '2018-09-30', '2018-06-09', '2018-12-06',\n",
       "       '2018-12-11', '2018-12-01', '2018-12-19', '2018-09-02',\n",
       "       '2018-10-22', '2018-08-03', '2018-11-06', '2018-12-26',\n",
       "       '2018-09-24', '2018-09-07', '2018-08-12', '2018-10-20',\n",
       "       '2018-12-27', '2018-12-23', '2018-07-02', '2018-12-02',\n",
       "       '2018-09-11', '2018-07-27', '2018-09-26', '2018-08-14',\n",
       "       '2018-11-28', '2018-07-13', '2018-08-26', '2018-08-09',\n",
       "       '2018-10-28', '2018-10-18', '2018-06-03', '2018-08-23',\n",
       "       '2018-12-16', '2018-10-13', '2018-12-14', '2018-09-08',\n",
       "       '2018-08-05', '2018-12-30', '2018-08-08', '2018-06-23',\n",
       "       '2018-12-24', '2018-07-14', '2018-09-28', '2018-07-04',\n",
       "       '2018-10-27', '2018-10-14', '2018-08-02', '2018-11-17',\n",
       "       '2018-08-18', '2018-07-24', '2018-06-17', '2018-09-16',\n",
       "       '2018-06-07', '2018-09-15', '2018-10-21', '2018-08-01',\n",
       "       '2018-06-11', '2018-07-20', '2018-12-17', '2018-10-03',\n",
       "       '2018-06-08', '2018-12-13', '2018-11-01', '2018-05-31',\n",
       "       '2018-09-03', '2018-08-16', '2018-07-09', '2018-11-27',\n",
       "       '2018-10-16', '2018-11-11', '2018-07-03', '2018-11-14',\n",
       "       '2018-12-09', '2018-08-07', '2018-10-09', '2018-11-25',\n",
       "       '2018-09-27', '2018-06-19', '2018-08-06', '2018-09-25',\n",
       "       '2018-09-12', '2018-11-20', '2018-12-20', '2018-11-13',\n",
       "       '2018-10-10', '2018-09-05', '2018-10-04', '2018-09-10',\n",
       "       '2018-08-19', '2018-05-21', '2018-06-15', '2018-05-14',\n",
       "       '2018-05-16', '2018-05-15', '2018-07-17', '2018-05-24',\n",
       "       '2018-08-11', '2018-05-26', '2018-07-05', '2018-05-17',\n",
       "       '2018-05-19', '2018-06-02', '2018-05-18', '2018-05-23',\n",
       "       '2018-06-21', '2018-05-22', '2018-05-20', '2018-06-06',\n",
       "       '2018-03-03', '2018-04-10', '2018-02-24', '2018-02-08',\n",
       "       '2018-02-25', '2018-04-27', '2018-03-10', '2018-03-25',\n",
       "       '2018-04-15', '2018-03-19', '2018-03-01', '2018-02-15',\n",
       "       '2018-04-05', '2018-02-23', '2018-05-02', '2018-05-07',\n",
       "       '2018-05-13', '2018-03-17', '2018-03-20', '2018-02-20',\n",
       "       '2018-01-25', '2018-04-19', '2018-02-13', '2018-02-26',\n",
       "       '2018-01-26', '2018-03-07', '2018-04-07', '2018-01-28',\n",
       "       '2018-02-28', '2018-02-17', '2018-03-21', '2018-03-15',\n",
       "       '2018-03-13', '2018-04-01', '2018-03-08', '2018-04-04',\n",
       "       '2018-04-12', '2018-03-22', '2018-04-24', '2018-04-06',\n",
       "       '2018-04-08', '2018-03-14', '2018-03-05', '2018-05-04',\n",
       "       '2018-03-02', '2018-02-14', '2018-04-20', '2018-02-19',\n",
       "       '2018-04-21', '2018-03-29', '2018-05-05', '2018-04-14',\n",
       "       '2018-02-09', '2018-02-21', '2018-04-13', '2018-03-16',\n",
       "       '2018-05-12', '2018-04-03', '2018-03-30', '2018-02-10',\n",
       "       '2018-03-24', '2018-03-06', '2018-02-07', '2018-04-22',\n",
       "       '2018-02-03', '2018-03-27', '2018-05-09', '2018-02-16',\n",
       "       '2018-03-04', '2018-04-09', '2018-03-26', '2018-03-09',\n",
       "       '2018-04-26', '2018-05-10', '2018-04-16', '2018-05-08',\n",
       "       '2018-04-25', '2018-02-06', '2018-04-02', '2018-01-29',\n",
       "       '2018-02-02', '2018-02-05', '2018-04-29', '2018-02-22',\n",
       "       '2018-01-27', '2018-02-18', '2018-04-11', '2018-05-01',\n",
       "       '2018-04-23', '2018-04-28', '2018-05-03', '2018-05-11',\n",
       "       '2018-04-17', '2018-03-28', '2018-04-30', '2018-05-06',\n",
       "       '2018-03-23', '2018-04-18', '2018-03-31', '2018-01-23',\n",
       "       '2018-01-04', '2018-01-14', '2018-01-19', '2018-01-30',\n",
       "       '2018-01-11', '2018-03-18', '2018-01-16', '2018-02-01',\n",
       "       '2018-01-18', '2018-01-10', '2018-01-21', '2018-03-11',\n",
       "       '2018-01-09', '2018-02-04', '2018-01-17', '2018-01-15',\n",
       "       '2018-01-12', '2018-01-20', '2018-01-07', '2018-01-05',\n",
       "       '2018-02-11', '2018-03-12', '2018-01-08', '2018-01-31',\n",
       "       '2018-02-27', '2018-02-12', '2018-01-03', '2018-01-02',\n",
       "       '2018-01-22', '2018-01-24', '2018-01-13', '2018-01-06'],\n",
       "      dtype=object)"
      ]
     },
     "execution_count": 268,
     "metadata": {},
     "output_type": "execute_result"
    }
   ],
   "source": [
    "messages['message_date'].unique()"
   ]
  },
  {
   "cell_type": "markdown",
   "metadata": {},
   "source": [
    "Все данные за 2018 год."
   ]
  },
  {
   "cell_type": "code",
   "execution_count": 269,
   "metadata": {},
   "outputs": [
    {
     "data": {
      "text/plain": [
       "count   149,396.00\n",
       "mean        370.19\n",
       "std         278.30\n",
       "min           0.00\n",
       "25%         138.19\n",
       "50%         348.01\n",
       "75%         559.55\n",
       "max       1,724.83\n",
       "Name: mb_used, dtype: float64"
      ]
     },
     "execution_count": 269,
     "metadata": {},
     "output_type": "execute_result"
    }
   ],
   "source": [
    "internet['mb_used'].describe()"
   ]
  },
  {
   "cell_type": "code",
   "execution_count": 270,
   "metadata": {},
   "outputs": [
    {
     "data": {
      "text/plain": [
       "count   202,607.00\n",
       "mean          6.76\n",
       "std           5.84\n",
       "min           0.00\n",
       "25%           1.30\n",
       "50%           6.00\n",
       "75%          10.70\n",
       "max          38.00\n",
       "Name: duration, dtype: float64"
      ]
     },
     "execution_count": 270,
     "metadata": {},
     "output_type": "execute_result"
    }
   ],
   "source": [
    "calls['duration'].describe()"
   ]
  },
  {
   "cell_type": "markdown",
   "metadata": {},
   "source": [
    "### Вывод"
   ]
  },
  {
   "cell_type": "markdown",
   "metadata": {},
   "source": [
    "Пропусков в данных нет. Есть ошибки в данных о тарификации тарифов: в тарифах оператора нет бесплатных 15360 и 30720 Mb, есть только 15 и 30 Гб."
   ]
  },
  {
   "cell_type": "markdown",
   "metadata": {},
   "source": [
    "## Предобработка данных"
   ]
  },
  {
   "cell_type": "markdown",
   "metadata": {},
   "source": [
    "### Обработка данных"
   ]
  },
  {
   "cell_type": "markdown",
   "metadata": {},
   "source": [
    "Необходимо округлить данные следующим образом:\n",
    "«Мегалайн» всегда округляет секунды до минут, а мегабайты — до гигабайт. \n",
    "* Каждый звонок округляется отдельно: даже если он длился всего 1 секунду, будет засчитан как 1 минута.\n",
    "* Для веб-трафика отдельные сессии не считаются. Вместо этого общая сумма за месяц округляется в бо́льшую сторону. Если абонент использует 1025 мегабайт в этом месяце, с него возьмут плату за 2 гигабайта.\n",
    "\n",
    "Веб-трафик округлим позднее после агрегации данных за месяцы."
   ]
  },
  {
   "cell_type": "code",
   "execution_count": 273,
   "metadata": {},
   "outputs": [],
   "source": [
    "# Округлим время разговора - секунды до 1 минуты:\n",
    "calls['duration_min'] = calls['duration'].apply(math.ceil)"
   ]
  },
  {
   "cell_type": "code",
   "execution_count": 274,
   "metadata": {},
   "outputs": [
    {
     "data": {
      "text/html": [
       "<div>\n",
       "<style scoped>\n",
       "    .dataframe tbody tr th:only-of-type {\n",
       "        vertical-align: middle;\n",
       "    }\n",
       "\n",
       "    .dataframe tbody tr th {\n",
       "        vertical-align: top;\n",
       "    }\n",
       "\n",
       "    .dataframe thead th {\n",
       "        text-align: right;\n",
       "    }\n",
       "</style>\n",
       "<table border=\"1\" class=\"dataframe\">\n",
       "  <thead>\n",
       "    <tr style=\"text-align: right;\">\n",
       "      <th></th>\n",
       "      <th>id</th>\n",
       "      <th>call_date</th>\n",
       "      <th>duration</th>\n",
       "      <th>user_id</th>\n",
       "      <th>duration_min</th>\n",
       "    </tr>\n",
       "  </thead>\n",
       "  <tbody>\n",
       "    <tr>\n",
       "      <td>0</td>\n",
       "      <td>1000_0</td>\n",
       "      <td>2018-07-25</td>\n",
       "      <td>0.00</td>\n",
       "      <td>1000</td>\n",
       "      <td>0</td>\n",
       "    </tr>\n",
       "    <tr>\n",
       "      <td>1</td>\n",
       "      <td>1000_1</td>\n",
       "      <td>2018-08-17</td>\n",
       "      <td>0.00</td>\n",
       "      <td>1000</td>\n",
       "      <td>0</td>\n",
       "    </tr>\n",
       "    <tr>\n",
       "      <td>2</td>\n",
       "      <td>1000_2</td>\n",
       "      <td>2018-06-11</td>\n",
       "      <td>2.85</td>\n",
       "      <td>1000</td>\n",
       "      <td>3</td>\n",
       "    </tr>\n",
       "    <tr>\n",
       "      <td>3</td>\n",
       "      <td>1000_3</td>\n",
       "      <td>2018-09-21</td>\n",
       "      <td>13.80</td>\n",
       "      <td>1000</td>\n",
       "      <td>14</td>\n",
       "    </tr>\n",
       "    <tr>\n",
       "      <td>4</td>\n",
       "      <td>1000_4</td>\n",
       "      <td>2018-12-15</td>\n",
       "      <td>5.18</td>\n",
       "      <td>1000</td>\n",
       "      <td>6</td>\n",
       "    </tr>\n",
       "    <tr>\n",
       "      <td>5</td>\n",
       "      <td>1000_5</td>\n",
       "      <td>2018-11-02</td>\n",
       "      <td>0.00</td>\n",
       "      <td>1000</td>\n",
       "      <td>0</td>\n",
       "    </tr>\n",
       "    <tr>\n",
       "      <td>6</td>\n",
       "      <td>1000_6</td>\n",
       "      <td>2018-10-18</td>\n",
       "      <td>0.00</td>\n",
       "      <td>1000</td>\n",
       "      <td>0</td>\n",
       "    </tr>\n",
       "    <tr>\n",
       "      <td>7</td>\n",
       "      <td>1000_7</td>\n",
       "      <td>2018-08-22</td>\n",
       "      <td>18.31</td>\n",
       "      <td>1000</td>\n",
       "      <td>19</td>\n",
       "    </tr>\n",
       "    <tr>\n",
       "      <td>8</td>\n",
       "      <td>1000_8</td>\n",
       "      <td>2018-09-15</td>\n",
       "      <td>18.44</td>\n",
       "      <td>1000</td>\n",
       "      <td>19</td>\n",
       "    </tr>\n",
       "    <tr>\n",
       "      <td>9</td>\n",
       "      <td>1000_9</td>\n",
       "      <td>2018-08-15</td>\n",
       "      <td>0.00</td>\n",
       "      <td>1000</td>\n",
       "      <td>0</td>\n",
       "    </tr>\n",
       "  </tbody>\n",
       "</table>\n",
       "</div>"
      ],
      "text/plain": [
       "       id   call_date  duration  user_id  duration_min\n",
       "0  1000_0  2018-07-25      0.00     1000             0\n",
       "1  1000_1  2018-08-17      0.00     1000             0\n",
       "2  1000_2  2018-06-11      2.85     1000             3\n",
       "3  1000_3  2018-09-21     13.80     1000            14\n",
       "4  1000_4  2018-12-15      5.18     1000             6\n",
       "5  1000_5  2018-11-02      0.00     1000             0\n",
       "6  1000_6  2018-10-18      0.00     1000             0\n",
       "7  1000_7  2018-08-22     18.31     1000            19\n",
       "8  1000_8  2018-09-15     18.44     1000            19\n",
       "9  1000_9  2018-08-15      0.00     1000             0"
      ]
     },
     "execution_count": 274,
     "metadata": {},
     "output_type": "execute_result"
    }
   ],
   "source": [
    "calls.head(10)"
   ]
  },
  {
   "cell_type": "markdown",
   "metadata": {},
   "source": [
    "Округлили данные в соотвествии с тарификацией оператора Мегалайн."
   ]
  },
  {
   "cell_type": "markdown",
   "metadata": {},
   "source": [
    "В данных о тарификации тарифов исправим Мб на Гб."
   ]
  },
  {
   "cell_type": "code",
   "execution_count": 276,
   "metadata": {},
   "outputs": [
    {
     "data": {
      "text/html": [
       "<div>\n",
       "<style scoped>\n",
       "    .dataframe tbody tr th:only-of-type {\n",
       "        vertical-align: middle;\n",
       "    }\n",
       "\n",
       "    .dataframe tbody tr th {\n",
       "        vertical-align: top;\n",
       "    }\n",
       "\n",
       "    .dataframe thead th {\n",
       "        text-align: right;\n",
       "    }\n",
       "</style>\n",
       "<table border=\"1\" class=\"dataframe\">\n",
       "  <thead>\n",
       "    <tr style=\"text-align: right;\">\n",
       "      <th></th>\n",
       "      <th>messages_included</th>\n",
       "      <th>gb_per_month_included</th>\n",
       "      <th>minutes_included</th>\n",
       "      <th>rub_monthly_fee</th>\n",
       "      <th>rub_per_gb</th>\n",
       "      <th>rub_per_message</th>\n",
       "      <th>rub_per_minute</th>\n",
       "      <th>tariff_name</th>\n",
       "    </tr>\n",
       "  </thead>\n",
       "  <tbody>\n",
       "    <tr>\n",
       "      <td>0</td>\n",
       "      <td>50</td>\n",
       "      <td>15</td>\n",
       "      <td>500</td>\n",
       "      <td>550</td>\n",
       "      <td>200</td>\n",
       "      <td>3</td>\n",
       "      <td>3</td>\n",
       "      <td>smart</td>\n",
       "    </tr>\n",
       "    <tr>\n",
       "      <td>1</td>\n",
       "      <td>1000</td>\n",
       "      <td>30</td>\n",
       "      <td>3000</td>\n",
       "      <td>1950</td>\n",
       "      <td>150</td>\n",
       "      <td>1</td>\n",
       "      <td>1</td>\n",
       "      <td>ultra</td>\n",
       "    </tr>\n",
       "  </tbody>\n",
       "</table>\n",
       "</div>"
      ],
      "text/plain": [
       "   messages_included  gb_per_month_included  minutes_included  \\\n",
       "0                 50                     15               500   \n",
       "1               1000                     30              3000   \n",
       "\n",
       "   rub_monthly_fee  rub_per_gb  rub_per_message  rub_per_minute tariff_name  \n",
       "0              550         200                3               3       smart  \n",
       "1             1950         150                1               1       ultra  "
      ]
     },
     "execution_count": 276,
     "metadata": {},
     "output_type": "execute_result"
    }
   ],
   "source": [
    "tariffs['mb_per_month_included'] = tariffs['mb_per_month_included'] /1024\n",
    "tariffs['mb_per_month_included'] = tariffs['mb_per_month_included'].astype('int')\n",
    "tariffs.rename(columns={'mb_per_month_included':'gb_per_month_included'}, inplace=True)\n",
    "tariffs.head()"
   ]
  },
  {
   "cell_type": "markdown",
   "metadata": {},
   "source": [
    "### Рассчет показателей"
   ]
  },
  {
   "cell_type": "markdown",
   "metadata": {},
   "source": [
    "Рассчитаем показатели на каждого пользователя:\n",
    "* количество сделанных звонков и израсходованных минут разговора по месяцам;\n",
    "* количество отправленных сообщений по месяцам;\n",
    "* объем израсходованного интернет-трафика по месяцам;\n",
    "* помесячную выручку с каждого пользователя (необходимо вычесть бесплатный лимит из суммарного количества звонков, сообщений и интернет-трафика; остаток умножить на значение из тарифного плана; прибавить абонентскую плату, соответствующую тарифному плану)."
   ]
  },
  {
   "cell_type": "code",
   "execution_count": 277,
   "metadata": {},
   "outputs": [],
   "source": [
    "# Изменим тип данных в столбце дата и добавим столбец в данные о месяце звонков, выхода в интернет и тд:\n",
    "messages['message_date'] = pd.to_datetime(messages['message_date'], format = '%Y-%m-%d')\n",
    "messages['month'] = messages['message_date'].dt.month\n",
    "\n",
    "internet['session_date'] = pd.to_datetime(internet['session_date'], format = '%Y-%m-%d')\n",
    "internet['month'] = internet['session_date'].dt.month\n",
    "\n",
    "calls['call_date'] = pd.to_datetime(calls['call_date'], format = '%Y-%m-%d')\n",
    "calls['month'] = calls['call_date'].dt.month"
   ]
  },
  {
   "cell_type": "code",
   "execution_count": 278,
   "metadata": {},
   "outputs": [
    {
     "data": {
      "text/html": [
       "<div>\n",
       "<style scoped>\n",
       "    .dataframe tbody tr th:only-of-type {\n",
       "        vertical-align: middle;\n",
       "    }\n",
       "\n",
       "    .dataframe tbody tr th {\n",
       "        vertical-align: top;\n",
       "    }\n",
       "\n",
       "    .dataframe thead th {\n",
       "        text-align: right;\n",
       "    }\n",
       "</style>\n",
       "<table border=\"1\" class=\"dataframe\">\n",
       "  <thead>\n",
       "    <tr style=\"text-align: right;\">\n",
       "      <th></th>\n",
       "      <th>id</th>\n",
       "      <th>message_date</th>\n",
       "      <th>user_id</th>\n",
       "      <th>month</th>\n",
       "    </tr>\n",
       "  </thead>\n",
       "  <tbody>\n",
       "    <tr>\n",
       "      <td>0</td>\n",
       "      <td>1000_0</td>\n",
       "      <td>2018-06-27</td>\n",
       "      <td>1000</td>\n",
       "      <td>6</td>\n",
       "    </tr>\n",
       "    <tr>\n",
       "      <td>1</td>\n",
       "      <td>1000_1</td>\n",
       "      <td>2018-10-08</td>\n",
       "      <td>1000</td>\n",
       "      <td>10</td>\n",
       "    </tr>\n",
       "    <tr>\n",
       "      <td>2</td>\n",
       "      <td>1000_2</td>\n",
       "      <td>2018-08-04</td>\n",
       "      <td>1000</td>\n",
       "      <td>8</td>\n",
       "    </tr>\n",
       "    <tr>\n",
       "      <td>3</td>\n",
       "      <td>1000_3</td>\n",
       "      <td>2018-06-16</td>\n",
       "      <td>1000</td>\n",
       "      <td>6</td>\n",
       "    </tr>\n",
       "    <tr>\n",
       "      <td>4</td>\n",
       "      <td>1000_4</td>\n",
       "      <td>2018-12-05</td>\n",
       "      <td>1000</td>\n",
       "      <td>12</td>\n",
       "    </tr>\n",
       "    <tr>\n",
       "      <td>5</td>\n",
       "      <td>1000_5</td>\n",
       "      <td>2018-06-20</td>\n",
       "      <td>1000</td>\n",
       "      <td>6</td>\n",
       "    </tr>\n",
       "    <tr>\n",
       "      <td>6</td>\n",
       "      <td>1000_6</td>\n",
       "      <td>2018-11-19</td>\n",
       "      <td>1000</td>\n",
       "      <td>11</td>\n",
       "    </tr>\n",
       "    <tr>\n",
       "      <td>7</td>\n",
       "      <td>1000_7</td>\n",
       "      <td>2018-10-29</td>\n",
       "      <td>1000</td>\n",
       "      <td>10</td>\n",
       "    </tr>\n",
       "    <tr>\n",
       "      <td>8</td>\n",
       "      <td>1000_8</td>\n",
       "      <td>2018-06-25</td>\n",
       "      <td>1000</td>\n",
       "      <td>6</td>\n",
       "    </tr>\n",
       "    <tr>\n",
       "      <td>9</td>\n",
       "      <td>1000_9</td>\n",
       "      <td>2018-12-18</td>\n",
       "      <td>1000</td>\n",
       "      <td>12</td>\n",
       "    </tr>\n",
       "  </tbody>\n",
       "</table>\n",
       "</div>"
      ],
      "text/plain": [
       "       id message_date  user_id  month\n",
       "0  1000_0   2018-06-27     1000      6\n",
       "1  1000_1   2018-10-08     1000     10\n",
       "2  1000_2   2018-08-04     1000      8\n",
       "3  1000_3   2018-06-16     1000      6\n",
       "4  1000_4   2018-12-05     1000     12\n",
       "5  1000_5   2018-06-20     1000      6\n",
       "6  1000_6   2018-11-19     1000     11\n",
       "7  1000_7   2018-10-29     1000     10\n",
       "8  1000_8   2018-06-25     1000      6\n",
       "9  1000_9   2018-12-18     1000     12"
      ]
     },
     "metadata": {},
     "output_type": "display_data"
    },
    {
     "data": {
      "text/html": [
       "<div>\n",
       "<style scoped>\n",
       "    .dataframe tbody tr th:only-of-type {\n",
       "        vertical-align: middle;\n",
       "    }\n",
       "\n",
       "    .dataframe tbody tr th {\n",
       "        vertical-align: top;\n",
       "    }\n",
       "\n",
       "    .dataframe thead th {\n",
       "        text-align: right;\n",
       "    }\n",
       "</style>\n",
       "<table border=\"1\" class=\"dataframe\">\n",
       "  <thead>\n",
       "    <tr style=\"text-align: right;\">\n",
       "      <th></th>\n",
       "      <th>Unnamed: 0</th>\n",
       "      <th>id</th>\n",
       "      <th>mb_used</th>\n",
       "      <th>session_date</th>\n",
       "      <th>user_id</th>\n",
       "      <th>month</th>\n",
       "    </tr>\n",
       "  </thead>\n",
       "  <tbody>\n",
       "    <tr>\n",
       "      <td>0</td>\n",
       "      <td>0</td>\n",
       "      <td>1000_0</td>\n",
       "      <td>112.95</td>\n",
       "      <td>2018-11-25</td>\n",
       "      <td>1000</td>\n",
       "      <td>11</td>\n",
       "    </tr>\n",
       "    <tr>\n",
       "      <td>1</td>\n",
       "      <td>1</td>\n",
       "      <td>1000_1</td>\n",
       "      <td>1,052.81</td>\n",
       "      <td>2018-09-07</td>\n",
       "      <td>1000</td>\n",
       "      <td>9</td>\n",
       "    </tr>\n",
       "    <tr>\n",
       "      <td>2</td>\n",
       "      <td>2</td>\n",
       "      <td>1000_2</td>\n",
       "      <td>1,197.26</td>\n",
       "      <td>2018-06-25</td>\n",
       "      <td>1000</td>\n",
       "      <td>6</td>\n",
       "    </tr>\n",
       "    <tr>\n",
       "      <td>3</td>\n",
       "      <td>3</td>\n",
       "      <td>1000_3</td>\n",
       "      <td>550.27</td>\n",
       "      <td>2018-08-22</td>\n",
       "      <td>1000</td>\n",
       "      <td>8</td>\n",
       "    </tr>\n",
       "    <tr>\n",
       "      <td>4</td>\n",
       "      <td>4</td>\n",
       "      <td>1000_4</td>\n",
       "      <td>302.56</td>\n",
       "      <td>2018-09-24</td>\n",
       "      <td>1000</td>\n",
       "      <td>9</td>\n",
       "    </tr>\n",
       "    <tr>\n",
       "      <td>5</td>\n",
       "      <td>5</td>\n",
       "      <td>1000_5</td>\n",
       "      <td>399.97</td>\n",
       "      <td>2018-10-02</td>\n",
       "      <td>1000</td>\n",
       "      <td>10</td>\n",
       "    </tr>\n",
       "    <tr>\n",
       "      <td>6</td>\n",
       "      <td>6</td>\n",
       "      <td>1000_6</td>\n",
       "      <td>540.08</td>\n",
       "      <td>2018-09-07</td>\n",
       "      <td>1000</td>\n",
       "      <td>9</td>\n",
       "    </tr>\n",
       "    <tr>\n",
       "      <td>7</td>\n",
       "      <td>7</td>\n",
       "      <td>1000_7</td>\n",
       "      <td>415.70</td>\n",
       "      <td>2018-07-11</td>\n",
       "      <td>1000</td>\n",
       "      <td>7</td>\n",
       "    </tr>\n",
       "    <tr>\n",
       "      <td>8</td>\n",
       "      <td>8</td>\n",
       "      <td>1000_8</td>\n",
       "      <td>505.40</td>\n",
       "      <td>2018-10-08</td>\n",
       "      <td>1000</td>\n",
       "      <td>10</td>\n",
       "    </tr>\n",
       "    <tr>\n",
       "      <td>9</td>\n",
       "      <td>9</td>\n",
       "      <td>1000_9</td>\n",
       "      <td>345.54</td>\n",
       "      <td>2018-09-03</td>\n",
       "      <td>1000</td>\n",
       "      <td>9</td>\n",
       "    </tr>\n",
       "  </tbody>\n",
       "</table>\n",
       "</div>"
      ],
      "text/plain": [
       "   Unnamed: 0      id  mb_used session_date  user_id  month\n",
       "0           0  1000_0   112.95   2018-11-25     1000     11\n",
       "1           1  1000_1 1,052.81   2018-09-07     1000      9\n",
       "2           2  1000_2 1,197.26   2018-06-25     1000      6\n",
       "3           3  1000_3   550.27   2018-08-22     1000      8\n",
       "4           4  1000_4   302.56   2018-09-24     1000      9\n",
       "5           5  1000_5   399.97   2018-10-02     1000     10\n",
       "6           6  1000_6   540.08   2018-09-07     1000      9\n",
       "7           7  1000_7   415.70   2018-07-11     1000      7\n",
       "8           8  1000_8   505.40   2018-10-08     1000     10\n",
       "9           9  1000_9   345.54   2018-09-03     1000      9"
      ]
     },
     "metadata": {},
     "output_type": "display_data"
    },
    {
     "data": {
      "text/html": [
       "<div>\n",
       "<style scoped>\n",
       "    .dataframe tbody tr th:only-of-type {\n",
       "        vertical-align: middle;\n",
       "    }\n",
       "\n",
       "    .dataframe tbody tr th {\n",
       "        vertical-align: top;\n",
       "    }\n",
       "\n",
       "    .dataframe thead th {\n",
       "        text-align: right;\n",
       "    }\n",
       "</style>\n",
       "<table border=\"1\" class=\"dataframe\">\n",
       "  <thead>\n",
       "    <tr style=\"text-align: right;\">\n",
       "      <th></th>\n",
       "      <th>id</th>\n",
       "      <th>call_date</th>\n",
       "      <th>duration</th>\n",
       "      <th>user_id</th>\n",
       "      <th>duration_min</th>\n",
       "      <th>month</th>\n",
       "    </tr>\n",
       "  </thead>\n",
       "  <tbody>\n",
       "    <tr>\n",
       "      <td>0</td>\n",
       "      <td>1000_0</td>\n",
       "      <td>2018-07-25</td>\n",
       "      <td>0.00</td>\n",
       "      <td>1000</td>\n",
       "      <td>0</td>\n",
       "      <td>7</td>\n",
       "    </tr>\n",
       "    <tr>\n",
       "      <td>1</td>\n",
       "      <td>1000_1</td>\n",
       "      <td>2018-08-17</td>\n",
       "      <td>0.00</td>\n",
       "      <td>1000</td>\n",
       "      <td>0</td>\n",
       "      <td>8</td>\n",
       "    </tr>\n",
       "    <tr>\n",
       "      <td>2</td>\n",
       "      <td>1000_2</td>\n",
       "      <td>2018-06-11</td>\n",
       "      <td>2.85</td>\n",
       "      <td>1000</td>\n",
       "      <td>3</td>\n",
       "      <td>6</td>\n",
       "    </tr>\n",
       "    <tr>\n",
       "      <td>3</td>\n",
       "      <td>1000_3</td>\n",
       "      <td>2018-09-21</td>\n",
       "      <td>13.80</td>\n",
       "      <td>1000</td>\n",
       "      <td>14</td>\n",
       "      <td>9</td>\n",
       "    </tr>\n",
       "    <tr>\n",
       "      <td>4</td>\n",
       "      <td>1000_4</td>\n",
       "      <td>2018-12-15</td>\n",
       "      <td>5.18</td>\n",
       "      <td>1000</td>\n",
       "      <td>6</td>\n",
       "      <td>12</td>\n",
       "    </tr>\n",
       "    <tr>\n",
       "      <td>5</td>\n",
       "      <td>1000_5</td>\n",
       "      <td>2018-11-02</td>\n",
       "      <td>0.00</td>\n",
       "      <td>1000</td>\n",
       "      <td>0</td>\n",
       "      <td>11</td>\n",
       "    </tr>\n",
       "    <tr>\n",
       "      <td>6</td>\n",
       "      <td>1000_6</td>\n",
       "      <td>2018-10-18</td>\n",
       "      <td>0.00</td>\n",
       "      <td>1000</td>\n",
       "      <td>0</td>\n",
       "      <td>10</td>\n",
       "    </tr>\n",
       "    <tr>\n",
       "      <td>7</td>\n",
       "      <td>1000_7</td>\n",
       "      <td>2018-08-22</td>\n",
       "      <td>18.31</td>\n",
       "      <td>1000</td>\n",
       "      <td>19</td>\n",
       "      <td>8</td>\n",
       "    </tr>\n",
       "    <tr>\n",
       "      <td>8</td>\n",
       "      <td>1000_8</td>\n",
       "      <td>2018-09-15</td>\n",
       "      <td>18.44</td>\n",
       "      <td>1000</td>\n",
       "      <td>19</td>\n",
       "      <td>9</td>\n",
       "    </tr>\n",
       "    <tr>\n",
       "      <td>9</td>\n",
       "      <td>1000_9</td>\n",
       "      <td>2018-08-15</td>\n",
       "      <td>0.00</td>\n",
       "      <td>1000</td>\n",
       "      <td>0</td>\n",
       "      <td>8</td>\n",
       "    </tr>\n",
       "  </tbody>\n",
       "</table>\n",
       "</div>"
      ],
      "text/plain": [
       "       id  call_date  duration  user_id  duration_min  month\n",
       "0  1000_0 2018-07-25      0.00     1000             0      7\n",
       "1  1000_1 2018-08-17      0.00     1000             0      8\n",
       "2  1000_2 2018-06-11      2.85     1000             3      6\n",
       "3  1000_3 2018-09-21     13.80     1000            14      9\n",
       "4  1000_4 2018-12-15      5.18     1000             6     12\n",
       "5  1000_5 2018-11-02      0.00     1000             0     11\n",
       "6  1000_6 2018-10-18      0.00     1000             0     10\n",
       "7  1000_7 2018-08-22     18.31     1000            19      8\n",
       "8  1000_8 2018-09-15     18.44     1000            19      9\n",
       "9  1000_9 2018-08-15      0.00     1000             0      8"
      ]
     },
     "metadata": {},
     "output_type": "display_data"
    }
   ],
   "source": [
    "tables = [messages, internet, calls]\n",
    "\n",
    "for i in tables:\n",
    "    display(i.head(10))"
   ]
  },
  {
   "cell_type": "markdown",
   "metadata": {},
   "source": [
    "Теперь можно рассчитать необходимые показатели."
   ]
  },
  {
   "cell_type": "code",
   "execution_count": 279,
   "metadata": {},
   "outputs": [
    {
     "data": {
      "text/html": [
       "<div>\n",
       "<style scoped>\n",
       "    .dataframe tbody tr th:only-of-type {\n",
       "        vertical-align: middle;\n",
       "    }\n",
       "\n",
       "    .dataframe tbody tr th {\n",
       "        vertical-align: top;\n",
       "    }\n",
       "\n",
       "    .dataframe thead th {\n",
       "        text-align: right;\n",
       "    }\n",
       "</style>\n",
       "<table border=\"1\" class=\"dataframe\">\n",
       "  <thead>\n",
       "    <tr style=\"text-align: right;\">\n",
       "      <th></th>\n",
       "      <th>user_id</th>\n",
       "      <th>month</th>\n",
       "      <th>calls_number</th>\n",
       "    </tr>\n",
       "  </thead>\n",
       "  <tbody>\n",
       "    <tr>\n",
       "      <td>0</td>\n",
       "      <td>1000</td>\n",
       "      <td>5</td>\n",
       "      <td>22</td>\n",
       "    </tr>\n",
       "    <tr>\n",
       "      <td>1</td>\n",
       "      <td>1000</td>\n",
       "      <td>6</td>\n",
       "      <td>43</td>\n",
       "    </tr>\n",
       "    <tr>\n",
       "      <td>2</td>\n",
       "      <td>1000</td>\n",
       "      <td>7</td>\n",
       "      <td>47</td>\n",
       "    </tr>\n",
       "    <tr>\n",
       "      <td>3</td>\n",
       "      <td>1000</td>\n",
       "      <td>8</td>\n",
       "      <td>52</td>\n",
       "    </tr>\n",
       "    <tr>\n",
       "      <td>4</td>\n",
       "      <td>1000</td>\n",
       "      <td>9</td>\n",
       "      <td>58</td>\n",
       "    </tr>\n",
       "    <tr>\n",
       "      <td>...</td>\n",
       "      <td>...</td>\n",
       "      <td>...</td>\n",
       "      <td>...</td>\n",
       "    </tr>\n",
       "    <tr>\n",
       "      <td>3169</td>\n",
       "      <td>1498</td>\n",
       "      <td>10</td>\n",
       "      <td>41</td>\n",
       "    </tr>\n",
       "    <tr>\n",
       "      <td>3170</td>\n",
       "      <td>1499</td>\n",
       "      <td>9</td>\n",
       "      <td>9</td>\n",
       "    </tr>\n",
       "    <tr>\n",
       "      <td>3171</td>\n",
       "      <td>1499</td>\n",
       "      <td>10</td>\n",
       "      <td>68</td>\n",
       "    </tr>\n",
       "    <tr>\n",
       "      <td>3172</td>\n",
       "      <td>1499</td>\n",
       "      <td>11</td>\n",
       "      <td>74</td>\n",
       "    </tr>\n",
       "    <tr>\n",
       "      <td>3173</td>\n",
       "      <td>1499</td>\n",
       "      <td>12</td>\n",
       "      <td>69</td>\n",
       "    </tr>\n",
       "  </tbody>\n",
       "</table>\n",
       "<p>3174 rows × 3 columns</p>\n",
       "</div>"
      ],
      "text/plain": [
       "      user_id  month  calls_number\n",
       "0        1000      5            22\n",
       "1        1000      6            43\n",
       "2        1000      7            47\n",
       "3        1000      8            52\n",
       "4        1000      9            58\n",
       "...       ...    ...           ...\n",
       "3169     1498     10            41\n",
       "3170     1499      9             9\n",
       "3171     1499     10            68\n",
       "3172     1499     11            74\n",
       "3173     1499     12            69\n",
       "\n",
       "[3174 rows x 3 columns]"
      ]
     },
     "metadata": {},
     "output_type": "display_data"
    },
    {
     "data": {
      "text/html": [
       "<div>\n",
       "<style scoped>\n",
       "    .dataframe tbody tr th:only-of-type {\n",
       "        vertical-align: middle;\n",
       "    }\n",
       "\n",
       "    .dataframe tbody tr th {\n",
       "        vertical-align: top;\n",
       "    }\n",
       "\n",
       "    .dataframe thead th {\n",
       "        text-align: right;\n",
       "    }\n",
       "</style>\n",
       "<table border=\"1\" class=\"dataframe\">\n",
       "  <thead>\n",
       "    <tr style=\"text-align: right;\">\n",
       "      <th></th>\n",
       "      <th>user_id</th>\n",
       "      <th>month</th>\n",
       "      <th>calls_volume</th>\n",
       "    </tr>\n",
       "  </thead>\n",
       "  <tbody>\n",
       "    <tr>\n",
       "      <td>0</td>\n",
       "      <td>1000</td>\n",
       "      <td>5</td>\n",
       "      <td>159</td>\n",
       "    </tr>\n",
       "    <tr>\n",
       "      <td>1</td>\n",
       "      <td>1000</td>\n",
       "      <td>6</td>\n",
       "      <td>172</td>\n",
       "    </tr>\n",
       "    <tr>\n",
       "      <td>2</td>\n",
       "      <td>1000</td>\n",
       "      <td>7</td>\n",
       "      <td>340</td>\n",
       "    </tr>\n",
       "    <tr>\n",
       "      <td>3</td>\n",
       "      <td>1000</td>\n",
       "      <td>8</td>\n",
       "      <td>408</td>\n",
       "    </tr>\n",
       "    <tr>\n",
       "      <td>4</td>\n",
       "      <td>1000</td>\n",
       "      <td>9</td>\n",
       "      <td>466</td>\n",
       "    </tr>\n",
       "    <tr>\n",
       "      <td>...</td>\n",
       "      <td>...</td>\n",
       "      <td>...</td>\n",
       "      <td>...</td>\n",
       "    </tr>\n",
       "    <tr>\n",
       "      <td>3169</td>\n",
       "      <td>1498</td>\n",
       "      <td>10</td>\n",
       "      <td>247</td>\n",
       "    </tr>\n",
       "    <tr>\n",
       "      <td>3170</td>\n",
       "      <td>1499</td>\n",
       "      <td>9</td>\n",
       "      <td>70</td>\n",
       "    </tr>\n",
       "    <tr>\n",
       "      <td>3171</td>\n",
       "      <td>1499</td>\n",
       "      <td>10</td>\n",
       "      <td>449</td>\n",
       "    </tr>\n",
       "    <tr>\n",
       "      <td>3172</td>\n",
       "      <td>1499</td>\n",
       "      <td>11</td>\n",
       "      <td>612</td>\n",
       "    </tr>\n",
       "    <tr>\n",
       "      <td>3173</td>\n",
       "      <td>1499</td>\n",
       "      <td>12</td>\n",
       "      <td>492</td>\n",
       "    </tr>\n",
       "  </tbody>\n",
       "</table>\n",
       "<p>3174 rows × 3 columns</p>\n",
       "</div>"
      ],
      "text/plain": [
       "      user_id  month  calls_volume\n",
       "0        1000      5           159\n",
       "1        1000      6           172\n",
       "2        1000      7           340\n",
       "3        1000      8           408\n",
       "4        1000      9           466\n",
       "...       ...    ...           ...\n",
       "3169     1498     10           247\n",
       "3170     1499      9            70\n",
       "3171     1499     10           449\n",
       "3172     1499     11           612\n",
       "3173     1499     12           492\n",
       "\n",
       "[3174 rows x 3 columns]"
      ]
     },
     "execution_count": 279,
     "metadata": {},
     "output_type": "execute_result"
    }
   ],
   "source": [
    "# Рассчитаем количество сделанных звонков и израсходованных минут разговора по месяцам:\n",
    "calls_number = calls.pivot_table(index=['user_id', 'month'], values='duration_min', aggfunc='count').reset_index()\n",
    "calls_volume = calls.pivot_table(index=['user_id', 'month'], values='duration_min', aggfunc='sum').reset_index()\n",
    "calls_number.rename(columns={'duration_min':'calls_number'}, inplace=True)\n",
    "calls_volume.rename(columns={'duration_min':'calls_volume'}, inplace=True)\n",
    "display(calls_number)\n",
    "calls_volume"
   ]
  },
  {
   "cell_type": "code",
   "execution_count": 280,
   "metadata": {
    "scrolled": false
   },
   "outputs": [
    {
     "data": {
      "text/html": [
       "<div>\n",
       "<style scoped>\n",
       "    .dataframe tbody tr th:only-of-type {\n",
       "        vertical-align: middle;\n",
       "    }\n",
       "\n",
       "    .dataframe tbody tr th {\n",
       "        vertical-align: top;\n",
       "    }\n",
       "\n",
       "    .dataframe thead th {\n",
       "        text-align: right;\n",
       "    }\n",
       "</style>\n",
       "<table border=\"1\" class=\"dataframe\">\n",
       "  <thead>\n",
       "    <tr style=\"text-align: right;\">\n",
       "      <th></th>\n",
       "      <th>user_id</th>\n",
       "      <th>month</th>\n",
       "      <th>messages_number</th>\n",
       "    </tr>\n",
       "  </thead>\n",
       "  <tbody>\n",
       "    <tr>\n",
       "      <td>0</td>\n",
       "      <td>1000</td>\n",
       "      <td>5</td>\n",
       "      <td>22</td>\n",
       "    </tr>\n",
       "    <tr>\n",
       "      <td>1</td>\n",
       "      <td>1000</td>\n",
       "      <td>6</td>\n",
       "      <td>60</td>\n",
       "    </tr>\n",
       "    <tr>\n",
       "      <td>2</td>\n",
       "      <td>1000</td>\n",
       "      <td>7</td>\n",
       "      <td>75</td>\n",
       "    </tr>\n",
       "    <tr>\n",
       "      <td>3</td>\n",
       "      <td>1000</td>\n",
       "      <td>8</td>\n",
       "      <td>81</td>\n",
       "    </tr>\n",
       "    <tr>\n",
       "      <td>4</td>\n",
       "      <td>1000</td>\n",
       "      <td>9</td>\n",
       "      <td>57</td>\n",
       "    </tr>\n",
       "    <tr>\n",
       "      <td>...</td>\n",
       "      <td>...</td>\n",
       "      <td>...</td>\n",
       "      <td>...</td>\n",
       "    </tr>\n",
       "    <tr>\n",
       "      <td>2712</td>\n",
       "      <td>1498</td>\n",
       "      <td>10</td>\n",
       "      <td>42</td>\n",
       "    </tr>\n",
       "    <tr>\n",
       "      <td>2713</td>\n",
       "      <td>1499</td>\n",
       "      <td>9</td>\n",
       "      <td>11</td>\n",
       "    </tr>\n",
       "    <tr>\n",
       "      <td>2714</td>\n",
       "      <td>1499</td>\n",
       "      <td>10</td>\n",
       "      <td>48</td>\n",
       "    </tr>\n",
       "    <tr>\n",
       "      <td>2715</td>\n",
       "      <td>1499</td>\n",
       "      <td>11</td>\n",
       "      <td>59</td>\n",
       "    </tr>\n",
       "    <tr>\n",
       "      <td>2716</td>\n",
       "      <td>1499</td>\n",
       "      <td>12</td>\n",
       "      <td>66</td>\n",
       "    </tr>\n",
       "  </tbody>\n",
       "</table>\n",
       "<p>2717 rows × 3 columns</p>\n",
       "</div>"
      ],
      "text/plain": [
       "      user_id  month  messages_number\n",
       "0        1000      5               22\n",
       "1        1000      6               60\n",
       "2        1000      7               75\n",
       "3        1000      8               81\n",
       "4        1000      9               57\n",
       "...       ...    ...              ...\n",
       "2712     1498     10               42\n",
       "2713     1499      9               11\n",
       "2714     1499     10               48\n",
       "2715     1499     11               59\n",
       "2716     1499     12               66\n",
       "\n",
       "[2717 rows x 3 columns]"
      ]
     },
     "execution_count": 280,
     "metadata": {},
     "output_type": "execute_result"
    }
   ],
   "source": [
    "# Рассчитаем количество отправленных сообщений по месяцам:\n",
    "messages_number = messages.pivot_table(index=['user_id', 'month'], values='id', aggfunc='count').reset_index()\n",
    "messages_number.rename(columns={'id':'messages_number'}, inplace=True)\n",
    "messages_number"
   ]
  },
  {
   "cell_type": "code",
   "execution_count": 281,
   "metadata": {},
   "outputs": [
    {
     "data": {
      "text/html": [
       "<div>\n",
       "<style scoped>\n",
       "    .dataframe tbody tr th:only-of-type {\n",
       "        vertical-align: middle;\n",
       "    }\n",
       "\n",
       "    .dataframe tbody tr th {\n",
       "        vertical-align: top;\n",
       "    }\n",
       "\n",
       "    .dataframe thead th {\n",
       "        text-align: right;\n",
       "    }\n",
       "</style>\n",
       "<table border=\"1\" class=\"dataframe\">\n",
       "  <thead>\n",
       "    <tr style=\"text-align: right;\">\n",
       "      <th></th>\n",
       "      <th>user_id</th>\n",
       "      <th>month</th>\n",
       "      <th>gb_used</th>\n",
       "    </tr>\n",
       "  </thead>\n",
       "  <tbody>\n",
       "    <tr>\n",
       "      <td>0</td>\n",
       "      <td>1000</td>\n",
       "      <td>5</td>\n",
       "      <td>2,253.49</td>\n",
       "    </tr>\n",
       "    <tr>\n",
       "      <td>1</td>\n",
       "      <td>1000</td>\n",
       "      <td>6</td>\n",
       "      <td>23,233.77</td>\n",
       "    </tr>\n",
       "    <tr>\n",
       "      <td>2</td>\n",
       "      <td>1000</td>\n",
       "      <td>7</td>\n",
       "      <td>14,003.64</td>\n",
       "    </tr>\n",
       "    <tr>\n",
       "      <td>3</td>\n",
       "      <td>1000</td>\n",
       "      <td>8</td>\n",
       "      <td>14,055.93</td>\n",
       "    </tr>\n",
       "    <tr>\n",
       "      <td>4</td>\n",
       "      <td>1000</td>\n",
       "      <td>9</td>\n",
       "      <td>14,568.91</td>\n",
       "    </tr>\n",
       "    <tr>\n",
       "      <td>...</td>\n",
       "      <td>...</td>\n",
       "      <td>...</td>\n",
       "      <td>...</td>\n",
       "    </tr>\n",
       "    <tr>\n",
       "      <td>3198</td>\n",
       "      <td>1498</td>\n",
       "      <td>10</td>\n",
       "      <td>20,579.36</td>\n",
       "    </tr>\n",
       "    <tr>\n",
       "      <td>3199</td>\n",
       "      <td>1499</td>\n",
       "      <td>9</td>\n",
       "      <td>1,845.75</td>\n",
       "    </tr>\n",
       "    <tr>\n",
       "      <td>3200</td>\n",
       "      <td>1499</td>\n",
       "      <td>10</td>\n",
       "      <td>17,788.51</td>\n",
       "    </tr>\n",
       "    <tr>\n",
       "      <td>3201</td>\n",
       "      <td>1499</td>\n",
       "      <td>11</td>\n",
       "      <td>17,963.31</td>\n",
       "    </tr>\n",
       "    <tr>\n",
       "      <td>3202</td>\n",
       "      <td>1499</td>\n",
       "      <td>12</td>\n",
       "      <td>13,055.58</td>\n",
       "    </tr>\n",
       "  </tbody>\n",
       "</table>\n",
       "<p>3203 rows × 3 columns</p>\n",
       "</div>"
      ],
      "text/plain": [
       "      user_id  month   gb_used\n",
       "0        1000      5  2,253.49\n",
       "1        1000      6 23,233.77\n",
       "2        1000      7 14,003.64\n",
       "3        1000      8 14,055.93\n",
       "4        1000      9 14,568.91\n",
       "...       ...    ...       ...\n",
       "3198     1498     10 20,579.36\n",
       "3199     1499      9  1,845.75\n",
       "3200     1499     10 17,788.51\n",
       "3201     1499     11 17,963.31\n",
       "3202     1499     12 13,055.58\n",
       "\n",
       "[3203 rows x 3 columns]"
      ]
     },
     "execution_count": 281,
     "metadata": {},
     "output_type": "execute_result"
    }
   ],
   "source": [
    "# Рассчитаем объем израсходованного интернет-трафика по месяцам:\n",
    "internet_volume = internet.pivot_table(index=['user_id','month'], values='mb_used', aggfunc='sum').reset_index()\n",
    "internet_volume.rename(columns={'mb_used':'gb_used'}, inplace=True)\n",
    "internet_volume"
   ]
  },
  {
   "cell_type": "code",
   "execution_count": 282,
   "metadata": {},
   "outputs": [],
   "source": [
    "# Округлим использование интернета - Mb до 1 Gb:\n",
    "internet_volume['gb_used'] = internet_volume['gb_used'] /1024\n",
    "internet_volume['gb_used'] = internet_volume['gb_used'].apply(math.ceil)"
   ]
  },
  {
   "cell_type": "code",
   "execution_count": 283,
   "metadata": {
    "scrolled": false
   },
   "outputs": [
    {
     "data": {
      "text/html": [
       "<div>\n",
       "<style scoped>\n",
       "    .dataframe tbody tr th:only-of-type {\n",
       "        vertical-align: middle;\n",
       "    }\n",
       "\n",
       "    .dataframe tbody tr th {\n",
       "        vertical-align: top;\n",
       "    }\n",
       "\n",
       "    .dataframe thead th {\n",
       "        text-align: right;\n",
       "    }\n",
       "</style>\n",
       "<table border=\"1\" class=\"dataframe\">\n",
       "  <thead>\n",
       "    <tr style=\"text-align: right;\">\n",
       "      <th></th>\n",
       "      <th>user_id</th>\n",
       "      <th>month</th>\n",
       "      <th>calls_number</th>\n",
       "      <th>calls_volume</th>\n",
       "      <th>messages_number</th>\n",
       "      <th>gb_used</th>\n",
       "      <th>tariff</th>\n",
       "      <th>city</th>\n",
       "    </tr>\n",
       "  </thead>\n",
       "  <tbody>\n",
       "    <tr>\n",
       "      <td>0</td>\n",
       "      <td>1000</td>\n",
       "      <td>5.00</td>\n",
       "      <td>22.00</td>\n",
       "      <td>159.00</td>\n",
       "      <td>22.00</td>\n",
       "      <td>3.00</td>\n",
       "      <td>ultra</td>\n",
       "      <td>Краснодар</td>\n",
       "    </tr>\n",
       "    <tr>\n",
       "      <td>1</td>\n",
       "      <td>1000</td>\n",
       "      <td>6.00</td>\n",
       "      <td>43.00</td>\n",
       "      <td>172.00</td>\n",
       "      <td>60.00</td>\n",
       "      <td>23.00</td>\n",
       "      <td>ultra</td>\n",
       "      <td>Краснодар</td>\n",
       "    </tr>\n",
       "    <tr>\n",
       "      <td>2</td>\n",
       "      <td>1000</td>\n",
       "      <td>7.00</td>\n",
       "      <td>47.00</td>\n",
       "      <td>340.00</td>\n",
       "      <td>75.00</td>\n",
       "      <td>14.00</td>\n",
       "      <td>ultra</td>\n",
       "      <td>Краснодар</td>\n",
       "    </tr>\n",
       "    <tr>\n",
       "      <td>3</td>\n",
       "      <td>1000</td>\n",
       "      <td>8.00</td>\n",
       "      <td>52.00</td>\n",
       "      <td>408.00</td>\n",
       "      <td>81.00</td>\n",
       "      <td>14.00</td>\n",
       "      <td>ultra</td>\n",
       "      <td>Краснодар</td>\n",
       "    </tr>\n",
       "    <tr>\n",
       "      <td>4</td>\n",
       "      <td>1000</td>\n",
       "      <td>9.00</td>\n",
       "      <td>58.00</td>\n",
       "      <td>466.00</td>\n",
       "      <td>57.00</td>\n",
       "      <td>15.00</td>\n",
       "      <td>ultra</td>\n",
       "      <td>Краснодар</td>\n",
       "    </tr>\n",
       "    <tr>\n",
       "      <td>...</td>\n",
       "      <td>...</td>\n",
       "      <td>...</td>\n",
       "      <td>...</td>\n",
       "      <td>...</td>\n",
       "      <td>...</td>\n",
       "      <td>...</td>\n",
       "      <td>...</td>\n",
       "      <td>...</td>\n",
       "    </tr>\n",
       "    <tr>\n",
       "      <td>3211</td>\n",
       "      <td>1489</td>\n",
       "      <td>10.00</td>\n",
       "      <td>nan</td>\n",
       "      <td>nan</td>\n",
       "      <td>21.00</td>\n",
       "      <td>20.00</td>\n",
       "      <td>smart</td>\n",
       "      <td>Санкт-Петербург</td>\n",
       "    </tr>\n",
       "    <tr>\n",
       "      <td>3212</td>\n",
       "      <td>1489</td>\n",
       "      <td>11.00</td>\n",
       "      <td>nan</td>\n",
       "      <td>nan</td>\n",
       "      <td>20.00</td>\n",
       "      <td>18.00</td>\n",
       "      <td>smart</td>\n",
       "      <td>Санкт-Петербург</td>\n",
       "    </tr>\n",
       "    <tr>\n",
       "      <td>3213</td>\n",
       "      <td>1489</td>\n",
       "      <td>12.00</td>\n",
       "      <td>nan</td>\n",
       "      <td>nan</td>\n",
       "      <td>35.00</td>\n",
       "      <td>17.00</td>\n",
       "      <td>smart</td>\n",
       "      <td>Санкт-Петербург</td>\n",
       "    </tr>\n",
       "    <tr>\n",
       "      <td>3214</td>\n",
       "      <td>1128</td>\n",
       "      <td>nan</td>\n",
       "      <td>nan</td>\n",
       "      <td>nan</td>\n",
       "      <td>nan</td>\n",
       "      <td>nan</td>\n",
       "      <td>ultra</td>\n",
       "      <td>Волжский</td>\n",
       "    </tr>\n",
       "    <tr>\n",
       "      <td>3215</td>\n",
       "      <td>1371</td>\n",
       "      <td>nan</td>\n",
       "      <td>nan</td>\n",
       "      <td>nan</td>\n",
       "      <td>nan</td>\n",
       "      <td>nan</td>\n",
       "      <td>smart</td>\n",
       "      <td>Омск</td>\n",
       "    </tr>\n",
       "  </tbody>\n",
       "</table>\n",
       "<p>3216 rows × 8 columns</p>\n",
       "</div>"
      ],
      "text/plain": [
       "      user_id  month  calls_number  calls_volume  messages_number  gb_used  \\\n",
       "0        1000   5.00         22.00        159.00            22.00     3.00   \n",
       "1        1000   6.00         43.00        172.00            60.00    23.00   \n",
       "2        1000   7.00         47.00        340.00            75.00    14.00   \n",
       "3        1000   8.00         52.00        408.00            81.00    14.00   \n",
       "4        1000   9.00         58.00        466.00            57.00    15.00   \n",
       "...       ...    ...           ...           ...              ...      ...   \n",
       "3211     1489  10.00           nan           nan            21.00    20.00   \n",
       "3212     1489  11.00           nan           nan            20.00    18.00   \n",
       "3213     1489  12.00           nan           nan            35.00    17.00   \n",
       "3214     1128    nan           nan           nan              nan      nan   \n",
       "3215     1371    nan           nan           nan              nan      nan   \n",
       "\n",
       "     tariff             city  \n",
       "0     ultra        Краснодар  \n",
       "1     ultra        Краснодар  \n",
       "2     ultra        Краснодар  \n",
       "3     ultra        Краснодар  \n",
       "4     ultra        Краснодар  \n",
       "...     ...              ...  \n",
       "3211  smart  Санкт-Петербург  \n",
       "3212  smart  Санкт-Петербург  \n",
       "3213  smart  Санкт-Петербург  \n",
       "3214  ultra         Волжский  \n",
       "3215  smart             Омск  \n",
       "\n",
       "[3216 rows x 8 columns]"
      ]
     },
     "execution_count": 283,
     "metadata": {},
     "output_type": "execute_result"
    }
   ],
   "source": [
    "# Соберем таблицу в единое целое:\n",
    "tables = [calls_volume, messages_number, internet_volume]\n",
    "main_pivot = calls_number.merge(calls_volume, on=['user_id','month'], how='outer')\n",
    "main_pivot = main_pivot.merge(messages_number, on=['user_id','month'], how='outer')\n",
    "main_pivot = main_pivot.merge(internet_volume, on=['user_id','month'], how='outer')\n",
    "main_pivot = main_pivot.merge(users[['user_id', 'tariff', 'city']], on='user_id', how='outer')\n",
    "main_pivot"
   ]
  },
  {
   "cell_type": "code",
   "execution_count": 284,
   "metadata": {},
   "outputs": [
    {
     "data": {
      "text/html": [
       "<div>\n",
       "<style scoped>\n",
       "    .dataframe tbody tr th:only-of-type {\n",
       "        vertical-align: middle;\n",
       "    }\n",
       "\n",
       "    .dataframe tbody tr th {\n",
       "        vertical-align: top;\n",
       "    }\n",
       "\n",
       "    .dataframe thead th {\n",
       "        text-align: right;\n",
       "    }\n",
       "</style>\n",
       "<table border=\"1\" class=\"dataframe\">\n",
       "  <thead>\n",
       "    <tr style=\"text-align: right;\">\n",
       "      <th></th>\n",
       "      <th>messages_included</th>\n",
       "      <th>gb_per_month_included</th>\n",
       "      <th>minutes_included</th>\n",
       "      <th>rub_monthly_fee</th>\n",
       "      <th>rub_per_gb</th>\n",
       "      <th>rub_per_message</th>\n",
       "      <th>rub_per_minute</th>\n",
       "      <th>tariff_name</th>\n",
       "    </tr>\n",
       "  </thead>\n",
       "  <tbody>\n",
       "    <tr>\n",
       "      <td>0</td>\n",
       "      <td>50</td>\n",
       "      <td>15</td>\n",
       "      <td>500</td>\n",
       "      <td>550</td>\n",
       "      <td>200</td>\n",
       "      <td>3</td>\n",
       "      <td>3</td>\n",
       "      <td>smart</td>\n",
       "    </tr>\n",
       "    <tr>\n",
       "      <td>1</td>\n",
       "      <td>1000</td>\n",
       "      <td>30</td>\n",
       "      <td>3000</td>\n",
       "      <td>1950</td>\n",
       "      <td>150</td>\n",
       "      <td>1</td>\n",
       "      <td>1</td>\n",
       "      <td>ultra</td>\n",
       "    </tr>\n",
       "  </tbody>\n",
       "</table>\n",
       "</div>"
      ],
      "text/plain": [
       "   messages_included  gb_per_month_included  minutes_included  \\\n",
       "0                 50                     15               500   \n",
       "1               1000                     30              3000   \n",
       "\n",
       "   rub_monthly_fee  rub_per_gb  rub_per_message  rub_per_minute tariff_name  \n",
       "0              550         200                3               3       smart  \n",
       "1             1950         150                1               1       ultra  "
      ]
     },
     "execution_count": 284,
     "metadata": {},
     "output_type": "execute_result"
    }
   ],
   "source": [
    "# Теперь рассчитаем выручку, выведем тарифы для наглядности:\n",
    "tariffs.head()"
   ]
  },
  {
   "cell_type": "code",
   "execution_count": 285,
   "metadata": {},
   "outputs": [
    {
     "data": {
      "text/html": [
       "<div>\n",
       "<style scoped>\n",
       "    .dataframe tbody tr th:only-of-type {\n",
       "        vertical-align: middle;\n",
       "    }\n",
       "\n",
       "    .dataframe tbody tr th {\n",
       "        vertical-align: top;\n",
       "    }\n",
       "\n",
       "    .dataframe thead th {\n",
       "        text-align: right;\n",
       "    }\n",
       "</style>\n",
       "<table border=\"1\" class=\"dataframe\">\n",
       "  <thead>\n",
       "    <tr style=\"text-align: right;\">\n",
       "      <th></th>\n",
       "      <th>user_id</th>\n",
       "      <th>month</th>\n",
       "      <th>calls_number</th>\n",
       "      <th>calls_volume</th>\n",
       "      <th>messages_number</th>\n",
       "      <th>gb_used</th>\n",
       "      <th>tariff</th>\n",
       "      <th>city</th>\n",
       "      <th>revenue</th>\n",
       "    </tr>\n",
       "  </thead>\n",
       "  <tbody>\n",
       "    <tr>\n",
       "      <td>0</td>\n",
       "      <td>1000</td>\n",
       "      <td>5.00</td>\n",
       "      <td>22.00</td>\n",
       "      <td>159.00</td>\n",
       "      <td>22.00</td>\n",
       "      <td>3.00</td>\n",
       "      <td>ultra</td>\n",
       "      <td>Краснодар</td>\n",
       "      <td>1,950.00</td>\n",
       "    </tr>\n",
       "    <tr>\n",
       "      <td>1</td>\n",
       "      <td>1000</td>\n",
       "      <td>6.00</td>\n",
       "      <td>43.00</td>\n",
       "      <td>172.00</td>\n",
       "      <td>60.00</td>\n",
       "      <td>23.00</td>\n",
       "      <td>ultra</td>\n",
       "      <td>Краснодар</td>\n",
       "      <td>1,950.00</td>\n",
       "    </tr>\n",
       "    <tr>\n",
       "      <td>2</td>\n",
       "      <td>1000</td>\n",
       "      <td>7.00</td>\n",
       "      <td>47.00</td>\n",
       "      <td>340.00</td>\n",
       "      <td>75.00</td>\n",
       "      <td>14.00</td>\n",
       "      <td>ultra</td>\n",
       "      <td>Краснодар</td>\n",
       "      <td>1,950.00</td>\n",
       "    </tr>\n",
       "    <tr>\n",
       "      <td>3</td>\n",
       "      <td>1000</td>\n",
       "      <td>8.00</td>\n",
       "      <td>52.00</td>\n",
       "      <td>408.00</td>\n",
       "      <td>81.00</td>\n",
       "      <td>14.00</td>\n",
       "      <td>ultra</td>\n",
       "      <td>Краснодар</td>\n",
       "      <td>1,950.00</td>\n",
       "    </tr>\n",
       "    <tr>\n",
       "      <td>4</td>\n",
       "      <td>1000</td>\n",
       "      <td>9.00</td>\n",
       "      <td>58.00</td>\n",
       "      <td>466.00</td>\n",
       "      <td>57.00</td>\n",
       "      <td>15.00</td>\n",
       "      <td>ultra</td>\n",
       "      <td>Краснодар</td>\n",
       "      <td>1,950.00</td>\n",
       "    </tr>\n",
       "    <tr>\n",
       "      <td>...</td>\n",
       "      <td>...</td>\n",
       "      <td>...</td>\n",
       "      <td>...</td>\n",
       "      <td>...</td>\n",
       "      <td>...</td>\n",
       "      <td>...</td>\n",
       "      <td>...</td>\n",
       "      <td>...</td>\n",
       "      <td>...</td>\n",
       "    </tr>\n",
       "    <tr>\n",
       "      <td>3211</td>\n",
       "      <td>1489</td>\n",
       "      <td>10.00</td>\n",
       "      <td>0.00</td>\n",
       "      <td>0.00</td>\n",
       "      <td>21.00</td>\n",
       "      <td>20.00</td>\n",
       "      <td>smart</td>\n",
       "      <td>Санкт-Петербург</td>\n",
       "      <td>1,550.00</td>\n",
       "    </tr>\n",
       "    <tr>\n",
       "      <td>3212</td>\n",
       "      <td>1489</td>\n",
       "      <td>11.00</td>\n",
       "      <td>0.00</td>\n",
       "      <td>0.00</td>\n",
       "      <td>20.00</td>\n",
       "      <td>18.00</td>\n",
       "      <td>smart</td>\n",
       "      <td>Санкт-Петербург</td>\n",
       "      <td>1,150.00</td>\n",
       "    </tr>\n",
       "    <tr>\n",
       "      <td>3213</td>\n",
       "      <td>1489</td>\n",
       "      <td>12.00</td>\n",
       "      <td>0.00</td>\n",
       "      <td>0.00</td>\n",
       "      <td>35.00</td>\n",
       "      <td>17.00</td>\n",
       "      <td>smart</td>\n",
       "      <td>Санкт-Петербург</td>\n",
       "      <td>950.00</td>\n",
       "    </tr>\n",
       "    <tr>\n",
       "      <td>3214</td>\n",
       "      <td>1128</td>\n",
       "      <td>0.00</td>\n",
       "      <td>0.00</td>\n",
       "      <td>0.00</td>\n",
       "      <td>0.00</td>\n",
       "      <td>0.00</td>\n",
       "      <td>ultra</td>\n",
       "      <td>Волжский</td>\n",
       "      <td>1,950.00</td>\n",
       "    </tr>\n",
       "    <tr>\n",
       "      <td>3215</td>\n",
       "      <td>1371</td>\n",
       "      <td>0.00</td>\n",
       "      <td>0.00</td>\n",
       "      <td>0.00</td>\n",
       "      <td>0.00</td>\n",
       "      <td>0.00</td>\n",
       "      <td>smart</td>\n",
       "      <td>Омск</td>\n",
       "      <td>550.00</td>\n",
       "    </tr>\n",
       "  </tbody>\n",
       "</table>\n",
       "<p>3216 rows × 9 columns</p>\n",
       "</div>"
      ],
      "text/plain": [
       "      user_id  month  calls_number  calls_volume  messages_number  gb_used  \\\n",
       "0        1000   5.00         22.00        159.00            22.00     3.00   \n",
       "1        1000   6.00         43.00        172.00            60.00    23.00   \n",
       "2        1000   7.00         47.00        340.00            75.00    14.00   \n",
       "3        1000   8.00         52.00        408.00            81.00    14.00   \n",
       "4        1000   9.00         58.00        466.00            57.00    15.00   \n",
       "...       ...    ...           ...           ...              ...      ...   \n",
       "3211     1489  10.00          0.00          0.00            21.00    20.00   \n",
       "3212     1489  11.00          0.00          0.00            20.00    18.00   \n",
       "3213     1489  12.00          0.00          0.00            35.00    17.00   \n",
       "3214     1128   0.00          0.00          0.00             0.00     0.00   \n",
       "3215     1371   0.00          0.00          0.00             0.00     0.00   \n",
       "\n",
       "     tariff             city  revenue  \n",
       "0     ultra        Краснодар 1,950.00  \n",
       "1     ultra        Краснодар 1,950.00  \n",
       "2     ultra        Краснодар 1,950.00  \n",
       "3     ultra        Краснодар 1,950.00  \n",
       "4     ultra        Краснодар 1,950.00  \n",
       "...     ...              ...      ...  \n",
       "3211  smart  Санкт-Петербург 1,550.00  \n",
       "3212  smart  Санкт-Петербург 1,150.00  \n",
       "3213  smart  Санкт-Петербург   950.00  \n",
       "3214  ultra         Волжский 1,950.00  \n",
       "3215  smart             Омск   550.00  \n",
       "\n",
       "[3216 rows x 9 columns]"
      ]
     },
     "execution_count": 285,
     "metadata": {},
     "output_type": "execute_result"
    }
   ],
   "source": [
    "# Создадим функцию рассчитывающую помесячную выручку с каждого пользователя:\n",
    "def reven(call,message,gb,tariff):\n",
    "    charge = 0\n",
    "    if tariff == 'smart':\n",
    "        charge += 550\n",
    "        if call > 500:\n",
    "            add_minute = (call-500)*3\n",
    "            charge += add_minute\n",
    "        else:\n",
    "            charge += 0\n",
    "        if message > 50:\n",
    "            add_message = (message-50)*3\n",
    "            charge += add_message\n",
    "        else:\n",
    "            charge += 0\n",
    "        if gb > 15:\n",
    "            add_internet = (gb-15)*200\n",
    "            charge += add_internet\n",
    "        else:\n",
    "            charge += 0\n",
    "    else:\n",
    "        charge += 1950\n",
    "        if call > 3000:\n",
    "            add_minute = (call-3000)*1\n",
    "            charge += add_minute\n",
    "        else:\n",
    "            charge += 0\n",
    "        if message > 1000:\n",
    "            add_message = (message-1000)*1\n",
    "            charge += add_message\n",
    "        else:\n",
    "            charge += 0\n",
    "        if gb > 30:\n",
    "            add_internet = (gb-30)*150\n",
    "            charge += add_internet\n",
    "        else:\n",
    "            charge += 0\n",
    "    return charge\n",
    "\n",
    "# Применим функцию к таблице данных:\n",
    "main_pivot['revenue'] = main_pivot.apply(\n",
    "    lambda x: reven(x['calls_volume'],x['messages_number'],x['gb_used'],x['tariff']), axis=1)\n",
    "\n",
    "# Изменим NaN на 0 в таблице данных:\n",
    "main_pivot = main_pivot.fillna(0)\n",
    "main_pivot"
   ]
  },
  {
   "cell_type": "markdown",
   "metadata": {},
   "source": [
    "### Вывод"
   ]
  },
  {
   "cell_type": "markdown",
   "metadata": {},
   "source": [
    "Провели рассчеты и создали сводную таблицу, которая содержит все необходимые данные для последующего анализа."
   ]
  },
  {
   "cell_type": "markdown",
   "metadata": {},
   "source": [
    "## Исследовательский анализ данных"
   ]
  },
  {
   "cell_type": "markdown",
   "metadata": {},
   "source": [
    "Опишем поведение клиентов оператора, исходя из выборки: сколько минут разговора, сколько сообщений и какой объём интернет-трафика требуется пользователям каждого тарифа в месяц. Рассчитаем среднее количество, дисперсию и стандартное отклонение. Построим гистограммы и опишем распределения."
   ]
  },
  {
   "cell_type": "code",
   "execution_count": 287,
   "metadata": {},
   "outputs": [
    {
     "data": {
      "text/html": [
       "<div>\n",
       "<style scoped>\n",
       "    .dataframe tbody tr th:only-of-type {\n",
       "        vertical-align: middle;\n",
       "    }\n",
       "\n",
       "    .dataframe tbody tr th {\n",
       "        vertical-align: top;\n",
       "    }\n",
       "\n",
       "    .dataframe thead tr th {\n",
       "        text-align: left;\n",
       "    }\n",
       "\n",
       "    .dataframe thead tr:last-of-type th {\n",
       "        text-align: right;\n",
       "    }\n",
       "</style>\n",
       "<table border=\"1\" class=\"dataframe\">\n",
       "  <thead>\n",
       "    <tr>\n",
       "      <th></th>\n",
       "      <th colspan=\"4\" halign=\"left\">mean</th>\n",
       "      <th colspan=\"4\" halign=\"left\">var</th>\n",
       "      <th colspan=\"4\" halign=\"left\">std</th>\n",
       "    </tr>\n",
       "    <tr>\n",
       "      <th></th>\n",
       "      <th>calls_number</th>\n",
       "      <th>calls_volume</th>\n",
       "      <th>gb_used</th>\n",
       "      <th>messages_number</th>\n",
       "      <th>calls_number</th>\n",
       "      <th>calls_volume</th>\n",
       "      <th>gb_used</th>\n",
       "      <th>messages_number</th>\n",
       "      <th>calls_number</th>\n",
       "      <th>calls_volume</th>\n",
       "      <th>gb_used</th>\n",
       "      <th>messages_number</th>\n",
       "    </tr>\n",
       "    <tr>\n",
       "      <th>tariff</th>\n",
       "      <th></th>\n",
       "      <th></th>\n",
       "      <th></th>\n",
       "      <th></th>\n",
       "      <th></th>\n",
       "      <th></th>\n",
       "      <th></th>\n",
       "      <th></th>\n",
       "      <th></th>\n",
       "      <th></th>\n",
       "      <th></th>\n",
       "      <th></th>\n",
       "    </tr>\n",
       "  </thead>\n",
       "  <tbody>\n",
       "    <tr>\n",
       "      <td>smart</td>\n",
       "      <td>58.44</td>\n",
       "      <td>417.75</td>\n",
       "      <td>16.32</td>\n",
       "      <td>33.37</td>\n",
       "      <td>674.11</td>\n",
       "      <td>36,281.39</td>\n",
       "      <td>33.13</td>\n",
       "      <td>796.96</td>\n",
       "      <td>25.96</td>\n",
       "      <td>190.48</td>\n",
       "      <td>5.76</td>\n",
       "      <td>28.23</td>\n",
       "    </tr>\n",
       "    <tr>\n",
       "      <td>ultra</td>\n",
       "      <td>73.32</td>\n",
       "      <td>526.09</td>\n",
       "      <td>19.47</td>\n",
       "      <td>49.31</td>\n",
       "      <td>1,932.19</td>\n",
       "      <td>101,052.49</td>\n",
       "      <td>97.38</td>\n",
       "      <td>2,285.42</td>\n",
       "      <td>43.96</td>\n",
       "      <td>317.89</td>\n",
       "      <td>9.87</td>\n",
       "      <td>47.81</td>\n",
       "    </tr>\n",
       "  </tbody>\n",
       "</table>\n",
       "</div>"
      ],
      "text/plain": [
       "               mean                                               var  \\\n",
       "       calls_number calls_volume gb_used messages_number calls_number   \n",
       "tariff                                                                  \n",
       "smart         58.44       417.75   16.32           33.37       674.11   \n",
       "ultra         73.32       526.09   19.47           49.31     1,932.19   \n",
       "\n",
       "                                                     std                       \\\n",
       "       calls_volume gb_used messages_number calls_number calls_volume gb_used   \n",
       "tariff                                                                          \n",
       "smart     36,281.39   33.13          796.96        25.96       190.48    5.76   \n",
       "ultra    101,052.49   97.38        2,285.42        43.96       317.89    9.87   \n",
       "\n",
       "                        \n",
       "       messages_number  \n",
       "tariff                  \n",
       "smart            28.23  \n",
       "ultra            47.81  "
      ]
     },
     "execution_count": 287,
     "metadata": {},
     "output_type": "execute_result"
    }
   ],
   "source": [
    "statistic = pd.pivot_table(main_pivot, index='tariff', \n",
    "                           values = ['calls_number', 'calls_volume', 'messages_number', 'gb_used'], \n",
    "                           aggfunc = [np.mean, np.var, np.std])\n",
    "statistic"
   ]
  },
  {
   "cell_type": "code",
   "execution_count": 288,
   "metadata": {},
   "outputs": [
    {
     "data": {
      "image/png": "[encoded data removed]",
      "text/plain": [
       "<Figure size 432x288 with 1 Axes>"
      ]
     },
     "metadata": {
      "needs_background": "light"
     },
     "output_type": "display_data"
    },
    {
     "data": {
      "image/png": "[encoded data removed]",
      "text/plain": [
       "<Figure size 432x288 with 1 Axes>"
      ]
     },
     "metadata": {
      "needs_background": "light"
     },
     "output_type": "display_data"
    },
    {
     "data": {
      "image/png": "[encoded data removed]",
      "text/plain": [
       "<Figure size 432x288 with 1 Axes>"
      ]
     },
     "metadata": {
      "needs_background": "light"
     },
     "output_type": "display_data"
    },
    {
     "data": {
      "image/png": "[encoded data removed]",
      "text/plain": [
       "<Figure size 432x288 with 1 Axes>"
      ]
     },
     "metadata": {
      "needs_background": "light"
     },
     "output_type": "display_data"
    }
   ],
   "source": [
    "plt.style.use('seaborn-deep')\n",
    "for i in columns:\n",
    "    plt.hist([smart[i], ultra[i]], label=['smart', 'ultra'])\n",
    "    plt.legend(loc='upper right')\n",
    "    plt.title(i)\n",
    "    if i == 'calls_number':\n",
    "        plt.xlabel('Звонки, шт.')\n",
    "    elif i == 'calls_volume':\n",
    "        plt.xlabel('Звонки, мин')\n",
    "    elif i == 'messages_number':\n",
    "        plt.xlabel('Сообщения, шт.')\n",
    "    else:\n",
    "        plt.xlabel('Интернет, Гб')\n",
    "    plt.ylabel('Число абонентов')\n",
    "    plt.show()"
   ]
  },
  {
   "cell_type": "markdown",
   "metadata": {},
   "source": [
    "### Вывод"
   ]
  },
  {
   "cell_type": "markdown",
   "metadata": {},
   "source": [
    "Из изученных данных можно сделать следующие выводы:\n",
    "1. Число звонков в месяц:\n",
    " 1. Среднее число звонков на тарифах Smart и Ultra составляет 58 и 73 соотвественно.\n",
    " 2. Абоненты тарифа Ultra звонят чаще абонентов тарифа Smart. Есть абоненты Ultra которые звонят и по 200 раз в месяц.\n",
    "***\n",
    "2. Объем минут в месяц:\n",
    " 1. Средний объем использованных минут на тарифах Smart и Ultra составляет 417 и 526 минут соотвественно.\n",
    " 2. Абоненты Smart в среднем не выговаривают, включенные в пакет услуг 500 минут.\n",
    " 3. Абоненты Ultra говорят в среднем практически столько же сколько абоненты Smart. Включенные в пакет 3000 минут используются только на 17%.\n",
    "***\n",
    "3. Объем сообщений в месяц:\n",
    " 1. Средний объем отправленных сообщений на тарифах Smart и Ultra составляет 33 и 49 штук соотвественно.\n",
    " 2. Абоненты тарифов Smart и Ultra практически не пользуются смс. 1000 сообщений включены в тариф Ultra для галочки.\n",
    "***\n",
    "4. Объем трафика Интернет в месяц:\n",
    " 1. Средний объем использованного трафика Интернет на тарифах Smart и Ultra составляет 16 и 19 ГБ соотвественно.\n",
    " 2. Абоненты тарифа Smart используют в среднем больше ГБ, чем включено в пакете (15 ГБ) и соотвественно докупают его.\n",
    " 3. Абоненты тарифа Ultra используют в среднем только 63% ГБ, включенных в их пакет.\n",
    " ***\n",
    " В целом потребление у абонентов тарифа Ultra выше, особенно в части использованных минут для разговора. Данные на тарифе Ultra имеют более высокую дисперсию и стандартное отклонение, чем на тарифе Smart. На тарифе Smart данные близки к нормальному распределению, кроме данных о числе сообщений, которые стремятся к 0."
   ]
  },
  {
   "cell_type": "markdown",
   "metadata": {},
   "source": [
    "## Проверка гипотез"
   ]
  },
  {
   "cell_type": "markdown",
   "metadata": {},
   "source": [
    "Проверим следующие гипотезы:\n",
    "1. Средняя выручка пользователей тарифов Ultra и Smart различается."
   ]
  },
  {
   "cell_type": "code",
   "execution_count": 289,
   "metadata": {},
   "outputs": [
    {
     "name": "stdout",
     "output_type": "stream",
     "text": [
      "p-значение:  1.927011394420941e-250\n",
      "Отвергаем нулевую гипотезу\n"
     ]
    }
   ],
   "source": [
    "# Проверим утверждение, что среднияя выручка тарифов Ультра и Смарт отличаются. \n",
    "# Нулевая гипотеза: средние выручки равны.\n",
    "# Альтернативная гипотеза: они не равны.\n",
    "smart_stat = smart['revenue']\n",
    "ultra_stat = ultra['revenue']\n",
    "\n",
    "alpha = .05 # Установим стандартное значение критического уровня статистической значимости\n",
    "\n",
    "results1 = st.ttest_ind(smart_stat, ultra_stat, equal_var = False) # мы точно знаем, что дисперсии тарифов отличаются.\n",
    "\n",
    "print('p-значение: ', results1.pvalue)\n",
    "\n",
    "if results1.pvalue < alpha:\n",
    "    print(\"Отвергаем нулевую гипотезу\")\n",
    "else:\n",
    "    print(\"Не получилось отвергнуть нулевую гипотезу\")"
   ]
  },
  {
   "cell_type": "code",
   "execution_count": 290,
   "metadata": {},
   "outputs": [
    {
     "data": {
      "text/plain": [
       "count   2,230.00\n",
       "mean    1,289.64\n",
       "std       818.37\n",
       "min       550.00\n",
       "25%       550.00\n",
       "50%     1,021.00\n",
       "75%     1,750.00\n",
       "max     6,770.00\n",
       "Name: revenue, dtype: float64"
      ]
     },
     "metadata": {},
     "output_type": "display_data"
    },
    {
     "data": {
      "text/plain": [
       "count     986.00\n",
       "mean    2,070.03\n",
       "std       376.02\n",
       "min     1,950.00\n",
       "25%     1,950.00\n",
       "50%     1,950.00\n",
       "75%     1,950.00\n",
       "max     4,800.00\n",
       "Name: revenue, dtype: float64"
      ]
     },
     "execution_count": 290,
     "metadata": {},
     "output_type": "execute_result"
    }
   ],
   "source": [
    "display(smart['revenue'].describe())\n",
    "ultra['revenue'].describe()"
   ]
  },
  {
   "cell_type": "code",
   "execution_count": 291,
   "metadata": {},
   "outputs": [
    {
     "name": "stdout",
     "output_type": "stream",
     "text": [
      "Средняя выручка тарифа Smart: 2875901 руб.\n",
      "Средняя выручка тарифа Ultra: 2041050 руб.\n"
     ]
    }
   ],
   "source": [
    "print('Средняя выручка тарифа Smart:', int(smart['revenue'].count() * smart['revenue'].mean()),'руб.')\n",
    "print('Средняя выручка тарифа Ultra:', int(ultra['revenue'].count() * ultra['revenue'].mean()),'руб.')"
   ]
  },
  {
   "cell_type": "markdown",
   "metadata": {},
   "source": [
    "**Вывод**: средняя выручка пользователей тарифов Ultra и Smart различается. Выручка от тарифа Smart выше за счет большего числа абонентов, которые также расходуют дополнительные пакеты на звонки и интернет."
   ]
  },
  {
   "cell_type": "markdown",
   "metadata": {},
   "source": [
    "2. Средняя выручка пользователей из Москвы отличается от выручки пользователей из других регионов."
   ]
  },
  {
   "cell_type": "code",
   "execution_count": 292,
   "metadata": {},
   "outputs": [
    {
     "name": "stdout",
     "output_type": "stream",
     "text": [
      "p-значение:  0.5400751614511182\n",
      "Не получилось отвергнуть нулевую гипотезу\n"
     ]
    }
   ],
   "source": [
    "# Выделим данные по городам:\n",
    "moscow = main_pivot.query('city == \"Москва\"')\n",
    "other_cities = main_pivot.query('city != \"Москва\"')\n",
    "\n",
    "# Проверим утверждение, что среднияя выручка пользователей из Москвы отличается от выручки пользователей из других регионов.\n",
    "# Нулевая гипотеза: средние выручки равны.\n",
    "# Альтернативная гипотеза: они не равны.\n",
    "moscow_stat = moscow['revenue']\n",
    "other_stat = other_cities['revenue']\n",
    "\n",
    "alpha = .05 # Установим стандартное значение критического уровня статистической значимости\n",
    "\n",
    "results2 = st.ttest_ind(moscow_stat, other_stat) # Отличаются ли дисперсии мы не знаем.\n",
    "\n",
    "print('p-значение: ', results2.pvalue)\n",
    "\n",
    "if results2.pvalue < alpha:\n",
    "    print(\"Отвергаем нулевую гипотезу\")\n",
    "else:\n",
    "    print(\"Не получилось отвергнуть нулевую гипотезу\")"
   ]
  },
  {
   "cell_type": "markdown",
   "metadata": {},
   "source": [
    "**Вывод**: средняя выручка пользователей из Москвы не отличается от выручки пользователей из других регионов."
   ]
  },
  {
   "cell_type": "markdown",
   "metadata": {},
   "source": [
    "### Вывод"
   ]
  },
  {
   "cell_type": "markdown",
   "metadata": {},
   "source": [
    "По результатам тестов можно сделать следующие выводы:\n",
    "* тарифов Smart приносит больший доход компании.\n",
    "* средняя выручка пользователей из Москвы не отличается от выручки пользователей из других регионов."
   ]
  },
  {
   "cell_type": "markdown",
   "metadata": {},
   "source": [
    "## Общий вывод"
   ]
  },
  {
   "cell_type": "markdown",
   "metadata": {},
   "source": [
    "Компании выгоднее продвигать тариф Smart, так как абоненты на данном тарифе активно используют предоставленные им пакеты минут и данных, потребляют дополнительные пакеты, что увеличивает ARPU на абонента. Кроме того, за счет более высокого ценника на тариф Ultra, который является по сути премиальным тарифом, число привлеченных абонентов на тариф Smart может быть гораздо выше. Нет никаого смысла активно продвигать тариф Ultra."
   ]
  }
 ],
 "metadata": {
  "ExecuteTimeLog": [
   {
    "duration": 6,
    "start_time": "2022-01-06T12:23:14.233Z"
   },
   {
    "duration": 116,
    "start_time": "2022-01-06T12:23:57.251Z"
   },
   {
    "duration": 95,
    "start_time": "2022-01-06T12:24:00.201Z"
   },
   {
    "duration": 11666,
    "start_time": "2022-01-06T12:38:18.691Z"
   },
   {
    "duration": 4098,
    "start_time": "2022-01-06T12:38:44.351Z"
   },
   {
    "duration": 3685,
    "start_time": "2022-01-06T12:39:08.948Z"
   },
   {
    "duration": 41,
    "start_time": "2022-01-06T12:39:18.179Z"
   },
   {
    "duration": 512,
    "start_time": "2022-01-06T12:41:44.822Z"
   },
   {
    "duration": 486,
    "start_time": "2022-01-06T12:42:13.359Z"
   },
   {
    "duration": 578,
    "start_time": "2022-01-06T12:42:26.879Z"
   },
   {
    "duration": 537,
    "start_time": "2022-01-06T12:43:37.516Z"
   },
   {
    "duration": 9,
    "start_time": "2022-01-06T12:48:32.980Z"
   },
   {
    "duration": 9,
    "start_time": "2022-01-06T14:24:49.167Z"
   },
   {
    "duration": 577,
    "start_time": "2022-01-06T14:25:18.259Z"
   },
   {
    "duration": 670,
    "start_time": "2022-01-06T14:25:51.474Z"
   },
   {
    "duration": 8,
    "start_time": "2022-01-06T16:43:41.584Z"
   },
   {
    "duration": 424,
    "start_time": "2022-01-06T16:43:53.539Z"
   },
   {
    "duration": 7,
    "start_time": "2022-01-06T16:43:59.851Z"
   },
   {
    "duration": 429,
    "start_time": "2022-01-06T16:44:12.685Z"
   },
   {
    "duration": 283,
    "start_time": "2022-01-06T16:45:09.005Z"
   },
   {
    "duration": 12,
    "start_time": "2022-01-06T16:45:21.946Z"
   },
   {
    "duration": 8,
    "start_time": "2022-01-06T16:45:39.564Z"
   },
   {
    "duration": 250,
    "start_time": "2022-01-06T17:09:56.141Z"
   },
   {
    "duration": 16,
    "start_time": "2022-01-06T17:10:10.891Z"
   },
   {
    "duration": 125,
    "start_time": "2022-01-06T17:10:24.102Z"
   },
   {
    "duration": 12,
    "start_time": "2022-01-06T17:10:27.395Z"
   },
   {
    "duration": 116,
    "start_time": "2022-01-06T17:12:14.584Z"
   },
   {
    "duration": 12,
    "start_time": "2022-01-06T17:12:17.498Z"
   },
   {
    "duration": 91,
    "start_time": "2022-01-06T17:12:57.228Z"
   },
   {
    "duration": 12,
    "start_time": "2022-01-06T17:12:58.891Z"
   },
   {
    "duration": 1178,
    "start_time": "2022-01-06T17:13:07.619Z"
   },
   {
    "duration": 16,
    "start_time": "2022-01-06T17:13:09.038Z"
   },
   {
    "duration": 1242,
    "start_time": "2022-01-06T17:13:18.354Z"
   },
   {
    "duration": 12,
    "start_time": "2022-01-06T17:13:25.153Z"
   },
   {
    "duration": 3727,
    "start_time": "2022-01-06T17:13:29.775Z"
   },
   {
    "duration": 633,
    "start_time": "2022-01-06T17:13:33.505Z"
   },
   {
    "duration": 143,
    "start_time": "2022-01-06T17:13:34.141Z"
   },
   {
    "duration": 13,
    "start_time": "2022-01-06T17:13:34.286Z"
   },
   {
    "duration": 5069,
    "start_time": "2022-01-06T17:14:28.450Z"
   },
   {
    "duration": 4695,
    "start_time": "2022-01-06T17:14:45.498Z"
   },
   {
    "duration": 636,
    "start_time": "2022-01-06T17:14:50.196Z"
   },
   {
    "duration": 146,
    "start_time": "2022-01-06T17:14:50.834Z"
   },
   {
    "duration": 11,
    "start_time": "2022-01-06T17:14:50.982Z"
   },
   {
    "duration": 120,
    "start_time": "2022-01-06T17:19:48.677Z"
   },
   {
    "duration": 74,
    "start_time": "2022-01-06T17:22:02.217Z"
   },
   {
    "duration": 14,
    "start_time": "2022-01-06T17:22:03.147Z"
   },
   {
    "duration": 4012,
    "start_time": "2022-01-06T17:22:14.437Z"
   },
   {
    "duration": 623,
    "start_time": "2022-01-06T17:22:18.453Z"
   },
   {
    "duration": 109,
    "start_time": "2022-01-06T17:22:19.080Z"
   },
   {
    "duration": 12,
    "start_time": "2022-01-06T17:22:19.192Z"
   },
   {
    "duration": 121,
    "start_time": "2022-01-06T17:22:19.207Z"
   },
   {
    "duration": 71,
    "start_time": "2022-01-06T17:22:35.161Z"
   },
   {
    "duration": 74,
    "start_time": "2022-01-06T17:23:42.616Z"
   },
   {
    "duration": 12,
    "start_time": "2022-01-06T17:23:44.050Z"
   },
   {
    "duration": 68,
    "start_time": "2022-01-06T17:23:58.661Z"
   },
   {
    "duration": 13,
    "start_time": "2022-01-06T17:23:59.735Z"
   },
   {
    "duration": 72,
    "start_time": "2022-01-06T17:25:01.643Z"
   },
   {
    "duration": 3900,
    "start_time": "2022-01-06T17:25:06.005Z"
   },
   {
    "duration": 923,
    "start_time": "2022-01-06T17:25:09.908Z"
   },
   {
    "duration": 98,
    "start_time": "2022-01-06T17:25:10.834Z"
   },
   {
    "duration": 14,
    "start_time": "2022-01-06T17:25:10.935Z"
   },
   {
    "duration": 96,
    "start_time": "2022-01-06T17:25:10.952Z"
   },
   {
    "duration": 3,
    "start_time": "2022-01-07T08:50:43.414Z"
   },
   {
    "duration": 2,
    "start_time": "2022-01-07T08:51:39.510Z"
   },
   {
    "duration": 399,
    "start_time": "2022-01-07T08:51:41.546Z"
   },
   {
    "duration": 2,
    "start_time": "2022-01-07T08:53:00.283Z"
   },
   {
    "duration": 2,
    "start_time": "2022-01-07T08:53:20.764Z"
   },
   {
    "duration": 316,
    "start_time": "2022-01-07T08:55:07.989Z"
   },
   {
    "duration": 9813,
    "start_time": "2022-01-07T08:55:14.625Z"
   },
   {
    "duration": 505,
    "start_time": "2022-01-07T08:55:24.441Z"
   },
   {
    "duration": 5,
    "start_time": "2022-01-07T08:55:24.948Z"
   },
   {
    "duration": 82,
    "start_time": "2022-01-07T08:55:24.955Z"
   },
   {
    "duration": 9,
    "start_time": "2022-01-07T08:55:25.039Z"
   },
   {
    "duration": 105,
    "start_time": "2022-01-07T08:55:25.050Z"
   },
   {
    "duration": 371,
    "start_time": "2022-01-07T08:55:44.170Z"
   },
   {
    "duration": 7,
    "start_time": "2022-01-07T08:57:37.745Z"
   },
   {
    "duration": 7,
    "start_time": "2022-01-07T08:58:27.480Z"
   },
   {
    "duration": 7,
    "start_time": "2022-01-07T08:59:16.049Z"
   },
   {
    "duration": 6,
    "start_time": "2022-01-07T09:00:09.048Z"
   },
   {
    "duration": 6,
    "start_time": "2022-01-07T09:00:22.778Z"
   },
   {
    "duration": 6,
    "start_time": "2022-01-07T09:00:29.239Z"
   },
   {
    "duration": 5,
    "start_time": "2022-01-07T09:02:16.467Z"
   },
   {
    "duration": 6,
    "start_time": "2022-01-07T09:02:53.883Z"
   },
   {
    "duration": 5,
    "start_time": "2022-01-07T09:04:11.548Z"
   },
   {
    "duration": 5,
    "start_time": "2022-01-07T09:04:15.864Z"
   },
   {
    "duration": 5,
    "start_time": "2022-01-07T09:04:35.621Z"
   },
   {
    "duration": 4,
    "start_time": "2022-01-07T09:05:12.607Z"
   },
   {
    "duration": 14,
    "start_time": "2022-01-07T12:23:03.825Z"
   },
   {
    "duration": 5,
    "start_time": "2022-01-07T12:24:00.931Z"
   },
   {
    "duration": 5,
    "start_time": "2022-01-07T12:24:25.287Z"
   },
   {
    "duration": 332,
    "start_time": "2022-01-07T12:24:38.927Z"
   },
   {
    "duration": 109,
    "start_time": "2022-01-07T12:24:48.673Z"
   },
   {
    "duration": 318,
    "start_time": "2022-01-07T12:24:52.455Z"
   },
   {
    "duration": 7,
    "start_time": "2022-01-07T12:25:01.877Z"
   },
   {
    "duration": 10,
    "start_time": "2022-01-07T12:25:56.494Z"
   },
   {
    "duration": 14,
    "start_time": "2022-01-07T12:31:44.727Z"
   },
   {
    "duration": 8,
    "start_time": "2022-01-07T12:33:17.729Z"
   },
   {
    "duration": 2,
    "start_time": "2022-01-07T12:36:08.299Z"
   },
   {
    "duration": 321,
    "start_time": "2022-01-07T12:40:08.041Z"
   },
   {
    "duration": 359,
    "start_time": "2022-01-07T12:41:07.779Z"
   },
   {
    "duration": 6,
    "start_time": "2022-01-07T12:41:16.749Z"
   },
   {
    "duration": 11,
    "start_time": "2022-01-07T12:41:27.263Z"
   },
   {
    "duration": 7966,
    "start_time": "2022-01-07T12:44:25.744Z"
   },
   {
    "duration": 55,
    "start_time": "2022-01-07T12:45:13.068Z"
   },
   {
    "duration": 25,
    "start_time": "2022-01-07T12:45:47.387Z"
   },
   {
    "duration": 2485,
    "start_time": "2022-01-07T12:45:57.573Z"
   },
   {
    "duration": 468,
    "start_time": "2022-01-07T12:46:00.060Z"
   },
   {
    "duration": 8,
    "start_time": "2022-01-07T12:46:00.530Z"
   },
   {
    "duration": 11,
    "start_time": "2022-01-07T12:46:00.539Z"
   },
   {
    "duration": 7,
    "start_time": "2022-01-07T12:46:00.552Z"
   },
   {
    "duration": 5,
    "start_time": "2022-01-07T12:46:00.560Z"
   },
   {
    "duration": 8,
    "start_time": "2022-01-07T12:46:00.567Z"
   },
   {
    "duration": 18,
    "start_time": "2022-01-07T12:46:00.577Z"
   },
   {
    "duration": 31,
    "start_time": "2022-01-07T12:46:00.597Z"
   },
   {
    "duration": 55,
    "start_time": "2022-01-07T12:46:00.629Z"
   },
   {
    "duration": 12,
    "start_time": "2022-01-07T12:46:00.686Z"
   },
   {
    "duration": 61,
    "start_time": "2022-01-07T12:46:00.699Z"
   },
   {
    "duration": 104,
    "start_time": "2022-01-07T12:46:00.761Z"
   },
   {
    "duration": 26,
    "start_time": "2022-01-07T12:46:00.866Z"
   },
   {
    "duration": 55,
    "start_time": "2022-01-07T12:47:13.067Z"
   },
   {
    "duration": 11,
    "start_time": "2022-01-07T12:50:31.038Z"
   },
   {
    "duration": 330,
    "start_time": "2022-01-07T12:51:08.626Z"
   },
   {
    "duration": 330,
    "start_time": "2022-01-07T12:51:26.215Z"
   },
   {
    "duration": 307,
    "start_time": "2022-01-07T12:51:53.846Z"
   },
   {
    "duration": 358,
    "start_time": "2022-01-07T12:52:14.564Z"
   },
   {
    "duration": 3,
    "start_time": "2022-01-07T12:52:19.473Z"
   },
   {
    "duration": 43,
    "start_time": "2022-01-07T13:05:31.852Z"
   },
   {
    "duration": 57,
    "start_time": "2022-01-07T13:05:44.281Z"
   },
   {
    "duration": 34,
    "start_time": "2022-01-07T13:08:53.354Z"
   },
   {
    "duration": 28,
    "start_time": "2022-01-07T13:10:53.977Z"
   },
   {
    "duration": 366,
    "start_time": "2022-01-07T13:13:00.754Z"
   },
   {
    "duration": 105,
    "start_time": "2022-01-07T13:13:10.749Z"
   },
   {
    "duration": 371,
    "start_time": "2022-01-07T13:14:35.469Z"
   },
   {
    "duration": 59,
    "start_time": "2022-01-07T13:15:06.714Z"
   },
   {
    "duration": 60,
    "start_time": "2022-01-07T13:15:31.261Z"
   },
   {
    "duration": 35,
    "start_time": "2022-01-07T13:17:16.128Z"
   },
   {
    "duration": 64,
    "start_time": "2022-01-07T13:17:30.992Z"
   },
   {
    "duration": 29,
    "start_time": "2022-01-07T13:17:43.905Z"
   },
   {
    "duration": 2,
    "start_time": "2022-01-07T13:37:42.269Z"
   },
   {
    "duration": 309,
    "start_time": "2022-01-07T13:43:36.296Z"
   },
   {
    "duration": 7,
    "start_time": "2022-01-07T13:43:52.021Z"
   },
   {
    "duration": 53,
    "start_time": "2022-01-07T14:57:31.670Z"
   },
   {
    "duration": 26,
    "start_time": "2022-01-07T14:57:35.508Z"
   },
   {
    "duration": 21,
    "start_time": "2022-01-07T14:57:45.588Z"
   },
   {
    "duration": 59,
    "start_time": "2022-01-07T15:01:06.409Z"
   },
   {
    "duration": 46,
    "start_time": "2022-01-07T15:01:40.458Z"
   },
   {
    "duration": 55,
    "start_time": "2022-01-07T15:01:53.369Z"
   },
   {
    "duration": 36,
    "start_time": "2022-01-07T15:04:18.159Z"
   },
   {
    "duration": 28,
    "start_time": "2022-01-07T15:04:19.507Z"
   },
   {
    "duration": 50,
    "start_time": "2022-01-07T15:08:39.813Z"
   },
   {
    "duration": 43,
    "start_time": "2022-01-07T15:09:07.198Z"
   },
   {
    "duration": 46,
    "start_time": "2022-01-07T15:10:57.061Z"
   },
   {
    "duration": 27,
    "start_time": "2022-01-07T15:11:23.465Z"
   },
   {
    "duration": 28,
    "start_time": "2022-01-07T15:12:11.259Z"
   },
   {
    "duration": 48,
    "start_time": "2022-01-07T15:12:49.067Z"
   },
   {
    "duration": 44,
    "start_time": "2022-01-07T15:12:59.239Z"
   },
   {
    "duration": 44,
    "start_time": "2022-01-07T15:13:11.151Z"
   },
   {
    "duration": 2722,
    "start_time": "2022-01-07T15:13:15.310Z"
   },
   {
    "duration": 451,
    "start_time": "2022-01-07T15:13:18.034Z"
   },
   {
    "duration": 7,
    "start_time": "2022-01-07T15:13:18.487Z"
   },
   {
    "duration": 34,
    "start_time": "2022-01-07T15:13:18.496Z"
   },
   {
    "duration": 6,
    "start_time": "2022-01-07T15:13:18.531Z"
   },
   {
    "duration": 5,
    "start_time": "2022-01-07T15:13:18.539Z"
   },
   {
    "duration": 5,
    "start_time": "2022-01-07T15:13:18.546Z"
   },
   {
    "duration": 12,
    "start_time": "2022-01-07T15:13:18.554Z"
   },
   {
    "duration": 14,
    "start_time": "2022-01-07T15:13:18.568Z"
   },
   {
    "duration": 94,
    "start_time": "2022-01-07T15:13:18.583Z"
   },
   {
    "duration": 9,
    "start_time": "2022-01-07T15:13:18.678Z"
   },
   {
    "duration": 66,
    "start_time": "2022-01-07T15:13:18.689Z"
   },
   {
    "duration": 101,
    "start_time": "2022-01-07T15:13:18.756Z"
   },
   {
    "duration": 20,
    "start_time": "2022-01-07T15:13:18.859Z"
   },
   {
    "duration": 68,
    "start_time": "2022-01-07T15:13:18.881Z"
   },
   {
    "duration": 28,
    "start_time": "2022-01-07T15:13:18.950Z"
   },
   {
    "duration": 49,
    "start_time": "2022-01-07T15:13:18.980Z"
   },
   {
    "duration": 6,
    "start_time": "2022-01-07T15:13:19.031Z"
   },
   {
    "duration": 53,
    "start_time": "2022-01-07T15:14:04.578Z"
   },
   {
    "duration": 22,
    "start_time": "2022-01-07T15:14:09.507Z"
   },
   {
    "duration": 2764,
    "start_time": "2022-01-07T15:14:15.158Z"
   },
   {
    "duration": 446,
    "start_time": "2022-01-07T15:14:17.924Z"
   },
   {
    "duration": 5,
    "start_time": "2022-01-07T15:14:18.372Z"
   },
   {
    "duration": 5,
    "start_time": "2022-01-07T15:14:18.379Z"
   },
   {
    "duration": 7,
    "start_time": "2022-01-07T15:14:18.386Z"
   },
   {
    "duration": 7,
    "start_time": "2022-01-07T15:14:18.394Z"
   },
   {
    "duration": 4,
    "start_time": "2022-01-07T15:14:18.427Z"
   },
   {
    "duration": 14,
    "start_time": "2022-01-07T15:14:18.433Z"
   },
   {
    "duration": 13,
    "start_time": "2022-01-07T15:14:18.448Z"
   },
   {
    "duration": 70,
    "start_time": "2022-01-07T15:14:18.463Z"
   },
   {
    "duration": 8,
    "start_time": "2022-01-07T15:14:18.535Z"
   },
   {
    "duration": 49,
    "start_time": "2022-01-07T15:14:18.544Z"
   },
   {
    "duration": 108,
    "start_time": "2022-01-07T15:14:18.595Z"
   },
   {
    "duration": 23,
    "start_time": "2022-01-07T15:14:18.705Z"
   },
   {
    "duration": 330,
    "start_time": "2022-01-07T15:14:18.729Z"
   },
   {
    "duration": 30,
    "start_time": "2022-01-07T15:14:19.031Z"
   },
   {
    "duration": 28,
    "start_time": "2022-01-07T15:14:19.034Z"
   },
   {
    "duration": 26,
    "start_time": "2022-01-07T15:14:19.037Z"
   },
   {
    "duration": 333,
    "start_time": "2022-01-07T15:14:46.633Z"
   },
   {
    "duration": 47,
    "start_time": "2022-01-07T15:15:03.936Z"
   },
   {
    "duration": 37,
    "start_time": "2022-01-07T15:15:13.752Z"
   },
   {
    "duration": 32,
    "start_time": "2022-01-07T15:15:20.503Z"
   },
   {
    "duration": 22,
    "start_time": "2022-01-07T15:15:35.315Z"
   },
   {
    "duration": 7,
    "start_time": "2022-01-07T15:16:45.147Z"
   },
   {
    "duration": 38,
    "start_time": "2022-01-07T15:18:01.312Z"
   },
   {
    "duration": 55,
    "start_time": "2022-01-07T15:22:19.208Z"
   },
   {
    "duration": 28,
    "start_time": "2022-01-07T15:22:51.788Z"
   },
   {
    "duration": 388,
    "start_time": "2022-01-07T15:27:35.303Z"
   },
   {
    "duration": 23,
    "start_time": "2022-01-07T15:27:43.942Z"
   },
   {
    "duration": 223,
    "start_time": "2022-01-07T15:27:45.557Z"
   },
   {
    "duration": 72,
    "start_time": "2022-01-07T15:28:19.981Z"
   },
   {
    "duration": 74,
    "start_time": "2022-01-07T15:28:30.653Z"
   },
   {
    "duration": 343,
    "start_time": "2022-01-07T15:29:54.488Z"
   },
   {
    "duration": 307,
    "start_time": "2022-01-07T15:30:08.689Z"
   },
   {
    "duration": 3925,
    "start_time": "2022-01-07T15:30:15.907Z"
   },
   {
    "duration": 509,
    "start_time": "2022-01-07T15:30:19.834Z"
   },
   {
    "duration": 7,
    "start_time": "2022-01-07T15:30:20.345Z"
   },
   {
    "duration": 5,
    "start_time": "2022-01-07T15:30:20.354Z"
   },
   {
    "duration": 6,
    "start_time": "2022-01-07T15:30:20.361Z"
   },
   {
    "duration": 5,
    "start_time": "2022-01-07T15:30:20.368Z"
   },
   {
    "duration": 8,
    "start_time": "2022-01-07T15:30:20.374Z"
   },
   {
    "duration": 44,
    "start_time": "2022-01-07T15:30:20.383Z"
   },
   {
    "duration": 11,
    "start_time": "2022-01-07T15:30:20.429Z"
   },
   {
    "duration": 56,
    "start_time": "2022-01-07T15:30:20.441Z"
   },
   {
    "duration": 10,
    "start_time": "2022-01-07T15:30:20.498Z"
   },
   {
    "duration": 61,
    "start_time": "2022-01-07T15:30:20.509Z"
   },
   {
    "duration": 103,
    "start_time": "2022-01-07T15:30:20.571Z"
   },
   {
    "duration": 18,
    "start_time": "2022-01-07T15:30:20.676Z"
   },
   {
    "duration": 72,
    "start_time": "2022-01-07T15:30:20.695Z"
   },
   {
    "duration": 28,
    "start_time": "2022-01-07T15:30:20.768Z"
   },
   {
    "duration": 37,
    "start_time": "2022-01-07T15:30:20.798Z"
   },
   {
    "duration": 362,
    "start_time": "2022-01-07T15:30:47.807Z"
   },
   {
    "duration": 465,
    "start_time": "2022-01-07T15:31:01.779Z"
   },
   {
    "duration": 3702,
    "start_time": "2022-01-07T15:31:07.580Z"
   },
   {
    "duration": 495,
    "start_time": "2022-01-07T15:31:11.284Z"
   },
   {
    "duration": 6,
    "start_time": "2022-01-07T15:31:11.780Z"
   },
   {
    "duration": 8,
    "start_time": "2022-01-07T15:31:11.788Z"
   },
   {
    "duration": 6,
    "start_time": "2022-01-07T15:31:11.797Z"
   },
   {
    "duration": 23,
    "start_time": "2022-01-07T15:31:11.805Z"
   },
   {
    "duration": 5,
    "start_time": "2022-01-07T15:31:11.830Z"
   },
   {
    "duration": 11,
    "start_time": "2022-01-07T15:31:11.838Z"
   },
   {
    "duration": 12,
    "start_time": "2022-01-07T15:31:11.851Z"
   },
   {
    "duration": 89,
    "start_time": "2022-01-07T15:31:11.864Z"
   },
   {
    "duration": 7,
    "start_time": "2022-01-07T15:31:11.955Z"
   },
   {
    "duration": 64,
    "start_time": "2022-01-07T15:31:11.964Z"
   },
   {
    "duration": 140,
    "start_time": "2022-01-07T15:31:12.030Z"
   },
   {
    "duration": 17,
    "start_time": "2022-01-07T15:31:12.172Z"
   },
   {
    "duration": 76,
    "start_time": "2022-01-07T15:31:12.191Z"
   },
   {
    "duration": 29,
    "start_time": "2022-01-07T15:31:12.268Z"
   },
   {
    "duration": 40,
    "start_time": "2022-01-07T15:31:12.299Z"
   },
   {
    "duration": 357,
    "start_time": "2022-01-07T15:31:26.634Z"
   },
   {
    "duration": 3893,
    "start_time": "2022-01-07T15:31:30.537Z"
   },
   {
    "duration": 475,
    "start_time": "2022-01-07T15:31:34.432Z"
   },
   {
    "duration": 20,
    "start_time": "2022-01-07T15:31:34.908Z"
   },
   {
    "duration": 6,
    "start_time": "2022-01-07T15:31:34.930Z"
   },
   {
    "duration": 7,
    "start_time": "2022-01-07T15:31:34.937Z"
   },
   {
    "duration": 5,
    "start_time": "2022-01-07T15:31:34.945Z"
   },
   {
    "duration": 6,
    "start_time": "2022-01-07T15:31:34.951Z"
   },
   {
    "duration": 12,
    "start_time": "2022-01-07T15:31:34.959Z"
   },
   {
    "duration": 11,
    "start_time": "2022-01-07T15:31:34.973Z"
   },
   {
    "duration": 80,
    "start_time": "2022-01-07T15:31:34.985Z"
   },
   {
    "duration": 11,
    "start_time": "2022-01-07T15:31:35.066Z"
   },
   {
    "duration": 57,
    "start_time": "2022-01-07T15:31:35.078Z"
   },
   {
    "duration": 103,
    "start_time": "2022-01-07T15:31:35.136Z"
   },
   {
    "duration": 19,
    "start_time": "2022-01-07T15:31:35.240Z"
   },
   {
    "duration": 82,
    "start_time": "2022-01-07T15:31:35.260Z"
   },
   {
    "duration": 29,
    "start_time": "2022-01-07T15:31:35.344Z"
   },
   {
    "duration": 24,
    "start_time": "2022-01-07T15:31:35.375Z"
   },
   {
    "duration": 91,
    "start_time": "2022-01-07T15:31:35.401Z"
   },
   {
    "duration": 7,
    "start_time": "2022-01-07T15:31:35.493Z"
   },
   {
    "duration": 426,
    "start_time": "2022-01-07T15:32:10.285Z"
   },
   {
    "duration": 567,
    "start_time": "2022-01-07T15:32:39.535Z"
   },
   {
    "duration": 4025,
    "start_time": "2022-01-07T15:32:43.493Z"
   },
   {
    "duration": 477,
    "start_time": "2022-01-07T15:32:47.520Z"
   },
   {
    "duration": 6,
    "start_time": "2022-01-07T15:32:47.999Z"
   },
   {
    "duration": 5,
    "start_time": "2022-01-07T15:32:48.027Z"
   },
   {
    "duration": 14,
    "start_time": "2022-01-07T15:32:48.034Z"
   },
   {
    "duration": 5,
    "start_time": "2022-01-07T15:32:48.050Z"
   },
   {
    "duration": 5,
    "start_time": "2022-01-07T15:32:48.057Z"
   },
   {
    "duration": 12,
    "start_time": "2022-01-07T15:32:48.064Z"
   },
   {
    "duration": 12,
    "start_time": "2022-01-07T15:32:48.077Z"
   },
   {
    "duration": 72,
    "start_time": "2022-01-07T15:32:48.090Z"
   },
   {
    "duration": 8,
    "start_time": "2022-01-07T15:32:48.164Z"
   },
   {
    "duration": 62,
    "start_time": "2022-01-07T15:32:48.173Z"
   },
   {
    "duration": 99,
    "start_time": "2022-01-07T15:32:48.237Z"
   },
   {
    "duration": 18,
    "start_time": "2022-01-07T15:32:48.338Z"
   },
   {
    "duration": 74,
    "start_time": "2022-01-07T15:32:48.357Z"
   },
   {
    "duration": 28,
    "start_time": "2022-01-07T15:32:48.433Z"
   },
   {
    "duration": 23,
    "start_time": "2022-01-07T15:32:48.463Z"
   },
   {
    "duration": 92,
    "start_time": "2022-01-07T15:32:48.488Z"
   },
   {
    "duration": 7,
    "start_time": "2022-01-07T15:32:48.581Z"
   },
   {
    "duration": 4260,
    "start_time": "2022-01-07T15:34:58.865Z"
   },
   {
    "duration": 492,
    "start_time": "2022-01-07T15:35:03.127Z"
   },
   {
    "duration": 10,
    "start_time": "2022-01-07T15:35:03.620Z"
   },
   {
    "duration": 6,
    "start_time": "2022-01-07T15:35:03.632Z"
   },
   {
    "duration": 7,
    "start_time": "2022-01-07T15:35:03.639Z"
   },
   {
    "duration": 5,
    "start_time": "2022-01-07T15:35:03.647Z"
   },
   {
    "duration": 10,
    "start_time": "2022-01-07T15:35:03.653Z"
   },
   {
    "duration": 11,
    "start_time": "2022-01-07T15:35:03.665Z"
   },
   {
    "duration": 11,
    "start_time": "2022-01-07T15:35:03.678Z"
   },
   {
    "duration": 75,
    "start_time": "2022-01-07T15:35:03.690Z"
   },
   {
    "duration": 11,
    "start_time": "2022-01-07T15:35:03.767Z"
   },
   {
    "duration": 63,
    "start_time": "2022-01-07T15:35:03.779Z"
   },
   {
    "duration": 101,
    "start_time": "2022-01-07T15:35:03.843Z"
   },
   {
    "duration": 17,
    "start_time": "2022-01-07T15:35:03.946Z"
   },
   {
    "duration": 76,
    "start_time": "2022-01-07T15:35:03.965Z"
   },
   {
    "duration": 29,
    "start_time": "2022-01-07T15:35:04.043Z"
   },
   {
    "duration": 24,
    "start_time": "2022-01-07T15:35:04.074Z"
   },
   {
    "duration": 96,
    "start_time": "2022-01-07T15:35:04.100Z"
   },
   {
    "duration": 6,
    "start_time": "2022-01-07T15:35:04.198Z"
   },
   {
    "duration": 394,
    "start_time": "2022-01-07T15:38:00.544Z"
   },
   {
    "duration": 2463,
    "start_time": "2022-01-07T15:38:09.055Z"
   },
   {
    "duration": 458,
    "start_time": "2022-01-07T15:38:11.521Z"
   },
   {
    "duration": 6,
    "start_time": "2022-01-07T15:38:11.981Z"
   },
   {
    "duration": 6,
    "start_time": "2022-01-07T15:38:11.989Z"
   },
   {
    "duration": 33,
    "start_time": "2022-01-07T15:38:11.996Z"
   },
   {
    "duration": 4,
    "start_time": "2022-01-07T15:38:12.030Z"
   },
   {
    "duration": 7,
    "start_time": "2022-01-07T15:38:12.035Z"
   },
   {
    "duration": 11,
    "start_time": "2022-01-07T15:38:12.044Z"
   },
   {
    "duration": 11,
    "start_time": "2022-01-07T15:38:12.057Z"
   },
   {
    "duration": 72,
    "start_time": "2022-01-07T15:38:12.070Z"
   },
   {
    "duration": 13,
    "start_time": "2022-01-07T15:38:12.144Z"
   },
   {
    "duration": 47,
    "start_time": "2022-01-07T15:38:12.159Z"
   },
   {
    "duration": 99,
    "start_time": "2022-01-07T15:38:12.207Z"
   },
   {
    "duration": 25,
    "start_time": "2022-01-07T15:38:12.308Z"
   },
   {
    "duration": 45,
    "start_time": "2022-01-07T15:38:12.334Z"
   },
   {
    "duration": 25,
    "start_time": "2022-01-07T15:38:12.380Z"
   },
   {
    "duration": 21,
    "start_time": "2022-01-07T15:38:12.427Z"
   },
   {
    "duration": 9,
    "start_time": "2022-01-07T15:38:12.450Z"
   },
   {
    "duration": 6,
    "start_time": "2022-01-07T15:38:12.461Z"
   },
   {
    "duration": 1343,
    "start_time": "2022-01-07T16:04:42.692Z"
   },
   {
    "duration": 2763,
    "start_time": "2022-01-07T16:05:03.339Z"
   },
   {
    "duration": 483,
    "start_time": "2022-01-07T16:05:06.104Z"
   },
   {
    "duration": 6,
    "start_time": "2022-01-07T16:05:06.589Z"
   },
   {
    "duration": 32,
    "start_time": "2022-01-07T16:05:06.596Z"
   },
   {
    "duration": 7,
    "start_time": "2022-01-07T16:05:06.629Z"
   },
   {
    "duration": 6,
    "start_time": "2022-01-07T16:05:06.637Z"
   },
   {
    "duration": 6,
    "start_time": "2022-01-07T16:05:06.644Z"
   },
   {
    "duration": 11,
    "start_time": "2022-01-07T16:05:06.652Z"
   },
   {
    "duration": 13,
    "start_time": "2022-01-07T16:05:06.664Z"
   },
   {
    "duration": 92,
    "start_time": "2022-01-07T16:05:06.678Z"
   },
   {
    "duration": 7,
    "start_time": "2022-01-07T16:05:06.772Z"
   },
   {
    "duration": 57,
    "start_time": "2022-01-07T16:05:06.781Z"
   },
   {
    "duration": 119,
    "start_time": "2022-01-07T16:05:06.840Z"
   },
   {
    "duration": 20,
    "start_time": "2022-01-07T16:05:06.962Z"
   },
   {
    "duration": 66,
    "start_time": "2022-01-07T16:05:06.984Z"
   },
   {
    "duration": 25,
    "start_time": "2022-01-07T16:05:07.051Z"
   },
   {
    "duration": 23,
    "start_time": "2022-01-07T16:05:07.077Z"
   },
   {
    "duration": 34,
    "start_time": "2022-01-07T16:05:07.101Z"
   },
   {
    "duration": 6,
    "start_time": "2022-01-07T16:05:07.136Z"
   },
   {
    "duration": 23,
    "start_time": "2022-01-07T16:05:44.261Z"
   },
   {
    "duration": 2613,
    "start_time": "2022-01-07T16:06:03.978Z"
   },
   {
    "duration": 481,
    "start_time": "2022-01-07T16:06:06.593Z"
   },
   {
    "duration": 6,
    "start_time": "2022-01-07T16:06:07.075Z"
   },
   {
    "duration": 7,
    "start_time": "2022-01-07T16:06:07.082Z"
   },
   {
    "duration": 5,
    "start_time": "2022-01-07T16:06:07.090Z"
   },
   {
    "duration": 4,
    "start_time": "2022-01-07T16:06:07.096Z"
   },
   {
    "duration": 28,
    "start_time": "2022-01-07T16:06:07.101Z"
   },
   {
    "duration": 11,
    "start_time": "2022-01-07T16:06:07.131Z"
   },
   {
    "duration": 12,
    "start_time": "2022-01-07T16:06:07.143Z"
   },
   {
    "duration": 77,
    "start_time": "2022-01-07T16:06:07.156Z"
   },
   {
    "duration": 8,
    "start_time": "2022-01-07T16:06:07.235Z"
   },
   {
    "duration": 50,
    "start_time": "2022-01-07T16:06:07.244Z"
   },
   {
    "duration": 104,
    "start_time": "2022-01-07T16:06:07.295Z"
   },
   {
    "duration": 18,
    "start_time": "2022-01-07T16:06:07.400Z"
   },
   {
    "duration": 48,
    "start_time": "2022-01-07T16:06:07.428Z"
   },
   {
    "duration": 26,
    "start_time": "2022-01-07T16:06:07.478Z"
   },
   {
    "duration": 40,
    "start_time": "2022-01-07T16:06:07.506Z"
   },
   {
    "duration": 17,
    "start_time": "2022-01-07T16:06:07.548Z"
   },
   {
    "duration": 5,
    "start_time": "2022-01-07T16:06:07.567Z"
   },
   {
    "duration": 2738,
    "start_time": "2022-01-07T16:06:46.211Z"
   },
   {
    "duration": 581,
    "start_time": "2022-01-07T16:06:48.951Z"
   },
   {
    "duration": 5,
    "start_time": "2022-01-07T16:06:49.534Z"
   },
   {
    "duration": 6,
    "start_time": "2022-01-07T16:06:49.541Z"
   },
   {
    "duration": 8,
    "start_time": "2022-01-07T16:06:49.548Z"
   },
   {
    "duration": 6,
    "start_time": "2022-01-07T16:06:49.558Z"
   },
   {
    "duration": 5,
    "start_time": "2022-01-07T16:06:49.565Z"
   },
   {
    "duration": 11,
    "start_time": "2022-01-07T16:06:49.572Z"
   },
   {
    "duration": 11,
    "start_time": "2022-01-07T16:06:49.585Z"
   },
   {
    "duration": 90,
    "start_time": "2022-01-07T16:06:49.598Z"
   },
   {
    "duration": 10,
    "start_time": "2022-01-07T16:06:49.689Z"
   },
   {
    "duration": 66,
    "start_time": "2022-01-07T16:06:49.700Z"
   },
   {
    "duration": 101,
    "start_time": "2022-01-07T16:06:49.767Z"
   },
   {
    "duration": 17,
    "start_time": "2022-01-07T16:06:49.870Z"
   },
   {
    "duration": 61,
    "start_time": "2022-01-07T16:06:49.889Z"
   },
   {
    "duration": 27,
    "start_time": "2022-01-07T16:06:49.951Z"
   },
   {
    "duration": 23,
    "start_time": "2022-01-07T16:06:49.979Z"
   },
   {
    "duration": 40,
    "start_time": "2022-01-07T16:06:50.004Z"
   },
   {
    "duration": 6,
    "start_time": "2022-01-07T16:06:50.045Z"
   },
   {
    "duration": 22,
    "start_time": "2022-01-07T16:37:17.380Z"
   },
   {
    "duration": 2,
    "start_time": "2022-01-07T16:37:55.980Z"
   },
   {
    "duration": 47,
    "start_time": "2022-01-07T16:38:35.549Z"
   },
   {
    "duration": 329,
    "start_time": "2022-01-07T16:38:42.638Z"
   },
   {
    "duration": 358,
    "start_time": "2022-01-07T16:39:23.837Z"
   },
   {
    "duration": 2553,
    "start_time": "2022-01-07T16:39:28.311Z"
   },
   {
    "duration": 481,
    "start_time": "2022-01-07T16:39:30.866Z"
   },
   {
    "duration": 6,
    "start_time": "2022-01-07T16:39:31.349Z"
   },
   {
    "duration": 7,
    "start_time": "2022-01-07T16:39:31.356Z"
   },
   {
    "duration": 7,
    "start_time": "2022-01-07T16:39:31.365Z"
   },
   {
    "duration": 6,
    "start_time": "2022-01-07T16:39:31.373Z"
   },
   {
    "duration": 5,
    "start_time": "2022-01-07T16:39:31.380Z"
   },
   {
    "duration": 14,
    "start_time": "2022-01-07T16:39:31.387Z"
   },
   {
    "duration": 11,
    "start_time": "2022-01-07T16:39:31.427Z"
   },
   {
    "duration": 55,
    "start_time": "2022-01-07T16:39:31.440Z"
   },
   {
    "duration": 10,
    "start_time": "2022-01-07T16:39:31.497Z"
   },
   {
    "duration": 63,
    "start_time": "2022-01-07T16:39:31.508Z"
   },
   {
    "duration": 103,
    "start_time": "2022-01-07T16:39:31.573Z"
   },
   {
    "duration": 21,
    "start_time": "2022-01-07T16:39:31.677Z"
   },
   {
    "duration": 68,
    "start_time": "2022-01-07T16:39:31.699Z"
   },
   {
    "duration": 26,
    "start_time": "2022-01-07T16:39:31.768Z"
   },
   {
    "duration": 43,
    "start_time": "2022-01-07T16:39:31.796Z"
   },
   {
    "duration": 3,
    "start_time": "2022-01-07T16:39:31.840Z"
   },
   {
    "duration": 24,
    "start_time": "2022-01-07T16:39:31.844Z"
   },
   {
    "duration": 7,
    "start_time": "2022-01-07T16:39:31.869Z"
   },
   {
    "duration": 33,
    "start_time": "2022-01-07T16:45:07.816Z"
   },
   {
    "duration": 2397,
    "start_time": "2022-01-07T16:45:13.084Z"
   },
   {
    "duration": 466,
    "start_time": "2022-01-07T16:45:15.483Z"
   },
   {
    "duration": 6,
    "start_time": "2022-01-07T16:45:15.951Z"
   },
   {
    "duration": 6,
    "start_time": "2022-01-07T16:45:15.959Z"
   },
   {
    "duration": 6,
    "start_time": "2022-01-07T16:45:15.967Z"
   },
   {
    "duration": 12,
    "start_time": "2022-01-07T16:45:15.974Z"
   },
   {
    "duration": 5,
    "start_time": "2022-01-07T16:45:15.987Z"
   },
   {
    "duration": 42,
    "start_time": "2022-01-07T16:45:15.995Z"
   },
   {
    "duration": 13,
    "start_time": "2022-01-07T16:45:16.039Z"
   },
   {
    "duration": 55,
    "start_time": "2022-01-07T16:45:16.053Z"
   },
   {
    "duration": 9,
    "start_time": "2022-01-07T16:45:16.127Z"
   },
   {
    "duration": 62,
    "start_time": "2022-01-07T16:45:16.138Z"
   },
   {
    "duration": 99,
    "start_time": "2022-01-07T16:45:16.202Z"
   },
   {
    "duration": 27,
    "start_time": "2022-01-07T16:45:16.302Z"
   },
   {
    "duration": 52,
    "start_time": "2022-01-07T16:45:16.330Z"
   },
   {
    "duration": 24,
    "start_time": "2022-01-07T16:45:16.384Z"
   },
   {
    "duration": 23,
    "start_time": "2022-01-07T16:45:16.427Z"
   },
   {
    "duration": 2,
    "start_time": "2022-01-07T16:45:16.452Z"
   },
   {
    "duration": 37,
    "start_time": "2022-01-07T16:45:16.455Z"
   },
   {
    "duration": 6,
    "start_time": "2022-01-07T16:45:16.494Z"
   },
   {
    "duration": 338,
    "start_time": "2022-01-07T16:47:21.152Z"
   },
   {
    "duration": 2392,
    "start_time": "2022-01-07T16:47:27.484Z"
   },
   {
    "duration": 468,
    "start_time": "2022-01-07T16:47:29.878Z"
   },
   {
    "duration": 6,
    "start_time": "2022-01-07T16:47:30.348Z"
   },
   {
    "duration": 14,
    "start_time": "2022-01-07T16:47:30.356Z"
   },
   {
    "duration": 7,
    "start_time": "2022-01-07T16:47:30.372Z"
   },
   {
    "duration": 12,
    "start_time": "2022-01-07T16:47:30.380Z"
   },
   {
    "duration": 12,
    "start_time": "2022-01-07T16:47:30.393Z"
   },
   {
    "duration": 22,
    "start_time": "2022-01-07T16:47:30.407Z"
   },
   {
    "duration": 12,
    "start_time": "2022-01-07T16:47:30.431Z"
   },
   {
    "duration": 54,
    "start_time": "2022-01-07T16:47:30.444Z"
   },
   {
    "duration": 8,
    "start_time": "2022-01-07T16:47:30.499Z"
   },
   {
    "duration": 63,
    "start_time": "2022-01-07T16:47:30.508Z"
   },
   {
    "duration": 101,
    "start_time": "2022-01-07T16:47:30.572Z"
   },
   {
    "duration": 17,
    "start_time": "2022-01-07T16:47:30.675Z"
   },
   {
    "duration": 66,
    "start_time": "2022-01-07T16:47:30.693Z"
   },
   {
    "duration": 27,
    "start_time": "2022-01-07T16:47:30.760Z"
   },
   {
    "duration": 39,
    "start_time": "2022-01-07T16:47:30.788Z"
   },
   {
    "duration": 3,
    "start_time": "2022-01-07T16:47:30.828Z"
   },
   {
    "duration": 347,
    "start_time": "2022-01-07T16:47:30.832Z"
   },
   {
    "duration": 16,
    "start_time": "2022-01-07T16:47:31.165Z"
   },
   {
    "duration": 32,
    "start_time": "2022-01-07T16:47:47.916Z"
   },
   {
    "duration": 2641,
    "start_time": "2022-01-07T16:47:54.239Z"
   },
   {
    "duration": 483,
    "start_time": "2022-01-07T16:47:56.882Z"
   },
   {
    "duration": 8,
    "start_time": "2022-01-07T16:47:57.367Z"
   },
   {
    "duration": 7,
    "start_time": "2022-01-07T16:47:57.377Z"
   },
   {
    "duration": 7,
    "start_time": "2022-01-07T16:47:57.386Z"
   },
   {
    "duration": 11,
    "start_time": "2022-01-07T16:47:57.394Z"
   },
   {
    "duration": 26,
    "start_time": "2022-01-07T16:47:57.406Z"
   },
   {
    "duration": 13,
    "start_time": "2022-01-07T16:47:57.434Z"
   },
   {
    "duration": 12,
    "start_time": "2022-01-07T16:47:57.449Z"
   },
   {
    "duration": 68,
    "start_time": "2022-01-07T16:47:57.462Z"
   },
   {
    "duration": 8,
    "start_time": "2022-01-07T16:47:57.531Z"
   },
   {
    "duration": 48,
    "start_time": "2022-01-07T16:47:57.540Z"
   },
   {
    "duration": 104,
    "start_time": "2022-01-07T16:47:57.590Z"
   },
   {
    "duration": 19,
    "start_time": "2022-01-07T16:47:57.695Z"
   },
   {
    "duration": 43,
    "start_time": "2022-01-07T16:47:57.727Z"
   },
   {
    "duration": 25,
    "start_time": "2022-01-07T16:47:57.772Z"
   },
   {
    "duration": 42,
    "start_time": "2022-01-07T16:47:57.798Z"
   },
   {
    "duration": 2,
    "start_time": "2022-01-07T16:47:57.842Z"
   },
   {
    "duration": 28,
    "start_time": "2022-01-07T16:47:57.845Z"
   },
   {
    "duration": 7,
    "start_time": "2022-01-07T16:47:57.874Z"
   },
   {
    "duration": 2645,
    "start_time": "2022-01-07T16:48:33.119Z"
   },
   {
    "duration": 488,
    "start_time": "2022-01-07T16:48:35.766Z"
   },
   {
    "duration": 7,
    "start_time": "2022-01-07T16:48:36.256Z"
   },
   {
    "duration": 6,
    "start_time": "2022-01-07T16:48:36.265Z"
   },
   {
    "duration": 6,
    "start_time": "2022-01-07T16:48:36.272Z"
   },
   {
    "duration": 4,
    "start_time": "2022-01-07T16:48:36.279Z"
   },
   {
    "duration": 6,
    "start_time": "2022-01-07T16:48:36.285Z"
   },
   {
    "duration": 12,
    "start_time": "2022-01-07T16:48:36.292Z"
   },
   {
    "duration": 12,
    "start_time": "2022-01-07T16:48:36.328Z"
   },
   {
    "duration": 55,
    "start_time": "2022-01-07T16:48:36.341Z"
   },
   {
    "duration": 68,
    "start_time": "2022-01-07T16:48:36.397Z"
   },
   {
    "duration": 61,
    "start_time": "2022-01-07T16:48:36.467Z"
   },
   {
    "duration": 137,
    "start_time": "2022-01-07T16:48:36.530Z"
   },
   {
    "duration": 25,
    "start_time": "2022-01-07T16:48:36.669Z"
   },
   {
    "duration": 75,
    "start_time": "2022-01-07T16:48:36.696Z"
   },
   {
    "duration": 33,
    "start_time": "2022-01-07T16:48:36.772Z"
   },
   {
    "duration": 38,
    "start_time": "2022-01-07T16:48:36.806Z"
   },
   {
    "duration": 2,
    "start_time": "2022-01-07T16:48:36.846Z"
   },
   {
    "duration": 24,
    "start_time": "2022-01-07T16:48:36.849Z"
   },
   {
    "duration": 7,
    "start_time": "2022-01-07T16:48:36.874Z"
   },
   {
    "duration": 2696,
    "start_time": "2022-01-07T16:50:56.823Z"
   },
   {
    "duration": 458,
    "start_time": "2022-01-07T16:50:59.522Z"
   },
   {
    "duration": 6,
    "start_time": "2022-01-07T16:50:59.982Z"
   },
   {
    "duration": 6,
    "start_time": "2022-01-07T16:50:59.989Z"
   },
   {
    "duration": 34,
    "start_time": "2022-01-07T16:50:59.997Z"
   },
   {
    "duration": 10,
    "start_time": "2022-01-07T16:51:00.033Z"
   },
   {
    "duration": 13,
    "start_time": "2022-01-07T16:51:00.045Z"
   },
   {
    "duration": 11,
    "start_time": "2022-01-07T16:51:00.060Z"
   },
   {
    "duration": 12,
    "start_time": "2022-01-07T16:51:00.072Z"
   },
   {
    "duration": 92,
    "start_time": "2022-01-07T16:51:00.085Z"
   },
   {
    "duration": 8,
    "start_time": "2022-01-07T16:51:00.178Z"
   },
   {
    "duration": 74,
    "start_time": "2022-01-07T16:51:00.187Z"
   },
   {
    "duration": 118,
    "start_time": "2022-01-07T16:51:00.263Z"
   },
   {
    "duration": 20,
    "start_time": "2022-01-07T16:51:00.383Z"
   },
   {
    "duration": 74,
    "start_time": "2022-01-07T16:51:00.404Z"
   },
   {
    "duration": 25,
    "start_time": "2022-01-07T16:51:00.480Z"
   },
   {
    "duration": 39,
    "start_time": "2022-01-07T16:51:00.506Z"
   },
   {
    "duration": 23,
    "start_time": "2022-01-07T16:51:00.547Z"
   },
   {
    "duration": 6,
    "start_time": "2022-01-07T16:51:00.572Z"
   },
   {
    "duration": 3318,
    "start_time": "2022-01-07T17:06:35.811Z"
   },
   {
    "duration": 339,
    "start_time": "2022-01-07T17:06:47.211Z"
   },
   {
    "duration": 2429,
    "start_time": "2022-01-07T17:06:53.010Z"
   },
   {
    "duration": 462,
    "start_time": "2022-01-07T17:06:55.441Z"
   },
   {
    "duration": 26,
    "start_time": "2022-01-07T17:06:55.905Z"
   },
   {
    "duration": 6,
    "start_time": "2022-01-07T17:06:55.932Z"
   },
   {
    "duration": 5,
    "start_time": "2022-01-07T17:06:55.939Z"
   },
   {
    "duration": 4,
    "start_time": "2022-01-07T17:06:55.946Z"
   },
   {
    "duration": 6,
    "start_time": "2022-01-07T17:06:55.951Z"
   },
   {
    "duration": 11,
    "start_time": "2022-01-07T17:06:55.958Z"
   },
   {
    "duration": 11,
    "start_time": "2022-01-07T17:06:55.971Z"
   },
   {
    "duration": 85,
    "start_time": "2022-01-07T17:06:55.984Z"
   },
   {
    "duration": 8,
    "start_time": "2022-01-07T17:06:56.070Z"
   },
   {
    "duration": 62,
    "start_time": "2022-01-07T17:06:56.079Z"
   },
   {
    "duration": 96,
    "start_time": "2022-01-07T17:06:56.142Z"
   },
   {
    "duration": 17,
    "start_time": "2022-01-07T17:06:56.240Z"
   },
   {
    "duration": 47,
    "start_time": "2022-01-07T17:06:56.258Z"
   },
   {
    "duration": 43,
    "start_time": "2022-01-07T17:06:56.306Z"
   },
   {
    "duration": 22,
    "start_time": "2022-01-07T17:06:56.351Z"
   },
   {
    "duration": 345,
    "start_time": "2022-01-07T17:06:56.374Z"
   },
   {
    "duration": -62,
    "start_time": "2022-01-07T17:06:56.782Z"
   },
   {
    "duration": 30,
    "start_time": "2022-01-07T17:07:07.994Z"
   },
   {
    "duration": 2527,
    "start_time": "2022-01-07T17:07:17.086Z"
   },
   {
    "duration": 458,
    "start_time": "2022-01-07T17:07:19.615Z"
   },
   {
    "duration": 5,
    "start_time": "2022-01-07T17:07:20.075Z"
   },
   {
    "duration": 7,
    "start_time": "2022-01-07T17:07:20.082Z"
   },
   {
    "duration": 5,
    "start_time": "2022-01-07T17:07:20.091Z"
   },
   {
    "duration": 7,
    "start_time": "2022-01-07T17:07:20.097Z"
   },
   {
    "duration": 24,
    "start_time": "2022-01-07T17:07:20.105Z"
   },
   {
    "duration": 10,
    "start_time": "2022-01-07T17:07:20.131Z"
   },
   {
    "duration": 12,
    "start_time": "2022-01-07T17:07:20.142Z"
   },
   {
    "duration": 73,
    "start_time": "2022-01-07T17:07:20.155Z"
   },
   {
    "duration": 7,
    "start_time": "2022-01-07T17:07:20.229Z"
   },
   {
    "duration": 49,
    "start_time": "2022-01-07T17:07:20.238Z"
   },
   {
    "duration": 114,
    "start_time": "2022-01-07T17:07:20.289Z"
   },
   {
    "duration": 31,
    "start_time": "2022-01-07T17:07:20.405Z"
   },
   {
    "duration": 66,
    "start_time": "2022-01-07T17:07:20.438Z"
   },
   {
    "duration": 51,
    "start_time": "2022-01-07T17:07:20.506Z"
   },
   {
    "duration": 32,
    "start_time": "2022-01-07T17:07:20.559Z"
   },
   {
    "duration": 57,
    "start_time": "2022-01-07T17:07:20.593Z"
   },
   {
    "duration": 9,
    "start_time": "2022-01-07T17:07:20.652Z"
   },
   {
    "duration": 22,
    "start_time": "2022-01-07T17:10:10.407Z"
   },
   {
    "duration": 25,
    "start_time": "2022-01-07T17:10:41.905Z"
   },
   {
    "duration": 50,
    "start_time": "2022-01-07T17:11:38.749Z"
   },
   {
    "duration": 351,
    "start_time": "2022-01-07T17:15:16.067Z"
   },
   {
    "duration": 2514,
    "start_time": "2022-01-07T17:15:23.340Z"
   },
   {
    "duration": 440,
    "start_time": "2022-01-07T17:15:25.856Z"
   },
   {
    "duration": 6,
    "start_time": "2022-01-07T17:15:26.297Z"
   },
   {
    "duration": 6,
    "start_time": "2022-01-07T17:15:26.328Z"
   },
   {
    "duration": 6,
    "start_time": "2022-01-07T17:15:26.335Z"
   },
   {
    "duration": 6,
    "start_time": "2022-01-07T17:15:26.343Z"
   },
   {
    "duration": 5,
    "start_time": "2022-01-07T17:15:26.351Z"
   },
   {
    "duration": 15,
    "start_time": "2022-01-07T17:15:26.357Z"
   },
   {
    "duration": 16,
    "start_time": "2022-01-07T17:15:26.374Z"
   },
   {
    "duration": 128,
    "start_time": "2022-01-07T17:15:26.392Z"
   },
   {
    "duration": 9,
    "start_time": "2022-01-07T17:15:26.527Z"
   },
   {
    "duration": 49,
    "start_time": "2022-01-07T17:15:26.537Z"
   },
   {
    "duration": 105,
    "start_time": "2022-01-07T17:15:26.587Z"
   },
   {
    "duration": 18,
    "start_time": "2022-01-07T17:15:26.693Z"
   },
   {
    "duration": 61,
    "start_time": "2022-01-07T17:15:26.713Z"
   },
   {
    "duration": 26,
    "start_time": "2022-01-07T17:15:26.776Z"
   },
   {
    "duration": 39,
    "start_time": "2022-01-07T17:15:26.804Z"
   },
   {
    "duration": 25,
    "start_time": "2022-01-07T17:15:26.844Z"
   },
   {
    "duration": 6,
    "start_time": "2022-01-07T17:15:26.870Z"
   },
   {
    "duration": 2490,
    "start_time": "2022-01-07T17:16:11.958Z"
   },
   {
    "duration": 447,
    "start_time": "2022-01-07T17:16:14.450Z"
   },
   {
    "duration": 30,
    "start_time": "2022-01-07T17:16:14.899Z"
   },
   {
    "duration": 7,
    "start_time": "2022-01-07T17:16:14.930Z"
   },
   {
    "duration": 6,
    "start_time": "2022-01-07T17:16:14.939Z"
   },
   {
    "duration": 4,
    "start_time": "2022-01-07T17:16:14.946Z"
   },
   {
    "duration": 5,
    "start_time": "2022-01-07T17:16:14.952Z"
   },
   {
    "duration": 10,
    "start_time": "2022-01-07T17:16:14.959Z"
   },
   {
    "duration": 11,
    "start_time": "2022-01-07T17:16:14.971Z"
   },
   {
    "duration": 85,
    "start_time": "2022-01-07T17:16:14.983Z"
   },
   {
    "duration": 15,
    "start_time": "2022-01-07T17:16:15.069Z"
   },
   {
    "duration": 53,
    "start_time": "2022-01-07T17:16:15.085Z"
   },
   {
    "duration": 99,
    "start_time": "2022-01-07T17:16:15.140Z"
   },
   {
    "duration": 18,
    "start_time": "2022-01-07T17:16:15.241Z"
   },
   {
    "duration": 66,
    "start_time": "2022-01-07T17:16:15.261Z"
   },
   {
    "duration": 27,
    "start_time": "2022-01-07T17:16:15.329Z"
   },
   {
    "duration": 25,
    "start_time": "2022-01-07T17:16:15.358Z"
   },
   {
    "duration": 50,
    "start_time": "2022-01-07T17:16:15.385Z"
   },
   {
    "duration": 8,
    "start_time": "2022-01-07T17:16:15.436Z"
   },
   {
    "duration": 14,
    "start_time": "2022-01-07T17:17:16.076Z"
   },
   {
    "duration": 11,
    "start_time": "2022-01-07T17:17:40.080Z"
   },
   {
    "duration": 22,
    "start_time": "2022-01-07T17:20:35.470Z"
   },
   {
    "duration": 4361,
    "start_time": "2022-01-07T17:21:02.903Z"
   },
   {
    "duration": -18,
    "start_time": "2022-01-07T17:21:07.284Z"
   },
   {
    "duration": 5,
    "start_time": "2022-01-07T17:21:26.881Z"
   },
   {
    "duration": 366,
    "start_time": "2022-01-07T17:21:30.560Z"
   },
   {
    "duration": 2472,
    "start_time": "2022-01-07T17:21:42.894Z"
   },
   {
    "duration": 536,
    "start_time": "2022-01-07T17:21:45.368Z"
   },
   {
    "duration": 8,
    "start_time": "2022-01-07T17:21:45.928Z"
   },
   {
    "duration": 7,
    "start_time": "2022-01-07T17:21:45.938Z"
   },
   {
    "duration": 6,
    "start_time": "2022-01-07T17:21:45.947Z"
   },
   {
    "duration": 6,
    "start_time": "2022-01-07T17:21:45.955Z"
   },
   {
    "duration": 6,
    "start_time": "2022-01-07T17:21:45.963Z"
   },
   {
    "duration": 57,
    "start_time": "2022-01-07T17:21:45.973Z"
   },
   {
    "duration": 15,
    "start_time": "2022-01-07T17:21:46.032Z"
   },
   {
    "duration": 82,
    "start_time": "2022-01-07T17:21:46.049Z"
   },
   {
    "duration": 9,
    "start_time": "2022-01-07T17:21:46.133Z"
   },
   {
    "duration": 58,
    "start_time": "2022-01-07T17:21:46.143Z"
   },
   {
    "duration": 109,
    "start_time": "2022-01-07T17:21:46.202Z"
   },
   {
    "duration": 27,
    "start_time": "2022-01-07T17:21:46.313Z"
   },
   {
    "duration": 14,
    "start_time": "2022-01-07T17:21:46.341Z"
   },
   {
    "duration": 71,
    "start_time": "2022-01-07T17:21:46.357Z"
   },
   {
    "duration": 28,
    "start_time": "2022-01-07T17:21:46.429Z"
   },
   {
    "duration": 22,
    "start_time": "2022-01-07T17:21:46.459Z"
   },
   {
    "duration": 4,
    "start_time": "2022-01-07T17:21:46.482Z"
   },
   {
    "duration": 46,
    "start_time": "2022-01-07T17:21:46.488Z"
   },
   {
    "duration": 6,
    "start_time": "2022-01-07T17:21:46.535Z"
   },
   {
    "duration": 345,
    "start_time": "2022-01-07T17:26:14.865Z"
   },
   {
    "duration": 2464,
    "start_time": "2022-01-07T17:26:23.342Z"
   },
   {
    "duration": 460,
    "start_time": "2022-01-07T17:26:25.808Z"
   },
   {
    "duration": 6,
    "start_time": "2022-01-07T17:26:26.270Z"
   },
   {
    "duration": 9,
    "start_time": "2022-01-07T17:26:26.277Z"
   },
   {
    "duration": 7,
    "start_time": "2022-01-07T17:26:26.287Z"
   },
   {
    "duration": 6,
    "start_time": "2022-01-07T17:26:26.295Z"
   },
   {
    "duration": 28,
    "start_time": "2022-01-07T17:26:26.302Z"
   },
   {
    "duration": 15,
    "start_time": "2022-01-07T17:26:26.332Z"
   },
   {
    "duration": 12,
    "start_time": "2022-01-07T17:26:26.348Z"
   },
   {
    "duration": 71,
    "start_time": "2022-01-07T17:26:26.362Z"
   },
   {
    "duration": 8,
    "start_time": "2022-01-07T17:26:26.435Z"
   },
   {
    "duration": 52,
    "start_time": "2022-01-07T17:26:26.444Z"
   },
   {
    "duration": 114,
    "start_time": "2022-01-07T17:26:26.497Z"
   },
   {
    "duration": 22,
    "start_time": "2022-01-07T17:26:26.613Z"
   },
   {
    "duration": 13,
    "start_time": "2022-01-07T17:26:26.636Z"
   },
   {
    "duration": 43,
    "start_time": "2022-01-07T17:26:26.650Z"
   },
   {
    "duration": 45,
    "start_time": "2022-01-07T17:26:26.695Z"
   },
   {
    "duration": 21,
    "start_time": "2022-01-07T17:26:26.742Z"
   },
   {
    "duration": 4,
    "start_time": "2022-01-07T17:26:26.764Z"
   },
   {
    "duration": 28,
    "start_time": "2022-01-07T17:26:26.770Z"
   },
   {
    "duration": 7,
    "start_time": "2022-01-07T17:26:26.799Z"
   },
   {
    "duration": 322,
    "start_time": "2022-01-07T17:26:40.052Z"
   },
   {
    "duration": 2621,
    "start_time": "2022-01-07T17:26:43.846Z"
   },
   {
    "duration": 503,
    "start_time": "2022-01-07T17:26:46.469Z"
   },
   {
    "duration": 6,
    "start_time": "2022-01-07T17:26:46.975Z"
   },
   {
    "duration": 7,
    "start_time": "2022-01-07T17:26:46.983Z"
   },
   {
    "duration": 6,
    "start_time": "2022-01-07T17:26:46.991Z"
   },
   {
    "duration": 32,
    "start_time": "2022-01-07T17:26:46.998Z"
   },
   {
    "duration": 5,
    "start_time": "2022-01-07T17:26:47.032Z"
   },
   {
    "duration": 13,
    "start_time": "2022-01-07T17:26:47.040Z"
   },
   {
    "duration": 14,
    "start_time": "2022-01-07T17:26:47.055Z"
   },
   {
    "duration": 98,
    "start_time": "2022-01-07T17:26:47.070Z"
   },
   {
    "duration": 15,
    "start_time": "2022-01-07T17:26:47.169Z"
   },
   {
    "duration": 61,
    "start_time": "2022-01-07T17:26:47.185Z"
   },
   {
    "duration": 109,
    "start_time": "2022-01-07T17:26:47.248Z"
   },
   {
    "duration": 20,
    "start_time": "2022-01-07T17:26:47.359Z"
   },
   {
    "duration": 16,
    "start_time": "2022-01-07T17:26:47.380Z"
   },
   {
    "duration": 72,
    "start_time": "2022-01-07T17:26:47.397Z"
   },
   {
    "duration": 26,
    "start_time": "2022-01-07T17:26:47.470Z"
   },
   {
    "duration": 38,
    "start_time": "2022-01-07T17:26:47.498Z"
   },
   {
    "duration": 4,
    "start_time": "2022-01-07T17:26:47.537Z"
   },
   {
    "duration": 26,
    "start_time": "2022-01-07T17:26:47.543Z"
   },
   {
    "duration": 7,
    "start_time": "2022-01-07T17:26:47.570Z"
   },
   {
    "duration": 315,
    "start_time": "2022-01-07T17:29:35.983Z"
   },
   {
    "duration": 2503,
    "start_time": "2022-01-07T17:29:40.508Z"
   },
   {
    "duration": 482,
    "start_time": "2022-01-07T17:29:43.013Z"
   },
   {
    "duration": 6,
    "start_time": "2022-01-07T17:29:43.497Z"
   },
   {
    "duration": 25,
    "start_time": "2022-01-07T17:29:43.505Z"
   },
   {
    "duration": 6,
    "start_time": "2022-01-07T17:29:43.531Z"
   },
   {
    "duration": 5,
    "start_time": "2022-01-07T17:29:43.539Z"
   },
   {
    "duration": 5,
    "start_time": "2022-01-07T17:29:43.546Z"
   },
   {
    "duration": 14,
    "start_time": "2022-01-07T17:29:43.553Z"
   },
   {
    "duration": 12,
    "start_time": "2022-01-07T17:29:43.568Z"
   },
   {
    "duration": 83,
    "start_time": "2022-01-07T17:29:43.581Z"
   },
   {
    "duration": 10,
    "start_time": "2022-01-07T17:29:43.665Z"
   },
   {
    "duration": 58,
    "start_time": "2022-01-07T17:29:43.676Z"
   },
   {
    "duration": 100,
    "start_time": "2022-01-07T17:29:43.736Z"
   },
   {
    "duration": 18,
    "start_time": "2022-01-07T17:29:43.838Z"
   },
   {
    "duration": 16,
    "start_time": "2022-01-07T17:29:43.857Z"
   },
   {
    "duration": 71,
    "start_time": "2022-01-07T17:29:43.874Z"
   },
   {
    "duration": 25,
    "start_time": "2022-01-07T17:29:43.947Z"
   },
   {
    "duration": 26,
    "start_time": "2022-01-07T17:29:43.973Z"
   },
   {
    "duration": 4,
    "start_time": "2022-01-07T17:29:44.001Z"
   },
   {
    "duration": 45,
    "start_time": "2022-01-07T17:29:44.006Z"
   },
   {
    "duration": 7,
    "start_time": "2022-01-07T17:29:44.053Z"
   },
   {
    "duration": 38,
    "start_time": "2022-01-07T17:51:09.681Z"
   },
   {
    "duration": 40,
    "start_time": "2022-01-07T17:51:34.484Z"
   },
   {
    "duration": 41,
    "start_time": "2022-01-07T17:55:19.770Z"
   },
   {
    "duration": 40,
    "start_time": "2022-01-07T17:55:32.767Z"
   },
   {
    "duration": 26,
    "start_time": "2022-01-07T17:55:54.169Z"
   },
   {
    "duration": 21,
    "start_time": "2022-01-07T17:56:06.296Z"
   },
   {
    "duration": 6,
    "start_time": "2022-01-07T17:56:10.729Z"
   },
   {
    "duration": 21,
    "start_time": "2022-01-07T17:56:11.655Z"
   },
   {
    "duration": 3470,
    "start_time": "2022-01-07T18:02:36.556Z"
   },
   {
    "duration": 446,
    "start_time": "2022-01-07T18:02:40.028Z"
   },
   {
    "duration": 6,
    "start_time": "2022-01-07T18:02:40.477Z"
   },
   {
    "duration": 7,
    "start_time": "2022-01-07T18:02:40.485Z"
   },
   {
    "duration": 7,
    "start_time": "2022-01-07T18:02:40.494Z"
   },
   {
    "duration": 5,
    "start_time": "2022-01-07T18:02:40.527Z"
   },
   {
    "duration": 8,
    "start_time": "2022-01-07T18:02:40.534Z"
   },
   {
    "duration": 15,
    "start_time": "2022-01-07T18:02:40.544Z"
   },
   {
    "duration": 12,
    "start_time": "2022-01-07T18:02:40.561Z"
   },
   {
    "duration": 133,
    "start_time": "2022-01-07T18:02:40.575Z"
   },
   {
    "duration": 9,
    "start_time": "2022-01-07T18:02:40.709Z"
   },
   {
    "duration": 73,
    "start_time": "2022-01-07T18:02:40.720Z"
   },
   {
    "duration": 106,
    "start_time": "2022-01-07T18:02:40.795Z"
   },
   {
    "duration": 27,
    "start_time": "2022-01-07T18:02:40.903Z"
   },
   {
    "duration": 14,
    "start_time": "2022-01-07T18:02:40.932Z"
   },
   {
    "duration": 44,
    "start_time": "2022-01-07T18:02:40.948Z"
   },
   {
    "duration": 57,
    "start_time": "2022-01-07T18:02:40.994Z"
   },
   {
    "duration": 22,
    "start_time": "2022-01-07T18:02:41.053Z"
   },
   {
    "duration": 5,
    "start_time": "2022-01-07T18:02:41.076Z"
   },
   {
    "duration": 22,
    "start_time": "2022-01-07T18:02:41.082Z"
   },
   {
    "duration": 23,
    "start_time": "2022-01-07T18:02:41.105Z"
   },
   {
    "duration": 20,
    "start_time": "2022-01-07T18:09:53.828Z"
   },
   {
    "duration": 26,
    "start_time": "2022-01-07T18:10:05.960Z"
   },
   {
    "duration": 332,
    "start_time": "2022-01-07T18:17:24.706Z"
   },
   {
    "duration": 9,
    "start_time": "2022-01-07T18:17:30.183Z"
   },
   {
    "duration": 9,
    "start_time": "2022-01-07T18:17:35.707Z"
   },
   {
    "duration": 9,
    "start_time": "2022-01-07T18:18:32.388Z"
   },
   {
    "duration": 355,
    "start_time": "2022-01-08T08:59:33.537Z"
   },
   {
    "duration": 7162,
    "start_time": "2022-01-08T08:59:38.634Z"
   },
   {
    "duration": 474,
    "start_time": "2022-01-08T08:59:45.798Z"
   },
   {
    "duration": 7,
    "start_time": "2022-01-08T08:59:46.274Z"
   },
   {
    "duration": 5,
    "start_time": "2022-01-08T08:59:46.283Z"
   },
   {
    "duration": 38,
    "start_time": "2022-01-08T08:59:46.290Z"
   },
   {
    "duration": 4,
    "start_time": "2022-01-08T08:59:46.329Z"
   },
   {
    "duration": 5,
    "start_time": "2022-01-08T08:59:46.335Z"
   },
   {
    "duration": 9,
    "start_time": "2022-01-08T08:59:46.342Z"
   },
   {
    "duration": 12,
    "start_time": "2022-01-08T08:59:46.354Z"
   },
   {
    "duration": 13,
    "start_time": "2022-01-08T08:59:46.367Z"
   },
   {
    "duration": 94,
    "start_time": "2022-01-08T08:59:46.382Z"
   },
   {
    "duration": 9,
    "start_time": "2022-01-08T08:59:46.478Z"
   },
   {
    "duration": 97,
    "start_time": "2022-01-08T08:59:46.488Z"
   },
   {
    "duration": 170,
    "start_time": "2022-01-08T08:59:46.587Z"
   },
   {
    "duration": 29,
    "start_time": "2022-01-08T08:59:46.760Z"
   },
   {
    "duration": 37,
    "start_time": "2022-01-08T08:59:46.791Z"
   },
   {
    "duration": 58,
    "start_time": "2022-01-08T08:59:46.829Z"
   },
   {
    "duration": 45,
    "start_time": "2022-01-08T08:59:46.889Z"
   },
   {
    "duration": 25,
    "start_time": "2022-01-08T08:59:46.935Z"
   },
   {
    "duration": 4,
    "start_time": "2022-01-08T08:59:46.962Z"
   },
   {
    "duration": 32,
    "start_time": "2022-01-08T08:59:46.967Z"
   },
   {
    "duration": 3,
    "start_time": "2022-01-08T08:59:47.000Z"
   },
   {
    "duration": 5,
    "start_time": "2022-01-08T09:05:33.408Z"
   },
   {
    "duration": 5,
    "start_time": "2022-01-08T09:05:48.180Z"
   },
   {
    "duration": 8,
    "start_time": "2022-01-08T09:05:58.783Z"
   },
   {
    "duration": 8,
    "start_time": "2022-01-08T09:06:26.400Z"
   },
   {
    "duration": 341,
    "start_time": "2022-01-08T09:09:59.087Z"
   },
   {
    "duration": 86,
    "start_time": "2022-01-08T09:10:13.987Z"
   },
   {
    "duration": 4,
    "start_time": "2022-01-08T09:20:54.605Z"
   },
   {
    "duration": 7,
    "start_time": "2022-01-08T09:38:28.297Z"
   },
   {
    "duration": 7,
    "start_time": "2022-01-08T09:39:00.440Z"
   },
   {
    "duration": 4,
    "start_time": "2022-01-08T09:50:38.809Z"
   },
   {
    "duration": 4,
    "start_time": "2022-01-08T09:51:33.574Z"
   },
   {
    "duration": 6,
    "start_time": "2022-01-08T09:51:41.647Z"
   },
   {
    "duration": 9,
    "start_time": "2022-01-08T09:51:49.519Z"
   },
   {
    "duration": 15,
    "start_time": "2022-01-08T09:52:26.977Z"
   },
   {
    "duration": 3178,
    "start_time": "2022-01-08T09:52:38.203Z"
   },
   {
    "duration": 470,
    "start_time": "2022-01-08T09:52:41.383Z"
   },
   {
    "duration": 6,
    "start_time": "2022-01-08T09:52:41.855Z"
   },
   {
    "duration": 6,
    "start_time": "2022-01-08T09:52:41.863Z"
   },
   {
    "duration": 20,
    "start_time": "2022-01-08T09:52:41.870Z"
   },
   {
    "duration": 9,
    "start_time": "2022-01-08T09:52:41.891Z"
   },
   {
    "duration": 53,
    "start_time": "2022-01-08T09:52:41.901Z"
   },
   {
    "duration": 46,
    "start_time": "2022-01-08T09:52:41.976Z"
   },
   {
    "duration": 15,
    "start_time": "2022-01-08T09:52:42.024Z"
   },
   {
    "duration": 107,
    "start_time": "2022-01-08T09:52:42.048Z"
   },
   {
    "duration": 227,
    "start_time": "2022-01-08T09:52:42.159Z"
   },
   {
    "duration": 12,
    "start_time": "2022-01-08T09:52:42.388Z"
   },
   {
    "duration": 101,
    "start_time": "2022-01-08T09:52:42.402Z"
   },
   {
    "duration": 14,
    "start_time": "2022-01-08T09:52:42.505Z"
   },
   {
    "duration": 142,
    "start_time": "2022-01-08T09:52:42.527Z"
   },
   {
    "duration": 27,
    "start_time": "2022-01-08T09:52:42.672Z"
   },
   {
    "duration": 87,
    "start_time": "2022-01-08T09:52:42.701Z"
   },
   {
    "duration": 38,
    "start_time": "2022-01-08T09:52:42.790Z"
   },
   {
    "duration": 24,
    "start_time": "2022-01-08T09:52:42.830Z"
   },
   {
    "duration": 5,
    "start_time": "2022-01-08T09:52:42.855Z"
   },
   {
    "duration": 30,
    "start_time": "2022-01-08T09:52:42.861Z"
   },
   {
    "duration": 7,
    "start_time": "2022-01-08T09:52:42.892Z"
   },
   {
    "duration": 26,
    "start_time": "2022-01-08T09:52:42.902Z"
   },
   {
    "duration": 4435,
    "start_time": "2022-01-08T10:15:43.356Z"
   },
   {
    "duration": 27,
    "start_time": "2022-01-08T10:16:23.080Z"
   },
   {
    "duration": 4466,
    "start_time": "2022-01-08T10:16:53.533Z"
   },
   {
    "duration": 670,
    "start_time": "2022-01-08T10:19:51.377Z"
   },
   {
    "duration": 2526,
    "start_time": "2022-01-08T10:39:40.335Z"
   },
   {
    "duration": 435,
    "start_time": "2022-01-08T10:39:42.864Z"
   },
   {
    "duration": 30,
    "start_time": "2022-01-08T10:39:43.301Z"
   },
   {
    "duration": 10,
    "start_time": "2022-01-08T10:39:43.332Z"
   },
   {
    "duration": 10,
    "start_time": "2022-01-08T10:39:43.343Z"
   },
   {
    "duration": 5,
    "start_time": "2022-01-08T10:39:43.355Z"
   },
   {
    "duration": 7,
    "start_time": "2022-01-08T10:39:43.361Z"
   },
   {
    "duration": 9,
    "start_time": "2022-01-08T10:39:43.370Z"
   },
   {
    "duration": 15,
    "start_time": "2022-01-08T10:39:43.381Z"
   },
   {
    "duration": 31,
    "start_time": "2022-01-08T10:39:43.397Z"
   },
   {
    "duration": 56,
    "start_time": "2022-01-08T10:39:43.429Z"
   },
   {
    "duration": 8,
    "start_time": "2022-01-08T10:39:43.486Z"
   },
   {
    "duration": 67,
    "start_time": "2022-01-08T10:39:43.495Z"
   },
   {
    "duration": 10,
    "start_time": "2022-01-08T10:39:43.564Z"
   },
   {
    "duration": 104,
    "start_time": "2022-01-08T10:39:43.575Z"
   },
   {
    "duration": 19,
    "start_time": "2022-01-08T10:39:43.680Z"
   },
   {
    "duration": 56,
    "start_time": "2022-01-08T10:39:43.701Z"
   },
   {
    "duration": 27,
    "start_time": "2022-01-08T10:39:43.758Z"
   },
   {
    "duration": 40,
    "start_time": "2022-01-08T10:39:43.787Z"
   },
   {
    "duration": 4,
    "start_time": "2022-01-08T10:39:43.829Z"
   },
   {
    "duration": 31,
    "start_time": "2022-01-08T10:39:43.834Z"
   },
   {
    "duration": 6,
    "start_time": "2022-01-08T10:39:43.867Z"
   },
   {
    "duration": 649,
    "start_time": "2022-01-08T10:39:43.875Z"
   },
   {
    "duration": 599,
    "start_time": "2022-01-08T10:51:18.502Z"
   },
   {
    "duration": 4023,
    "start_time": "2022-01-08T10:51:54.795Z"
   },
   {
    "duration": 586,
    "start_time": "2022-01-08T10:52:23.538Z"
   },
   {
    "duration": 93,
    "start_time": "2022-01-08T10:58:02.921Z"
   },
   {
    "duration": 101,
    "start_time": "2022-01-08T10:58:25.372Z"
   },
   {
    "duration": 95,
    "start_time": "2022-01-08T11:00:36.934Z"
   },
   {
    "duration": 99,
    "start_time": "2022-01-08T11:02:36.500Z"
   },
   {
    "duration": 546,
    "start_time": "2022-01-08T11:54:05.599Z"
   },
   {
    "duration": 549,
    "start_time": "2022-01-08T11:57:19.918Z"
   },
   {
    "duration": 99,
    "start_time": "2022-01-08T11:58:02.205Z"
   },
   {
    "duration": 86,
    "start_time": "2022-01-08T11:58:35.049Z"
   },
   {
    "duration": 99,
    "start_time": "2022-01-08T11:58:42.298Z"
   },
   {
    "duration": 103,
    "start_time": "2022-01-08T11:59:20.481Z"
   },
   {
    "duration": 116,
    "start_time": "2022-01-08T12:06:16.731Z"
   },
   {
    "duration": 3657,
    "start_time": "2022-01-08T12:10:14.239Z"
   },
   {
    "duration": 478,
    "start_time": "2022-01-08T12:10:17.897Z"
   },
   {
    "duration": 7,
    "start_time": "2022-01-08T12:10:18.377Z"
   },
   {
    "duration": 6,
    "start_time": "2022-01-08T12:10:18.386Z"
   },
   {
    "duration": 34,
    "start_time": "2022-01-08T12:10:18.394Z"
   },
   {
    "duration": 5,
    "start_time": "2022-01-08T12:10:18.430Z"
   },
   {
    "duration": 6,
    "start_time": "2022-01-08T12:10:18.436Z"
   },
   {
    "duration": 8,
    "start_time": "2022-01-08T12:10:18.445Z"
   },
   {
    "duration": 11,
    "start_time": "2022-01-08T12:10:18.455Z"
   },
   {
    "duration": 13,
    "start_time": "2022-01-08T12:10:18.468Z"
   },
   {
    "duration": 93,
    "start_time": "2022-01-08T12:10:18.483Z"
   },
   {
    "duration": 11,
    "start_time": "2022-01-08T12:10:18.577Z"
   },
   {
    "duration": 60,
    "start_time": "2022-01-08T12:10:18.590Z"
   },
   {
    "duration": 10,
    "start_time": "2022-01-08T12:10:18.651Z"
   },
   {
    "duration": 109,
    "start_time": "2022-01-08T12:10:18.663Z"
   },
   {
    "duration": 20,
    "start_time": "2022-01-08T12:10:18.774Z"
   },
   {
    "duration": 66,
    "start_time": "2022-01-08T12:10:18.796Z"
   },
   {
    "duration": 25,
    "start_time": "2022-01-08T12:10:18.864Z"
   },
   {
    "duration": 37,
    "start_time": "2022-01-08T12:10:18.891Z"
   },
   {
    "duration": 4,
    "start_time": "2022-01-08T12:10:18.929Z"
   },
   {
    "duration": 31,
    "start_time": "2022-01-08T12:10:18.935Z"
   },
   {
    "duration": 6,
    "start_time": "2022-01-08T12:10:18.967Z"
   },
   {
    "duration": 114,
    "start_time": "2022-01-08T12:10:18.975Z"
   },
   {
    "duration": 123,
    "start_time": "2022-01-08T12:10:19.090Z"
   },
   {
    "duration": 112,
    "start_time": "2022-01-08T12:12:42.684Z"
   },
   {
    "duration": 114,
    "start_time": "2022-01-08T12:12:49.342Z"
   },
   {
    "duration": 12,
    "start_time": "2022-01-08T12:13:00.752Z"
   },
   {
    "duration": 7,
    "start_time": "2022-01-08T12:14:04.658Z"
   },
   {
    "duration": 104,
    "start_time": "2022-01-08T12:16:39.596Z"
   },
   {
    "duration": 8,
    "start_time": "2022-01-08T12:20:39.424Z"
   },
   {
    "duration": 21,
    "start_time": "2022-01-08T12:21:09.439Z"
   },
   {
    "duration": 20,
    "start_time": "2022-01-08T12:22:10.430Z"
   },
   {
    "duration": 16,
    "start_time": "2022-01-08T12:22:29.211Z"
   },
   {
    "duration": 12,
    "start_time": "2022-01-08T12:22:51.506Z"
   },
   {
    "duration": 12,
    "start_time": "2022-01-08T12:23:22.231Z"
   },
   {
    "duration": 12,
    "start_time": "2022-01-08T12:23:35.689Z"
   },
   {
    "duration": 12,
    "start_time": "2022-01-08T12:23:59.422Z"
   },
   {
    "duration": 14,
    "start_time": "2022-01-08T12:24:06.872Z"
   },
   {
    "duration": 13,
    "start_time": "2022-01-08T12:24:18.376Z"
   },
   {
    "duration": 422,
    "start_time": "2022-01-08T12:24:28.704Z"
   },
   {
    "duration": 13,
    "start_time": "2022-01-08T12:24:33.156Z"
   },
   {
    "duration": 583,
    "start_time": "2022-01-08T12:28:50.375Z"
   },
   {
    "duration": 22,
    "start_time": "2022-01-08T12:30:38.891Z"
   },
   {
    "duration": 21,
    "start_time": "2022-01-08T12:31:44.076Z"
   },
   {
    "duration": 319,
    "start_time": "2022-01-08T12:37:29.659Z"
   },
   {
    "duration": 1140,
    "start_time": "2022-01-08T12:37:40.225Z"
   },
   {
    "duration": 1145,
    "start_time": "2022-01-08T12:38:07.768Z"
   },
   {
    "duration": 357,
    "start_time": "2022-01-08T12:46:09.110Z"
   },
   {
    "duration": 326,
    "start_time": "2022-01-08T12:46:30.378Z"
   },
   {
    "duration": 202,
    "start_time": "2022-01-08T12:46:38.945Z"
   },
   {
    "duration": 174,
    "start_time": "2022-01-08T12:49:03.928Z"
   },
   {
    "duration": 656,
    "start_time": "2022-01-08T12:50:31.064Z"
   },
   {
    "duration": 323,
    "start_time": "2022-01-08T13:37:54.402Z"
   },
   {
    "duration": 22,
    "start_time": "2022-01-08T13:38:02.211Z"
   },
   {
    "duration": 22,
    "start_time": "2022-01-08T13:38:34.824Z"
   },
   {
    "duration": 19,
    "start_time": "2022-01-08T13:39:07.663Z"
   },
   {
    "duration": 28,
    "start_time": "2022-01-08T13:41:07.308Z"
   },
   {
    "duration": 2619,
    "start_time": "2022-01-08T13:41:25.939Z"
   },
   {
    "duration": 476,
    "start_time": "2022-01-08T13:41:28.560Z"
   },
   {
    "duration": 6,
    "start_time": "2022-01-08T13:41:29.037Z"
   },
   {
    "duration": 6,
    "start_time": "2022-01-08T13:41:29.045Z"
   },
   {
    "duration": 5,
    "start_time": "2022-01-08T13:41:29.053Z"
   },
   {
    "duration": 6,
    "start_time": "2022-01-08T13:41:29.060Z"
   },
   {
    "duration": 5,
    "start_time": "2022-01-08T13:41:29.067Z"
   },
   {
    "duration": 8,
    "start_time": "2022-01-08T13:41:29.074Z"
   },
   {
    "duration": 51,
    "start_time": "2022-01-08T13:41:29.084Z"
   },
   {
    "duration": 13,
    "start_time": "2022-01-08T13:41:29.136Z"
   },
   {
    "duration": 57,
    "start_time": "2022-01-08T13:41:29.150Z"
   },
   {
    "duration": 21,
    "start_time": "2022-01-08T13:41:29.208Z"
   },
   {
    "duration": 50,
    "start_time": "2022-01-08T13:41:29.231Z"
   },
   {
    "duration": 9,
    "start_time": "2022-01-08T13:41:29.282Z"
   },
   {
    "duration": 146,
    "start_time": "2022-01-08T13:41:29.293Z"
   },
   {
    "duration": 46,
    "start_time": "2022-01-08T13:41:29.444Z"
   },
   {
    "duration": 112,
    "start_time": "2022-01-08T13:41:29.496Z"
   },
   {
    "duration": 68,
    "start_time": "2022-01-08T13:41:29.610Z"
   },
   {
    "duration": 40,
    "start_time": "2022-01-08T13:41:29.680Z"
   },
   {
    "duration": 12,
    "start_time": "2022-01-08T13:41:29.722Z"
   },
   {
    "duration": 51,
    "start_time": "2022-01-08T13:41:29.736Z"
   },
   {
    "duration": 8,
    "start_time": "2022-01-08T13:41:29.788Z"
   },
   {
    "duration": 101,
    "start_time": "2022-01-08T13:41:29.798Z"
   },
   {
    "duration": 18,
    "start_time": "2022-01-08T13:41:29.900Z"
   },
   {
    "duration": 759,
    "start_time": "2022-01-08T13:41:29.927Z"
   },
   {
    "duration": 7,
    "start_time": "2022-01-08T14:11:06.346Z"
   },
   {
    "duration": 18,
    "start_time": "2022-01-08T14:11:13.763Z"
   },
   {
    "duration": 18,
    "start_time": "2022-01-08T14:11:22.029Z"
   },
   {
    "duration": 8,
    "start_time": "2022-01-08T14:11:43.914Z"
   },
   {
    "duration": 7,
    "start_time": "2022-01-08T14:11:48.191Z"
   },
   {
    "duration": 2874,
    "start_time": "2022-01-08T14:42:28.433Z"
   },
   {
    "duration": 455,
    "start_time": "2022-01-08T14:42:31.309Z"
   },
   {
    "duration": 8,
    "start_time": "2022-01-08T14:42:31.766Z"
   },
   {
    "duration": 9,
    "start_time": "2022-01-08T14:42:31.775Z"
   },
   {
    "duration": 7,
    "start_time": "2022-01-08T14:42:31.785Z"
   },
   {
    "duration": 38,
    "start_time": "2022-01-08T14:42:31.793Z"
   },
   {
    "duration": 6,
    "start_time": "2022-01-08T14:42:31.833Z"
   },
   {
    "duration": 8,
    "start_time": "2022-01-08T14:42:31.842Z"
   },
   {
    "duration": 11,
    "start_time": "2022-01-08T14:42:31.853Z"
   },
   {
    "duration": 13,
    "start_time": "2022-01-08T14:42:31.866Z"
   },
   {
    "duration": 85,
    "start_time": "2022-01-08T14:42:31.880Z"
   },
   {
    "duration": 10,
    "start_time": "2022-01-08T14:42:31.967Z"
   },
   {
    "duration": 101,
    "start_time": "2022-01-08T14:42:31.978Z"
   },
   {
    "duration": 10,
    "start_time": "2022-01-08T14:42:32.080Z"
   },
   {
    "duration": 106,
    "start_time": "2022-01-08T14:42:32.092Z"
   },
   {
    "duration": 19,
    "start_time": "2022-01-08T14:42:32.199Z"
   },
   {
    "duration": 47,
    "start_time": "2022-01-08T14:42:32.226Z"
   },
   {
    "duration": 26,
    "start_time": "2022-01-08T14:42:32.274Z"
   },
   {
    "duration": 43,
    "start_time": "2022-01-08T14:42:32.301Z"
   },
   {
    "duration": 4,
    "start_time": "2022-01-08T14:42:32.346Z"
   },
   {
    "duration": 50,
    "start_time": "2022-01-08T14:42:32.352Z"
   },
   {
    "duration": 24,
    "start_time": "2022-01-08T14:42:32.404Z"
   },
   {
    "duration": 178,
    "start_time": "2022-01-08T14:42:32.432Z"
   },
   {
    "duration": 31,
    "start_time": "2022-01-08T14:42:32.612Z"
   },
   {
    "duration": 771,
    "start_time": "2022-01-08T14:42:32.645Z"
   },
   {
    "duration": 12,
    "start_time": "2022-01-08T14:42:33.418Z"
   },
   {
    "duration": 5,
    "start_time": "2022-01-08T14:45:02.258Z"
   },
   {
    "duration": 5,
    "start_time": "2022-01-08T15:00:41.453Z"
   },
   {
    "duration": 12,
    "start_time": "2022-01-08T15:06:39.077Z"
   },
   {
    "duration": 5,
    "start_time": "2022-01-08T15:10:05.716Z"
   },
   {
    "duration": 138,
    "start_time": "2022-01-08T15:10:47.817Z"
   },
   {
    "duration": 9,
    "start_time": "2022-01-08T15:10:53.969Z"
   },
   {
    "duration": 5,
    "start_time": "2022-01-08T15:13:40.993Z"
   },
   {
    "duration": 5,
    "start_time": "2022-01-08T15:14:04.142Z"
   },
   {
    "duration": 5,
    "start_time": "2022-01-08T15:14:11.634Z"
   },
   {
    "duration": 12,
    "start_time": "2022-01-08T15:15:28.055Z"
   },
   {
    "duration": 3,
    "start_time": "2022-01-08T15:17:53.123Z"
   },
   {
    "duration": 4,
    "start_time": "2022-01-08T15:18:10.615Z"
   },
   {
    "duration": 3,
    "start_time": "2022-01-08T15:18:51.907Z"
   },
   {
    "duration": 5,
    "start_time": "2022-01-08T15:19:19.567Z"
   },
   {
    "duration": 344,
    "start_time": "2022-01-08T15:19:57.251Z"
   },
   {
    "duration": 4,
    "start_time": "2022-01-08T15:20:05.035Z"
   },
   {
    "duration": 5,
    "start_time": "2022-01-08T15:20:20.701Z"
   },
   {
    "duration": 2460,
    "start_time": "2022-01-08T15:28:05.134Z"
   },
   {
    "duration": 443,
    "start_time": "2022-01-08T15:28:07.597Z"
   },
   {
    "duration": 6,
    "start_time": "2022-01-08T15:28:08.042Z"
   },
   {
    "duration": 7,
    "start_time": "2022-01-08T15:28:08.049Z"
   },
   {
    "duration": 7,
    "start_time": "2022-01-08T15:28:08.057Z"
   },
   {
    "duration": 4,
    "start_time": "2022-01-08T15:28:08.065Z"
   },
   {
    "duration": 6,
    "start_time": "2022-01-08T15:28:08.070Z"
   },
   {
    "duration": 8,
    "start_time": "2022-01-08T15:28:08.078Z"
   },
   {
    "duration": 43,
    "start_time": "2022-01-08T15:28:08.088Z"
   },
   {
    "duration": 13,
    "start_time": "2022-01-08T15:28:08.132Z"
   },
   {
    "duration": 53,
    "start_time": "2022-01-08T15:28:08.146Z"
   },
   {
    "duration": 8,
    "start_time": "2022-01-08T15:28:08.201Z"
   },
   {
    "duration": 47,
    "start_time": "2022-01-08T15:28:08.227Z"
   },
   {
    "duration": 9,
    "start_time": "2022-01-08T15:28:08.275Z"
   },
   {
    "duration": 107,
    "start_time": "2022-01-08T15:28:08.285Z"
   },
   {
    "duration": 18,
    "start_time": "2022-01-08T15:28:08.394Z"
   },
   {
    "duration": 57,
    "start_time": "2022-01-08T15:28:08.414Z"
   },
   {
    "duration": 25,
    "start_time": "2022-01-08T15:28:08.473Z"
   },
   {
    "duration": 40,
    "start_time": "2022-01-08T15:28:08.500Z"
   },
   {
    "duration": 4,
    "start_time": "2022-01-08T15:28:08.541Z"
   },
   {
    "duration": 30,
    "start_time": "2022-01-08T15:28:08.547Z"
   },
   {
    "duration": 6,
    "start_time": "2022-01-08T15:28:08.579Z"
   },
   {
    "duration": 117,
    "start_time": "2022-01-08T15:28:08.587Z"
   },
   {
    "duration": 28,
    "start_time": "2022-01-08T15:28:08.705Z"
   },
   {
    "duration": 796,
    "start_time": "2022-01-08T15:28:08.734Z"
   },
   {
    "duration": 4,
    "start_time": "2022-01-08T15:28:09.532Z"
   },
   {
    "duration": 13,
    "start_time": "2022-01-08T15:28:09.538Z"
   },
   {
    "duration": 5,
    "start_time": "2022-01-08T15:28:09.552Z"
   },
   {
    "duration": 10,
    "start_time": "2022-01-08T15:28:09.559Z"
   },
   {
    "duration": 12067,
    "start_time": "2022-01-10T04:30:10.368Z"
   },
   {
    "duration": 656,
    "start_time": "2022-01-10T04:30:22.438Z"
   },
   {
    "duration": 11,
    "start_time": "2022-01-10T04:30:23.117Z"
   },
   {
    "duration": 13,
    "start_time": "2022-01-10T04:30:23.131Z"
   },
   {
    "duration": 12,
    "start_time": "2022-01-10T04:30:23.146Z"
   },
   {
    "duration": 8,
    "start_time": "2022-01-10T04:30:23.160Z"
   },
   {
    "duration": 7,
    "start_time": "2022-01-10T04:30:23.170Z"
   },
   {
    "duration": 13,
    "start_time": "2022-01-10T04:30:23.218Z"
   },
   {
    "duration": 16,
    "start_time": "2022-01-10T04:30:23.234Z"
   },
   {
    "duration": 20,
    "start_time": "2022-01-10T04:30:23.252Z"
   },
   {
    "duration": 137,
    "start_time": "2022-01-10T04:30:23.274Z"
   },
   {
    "duration": 14,
    "start_time": "2022-01-10T04:30:23.416Z"
   },
   {
    "duration": 110,
    "start_time": "2022-01-10T04:30:23.432Z"
   },
   {
    "duration": 17,
    "start_time": "2022-01-10T04:30:23.544Z"
   },
   {
    "duration": 186,
    "start_time": "2022-01-10T04:30:23.563Z"
   },
   {
    "duration": 33,
    "start_time": "2022-01-10T04:30:23.752Z"
   },
   {
    "duration": 113,
    "start_time": "2022-01-10T04:30:23.787Z"
   },
   {
    "duration": 58,
    "start_time": "2022-01-10T04:30:23.902Z"
   },
   {
    "duration": 59,
    "start_time": "2022-01-10T04:30:23.962Z"
   },
   {
    "duration": 7,
    "start_time": "2022-01-10T04:30:24.023Z"
   },
   {
    "duration": 54,
    "start_time": "2022-01-10T04:30:24.032Z"
   },
   {
    "duration": 35,
    "start_time": "2022-01-10T04:30:24.088Z"
   },
   {
    "duration": 197,
    "start_time": "2022-01-10T04:30:24.128Z"
   },
   {
    "duration": 32,
    "start_time": "2022-01-10T04:30:24.327Z"
   },
   {
    "duration": 1306,
    "start_time": "2022-01-10T04:30:24.362Z"
   },
   {
    "duration": 8,
    "start_time": "2022-01-10T04:30:25.671Z"
   },
   {
    "duration": 40,
    "start_time": "2022-01-10T04:30:25.681Z"
   },
   {
    "duration": 6,
    "start_time": "2022-01-10T04:30:25.723Z"
   },
   {
    "duration": 14,
    "start_time": "2022-01-10T04:30:25.732Z"
   },
   {
    "duration": 11167,
    "start_time": "2022-01-10T16:44:11.217Z"
   },
   {
    "duration": 512,
    "start_time": "2022-01-10T16:44:22.386Z"
   },
   {
    "duration": 7,
    "start_time": "2022-01-10T16:44:22.901Z"
   },
   {
    "duration": 34,
    "start_time": "2022-01-10T16:44:22.910Z"
   },
   {
    "duration": 7,
    "start_time": "2022-01-10T16:44:22.946Z"
   },
   {
    "duration": 9,
    "start_time": "2022-01-10T16:44:22.955Z"
   },
   {
    "duration": 8,
    "start_time": "2022-01-10T16:44:22.966Z"
   },
   {
    "duration": 10,
    "start_time": "2022-01-10T16:44:22.976Z"
   },
   {
    "duration": 14,
    "start_time": "2022-01-10T16:44:22.988Z"
   },
   {
    "duration": 49,
    "start_time": "2022-01-10T16:44:23.003Z"
   },
   {
    "duration": 67,
    "start_time": "2022-01-10T16:44:23.053Z"
   },
   {
    "duration": 20,
    "start_time": "2022-01-10T16:44:23.122Z"
   },
   {
    "duration": 65,
    "start_time": "2022-01-10T16:44:23.144Z"
   },
   {
    "duration": 10,
    "start_time": "2022-01-10T16:44:23.211Z"
   },
   {
    "duration": 123,
    "start_time": "2022-01-10T16:44:23.223Z"
   },
   {
    "duration": 21,
    "start_time": "2022-01-10T16:44:23.347Z"
   },
   {
    "duration": 81,
    "start_time": "2022-01-10T16:44:23.370Z"
   },
   {
    "duration": 33,
    "start_time": "2022-01-10T16:44:23.453Z"
   },
   {
    "duration": 27,
    "start_time": "2022-01-10T16:44:23.488Z"
   },
   {
    "duration": 27,
    "start_time": "2022-01-10T16:44:23.517Z"
   },
   {
    "duration": 37,
    "start_time": "2022-01-10T16:44:23.546Z"
   },
   {
    "duration": 7,
    "start_time": "2022-01-10T16:44:23.585Z"
   },
   {
    "duration": 120,
    "start_time": "2022-01-10T16:44:23.595Z"
   },
   {
    "duration": 32,
    "start_time": "2022-01-10T16:44:23.717Z"
   },
   {
    "duration": 811,
    "start_time": "2022-01-10T16:44:23.751Z"
   },
   {
    "duration": 6,
    "start_time": "2022-01-10T16:44:24.564Z"
   },
   {
    "duration": 21,
    "start_time": "2022-01-10T16:44:24.571Z"
   },
   {
    "duration": 5,
    "start_time": "2022-01-10T16:44:24.593Z"
   },
   {
    "duration": 12,
    "start_time": "2022-01-10T16:44:24.599Z"
   },
   {
    "duration": 53,
    "start_time": "2022-01-10T16:54:01.186Z"
   },
   {
    "duration": 77,
    "start_time": "2022-01-10T16:54:38.538Z"
   },
   {
    "duration": 8383,
    "start_time": "2022-01-10T16:57:27.849Z"
   },
   {
    "duration": 2863,
    "start_time": "2022-01-10T16:57:45.588Z"
   },
   {
    "duration": 524,
    "start_time": "2022-01-10T16:57:48.454Z"
   },
   {
    "duration": 8,
    "start_time": "2022-01-10T16:57:48.980Z"
   },
   {
    "duration": 11,
    "start_time": "2022-01-10T16:57:48.990Z"
   },
   {
    "duration": 8,
    "start_time": "2022-01-10T16:57:49.003Z"
   },
   {
    "duration": 29,
    "start_time": "2022-01-10T16:57:49.012Z"
   },
   {
    "duration": 6,
    "start_time": "2022-01-10T16:57:49.043Z"
   },
   {
    "duration": 15,
    "start_time": "2022-01-10T16:57:49.051Z"
   },
   {
    "duration": 14,
    "start_time": "2022-01-10T16:57:49.068Z"
   },
   {
    "duration": 18,
    "start_time": "2022-01-10T16:57:49.084Z"
   },
   {
    "duration": 82,
    "start_time": "2022-01-10T16:57:49.104Z"
   },
   {
    "duration": 8,
    "start_time": "2022-01-10T16:57:49.188Z"
   },
   {
    "duration": 72,
    "start_time": "2022-01-10T16:57:49.198Z"
   },
   {
    "duration": 10,
    "start_time": "2022-01-10T16:57:49.272Z"
   },
   {
    "duration": 121,
    "start_time": "2022-01-10T16:57:49.284Z"
   },
   {
    "duration": 34,
    "start_time": "2022-01-10T16:57:49.407Z"
   },
   {
    "duration": 63,
    "start_time": "2022-01-10T16:57:49.443Z"
   },
   {
    "duration": 49,
    "start_time": "2022-01-10T16:57:49.507Z"
   },
   {
    "duration": 29,
    "start_time": "2022-01-10T16:57:49.558Z"
   },
   {
    "duration": 4,
    "start_time": "2022-01-10T16:57:49.589Z"
   },
   {
    "duration": 64,
    "start_time": "2022-01-10T16:57:49.595Z"
   },
   {
    "duration": 8,
    "start_time": "2022-01-10T16:57:49.661Z"
   },
   {
    "duration": 134,
    "start_time": "2022-01-10T16:57:49.672Z"
   },
   {
    "duration": 34,
    "start_time": "2022-01-10T16:57:49.808Z"
   },
   {
    "duration": 800,
    "start_time": "2022-01-10T16:57:49.844Z"
   },
   {
    "duration": 6,
    "start_time": "2022-01-10T16:57:50.647Z"
   },
   {
    "duration": 20,
    "start_time": "2022-01-10T16:57:50.655Z"
   },
   {
    "duration": 6,
    "start_time": "2022-01-10T16:57:50.676Z"
   },
   {
    "duration": 18,
    "start_time": "2022-01-10T16:57:50.683Z"
   },
   {
    "duration": 6358,
    "start_time": "2022-01-10T16:59:12.103Z"
   },
   {
    "duration": 2882,
    "start_time": "2022-01-10T16:59:23.968Z"
   },
   {
    "duration": 560,
    "start_time": "2022-01-10T16:59:26.853Z"
   },
   {
    "duration": 32,
    "start_time": "2022-01-10T16:59:27.415Z"
   },
   {
    "duration": 18,
    "start_time": "2022-01-10T16:59:27.449Z"
   },
   {
    "duration": 33,
    "start_time": "2022-01-10T16:59:27.469Z"
   },
   {
    "duration": 45,
    "start_time": "2022-01-10T16:59:27.503Z"
   },
   {
    "duration": 23,
    "start_time": "2022-01-10T16:59:27.550Z"
   },
   {
    "duration": 24,
    "start_time": "2022-01-10T16:59:27.576Z"
   },
   {
    "duration": 28,
    "start_time": "2022-01-10T16:59:27.602Z"
   },
   {
    "duration": 27,
    "start_time": "2022-01-10T16:59:27.631Z"
   },
   {
    "duration": 97,
    "start_time": "2022-01-10T16:59:27.660Z"
   },
   {
    "duration": 8,
    "start_time": "2022-01-10T16:59:27.759Z"
   },
   {
    "duration": 76,
    "start_time": "2022-01-10T16:59:27.768Z"
   },
   {
    "duration": 10,
    "start_time": "2022-01-10T16:59:27.846Z"
   },
   {
    "duration": 124,
    "start_time": "2022-01-10T16:59:27.857Z"
   },
   {
    "duration": 22,
    "start_time": "2022-01-10T16:59:27.983Z"
   },
   {
    "duration": 74,
    "start_time": "2022-01-10T16:59:28.007Z"
   },
   {
    "duration": 35,
    "start_time": "2022-01-10T16:59:28.083Z"
   },
   {
    "duration": 44,
    "start_time": "2022-01-10T16:59:28.120Z"
   },
   {
    "duration": 5,
    "start_time": "2022-01-10T16:59:28.166Z"
   },
   {
    "duration": 50,
    "start_time": "2022-01-10T16:59:28.172Z"
   },
   {
    "duration": 7,
    "start_time": "2022-01-10T16:59:28.224Z"
   },
   {
    "duration": 126,
    "start_time": "2022-01-10T16:59:28.235Z"
   },
   {
    "duration": 26,
    "start_time": "2022-01-10T16:59:28.363Z"
   },
   {
    "duration": 878,
    "start_time": "2022-01-10T16:59:28.391Z"
   },
   {
    "duration": 5,
    "start_time": "2022-01-10T16:59:29.270Z"
   },
   {
    "duration": 67,
    "start_time": "2022-01-10T16:59:29.276Z"
   },
   {
    "duration": 24,
    "start_time": "2022-01-10T16:59:29.344Z"
   },
   {
    "duration": 29,
    "start_time": "2022-01-10T16:59:29.370Z"
   },
   {
    "duration": 24,
    "start_time": "2022-01-10T17:11:53.242Z"
   },
   {
    "duration": 27,
    "start_time": "2022-01-10T17:12:04.474Z"
   },
   {
    "duration": 24,
    "start_time": "2022-01-10T17:12:25.851Z"
   },
   {
    "duration": 2,
    "start_time": "2022-01-10T17:12:43.096Z"
   },
   {
    "duration": 2663,
    "start_time": "2022-01-10T17:14:04.724Z"
   },
   {
    "duration": 502,
    "start_time": "2022-01-10T17:14:07.389Z"
   },
   {
    "duration": 7,
    "start_time": "2022-01-10T17:14:07.893Z"
   },
   {
    "duration": 38,
    "start_time": "2022-01-10T17:14:07.901Z"
   },
   {
    "duration": 9,
    "start_time": "2022-01-10T17:14:07.940Z"
   },
   {
    "duration": 8,
    "start_time": "2022-01-10T17:14:07.950Z"
   },
   {
    "duration": 6,
    "start_time": "2022-01-10T17:14:07.960Z"
   },
   {
    "duration": 12,
    "start_time": "2022-01-10T17:14:07.967Z"
   },
   {
    "duration": 12,
    "start_time": "2022-01-10T17:14:07.982Z"
   },
   {
    "duration": 14,
    "start_time": "2022-01-10T17:14:07.996Z"
   },
   {
    "duration": 91,
    "start_time": "2022-01-10T17:14:08.012Z"
   },
   {
    "duration": 8,
    "start_time": "2022-01-10T17:14:08.105Z"
   },
   {
    "duration": 4,
    "start_time": "2022-01-10T17:14:08.115Z"
   },
   {
    "duration": 85,
    "start_time": "2022-01-10T17:14:08.120Z"
   },
   {
    "duration": 119,
    "start_time": "2022-01-10T17:14:08.088Z"
   },
   {
    "duration": 117,
    "start_time": "2022-01-10T17:14:08.092Z"
   },
   {
    "duration": 112,
    "start_time": "2022-01-10T17:14:08.098Z"
   },
   {
    "duration": 105,
    "start_time": "2022-01-10T17:14:08.106Z"
   },
   {
    "duration": 100,
    "start_time": "2022-01-10T17:14:08.112Z"
   },
   {
    "duration": 98,
    "start_time": "2022-01-10T17:14:08.115Z"
   },
   {
    "duration": 94,
    "start_time": "2022-01-10T17:14:08.120Z"
   },
   {
    "duration": 92,
    "start_time": "2022-01-10T17:14:08.123Z"
   },
   {
    "duration": 89,
    "start_time": "2022-01-10T17:14:08.127Z"
   },
   {
    "duration": 86,
    "start_time": "2022-01-10T17:14:08.131Z"
   },
   {
    "duration": 80,
    "start_time": "2022-01-10T17:14:08.138Z"
   },
   {
    "duration": 76,
    "start_time": "2022-01-10T17:14:08.143Z"
   },
   {
    "duration": 74,
    "start_time": "2022-01-10T17:14:08.146Z"
   },
   {
    "duration": 72,
    "start_time": "2022-01-10T17:14:08.150Z"
   },
   {
    "duration": 68,
    "start_time": "2022-01-10T17:14:08.154Z"
   },
   {
    "duration": 13,
    "start_time": "2022-01-10T17:15:04.732Z"
   },
   {
    "duration": 2577,
    "start_time": "2022-01-10T17:15:12.868Z"
   },
   {
    "duration": 516,
    "start_time": "2022-01-10T17:15:15.448Z"
   },
   {
    "duration": 6,
    "start_time": "2022-01-10T17:15:15.966Z"
   },
   {
    "duration": 20,
    "start_time": "2022-01-10T17:15:15.974Z"
   },
   {
    "duration": 12,
    "start_time": "2022-01-10T17:15:15.995Z"
   },
   {
    "duration": 14,
    "start_time": "2022-01-10T17:15:16.009Z"
   },
   {
    "duration": 17,
    "start_time": "2022-01-10T17:15:16.025Z"
   },
   {
    "duration": 21,
    "start_time": "2022-01-10T17:15:16.044Z"
   },
   {
    "duration": 17,
    "start_time": "2022-01-10T17:15:16.067Z"
   },
   {
    "duration": 24,
    "start_time": "2022-01-10T17:15:16.085Z"
   },
   {
    "duration": 59,
    "start_time": "2022-01-10T17:15:16.111Z"
   },
   {
    "duration": 17,
    "start_time": "2022-01-10T17:15:16.172Z"
   },
   {
    "duration": 5,
    "start_time": "2022-01-10T17:15:16.190Z"
   },
   {
    "duration": 14,
    "start_time": "2022-01-10T17:15:16.197Z"
   },
   {
    "duration": 108,
    "start_time": "2022-01-10T17:15:16.213Z"
   },
   {
    "duration": 30,
    "start_time": "2022-01-10T17:15:16.323Z"
   },
   {
    "duration": 53,
    "start_time": "2022-01-10T17:15:16.355Z"
   },
   {
    "duration": 51,
    "start_time": "2022-01-10T17:15:16.410Z"
   },
   {
    "duration": 25,
    "start_time": "2022-01-10T17:15:16.463Z"
   },
   {
    "duration": 6,
    "start_time": "2022-01-10T17:15:16.490Z"
   },
   {
    "duration": 49,
    "start_time": "2022-01-10T17:15:16.498Z"
   },
   {
    "duration": 8,
    "start_time": "2022-01-10T17:15:16.549Z"
   },
   {
    "duration": 131,
    "start_time": "2022-01-10T17:15:16.560Z"
   },
   {
    "duration": 23,
    "start_time": "2022-01-10T17:15:16.692Z"
   },
   {
    "duration": 770,
    "start_time": "2022-01-10T17:15:16.717Z"
   },
   {
    "duration": 6,
    "start_time": "2022-01-10T17:15:17.489Z"
   },
   {
    "duration": 19,
    "start_time": "2022-01-10T17:15:17.496Z"
   },
   {
    "duration": 5,
    "start_time": "2022-01-10T17:15:17.517Z"
   },
   {
    "duration": 10,
    "start_time": "2022-01-10T17:15:17.541Z"
   },
   {
    "duration": 2460,
    "start_time": "2022-01-10T17:22:54.367Z"
   },
   {
    "duration": 531,
    "start_time": "2022-01-10T17:22:56.829Z"
   },
   {
    "duration": 27,
    "start_time": "2022-01-10T17:22:57.362Z"
   },
   {
    "duration": 6,
    "start_time": "2022-01-10T17:22:57.391Z"
   },
   {
    "duration": 8,
    "start_time": "2022-01-10T17:22:57.398Z"
   },
   {
    "duration": 34,
    "start_time": "2022-01-10T17:22:57.407Z"
   },
   {
    "duration": 6,
    "start_time": "2022-01-10T17:22:57.443Z"
   },
   {
    "duration": 5,
    "start_time": "2022-01-10T17:22:57.451Z"
   },
   {
    "duration": 9,
    "start_time": "2022-01-10T17:22:57.458Z"
   },
   {
    "duration": 12,
    "start_time": "2022-01-10T17:22:57.469Z"
   },
   {
    "duration": 14,
    "start_time": "2022-01-10T17:22:57.483Z"
   },
   {
    "duration": 92,
    "start_time": "2022-01-10T17:22:57.498Z"
   },
   {
    "duration": 11,
    "start_time": "2022-01-10T17:22:57.592Z"
   },
   {
    "duration": 5,
    "start_time": "2022-01-10T17:22:57.605Z"
   },
   {
    "duration": 12,
    "start_time": "2022-01-10T17:22:57.611Z"
   },
   {
    "duration": 110,
    "start_time": "2022-01-10T17:22:57.624Z"
   },
   {
    "duration": 23,
    "start_time": "2022-01-10T17:22:57.735Z"
   },
   {
    "duration": 52,
    "start_time": "2022-01-10T17:22:57.759Z"
   },
   {
    "duration": 49,
    "start_time": "2022-01-10T17:22:57.813Z"
   },
   {
    "duration": 25,
    "start_time": "2022-01-10T17:22:57.863Z"
   },
   {
    "duration": 4,
    "start_time": "2022-01-10T17:22:57.890Z"
   },
   {
    "duration": 47,
    "start_time": "2022-01-10T17:22:57.895Z"
   },
   {
    "duration": 7,
    "start_time": "2022-01-10T17:22:57.944Z"
   },
   {
    "duration": 112,
    "start_time": "2022-01-10T17:22:57.953Z"
   },
   {
    "duration": 21,
    "start_time": "2022-01-10T17:22:58.066Z"
   },
   {
    "duration": 826,
    "start_time": "2022-01-10T17:22:58.088Z"
   },
   {
    "duration": 7,
    "start_time": "2022-01-10T17:22:58.916Z"
   },
   {
    "duration": 23,
    "start_time": "2022-01-10T17:22:58.924Z"
   },
   {
    "duration": 5,
    "start_time": "2022-01-10T17:22:58.949Z"
   },
   {
    "duration": 9,
    "start_time": "2022-01-10T17:22:58.956Z"
   },
   {
    "duration": 284,
    "start_time": "2022-01-10T17:25:00.166Z"
   },
   {
    "duration": 4,
    "start_time": "2022-01-10T17:25:04.448Z"
   },
   {
    "duration": 6548,
    "start_time": "2022-01-10T17:28:12.302Z"
   },
   {
    "duration": 52,
    "start_time": "2022-01-10T17:28:40.807Z"
   },
   {
    "duration": 720,
    "start_time": "2022-01-10T17:30:14.205Z"
   },
   {
    "duration": 54,
    "start_time": "2022-01-10T17:31:31.529Z"
   },
   {
    "duration": 86,
    "start_time": "2022-01-10T17:32:22.890Z"
   },
   {
    "duration": 6760,
    "start_time": "2022-01-10T17:32:45.665Z"
   },
   {
    "duration": 8,
    "start_time": "2022-01-10T17:33:57.047Z"
   },
   {
    "duration": 129,
    "start_time": "2022-01-10T17:34:50.750Z"
   },
   {
    "duration": 22,
    "start_time": "2022-01-10T17:34:59.387Z"
   },
   {
    "duration": 24,
    "start_time": "2022-01-10T17:35:02.119Z"
   },
   {
    "duration": 23,
    "start_time": "2022-01-10T17:35:05.196Z"
   },
   {
    "duration": 2576,
    "start_time": "2022-01-10T17:35:18.149Z"
   },
   {
    "duration": 714,
    "start_time": "2022-01-10T17:35:20.728Z"
   },
   {
    "duration": 30,
    "start_time": "2022-01-10T17:35:21.445Z"
   },
   {
    "duration": 65,
    "start_time": "2022-01-10T17:35:21.478Z"
   },
   {
    "duration": 8,
    "start_time": "2022-01-10T17:35:21.545Z"
   },
   {
    "duration": 7,
    "start_time": "2022-01-10T17:35:21.555Z"
   },
   {
    "duration": 5,
    "start_time": "2022-01-10T17:35:21.564Z"
   },
   {
    "duration": 6,
    "start_time": "2022-01-10T17:35:21.571Z"
   },
   {
    "duration": 64,
    "start_time": "2022-01-10T17:35:21.579Z"
   },
   {
    "duration": 12,
    "start_time": "2022-01-10T17:35:21.645Z"
   },
   {
    "duration": 14,
    "start_time": "2022-01-10T17:35:21.659Z"
   },
   {
    "duration": 117,
    "start_time": "2022-01-10T17:35:21.675Z"
   },
   {
    "duration": 9,
    "start_time": "2022-01-10T17:35:21.793Z"
   },
   {
    "duration": 39,
    "start_time": "2022-01-10T17:35:21.803Z"
   },
   {
    "duration": 16,
    "start_time": "2022-01-10T17:35:21.844Z"
   },
   {
    "duration": 116,
    "start_time": "2022-01-10T17:35:21.862Z"
   },
   {
    "duration": 23,
    "start_time": "2022-01-10T17:35:21.979Z"
   },
   {
    "duration": 76,
    "start_time": "2022-01-10T17:35:22.005Z"
   },
   {
    "duration": 32,
    "start_time": "2022-01-10T17:35:22.083Z"
   },
   {
    "duration": 41,
    "start_time": "2022-01-10T17:35:22.117Z"
   },
   {
    "duration": 8,
    "start_time": "2022-01-10T17:35:22.160Z"
   },
   {
    "duration": 42,
    "start_time": "2022-01-10T17:35:22.169Z"
   },
   {
    "duration": 18,
    "start_time": "2022-01-10T17:35:22.213Z"
   },
   {
    "duration": 121,
    "start_time": "2022-01-10T17:35:22.233Z"
   },
   {
    "duration": 20,
    "start_time": "2022-01-10T17:35:22.356Z"
   },
   {
    "duration": 825,
    "start_time": "2022-01-10T17:35:22.378Z"
   },
   {
    "duration": 5,
    "start_time": "2022-01-10T17:35:23.206Z"
   },
   {
    "duration": 47,
    "start_time": "2022-01-10T17:35:23.213Z"
   },
   {
    "duration": 10,
    "start_time": "2022-01-10T17:35:23.262Z"
   },
   {
    "duration": 31,
    "start_time": "2022-01-10T17:35:23.274Z"
   },
   {
    "duration": 35,
    "start_time": "2022-01-10T17:35:54.368Z"
   },
   {
    "duration": 54,
    "start_time": "2022-01-10T17:36:47.302Z"
   },
   {
    "duration": 98,
    "start_time": "2022-01-10T17:37:03.076Z"
   },
   {
    "duration": 39,
    "start_time": "2022-01-10T17:37:08.486Z"
   },
   {
    "duration": 57,
    "start_time": "2022-01-10T17:37:49.502Z"
   },
   {
    "duration": 60,
    "start_time": "2022-01-10T17:37:56.064Z"
   },
   {
    "duration": 104,
    "start_time": "2022-01-10T17:39:43.014Z"
   },
   {
    "duration": 286,
    "start_time": "2022-01-10T17:40:59.723Z"
   },
   {
    "duration": 186,
    "start_time": "2022-01-10T17:41:06.401Z"
   },
   {
    "duration": 345,
    "start_time": "2022-01-10T17:41:10.409Z"
   },
   {
    "duration": 89,
    "start_time": "2022-01-10T17:41:44.803Z"
   },
   {
    "duration": 131,
    "start_time": "2022-01-10T17:42:58.828Z"
   },
   {
    "duration": 141,
    "start_time": "2022-01-10T17:43:40.315Z"
   },
   {
    "duration": 207,
    "start_time": "2022-01-10T17:44:34.640Z"
   },
   {
    "duration": 116,
    "start_time": "2022-01-10T17:45:09.376Z"
   },
   {
    "duration": 82,
    "start_time": "2022-01-10T17:45:17.369Z"
   },
   {
    "duration": 222,
    "start_time": "2022-01-10T17:46:37.033Z"
   },
   {
    "duration": 219,
    "start_time": "2022-01-10T17:46:50.039Z"
   },
   {
    "duration": 198,
    "start_time": "2022-01-10T17:49:16.660Z"
   },
   {
    "duration": 181,
    "start_time": "2022-01-10T17:49:47.494Z"
   },
   {
    "duration": 235,
    "start_time": "2022-01-10T17:58:01.883Z"
   },
   {
    "duration": 300,
    "start_time": "2022-01-10T17:59:08.971Z"
   },
   {
    "duration": 318,
    "start_time": "2022-01-10T18:06:32.903Z"
   },
   {
    "duration": 368,
    "start_time": "2022-01-10T18:06:47.673Z"
   },
   {
    "duration": 285,
    "start_time": "2022-01-10T18:07:23.576Z"
   },
   {
    "duration": 306,
    "start_time": "2022-01-10T18:07:41.895Z"
   },
   {
    "duration": 300,
    "start_time": "2022-01-10T18:08:09.497Z"
   },
   {
    "duration": 762,
    "start_time": "2022-01-10T18:18:21.732Z"
   },
   {
    "duration": 985,
    "start_time": "2022-01-10T18:18:31.256Z"
   },
   {
    "duration": 236,
    "start_time": "2022-01-10T18:20:44.136Z"
   },
   {
    "duration": 229,
    "start_time": "2022-01-10T18:20:51.621Z"
   },
   {
    "duration": 767,
    "start_time": "2022-01-10T18:24:20.141Z"
   },
   {
    "duration": 768,
    "start_time": "2022-01-10T18:25:15.181Z"
   },
   {
    "duration": 857,
    "start_time": "2022-01-10T18:26:21.541Z"
   },
   {
    "duration": 775,
    "start_time": "2022-01-10T18:26:38.188Z"
   },
   {
    "duration": 820,
    "start_time": "2022-01-10T18:27:17.841Z"
   },
   {
    "duration": 835,
    "start_time": "2022-01-10T18:27:23.127Z"
   },
   {
    "duration": 1235,
    "start_time": "2022-01-10T18:28:35.441Z"
   },
   {
    "duration": 741,
    "start_time": "2022-01-10T18:32:26.913Z"
   },
   {
    "duration": 835,
    "start_time": "2022-01-10T18:33:16.973Z"
   },
   {
    "duration": 791,
    "start_time": "2022-01-10T18:34:04.613Z"
   },
   {
    "duration": 85,
    "start_time": "2022-01-10T19:11:51.118Z"
   },
   {
    "duration": 86,
    "start_time": "2022-01-10T19:11:59.385Z"
   },
   {
    "duration": 289,
    "start_time": "2022-01-10T19:12:22.837Z"
   },
   {
    "duration": 25,
    "start_time": "2022-01-10T19:12:32.169Z"
   },
   {
    "duration": 29,
    "start_time": "2022-01-10T19:12:44.905Z"
   },
   {
    "duration": 30,
    "start_time": "2022-01-10T19:14:32.374Z"
   },
   {
    "duration": 6,
    "start_time": "2022-01-10T19:33:20.892Z"
   },
   {
    "duration": 2514,
    "start_time": "2022-01-10T19:51:08.416Z"
   },
   {
    "duration": 466,
    "start_time": "2022-01-10T19:51:10.933Z"
   },
   {
    "duration": 7,
    "start_time": "2022-01-10T19:51:11.401Z"
   },
   {
    "duration": 6,
    "start_time": "2022-01-10T19:51:11.442Z"
   },
   {
    "duration": 20,
    "start_time": "2022-01-10T19:51:11.449Z"
   },
   {
    "duration": 24,
    "start_time": "2022-01-10T19:51:11.470Z"
   },
   {
    "duration": 20,
    "start_time": "2022-01-10T19:51:11.496Z"
   },
   {
    "duration": 10,
    "start_time": "2022-01-10T19:51:11.519Z"
   },
   {
    "duration": 12,
    "start_time": "2022-01-10T19:51:11.531Z"
   },
   {
    "duration": 13,
    "start_time": "2022-01-10T19:51:11.545Z"
   },
   {
    "duration": 297,
    "start_time": "2022-01-10T19:51:11.560Z"
   },
   {
    "duration": 226,
    "start_time": "2022-01-10T19:51:11.859Z"
   },
   {
    "duration": 109,
    "start_time": "2022-01-10T19:51:12.086Z"
   },
   {
    "duration": 13,
    "start_time": "2022-01-10T19:51:12.196Z"
   },
   {
    "duration": 6,
    "start_time": "2022-01-10T19:51:12.210Z"
   },
   {
    "duration": 24,
    "start_time": "2022-01-10T19:51:12.217Z"
   },
   {
    "duration": 109,
    "start_time": "2022-01-10T19:51:12.242Z"
   },
   {
    "duration": 20,
    "start_time": "2022-01-10T19:51:12.353Z"
   },
   {
    "duration": 67,
    "start_time": "2022-01-10T19:51:12.375Z"
   },
   {
    "duration": 30,
    "start_time": "2022-01-10T19:51:12.444Z"
   },
   {
    "duration": 24,
    "start_time": "2022-01-10T19:51:12.476Z"
   },
   {
    "duration": 5,
    "start_time": "2022-01-10T19:51:12.501Z"
   },
   {
    "duration": 53,
    "start_time": "2022-01-10T19:51:12.508Z"
   },
   {
    "duration": 8,
    "start_time": "2022-01-10T19:51:12.563Z"
   },
   {
    "duration": 122,
    "start_time": "2022-01-10T19:51:12.572Z"
   },
   {
    "duration": 22,
    "start_time": "2022-01-10T19:51:12.696Z"
   },
   {
    "duration": 43,
    "start_time": "2022-01-10T19:51:12.720Z"
   },
   {
    "duration": 920,
    "start_time": "2022-01-10T19:51:12.765Z"
   },
   {
    "duration": 6,
    "start_time": "2022-01-10T19:51:13.687Z"
   },
   {
    "duration": 19,
    "start_time": "2022-01-10T19:51:13.695Z"
   },
   {
    "duration": 5,
    "start_time": "2022-01-10T19:51:13.716Z"
   },
   {
    "duration": 29,
    "start_time": "2022-01-10T19:51:13.722Z"
   },
   {
    "duration": 112,
    "start_time": "2022-01-11T06:42:24.291Z"
   },
   {
    "duration": 116,
    "start_time": "2022-01-11T06:42:41.634Z"
   }
  ],
  "kernelspec": {
   "display_name": "Python 3",
   "language": "python",
   "name": "python3"
  },
  "language_info": {
   "codemirror_mode": {
    "name": "ipython",
    "version": 3
   },
   "file_extension": ".py",
   "mimetype": "text/x-python",
   "name": "python",
   "nbconvert_exporter": "python",
   "pygments_lexer": "ipython3",
   "version": "3.7.12"
  },
  "toc": {
   "base_numbering": 1,
   "nav_menu": {},
   "number_sections": true,
   "sideBar": true,
   "skip_h1_title": true,
   "title_cell": "Table of Contents",
   "title_sidebar": "Contents",
   "toc_cell": false,
   "toc_position": {
    "height": "calc(100% - 180px)",
    "left": "10px",
    "top": "150px",
    "width": "165px"
   },
   "toc_section_display": true,
   "toc_window_display": false
  }
 },
 "nbformat": 4,
 "nbformat_minor": 2
}
