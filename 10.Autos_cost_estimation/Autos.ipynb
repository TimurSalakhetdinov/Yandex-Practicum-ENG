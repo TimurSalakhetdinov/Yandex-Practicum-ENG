{
 "cells": [
  {
   "cell_type": "markdown",
   "metadata": {},
   "source": [
    "# Определение стоимости автомобилей"
   ]
  },
  {
   "cell_type": "markdown",
   "metadata": {},
   "source": [
    "Сервис по продаже автомобилей с пробегом «Не бит, не крашен» разрабатывает приложение для привлечения новых клиентов. В нём можно быстро узнать рыночную стоимость своего автомобиля. В вашем распоряжении исторические данные: технические характеристики, комплектации и цены автомобилей. Вам нужно построить модель для определения стоимости. \n",
    "\n",
    "Заказчику важны:\n",
    "\n",
    "- качество предсказания;\n",
    "- скорость предсказания;\n",
    "- время обучения."
   ]
  },
  {
   "cell_type": "markdown",
   "metadata": {},
   "source": [
    "*Описание данных*\n",
    "\n",
    "Данные находятся в файле /datasets/autos.csv.\n",
    "\n",
    "Признаки\n",
    "* \t\tDateCrawled — дата скачивания анкеты из базы\n",
    "* \t\tVehicleType — тип автомобильного кузова\n",
    "* \t\tRegistrationYear — год регистрации автомобиля\n",
    "* \t\tGearbox — тип коробки передач\n",
    "* \t\tPower — мощность (л. с.)\n",
    "* \t\tModel — модель автомобиля\n",
    "* \t\tKilometer — пробег (км)\n",
    "* \t\tRegistrationMonth — месяц регистрации автомобиля\n",
    "* \t\tFuelType — тип топлива\n",
    "* \t\tBrand — марка автомобиля\n",
    "* \t\tNotRepaired — была машина в ремонте или нет\n",
    "* \t\tDateCreated — дата создания анкеты\n",
    "* \t\tNumberOfPictures — количество фотографий автомобиля\n",
    "* \t\tPostalCode — почтовый индекс владельца анкеты (пользователя)\n",
    "* \t\tLastSeen — дата последней активности пользователя\n",
    "\n",
    "Целевой признак\n",
    "* Price — цена (евро)"
   ]
  },
  {
   "cell_type": "markdown",
   "metadata": {},
   "source": [
    "## Подготовка данных"
   ]
  },
  {
   "cell_type": "markdown",
   "metadata": {},
   "source": [
    "### Выгрузка данных"
   ]
  },
  {
   "cell_type": "code",
   "execution_count": null,
   "metadata": {},
   "outputs": [],
   "source": [
    "# Загрузим все необходимые библиотеки:\n",
    "import pandas as pd\n",
    "import numpy as np\n",
    "import matplotlib.pyplot as plt\n",
    "import seaborn as sns\n",
    "import time\n",
    "from sklearn.model_selection import train_test_split\n",
    "from sklearn.preprocessing import OrdinalEncoder, StandardScaler\n",
    "from sklearn.model_selection import cross_val_score, GridSearchCV\n",
    "from sklearn.tree import DecisionTreeRegressor\n",
    "from sklearn.ensemble import RandomForestRegressor\n",
    "from sklearn.linear_model import LinearRegression\n",
    "from lightgbm import LGBMRegressor\n",
    "from sklearn.dummy import DummyRegressor\n",
    "from sklearn.metrics import mean_squared_error\n",
    "import warnings \n",
    "warnings.filterwarnings('ignore')"
   ]
  },
  {
   "cell_type": "code",
   "execution_count": 2,
   "metadata": {},
   "outputs": [
    {
     "name": "stdout",
     "output_type": "stream",
     "text": [
      "<class 'pandas.core.frame.DataFrame'>\n",
      "RangeIndex: 354369 entries, 0 to 354368\n",
      "Data columns (total 16 columns):\n",
      " #   Column             Non-Null Count   Dtype \n",
      "---  ------             --------------   ----- \n",
      " 0   DateCrawled        354369 non-null  object\n",
      " 1   Price              354369 non-null  int64 \n",
      " 2   VehicleType        316879 non-null  object\n",
      " 3   RegistrationYear   354369 non-null  int64 \n",
      " 4   Gearbox            334536 non-null  object\n",
      " 5   Power              354369 non-null  int64 \n",
      " 6   Model              334664 non-null  object\n",
      " 7   Kilometer          354369 non-null  int64 \n",
      " 8   RegistrationMonth  354369 non-null  int64 \n",
      " 9   FuelType           321474 non-null  object\n",
      " 10  Brand              354369 non-null  object\n",
      " 11  NotRepaired        283215 non-null  object\n",
      " 12  DateCreated        354369 non-null  object\n",
      " 13  NumberOfPictures   354369 non-null  int64 \n",
      " 14  PostalCode         354369 non-null  int64 \n",
      " 15  LastSeen           354369 non-null  object\n",
      "dtypes: int64(7), object(9)\n",
      "memory usage: 43.3+ MB\n"
     ]
    },
    {
     "data": {
      "text/plain": [
       "None"
      ]
     },
     "metadata": {},
     "output_type": "display_data"
    },
    {
     "data": {
      "text/html": [
       "<div>\n",
       "<style scoped>\n",
       "    .dataframe tbody tr th:only-of-type {\n",
       "        vertical-align: middle;\n",
       "    }\n",
       "\n",
       "    .dataframe tbody tr th {\n",
       "        vertical-align: top;\n",
       "    }\n",
       "\n",
       "    .dataframe thead th {\n",
       "        text-align: right;\n",
       "    }\n",
       "</style>\n",
       "<table border=\"1\" class=\"dataframe\">\n",
       "  <thead>\n",
       "    <tr style=\"text-align: right;\">\n",
       "      <th></th>\n",
       "      <th>DateCrawled</th>\n",
       "      <th>Price</th>\n",
       "      <th>VehicleType</th>\n",
       "      <th>RegistrationYear</th>\n",
       "      <th>Gearbox</th>\n",
       "      <th>Power</th>\n",
       "      <th>Model</th>\n",
       "      <th>Kilometer</th>\n",
       "      <th>RegistrationMonth</th>\n",
       "      <th>FuelType</th>\n",
       "      <th>Brand</th>\n",
       "      <th>NotRepaired</th>\n",
       "      <th>DateCreated</th>\n",
       "      <th>NumberOfPictures</th>\n",
       "      <th>PostalCode</th>\n",
       "      <th>LastSeen</th>\n",
       "    </tr>\n",
       "  </thead>\n",
       "  <tbody>\n",
       "    <tr>\n",
       "      <th>0</th>\n",
       "      <td>2016-03-24 11:52:17</td>\n",
       "      <td>480</td>\n",
       "      <td>NaN</td>\n",
       "      <td>1993</td>\n",
       "      <td>manual</td>\n",
       "      <td>0</td>\n",
       "      <td>golf</td>\n",
       "      <td>150000</td>\n",
       "      <td>0</td>\n",
       "      <td>petrol</td>\n",
       "      <td>volkswagen</td>\n",
       "      <td>NaN</td>\n",
       "      <td>2016-03-24 00:00:00</td>\n",
       "      <td>0</td>\n",
       "      <td>70435</td>\n",
       "      <td>2016-04-07 03:16:57</td>\n",
       "    </tr>\n",
       "    <tr>\n",
       "      <th>1</th>\n",
       "      <td>2016-03-24 10:58:45</td>\n",
       "      <td>18300</td>\n",
       "      <td>coupe</td>\n",
       "      <td>2011</td>\n",
       "      <td>manual</td>\n",
       "      <td>190</td>\n",
       "      <td>NaN</td>\n",
       "      <td>125000</td>\n",
       "      <td>5</td>\n",
       "      <td>gasoline</td>\n",
       "      <td>audi</td>\n",
       "      <td>yes</td>\n",
       "      <td>2016-03-24 00:00:00</td>\n",
       "      <td>0</td>\n",
       "      <td>66954</td>\n",
       "      <td>2016-04-07 01:46:50</td>\n",
       "    </tr>\n",
       "    <tr>\n",
       "      <th>2</th>\n",
       "      <td>2016-03-14 12:52:21</td>\n",
       "      <td>9800</td>\n",
       "      <td>suv</td>\n",
       "      <td>2004</td>\n",
       "      <td>auto</td>\n",
       "      <td>163</td>\n",
       "      <td>grand</td>\n",
       "      <td>125000</td>\n",
       "      <td>8</td>\n",
       "      <td>gasoline</td>\n",
       "      <td>jeep</td>\n",
       "      <td>NaN</td>\n",
       "      <td>2016-03-14 00:00:00</td>\n",
       "      <td>0</td>\n",
       "      <td>90480</td>\n",
       "      <td>2016-04-05 12:47:46</td>\n",
       "    </tr>\n",
       "    <tr>\n",
       "      <th>3</th>\n",
       "      <td>2016-03-17 16:54:04</td>\n",
       "      <td>1500</td>\n",
       "      <td>small</td>\n",
       "      <td>2001</td>\n",
       "      <td>manual</td>\n",
       "      <td>75</td>\n",
       "      <td>golf</td>\n",
       "      <td>150000</td>\n",
       "      <td>6</td>\n",
       "      <td>petrol</td>\n",
       "      <td>volkswagen</td>\n",
       "      <td>no</td>\n",
       "      <td>2016-03-17 00:00:00</td>\n",
       "      <td>0</td>\n",
       "      <td>91074</td>\n",
       "      <td>2016-03-17 17:40:17</td>\n",
       "    </tr>\n",
       "    <tr>\n",
       "      <th>4</th>\n",
       "      <td>2016-03-31 17:25:20</td>\n",
       "      <td>3600</td>\n",
       "      <td>small</td>\n",
       "      <td>2008</td>\n",
       "      <td>manual</td>\n",
       "      <td>69</td>\n",
       "      <td>fabia</td>\n",
       "      <td>90000</td>\n",
       "      <td>7</td>\n",
       "      <td>gasoline</td>\n",
       "      <td>skoda</td>\n",
       "      <td>no</td>\n",
       "      <td>2016-03-31 00:00:00</td>\n",
       "      <td>0</td>\n",
       "      <td>60437</td>\n",
       "      <td>2016-04-06 10:17:21</td>\n",
       "    </tr>\n",
       "  </tbody>\n",
       "</table>\n",
       "</div>"
      ],
      "text/plain": [
       "           DateCrawled  Price VehicleType  RegistrationYear Gearbox  Power  \\\n",
       "0  2016-03-24 11:52:17    480         NaN              1993  manual      0   \n",
       "1  2016-03-24 10:58:45  18300       coupe              2011  manual    190   \n",
       "2  2016-03-14 12:52:21   9800         suv              2004    auto    163   \n",
       "3  2016-03-17 16:54:04   1500       small              2001  manual     75   \n",
       "4  2016-03-31 17:25:20   3600       small              2008  manual     69   \n",
       "\n",
       "   Model  Kilometer  RegistrationMonth  FuelType       Brand NotRepaired  \\\n",
       "0   golf     150000                  0    petrol  volkswagen         NaN   \n",
       "1    NaN     125000                  5  gasoline        audi         yes   \n",
       "2  grand     125000                  8  gasoline        jeep         NaN   \n",
       "3   golf     150000                  6    petrol  volkswagen          no   \n",
       "4  fabia      90000                  7  gasoline       skoda          no   \n",
       "\n",
       "           DateCreated  NumberOfPictures  PostalCode             LastSeen  \n",
       "0  2016-03-24 00:00:00                 0       70435  2016-04-07 03:16:57  \n",
       "1  2016-03-24 00:00:00                 0       66954  2016-04-07 01:46:50  \n",
       "2  2016-03-14 00:00:00                 0       90480  2016-04-05 12:47:46  \n",
       "3  2016-03-17 00:00:00                 0       91074  2016-03-17 17:40:17  \n",
       "4  2016-03-31 00:00:00                 0       60437  2016-04-06 10:17:21  "
      ]
     },
     "metadata": {},
     "output_type": "display_data"
    },
    {
     "data": {
      "text/html": [
       "<div>\n",
       "<style scoped>\n",
       "    .dataframe tbody tr th:only-of-type {\n",
       "        vertical-align: middle;\n",
       "    }\n",
       "\n",
       "    .dataframe tbody tr th {\n",
       "        vertical-align: top;\n",
       "    }\n",
       "\n",
       "    .dataframe thead th {\n",
       "        text-align: right;\n",
       "    }\n",
       "</style>\n",
       "<table border=\"1\" class=\"dataframe\">\n",
       "  <thead>\n",
       "    <tr style=\"text-align: right;\">\n",
       "      <th></th>\n",
       "      <th>Price</th>\n",
       "      <th>RegistrationYear</th>\n",
       "      <th>Power</th>\n",
       "      <th>Kilometer</th>\n",
       "      <th>RegistrationMonth</th>\n",
       "      <th>NumberOfPictures</th>\n",
       "      <th>PostalCode</th>\n",
       "    </tr>\n",
       "  </thead>\n",
       "  <tbody>\n",
       "    <tr>\n",
       "      <th>count</th>\n",
       "      <td>354369.000000</td>\n",
       "      <td>354369.000000</td>\n",
       "      <td>354369.000000</td>\n",
       "      <td>354369.000000</td>\n",
       "      <td>354369.000000</td>\n",
       "      <td>354369.0</td>\n",
       "      <td>354369.000000</td>\n",
       "    </tr>\n",
       "    <tr>\n",
       "      <th>mean</th>\n",
       "      <td>4416.656776</td>\n",
       "      <td>2004.234448</td>\n",
       "      <td>110.094337</td>\n",
       "      <td>128211.172535</td>\n",
       "      <td>5.714645</td>\n",
       "      <td>0.0</td>\n",
       "      <td>50508.689087</td>\n",
       "    </tr>\n",
       "    <tr>\n",
       "      <th>std</th>\n",
       "      <td>4514.158514</td>\n",
       "      <td>90.227958</td>\n",
       "      <td>189.850405</td>\n",
       "      <td>37905.341530</td>\n",
       "      <td>3.726421</td>\n",
       "      <td>0.0</td>\n",
       "      <td>25783.096248</td>\n",
       "    </tr>\n",
       "    <tr>\n",
       "      <th>min</th>\n",
       "      <td>0.000000</td>\n",
       "      <td>1000.000000</td>\n",
       "      <td>0.000000</td>\n",
       "      <td>5000.000000</td>\n",
       "      <td>0.000000</td>\n",
       "      <td>0.0</td>\n",
       "      <td>1067.000000</td>\n",
       "    </tr>\n",
       "    <tr>\n",
       "      <th>25%</th>\n",
       "      <td>1050.000000</td>\n",
       "      <td>1999.000000</td>\n",
       "      <td>69.000000</td>\n",
       "      <td>125000.000000</td>\n",
       "      <td>3.000000</td>\n",
       "      <td>0.0</td>\n",
       "      <td>30165.000000</td>\n",
       "    </tr>\n",
       "    <tr>\n",
       "      <th>50%</th>\n",
       "      <td>2700.000000</td>\n",
       "      <td>2003.000000</td>\n",
       "      <td>105.000000</td>\n",
       "      <td>150000.000000</td>\n",
       "      <td>6.000000</td>\n",
       "      <td>0.0</td>\n",
       "      <td>49413.000000</td>\n",
       "    </tr>\n",
       "    <tr>\n",
       "      <th>75%</th>\n",
       "      <td>6400.000000</td>\n",
       "      <td>2008.000000</td>\n",
       "      <td>143.000000</td>\n",
       "      <td>150000.000000</td>\n",
       "      <td>9.000000</td>\n",
       "      <td>0.0</td>\n",
       "      <td>71083.000000</td>\n",
       "    </tr>\n",
       "    <tr>\n",
       "      <th>max</th>\n",
       "      <td>20000.000000</td>\n",
       "      <td>9999.000000</td>\n",
       "      <td>20000.000000</td>\n",
       "      <td>150000.000000</td>\n",
       "      <td>12.000000</td>\n",
       "      <td>0.0</td>\n",
       "      <td>99998.000000</td>\n",
       "    </tr>\n",
       "  </tbody>\n",
       "</table>\n",
       "</div>"
      ],
      "text/plain": [
       "               Price  RegistrationYear          Power      Kilometer  \\\n",
       "count  354369.000000     354369.000000  354369.000000  354369.000000   \n",
       "mean     4416.656776       2004.234448     110.094337  128211.172535   \n",
       "std      4514.158514         90.227958     189.850405   37905.341530   \n",
       "min         0.000000       1000.000000       0.000000    5000.000000   \n",
       "25%      1050.000000       1999.000000      69.000000  125000.000000   \n",
       "50%      2700.000000       2003.000000     105.000000  150000.000000   \n",
       "75%      6400.000000       2008.000000     143.000000  150000.000000   \n",
       "max     20000.000000       9999.000000   20000.000000  150000.000000   \n",
       "\n",
       "       RegistrationMonth  NumberOfPictures     PostalCode  \n",
       "count      354369.000000          354369.0  354369.000000  \n",
       "mean            5.714645               0.0   50508.689087  \n",
       "std             3.726421               0.0   25783.096248  \n",
       "min             0.000000               0.0    1067.000000  \n",
       "25%             3.000000               0.0   30165.000000  \n",
       "50%             6.000000               0.0   49413.000000  \n",
       "75%             9.000000               0.0   71083.000000  \n",
       "max            12.000000               0.0   99998.000000  "
      ]
     },
     "metadata": {},
     "output_type": "display_data"
    },
    {
     "data": {
      "text/plain": [
       "'Число пропусков:'"
      ]
     },
     "metadata": {},
     "output_type": "display_data"
    },
    {
     "data": {
      "text/plain": [
       "DateCrawled              0\n",
       "Price                    0\n",
       "VehicleType          37490\n",
       "RegistrationYear         0\n",
       "Gearbox              19833\n",
       "Power                    0\n",
       "Model                19705\n",
       "Kilometer                0\n",
       "RegistrationMonth        0\n",
       "FuelType             32895\n",
       "Brand                    0\n",
       "NotRepaired          71154\n",
       "DateCreated              0\n",
       "NumberOfPictures         0\n",
       "PostalCode               0\n",
       "LastSeen                 0\n",
       "dtype: int64"
      ]
     },
     "metadata": {},
     "output_type": "display_data"
    },
    {
     "data": {
      "text/plain": [
       "'Число дубликатов:'"
      ]
     },
     "metadata": {},
     "output_type": "display_data"
    },
    {
     "data": {
      "text/plain": [
       "4"
      ]
     },
     "metadata": {},
     "output_type": "display_data"
    }
   ],
   "source": [
    "# Выведем данные:\n",
    "data = pd.read_csv('/datasets/autos.csv')\n",
    "\n",
    "# Выведем все необходимые характеристики данных:\n",
    "def analize(table):\n",
    "    display(table.info())\n",
    "    display(table.head())\n",
    "    display(table.describe())\n",
    "    display('Число пропусков:', table.isna().sum())\n",
    "    display('Число дубликатов:', table.duplicated().sum())\n",
    "\n",
    "analize(data)"
   ]
  },
  {
   "cell_type": "code",
   "execution_count": 3,
   "metadata": {
    "scrolled": true
   },
   "outputs": [
    {
     "name": "stdout",
     "output_type": "stream",
     "text": [
      "Price\n",
      "[    0     1     2 ... 19998 19999 20000]\n",
      "RegistrationYear\n",
      "[1000 1001 1039 1111 1200 1234 1253 1255 1300 1400 1500 1600 1602 1688\n",
      " 1800 1910 1915 1919 1920 1923 1925 1927 1928 1929 1930 1931 1932 1933\n",
      " 1934 1935 1936 1937 1938 1940 1941 1942 1943 1944 1945 1946 1947 1948\n",
      " 1949 1950 1951 1952 1953 1954 1955 1956 1957 1958 1959 1960 1961 1962\n",
      " 1963 1964 1965 1966 1967 1968 1969 1970 1971 1972 1973 1974 1975 1976\n",
      " 1977 1978 1979 1980 1981 1982 1983 1984 1985 1986 1987 1988 1989 1990\n",
      " 1991 1992 1993 1994 1995 1996 1997 1998 1999 2000 2001 2002 2003 2004\n",
      " 2005 2006 2007 2008 2009 2010 2011 2012 2013 2014 2015 2016 2017 2018\n",
      " 2019 2066 2200 2222 2290 2500 2800 2900 3000 3200 3500 3700 3800 4000\n",
      " 4100 4500 4800 5000 5300 5555 5600 5900 5911 6000 6500 7000 7100 7500\n",
      " 7800 8000 8200 8455 8500 8888 9000 9229 9450 9996 9999]\n",
      "Power\n",
      "[    0     1     2     3     4     5     6     7     8     9    10    11\n",
      "    12    13    14    15    16    17    18    19    20    21    22    23\n",
      "    24    25    26    27    28    29    30    31    32    33    34    35\n",
      "    36    37    38    39    40    41    42    43    44    45    46    47\n",
      "    48    49    50    51    52    53    54    55    56    57    58    59\n",
      "    60    61    62    63    64    65    66    67    68    69    70    71\n",
      "    72    73    74    75    76    77    78    79    80    81    82    83\n",
      "    84    85    86    87    88    89    90    91    92    93    94    95\n",
      "    96    97    98    99   100   101   102   103   104   105   106   107\n",
      "   108   109   110   111   112   113   114   115   116   117   118   119\n",
      "   120   121   122   123   124   125   126   127   128   129   130   131\n",
      "   132   133   134   135   136   137   138   139   140   141   142   143\n",
      "   144   145   146   147   148   149   150   151   152   153   154   155\n",
      "   156   157   158   159   160   161   162   163   164   165   166   167\n",
      "   168   169   170   171   172   173   174   175   176   177   178   179\n",
      "   180   181   182   183   184   185   186   187   188   189   190   191\n",
      "   192   193   194   195   196   197   198   199   200   201   202   203\n",
      "   204   205   206   207   208   209   210   211   212   213   214   215\n",
      "   216   217   218   219   220   221   222   223   224   225   226   227\n",
      "   228   229   230   231   232   233   234   235   236   237   238   239\n",
      "   240   241   242   243   244   245   246   247   248   249   250   251\n",
      "   252   253   254   255   256   257   258   259   260   261   262   264\n",
      "   265   266   267   268   269   270   271   272   273   274   275   276\n",
      "   277   278   279   280   281   282   283   284   285   286   287   288\n",
      "   289   290   292   293   294   295   296   297   298   299   300   301\n",
      "   303   304   305   306   307   308   309   310   311   313   314   315\n",
      "   316   317   318   320   321   322   323   324   325   326   327   328\n",
      "   329   330   331   332   333   334   335   336   337   338   339   340\n",
      "   341   343   344   345   346   347   348   349   350   351   352   353\n",
      "   354   355   356   357   358   360   361   362   363   364   365   367\n",
      "   368   370   371   374   375   376   377   379   380   381   382   385\n",
      "   386   387   388   390   392   394   396   398   399   400   401   402\n",
      "   405   408   409   411   416   420   421   425   426   428   430   431\n",
      "   435   440   442   445   449   450   454   457   459   460   475   476\n",
      "   485   487   489   490   500   504   505   507   508   510   514   515\n",
      "   517   519   520   521   525   530   540   541   544   550   551   553\n",
      "   560   572   574   579   580   584   585   599   600   601   602   603\n",
      "   604   606   607   610   612   620   640   645   650   651   671   678\n",
      "   682   685   696   700   702   703   732   743   750   751   754   771\n",
      "   776   800   805   808   850   851   871   900   901   902   903   907\n",
      "   909   923   950   952   953   960   998   999  1000  1001  1002  1003\n",
      "  1004  1005  1011  1012  1016  1017  1021  1024  1054  1055  1056  1062\n",
      "  1079  1082  1090  1100  1102  1103  1105  1111  1115  1120  1149  1151\n",
      "  1158  1160  1162  1164  1199  1200  1202  1221  1223  1230  1239  1240\n",
      "  1241  1250  1252  1256  1275  1288  1299  1300  1312  1317  1324  1339\n",
      "  1351  1360  1362  1363  1367  1390  1394  1398  1399  1400  1401  1403\n",
      "  1405  1416  1432  1433  1436  1500  1501  1502  1503  1506  1521  1548\n",
      "  1595  1596  1597  1598  1600  1625  1631  1653  1659  1689  1700  1701\n",
      "  1703  1704  1707  1753  1771  1779  1780  1781  1783  1793  1796  1799\n",
      "  1800  1801  1870  1895  1896  1900  1910  1920  1922  1933  1937  1968\n",
      "  1986  1988  1992  1993  1995  1998  1999  2000  2004  2005  2007  2009\n",
      "  2016  2017  2018  2172  2200  2201  2331  2340  2389  2402  2461  2598\n",
      "  2729  2789  2792  2799  3000  3199  3454  3500  3750  4400  4507  4700\n",
      "  5000  5411  5420  5575  5809  5815  5867  6006  6010  6011  6012  6018\n",
      "  6045  6062  6226  6512  6920  7508  7511  7512  7515  7518  7529  7544\n",
      "  8011  8259  8404  8500  9000  9007  9010  9011  9012  9013  9710 10000\n",
      " 10110 10218 10311 10317 10520 10522 10710 10910 10912 11011 11025 11111\n",
      " 11509 11530 11635 12012 12510 12512 12684 13616 13636 14009 15001 15016\n",
      " 15017 15020 15033 16011 16051 16311 16312 17011 17019 17410 17700 17932\n",
      " 19208 19211 19312 20000]\n",
      "Kilometer\n",
      "[  5000  10000  20000  30000  40000  50000  60000  70000  80000  90000\n",
      " 100000 125000 150000]\n",
      "RegistrationMonth\n",
      "[ 0  1  2  3  4  5  6  7  8  9 10 11 12]\n",
      "NumberOfPictures\n",
      "[0]\n",
      "PostalCode\n",
      "[ 1067  1068  1069 ... 99994 99996 99998]\n"
     ]
    }
   ],
   "source": [
    "# Проанализируем количественные данные:\n",
    "columns = 'Price', 'RegistrationYear', 'Power', 'Kilometer', 'RegistrationMonth', 'NumberOfPictures', 'PostalCode'\n",
    "for i in columns:\n",
    "    print(i)\n",
    "    print(np.sort(data[i].unique()))"
   ]
  },
  {
   "cell_type": "code",
   "execution_count": 4,
   "metadata": {
    "scrolled": false
   },
   "outputs": [
    {
     "data": {
      "text/html": [
       "<div>\n",
       "<style scoped>\n",
       "    .dataframe tbody tr th:only-of-type {\n",
       "        vertical-align: middle;\n",
       "    }\n",
       "\n",
       "    .dataframe tbody tr th {\n",
       "        vertical-align: top;\n",
       "    }\n",
       "\n",
       "    .dataframe thead th {\n",
       "        text-align: right;\n",
       "    }\n",
       "</style>\n",
       "<table border=\"1\" class=\"dataframe\">\n",
       "  <thead>\n",
       "    <tr style=\"text-align: right;\">\n",
       "      <th></th>\n",
       "      <th>DateCrawled</th>\n",
       "      <th>Price</th>\n",
       "      <th>VehicleType</th>\n",
       "      <th>RegistrationYear</th>\n",
       "      <th>Gearbox</th>\n",
       "      <th>Power</th>\n",
       "      <th>Model</th>\n",
       "      <th>Kilometer</th>\n",
       "      <th>RegistrationMonth</th>\n",
       "      <th>FuelType</th>\n",
       "      <th>Brand</th>\n",
       "      <th>NotRepaired</th>\n",
       "      <th>DateCreated</th>\n",
       "      <th>NumberOfPictures</th>\n",
       "      <th>PostalCode</th>\n",
       "      <th>LastSeen</th>\n",
       "    </tr>\n",
       "  </thead>\n",
       "  <tbody>\n",
       "    <tr>\n",
       "      <th>15</th>\n",
       "      <td>2016-03-11 21:39:15</td>\n",
       "      <td>450</td>\n",
       "      <td>small</td>\n",
       "      <td>1910</td>\n",
       "      <td>NaN</td>\n",
       "      <td>0</td>\n",
       "      <td>ka</td>\n",
       "      <td>5000</td>\n",
       "      <td>0</td>\n",
       "      <td>petrol</td>\n",
       "      <td>ford</td>\n",
       "      <td>NaN</td>\n",
       "      <td>2016-03-11 00:00:00</td>\n",
       "      <td>0</td>\n",
       "      <td>24148</td>\n",
       "      <td>2016-03-19 08:46:47</td>\n",
       "    </tr>\n",
       "    <tr>\n",
       "      <th>622</th>\n",
       "      <td>2016-03-16 16:55:09</td>\n",
       "      <td>0</td>\n",
       "      <td>NaN</td>\n",
       "      <td>1111</td>\n",
       "      <td>NaN</td>\n",
       "      <td>0</td>\n",
       "      <td>NaN</td>\n",
       "      <td>5000</td>\n",
       "      <td>0</td>\n",
       "      <td>NaN</td>\n",
       "      <td>opel</td>\n",
       "      <td>NaN</td>\n",
       "      <td>2016-03-16 00:00:00</td>\n",
       "      <td>0</td>\n",
       "      <td>44628</td>\n",
       "      <td>2016-03-20 16:44:37</td>\n",
       "    </tr>\n",
       "    <tr>\n",
       "      <th>6629</th>\n",
       "      <td>2016-04-02 13:47:16</td>\n",
       "      <td>0</td>\n",
       "      <td>small</td>\n",
       "      <td>1910</td>\n",
       "      <td>NaN</td>\n",
       "      <td>0</td>\n",
       "      <td>NaN</td>\n",
       "      <td>5000</td>\n",
       "      <td>1</td>\n",
       "      <td>other</td>\n",
       "      <td>sonstige_autos</td>\n",
       "      <td>NaN</td>\n",
       "      <td>2016-04-02 00:00:00</td>\n",
       "      <td>0</td>\n",
       "      <td>93105</td>\n",
       "      <td>2016-04-04 11:16:30</td>\n",
       "    </tr>\n",
       "    <tr>\n",
       "      <th>6977</th>\n",
       "      <td>2016-03-24 08:37:22</td>\n",
       "      <td>135</td>\n",
       "      <td>NaN</td>\n",
       "      <td>1910</td>\n",
       "      <td>NaN</td>\n",
       "      <td>0</td>\n",
       "      <td>NaN</td>\n",
       "      <td>5000</td>\n",
       "      <td>0</td>\n",
       "      <td>NaN</td>\n",
       "      <td>opel</td>\n",
       "      <td>NaN</td>\n",
       "      <td>2016-03-24 00:00:00</td>\n",
       "      <td>0</td>\n",
       "      <td>19374</td>\n",
       "      <td>2016-04-06 20:46:08</td>\n",
       "    </tr>\n",
       "    <tr>\n",
       "      <th>10183</th>\n",
       "      <td>2016-03-27 13:59:08</td>\n",
       "      <td>1250</td>\n",
       "      <td>NaN</td>\n",
       "      <td>1910</td>\n",
       "      <td>NaN</td>\n",
       "      <td>0</td>\n",
       "      <td>other</td>\n",
       "      <td>5000</td>\n",
       "      <td>0</td>\n",
       "      <td>NaN</td>\n",
       "      <td>audi</td>\n",
       "      <td>NaN</td>\n",
       "      <td>2016-03-27 00:00:00</td>\n",
       "      <td>0</td>\n",
       "      <td>18445</td>\n",
       "      <td>2016-04-07 10:45:31</td>\n",
       "    </tr>\n",
       "    <tr>\n",
       "      <th>...</th>\n",
       "      <td>...</td>\n",
       "      <td>...</td>\n",
       "      <td>...</td>\n",
       "      <td>...</td>\n",
       "      <td>...</td>\n",
       "      <td>...</td>\n",
       "      <td>...</td>\n",
       "      <td>...</td>\n",
       "      <td>...</td>\n",
       "      <td>...</td>\n",
       "      <td>...</td>\n",
       "      <td>...</td>\n",
       "      <td>...</td>\n",
       "      <td>...</td>\n",
       "      <td>...</td>\n",
       "      <td>...</td>\n",
       "    </tr>\n",
       "    <tr>\n",
       "      <th>340759</th>\n",
       "      <td>2016-04-04 23:55:47</td>\n",
       "      <td>700</td>\n",
       "      <td>NaN</td>\n",
       "      <td>1600</td>\n",
       "      <td>manual</td>\n",
       "      <td>1600</td>\n",
       "      <td>a3</td>\n",
       "      <td>150000</td>\n",
       "      <td>4</td>\n",
       "      <td>petrol</td>\n",
       "      <td>audi</td>\n",
       "      <td>no</td>\n",
       "      <td>2016-04-04 00:00:00</td>\n",
       "      <td>0</td>\n",
       "      <td>86343</td>\n",
       "      <td>2016-04-05 06:44:07</td>\n",
       "    </tr>\n",
       "    <tr>\n",
       "      <th>343083</th>\n",
       "      <td>2016-04-01 08:51:08</td>\n",
       "      <td>1</td>\n",
       "      <td>other</td>\n",
       "      <td>1910</td>\n",
       "      <td>NaN</td>\n",
       "      <td>0</td>\n",
       "      <td>NaN</td>\n",
       "      <td>5000</td>\n",
       "      <td>1</td>\n",
       "      <td>other</td>\n",
       "      <td>volkswagen</td>\n",
       "      <td>NaN</td>\n",
       "      <td>2016-04-01 00:00:00</td>\n",
       "      <td>0</td>\n",
       "      <td>18273</td>\n",
       "      <td>2016-04-07 05:44:39</td>\n",
       "    </tr>\n",
       "    <tr>\n",
       "      <th>348830</th>\n",
       "      <td>2016-03-22 00:38:15</td>\n",
       "      <td>1</td>\n",
       "      <td>NaN</td>\n",
       "      <td>1000</td>\n",
       "      <td>NaN</td>\n",
       "      <td>1000</td>\n",
       "      <td>NaN</td>\n",
       "      <td>150000</td>\n",
       "      <td>0</td>\n",
       "      <td>NaN</td>\n",
       "      <td>sonstige_autos</td>\n",
       "      <td>NaN</td>\n",
       "      <td>2016-03-21 00:00:00</td>\n",
       "      <td>0</td>\n",
       "      <td>41472</td>\n",
       "      <td>2016-04-05 14:18:01</td>\n",
       "    </tr>\n",
       "    <tr>\n",
       "      <th>351682</th>\n",
       "      <td>2016-03-12 00:57:39</td>\n",
       "      <td>11500</td>\n",
       "      <td>NaN</td>\n",
       "      <td>1800</td>\n",
       "      <td>NaN</td>\n",
       "      <td>16</td>\n",
       "      <td>other</td>\n",
       "      <td>5000</td>\n",
       "      <td>6</td>\n",
       "      <td>petrol</td>\n",
       "      <td>fiat</td>\n",
       "      <td>NaN</td>\n",
       "      <td>2016-03-11 00:00:00</td>\n",
       "      <td>0</td>\n",
       "      <td>16515</td>\n",
       "      <td>2016-04-05 19:47:27</td>\n",
       "    </tr>\n",
       "    <tr>\n",
       "      <th>353961</th>\n",
       "      <td>2016-03-17 13:54:22</td>\n",
       "      <td>200</td>\n",
       "      <td>NaN</td>\n",
       "      <td>1910</td>\n",
       "      <td>NaN</td>\n",
       "      <td>0</td>\n",
       "      <td>NaN</td>\n",
       "      <td>5000</td>\n",
       "      <td>0</td>\n",
       "      <td>petrol</td>\n",
       "      <td>sonstige_autos</td>\n",
       "      <td>NaN</td>\n",
       "      <td>2016-03-17 00:00:00</td>\n",
       "      <td>0</td>\n",
       "      <td>42289</td>\n",
       "      <td>2016-03-31 22:46:47</td>\n",
       "    </tr>\n",
       "  </tbody>\n",
       "</table>\n",
       "<p>168 rows × 16 columns</p>\n",
       "</div>"
      ],
      "text/plain": [
       "                DateCrawled  Price VehicleType  RegistrationYear Gearbox  \\\n",
       "15      2016-03-11 21:39:15    450       small              1910     NaN   \n",
       "622     2016-03-16 16:55:09      0         NaN              1111     NaN   \n",
       "6629    2016-04-02 13:47:16      0       small              1910     NaN   \n",
       "6977    2016-03-24 08:37:22    135         NaN              1910     NaN   \n",
       "10183   2016-03-27 13:59:08   1250         NaN              1910     NaN   \n",
       "...                     ...    ...         ...               ...     ...   \n",
       "340759  2016-04-04 23:55:47    700         NaN              1600  manual   \n",
       "343083  2016-04-01 08:51:08      1       other              1910     NaN   \n",
       "348830  2016-03-22 00:38:15      1         NaN              1000     NaN   \n",
       "351682  2016-03-12 00:57:39  11500         NaN              1800     NaN   \n",
       "353961  2016-03-17 13:54:22    200         NaN              1910     NaN   \n",
       "\n",
       "        Power  Model  Kilometer  RegistrationMonth FuelType           Brand  \\\n",
       "15          0     ka       5000                  0   petrol            ford   \n",
       "622         0    NaN       5000                  0      NaN            opel   \n",
       "6629        0    NaN       5000                  1    other  sonstige_autos   \n",
       "6977        0    NaN       5000                  0      NaN            opel   \n",
       "10183       0  other       5000                  0      NaN            audi   \n",
       "...       ...    ...        ...                ...      ...             ...   \n",
       "340759   1600     a3     150000                  4   petrol            audi   \n",
       "343083      0    NaN       5000                  1    other      volkswagen   \n",
       "348830   1000    NaN     150000                  0      NaN  sonstige_autos   \n",
       "351682     16  other       5000                  6   petrol            fiat   \n",
       "353961      0    NaN       5000                  0   petrol  sonstige_autos   \n",
       "\n",
       "       NotRepaired          DateCreated  NumberOfPictures  PostalCode  \\\n",
       "15             NaN  2016-03-11 00:00:00                 0       24148   \n",
       "622            NaN  2016-03-16 00:00:00                 0       44628   \n",
       "6629           NaN  2016-04-02 00:00:00                 0       93105   \n",
       "6977           NaN  2016-03-24 00:00:00                 0       19374   \n",
       "10183          NaN  2016-03-27 00:00:00                 0       18445   \n",
       "...            ...                  ...               ...         ...   \n",
       "340759          no  2016-04-04 00:00:00                 0       86343   \n",
       "343083         NaN  2016-04-01 00:00:00                 0       18273   \n",
       "348830         NaN  2016-03-21 00:00:00                 0       41472   \n",
       "351682         NaN  2016-03-11 00:00:00                 0       16515   \n",
       "353961         NaN  2016-03-17 00:00:00                 0       42289   \n",
       "\n",
       "                   LastSeen  \n",
       "15      2016-03-19 08:46:47  \n",
       "622     2016-03-20 16:44:37  \n",
       "6629    2016-04-04 11:16:30  \n",
       "6977    2016-04-06 20:46:08  \n",
       "10183   2016-04-07 10:45:31  \n",
       "...                     ...  \n",
       "340759  2016-04-05 06:44:07  \n",
       "343083  2016-04-07 05:44:39  \n",
       "348830  2016-04-05 14:18:01  \n",
       "351682  2016-04-05 19:47:27  \n",
       "353961  2016-03-31 22:46:47  \n",
       "\n",
       "[168 rows x 16 columns]"
      ]
     },
     "execution_count": 4,
     "metadata": {},
     "output_type": "execute_result"
    }
   ],
   "source": [
    "# Проверим, что это за автомобили до 1919 года:\n",
    "data.query('RegistrationYear < 1919')"
   ]
  },
  {
   "cell_type": "code",
   "execution_count": 5,
   "metadata": {},
   "outputs": [
    {
     "data": {
      "text/html": [
       "<div>\n",
       "<style scoped>\n",
       "    .dataframe tbody tr th:only-of-type {\n",
       "        vertical-align: middle;\n",
       "    }\n",
       "\n",
       "    .dataframe tbody tr th {\n",
       "        vertical-align: top;\n",
       "    }\n",
       "\n",
       "    .dataframe thead th {\n",
       "        text-align: right;\n",
       "    }\n",
       "</style>\n",
       "<table border=\"1\" class=\"dataframe\">\n",
       "  <thead>\n",
       "    <tr style=\"text-align: right;\">\n",
       "      <th></th>\n",
       "      <th>DateCrawled</th>\n",
       "      <th>Price</th>\n",
       "      <th>VehicleType</th>\n",
       "      <th>RegistrationYear</th>\n",
       "      <th>Gearbox</th>\n",
       "      <th>Power</th>\n",
       "      <th>Model</th>\n",
       "      <th>Kilometer</th>\n",
       "      <th>RegistrationMonth</th>\n",
       "      <th>FuelType</th>\n",
       "      <th>Brand</th>\n",
       "      <th>NotRepaired</th>\n",
       "      <th>DateCreated</th>\n",
       "      <th>NumberOfPictures</th>\n",
       "      <th>PostalCode</th>\n",
       "      <th>LastSeen</th>\n",
       "    </tr>\n",
       "  </thead>\n",
       "  <tbody>\n",
       "    <tr>\n",
       "      <th>12946</th>\n",
       "      <td>2016-03-29 18:39:40</td>\n",
       "      <td>49</td>\n",
       "      <td>NaN</td>\n",
       "      <td>5000</td>\n",
       "      <td>NaN</td>\n",
       "      <td>0</td>\n",
       "      <td>golf</td>\n",
       "      <td>5000</td>\n",
       "      <td>12</td>\n",
       "      <td>NaN</td>\n",
       "      <td>volkswagen</td>\n",
       "      <td>NaN</td>\n",
       "      <td>2016-03-29 00:00:00</td>\n",
       "      <td>0</td>\n",
       "      <td>74523</td>\n",
       "      <td>2016-04-06 04:16:14</td>\n",
       "    </tr>\n",
       "    <tr>\n",
       "      <th>15147</th>\n",
       "      <td>2016-03-14 00:52:02</td>\n",
       "      <td>0</td>\n",
       "      <td>NaN</td>\n",
       "      <td>9999</td>\n",
       "      <td>NaN</td>\n",
       "      <td>0</td>\n",
       "      <td>NaN</td>\n",
       "      <td>10000</td>\n",
       "      <td>0</td>\n",
       "      <td>NaN</td>\n",
       "      <td>sonstige_autos</td>\n",
       "      <td>NaN</td>\n",
       "      <td>2016-03-13 00:00:00</td>\n",
       "      <td>0</td>\n",
       "      <td>32689</td>\n",
       "      <td>2016-03-21 23:46:46</td>\n",
       "    </tr>\n",
       "    <tr>\n",
       "      <th>15870</th>\n",
       "      <td>2016-04-02 11:55:48</td>\n",
       "      <td>1700</td>\n",
       "      <td>NaN</td>\n",
       "      <td>3200</td>\n",
       "      <td>NaN</td>\n",
       "      <td>0</td>\n",
       "      <td>NaN</td>\n",
       "      <td>5000</td>\n",
       "      <td>0</td>\n",
       "      <td>NaN</td>\n",
       "      <td>sonstige_autos</td>\n",
       "      <td>NaN</td>\n",
       "      <td>2016-04-02 00:00:00</td>\n",
       "      <td>0</td>\n",
       "      <td>33649</td>\n",
       "      <td>2016-04-06 09:46:13</td>\n",
       "    </tr>\n",
       "    <tr>\n",
       "      <th>17271</th>\n",
       "      <td>2016-03-23 16:43:29</td>\n",
       "      <td>700</td>\n",
       "      <td>NaN</td>\n",
       "      <td>9999</td>\n",
       "      <td>NaN</td>\n",
       "      <td>0</td>\n",
       "      <td>other</td>\n",
       "      <td>10000</td>\n",
       "      <td>0</td>\n",
       "      <td>NaN</td>\n",
       "      <td>opel</td>\n",
       "      <td>NaN</td>\n",
       "      <td>2016-03-23 00:00:00</td>\n",
       "      <td>0</td>\n",
       "      <td>21769</td>\n",
       "      <td>2016-04-05 20:16:15</td>\n",
       "    </tr>\n",
       "    <tr>\n",
       "      <th>17346</th>\n",
       "      <td>2016-03-06 16:06:20</td>\n",
       "      <td>6500</td>\n",
       "      <td>NaN</td>\n",
       "      <td>8888</td>\n",
       "      <td>NaN</td>\n",
       "      <td>0</td>\n",
       "      <td>NaN</td>\n",
       "      <td>10000</td>\n",
       "      <td>0</td>\n",
       "      <td>NaN</td>\n",
       "      <td>sonstige_autos</td>\n",
       "      <td>NaN</td>\n",
       "      <td>2016-03-06 00:00:00</td>\n",
       "      <td>0</td>\n",
       "      <td>55262</td>\n",
       "      <td>2016-03-30 20:46:55</td>\n",
       "    </tr>\n",
       "    <tr>\n",
       "      <th>...</th>\n",
       "      <td>...</td>\n",
       "      <td>...</td>\n",
       "      <td>...</td>\n",
       "      <td>...</td>\n",
       "      <td>...</td>\n",
       "      <td>...</td>\n",
       "      <td>...</td>\n",
       "      <td>...</td>\n",
       "      <td>...</td>\n",
       "      <td>...</td>\n",
       "      <td>...</td>\n",
       "      <td>...</td>\n",
       "      <td>...</td>\n",
       "      <td>...</td>\n",
       "      <td>...</td>\n",
       "      <td>...</td>\n",
       "    </tr>\n",
       "    <tr>\n",
       "      <th>334967</th>\n",
       "      <td>2016-03-20 17:53:51</td>\n",
       "      <td>12000</td>\n",
       "      <td>NaN</td>\n",
       "      <td>4000</td>\n",
       "      <td>NaN</td>\n",
       "      <td>500</td>\n",
       "      <td>golf</td>\n",
       "      <td>5000</td>\n",
       "      <td>0</td>\n",
       "      <td>NaN</td>\n",
       "      <td>volkswagen</td>\n",
       "      <td>no</td>\n",
       "      <td>2016-03-20 00:00:00</td>\n",
       "      <td>0</td>\n",
       "      <td>57392</td>\n",
       "      <td>2016-04-07 00:46:30</td>\n",
       "    </tr>\n",
       "    <tr>\n",
       "      <th>335727</th>\n",
       "      <td>2016-03-09 07:01:27</td>\n",
       "      <td>0</td>\n",
       "      <td>NaN</td>\n",
       "      <td>7500</td>\n",
       "      <td>manual</td>\n",
       "      <td>0</td>\n",
       "      <td>other</td>\n",
       "      <td>10000</td>\n",
       "      <td>0</td>\n",
       "      <td>petrol</td>\n",
       "      <td>mini</td>\n",
       "      <td>no</td>\n",
       "      <td>2016-03-09 00:00:00</td>\n",
       "      <td>0</td>\n",
       "      <td>9669</td>\n",
       "      <td>2016-03-19 19:44:50</td>\n",
       "    </tr>\n",
       "    <tr>\n",
       "      <th>338829</th>\n",
       "      <td>2016-03-24 19:49:36</td>\n",
       "      <td>50</td>\n",
       "      <td>NaN</td>\n",
       "      <td>3000</td>\n",
       "      <td>NaN</td>\n",
       "      <td>3000</td>\n",
       "      <td>golf</td>\n",
       "      <td>100000</td>\n",
       "      <td>6</td>\n",
       "      <td>NaN</td>\n",
       "      <td>volkswagen</td>\n",
       "      <td>yes</td>\n",
       "      <td>2016-03-24 00:00:00</td>\n",
       "      <td>0</td>\n",
       "      <td>23992</td>\n",
       "      <td>2016-04-03 13:17:57</td>\n",
       "    </tr>\n",
       "    <tr>\n",
       "      <th>340548</th>\n",
       "      <td>2016-04-02 17:44:03</td>\n",
       "      <td>0</td>\n",
       "      <td>NaN</td>\n",
       "      <td>3500</td>\n",
       "      <td>manual</td>\n",
       "      <td>75</td>\n",
       "      <td>NaN</td>\n",
       "      <td>5000</td>\n",
       "      <td>3</td>\n",
       "      <td>petrol</td>\n",
       "      <td>sonstige_autos</td>\n",
       "      <td>NaN</td>\n",
       "      <td>2016-04-02 00:00:00</td>\n",
       "      <td>0</td>\n",
       "      <td>96465</td>\n",
       "      <td>2016-04-04 15:17:51</td>\n",
       "    </tr>\n",
       "    <tr>\n",
       "      <th>341791</th>\n",
       "      <td>2016-03-28 17:37:30</td>\n",
       "      <td>1</td>\n",
       "      <td>NaN</td>\n",
       "      <td>3000</td>\n",
       "      <td>NaN</td>\n",
       "      <td>0</td>\n",
       "      <td>zafira</td>\n",
       "      <td>5000</td>\n",
       "      <td>0</td>\n",
       "      <td>NaN</td>\n",
       "      <td>opel</td>\n",
       "      <td>NaN</td>\n",
       "      <td>2016-03-28 00:00:00</td>\n",
       "      <td>0</td>\n",
       "      <td>26624</td>\n",
       "      <td>2016-04-02 22:17:49</td>\n",
       "    </tr>\n",
       "  </tbody>\n",
       "</table>\n",
       "<p>105 rows × 16 columns</p>\n",
       "</div>"
      ],
      "text/plain": [
       "                DateCrawled  Price VehicleType  RegistrationYear Gearbox  \\\n",
       "12946   2016-03-29 18:39:40     49         NaN              5000     NaN   \n",
       "15147   2016-03-14 00:52:02      0         NaN              9999     NaN   \n",
       "15870   2016-04-02 11:55:48   1700         NaN              3200     NaN   \n",
       "17271   2016-03-23 16:43:29    700         NaN              9999     NaN   \n",
       "17346   2016-03-06 16:06:20   6500         NaN              8888     NaN   \n",
       "...                     ...    ...         ...               ...     ...   \n",
       "334967  2016-03-20 17:53:51  12000         NaN              4000     NaN   \n",
       "335727  2016-03-09 07:01:27      0         NaN              7500  manual   \n",
       "338829  2016-03-24 19:49:36     50         NaN              3000     NaN   \n",
       "340548  2016-04-02 17:44:03      0         NaN              3500  manual   \n",
       "341791  2016-03-28 17:37:30      1         NaN              3000     NaN   \n",
       "\n",
       "        Power   Model  Kilometer  RegistrationMonth FuelType           Brand  \\\n",
       "12946       0    golf       5000                 12      NaN      volkswagen   \n",
       "15147       0     NaN      10000                  0      NaN  sonstige_autos   \n",
       "15870       0     NaN       5000                  0      NaN  sonstige_autos   \n",
       "17271       0   other      10000                  0      NaN            opel   \n",
       "17346       0     NaN      10000                  0      NaN  sonstige_autos   \n",
       "...       ...     ...        ...                ...      ...             ...   \n",
       "334967    500    golf       5000                  0      NaN      volkswagen   \n",
       "335727      0   other      10000                  0   petrol            mini   \n",
       "338829   3000    golf     100000                  6      NaN      volkswagen   \n",
       "340548     75     NaN       5000                  3   petrol  sonstige_autos   \n",
       "341791      0  zafira       5000                  0      NaN            opel   \n",
       "\n",
       "       NotRepaired          DateCreated  NumberOfPictures  PostalCode  \\\n",
       "12946          NaN  2016-03-29 00:00:00                 0       74523   \n",
       "15147          NaN  2016-03-13 00:00:00                 0       32689   \n",
       "15870          NaN  2016-04-02 00:00:00                 0       33649   \n",
       "17271          NaN  2016-03-23 00:00:00                 0       21769   \n",
       "17346          NaN  2016-03-06 00:00:00                 0       55262   \n",
       "...            ...                  ...               ...         ...   \n",
       "334967          no  2016-03-20 00:00:00                 0       57392   \n",
       "335727          no  2016-03-09 00:00:00                 0        9669   \n",
       "338829         yes  2016-03-24 00:00:00                 0       23992   \n",
       "340548         NaN  2016-04-02 00:00:00                 0       96465   \n",
       "341791         NaN  2016-03-28 00:00:00                 0       26624   \n",
       "\n",
       "                   LastSeen  \n",
       "12946   2016-04-06 04:16:14  \n",
       "15147   2016-03-21 23:46:46  \n",
       "15870   2016-04-06 09:46:13  \n",
       "17271   2016-04-05 20:16:15  \n",
       "17346   2016-03-30 20:46:55  \n",
       "...                     ...  \n",
       "334967  2016-04-07 00:46:30  \n",
       "335727  2016-03-19 19:44:50  \n",
       "338829  2016-04-03 13:17:57  \n",
       "340548  2016-04-04 15:17:51  \n",
       "341791  2016-04-02 22:17:49  \n",
       "\n",
       "[105 rows x 16 columns]"
      ]
     },
     "execution_count": 5,
     "metadata": {},
     "output_type": "execute_result"
    }
   ],
   "source": [
    "# Проверим, что это за автомобили после 2019 года:\n",
    "data.query('RegistrationYear > 2019')"
   ]
  },
  {
   "cell_type": "markdown",
   "metadata": {},
   "source": [
    "Это какие-то совсем некоректные данные, их всего 168+105 при общем числе данных 354369, думаю их можно удалить."
   ]
  },
  {
   "cell_type": "code",
   "execution_count": 6,
   "metadata": {},
   "outputs": [
    {
     "data": {
      "text/plain": [
       "0     37352\n",
       "3     34373\n",
       "6     31508\n",
       "4     29270\n",
       "5     29153\n",
       "7     27213\n",
       "10    26099\n",
       "12    24289\n",
       "11    24186\n",
       "9     23813\n",
       "1     23219\n",
       "8     22627\n",
       "2     21267\n",
       "Name: RegistrationMonth, dtype: int64"
      ]
     },
     "execution_count": 6,
     "metadata": {},
     "output_type": "execute_result"
    }
   ],
   "source": [
    "data['RegistrationMonth'].value_counts()"
   ]
  },
  {
   "cell_type": "markdown",
   "metadata": {},
   "source": [
    "Здесь слишком много '0' их сложно удалить или изменить. Нужно менять саму форму сбора информации."
   ]
  },
  {
   "cell_type": "markdown",
   "metadata": {},
   "source": [
    "**Выводы:**\n",
    "* пропуски в столбцах vehicletype, gearbox, model, fueltype, notrepaired,\n",
    "* 4 дубликата,\n",
    "* в числовых данных явные проблемы с RegistrationYear до 1919 и после 2019,\n",
    "* есть нули в RegistrationMonth - сложно их взять и заменить на 6 например - это приведет к росту значимости 6 месяца, тут нужно форму приложения менять,\n",
    "* существует гипотеза, что если разных возрастов свое ценообразование - можно создать столбец с группировкой данных по возрастам.\n",
    "* три столбца DateCrawled, DateCreated, LastSeen никак не влияют на стоимость автомобиля, их можно удалить,\n",
    "* в столбце NumberOfPictures все данные равны 0, тоже удалим, \n",
    "* в мощности двигателя полный разброс данных и выше 4000 не бывает автомобилей - можно удалить столбец, хотя данный показатель важен для стоимости, либо попросить привести в порядок данные,\n",
    "* километраж зафиксирован, слишком низкая вариативность данных - скорее всего в форме приложения можно только сумму выбрать, а не указать произвольное число,\n",
    "* разработчикам приложения необходимо поменять форму для заполнения."
   ]
  },
  {
   "cell_type": "markdown",
   "metadata": {},
   "source": [
    "### Обработка данных"
   ]
  },
  {
   "cell_type": "code",
   "execution_count": 7,
   "metadata": {},
   "outputs": [],
   "source": [
    "# Приведем названия стобцов к нижнему регистру:\n",
    "data.columns = data.columns.str.lower()"
   ]
  },
  {
   "cell_type": "code",
   "execution_count": 8,
   "metadata": {},
   "outputs": [
    {
     "name": "stdout",
     "output_type": "stream",
     "text": [
      "<class 'pandas.core.frame.DataFrame'>\n",
      "RangeIndex: 354369 entries, 0 to 354368\n",
      "Data columns (total 16 columns):\n",
      " #   Column             Non-Null Count   Dtype \n",
      "---  ------             --------------   ----- \n",
      " 0   datecrawled        354369 non-null  object\n",
      " 1   price              354369 non-null  int64 \n",
      " 2   vehicletype        354369 non-null  object\n",
      " 3   registrationyear   354369 non-null  int64 \n",
      " 4   gearbox            354369 non-null  object\n",
      " 5   power              354369 non-null  int64 \n",
      " 6   model              354369 non-null  object\n",
      " 7   kilometer          354369 non-null  int64 \n",
      " 8   registrationmonth  354369 non-null  int64 \n",
      " 9   fueltype           354369 non-null  object\n",
      " 10  brand              354369 non-null  object\n",
      " 11  notrepaired        354369 non-null  object\n",
      " 12  datecreated        354369 non-null  object\n",
      " 13  numberofpictures   354369 non-null  int64 \n",
      " 14  postalcode         354369 non-null  int64 \n",
      " 15  lastseen           354369 non-null  object\n",
      "dtypes: int64(7), object(9)\n",
      "memory usage: 43.3+ MB\n"
     ]
    }
   ],
   "source": [
    "# Заменим пропуски в категориальных данных на unknown:\n",
    "data['vehicletype'] = data['vehicletype'].fillna('unknown1')\n",
    "data['gearbox'] = data['gearbox'].fillna('unknown2')\n",
    "data['model'] = data['model'].fillna('unknown3')\n",
    "data['fueltype'] = data['fueltype'].fillna('unknown4')\n",
    "data['notrepaired'] = data['notrepaired'].fillna('unknown5')\n",
    "data.info()"
   ]
  },
  {
   "cell_type": "code",
   "execution_count": 9,
   "metadata": {
    "scrolled": true
   },
   "outputs": [
    {
     "data": {
      "text/plain": [
       "array([1919, 1920, 1923, 1925, 1927, 1928, 1929, 1930, 1931, 1932, 1933,\n",
       "       1934, 1935, 1936, 1937, 1938, 1940, 1941, 1942, 1943, 1944, 1945,\n",
       "       1946, 1947, 1948, 1949, 1950, 1951, 1952, 1953, 1954, 1955, 1956,\n",
       "       1957, 1958, 1959, 1960, 1961, 1962, 1963, 1964, 1965, 1966, 1967,\n",
       "       1968, 1969, 1970, 1971, 1972, 1973, 1974, 1975, 1976, 1977, 1978,\n",
       "       1979, 1980, 1981, 1982, 1983, 1984, 1985, 1986, 1987, 1988, 1989,\n",
       "       1990, 1991, 1992, 1993, 1994, 1995, 1996, 1997, 1998, 1999, 2000,\n",
       "       2001, 2002, 2003, 2004, 2005, 2006, 2007, 2008, 2009, 2010, 2011,\n",
       "       2012, 2013, 2014, 2015, 2016, 2017, 2018, 2019])"
      ]
     },
     "execution_count": 9,
     "metadata": {},
     "output_type": "execute_result"
    }
   ],
   "source": [
    "# Удалим данные по году регистрации млащде 1919 года и старше 2020:\n",
    "data = data.query('registrationyear > 1918 & registrationyear < 2020')\n",
    "np.sort(data['registrationyear'].unique())"
   ]
  },
  {
   "cell_type": "code",
   "execution_count": 10,
   "metadata": {},
   "outputs": [],
   "source": [
    "# Добавим столбец с группировкой данных по возврасту авто:\n",
    "def age(registrationyear):\n",
    "    if registrationyear < 1930:\n",
    "        return 'vintage'\n",
    "    if registrationyear < 1960:\n",
    "        return 'superretro'\n",
    "    if registrationyear < 1980:\n",
    "        return 'retro'\n",
    "    if registrationyear < 2000:\n",
    "        return 'classic'\n",
    "    if registrationyear < 2016:\n",
    "        return 'ordinary'\n",
    "    else:\n",
    "        return 'new'\n",
    "    return registrationyear\n",
    "\n",
    "data['age_group'] = data['registrationyear'].apply(age)"
   ]
  },
  {
   "cell_type": "code",
   "execution_count": 11,
   "metadata": {},
   "outputs": [],
   "source": [
    "# Удалим столбцы DateCrawled, DateCreated, LastSeen:\n",
    "data = data.drop(['datecrawled', 'datecreated', 'lastseen', 'numberofpictures'], axis=1)"
   ]
  },
  {
   "cell_type": "code",
   "execution_count": 12,
   "metadata": {},
   "outputs": [
    {
     "data": {
      "text/plain": [
       "21321"
      ]
     },
     "execution_count": 12,
     "metadata": {},
     "output_type": "execute_result"
    }
   ],
   "source": [
    "data.duplicated().sum()"
   ]
  },
  {
   "cell_type": "markdown",
   "metadata": {},
   "source": [
    "После удаления дат размещения, дубликатов оказалось 21321."
   ]
  },
  {
   "cell_type": "code",
   "execution_count": 13,
   "metadata": {},
   "outputs": [
    {
     "name": "stdout",
     "output_type": "stream",
     "text": [
      "<class 'pandas.core.frame.DataFrame'>\n",
      "RangeIndex: 332775 entries, 0 to 332774\n",
      "Data columns (total 13 columns):\n",
      " #   Column             Non-Null Count   Dtype \n",
      "---  ------             --------------   ----- \n",
      " 0   price              332775 non-null  int64 \n",
      " 1   vehicletype        332775 non-null  object\n",
      " 2   registrationyear   332775 non-null  int64 \n",
      " 3   gearbox            332775 non-null  object\n",
      " 4   power              332775 non-null  int64 \n",
      " 5   model              332775 non-null  object\n",
      " 6   kilometer          332775 non-null  int64 \n",
      " 7   registrationmonth  332775 non-null  int64 \n",
      " 8   fueltype           332775 non-null  object\n",
      " 9   brand              332775 non-null  object\n",
      " 10  notrepaired        332775 non-null  object\n",
      " 11  postalcode         332775 non-null  int64 \n",
      " 12  age_group          332775 non-null  object\n",
      "dtypes: int64(6), object(7)\n",
      "memory usage: 33.0+ MB\n"
     ]
    }
   ],
   "source": [
    "# Удалим дубликаты:\n",
    "data = data.drop_duplicates().reset_index(drop = True)\n",
    "data.info()"
   ]
  },
  {
   "cell_type": "markdown",
   "metadata": {},
   "source": [
    "**Выводы:**\n",
    "* Заменили все пропуски, удалили дубликаты и лишние столбцы, почистили данные."
   ]
  },
  {
   "cell_type": "markdown",
   "metadata": {},
   "source": [
    "## Обучение моделей"
   ]
  },
  {
   "cell_type": "markdown",
   "metadata": {},
   "source": [
    "### Модель градиентного бустинга"
   ]
  },
  {
   "cell_type": "markdown",
   "metadata": {},
   "source": [
    "Для модели градиентного бустинга не требуется прямое кодирование данных и масштабирование. Это потребуется в следующем разделе с моделями регрессии и случаного леса."
   ]
  },
  {
   "cell_type": "code",
   "execution_count": 14,
   "metadata": {},
   "outputs": [],
   "source": [
    "# Извлечем признаки и целевой признак:\n",
    "features = data.drop('price', axis=1)\n",
    "target = data['price']"
   ]
  },
  {
   "cell_type": "code",
   "execution_count": 15,
   "metadata": {},
   "outputs": [
    {
     "name": "stdout",
     "output_type": "stream",
     "text": [
      "<class 'pandas.core.frame.DataFrame'>\n",
      "RangeIndex: 332775 entries, 0 to 332774\n",
      "Data columns (total 12 columns):\n",
      " #   Column             Non-Null Count   Dtype   \n",
      "---  ------             --------------   -----   \n",
      " 0   vehicletype        332775 non-null  category\n",
      " 1   registrationyear   332775 non-null  int64   \n",
      " 2   gearbox            332775 non-null  category\n",
      " 3   power              332775 non-null  int64   \n",
      " 4   model              332775 non-null  category\n",
      " 5   kilometer          332775 non-null  int64   \n",
      " 6   registrationmonth  332775 non-null  int64   \n",
      " 7   fueltype           332775 non-null  category\n",
      " 8   brand              332775 non-null  category\n",
      " 9   notrepaired        332775 non-null  category\n",
      " 10  postalcode         332775 non-null  int64   \n",
      " 11  age_group          332775 non-null  category\n",
      "dtypes: category(7), int64(5)\n",
      "memory usage: 15.2 MB\n"
     ]
    }
   ],
   "source": [
    "# Трансформируем столбцы с категориальными данными в тип 'category' для модели LGBM:\n",
    "for c in features.columns:\n",
    "    col_type = features[c].dtype\n",
    "    if col_type == 'object' or col_type.name == 'category':\n",
    "        features[c] = features[c].astype('category')\n",
    "features.info()"
   ]
  },
  {
   "cell_type": "code",
   "execution_count": 16,
   "metadata": {},
   "outputs": [
    {
     "data": {
      "text/plain": [
       "(232942, 12)"
      ]
     },
     "metadata": {},
     "output_type": "display_data"
    },
    {
     "data": {
      "text/plain": [
       "(232942,)"
      ]
     },
     "metadata": {},
     "output_type": "display_data"
    },
    {
     "data": {
      "text/plain": [
       "(99833, 12)"
      ]
     },
     "metadata": {},
     "output_type": "display_data"
    },
    {
     "data": {
      "text/plain": [
       "(99833,)"
      ]
     },
     "metadata": {},
     "output_type": "display_data"
    }
   ],
   "source": [
    "# Разделим данные на тренировочную и тестовую выборки: \n",
    "features_train_gbm, features_test_gbm, target_train_gbm, target_test_gbm = train_test_split(\n",
    "    features, target, test_size=0.3, random_state=12345)\n",
    "\n",
    "# Распечатаем размеры выборок:\n",
    "sample = features_train_gbm, target_train_gbm, features_test_gbm, target_test_gbm\n",
    "\n",
    "for i in sample:\n",
    "    display(i.shape)"
   ]
  },
  {
   "cell_type": "markdown",
   "metadata": {},
   "source": [
    "Определим оптимальные параметры для модели LightGBM:"
   ]
  },
  {
   "cell_type": "code",
   "execution_count": 17,
   "metadata": {},
   "outputs": [
    {
     "name": "stdout",
     "output_type": "stream",
     "text": [
      "Лучшие гиперпараметры: {'learning_rate': 0.1, 'num_leaves': 75}\n",
      "Время обучения: 13501.584235191345\n"
     ]
    }
   ],
   "source": [
    "# Обучим модель LGBMRegressor:\n",
    "start_time = time.time()\n",
    "\n",
    "reg_LGBM = LGBMRegressor(random_state=12345)\n",
    "parameters = [{'num_leaves':[10,50,75],\n",
    "              'learning_rate':[0.1,0.3,0.5]}]\n",
    "\n",
    "grid_LGBM = GridSearchCV(reg_LGBM, parameters, scoring='neg_mean_squared_error')\n",
    "grid_LGBM.fit(features_train_gbm, target_train_gbm)\n",
    "end_time = time.time()\n",
    "time_LGBM = end_time - start_time\n",
    "print('Лучшие гиперпараметры:', grid_LGBM.best_params_)\n",
    "print('Время обучения:', time_LGBM)"
   ]
  },
  {
   "cell_type": "markdown",
   "metadata": {},
   "source": [
    "### Модели случайного леса и линейной регрессии"
   ]
  },
  {
   "cell_type": "markdown",
   "metadata": {},
   "source": [
    "Создадим также обычные модели для сравнения качества с LightGBM. Данные в столбцах в категориальном формате, модели случайного леса и линейной регрессии могут принимать только численные данные на вход. Кроме того сами численные данные имеют разный масштаб и необходимо их привести к одному масштабу."
   ]
  },
  {
   "cell_type": "code",
   "execution_count": 18,
   "metadata": {},
   "outputs": [
    {
     "data": {
      "text/html": [
       "<div>\n",
       "<style scoped>\n",
       "    .dataframe tbody tr th:only-of-type {\n",
       "        vertical-align: middle;\n",
       "    }\n",
       "\n",
       "    .dataframe tbody tr th {\n",
       "        vertical-align: top;\n",
       "    }\n",
       "\n",
       "    .dataframe thead th {\n",
       "        text-align: right;\n",
       "    }\n",
       "</style>\n",
       "<table border=\"1\" class=\"dataframe\">\n",
       "  <thead>\n",
       "    <tr style=\"text-align: right;\">\n",
       "      <th></th>\n",
       "      <th>registrationyear</th>\n",
       "      <th>power</th>\n",
       "      <th>kilometer</th>\n",
       "      <th>registrationmonth</th>\n",
       "      <th>postalcode</th>\n",
       "      <th>vehicletype_convertible</th>\n",
       "      <th>vehicletype_coupe</th>\n",
       "      <th>vehicletype_other</th>\n",
       "      <th>vehicletype_sedan</th>\n",
       "      <th>vehicletype_small</th>\n",
       "      <th>...</th>\n",
       "      <th>brand_trabant</th>\n",
       "      <th>brand_volkswagen</th>\n",
       "      <th>brand_volvo</th>\n",
       "      <th>notrepaired_unknown5</th>\n",
       "      <th>notrepaired_yes</th>\n",
       "      <th>age_group_new</th>\n",
       "      <th>age_group_ordinary</th>\n",
       "      <th>age_group_retro</th>\n",
       "      <th>age_group_superretro</th>\n",
       "      <th>age_group_vintage</th>\n",
       "    </tr>\n",
       "  </thead>\n",
       "  <tbody>\n",
       "    <tr>\n",
       "      <th>0</th>\n",
       "      <td>1993</td>\n",
       "      <td>0</td>\n",
       "      <td>150000</td>\n",
       "      <td>0</td>\n",
       "      <td>70435</td>\n",
       "      <td>0</td>\n",
       "      <td>0</td>\n",
       "      <td>0</td>\n",
       "      <td>0</td>\n",
       "      <td>0</td>\n",
       "      <td>...</td>\n",
       "      <td>0</td>\n",
       "      <td>1</td>\n",
       "      <td>0</td>\n",
       "      <td>1</td>\n",
       "      <td>0</td>\n",
       "      <td>0</td>\n",
       "      <td>0</td>\n",
       "      <td>0</td>\n",
       "      <td>0</td>\n",
       "      <td>0</td>\n",
       "    </tr>\n",
       "    <tr>\n",
       "      <th>1</th>\n",
       "      <td>2011</td>\n",
       "      <td>190</td>\n",
       "      <td>125000</td>\n",
       "      <td>5</td>\n",
       "      <td>66954</td>\n",
       "      <td>0</td>\n",
       "      <td>1</td>\n",
       "      <td>0</td>\n",
       "      <td>0</td>\n",
       "      <td>0</td>\n",
       "      <td>...</td>\n",
       "      <td>0</td>\n",
       "      <td>0</td>\n",
       "      <td>0</td>\n",
       "      <td>0</td>\n",
       "      <td>1</td>\n",
       "      <td>0</td>\n",
       "      <td>1</td>\n",
       "      <td>0</td>\n",
       "      <td>0</td>\n",
       "      <td>0</td>\n",
       "    </tr>\n",
       "    <tr>\n",
       "      <th>2</th>\n",
       "      <td>2004</td>\n",
       "      <td>163</td>\n",
       "      <td>125000</td>\n",
       "      <td>8</td>\n",
       "      <td>90480</td>\n",
       "      <td>0</td>\n",
       "      <td>0</td>\n",
       "      <td>0</td>\n",
       "      <td>0</td>\n",
       "      <td>0</td>\n",
       "      <td>...</td>\n",
       "      <td>0</td>\n",
       "      <td>0</td>\n",
       "      <td>0</td>\n",
       "      <td>1</td>\n",
       "      <td>0</td>\n",
       "      <td>0</td>\n",
       "      <td>1</td>\n",
       "      <td>0</td>\n",
       "      <td>0</td>\n",
       "      <td>0</td>\n",
       "    </tr>\n",
       "    <tr>\n",
       "      <th>3</th>\n",
       "      <td>2001</td>\n",
       "      <td>75</td>\n",
       "      <td>150000</td>\n",
       "      <td>6</td>\n",
       "      <td>91074</td>\n",
       "      <td>0</td>\n",
       "      <td>0</td>\n",
       "      <td>0</td>\n",
       "      <td>0</td>\n",
       "      <td>1</td>\n",
       "      <td>...</td>\n",
       "      <td>0</td>\n",
       "      <td>1</td>\n",
       "      <td>0</td>\n",
       "      <td>0</td>\n",
       "      <td>0</td>\n",
       "      <td>0</td>\n",
       "      <td>1</td>\n",
       "      <td>0</td>\n",
       "      <td>0</td>\n",
       "      <td>0</td>\n",
       "    </tr>\n",
       "    <tr>\n",
       "      <th>4</th>\n",
       "      <td>2008</td>\n",
       "      <td>69</td>\n",
       "      <td>90000</td>\n",
       "      <td>7</td>\n",
       "      <td>60437</td>\n",
       "      <td>0</td>\n",
       "      <td>0</td>\n",
       "      <td>0</td>\n",
       "      <td>0</td>\n",
       "      <td>1</td>\n",
       "      <td>...</td>\n",
       "      <td>0</td>\n",
       "      <td>0</td>\n",
       "      <td>0</td>\n",
       "      <td>0</td>\n",
       "      <td>0</td>\n",
       "      <td>0</td>\n",
       "      <td>1</td>\n",
       "      <td>0</td>\n",
       "      <td>0</td>\n",
       "      <td>0</td>\n",
       "    </tr>\n",
       "  </tbody>\n",
       "</table>\n",
       "<p>5 rows × 318 columns</p>\n",
       "</div>"
      ],
      "text/plain": [
       "   registrationyear  power  kilometer  registrationmonth  postalcode  \\\n",
       "0              1993      0     150000                  0       70435   \n",
       "1              2011    190     125000                  5       66954   \n",
       "2              2004    163     125000                  8       90480   \n",
       "3              2001     75     150000                  6       91074   \n",
       "4              2008     69      90000                  7       60437   \n",
       "\n",
       "   vehicletype_convertible  vehicletype_coupe  vehicletype_other  \\\n",
       "0                        0                  0                  0   \n",
       "1                        0                  1                  0   \n",
       "2                        0                  0                  0   \n",
       "3                        0                  0                  0   \n",
       "4                        0                  0                  0   \n",
       "\n",
       "   vehicletype_sedan  vehicletype_small  ...  brand_trabant  brand_volkswagen  \\\n",
       "0                  0                  0  ...              0                 1   \n",
       "1                  0                  0  ...              0                 0   \n",
       "2                  0                  0  ...              0                 0   \n",
       "3                  0                  1  ...              0                 1   \n",
       "4                  0                  1  ...              0                 0   \n",
       "\n",
       "   brand_volvo  notrepaired_unknown5  notrepaired_yes  age_group_new  \\\n",
       "0            0                     1                0              0   \n",
       "1            0                     0                1              0   \n",
       "2            0                     1                0              0   \n",
       "3            0                     0                0              0   \n",
       "4            0                     0                0              0   \n",
       "\n",
       "   age_group_ordinary  age_group_retro  age_group_superretro  \\\n",
       "0                   0                0                     0   \n",
       "1                   1                0                     0   \n",
       "2                   1                0                     0   \n",
       "3                   1                0                     0   \n",
       "4                   1                0                     0   \n",
       "\n",
       "   age_group_vintage  \n",
       "0                  0  \n",
       "1                  0  \n",
       "2                  0  \n",
       "3                  0  \n",
       "4                  0  \n",
       "\n",
       "[5 rows x 318 columns]"
      ]
     },
     "execution_count": 18,
     "metadata": {},
     "output_type": "execute_result"
    }
   ],
   "source": [
    "# Применим прямое кодирование для конвертации категориальных признаков:\n",
    "features_ohe = pd.get_dummies(features, drop_first=True)\n",
    "features_ohe.head()"
   ]
  },
  {
   "cell_type": "code",
   "execution_count": 19,
   "metadata": {},
   "outputs": [
    {
     "data": {
      "text/plain": [
       "(232942, 318)"
      ]
     },
     "metadata": {},
     "output_type": "display_data"
    },
    {
     "data": {
      "text/plain": [
       "(232942,)"
      ]
     },
     "metadata": {},
     "output_type": "display_data"
    },
    {
     "data": {
      "text/plain": [
       "(99833, 318)"
      ]
     },
     "metadata": {},
     "output_type": "display_data"
    },
    {
     "data": {
      "text/plain": [
       "(99833,)"
      ]
     },
     "metadata": {},
     "output_type": "display_data"
    }
   ],
   "source": [
    "# Разделим данные на тренировочную и тестовую выборки: \n",
    "features_train_ohe, features_test_ohe, target_train_ohe, target_test_ohe = train_test_split(\n",
    "    features_ohe, target, test_size=0.3, random_state=12345)\n",
    "\n",
    "# Распечатаем размеры выборок:\n",
    "sample = features_train_ohe, target_train_ohe, features_test_ohe, target_test_ohe\n",
    "\n",
    "for i in sample:\n",
    "    display(i.shape)"
   ]
  },
  {
   "cell_type": "code",
   "execution_count": 20,
   "metadata": {},
   "outputs": [],
   "source": [
    "# Приведем теперь данные к единому масштабу: \n",
    "numeric = ['registrationyear', 'power', 'kilometer', 'registrationmonth', 'postalcode']\n",
    "\n",
    "scaler = StandardScaler()\n",
    "scaler.fit(features_train_ohe[numeric])\n",
    "features_train_ohe[numeric] = scaler.transform(features_train_ohe[numeric])\n",
    "features_test_ohe[numeric] = scaler.transform(features_test_ohe[numeric])"
   ]
  },
  {
   "cell_type": "code",
   "execution_count": 21,
   "metadata": {},
   "outputs": [
    {
     "name": "stdout",
     "output_type": "stream",
     "text": [
      "Лучшие параметры: {'max_depth': 11}\n",
      "Время обучения: 85.23719072341919\n"
     ]
    }
   ],
   "source": [
    "# Обучим модель DecisionTreeRegressor:\n",
    "start_time = time.time()\n",
    " \n",
    "reg_DT = DecisionTreeRegressor(random_state=12345)\n",
    "parameters = {'max_depth': range (1,13,2)}\n",
    "\n",
    "grid_DT = GridSearchCV(reg_DT, parameters, scoring='neg_mean_squared_error') \n",
    "grid_DT.fit(features_train_ohe, target_train_ohe)\n",
    "end_time = time.time()\n",
    "time_DT = end_time - start_time\n",
    "\n",
    "print('Лучшие параметры:', grid_DT.best_params_)\n",
    "print('Время обучения:', time_DT)"
   ]
  },
  {
   "cell_type": "code",
   "execution_count": 22,
   "metadata": {},
   "outputs": [
    {
     "name": "stdout",
     "output_type": "stream",
     "text": [
      "Лучшие параметры: {'max_depth': 11, 'n_estimators': 50}\n",
      "Время обучения: 7213.906169176102\n"
     ]
    }
   ],
   "source": [
    "# Обучим модель RandomForestRegressor:\n",
    "start_time = time.time()\n",
    " \n",
    "reg_RF = RandomForestRegressor(random_state=12345)\n",
    "parameters = { 'n_estimators': range (10, 51, 10),\n",
    "              'max_depth': range (1,13, 2) }\n",
    "\n",
    "grid_RF = GridSearchCV(reg_RF, parameters, scoring='neg_mean_squared_error') \n",
    "grid_RF.fit(features_train_ohe, target_train_ohe)\n",
    "end_time = time.time()\n",
    "time_RF = end_time - start_time\n",
    "\n",
    "print('Лучшие параметры:', grid_RF.best_params_)\n",
    "print('Время обучения:', time_RF)"
   ]
  },
  {
   "cell_type": "code",
   "execution_count": 23,
   "metadata": {},
   "outputs": [
    {
     "name": "stdout",
     "output_type": "stream",
     "text": [
      "Время обучения: 30.64512586593628\n"
     ]
    }
   ],
   "source": [
    "# Обучим модель LinearRegression:\n",
    "start_time = time.time()\n",
    "reg_LR = LinearRegression()\n",
    "reg_LR.fit(features_train_ohe, target_train_ohe)\n",
    "end_time = time.time()\n",
    "time_LR = end_time - start_time\n",
    "print('Время обучения:', time_LR)"
   ]
  },
  {
   "cell_type": "markdown",
   "metadata": {},
   "source": [
    "## Анализ моделей"
   ]
  },
  {
   "cell_type": "markdown",
   "metadata": {},
   "source": [
    "Для оценки качества моделей применим метрику RMSE."
   ]
  },
  {
   "cell_type": "code",
   "execution_count": 38,
   "metadata": {},
   "outputs": [
    {
     "name": "stdout",
     "output_type": "stream",
     "text": [
      "Метрика RMSE LightGBM: 1734.6086863874027\n",
      "Время предсказания: 1.1738975048065186\n",
      "Время обучения: 13501.584235191345\n"
     ]
    }
   ],
   "source": [
    "# Измерим метрику RMSE на модели LightGBM:\n",
    "start_time = time.time()\n",
    "predictions_test_LGBM = grid_LGBM.predict(features_test_gbm)\n",
    "end_time = time.time()\n",
    "time_LGBM_pred = end_time - start_time\n",
    "RMSE_LightGBM = np.sqrt(mean_squared_error(target_test_gbm, predictions_test_LGBM))\n",
    "print('Метрика RMSE LightGBM:', RMSE_LightGBM)\n",
    "print('Время предсказания:', time_LGBM_pred)\n",
    "print('Время обучения:', time_LGBM)"
   ]
  },
  {
   "cell_type": "code",
   "execution_count": 39,
   "metadata": {},
   "outputs": [
    {
     "name": "stdout",
     "output_type": "stream",
     "text": [
      "Метрика RMSE: 2098.5322593717824\n",
      "Время предсказания: 0.1587221622467041\n",
      "Время обучения: 85.23719072341919\n"
     ]
    }
   ],
   "source": [
    "# Измерим метрику RMSE на модели DecisionTreeRegressor:\n",
    "start_time = time.time()\n",
    "predictions_test_DT = grid_DT.predict(features_test_ohe)\n",
    "end_time = time.time()\n",
    "time_DT_pred = end_time - start_time\n",
    "RMSE_DT = np.sqrt(mean_squared_error(target_test_ohe, predictions_test_DT))\n",
    "print('Метрика RMSE:', RMSE_DT)\n",
    "print('Время предсказания:', time_DT_pred)\n",
    "print('Время обучения:', time_DT)"
   ]
  },
  {
   "cell_type": "code",
   "execution_count": 40,
   "metadata": {},
   "outputs": [
    {
     "name": "stdout",
     "output_type": "stream",
     "text": [
      "Метрика RMSE: 1984.3305365284812\n",
      "Время предсказания: 0.8644082546234131\n",
      "Время обучения: 7213.906169176102\n"
     ]
    }
   ],
   "source": [
    "# Измерим метрику RMSE на модели RandomForestRegressor:\n",
    "start_time = time.time()\n",
    "predictions_test_RF = grid_RF.predict(features_test_ohe)\n",
    "end_time = time.time()\n",
    "time_RF_pred = end_time - start_time\n",
    "RMSE_RF = np.sqrt(mean_squared_error(target_test_ohe, predictions_test_RF))\n",
    "print('Метрика RMSE:', RMSE_RF)\n",
    "print('Время предсказания:', time_RF_pred)\n",
    "print('Время обучения:', time_RF)"
   ]
  },
  {
   "cell_type": "code",
   "execution_count": 41,
   "metadata": {},
   "outputs": [
    {
     "name": "stdout",
     "output_type": "stream",
     "text": [
      "Метрика RMSE: 2642.2704627958574\n",
      "Время предсказания: 0.17225933074951172\n",
      "Время обучения: 30.64512586593628\n"
     ]
    }
   ],
   "source": [
    "# Измерим метрику RMSE на модели LinearRegression:\n",
    "start_time = time.time()\n",
    "predictions_test_LR = reg_LR.predict(features_test_ohe)\n",
    "end_time = time.time()\n",
    "time_LR_pred = end_time - start_time\n",
    "RMSE_LR = np.sqrt(mean_squared_error(target_test_ohe, predictions_test_LR))\n",
    "print('Метрика RMSE:', RMSE_LR)\n",
    "print('Время предсказания:', time_LR_pred)\n",
    "print('Время обучения:', time_LR)"
   ]
  },
  {
   "cell_type": "code",
   "execution_count": 42,
   "metadata": {},
   "outputs": [
    {
     "name": "stdout",
     "output_type": "stream",
     "text": [
      "Метрика RMSE: 4492.72370251578\n"
     ]
    }
   ],
   "source": [
    "# Используем DummyRegressor для проверки моделей на адекватность:\n",
    "start_time = time.time()\n",
    "dummy_reg = DummyRegressor()\n",
    "dummy_reg.fit(features_train_ohe, target_train_ohe)\n",
    "end_time = time.time()\n",
    "time_DR = end_time - start_time\n",
    "\n",
    "start_time = time.time()\n",
    "dummy_pred = dummy_reg.predict(features_test_ohe)\n",
    "end_time = time.time()\n",
    "time_DR_pred = end_time - start_time\n",
    "RMSE_DR = np.sqrt(mean_squared_error(target_test_ohe, dummy_pred))\n",
    "print('Метрика RMSE:', RMSE_DR)"
   ]
  },
  {
   "cell_type": "code",
   "execution_count": 43,
   "metadata": {},
   "outputs": [
    {
     "data": {
      "text/html": [
       "<div>\n",
       "<style scoped>\n",
       "    .dataframe tbody tr th:only-of-type {\n",
       "        vertical-align: middle;\n",
       "    }\n",
       "\n",
       "    .dataframe tbody tr th {\n",
       "        vertical-align: top;\n",
       "    }\n",
       "\n",
       "    .dataframe thead th {\n",
       "        text-align: right;\n",
       "    }\n",
       "</style>\n",
       "<table border=\"1\" class=\"dataframe\">\n",
       "  <thead>\n",
       "    <tr style=\"text-align: right;\">\n",
       "      <th></th>\n",
       "      <th>model</th>\n",
       "      <th>RMSE</th>\n",
       "      <th>Time to learn</th>\n",
       "      <th>Time to predict</th>\n",
       "    </tr>\n",
       "  </thead>\n",
       "  <tbody>\n",
       "    <tr>\n",
       "      <th>0</th>\n",
       "      <td>LightGBM</td>\n",
       "      <td>1734.608686</td>\n",
       "      <td>13501.584235</td>\n",
       "      <td>1.173898</td>\n",
       "    </tr>\n",
       "    <tr>\n",
       "      <th>1</th>\n",
       "      <td>RandomForestRegressor</td>\n",
       "      <td>1984.330537</td>\n",
       "      <td>7213.906169</td>\n",
       "      <td>0.864408</td>\n",
       "    </tr>\n",
       "    <tr>\n",
       "      <th>2</th>\n",
       "      <td>DecisionTreeRegressor</td>\n",
       "      <td>2098.532259</td>\n",
       "      <td>85.237191</td>\n",
       "      <td>0.158722</td>\n",
       "    </tr>\n",
       "    <tr>\n",
       "      <th>3</th>\n",
       "      <td>LinearRegression</td>\n",
       "      <td>2642.270463</td>\n",
       "      <td>30.645126</td>\n",
       "      <td>0.172259</td>\n",
       "    </tr>\n",
       "    <tr>\n",
       "      <th>4</th>\n",
       "      <td>DummyRegressor</td>\n",
       "      <td>4492.723703</td>\n",
       "      <td>0.000932</td>\n",
       "      <td>0.000375</td>\n",
       "    </tr>\n",
       "  </tbody>\n",
       "</table>\n",
       "</div>"
      ],
      "text/plain": [
       "                   model         RMSE  Time to learn  Time to predict\n",
       "0               LightGBM  1734.608686   13501.584235         1.173898\n",
       "1  RandomForestRegressor  1984.330537    7213.906169         0.864408\n",
       "2  DecisionTreeRegressor  2098.532259      85.237191         0.158722\n",
       "3       LinearRegression  2642.270463      30.645126         0.172259\n",
       "4         DummyRegressor  4492.723703       0.000932         0.000375"
      ]
     },
     "metadata": {},
     "output_type": "display_data"
    }
   ],
   "source": [
    "# Соберем полученные данные в единую таблицу:\n",
    "metrics = pd.DataFrame({'model':['LightGBM','DecisionTreeRegressor','RandomForestRegressor','LinearRegression'\n",
    "                                 ,'DummyRegressor'],\n",
    "                       'RMSE':[RMSE_LightGBM, RMSE_DT, RMSE_RF, RMSE_LR, RMSE_DR],\n",
    "                       'Time to learn':[time_LGBM, time_DT, time_RF, time_LR, time_DR],\n",
    "                       'Time to predict':[time_LGBM_pred, time_DT_pred, time_RF_pred, time_LR_pred, time_DR_pred]})\n",
    "display(metrics.sort_values(by=['RMSE']).reset_index(drop=True))"
   ]
  },
  {
   "cell_type": "code",
   "execution_count": 35,
   "metadata": {},
   "outputs": [
    {
     "data": {
      "image/png": "[encoded data removed]",
      "text/plain": [
       "<Figure size 1440x720 with 1 Axes>"
      ]
     },
     "metadata": {
      "needs_background": "light"
     },
     "output_type": "display_data"
    }
   ],
   "source": [
    "# Обучим лучшую модель LGBMRegressor и построим график feature_importance:\n",
    "model_LGBM = LGBMRegressor(random_state=12345, num_leaves=75, learning_rate=0.1).fit(features_train_gbm\n",
    "                                                                                     , target_train_gbm)\n",
    "\n",
    "feature_imp = pd.DataFrame(sorted(zip(model_LGBM.feature_importances_, features_train_gbm.columns))\n",
    "                           , columns=['Value','Feature'])\n",
    "\n",
    "plt.figure(figsize=(20, 10))\n",
    "sns.barplot(x=\"Value\", y=\"Feature\", data=feature_imp.sort_values(by=\"Value\", ascending=False))\n",
    "plt.title('LightGBM Features (avg over folds)')\n",
    "plt.tight_layout()\n",
    "plt.show()"
   ]
  },
  {
   "cell_type": "markdown",
   "metadata": {},
   "source": [
    "**Выводы:**\n",
    "* Модель LightGBM показала лучший показатель RSME - 1734 в сравнении с моделями DecisionTreeRegressor, RandomForestRegressor, LinearRegressor и DummyRegressor и средний показатель по времени обучения и предказания.\n",
    "* Самая быстрая по времени обучения и предсказания LinearRegressor, однако имеет высокий показатель RSME.\n",
    "* Самая медленная RandomForestRegressor.\n",
    "* В части получаемых данных от клиентов в базу данных, предлагается изменить форму для заполнения: \n",
    "** сделать фиксированными - месяц и год регистрации,\n",
    "** километраж разрешить вносить произвольно,\n",
    "** в мощность двигателя внести проверку на ошибку.\n",
    "* Больше всего на стоимость автомобиля влияет модель авто, год регистрации и мощность."
   ]
  }
 ],
 "metadata": {
  "ExecuteTimeLog": [
   {
    "duration": 2390,
    "start_time": "2022-04-16T10:53:30.522Z"
   },
   {
    "duration": 2044,
    "start_time": "2022-04-16T10:54:40.504Z"
   },
   {
    "duration": 56,
    "start_time": "2022-04-16T11:46:02.775Z"
   },
   {
    "duration": 117,
    "start_time": "2022-04-16T11:46:55.425Z"
   },
   {
    "duration": 169,
    "start_time": "2022-04-16T11:47:00.658Z"
   },
   {
    "duration": 13,
    "start_time": "2022-04-16T11:47:15.517Z"
   },
   {
    "duration": 229,
    "start_time": "2022-04-16T11:47:34.885Z"
   },
   {
    "duration": 213,
    "start_time": "2022-04-16T11:47:38.048Z"
   },
   {
    "duration": 158,
    "start_time": "2022-04-16T11:47:45.496Z"
   },
   {
    "duration": 137,
    "start_time": "2022-04-16T11:48:40.770Z"
   },
   {
    "duration": 6,
    "start_time": "2022-04-16T14:14:51.093Z"
   },
   {
    "duration": 1272,
    "start_time": "2022-04-16T15:12:26.553Z"
   },
   {
    "duration": 21,
    "start_time": "2022-04-16T15:12:30.960Z"
   },
   {
    "duration": 144,
    "start_time": "2022-04-16T15:13:18.018Z"
   },
   {
    "duration": 973,
    "start_time": "2022-04-16T15:13:39.926Z"
   },
   {
    "duration": 1039,
    "start_time": "2022-04-16T15:14:55.011Z"
   },
   {
    "duration": 17,
    "start_time": "2022-04-16T16:29:31.228Z"
   },
   {
    "duration": 44,
    "start_time": "2022-04-16T16:29:39.589Z"
   },
   {
    "duration": 47,
    "start_time": "2022-04-16T16:30:22.539Z"
   },
   {
    "duration": 42,
    "start_time": "2022-04-16T16:31:23.478Z"
   },
   {
    "duration": 159,
    "start_time": "2022-04-16T16:32:51.984Z"
   },
   {
    "duration": 162,
    "start_time": "2022-04-16T16:33:26.946Z"
   },
   {
    "duration": 2418,
    "start_time": "2022-04-16T16:40:54.635Z"
   },
   {
    "duration": 2281,
    "start_time": "2022-04-16T16:41:43.045Z"
   },
   {
    "duration": 4,
    "start_time": "2022-04-16T16:41:54.319Z"
   },
   {
    "duration": 2388,
    "start_time": "2022-04-16T16:43:01.468Z"
   },
   {
    "duration": 2405,
    "start_time": "2022-04-16T16:44:04.933Z"
   },
   {
    "duration": 12,
    "start_time": "2022-04-16T16:45:38.817Z"
   },
   {
    "duration": 9,
    "start_time": "2022-04-16T16:46:04.409Z"
   },
   {
    "duration": 12,
    "start_time": "2022-04-16T16:46:18.861Z"
   },
   {
    "duration": 8,
    "start_time": "2022-04-16T16:46:29.182Z"
   },
   {
    "duration": 13,
    "start_time": "2022-04-16T16:47:35.254Z"
   },
   {
    "duration": 12,
    "start_time": "2022-04-16T16:47:50.325Z"
   },
   {
    "duration": 9,
    "start_time": "2022-04-16T16:49:13.265Z"
   },
   {
    "duration": 7,
    "start_time": "2022-04-16T16:49:27.761Z"
   },
   {
    "duration": 98,
    "start_time": "2022-04-16T16:49:51.342Z"
   },
   {
    "duration": 9,
    "start_time": "2022-04-16T16:49:54.870Z"
   },
   {
    "duration": 837,
    "start_time": "2022-04-16T17:16:00.838Z"
   },
   {
    "duration": 5,
    "start_time": "2022-04-16T17:16:43.540Z"
   },
   {
    "duration": 846,
    "start_time": "2022-04-16T17:16:44.717Z"
   },
   {
    "duration": 760,
    "start_time": "2022-04-16T17:17:07.984Z"
   },
   {
    "duration": 1026,
    "start_time": "2022-04-16T17:17:21.239Z"
   },
   {
    "duration": 839,
    "start_time": "2022-04-16T17:19:08.449Z"
   },
   {
    "duration": 937,
    "start_time": "2022-04-16T17:19:21.991Z"
   },
   {
    "duration": 859,
    "start_time": "2022-04-16T17:19:29.915Z"
   },
   {
    "duration": 29,
    "start_time": "2022-04-16T17:20:52.252Z"
   },
   {
    "duration": 59,
    "start_time": "2022-04-16T17:21:07.152Z"
   },
   {
    "duration": 14,
    "start_time": "2022-04-16T17:24:14.448Z"
   },
   {
    "duration": 14,
    "start_time": "2022-04-16T17:24:42.252Z"
   },
   {
    "duration": 137,
    "start_time": "2022-04-16T17:25:55.746Z"
   },
   {
    "duration": 43,
    "start_time": "2022-04-16T17:27:04.636Z"
   },
   {
    "duration": 495,
    "start_time": "2022-04-16T17:27:52.297Z"
   },
   {
    "duration": 1045,
    "start_time": "2022-04-16T17:47:34.263Z"
   },
   {
    "duration": 53,
    "start_time": "2022-04-16T17:53:31.801Z"
   },
   {
    "duration": 45,
    "start_time": "2022-04-17T07:33:35.883Z"
   },
   {
    "duration": 1588,
    "start_time": "2022-04-17T07:33:48.368Z"
   },
   {
    "duration": 1526,
    "start_time": "2022-04-17T07:33:49.958Z"
   },
   {
    "duration": 3,
    "start_time": "2022-04-17T07:33:55.764Z"
   },
   {
    "duration": 514,
    "start_time": "2022-04-17T07:33:56.566Z"
   },
   {
    "duration": 192,
    "start_time": "2022-04-17T07:33:57.508Z"
   },
   {
    "duration": 29,
    "start_time": "2022-04-17T07:34:02.641Z"
   },
   {
    "duration": 246,
    "start_time": "2022-04-17T07:34:04.078Z"
   },
   {
    "duration": 5156,
    "start_time": "2022-04-17T07:36:14.348Z"
   },
   {
    "duration": 905,
    "start_time": "2022-04-17T07:38:43.063Z"
   },
   {
    "duration": 3289,
    "start_time": "2022-04-17T07:39:40.731Z"
   },
   {
    "duration": 681,
    "start_time": "2022-04-17T07:40:32.742Z"
   },
   {
    "duration": 47,
    "start_time": "2022-04-17T07:41:38.807Z"
   },
   {
    "duration": 1571,
    "start_time": "2022-04-17T07:41:45.171Z"
   },
   {
    "duration": 2079,
    "start_time": "2022-04-17T07:41:46.745Z"
   },
   {
    "duration": 3,
    "start_time": "2022-04-17T07:41:48.826Z"
   },
   {
    "duration": 587,
    "start_time": "2022-04-17T07:41:48.830Z"
   },
   {
    "duration": 197,
    "start_time": "2022-04-17T07:41:49.419Z"
   },
   {
    "duration": 31,
    "start_time": "2022-04-17T07:41:51.035Z"
   },
   {
    "duration": 250,
    "start_time": "2022-04-17T07:41:52.124Z"
   },
   {
    "duration": 1650,
    "start_time": "2022-04-17T07:42:20.987Z"
   },
   {
    "duration": 1728,
    "start_time": "2022-04-17T07:42:22.640Z"
   },
   {
    "duration": 3,
    "start_time": "2022-04-17T07:42:24.370Z"
   },
   {
    "duration": 588,
    "start_time": "2022-04-17T07:42:24.375Z"
   },
   {
    "duration": 232,
    "start_time": "2022-04-17T07:42:24.965Z"
   },
   {
    "duration": 45,
    "start_time": "2022-04-17T07:42:25.199Z"
   },
   {
    "duration": 254,
    "start_time": "2022-04-17T07:42:25.449Z"
   },
   {
    "duration": 193,
    "start_time": "2022-04-17T08:09:44.354Z"
   },
   {
    "duration": 5,
    "start_time": "2022-04-17T08:09:52.139Z"
   },
   {
    "duration": 5,
    "start_time": "2022-04-17T08:11:59.152Z"
   },
   {
    "duration": 6,
    "start_time": "2022-04-17T08:12:03.384Z"
   },
   {
    "duration": 97,
    "start_time": "2022-04-17T08:12:08.487Z"
   },
   {
    "duration": 41,
    "start_time": "2022-04-17T08:21:11.481Z"
   },
   {
    "duration": 3140,
    "start_time": "2022-04-17T08:21:29.330Z"
   },
   {
    "duration": 8,
    "start_time": "2022-04-17T08:31:23.208Z"
   },
   {
    "duration": 5,
    "start_time": "2022-04-17T08:32:03.884Z"
   },
   {
    "duration": 5,
    "start_time": "2022-04-17T08:40:21.514Z"
   },
   {
    "duration": 6,
    "start_time": "2022-04-17T08:40:27.243Z"
   },
   {
    "duration": 3088,
    "start_time": "2022-04-17T08:42:03.747Z"
   },
   {
    "duration": 101,
    "start_time": "2022-04-17T08:47:37.338Z"
   },
   {
    "duration": 95,
    "start_time": "2022-04-17T08:48:31.668Z"
   },
   {
    "duration": 119,
    "start_time": "2022-04-17T08:49:11.049Z"
   },
   {
    "duration": 1095,
    "start_time": "2022-04-17T08:59:48.697Z"
   },
   {
    "duration": 1668,
    "start_time": "2022-04-17T09:00:16.585Z"
   },
   {
    "duration": 112,
    "start_time": "2022-04-17T09:00:42.954Z"
   },
   {
    "duration": 67,
    "start_time": "2022-04-17T11:50:32.582Z"
   },
   {
    "duration": 1740,
    "start_time": "2022-04-17T11:50:47.534Z"
   },
   {
    "duration": 1557,
    "start_time": "2022-04-17T11:50:49.276Z"
   },
   {
    "duration": 3,
    "start_time": "2022-04-17T11:50:50.834Z"
   },
   {
    "duration": 40,
    "start_time": "2022-04-17T11:50:50.839Z"
   },
   {
    "duration": 281,
    "start_time": "2022-04-17T11:50:58.666Z"
   },
   {
    "duration": 152,
    "start_time": "2022-04-17T11:51:02.347Z"
   },
   {
    "duration": 84,
    "start_time": "2022-04-17T11:51:47.891Z"
   },
   {
    "duration": 150,
    "start_time": "2022-04-17T11:52:00.678Z"
   },
   {
    "duration": 159,
    "start_time": "2022-04-17T11:52:53.977Z"
   },
   {
    "duration": 5,
    "start_time": "2022-04-17T11:53:40.696Z"
   },
   {
    "duration": 82,
    "start_time": "2022-04-17T11:54:57.632Z"
   },
   {
    "duration": 5,
    "start_time": "2022-04-17T11:55:12.566Z"
   },
   {
    "duration": 1491,
    "start_time": "2022-04-17T11:55:13.063Z"
   },
   {
    "duration": 3,
    "start_time": "2022-04-17T11:55:14.847Z"
   },
   {
    "duration": 35,
    "start_time": "2022-04-17T11:55:15.875Z"
   },
   {
    "duration": 235,
    "start_time": "2022-04-17T11:55:17.495Z"
   },
   {
    "duration": 163,
    "start_time": "2022-04-17T11:55:17.923Z"
   },
   {
    "duration": 3108,
    "start_time": "2022-04-17T11:55:24.673Z"
   },
   {
    "duration": 15,
    "start_time": "2022-04-17T13:26:14.278Z"
   },
   {
    "duration": 21,
    "start_time": "2022-04-17T13:26:15.802Z"
   },
   {
    "duration": 184,
    "start_time": "2022-04-17T13:26:16.361Z"
   },
   {
    "duration": 9,
    "start_time": "2022-04-17T13:30:12.559Z"
   },
   {
    "duration": 5,
    "start_time": "2022-04-17T13:30:24.969Z"
   },
   {
    "duration": 1605,
    "start_time": "2022-04-17T13:30:25.405Z"
   },
   {
    "duration": 3,
    "start_time": "2022-04-17T13:30:27.022Z"
   },
   {
    "duration": 32,
    "start_time": "2022-04-17T13:30:27.409Z"
   },
   {
    "duration": 218,
    "start_time": "2022-04-17T13:30:28.150Z"
   },
   {
    "duration": 255,
    "start_time": "2022-04-17T13:30:38.555Z"
   },
   {
    "duration": 206,
    "start_time": "2022-04-17T13:31:24.009Z"
   },
   {
    "duration": 4,
    "start_time": "2022-04-17T13:42:54.008Z"
   },
   {
    "duration": 85,
    "start_time": "2022-04-17T13:44:44.503Z"
   },
   {
    "duration": 188,
    "start_time": "2022-04-17T13:45:06.849Z"
   },
   {
    "duration": 3171,
    "start_time": "2022-04-17T13:45:14.546Z"
   },
   {
    "duration": 97,
    "start_time": "2022-04-17T13:45:24.704Z"
   },
   {
    "duration": 6,
    "start_time": "2022-04-17T13:46:02.198Z"
   },
   {
    "duration": 135,
    "start_time": "2022-04-17T13:48:05.485Z"
   },
   {
    "duration": 4,
    "start_time": "2022-04-17T13:48:19.754Z"
   },
   {
    "duration": 10756,
    "start_time": "2022-04-17T13:48:20.286Z"
   },
   {
    "duration": 4,
    "start_time": "2022-04-17T13:48:31.045Z"
   },
   {
    "duration": 39,
    "start_time": "2022-04-17T13:48:31.051Z"
   },
   {
    "duration": 200,
    "start_time": "2022-04-17T13:48:31.092Z"
   },
   {
    "duration": 228,
    "start_time": "2022-04-17T13:48:31.294Z"
   },
   {
    "duration": 159,
    "start_time": "2022-04-17T13:48:31.524Z"
   },
   {
    "duration": 18,
    "start_time": "2022-04-17T13:48:43.336Z"
   },
   {
    "duration": 106,
    "start_time": "2022-04-17T13:48:43.895Z"
   },
   {
    "duration": 19,
    "start_time": "2022-04-17T13:52:17.555Z"
   },
   {
    "duration": 171,
    "start_time": "2022-04-17T13:52:18.002Z"
   },
   {
    "duration": 68,
    "start_time": "2022-04-17T13:52:37.780Z"
   },
   {
    "duration": 15,
    "start_time": "2022-04-17T14:43:37.512Z"
   },
   {
    "duration": 166,
    "start_time": "2022-04-17T14:43:38.314Z"
   },
   {
    "duration": 64,
    "start_time": "2022-04-17T14:43:41.336Z"
   },
   {
    "duration": 95,
    "start_time": "2022-04-17T14:43:47.531Z"
   },
   {
    "duration": 13560546,
    "start_time": "2022-04-17T14:43:55.740Z"
   },
   {
    "duration": 4100963,
    "start_time": "2022-04-17T18:50:09.261Z"
   },
   {
    "duration": 818,
    "start_time": "2022-04-18T06:38:55.338Z"
   },
   {
    "duration": 902,
    "start_time": "2022-04-18T06:39:38.329Z"
   },
   {
    "duration": 21039,
    "start_time": "2022-04-18T06:42:43.337Z"
   },
   {
    "duration": 14,
    "start_time": "2022-04-18T06:46:00.940Z"
   },
   {
    "duration": 114,
    "start_time": "2022-04-18T06:47:51.776Z"
   },
   {
    "duration": 48224,
    "start_time": "2022-04-18T06:48:40.227Z"
   },
   {
    "duration": 9,
    "start_time": "2022-04-18T06:52:04.644Z"
   },
   {
    "duration": 4,
    "start_time": "2022-04-18T06:52:29.213Z"
   },
   {
    "duration": 19,
    "start_time": "2022-04-18T06:52:37.586Z"
   },
   {
    "duration": 289,
    "start_time": "2022-04-18T07:04:51.760Z"
   },
   {
    "duration": 334,
    "start_time": "2022-04-18T07:05:16.170Z"
   },
   {
    "duration": 770,
    "start_time": "2022-04-18T07:06:22.207Z"
   },
   {
    "duration": 620,
    "start_time": "2022-04-18T07:23:50.539Z"
   },
   {
    "duration": 569,
    "start_time": "2022-04-18T07:36:36.817Z"
   },
   {
    "duration": 10,
    "start_time": "2022-04-18T07:38:31.802Z"
   },
   {
    "duration": 22,
    "start_time": "2022-04-18T07:38:35.985Z"
   },
   {
    "duration": 132,
    "start_time": "2022-04-18T07:38:36.550Z"
   },
   {
    "duration": 65,
    "start_time": "2022-04-18T07:38:40.549Z"
   },
   {
    "duration": 1123,
    "start_time": "2022-04-18T07:39:25.215Z"
   },
   {
    "duration": 462,
    "start_time": "2022-04-18T07:40:45.551Z"
   },
   {
    "duration": 14,
    "start_time": "2022-04-18T07:41:08.614Z"
   },
   {
    "duration": 321,
    "start_time": "2022-04-18T07:41:30.017Z"
   },
   {
    "duration": 227,
    "start_time": "2022-04-18T07:41:52.314Z"
   },
   {
    "duration": 205,
    "start_time": "2022-04-18T07:42:10.360Z"
   },
   {
    "duration": 5,
    "start_time": "2022-04-18T07:42:42.366Z"
   },
   {
    "duration": 208,
    "start_time": "2022-04-18T07:42:49.164Z"
   },
   {
    "duration": 411,
    "start_time": "2022-04-18T07:43:52.960Z"
   },
   {
    "duration": 250,
    "start_time": "2022-04-18T07:43:56.145Z"
   },
   {
    "duration": 84516,
    "start_time": "2022-04-18T07:43:58.507Z"
   },
   {
    "duration": 59,
    "start_time": "2022-04-18T07:45:59.375Z"
   },
   {
    "duration": 4,
    "start_time": "2022-04-18T07:49:31.031Z"
   },
   {
    "duration": 18,
    "start_time": "2022-04-18T09:00:40.351Z"
   },
   {
    "duration": 1708,
    "start_time": "2022-04-18T09:15:23.989Z"
   },
   {
    "duration": 1797,
    "start_time": "2022-04-18T09:15:25.700Z"
   },
   {
    "duration": 4,
    "start_time": "2022-04-18T09:15:31.705Z"
   },
   {
    "duration": 45,
    "start_time": "2022-04-18T09:15:32.179Z"
   },
   {
    "duration": 253,
    "start_time": "2022-04-18T09:15:32.787Z"
   },
   {
    "duration": 284,
    "start_time": "2022-04-18T09:15:33.729Z"
   },
   {
    "duration": 172,
    "start_time": "2022-04-18T09:15:34.496Z"
   },
   {
    "duration": 16,
    "start_time": "2022-04-18T09:15:38.659Z"
   },
   {
    "duration": 137,
    "start_time": "2022-04-18T09:15:39.062Z"
   },
   {
    "duration": 184,
    "start_time": "2022-04-18T09:16:08.653Z"
   },
   {
    "duration": 50,
    "start_time": "2022-04-18T09:16:18.438Z"
   },
   {
    "duration": 50,
    "start_time": "2022-04-18T09:16:33.659Z"
   },
   {
    "duration": 63,
    "start_time": "2022-04-18T09:16:44.272Z"
   },
   {
    "duration": 619,
    "start_time": "2022-04-18T09:16:51.165Z"
   },
   {
    "duration": 523,
    "start_time": "2022-04-18T09:16:54.400Z"
   },
   {
    "duration": 264,
    "start_time": "2022-04-18T09:17:06.400Z"
   },
   {
    "duration": 1641,
    "start_time": "2022-04-18T09:36:28.152Z"
   },
   {
    "duration": 1770,
    "start_time": "2022-04-18T09:36:29.795Z"
   },
   {
    "duration": 3,
    "start_time": "2022-04-18T09:36:31.567Z"
   },
   {
    "duration": 35,
    "start_time": "2022-04-18T09:36:31.882Z"
   },
   {
    "duration": 229,
    "start_time": "2022-04-18T09:36:32.288Z"
   },
   {
    "duration": 281,
    "start_time": "2022-04-18T09:36:33.061Z"
   },
   {
    "duration": 178,
    "start_time": "2022-04-18T09:36:33.456Z"
   },
   {
    "duration": 16,
    "start_time": "2022-04-18T09:36:36.644Z"
   },
   {
    "duration": 183,
    "start_time": "2022-04-18T09:36:37.088Z"
   },
   {
    "duration": 73,
    "start_time": "2022-04-18T09:36:39.085Z"
   },
   {
    "duration": 2524725,
    "start_time": "2022-04-18T09:36:44.999Z"
   },
   {
    "duration": 525,
    "start_time": "2022-04-18T10:18:49.727Z"
   },
   {
    "duration": 510,
    "start_time": "2022-04-18T10:18:50.253Z"
   },
   {
    "duration": 245,
    "start_time": "2022-04-18T10:18:50.766Z"
   },
   {
    "duration": 1886891,
    "start_time": "2022-04-18T10:18:51.013Z"
   },
   {
    "duration": 196,
    "start_time": "2022-04-18T12:53:27.146Z"
   },
   {
    "duration": 0,
    "start_time": "2022-04-18T12:53:27.355Z"
   },
   {
    "duration": 0,
    "start_time": "2022-04-18T12:53:27.357Z"
   },
   {
    "duration": 0,
    "start_time": "2022-04-18T12:53:27.357Z"
   },
   {
    "duration": 0,
    "start_time": "2022-04-18T12:53:27.364Z"
   },
   {
    "duration": 0,
    "start_time": "2022-04-18T12:53:27.365Z"
   },
   {
    "duration": 0,
    "start_time": "2022-04-18T12:53:27.367Z"
   },
   {
    "duration": 11,
    "start_time": "2022-04-18T12:53:55.431Z"
   },
   {
    "duration": 858,
    "start_time": "2022-04-18T12:54:33.682Z"
   },
   {
    "duration": 1702,
    "start_time": "2022-04-18T12:55:25.997Z"
   },
   {
    "duration": 1684,
    "start_time": "2022-04-18T12:55:27.701Z"
   },
   {
    "duration": 4,
    "start_time": "2022-04-18T12:55:29.387Z"
   },
   {
    "duration": 55,
    "start_time": "2022-04-18T12:55:29.393Z"
   },
   {
    "duration": 232,
    "start_time": "2022-04-18T12:55:29.450Z"
   },
   {
    "duration": 291,
    "start_time": "2022-04-18T12:55:29.683Z"
   },
   {
    "duration": 171,
    "start_time": "2022-04-18T12:55:29.976Z"
   },
   {
    "duration": 17,
    "start_time": "2022-04-18T12:55:31.225Z"
   },
   {
    "duration": 165,
    "start_time": "2022-04-18T12:55:31.639Z"
   },
   {
    "duration": 63,
    "start_time": "2022-04-18T12:55:33.083Z"
   },
   {
    "duration": 657,
    "start_time": "2022-04-18T12:55:36.912Z"
   },
   {
    "duration": 490,
    "start_time": "2022-04-18T12:55:37.571Z"
   },
   {
    "duration": 250,
    "start_time": "2022-04-18T12:55:38.330Z"
   },
   {
    "duration": 335,
    "start_time": "2022-04-18T12:55:44.627Z"
   },
   {
    "duration": 204,
    "start_time": "2022-04-18T12:55:53.620Z"
   },
   {
    "duration": 21296,
    "start_time": "2022-04-18T13:15:46.433Z"
   },
   {
    "duration": 98,
    "start_time": "2022-04-18T13:19:08.530Z"
   },
   {
    "duration": 138,
    "start_time": "2022-04-18T13:19:57.285Z"
   },
   {
    "duration": 20,
    "start_time": "2022-04-18T13:21:28.649Z"
   },
   {
    "duration": 18523,
    "start_time": "2022-04-18T13:26:37.308Z"
   },
   {
    "duration": 20037,
    "start_time": "2022-04-18T13:27:40.294Z"
   },
   {
    "duration": 1804,
    "start_time": "2022-04-18T13:44:15.595Z"
   },
   {
    "duration": 2266,
    "start_time": "2022-04-18T13:44:17.402Z"
   },
   {
    "duration": 3,
    "start_time": "2022-04-18T13:44:19.670Z"
   },
   {
    "duration": 57,
    "start_time": "2022-04-18T13:44:19.675Z"
   },
   {
    "duration": 279,
    "start_time": "2022-04-18T13:44:19.734Z"
   },
   {
    "duration": 321,
    "start_time": "2022-04-18T13:44:20.014Z"
   },
   {
    "duration": 199,
    "start_time": "2022-04-18T13:44:20.337Z"
   },
   {
    "duration": 17,
    "start_time": "2022-04-18T13:44:21.776Z"
   },
   {
    "duration": 184,
    "start_time": "2022-04-18T13:44:22.615Z"
   },
   {
    "duration": 52,
    "start_time": "2022-04-18T13:44:23.682Z"
   },
   {
    "duration": 1913,
    "start_time": "2022-04-18T13:52:01.454Z"
   },
   {
    "duration": 2632,
    "start_time": "2022-04-18T13:52:03.370Z"
   },
   {
    "duration": 3,
    "start_time": "2022-04-18T13:52:06.004Z"
   },
   {
    "duration": 58,
    "start_time": "2022-04-18T13:52:06.009Z"
   },
   {
    "duration": 270,
    "start_time": "2022-04-18T13:52:06.069Z"
   },
   {
    "duration": 468,
    "start_time": "2022-04-18T13:52:06.342Z"
   },
   {
    "duration": 311,
    "start_time": "2022-04-18T13:52:06.813Z"
   },
   {
    "duration": 22,
    "start_time": "2022-04-18T13:52:07.126Z"
   },
   {
    "duration": 289,
    "start_time": "2022-04-18T13:52:07.150Z"
   },
   {
    "duration": 47,
    "start_time": "2022-04-18T13:52:07.441Z"
   },
   {
    "duration": 1971,
    "start_time": "2022-04-18T13:52:59.099Z"
   },
   {
    "duration": 1889,
    "start_time": "2022-04-18T13:53:01.072Z"
   },
   {
    "duration": 3,
    "start_time": "2022-04-18T13:53:02.963Z"
   },
   {
    "duration": 56,
    "start_time": "2022-04-18T13:53:02.969Z"
   },
   {
    "duration": 250,
    "start_time": "2022-04-18T13:53:03.029Z"
   },
   {
    "duration": 318,
    "start_time": "2022-04-18T13:53:03.281Z"
   },
   {
    "duration": 192,
    "start_time": "2022-04-18T13:53:03.601Z"
   },
   {
    "duration": 31,
    "start_time": "2022-04-18T13:53:03.794Z"
   },
   {
    "duration": 192,
    "start_time": "2022-04-18T13:53:03.827Z"
   },
   {
    "duration": 53,
    "start_time": "2022-04-18T13:53:04.026Z"
   },
   {
    "duration": 643446,
    "start_time": "2022-04-18T13:53:04.081Z"
   },
   {
    "duration": 658,
    "start_time": "2022-04-18T14:03:47.529Z"
   },
   {
    "duration": 492,
    "start_time": "2022-04-18T14:03:48.189Z"
   },
   {
    "duration": 0,
    "start_time": "2022-04-18T14:03:48.683Z"
   },
   {
    "duration": 0,
    "start_time": "2022-04-18T14:03:48.684Z"
   },
   {
    "duration": 0,
    "start_time": "2022-04-18T14:03:48.685Z"
   },
   {
    "duration": 0,
    "start_time": "2022-04-18T14:03:48.686Z"
   },
   {
    "duration": 0,
    "start_time": "2022-04-18T14:03:48.687Z"
   },
   {
    "duration": 0,
    "start_time": "2022-04-18T14:03:48.688Z"
   },
   {
    "duration": 0,
    "start_time": "2022-04-18T14:03:48.689Z"
   },
   {
    "duration": 0,
    "start_time": "2022-04-18T14:03:48.690Z"
   },
   {
    "duration": 0,
    "start_time": "2022-04-18T14:03:48.691Z"
   },
   {
    "duration": 318,
    "start_time": "2022-04-18T14:04:02.985Z"
   },
   {
    "duration": 256,
    "start_time": "2022-04-18T14:04:04.667Z"
   },
   {
    "duration": 2112380,
    "start_time": "2022-04-18T14:04:11.981Z"
   },
   {
    "duration": 0,
    "start_time": "2022-04-18T14:39:24.363Z"
   },
   {
    "duration": 0,
    "start_time": "2022-04-18T14:39:24.364Z"
   },
   {
    "duration": 1,
    "start_time": "2022-04-18T14:39:24.364Z"
   },
   {
    "duration": 0,
    "start_time": "2022-04-18T14:39:24.365Z"
   },
   {
    "duration": 0,
    "start_time": "2022-04-18T14:39:24.366Z"
   },
   {
    "duration": 0,
    "start_time": "2022-04-18T14:39:24.367Z"
   },
   {
    "duration": 0,
    "start_time": "2022-04-18T14:39:24.368Z"
   },
   {
    "duration": 80607,
    "start_time": "2022-04-18T15:19:13.443Z"
   },
   {
    "duration": 6764669,
    "start_time": "2022-04-18T15:20:34.052Z"
   },
   {
    "duration": 35099,
    "start_time": "2022-04-18T17:13:18.725Z"
   },
   {
    "duration": 1406,
    "start_time": "2022-04-18T17:13:53.838Z"
   },
   {
    "duration": 222,
    "start_time": "2022-04-18T17:13:55.246Z"
   },
   {
    "duration": 973,
    "start_time": "2022-04-18T17:13:55.471Z"
   },
   {
    "duration": 182,
    "start_time": "2022-04-18T17:13:56.446Z"
   },
   {
    "duration": 105,
    "start_time": "2022-04-18T17:13:56.632Z"
   },
   {
    "duration": 172,
    "start_time": "2022-04-19T13:28:05.607Z"
   },
   {
    "duration": 42,
    "start_time": "2022-04-19T13:39:10.910Z"
   },
   {
    "duration": 1692,
    "start_time": "2022-04-19T13:39:20.563Z"
   },
   {
    "duration": 1493,
    "start_time": "2022-04-19T13:39:29.681Z"
   },
   {
    "duration": 3,
    "start_time": "2022-04-19T13:41:12.986Z"
   },
   {
    "duration": 40,
    "start_time": "2022-04-19T13:41:13.518Z"
   },
   {
    "duration": 288,
    "start_time": "2022-04-19T13:41:14.517Z"
   },
   {
    "duration": 370,
    "start_time": "2022-04-19T13:41:16.607Z"
   },
   {
    "duration": 238,
    "start_time": "2022-04-19T13:41:19.624Z"
   },
   {
    "duration": 14,
    "start_time": "2022-04-19T13:43:34.072Z"
   },
   {
    "duration": 21,
    "start_time": "2022-04-19T13:43:53.124Z"
   },
   {
    "duration": 25,
    "start_time": "2022-04-19T13:44:15.892Z"
   },
   {
    "duration": 18,
    "start_time": "2022-04-19T13:44:21.321Z"
   },
   {
    "duration": 67,
    "start_time": "2022-04-19T13:44:57.356Z"
   },
   {
    "duration": 17,
    "start_time": "2022-04-19T13:45:16.145Z"
   },
   {
    "duration": 9,
    "start_time": "2022-04-19T13:47:00.535Z"
   },
   {
    "duration": 9,
    "start_time": "2022-04-19T13:47:24.280Z"
   },
   {
    "duration": 127,
    "start_time": "2022-04-19T13:47:29.747Z"
   },
   {
    "duration": 3,
    "start_time": "2022-04-19T13:47:35.413Z"
   },
   {
    "duration": 107,
    "start_time": "2022-04-19T13:47:39.977Z"
   },
   {
    "duration": 108,
    "start_time": "2022-04-19T13:47:50.649Z"
   },
   {
    "duration": 1495,
    "start_time": "2022-04-19T13:48:45.763Z"
   },
   {
    "duration": 1359,
    "start_time": "2022-04-19T13:48:47.260Z"
   },
   {
    "duration": 584,
    "start_time": "2022-04-19T13:48:48.621Z"
   },
   {
    "duration": 0,
    "start_time": "2022-04-19T13:48:49.207Z"
   },
   {
    "duration": 16,
    "start_time": "2022-04-19T13:48:49.476Z"
   },
   {
    "duration": 280,
    "start_time": "2022-04-19T13:49:21.144Z"
   },
   {
    "duration": 20,
    "start_time": "2022-04-19T13:53:18.624Z"
   },
   {
    "duration": 10,
    "start_time": "2022-04-19T14:16:14.451Z"
   },
   {
    "duration": 8,
    "start_time": "2022-04-19T14:16:57.946Z"
   },
   {
    "duration": 7,
    "start_time": "2022-04-19T14:17:18.225Z"
   },
   {
    "duration": 1495,
    "start_time": "2022-04-19T14:26:39.511Z"
   },
   {
    "duration": 1358,
    "start_time": "2022-04-19T14:26:41.008Z"
   },
   {
    "duration": 20,
    "start_time": "2022-04-19T14:26:42.367Z"
   },
   {
    "duration": 7,
    "start_time": "2022-04-19T14:26:42.388Z"
   },
   {
    "duration": 4,
    "start_time": "2022-04-19T14:26:43.970Z"
   },
   {
    "duration": 37,
    "start_time": "2022-04-19T14:26:44.309Z"
   },
   {
    "duration": 197,
    "start_time": "2022-04-19T14:26:45.322Z"
   },
   {
    "duration": 243,
    "start_time": "2022-04-19T14:26:46.717Z"
   },
   {
    "duration": 124,
    "start_time": "2022-04-19T14:26:47.292Z"
   },
   {
    "duration": 15,
    "start_time": "2022-04-19T14:30:56.230Z"
   },
   {
    "duration": 151,
    "start_time": "2022-04-19T14:30:56.802Z"
   },
   {
    "duration": 44,
    "start_time": "2022-04-19T14:30:59.546Z"
   },
   {
    "duration": 3493851,
    "start_time": "2022-04-19T15:58:30.380Z"
   },
   {
    "duration": 4,
    "start_time": "2022-04-19T17:02:56.883Z"
   },
   {
    "duration": 104,
    "start_time": "2022-04-19T17:04:27.211Z"
   },
   {
    "duration": 11,
    "start_time": "2022-04-19T17:04:59.350Z"
   },
   {
    "duration": 10,
    "start_time": "2022-04-19T17:05:17.938Z"
   },
   {
    "duration": 123,
    "start_time": "2022-04-19T17:10:36.238Z"
   },
   {
    "duration": 113,
    "start_time": "2022-04-19T17:10:43.795Z"
   },
   {
    "duration": 128,
    "start_time": "2022-04-19T17:10:49.501Z"
   },
   {
    "duration": 8923,
    "start_time": "2022-04-19T17:10:55.521Z"
   },
   {
    "duration": 8992,
    "start_time": "2022-04-19T17:12:37.658Z"
   },
   {
    "duration": 1460,
    "start_time": "2022-04-19T17:14:26.911Z"
   },
   {
    "duration": 11,
    "start_time": "2022-04-19T17:19:53.272Z"
   },
   {
    "duration": 662,
    "start_time": "2022-04-19T17:20:00.637Z"
   },
   {
    "duration": 392,
    "start_time": "2022-04-19T17:20:01.301Z"
   },
   {
    "duration": 230,
    "start_time": "2022-04-19T17:20:01.696Z"
   },
   {
    "duration": 29410,
    "start_time": "2022-04-19T17:20:07.420Z"
   },
   {
    "duration": 83706,
    "start_time": "2022-04-19T17:20:36.832Z"
   },
   {
    "duration": 14,
    "start_time": "2022-04-19T17:30:06.865Z"
   },
   {
    "duration": 10,
    "start_time": "2022-04-19T17:30:26.377Z"
   },
   {
    "duration": 14,
    "start_time": "2022-04-19T17:30:42.537Z"
   },
   {
    "duration": 162,
    "start_time": "2022-04-19T17:32:54.301Z"
   },
   {
    "duration": 199,
    "start_time": "2022-04-19T17:32:56.224Z"
   },
   {
    "duration": 23,
    "start_time": "2022-04-19T17:34:04.756Z"
   },
   {
    "duration": 6801475,
    "start_time": "2022-04-19T17:34:48.100Z"
   },
   {
    "duration": 697,
    "start_time": "2022-04-19T19:28:09.576Z"
   },
   {
    "duration": 9,
    "start_time": "2022-04-19T19:28:10.276Z"
   },
   {
    "duration": 0,
    "start_time": "2022-04-19T19:28:10.286Z"
   },
   {
    "duration": 11,
    "start_time": "2022-04-19T19:28:24.687Z"
   },
   {
    "duration": 11,
    "start_time": "2022-04-19T19:29:09.505Z"
   },
   {
    "duration": 13,
    "start_time": "2022-04-19T19:30:28.302Z"
   },
   {
    "duration": 15,
    "start_time": "2022-04-19T19:30:35.735Z"
   },
   {
    "duration": 14,
    "start_time": "2022-04-19T19:32:34.237Z"
   },
   {
    "duration": 15,
    "start_time": "2022-04-19T19:32:59.943Z"
   },
   {
    "duration": 13,
    "start_time": "2022-04-19T19:33:14.570Z"
   },
   {
    "duration": 75,
    "start_time": "2022-04-21T07:27:39.406Z"
   },
   {
    "duration": 1863,
    "start_time": "2022-04-21T07:27:45.722Z"
   },
   {
    "duration": 1928,
    "start_time": "2022-04-21T07:27:47.587Z"
   },
   {
    "duration": 43,
    "start_time": "2022-04-21T07:27:49.517Z"
   },
   {
    "duration": 39,
    "start_time": "2022-04-21T07:31:09.256Z"
   },
   {
    "duration": 26,
    "start_time": "2022-04-21T07:32:07.675Z"
   },
   {
    "duration": 37,
    "start_time": "2022-04-21T08:37:12.020Z"
   },
   {
    "duration": 26,
    "start_time": "2022-04-21T08:47:01.463Z"
   },
   {
    "duration": 25,
    "start_time": "2022-04-21T08:47:08.074Z"
   },
   {
    "duration": 182,
    "start_time": "2022-04-21T08:56:13.571Z"
   },
   {
    "duration": 73,
    "start_time": "2022-04-21T08:57:06.665Z"
   },
   {
    "duration": 8,
    "start_time": "2022-04-21T08:57:07.949Z"
   },
   {
    "duration": 63,
    "start_time": "2022-04-21T08:57:36.478Z"
   },
   {
    "duration": 57,
    "start_time": "2022-04-21T08:57:55.699Z"
   },
   {
    "duration": 1623,
    "start_time": "2022-04-21T08:58:16.701Z"
   },
   {
    "duration": 1841,
    "start_time": "2022-04-21T08:58:18.326Z"
   },
   {
    "duration": 24,
    "start_time": "2022-04-21T08:58:20.169Z"
   },
   {
    "duration": 28,
    "start_time": "2022-04-21T08:58:23.840Z"
   },
   {
    "duration": 26,
    "start_time": "2022-04-21T08:58:24.257Z"
   },
   {
    "duration": 81,
    "start_time": "2022-04-21T08:58:27.007Z"
   },
   {
    "duration": 9,
    "start_time": "2022-04-21T08:58:30.346Z"
   },
   {
    "duration": 1800,
    "start_time": "2022-04-21T09:22:30.165Z"
   },
   {
    "duration": 1994,
    "start_time": "2022-04-21T09:22:31.967Z"
   },
   {
    "duration": 39,
    "start_time": "2022-04-21T09:22:33.963Z"
   },
   {
    "duration": 55,
    "start_time": "2022-04-21T09:22:34.005Z"
   },
   {
    "duration": 39,
    "start_time": "2022-04-21T09:22:34.062Z"
   },
   {
    "duration": 9,
    "start_time": "2022-04-21T09:22:34.102Z"
   },
   {
    "duration": 5,
    "start_time": "2022-04-21T09:22:35.298Z"
   },
   {
    "duration": 277,
    "start_time": "2022-04-21T09:22:35.850Z"
   },
   {
    "duration": 74,
    "start_time": "2022-04-21T09:22:42.272Z"
   },
   {
    "duration": 104,
    "start_time": "2022-04-21T09:32:13.872Z"
   },
   {
    "duration": 43,
    "start_time": "2022-04-21T09:32:40.853Z"
   },
   {
    "duration": 136,
    "start_time": "2022-04-21T09:33:11.001Z"
   },
   {
    "duration": 21,
    "start_time": "2022-04-21T09:33:17.453Z"
   },
   {
    "duration": 154,
    "start_time": "2022-04-21T09:34:14.729Z"
   },
   {
    "duration": 43,
    "start_time": "2022-04-21T09:34:56.369Z"
   },
   {
    "duration": 69,
    "start_time": "2022-04-21T09:35:08.369Z"
   },
   {
    "duration": 7,
    "start_time": "2022-04-21T09:35:08.706Z"
   },
   {
    "duration": 3095,
    "start_time": "2022-04-21T09:35:28.105Z"
   },
   {
    "duration": 2070,
    "start_time": "2022-04-21T09:35:31.202Z"
   },
   {
    "duration": 27,
    "start_time": "2022-04-21T09:35:33.275Z"
   },
   {
    "duration": 58,
    "start_time": "2022-04-21T09:35:33.305Z"
   },
   {
    "duration": 25,
    "start_time": "2022-04-21T09:35:33.365Z"
   },
   {
    "duration": 13,
    "start_time": "2022-04-21T09:35:40.629Z"
   },
   {
    "duration": 4,
    "start_time": "2022-04-21T09:36:14.433Z"
   },
   {
    "duration": 299,
    "start_time": "2022-04-21T09:36:14.827Z"
   },
   {
    "duration": 74,
    "start_time": "2022-04-21T09:36:15.300Z"
   },
   {
    "duration": 128,
    "start_time": "2022-04-21T09:36:17.588Z"
   },
   {
    "duration": 196,
    "start_time": "2022-04-21T09:36:18.833Z"
   },
   {
    "duration": 316,
    "start_time": "2022-04-21T09:36:20.565Z"
   },
   {
    "duration": 320,
    "start_time": "2022-04-21T09:36:22.949Z"
   },
   {
    "duration": 417,
    "start_time": "2022-04-21T09:36:53.230Z"
   },
   {
    "duration": 1850,
    "start_time": "2022-04-21T09:37:42.568Z"
   },
   {
    "duration": 2145,
    "start_time": "2022-04-21T09:37:44.421Z"
   },
   {
    "duration": 31,
    "start_time": "2022-04-21T09:37:46.568Z"
   },
   {
    "duration": 50,
    "start_time": "2022-04-21T09:37:46.601Z"
   },
   {
    "duration": 30,
    "start_time": "2022-04-21T09:37:46.654Z"
   },
   {
    "duration": 8,
    "start_time": "2022-04-21T09:37:46.686Z"
   },
   {
    "duration": 7,
    "start_time": "2022-04-21T09:37:46.696Z"
   },
   {
    "duration": 314,
    "start_time": "2022-04-21T09:37:46.704Z"
   },
   {
    "duration": 78,
    "start_time": "2022-04-21T09:37:47.020Z"
   },
   {
    "duration": 164,
    "start_time": "2022-04-21T09:37:47.100Z"
   },
   {
    "duration": 178,
    "start_time": "2022-04-21T09:37:47.266Z"
   },
   {
    "duration": 315,
    "start_time": "2022-04-21T09:37:47.446Z"
   },
   {
    "duration": 443,
    "start_time": "2022-04-21T09:37:47.763Z"
   },
   {
    "duration": 31,
    "start_time": "2022-04-21T09:37:48.210Z"
   },
   {
    "duration": 260,
    "start_time": "2022-04-21T09:37:48.242Z"
   },
   {
    "duration": 73,
    "start_time": "2022-04-21T09:37:48.504Z"
   },
   {
    "duration": 1891,
    "start_time": "2022-04-21T09:38:47.604Z"
   },
   {
    "duration": 2090,
    "start_time": "2022-04-21T09:38:49.498Z"
   },
   {
    "duration": 26,
    "start_time": "2022-04-21T09:38:51.589Z"
   },
   {
    "duration": 35,
    "start_time": "2022-04-21T09:38:51.639Z"
   },
   {
    "duration": 26,
    "start_time": "2022-04-21T09:38:51.677Z"
   },
   {
    "duration": 39,
    "start_time": "2022-04-21T09:38:51.705Z"
   },
   {
    "duration": 4,
    "start_time": "2022-04-21T09:38:51.746Z"
   },
   {
    "duration": 296,
    "start_time": "2022-04-21T09:38:51.756Z"
   },
   {
    "duration": 92,
    "start_time": "2022-04-21T09:38:52.054Z"
   },
   {
    "duration": 132,
    "start_time": "2022-04-21T09:38:52.154Z"
   },
   {
    "duration": 188,
    "start_time": "2022-04-21T09:38:52.288Z"
   },
   {
    "duration": 282,
    "start_time": "2022-04-21T09:38:52.478Z"
   },
   {
    "duration": 447,
    "start_time": "2022-04-21T09:38:52.762Z"
   },
   {
    "duration": 35,
    "start_time": "2022-04-21T09:38:53.213Z"
   },
   {
    "duration": 248,
    "start_time": "2022-04-21T09:38:53.250Z"
   },
   {
    "duration": 83,
    "start_time": "2022-04-21T09:38:53.501Z"
   },
   {
    "duration": 1716,
    "start_time": "2022-04-21T09:43:33.001Z"
   },
   {
    "duration": 2317,
    "start_time": "2022-04-21T09:43:34.719Z"
   },
   {
    "duration": 38,
    "start_time": "2022-04-21T09:43:37.039Z"
   },
   {
    "duration": 27,
    "start_time": "2022-04-21T09:43:37.080Z"
   },
   {
    "duration": 54,
    "start_time": "2022-04-21T09:43:37.109Z"
   },
   {
    "duration": 15,
    "start_time": "2022-04-21T09:43:37.168Z"
   },
   {
    "duration": 4,
    "start_time": "2022-04-21T09:43:37.186Z"
   },
   {
    "duration": 323,
    "start_time": "2022-04-21T09:43:37.192Z"
   },
   {
    "duration": 81,
    "start_time": "2022-04-21T09:43:37.517Z"
   },
   {
    "duration": 138,
    "start_time": "2022-04-21T09:43:37.602Z"
   },
   {
    "duration": 173,
    "start_time": "2022-04-21T09:43:37.742Z"
   },
   {
    "duration": 311,
    "start_time": "2022-04-21T09:43:37.916Z"
   },
   {
    "duration": 464,
    "start_time": "2022-04-21T09:43:38.229Z"
   },
   {
    "duration": 17,
    "start_time": "2022-04-21T09:43:38.695Z"
   },
   {
    "duration": 261,
    "start_time": "2022-04-21T09:43:38.714Z"
   },
   {
    "duration": 62,
    "start_time": "2022-04-21T09:43:38.977Z"
   },
   {
    "duration": 10857602,
    "start_time": "2022-04-21T09:43:39.040Z"
   },
   {
    "duration": 898,
    "start_time": "2022-04-21T12:44:36.644Z"
   },
   {
    "duration": 424,
    "start_time": "2022-04-21T12:44:37.544Z"
   },
   {
    "duration": 246,
    "start_time": "2022-04-21T12:44:37.969Z"
   },
   {
    "duration": 87722,
    "start_time": "2022-04-21T12:44:38.217Z"
   },
   {
    "duration": 7412829,
    "start_time": "2022-04-21T12:46:05.941Z"
   },
   {
    "duration": 48266,
    "start_time": "2022-04-21T14:49:38.771Z"
   },
   {
    "duration": 1534,
    "start_time": "2022-04-21T14:50:27.039Z"
   },
   {
    "duration": 252,
    "start_time": "2022-04-21T14:50:28.575Z"
   },
   {
    "duration": 864,
    "start_time": "2022-04-21T14:50:28.829Z"
   },
   {
    "duration": 153,
    "start_time": "2022-04-21T14:50:29.695Z"
   },
   {
    "duration": 117,
    "start_time": "2022-04-21T14:50:29.940Z"
   },
   {
    "duration": 16,
    "start_time": "2022-04-21T14:50:30.059Z"
   },
   {
    "duration": 390722,
    "start_time": "2022-04-21T14:50:30.078Z"
   },
   {
    "duration": 75,
    "start_time": "2022-04-24T10:11:24.521Z"
   },
   {
    "duration": 1642,
    "start_time": "2022-04-24T10:11:36.360Z"
   },
   {
    "duration": 70,
    "start_time": "2022-04-24T10:11:47.027Z"
   },
   {
    "duration": 1722,
    "start_time": "2022-04-24T10:13:01.844Z"
   },
   {
    "duration": 2388,
    "start_time": "2022-04-24T10:13:03.569Z"
   },
   {
    "duration": 35,
    "start_time": "2022-04-24T10:13:05.958Z"
   },
   {
    "duration": 52,
    "start_time": "2022-04-24T10:13:05.996Z"
   },
   {
    "duration": 35,
    "start_time": "2022-04-24T10:13:06.050Z"
   },
   {
    "duration": 10,
    "start_time": "2022-04-24T10:13:06.087Z"
   },
   {
    "duration": 33,
    "start_time": "2022-04-24T10:13:06.099Z"
   },
   {
    "duration": 204,
    "start_time": "2022-04-24T10:13:06.134Z"
   },
   {
    "duration": 56,
    "start_time": "2022-04-24T10:13:06.340Z"
   },
   {
    "duration": 88,
    "start_time": "2022-04-24T10:13:06.399Z"
   },
   {
    "duration": 142,
    "start_time": "2022-04-24T10:13:06.489Z"
   },
   {
    "duration": 220,
    "start_time": "2022-04-24T10:13:06.633Z"
   },
   {
    "duration": 308,
    "start_time": "2022-04-24T10:13:06.854Z"
   },
   {
    "duration": 15,
    "start_time": "2022-04-24T10:13:07.164Z"
   },
   {
    "duration": 195,
    "start_time": "2022-04-24T10:13:07.181Z"
   },
   {
    "duration": 63,
    "start_time": "2022-04-24T10:13:07.378Z"
   },
   {
    "duration": 13501592,
    "start_time": "2022-04-24T10:13:07.443Z"
   },
   {
    "duration": 585,
    "start_time": "2022-04-24T13:58:09.036Z"
   },
   {
    "duration": 389,
    "start_time": "2022-04-24T13:58:09.622Z"
   },
   {
    "duration": 207,
    "start_time": "2022-04-24T13:58:10.013Z"
   },
   {
    "duration": 85242,
    "start_time": "2022-04-24T13:58:10.223Z"
   },
   {
    "duration": 7213911,
    "start_time": "2022-04-24T13:59:35.467Z"
   },
   {
    "duration": 30649,
    "start_time": "2022-04-24T15:59:49.380Z"
   },
   {
    "duration": 1329,
    "start_time": "2022-04-24T16:00:20.031Z"
   },
   {
    "duration": 218,
    "start_time": "2022-04-24T16:00:21.362Z"
   },
   {
    "duration": 719,
    "start_time": "2022-04-24T16:00:21.581Z"
   },
   {
    "duration": 225,
    "start_time": "2022-04-24T16:00:22.302Z"
   },
   {
    "duration": 195,
    "start_time": "2022-04-24T16:00:22.532Z"
   },
   {
    "duration": 0,
    "start_time": "2022-04-24T16:00:22.729Z"
   },
   {
    "duration": 0,
    "start_time": "2022-04-24T16:00:22.730Z"
   },
   {
    "duration": 6,
    "start_time": "2022-04-24T16:06:11.976Z"
   },
   {
    "duration": 10,
    "start_time": "2022-04-24T16:06:15.587Z"
   },
   {
    "duration": 0,
    "start_time": "2022-04-24T16:20:20.456Z"
   },
   {
    "duration": 0,
    "start_time": "2022-04-24T16:20:20.457Z"
   },
   {
    "duration": 0,
    "start_time": "2022-04-24T16:20:20.459Z"
   },
   {
    "duration": 7,
    "start_time": "2022-04-24T16:50:46.657Z"
   },
   {
    "duration": 11,
    "start_time": "2022-04-24T16:50:46.941Z"
   },
   {
    "duration": 639447,
    "start_time": "2022-04-24T16:50:47.905Z"
   },
   {
    "duration": 4,
    "start_time": "2022-04-24T17:03:35.425Z"
   },
   {
    "duration": 216445,
    "start_time": "2022-04-24T17:04:40.656Z"
   },
   {
    "duration": 1180,
    "start_time": "2022-04-24T17:08:39.759Z"
   },
   {
    "duration": 164,
    "start_time": "2022-04-24T17:08:40.963Z"
   },
   {
    "duration": 873,
    "start_time": "2022-04-24T17:08:55.475Z"
   },
   {
    "duration": 180,
    "start_time": "2022-04-24T17:08:56.350Z"
   },
   {
    "duration": 8,
    "start_time": "2022-04-24T17:08:58.840Z"
   },
   {
    "duration": 13,
    "start_time": "2022-04-24T17:08:59.235Z"
   }
  ],
  "kernelspec": {
   "display_name": "Python 3 (ipykernel)",
   "language": "python",
   "name": "python3"
  },
  "language_info": {
   "codemirror_mode": {
    "name": "ipython",
    "version": 3
   },
   "file_extension": ".py",
   "mimetype": "text/x-python",
   "name": "python",
   "nbconvert_exporter": "python",
   "pygments_lexer": "ipython3",
   "version": "3.9.7"
  },
  "toc": {
   "base_numbering": 1,
   "nav_menu": {},
   "number_sections": true,
   "sideBar": true,
   "skip_h1_title": true,
   "title_cell": "Table of Contents",
   "title_sidebar": "Contents",
   "toc_cell": false,
   "toc_position": {},
   "toc_section_display": true,
   "toc_window_display": false
  }
 },
 "nbformat": 4,
 "nbformat_minor": 2
}
