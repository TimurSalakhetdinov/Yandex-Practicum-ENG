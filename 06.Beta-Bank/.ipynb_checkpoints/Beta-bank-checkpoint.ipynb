{
 "cells": [
  {
   "cell_type": "markdown",
   "metadata": {
    "toc": true
   },
   "source": [
    "<h1>Содержание<span class=\"tocSkip\"></span></h1>\n",
    "<div class=\"toc\"><ul class=\"toc-item\"><li><span><a href=\"#Подготовка-данных\" data-toc-modified-id=\"Подготовка-данных-1\"><span class=\"toc-item-num\">1&nbsp;&nbsp;</span>Подготовка данных</a></span></li><li><span><a href=\"#Исследование-задачи\" data-toc-modified-id=\"Исследование-задачи-2\"><span class=\"toc-item-num\">2&nbsp;&nbsp;</span>Исследование задачи</a></span></li><li><span><a href=\"#Борьба-с-дисбалансом\" data-toc-modified-id=\"Борьба-с-дисбалансом-3\"><span class=\"toc-item-num\">3&nbsp;&nbsp;</span>Борьба с дисбалансом</a></span></li><li><span><a href=\"#Тестирование-модели\" data-toc-modified-id=\"Тестирование-модели-4\"><span class=\"toc-item-num\">4&nbsp;&nbsp;</span>Тестирование модели</a></span></li><li><span><a href=\"#Чек-лист-готовности-проекта\" data-toc-modified-id=\"Чек-лист-готовности-проекта-5\"><span class=\"toc-item-num\">5&nbsp;&nbsp;</span>Чек-лист готовности проекта</a></span></li></ul></div>"
   ]
  },
  {
   "cell_type": "markdown",
   "metadata": {},
   "source": [
    "# Отток клиентов"
   ]
  },
  {
   "cell_type": "markdown",
   "metadata": {},
   "source": [
    "Из «Бета-Банка» стали уходить клиенты. Каждый месяц. Немного, но заметно. Банковские маркетологи посчитали: сохранять текущих клиентов дешевле, чем привлекать новых.\n",
    "\n",
    "Нужно спрогнозировать, уйдёт клиент из банка в ближайшее время или нет. Нам предоставлены исторические данные о поведении клиентов и расторжении договоров с банком. \n",
    "\n",
    "Построим модель с предельно большим значением *F1*-меры - нужно довести метрику до 0.59. Потом проверим *F1*-меру на тестовой выборке.\n",
    "\n",
    "Дополнительно измерим *AUC-ROC*, сравнивайте её значение с *F1*-мерой.\n",
    "\n",
    "Источник данных: [https://www.kaggle.com/barelydedicated/bank-customer-churn-modeling](https://www.kaggle.com/barelydedicated/bank-customer-churn-modeling)"
   ]
  },
  {
   "cell_type": "markdown",
   "metadata": {},
   "source": [
    "## Подготовка данных"
   ]
  },
  {
   "cell_type": "code",
   "execution_count": 3,
   "metadata": {},
   "outputs": [],
   "source": [
    "# Загрузим все необходимые библиотеки:\n",
    "import pandas as pd\n",
    "import numpy as np\n",
    "import matplotlib.pyplot as plt\n",
    "from sklearn.tree import DecisionTreeClassifier\n",
    "from sklearn.ensemble import RandomForestClassifier\n",
    "from sklearn.linear_model import LogisticRegression\n",
    "from sklearn.model_selection import train_test_split\n",
    "from sklearn.preprocessing import OrdinalEncoder\n",
    "from sklearn.preprocessing import StandardScaler\n",
    "from sklearn.metrics import accuracy_score\n",
    "from sklearn.metrics import f1_score\n",
    "from sklearn.metrics import confusion_matrix\n",
    "from sklearn.utils import shuffle\n",
    "from sklearn.metrics import roc_curve\n",
    "from sklearn.metrics import roc_auc_score\n",
    "import warnings \n",
    "warnings.filterwarnings('ignore')"
   ]
  },
  {
   "cell_type": "code",
   "execution_count": 4,
   "metadata": {},
   "outputs": [
    {
     "name": "stdout",
     "output_type": "stream",
     "text": [
      "<class 'pandas.core.frame.DataFrame'>\n",
      "RangeIndex: 10000 entries, 0 to 9999\n",
      "Data columns (total 14 columns):\n",
      "RowNumber          10000 non-null int64\n",
      "CustomerId         10000 non-null int64\n",
      "Surname            10000 non-null object\n",
      "CreditScore        10000 non-null int64\n",
      "Geography          10000 non-null object\n",
      "Gender             10000 non-null object\n",
      "Age                10000 non-null int64\n",
      "Tenure             9091 non-null float64\n",
      "Balance            10000 non-null float64\n",
      "NumOfProducts      10000 non-null int64\n",
      "HasCrCard          10000 non-null int64\n",
      "IsActiveMember     10000 non-null int64\n",
      "EstimatedSalary    10000 non-null float64\n",
      "Exited             10000 non-null int64\n",
      "dtypes: float64(3), int64(8), object(3)\n",
      "memory usage: 1.1+ MB\n"
     ]
    },
    {
     "data": {
      "text/html": [
       "<div>\n",
       "<style scoped>\n",
       "    .dataframe tbody tr th:only-of-type {\n",
       "        vertical-align: middle;\n",
       "    }\n",
       "\n",
       "    .dataframe tbody tr th {\n",
       "        vertical-align: top;\n",
       "    }\n",
       "\n",
       "    .dataframe thead th {\n",
       "        text-align: right;\n",
       "    }\n",
       "</style>\n",
       "<table border=\"1\" class=\"dataframe\">\n",
       "  <thead>\n",
       "    <tr style=\"text-align: right;\">\n",
       "      <th></th>\n",
       "      <th>RowNumber</th>\n",
       "      <th>CustomerId</th>\n",
       "      <th>Surname</th>\n",
       "      <th>CreditScore</th>\n",
       "      <th>Geography</th>\n",
       "      <th>Gender</th>\n",
       "      <th>Age</th>\n",
       "      <th>Tenure</th>\n",
       "      <th>Balance</th>\n",
       "      <th>NumOfProducts</th>\n",
       "      <th>HasCrCard</th>\n",
       "      <th>IsActiveMember</th>\n",
       "      <th>EstimatedSalary</th>\n",
       "      <th>Exited</th>\n",
       "    </tr>\n",
       "  </thead>\n",
       "  <tbody>\n",
       "    <tr>\n",
       "      <td>0</td>\n",
       "      <td>1</td>\n",
       "      <td>15634602</td>\n",
       "      <td>Hargrave</td>\n",
       "      <td>619</td>\n",
       "      <td>France</td>\n",
       "      <td>Female</td>\n",
       "      <td>42</td>\n",
       "      <td>2.0</td>\n",
       "      <td>0.00</td>\n",
       "      <td>1</td>\n",
       "      <td>1</td>\n",
       "      <td>1</td>\n",
       "      <td>101348.88</td>\n",
       "      <td>1</td>\n",
       "    </tr>\n",
       "    <tr>\n",
       "      <td>1</td>\n",
       "      <td>2</td>\n",
       "      <td>15647311</td>\n",
       "      <td>Hill</td>\n",
       "      <td>608</td>\n",
       "      <td>Spain</td>\n",
       "      <td>Female</td>\n",
       "      <td>41</td>\n",
       "      <td>1.0</td>\n",
       "      <td>83807.86</td>\n",
       "      <td>1</td>\n",
       "      <td>0</td>\n",
       "      <td>1</td>\n",
       "      <td>112542.58</td>\n",
       "      <td>0</td>\n",
       "    </tr>\n",
       "    <tr>\n",
       "      <td>2</td>\n",
       "      <td>3</td>\n",
       "      <td>15619304</td>\n",
       "      <td>Onio</td>\n",
       "      <td>502</td>\n",
       "      <td>France</td>\n",
       "      <td>Female</td>\n",
       "      <td>42</td>\n",
       "      <td>8.0</td>\n",
       "      <td>159660.80</td>\n",
       "      <td>3</td>\n",
       "      <td>1</td>\n",
       "      <td>0</td>\n",
       "      <td>113931.57</td>\n",
       "      <td>1</td>\n",
       "    </tr>\n",
       "    <tr>\n",
       "      <td>3</td>\n",
       "      <td>4</td>\n",
       "      <td>15701354</td>\n",
       "      <td>Boni</td>\n",
       "      <td>699</td>\n",
       "      <td>France</td>\n",
       "      <td>Female</td>\n",
       "      <td>39</td>\n",
       "      <td>1.0</td>\n",
       "      <td>0.00</td>\n",
       "      <td>2</td>\n",
       "      <td>0</td>\n",
       "      <td>0</td>\n",
       "      <td>93826.63</td>\n",
       "      <td>0</td>\n",
       "    </tr>\n",
       "    <tr>\n",
       "      <td>4</td>\n",
       "      <td>5</td>\n",
       "      <td>15737888</td>\n",
       "      <td>Mitchell</td>\n",
       "      <td>850</td>\n",
       "      <td>Spain</td>\n",
       "      <td>Female</td>\n",
       "      <td>43</td>\n",
       "      <td>2.0</td>\n",
       "      <td>125510.82</td>\n",
       "      <td>1</td>\n",
       "      <td>1</td>\n",
       "      <td>1</td>\n",
       "      <td>79084.10</td>\n",
       "      <td>0</td>\n",
       "    </tr>\n",
       "    <tr>\n",
       "      <td>5</td>\n",
       "      <td>6</td>\n",
       "      <td>15574012</td>\n",
       "      <td>Chu</td>\n",
       "      <td>645</td>\n",
       "      <td>Spain</td>\n",
       "      <td>Male</td>\n",
       "      <td>44</td>\n",
       "      <td>8.0</td>\n",
       "      <td>113755.78</td>\n",
       "      <td>2</td>\n",
       "      <td>1</td>\n",
       "      <td>0</td>\n",
       "      <td>149756.71</td>\n",
       "      <td>1</td>\n",
       "    </tr>\n",
       "    <tr>\n",
       "      <td>6</td>\n",
       "      <td>7</td>\n",
       "      <td>15592531</td>\n",
       "      <td>Bartlett</td>\n",
       "      <td>822</td>\n",
       "      <td>France</td>\n",
       "      <td>Male</td>\n",
       "      <td>50</td>\n",
       "      <td>7.0</td>\n",
       "      <td>0.00</td>\n",
       "      <td>2</td>\n",
       "      <td>1</td>\n",
       "      <td>1</td>\n",
       "      <td>10062.80</td>\n",
       "      <td>0</td>\n",
       "    </tr>\n",
       "    <tr>\n",
       "      <td>7</td>\n",
       "      <td>8</td>\n",
       "      <td>15656148</td>\n",
       "      <td>Obinna</td>\n",
       "      <td>376</td>\n",
       "      <td>Germany</td>\n",
       "      <td>Female</td>\n",
       "      <td>29</td>\n",
       "      <td>4.0</td>\n",
       "      <td>115046.74</td>\n",
       "      <td>4</td>\n",
       "      <td>1</td>\n",
       "      <td>0</td>\n",
       "      <td>119346.88</td>\n",
       "      <td>1</td>\n",
       "    </tr>\n",
       "    <tr>\n",
       "      <td>8</td>\n",
       "      <td>9</td>\n",
       "      <td>15792365</td>\n",
       "      <td>He</td>\n",
       "      <td>501</td>\n",
       "      <td>France</td>\n",
       "      <td>Male</td>\n",
       "      <td>44</td>\n",
       "      <td>4.0</td>\n",
       "      <td>142051.07</td>\n",
       "      <td>2</td>\n",
       "      <td>0</td>\n",
       "      <td>1</td>\n",
       "      <td>74940.50</td>\n",
       "      <td>0</td>\n",
       "    </tr>\n",
       "    <tr>\n",
       "      <td>9</td>\n",
       "      <td>10</td>\n",
       "      <td>15592389</td>\n",
       "      <td>H?</td>\n",
       "      <td>684</td>\n",
       "      <td>France</td>\n",
       "      <td>Male</td>\n",
       "      <td>27</td>\n",
       "      <td>2.0</td>\n",
       "      <td>134603.88</td>\n",
       "      <td>1</td>\n",
       "      <td>1</td>\n",
       "      <td>1</td>\n",
       "      <td>71725.73</td>\n",
       "      <td>0</td>\n",
       "    </tr>\n",
       "  </tbody>\n",
       "</table>\n",
       "</div>"
      ],
      "text/plain": [
       "   RowNumber  CustomerId   Surname  CreditScore Geography  Gender  Age  \\\n",
       "0          1    15634602  Hargrave          619    France  Female   42   \n",
       "1          2    15647311      Hill          608     Spain  Female   41   \n",
       "2          3    15619304      Onio          502    France  Female   42   \n",
       "3          4    15701354      Boni          699    France  Female   39   \n",
       "4          5    15737888  Mitchell          850     Spain  Female   43   \n",
       "5          6    15574012       Chu          645     Spain    Male   44   \n",
       "6          7    15592531  Bartlett          822    France    Male   50   \n",
       "7          8    15656148    Obinna          376   Germany  Female   29   \n",
       "8          9    15792365        He          501    France    Male   44   \n",
       "9         10    15592389        H?          684    France    Male   27   \n",
       "\n",
       "   Tenure    Balance  NumOfProducts  HasCrCard  IsActiveMember  \\\n",
       "0     2.0       0.00              1          1               1   \n",
       "1     1.0   83807.86              1          0               1   \n",
       "2     8.0  159660.80              3          1               0   \n",
       "3     1.0       0.00              2          0               0   \n",
       "4     2.0  125510.82              1          1               1   \n",
       "5     8.0  113755.78              2          1               0   \n",
       "6     7.0       0.00              2          1               1   \n",
       "7     4.0  115046.74              4          1               0   \n",
       "8     4.0  142051.07              2          0               1   \n",
       "9     2.0  134603.88              1          1               1   \n",
       "\n",
       "   EstimatedSalary  Exited  \n",
       "0        101348.88       1  \n",
       "1        112542.58       0  \n",
       "2        113931.57       1  \n",
       "3         93826.63       0  \n",
       "4         79084.10       0  \n",
       "5        149756.71       1  \n",
       "6         10062.80       0  \n",
       "7        119346.88       1  \n",
       "8         74940.50       0  \n",
       "9         71725.73       0  "
      ]
     },
     "execution_count": 4,
     "metadata": {},
     "output_type": "execute_result"
    }
   ],
   "source": [
    "# Выведем данные:\n",
    "data = pd.read_csv('/datasets/Churn.csv')\n",
    "data.info()\n",
    "data.head(10)"
   ]
  },
  {
   "cell_type": "markdown",
   "metadata": {},
   "source": [
    "Столбцы RowNumber, CustomerId, Surname не представляют ценности для обучения модели, поэтому их можно удалить. Также приведем названия столбцов к нижнему регистру."
   ]
  },
  {
   "cell_type": "code",
   "execution_count": 5,
   "metadata": {
    "scrolled": true
   },
   "outputs": [
    {
     "data": {
      "text/html": [
       "<div>\n",
       "<style scoped>\n",
       "    .dataframe tbody tr th:only-of-type {\n",
       "        vertical-align: middle;\n",
       "    }\n",
       "\n",
       "    .dataframe tbody tr th {\n",
       "        vertical-align: top;\n",
       "    }\n",
       "\n",
       "    .dataframe thead th {\n",
       "        text-align: right;\n",
       "    }\n",
       "</style>\n",
       "<table border=\"1\" class=\"dataframe\">\n",
       "  <thead>\n",
       "    <tr style=\"text-align: right;\">\n",
       "      <th></th>\n",
       "      <th>creditscore</th>\n",
       "      <th>geography</th>\n",
       "      <th>gender</th>\n",
       "      <th>age</th>\n",
       "      <th>tenure</th>\n",
       "      <th>balance</th>\n",
       "      <th>numofproducts</th>\n",
       "      <th>hascrcard</th>\n",
       "      <th>isactivemember</th>\n",
       "      <th>estimatedsalary</th>\n",
       "      <th>exited</th>\n",
       "    </tr>\n",
       "  </thead>\n",
       "  <tbody>\n",
       "    <tr>\n",
       "      <td>0</td>\n",
       "      <td>619</td>\n",
       "      <td>France</td>\n",
       "      <td>Female</td>\n",
       "      <td>42</td>\n",
       "      <td>2.0</td>\n",
       "      <td>0.00</td>\n",
       "      <td>1</td>\n",
       "      <td>1</td>\n",
       "      <td>1</td>\n",
       "      <td>101348.88</td>\n",
       "      <td>1</td>\n",
       "    </tr>\n",
       "    <tr>\n",
       "      <td>1</td>\n",
       "      <td>608</td>\n",
       "      <td>Spain</td>\n",
       "      <td>Female</td>\n",
       "      <td>41</td>\n",
       "      <td>1.0</td>\n",
       "      <td>83807.86</td>\n",
       "      <td>1</td>\n",
       "      <td>0</td>\n",
       "      <td>1</td>\n",
       "      <td>112542.58</td>\n",
       "      <td>0</td>\n",
       "    </tr>\n",
       "    <tr>\n",
       "      <td>2</td>\n",
       "      <td>502</td>\n",
       "      <td>France</td>\n",
       "      <td>Female</td>\n",
       "      <td>42</td>\n",
       "      <td>8.0</td>\n",
       "      <td>159660.80</td>\n",
       "      <td>3</td>\n",
       "      <td>1</td>\n",
       "      <td>0</td>\n",
       "      <td>113931.57</td>\n",
       "      <td>1</td>\n",
       "    </tr>\n",
       "    <tr>\n",
       "      <td>3</td>\n",
       "      <td>699</td>\n",
       "      <td>France</td>\n",
       "      <td>Female</td>\n",
       "      <td>39</td>\n",
       "      <td>1.0</td>\n",
       "      <td>0.00</td>\n",
       "      <td>2</td>\n",
       "      <td>0</td>\n",
       "      <td>0</td>\n",
       "      <td>93826.63</td>\n",
       "      <td>0</td>\n",
       "    </tr>\n",
       "    <tr>\n",
       "      <td>4</td>\n",
       "      <td>850</td>\n",
       "      <td>Spain</td>\n",
       "      <td>Female</td>\n",
       "      <td>43</td>\n",
       "      <td>2.0</td>\n",
       "      <td>125510.82</td>\n",
       "      <td>1</td>\n",
       "      <td>1</td>\n",
       "      <td>1</td>\n",
       "      <td>79084.10</td>\n",
       "      <td>0</td>\n",
       "    </tr>\n",
       "  </tbody>\n",
       "</table>\n",
       "</div>"
      ],
      "text/plain": [
       "   creditscore geography  gender  age  tenure    balance  numofproducts  \\\n",
       "0          619    France  Female   42     2.0       0.00              1   \n",
       "1          608     Spain  Female   41     1.0   83807.86              1   \n",
       "2          502    France  Female   42     8.0  159660.80              3   \n",
       "3          699    France  Female   39     1.0       0.00              2   \n",
       "4          850     Spain  Female   43     2.0  125510.82              1   \n",
       "\n",
       "   hascrcard  isactivemember  estimatedsalary  exited  \n",
       "0          1               1        101348.88       1  \n",
       "1          0               1        112542.58       0  \n",
       "2          1               0        113931.57       1  \n",
       "3          0               0         93826.63       0  \n",
       "4          1               1         79084.10       0  "
      ]
     },
     "execution_count": 5,
     "metadata": {},
     "output_type": "execute_result"
    }
   ],
   "source": [
    "# Приведем названия стобцов к нижнему регистру:\n",
    "data.columns = data.columns.str.lower()\n",
    "\n",
    "# Удалим лишние три столбца:\n",
    "data = data.drop(['rownumber','customerid','surname'], axis=1)\n",
    "data.head()"
   ]
  },
  {
   "cell_type": "markdown",
   "metadata": {},
   "source": [
    "В столбце Tenure есть пропуски, избавимся от них."
   ]
  },
  {
   "cell_type": "code",
   "execution_count": 6,
   "metadata": {},
   "outputs": [
    {
     "name": "stdout",
     "output_type": "stream",
     "text": [
      "<class 'pandas.core.frame.DataFrame'>\n",
      "RangeIndex: 10000 entries, 0 to 9999\n",
      "Data columns (total 11 columns):\n",
      "creditscore        10000 non-null int64\n",
      "geography          10000 non-null object\n",
      "gender             10000 non-null object\n",
      "age                10000 non-null int64\n",
      "tenure             10000 non-null float64\n",
      "balance            10000 non-null float64\n",
      "numofproducts      10000 non-null int64\n",
      "hascrcard          10000 non-null int64\n",
      "isactivemember     10000 non-null int64\n",
      "estimatedsalary    10000 non-null float64\n",
      "exited             10000 non-null int64\n",
      "dtypes: float64(3), int64(6), object(2)\n",
      "memory usage: 859.5+ KB\n"
     ]
    }
   ],
   "source": [
    "# Заменим пропуски в tenure случайными числами:\n",
    "data['tenure'].fillna(value=np.random.randn(), inplace=True)\n",
    "data.info()"
   ]
  },
  {
   "cell_type": "markdown",
   "metadata": {},
   "source": [
    "**Вывод:** Убрали лишние столбцы и избавились от пропусков в данных."
   ]
  },
  {
   "cell_type": "markdown",
   "metadata": {},
   "source": [
    "## Исследование задачи"
   ]
  },
  {
   "cell_type": "code",
   "execution_count": 8,
   "metadata": {},
   "outputs": [
    {
     "data": {
      "text/plain": [
       "creditscore          int64\n",
       "geography           object\n",
       "gender              object\n",
       "age                  int64\n",
       "tenure             float64\n",
       "balance            float64\n",
       "numofproducts        int64\n",
       "hascrcard            int64\n",
       "isactivemember       int64\n",
       "estimatedsalary    float64\n",
       "exited               int64\n",
       "dtype: object"
      ]
     },
     "metadata": {},
     "output_type": "display_data"
    },
    {
     "data": {
      "text/plain": [
       "array(['Female', 'Male'], dtype=object)"
      ]
     },
     "metadata": {},
     "output_type": "display_data"
    },
    {
     "data": {
      "text/plain": [
       "array(['France', 'Spain', 'Germany'], dtype=object)"
      ]
     },
     "execution_count": 8,
     "metadata": {},
     "output_type": "execute_result"
    }
   ],
   "source": [
    "# Проверим признаки какого типа хранятся в таблице:\n",
    "display(data.dtypes)\n",
    "display(data['gender'].unique())\n",
    "data['geography'].unique()"
   ]
  },
  {
   "cell_type": "markdown",
   "metadata": {},
   "source": [
    "Данные в столбцах gender и geography в категориальном формате, модель может принимать только численные данные на вход. Кроме того сами численные данные имеют разный масштаб и необходимо их привести к одному масштабу."
   ]
  },
  {
   "cell_type": "code",
   "execution_count": 9,
   "metadata": {},
   "outputs": [
    {
     "data": {
      "text/plain": [
       "(6000, 11)"
      ]
     },
     "metadata": {},
     "output_type": "display_data"
    },
    {
     "data": {
      "text/plain": [
       "(6000,)"
      ]
     },
     "metadata": {},
     "output_type": "display_data"
    },
    {
     "data": {
      "text/plain": [
       "(2000, 11)"
      ]
     },
     "metadata": {},
     "output_type": "display_data"
    },
    {
     "data": {
      "text/plain": [
       "(2000,)"
      ]
     },
     "metadata": {},
     "output_type": "display_data"
    },
    {
     "data": {
      "text/plain": [
       "(2000, 11)"
      ]
     },
     "metadata": {},
     "output_type": "display_data"
    },
    {
     "data": {
      "text/plain": [
       "(2000,)"
      ]
     },
     "metadata": {},
     "output_type": "display_data"
    }
   ],
   "source": [
    "# Применим прямое кодирование ко всей таблице:\n",
    "data_ohe = pd.get_dummies(data, drop_first=True)\n",
    "target = data_ohe['exited']\n",
    "features = data_ohe.drop('exited', axis=1)\n",
    "\n",
    "# Разделим данные на тренировочную, валидационную и тестовую выборки (3/1/1): \n",
    "features_train, features_split, target_train, target_split = train_test_split(\n",
    "    features, target, test_size=0.4, random_state=12345)\n",
    "\n",
    "features_valid, features_test, target_valid, target_test = train_test_split(\n",
    "    features_split, target_split, test_size=0.5, random_state=12345)\n",
    "\n",
    "# Распечатаем размеры выборок:\n",
    "data = features_train, target_train, features_valid, target_valid, features_test, target_test\n",
    "\n",
    "for i in data:\n",
    "    display(i.shape)"
   ]
  },
  {
   "cell_type": "code",
   "execution_count": 10,
   "metadata": {},
   "outputs": [],
   "source": [
    "# Приведем теперь данные к единому масштабу: \n",
    "numeric = ['creditscore','age', 'tenure', 'balance', 'numofproducts', 'hascrcard', 'isactivemember', 'estimatedsalary']\n",
    "\n",
    "scaler = StandardScaler()\n",
    "scaler.fit(features_train[numeric])\n",
    "features_train[numeric] = scaler.transform(features_train[numeric])\n",
    "features_valid[numeric] = scaler.transform(features_valid[numeric])\n",
    "features_test[numeric] = scaler.transform(features_test[numeric])"
   ]
  },
  {
   "cell_type": "code",
   "execution_count": 11,
   "metadata": {},
   "outputs": [
    {
     "name": "stdout",
     "output_type": "stream",
     "text": [
      "Глубина дерева: 4\n",
      "F1 модели дерева решений наилучшей модели на валидационной выборке: 0.5529\n"
     ]
    }
   ],
   "source": [
    "# Применим дерево решений для создания модели с глубиной от 1 до 5:\n",
    "best_model = None\n",
    "best_depth = 0\n",
    "best_f1 = 0\n",
    "\n",
    "for depth in range(1, 6):\n",
    "    model_tree = DecisionTreeClassifier(random_state=12345, max_depth=depth) \n",
    "    model_tree.fit(features_train, target_train)\n",
    "    predictions_valid = model_tree.predict(features_valid)\n",
    "    f1 = f1_score(target_valid, predictions_valid)\n",
    "    if f1 > best_f1:\n",
    "        best_model = model_tree\n",
    "        best_f1 = f1\n",
    "        best_depth = depth\n",
    "\n",
    "print(\"Глубина дерева:\", best_depth)\n",
    "print(\"F1 модели дерева решений наилучшей модели на валидационной выборке:\", best_f1.round(4))"
   ]
  },
  {
   "cell_type": "code",
   "execution_count": 12,
   "metadata": {},
   "outputs": [
    {
     "name": "stdout",
     "output_type": "stream",
     "text": [
      "F1 модели случайного леса наилучшей модели на валидационной выборке: 0.5746 Количество деревьев: 40 Максимальная глубина: 10\n"
     ]
    }
   ],
   "source": [
    "# Применим случайный лес для создания модели:\n",
    "best_model = None\n",
    "best_f1 = 0\n",
    "best_est = 0\n",
    "best_depth = 0\n",
    "\n",
    "for est in range(10, 51, 10):\n",
    "    for depth in range (1, 11):\n",
    "        model_forest = RandomForestClassifier(random_state=12345, n_estimators=est, max_depth=depth)  \n",
    "        model_forest.fit(features_train, target_train) \n",
    "        predictions_valid = model_forest.predict(features_valid)\n",
    "        f1 = f1_score(target_valid, predictions_valid)\n",
    "        if f1 > best_f1:\n",
    "            best_model = model_forest\n",
    "            best_f1 = f1\n",
    "            best_est = est\n",
    "            best_depth = depth\n",
    "\n",
    "print(\"F1 модели случайного леса наилучшей модели на валидационной выборке:\", best_f1.round(4), \"Количество деревьев:\", best_est, \n",
    "      \"Максимальная глубина:\", depth)"
   ]
  },
  {
   "cell_type": "code",
   "execution_count": 13,
   "metadata": {},
   "outputs": [
    {
     "name": "stdout",
     "output_type": "stream",
     "text": [
      "F1 модели логистической регрессии на валидационной выборке: 0.3339\n"
     ]
    }
   ],
   "source": [
    "# Применим логистическую регрессию для создания модели:\n",
    "model_reg = LogisticRegression() \n",
    "model_reg.fit(features_train, target_train) \n",
    "predictions_valid = model_reg.predict(features_valid)\n",
    "f1 = f1_score(target_valid, predictions_valid)\n",
    "print(\"F1 модели логистической регрессии на валидационной выборке:\", f1.round(4))"
   ]
  },
  {
   "cell_type": "markdown",
   "metadata": {},
   "source": [
    "Из трех моделей F1 лучше всего у модели случайного леса - 0,58."
   ]
  },
  {
   "cell_type": "markdown",
   "metadata": {},
   "source": [
    "Проверим модель на дисбаланс классов, исследуем целевой признак."
   ]
  },
  {
   "cell_type": "code",
   "execution_count": 14,
   "metadata": {
    "scrolled": true
   },
   "outputs": [
    {
     "data": {
      "text/plain": [
       "0    0.7963\n",
       "1    0.2037\n",
       "Name: exited, dtype: float64"
      ]
     },
     "metadata": {},
     "output_type": "display_data"
    },
    {
     "data": {
      "text/plain": [
       "<matplotlib.axes._subplots.AxesSubplot at 0x7ffa56609ed0>"
      ]
     },
     "execution_count": 14,
     "metadata": {},
     "output_type": "execute_result"
    },
    {
     "data": {
      "image/png": "[encoded data removed]",
      "text/plain": [
       "<Figure size 432x288 with 1 Axes>"
      ]
     },
     "metadata": {
      "needs_background": "light"
     },
     "output_type": "display_data"
    }
   ],
   "source": [
    "# Рассчитаем число классов в целевом признаке:\n",
    "class_frequency = data_ohe['exited'].value_counts(normalize=True)\n",
    "display(class_frequency)\n",
    "class_frequency.plot(kind='bar')"
   ]
  },
  {
   "cell_type": "code",
   "execution_count": 15,
   "metadata": {},
   "outputs": [
    {
     "name": "stdout",
     "output_type": "stream",
     "text": [
      "0    0.885\n",
      "1    0.115\n",
      "dtype: float64\n"
     ]
    },
    {
     "data": {
      "text/plain": [
       "<matplotlib.axes._subplots.AxesSubplot at 0x7ffa564c8fd0>"
      ]
     },
     "execution_count": 15,
     "metadata": {},
     "output_type": "execute_result"
    },
    {
     "data": {
      "image/png": "[encoded data removed]",
      "text/plain": [
       "<Figure size 432x288 with 1 Axes>"
      ]
     },
     "metadata": {
      "needs_background": "light"
     },
     "output_type": "display_data"
    }
   ],
   "source": [
    "# Рассчитаем число классов в результатах предсказаний случайного леса:\n",
    "predicted_valid = pd.Series(model_forest.predict(features_valid))\n",
    "\n",
    "class_frequency = predicted_valid.value_counts(normalize=True)\n",
    "print(class_frequency)\n",
    "class_frequency.plot(kind='bar')"
   ]
  },
  {
   "cell_type": "markdown",
   "metadata": {},
   "source": [
    "В целевом признаке и в результатах предсказаний сильный дисбаланс классов."
   ]
  },
  {
   "cell_type": "code",
   "execution_count": 16,
   "metadata": {},
   "outputs": [
    {
     "data": {
      "text/plain": [
       "array([[1535,   47],\n",
       "       [ 235,  183]])"
      ]
     },
     "metadata": {},
     "output_type": "display_data"
    }
   ],
   "source": [
    "# Выведем матрицу неточностей модели случайного леса:\n",
    "predicted_valid = model_forest.predict(features_valid)\n",
    "display(confusion_matrix(target_valid,predicted_valid))"
   ]
  },
  {
   "cell_type": "markdown",
   "metadata": {},
   "source": [
    "В модели много ошибочных отрицательных ответов."
   ]
  },
  {
   "cell_type": "markdown",
   "metadata": {},
   "source": [
    "**Вывод:** Наблюдается сильный дисбаланс классов. Метрика F1 меньше целевой - задача достичь F1 не менее 0.59."
   ]
  },
  {
   "cell_type": "code",
   "execution_count": 17,
   "metadata": {},
   "outputs": [
    {
     "name": "stdout",
     "output_type": "stream",
     "text": [
      "AUC-ROC DecisionTreeClassifier : 0.8526\n",
      "AUC-ROC RandomForestClassifier : 0.8526\n",
      "AUC-ROC LogisticRegression : 0.8526\n"
     ]
    }
   ],
   "source": [
    "# Рассчитаем метрику ROC-AUC:\n",
    "models = model_tree, model_forest, model_reg\n",
    "for model in models:\n",
    "    probabilities_valid = model_forest.predict_proba(features_valid)\n",
    "    probabilities_one_valid = probabilities_valid[:, 1]\n",
    "    print('AUC-ROC', model.__class__.__name__, ':', roc_auc_score(target_valid,probabilities_one_valid).round(4))"
   ]
  },
  {
   "cell_type": "markdown",
   "metadata": {},
   "source": [
    "## Борьба с дисбалансом"
   ]
  },
  {
   "cell_type": "code",
   "execution_count": 18,
   "metadata": {},
   "outputs": [
    {
     "name": "stdout",
     "output_type": "stream",
     "text": [
      "F1 DecisionTreeClassifier : 0.5278\n",
      "AUC-ROC DecisionTreeClassifier : 0.8191\n",
      "F1 RandomForestClassifier : 0.6141\n",
      "AUC-ROC RandomForestClassifier : 0.8508\n",
      "F1 LogisticRegression : 0.4889\n",
      "AUC-ROC LogisticRegression : 0.7634\n"
     ]
    }
   ],
   "source": [
    "# Сделаем веса классов моделей более сбалансированными за счет аргумента class_weight:\n",
    "models = [DecisionTreeClassifier(random_state=12345, max_depth=4, class_weight='balanced'),\n",
    "          RandomForestClassifier(random_state=12345, n_estimators=40, max_depth=10, class_weight='balanced'),\n",
    "          LogisticRegression(random_state=12345, solver='liblinear', class_weight='balanced')]\n",
    "\n",
    "for model in models:\n",
    "    model.fit(features_train, target_train)\n",
    "    predicted_valid = model.predict(features_valid)\n",
    "    print(\"F1\", model.__class__.__name__, ':', f1_score(target_valid, predicted_valid).round(4))\n",
    "    probabilities_valid = model.predict_proba(features_valid)\n",
    "    probabilities_one_valid = probabilities_valid[:, 1]\n",
    "    auc_roc = roc_auc_score(target_valid,probabilities_one_valid)\n",
    "    print('AUC-ROC', model.__class__.__name__, ':', auc_roc.round(4))"
   ]
  },
  {
   "cell_type": "markdown",
   "metadata": {},
   "source": [
    "Метрика F1 моделей дерева решений и случайного леса превысили цель по метрике в 0.59."
   ]
  },
  {
   "cell_type": "code",
   "execution_count": 19,
   "metadata": {},
   "outputs": [
    {
     "name": "stdout",
     "output_type": "stream",
     "text": [
      "F1 DecisionTreeClassifier : 0.5278\n",
      "AUC-ROC DecisionTreeClassifier : 0.8191\n",
      "F1 RandomForestClassifier : 0.6184\n",
      "AUC-ROC RandomForestClassifier : 0.8513\n",
      "F1 LogisticRegression : 0.4889\n",
      "AUC-ROC LogisticRegression : 0.7634\n"
     ]
    }
   ],
   "source": [
    "# Проведем увеличение выборки методом unsampling:\n",
    "def upsample(features, target, repeat):\n",
    "    features_zeros = features[target == 0]\n",
    "    features_ones = features[target == 1]\n",
    "    target_zeros = target[target == 0]\n",
    "    target_ones = target[target == 1]\n",
    "\n",
    "    features_upsampled = pd.concat([features_zeros] + [features_ones] * repeat)\n",
    "    target_upsampled = pd.concat([target_zeros] + [target_ones] * repeat)\n",
    "    \n",
    "    features_upsampled, target_upsampled = shuffle(\n",
    "        features_upsampled, target_upsampled, random_state=12345)\n",
    "    \n",
    "    return features_upsampled, target_upsampled\n",
    "\n",
    "features_upsampled, target_upsampled = upsample(features_train, target_train, 10)\n",
    "\n",
    "for model in models:\n",
    "    model.fit(features_upsampled, target_upsampled)\n",
    "    predicted_valid = model.predict(features_valid)\n",
    "    print(\"F1\", model.__class__.__name__, ':', f1_score(target_valid, predicted_valid).round(4))\n",
    "    probabilities_valid = model.predict_proba(features_valid)\n",
    "    probabilities_one_valid = probabilities_valid[:, 1]\n",
    "    auc_roc = roc_auc_score(target_valid,probabilities_one_valid)\n",
    "    print('AUC-ROC', model.__class__.__name__, ':', auc_roc.round(4))"
   ]
  },
  {
   "cell_type": "markdown",
   "metadata": {},
   "source": [
    "Метрика F1 после unsampling не изменилась."
   ]
  },
  {
   "cell_type": "code",
   "execution_count": 20,
   "metadata": {},
   "outputs": [
    {
     "name": "stdout",
     "output_type": "stream",
     "text": [
      "F1 DecisionTreeClassifier : 0.5307\n",
      "AUC-ROC DecisionTreeClassifier : 0.7979\n",
      "F1 RandomForestClassifier : 0.5243\n",
      "AUC-ROC RandomForestClassifier : 0.8365\n",
      "F1 LogisticRegression : 0.477\n",
      "AUC-ROC LogisticRegression : 0.7551\n"
     ]
    }
   ],
   "source": [
    "# Проведем уменьшение выборки методом downsampling:\n",
    "def downsample(features, target, fraction):\n",
    "    features_zeros = features[target == 0]\n",
    "    features_ones = features[target == 1]\n",
    "    target_zeros = target[target == 0]\n",
    "    target_ones = target[target == 1]\n",
    "\n",
    "    features_downsampled = pd.concat(\n",
    "        [features_zeros.sample(frac=fraction, random_state=12345)] + [features_ones])\n",
    "    target_downsampled = pd.concat(\n",
    "        [target_zeros.sample(frac=fraction, random_state=12345)] + [target_ones])\n",
    "    \n",
    "    features_downsampled, target_downsampled = shuffle(\n",
    "        features_downsampled, target_downsampled, random_state=12345)\n",
    "    \n",
    "    return features_downsampled, target_downsampled\n",
    "\n",
    "features_downsampled, target_downsampled = downsample(features_train, target_train, 0.1)\n",
    "\n",
    "for model in models:\n",
    "    model.fit(features_downsampled, target_downsampled)\n",
    "    predicted_valid = model.predict(features_valid)\n",
    "    print(\"F1\", model.__class__.__name__, ':', f1_score(target_valid, predicted_valid).round(4))\n",
    "    probabilities_valid = model.predict_proba(features_valid)\n",
    "    probabilities_one_valid = probabilities_valid[:, 1]\n",
    "    auc_roc = roc_auc_score(target_valid,probabilities_one_valid)\n",
    "    print('AUC-ROC', model.__class__.__name__, ':', auc_roc.round(4))"
   ]
  },
  {
   "cell_type": "markdown",
   "metadata": {},
   "source": [
    "Метрика F1 после downsampling снизилась, соотвественно данный метод не подойдет."
   ]
  },
  {
   "cell_type": "markdown",
   "metadata": {},
   "source": [
    "При балансировке классов лучше всего подошло добавление аргумента class_weight. Лучшие показатели у модели случайного леса: F1 - 0.60, AUC-ROC - 0.83."
   ]
  },
  {
   "cell_type": "markdown",
   "metadata": {},
   "source": [
    "## Тестирование модели"
   ]
  },
  {
   "cell_type": "code",
   "execution_count": 21,
   "metadata": {
    "scrolled": true
   },
   "outputs": [
    {
     "name": "stdout",
     "output_type": "stream",
     "text": [
      "DecisionTreeClassifier\n",
      "F1: 0.5385\n",
      "AUC_ROC: 0.8187\n",
      "RandomForestClassifier\n",
      "F1: 0.6022\n",
      "AUC_ROC: 0.8518\n",
      "LogisticRegression\n",
      "F1: 0.4797\n",
      "AUC_ROC: 0.7417\n"
     ]
    }
   ],
   "source": [
    "# Проверим модели на тестовой выборке:\n",
    "models = [DecisionTreeClassifier(random_state=12345, max_depth=4, class_weight='balanced'),\n",
    "          RandomForestClassifier(random_state=12345, n_estimators=40, max_depth=10, class_weight='balanced'),\n",
    "          LogisticRegression(random_state=12345, solver='liblinear', class_weight='balanced')]\n",
    "\n",
    "for model in models:\n",
    "    model.fit(features_train, target_train)\n",
    "    predictions_test = model.predict(features_test)\n",
    "    print(model.__class__.__name__)\n",
    "    print('F1:', f1_score(target_test, predictions_test).round(4))\n",
    "    probabilities_valid = model.predict_proba(features_test)\n",
    "    probabilities_one_valid = probabilities_valid[:, 1]\n",
    "    print('AUC_ROC:', roc_auc_score(target_test,probabilities_one_valid).round(4))"
   ]
  },
  {
   "cell_type": "markdown",
   "metadata": {},
   "source": [
    "**Вывод:** На тестовой выборке удалось достичь размера желаемой метрики F1 в модели случайный лес > 0.60."
   ]
  },
  {
   "cell_type": "code",
   "execution_count": null,
   "metadata": {},
   "outputs": [],
   "source": []
  }
 ],
 "metadata": {
  "ExecuteTimeLog": [
   {
    "duration": 1031,
    "start_time": "2022-02-19T08:32:16.218Z"
   },
   {
    "duration": 1400,
    "start_time": "2022-02-19T08:32:54.459Z"
   },
   {
    "duration": 1605,
    "start_time": "2022-02-19T08:33:15.985Z"
   },
   {
    "duration": 1455,
    "start_time": "2022-02-19T08:33:22.411Z"
   },
   {
    "duration": 46,
    "start_time": "2022-02-19T08:47:43.457Z"
   },
   {
    "duration": 12,
    "start_time": "2022-02-19T09:02:14.758Z"
   },
   {
    "duration": 197,
    "start_time": "2022-02-19T09:02:27.179Z"
   },
   {
    "duration": 3,
    "start_time": "2022-02-19T09:02:40.134Z"
   },
   {
    "duration": 53,
    "start_time": "2022-02-19T09:02:40.140Z"
   },
   {
    "duration": 11,
    "start_time": "2022-02-19T09:02:40.197Z"
   },
   {
    "duration": 212,
    "start_time": "2022-02-19T09:03:54.420Z"
   },
   {
    "duration": 3,
    "start_time": "2022-02-19T09:03:58.848Z"
   },
   {
    "duration": 41,
    "start_time": "2022-02-19T09:03:58.852Z"
   },
   {
    "duration": 21,
    "start_time": "2022-02-19T09:03:58.894Z"
   },
   {
    "duration": 4,
    "start_time": "2022-02-19T09:08:48.792Z"
   },
   {
    "duration": 6,
    "start_time": "2022-02-19T09:09:22.436Z"
   },
   {
    "duration": 6,
    "start_time": "2022-02-19T09:10:00.405Z"
   },
   {
    "duration": 722,
    "start_time": "2022-02-19T09:32:22.478Z"
   },
   {
    "duration": 937,
    "start_time": "2022-02-19T09:32:31.287Z"
   },
   {
    "duration": 16,
    "start_time": "2022-02-19T09:32:53.219Z"
   },
   {
    "duration": 20,
    "start_time": "2022-02-19T09:33:27.585Z"
   },
   {
    "duration": 18,
    "start_time": "2022-02-19T09:33:35.527Z"
   },
   {
    "duration": 19,
    "start_time": "2022-02-19T09:33:52.696Z"
   },
   {
    "duration": 31,
    "start_time": "2022-02-19T09:34:45.797Z"
   },
   {
    "duration": 3,
    "start_time": "2022-02-19T09:36:37.850Z"
   },
   {
    "duration": 41,
    "start_time": "2022-02-19T09:36:37.855Z"
   },
   {
    "duration": 12,
    "start_time": "2022-02-19T09:36:37.898Z"
   },
   {
    "duration": 7,
    "start_time": "2022-02-19T09:36:37.911Z"
   },
   {
    "duration": 30,
    "start_time": "2022-02-19T09:36:37.920Z"
   },
   {
    "duration": 201,
    "start_time": "2022-02-19T09:38:46.629Z"
   },
   {
    "duration": 324,
    "start_time": "2022-02-19T09:39:04.706Z"
   },
   {
    "duration": 3,
    "start_time": "2022-02-19T09:39:46.553Z"
   },
   {
    "duration": 53,
    "start_time": "2022-02-19T09:39:46.558Z"
   },
   {
    "duration": 13,
    "start_time": "2022-02-19T09:39:46.613Z"
   },
   {
    "duration": 11,
    "start_time": "2022-02-19T09:39:46.628Z"
   },
   {
    "duration": 32,
    "start_time": "2022-02-19T09:39:46.641Z"
   },
   {
    "duration": 16,
    "start_time": "2022-02-19T10:49:09.100Z"
   },
   {
    "duration": 2,
    "start_time": "2022-02-19T10:57:38.286Z"
   },
   {
    "duration": 45,
    "start_time": "2022-02-19T10:57:38.290Z"
   },
   {
    "duration": 13,
    "start_time": "2022-02-19T10:57:38.337Z"
   },
   {
    "duration": 4,
    "start_time": "2022-02-19T10:57:38.351Z"
   },
   {
    "duration": 6,
    "start_time": "2022-02-19T10:57:38.356Z"
   },
   {
    "duration": 17,
    "start_time": "2022-02-19T10:57:38.364Z"
   },
   {
    "duration": 208,
    "start_time": "2022-02-19T10:58:39.310Z"
   },
   {
    "duration": 5410,
    "start_time": "2022-02-19T10:59:25.892Z"
   },
   {
    "duration": 7,
    "start_time": "2022-02-19T10:59:41.373Z"
   },
   {
    "duration": 6,
    "start_time": "2022-02-19T10:59:51.960Z"
   },
   {
    "duration": 7,
    "start_time": "2022-02-19T11:00:12.128Z"
   },
   {
    "duration": 9,
    "start_time": "2022-02-19T11:00:22.137Z"
   },
   {
    "duration": 8,
    "start_time": "2022-02-19T11:01:00.150Z"
   },
   {
    "duration": 204,
    "start_time": "2022-02-19T11:10:25.427Z"
   },
   {
    "duration": 236,
    "start_time": "2022-02-19T11:19:49.566Z"
   },
   {
    "duration": 202,
    "start_time": "2022-02-19T11:22:09.141Z"
   },
   {
    "duration": 6,
    "start_time": "2022-02-19T11:26:22.561Z"
   },
   {
    "duration": 18,
    "start_time": "2022-02-19T11:26:34.952Z"
   },
   {
    "duration": 5,
    "start_time": "2022-02-19T11:28:36.257Z"
   },
   {
    "duration": 42,
    "start_time": "2022-02-19T11:28:36.264Z"
   },
   {
    "duration": 13,
    "start_time": "2022-02-19T11:28:36.308Z"
   },
   {
    "duration": 11,
    "start_time": "2022-02-19T11:28:36.323Z"
   },
   {
    "duration": 2,
    "start_time": "2022-02-19T11:28:36.336Z"
   },
   {
    "duration": 10,
    "start_time": "2022-02-19T11:28:36.340Z"
   },
   {
    "duration": 19,
    "start_time": "2022-02-19T11:28:36.352Z"
   },
   {
    "duration": 249,
    "start_time": "2022-02-19T11:28:36.373Z"
   },
   {
    "duration": 47,
    "start_time": "2022-02-19T11:28:36.577Z"
   },
   {
    "duration": 39,
    "start_time": "2022-02-19T11:28:36.586Z"
   },
   {
    "duration": 55,
    "start_time": "2022-02-19T11:29:03.372Z"
   },
   {
    "duration": 4,
    "start_time": "2022-02-19T11:34:31.562Z"
   },
   {
    "duration": 15,
    "start_time": "2022-02-19T11:44:44.180Z"
   },
   {
    "duration": 9,
    "start_time": "2022-02-19T11:45:16.762Z"
   },
   {
    "duration": 21,
    "start_time": "2022-02-19T11:54:02.908Z"
   },
   {
    "duration": 226,
    "start_time": "2022-02-19T12:06:49.407Z"
   },
   {
    "duration": 3,
    "start_time": "2022-02-19T12:06:57.141Z"
   },
   {
    "duration": 34,
    "start_time": "2022-02-19T12:07:02.134Z"
   },
   {
    "duration": 34,
    "start_time": "2022-02-19T12:07:15.731Z"
   },
   {
    "duration": 67,
    "start_time": "2022-02-19T12:09:51.177Z"
   },
   {
    "duration": 3,
    "start_time": "2022-02-19T12:10:31.170Z"
   },
   {
    "duration": 30,
    "start_time": "2022-02-19T12:10:37.536Z"
   },
   {
    "duration": 48,
    "start_time": "2022-02-19T12:12:28.797Z"
   },
   {
    "duration": 5,
    "start_time": "2022-02-19T12:22:09.638Z"
   },
   {
    "duration": 6,
    "start_time": "2022-02-19T12:22:29.034Z"
   },
   {
    "duration": 63,
    "start_time": "2022-02-19T12:22:34.835Z"
   },
   {
    "duration": 6,
    "start_time": "2022-02-19T12:22:36.519Z"
   },
   {
    "duration": 6875,
    "start_time": "2022-02-19T12:22:41.928Z"
   },
   {
    "duration": 4,
    "start_time": "2022-02-19T12:22:48.805Z"
   },
   {
    "duration": 30,
    "start_time": "2022-02-19T12:28:17.111Z"
   },
   {
    "duration": 7109,
    "start_time": "2022-02-19T12:28:25.076Z"
   },
   {
    "duration": 9,
    "start_time": "2022-02-19T12:32:11.128Z"
   },
   {
    "duration": 65,
    "start_time": "2022-02-19T12:32:22.073Z"
   },
   {
    "duration": 212,
    "start_time": "2022-02-19T12:33:02.543Z"
   },
   {
    "duration": 242,
    "start_time": "2022-02-19T12:33:29.135Z"
   },
   {
    "duration": 35,
    "start_time": "2022-02-19T12:34:40.404Z"
   },
   {
    "duration": 191,
    "start_time": "2022-02-19T12:34:41.362Z"
   },
   {
    "duration": 233,
    "start_time": "2022-02-19T12:35:11.265Z"
   },
   {
    "duration": 207,
    "start_time": "2022-02-19T12:35:46.851Z"
   },
   {
    "duration": 72,
    "start_time": "2022-02-19T12:36:20.643Z"
   },
   {
    "duration": 7459,
    "start_time": "2022-02-19T12:36:54.396Z"
   },
   {
    "duration": 92,
    "start_time": "2022-02-19T12:38:15.879Z"
   },
   {
    "duration": 97,
    "start_time": "2022-02-19T12:38:53.322Z"
   },
   {
    "duration": 72,
    "start_time": "2022-02-19T12:39:02.715Z"
   },
   {
    "duration": 72,
    "start_time": "2022-02-19T12:40:08.606Z"
   },
   {
    "duration": 6693,
    "start_time": "2022-02-19T12:40:10.188Z"
   },
   {
    "duration": 6705,
    "start_time": "2022-02-19T12:40:41.327Z"
   },
   {
    "duration": 72,
    "start_time": "2022-02-19T12:41:10.195Z"
   },
   {
    "duration": 6691,
    "start_time": "2022-02-19T12:41:11.777Z"
   },
   {
    "duration": 32,
    "start_time": "2022-02-19T12:42:17.662Z"
   },
   {
    "duration": 7147,
    "start_time": "2022-02-19T12:42:20.526Z"
   },
   {
    "duration": 40,
    "start_time": "2022-02-19T12:42:43.888Z"
   },
   {
    "duration": 7276,
    "start_time": "2022-02-19T12:43:21.880Z"
   },
   {
    "duration": 80,
    "start_time": "2022-02-19T12:43:38.511Z"
   },
   {
    "duration": 239,
    "start_time": "2022-02-19T13:40:04.044Z"
   },
   {
    "duration": 184,
    "start_time": "2022-02-19T13:40:21.123Z"
   },
   {
    "duration": 204,
    "start_time": "2022-02-19T13:49:30.759Z"
   },
   {
    "duration": 7,
    "start_time": "2022-02-19T13:49:53.291Z"
   },
   {
    "duration": 7,
    "start_time": "2022-02-19T13:49:59.872Z"
   },
   {
    "duration": 82,
    "start_time": "2022-02-19T13:51:19.049Z"
   },
   {
    "duration": 75,
    "start_time": "2022-02-19T13:57:31.232Z"
   },
   {
    "duration": 63,
    "start_time": "2022-02-19T13:57:56.058Z"
   },
   {
    "duration": 6556,
    "start_time": "2022-02-19T13:58:48.826Z"
   },
   {
    "duration": 6997,
    "start_time": "2022-02-19T13:59:03.725Z"
   },
   {
    "duration": 56,
    "start_time": "2022-02-19T13:59:34.465Z"
   },
   {
    "duration": 349,
    "start_time": "2022-02-19T14:03:33.721Z"
   },
   {
    "duration": 147,
    "start_time": "2022-02-19T14:05:02.395Z"
   },
   {
    "duration": 273,
    "start_time": "2022-02-19T14:05:45.475Z"
   },
   {
    "duration": 5,
    "start_time": "2022-02-19T14:06:44.301Z"
   },
   {
    "duration": 230,
    "start_time": "2022-02-19T14:07:28.006Z"
   },
   {
    "duration": 4,
    "start_time": "2022-02-20T11:30:53.967Z"
   },
   {
    "duration": 26,
    "start_time": "2022-02-20T12:06:48.088Z"
   },
   {
    "duration": 29,
    "start_time": "2022-02-20T12:07:29.931Z"
   },
   {
    "duration": 5,
    "start_time": "2022-02-20T12:38:19.698Z"
   },
   {
    "duration": 6,
    "start_time": "2022-02-20T12:40:11.548Z"
   },
   {
    "duration": 6,
    "start_time": "2022-02-20T12:41:50.902Z"
   },
   {
    "duration": 6,
    "start_time": "2022-02-20T12:42:02.560Z"
   },
   {
    "duration": 26,
    "start_time": "2022-02-20T12:49:51.415Z"
   },
   {
    "duration": 11,
    "start_time": "2022-02-20T12:51:53.540Z"
   },
   {
    "duration": 34,
    "start_time": "2022-02-20T12:52:52.885Z"
   },
   {
    "duration": 153,
    "start_time": "2022-02-20T13:00:54.207Z"
   },
   {
    "duration": 33,
    "start_time": "2022-02-20T13:00:56.919Z"
   },
   {
    "duration": 25,
    "start_time": "2022-02-20T13:07:29.584Z"
   },
   {
    "duration": 400,
    "start_time": "2022-02-20T13:10:10.524Z"
   },
   {
    "duration": 376,
    "start_time": "2022-02-20T13:10:28.580Z"
   },
   {
    "duration": 33,
    "start_time": "2022-02-20T13:32:48.418Z"
   },
   {
    "duration": 4,
    "start_time": "2022-02-20T13:33:00.070Z"
   },
   {
    "duration": 46,
    "start_time": "2022-02-20T13:33:00.076Z"
   },
   {
    "duration": 13,
    "start_time": "2022-02-20T13:33:00.124Z"
   },
   {
    "duration": 10,
    "start_time": "2022-02-20T13:33:00.139Z"
   },
   {
    "duration": 8,
    "start_time": "2022-02-20T13:33:00.151Z"
   },
   {
    "duration": 63,
    "start_time": "2022-02-20T13:33:00.161Z"
   },
   {
    "duration": 59,
    "start_time": "2022-02-20T13:33:00.226Z"
   },
   {
    "duration": 6672,
    "start_time": "2022-02-20T13:33:00.287Z"
   },
   {
    "duration": 59,
    "start_time": "2022-02-20T13:33:06.961Z"
   },
   {
    "duration": 249,
    "start_time": "2022-02-20T13:33:07.023Z"
   },
   {
    "duration": 155,
    "start_time": "2022-02-20T13:33:07.274Z"
   },
   {
    "duration": 5,
    "start_time": "2022-02-20T13:33:07.431Z"
   },
   {
    "duration": 24,
    "start_time": "2022-02-20T13:33:07.438Z"
   },
   {
    "duration": 57,
    "start_time": "2022-02-20T13:33:07.464Z"
   },
   {
    "duration": 596,
    "start_time": "2022-02-20T13:33:07.523Z"
   },
   {
    "duration": 69,
    "start_time": "2022-02-20T13:33:57.851Z"
   },
   {
    "duration": 42,
    "start_time": "2022-02-20T13:34:15.528Z"
   },
   {
    "duration": 4,
    "start_time": "2022-02-20T13:34:28.241Z"
   },
   {
    "duration": 41,
    "start_time": "2022-02-20T13:34:28.251Z"
   },
   {
    "duration": 14,
    "start_time": "2022-02-20T13:34:28.294Z"
   },
   {
    "duration": 11,
    "start_time": "2022-02-20T13:34:28.311Z"
   },
   {
    "duration": 8,
    "start_time": "2022-02-20T13:34:28.325Z"
   },
   {
    "duration": 37,
    "start_time": "2022-02-20T13:34:28.335Z"
   },
   {
    "duration": 87,
    "start_time": "2022-02-20T13:34:28.374Z"
   },
   {
    "duration": 6889,
    "start_time": "2022-02-20T13:34:28.463Z"
   },
   {
    "duration": 76,
    "start_time": "2022-02-20T13:34:35.353Z"
   },
   {
    "duration": 289,
    "start_time": "2022-02-20T13:34:35.432Z"
   },
   {
    "duration": 179,
    "start_time": "2022-02-20T13:34:35.723Z"
   },
   {
    "duration": 16,
    "start_time": "2022-02-20T13:34:35.904Z"
   },
   {
    "duration": 27,
    "start_time": "2022-02-20T13:34:35.922Z"
   },
   {
    "duration": 69,
    "start_time": "2022-02-20T13:34:35.951Z"
   },
   {
    "duration": 501,
    "start_time": "2022-02-20T13:34:36.022Z"
   },
   {
    "duration": 207,
    "start_time": "2022-02-20T13:43:32.651Z"
   },
   {
    "duration": 389,
    "start_time": "2022-02-20T13:43:44.839Z"
   },
   {
    "duration": 541,
    "start_time": "2022-02-20T13:44:41.377Z"
   },
   {
    "duration": 413,
    "start_time": "2022-02-20T13:50:35.316Z"
   },
   {
    "duration": 432,
    "start_time": "2022-02-20T13:50:49.487Z"
   },
   {
    "duration": 445,
    "start_time": "2022-02-20T13:51:24.675Z"
   },
   {
    "duration": 432,
    "start_time": "2022-02-20T13:54:50.488Z"
   },
   {
    "duration": 435,
    "start_time": "2022-02-20T14:00:49.486Z"
   },
   {
    "duration": 424,
    "start_time": "2022-02-20T14:01:03.896Z"
   },
   {
    "duration": 422,
    "start_time": "2022-02-20T14:01:08.598Z"
   },
   {
    "duration": 434,
    "start_time": "2022-02-20T14:02:14.284Z"
   },
   {
    "duration": 263,
    "start_time": "2022-02-20T14:03:04.751Z"
   },
   {
    "duration": 212,
    "start_time": "2022-02-20T14:03:14.415Z"
   },
   {
    "duration": 226,
    "start_time": "2022-02-20T14:03:30.833Z"
   },
   {
    "duration": 424,
    "start_time": "2022-02-20T14:03:42.697Z"
   },
   {
    "duration": 324,
    "start_time": "2022-02-20T14:19:39.026Z"
   },
   {
    "duration": 3,
    "start_time": "2022-02-20T14:19:58.351Z"
   },
   {
    "duration": 827,
    "start_time": "2022-02-20T14:20:03.493Z"
   },
   {
    "duration": 736,
    "start_time": "2022-02-20T14:22:09.484Z"
   },
   {
    "duration": 821,
    "start_time": "2022-02-20T15:23:31.400Z"
   },
   {
    "duration": 224,
    "start_time": "2022-02-20T15:25:38.795Z"
   },
   {
    "duration": 236,
    "start_time": "2022-02-20T17:03:42.203Z"
   },
   {
    "duration": 4,
    "start_time": "2022-02-20T17:03:58.763Z"
   },
   {
    "duration": 200,
    "start_time": "2022-02-20T17:09:19.758Z"
   },
   {
    "duration": 6,
    "start_time": "2022-02-20T17:09:52.433Z"
   },
   {
    "duration": 713,
    "start_time": "2022-02-20T17:10:02.513Z"
   },
   {
    "duration": 227,
    "start_time": "2022-02-20T17:10:55.617Z"
   },
   {
    "duration": 5,
    "start_time": "2022-02-20T17:11:18.421Z"
   },
   {
    "duration": 32,
    "start_time": "2022-02-20T17:11:24.242Z"
   },
   {
    "duration": 40,
    "start_time": "2022-02-20T17:11:46.914Z"
   },
   {
    "duration": 35,
    "start_time": "2022-02-20T17:11:54.595Z"
   },
   {
    "duration": 34,
    "start_time": "2022-02-20T17:12:53.680Z"
   },
   {
    "duration": 176,
    "start_time": "2022-02-20T17:13:28.788Z"
   },
   {
    "duration": 176,
    "start_time": "2022-02-20T17:13:39.189Z"
   },
   {
    "duration": 193,
    "start_time": "2022-02-20T17:13:45.327Z"
   },
   {
    "duration": 782,
    "start_time": "2022-02-20T17:14:04.543Z"
   },
   {
    "duration": 650,
    "start_time": "2022-02-20T17:14:31.232Z"
   },
   {
    "duration": 60,
    "start_time": "2022-02-20T17:15:41.962Z"
   },
   {
    "duration": 34,
    "start_time": "2022-02-20T17:16:04.136Z"
   },
   {
    "duration": 50,
    "start_time": "2022-02-21T16:52:05.708Z"
   },
   {
    "duration": 65,
    "start_time": "2022-02-21T16:52:08.767Z"
   },
   {
    "duration": 4,
    "start_time": "2022-02-21T16:52:21.060Z"
   },
   {
    "duration": 42,
    "start_time": "2022-02-21T16:52:21.066Z"
   },
   {
    "duration": 13,
    "start_time": "2022-02-21T16:52:21.110Z"
   },
   {
    "duration": 9,
    "start_time": "2022-02-21T16:52:21.131Z"
   },
   {
    "duration": 8,
    "start_time": "2022-02-21T16:52:21.142Z"
   },
   {
    "duration": 37,
    "start_time": "2022-02-21T16:52:21.151Z"
   },
   {
    "duration": 93,
    "start_time": "2022-02-21T16:52:21.190Z"
   },
   {
    "duration": 6922,
    "start_time": "2022-02-21T16:52:21.285Z"
   },
   {
    "duration": 25,
    "start_time": "2022-02-21T16:52:28.218Z"
   },
   {
    "duration": 314,
    "start_time": "2022-02-21T16:52:28.246Z"
   },
   {
    "duration": 231,
    "start_time": "2022-02-21T16:52:28.562Z"
   },
   {
    "duration": 6,
    "start_time": "2022-02-21T16:52:28.794Z"
   },
   {
    "duration": 43,
    "start_time": "2022-02-21T16:52:28.801Z"
   },
   {
    "duration": 76,
    "start_time": "2022-02-21T16:52:28.846Z"
   },
   {
    "duration": 499,
    "start_time": "2022-02-21T16:52:28.925Z"
   },
   {
    "duration": 913,
    "start_time": "2022-02-21T16:52:29.431Z"
   },
   {
    "duration": 372,
    "start_time": "2022-02-21T16:52:30.347Z"
   },
   {
    "duration": 849,
    "start_time": "2022-02-21T16:52:30.721Z"
   },
   {
    "duration": 51,
    "start_time": "2022-02-21T16:52:31.572Z"
   },
   {
    "duration": 777,
    "start_time": "2022-02-21T17:01:07.666Z"
   },
   {
    "duration": 172,
    "start_time": "2022-02-21T17:39:20.077Z"
   },
   {
    "duration": 32,
    "start_time": "2022-02-21T18:38:29.615Z"
   },
   {
    "duration": 27,
    "start_time": "2022-02-21T18:42:25.891Z"
   },
   {
    "duration": 5,
    "start_time": "2022-02-21T18:43:03.429Z"
   },
   {
    "duration": 45,
    "start_time": "2022-02-21T18:43:03.436Z"
   },
   {
    "duration": 14,
    "start_time": "2022-02-21T18:43:03.483Z"
   },
   {
    "duration": 20,
    "start_time": "2022-02-21T18:43:03.499Z"
   },
   {
    "duration": 9,
    "start_time": "2022-02-21T18:43:03.521Z"
   },
   {
    "duration": 30,
    "start_time": "2022-02-21T18:43:03.532Z"
   },
   {
    "duration": 61,
    "start_time": "2022-02-21T18:43:03.565Z"
   },
   {
    "duration": 56,
    "start_time": "2022-02-21T18:43:03.628Z"
   },
   {
    "duration": 6106,
    "start_time": "2022-02-21T18:43:03.686Z"
   },
   {
    "duration": 34,
    "start_time": "2022-02-21T18:43:09.794Z"
   },
   {
    "duration": 324,
    "start_time": "2022-02-21T18:43:09.830Z"
   },
   {
    "duration": 90,
    "start_time": "2022-02-21T18:43:10.066Z"
   },
   {
    "duration": 87,
    "start_time": "2022-02-21T18:43:10.069Z"
   },
   {
    "duration": 82,
    "start_time": "2022-02-21T18:43:10.075Z"
   },
   {
    "duration": 53,
    "start_time": "2022-02-21T18:43:10.105Z"
   },
   {
    "duration": 39,
    "start_time": "2022-02-21T18:43:10.120Z"
   },
   {
    "duration": 32,
    "start_time": "2022-02-21T18:43:10.129Z"
   },
   {
    "duration": 27,
    "start_time": "2022-02-21T18:43:10.135Z"
   },
   {
    "duration": 5,
    "start_time": "2022-02-21T18:44:02.302Z"
   },
   {
    "duration": 49,
    "start_time": "2022-02-21T18:44:02.309Z"
   },
   {
    "duration": 14,
    "start_time": "2022-02-21T18:44:02.360Z"
   },
   {
    "duration": 10,
    "start_time": "2022-02-21T18:44:02.376Z"
   },
   {
    "duration": 32,
    "start_time": "2022-02-21T18:44:02.388Z"
   },
   {
    "duration": 27,
    "start_time": "2022-02-21T18:44:02.421Z"
   },
   {
    "duration": 22,
    "start_time": "2022-02-21T18:44:02.449Z"
   },
   {
    "duration": 78,
    "start_time": "2022-02-21T18:44:02.473Z"
   },
   {
    "duration": 6066,
    "start_time": "2022-02-21T18:44:02.553Z"
   },
   {
    "duration": 19,
    "start_time": "2022-02-21T18:44:08.621Z"
   },
   {
    "duration": 310,
    "start_time": "2022-02-21T18:44:08.643Z"
   },
   {
    "duration": 8,
    "start_time": "2022-02-21T18:44:08.946Z"
   },
   {
    "duration": 4,
    "start_time": "2022-02-21T18:44:08.951Z"
   },
   {
    "duration": 2,
    "start_time": "2022-02-21T18:44:08.954Z"
   },
   {
    "duration": -15,
    "start_time": "2022-02-21T18:44:08.972Z"
   },
   {
    "duration": -19,
    "start_time": "2022-02-21T18:44:08.977Z"
   },
   {
    "duration": -22,
    "start_time": "2022-02-21T18:44:08.981Z"
   },
   {
    "duration": -24,
    "start_time": "2022-02-21T18:44:08.985Z"
   },
   {
    "duration": 217,
    "start_time": "2022-02-21T18:45:09.820Z"
   },
   {
    "duration": 176,
    "start_time": "2022-02-21T18:45:39.361Z"
   },
   {
    "duration": 6,
    "start_time": "2022-02-21T18:46:27.678Z"
   },
   {
    "duration": 44,
    "start_time": "2022-02-21T18:46:27.688Z"
   },
   {
    "duration": 15,
    "start_time": "2022-02-21T18:46:27.734Z"
   },
   {
    "duration": 12,
    "start_time": "2022-02-21T18:46:27.751Z"
   },
   {
    "duration": 11,
    "start_time": "2022-02-21T18:46:27.766Z"
   },
   {
    "duration": 65,
    "start_time": "2022-02-21T18:46:27.779Z"
   },
   {
    "duration": 22,
    "start_time": "2022-02-21T18:46:27.846Z"
   },
   {
    "duration": 87,
    "start_time": "2022-02-21T18:46:27.870Z"
   },
   {
    "duration": 6068,
    "start_time": "2022-02-21T18:46:27.959Z"
   },
   {
    "duration": 22,
    "start_time": "2022-02-21T18:46:34.030Z"
   },
   {
    "duration": 3,
    "start_time": "2022-02-21T18:46:34.120Z"
   },
   {
    "duration": 261,
    "start_time": "2022-02-21T18:46:34.124Z"
   },
   {
    "duration": 33,
    "start_time": "2022-02-21T18:46:34.386Z"
   },
   {
    "duration": 32,
    "start_time": "2022-02-21T18:46:34.421Z"
   },
   {
    "duration": 435,
    "start_time": "2022-02-21T18:46:34.520Z"
   },
   {
    "duration": 862,
    "start_time": "2022-02-21T18:46:34.957Z"
   },
   {
    "duration": 255,
    "start_time": "2022-02-21T18:46:35.822Z"
   },
   {
    "duration": 123,
    "start_time": "2022-02-21T18:46:36.120Z"
   },
   {
    "duration": 747,
    "start_time": "2022-02-21T18:47:20.973Z"
   },
   {
    "duration": 665,
    "start_time": "2022-02-21T18:47:26.477Z"
   },
   {
    "duration": 5,
    "start_time": "2022-02-21T18:47:43.852Z"
   },
   {
    "duration": 40,
    "start_time": "2022-02-21T18:47:43.860Z"
   },
   {
    "duration": 13,
    "start_time": "2022-02-21T18:47:43.902Z"
   },
   {
    "duration": 10,
    "start_time": "2022-02-21T18:47:43.917Z"
   },
   {
    "duration": 8,
    "start_time": "2022-02-21T18:47:43.929Z"
   },
   {
    "duration": 26,
    "start_time": "2022-02-21T18:47:43.939Z"
   },
   {
    "duration": 55,
    "start_time": "2022-02-21T18:47:43.966Z"
   },
   {
    "duration": 51,
    "start_time": "2022-02-21T18:47:44.023Z"
   },
   {
    "duration": 5999,
    "start_time": "2022-02-21T18:47:44.077Z"
   },
   {
    "duration": 45,
    "start_time": "2022-02-21T18:47:50.078Z"
   },
   {
    "duration": 3,
    "start_time": "2022-02-21T18:47:50.125Z"
   },
   {
    "duration": 183,
    "start_time": "2022-02-21T18:47:50.220Z"
   },
   {
    "duration": 30,
    "start_time": "2022-02-21T18:47:50.405Z"
   },
   {
    "duration": 84,
    "start_time": "2022-02-21T18:47:50.436Z"
   },
   {
    "duration": 496,
    "start_time": "2022-02-21T18:47:50.523Z"
   },
   {
    "duration": 756,
    "start_time": "2022-02-21T18:47:51.022Z"
   },
   {
    "duration": 259,
    "start_time": "2022-02-21T18:47:51.821Z"
   },
   {
    "duration": 120,
    "start_time": "2022-02-21T18:47:52.121Z"
   },
   {
    "duration": 181,
    "start_time": "2022-02-21T18:50:11.872Z"
   },
   {
    "duration": 253,
    "start_time": "2022-02-21T18:51:30.220Z"
   },
   {
    "duration": 195,
    "start_time": "2022-02-21T18:51:40.102Z"
   },
   {
    "duration": 188,
    "start_time": "2022-02-21T18:51:46.328Z"
   },
   {
    "duration": 191,
    "start_time": "2022-02-21T18:52:01.970Z"
   },
   {
    "duration": 184,
    "start_time": "2022-02-21T18:52:22.767Z"
   },
   {
    "duration": 7,
    "start_time": "2022-02-21T18:52:55.941Z"
   },
   {
    "duration": 155,
    "start_time": "2022-02-21T18:53:01.922Z"
   },
   {
    "duration": 4,
    "start_time": "2022-02-21T18:53:32.405Z"
   },
   {
    "duration": 43,
    "start_time": "2022-02-21T18:53:32.412Z"
   },
   {
    "duration": 13,
    "start_time": "2022-02-21T18:53:32.457Z"
   },
   {
    "duration": 17,
    "start_time": "2022-02-21T18:53:32.472Z"
   },
   {
    "duration": 28,
    "start_time": "2022-02-21T18:53:32.491Z"
   },
   {
    "duration": 26,
    "start_time": "2022-02-21T18:53:32.521Z"
   },
   {
    "duration": 22,
    "start_time": "2022-02-21T18:53:32.549Z"
   },
   {
    "duration": 90,
    "start_time": "2022-02-21T18:53:32.573Z"
   },
   {
    "duration": 6038,
    "start_time": "2022-02-21T18:53:32.665Z"
   },
   {
    "duration": 31,
    "start_time": "2022-02-21T18:53:38.704Z"
   },
   {
    "duration": 323,
    "start_time": "2022-02-21T18:53:38.737Z"
   },
   {
    "duration": 165,
    "start_time": "2022-02-21T18:53:39.062Z"
   },
   {
    "duration": 21,
    "start_time": "2022-02-21T18:53:39.229Z"
   },
   {
    "duration": 167,
    "start_time": "2022-02-21T18:53:39.251Z"
   },
   {
    "duration": 398,
    "start_time": "2022-02-21T18:53:39.421Z"
   },
   {
    "duration": 736,
    "start_time": "2022-02-21T18:53:39.822Z"
   },
   {
    "duration": 257,
    "start_time": "2022-02-21T18:53:40.621Z"
   },
   {
    "duration": 119,
    "start_time": "2022-02-21T18:53:40.920Z"
   },
   {
    "duration": 278,
    "start_time": "2022-02-21T19:02:41.670Z"
   },
   {
    "duration": 62,
    "start_time": "2022-02-21T19:02:54.137Z"
   },
   {
    "duration": 6271,
    "start_time": "2022-02-21T19:05:01.783Z"
   },
   {
    "duration": 37,
    "start_time": "2022-02-21T19:05:52.681Z"
   },
   {
    "duration": 24,
    "start_time": "2022-02-21T19:06:41.626Z"
   },
   {
    "duration": 4,
    "start_time": "2022-02-21T19:09:04.347Z"
   },
   {
    "duration": 44,
    "start_time": "2022-02-21T19:09:04.353Z"
   },
   {
    "duration": 13,
    "start_time": "2022-02-21T19:09:04.399Z"
   },
   {
    "duration": 12,
    "start_time": "2022-02-21T19:09:04.415Z"
   },
   {
    "duration": 9,
    "start_time": "2022-02-21T19:09:04.428Z"
   },
   {
    "duration": 25,
    "start_time": "2022-02-21T19:09:04.439Z"
   },
   {
    "duration": 55,
    "start_time": "2022-02-21T19:09:04.467Z"
   },
   {
    "duration": 60,
    "start_time": "2022-02-21T19:09:04.524Z"
   },
   {
    "duration": 6464,
    "start_time": "2022-02-21T19:09:04.587Z"
   },
   {
    "duration": 75,
    "start_time": "2022-02-21T19:09:11.053Z"
   },
   {
    "duration": 172,
    "start_time": "2022-02-21T19:09:11.219Z"
   },
   {
    "duration": 159,
    "start_time": "2022-02-21T19:09:11.393Z"
   },
   {
    "duration": 24,
    "start_time": "2022-02-21T19:09:11.554Z"
   },
   {
    "duration": 340,
    "start_time": "2022-02-21T19:09:11.579Z"
   },
   {
    "duration": 754,
    "start_time": "2022-02-21T19:09:11.922Z"
   },
   {
    "duration": 299,
    "start_time": "2022-02-21T19:09:12.720Z"
   },
   {
    "duration": 118,
    "start_time": "2022-02-21T19:09:13.022Z"
   },
   {
    "duration": 579,
    "start_time": "2022-02-21T19:12:21.543Z"
   },
   {
    "duration": 583,
    "start_time": "2022-02-21T19:12:50.337Z"
   },
   {
    "duration": 558,
    "start_time": "2022-02-21T19:13:50.262Z"
   },
   {
    "duration": 299,
    "start_time": "2022-02-21T19:13:56.322Z"
   },
   {
    "duration": 541,
    "start_time": "2022-02-21T19:13:58.480Z"
   },
   {
    "duration": 271,
    "start_time": "2022-02-21T19:17:49.190Z"
   },
   {
    "duration": 4,
    "start_time": "2022-02-21T19:18:45.388Z"
   },
   {
    "duration": 46,
    "start_time": "2022-02-21T19:18:45.394Z"
   },
   {
    "duration": 13,
    "start_time": "2022-02-21T19:18:45.441Z"
   },
   {
    "duration": 11,
    "start_time": "2022-02-21T19:18:45.456Z"
   },
   {
    "duration": 10,
    "start_time": "2022-02-21T19:18:45.468Z"
   },
   {
    "duration": 62,
    "start_time": "2022-02-21T19:18:45.480Z"
   },
   {
    "duration": 23,
    "start_time": "2022-02-21T19:18:45.545Z"
   },
   {
    "duration": 92,
    "start_time": "2022-02-21T19:18:45.570Z"
   },
   {
    "duration": 6130,
    "start_time": "2022-02-21T19:18:45.664Z"
   },
   {
    "duration": 125,
    "start_time": "2022-02-21T19:18:51.796Z"
   },
   {
    "duration": 247,
    "start_time": "2022-02-21T19:18:51.924Z"
   },
   {
    "duration": 161,
    "start_time": "2022-02-21T19:18:52.173Z"
   },
   {
    "duration": 23,
    "start_time": "2022-02-21T19:18:52.336Z"
   },
   {
    "duration": 359,
    "start_time": "2022-02-21T19:18:52.361Z"
   },
   {
    "duration": 701,
    "start_time": "2022-02-21T19:18:52.722Z"
   },
   {
    "duration": 394,
    "start_time": "2022-02-21T19:18:53.425Z"
   },
   {
    "duration": 119,
    "start_time": "2022-02-21T19:18:53.821Z"
   },
   {
    "duration": 270,
    "start_time": "2022-02-21T19:35:03.452Z"
   },
   {
    "duration": 239,
    "start_time": "2022-02-21T19:41:38.786Z"
   },
   {
    "duration": 141,
    "start_time": "2022-02-21T19:43:13.081Z"
   },
   {
    "duration": 137,
    "start_time": "2022-02-21T19:44:36.284Z"
   },
   {
    "duration": 206,
    "start_time": "2022-02-21T19:44:52.516Z"
   },
   {
    "duration": 197,
    "start_time": "2022-02-21T19:45:11.922Z"
   },
   {
    "duration": 115,
    "start_time": "2022-02-21T19:45:24.408Z"
   },
   {
    "duration": 81,
    "start_time": "2022-02-21T19:45:42.443Z"
   },
   {
    "duration": 4,
    "start_time": "2022-02-21T19:46:25.028Z"
   },
   {
    "duration": 41,
    "start_time": "2022-02-21T19:46:25.040Z"
   },
   {
    "duration": 14,
    "start_time": "2022-02-21T19:46:25.083Z"
   },
   {
    "duration": 24,
    "start_time": "2022-02-21T19:46:25.099Z"
   },
   {
    "duration": 11,
    "start_time": "2022-02-21T19:46:25.125Z"
   },
   {
    "duration": 30,
    "start_time": "2022-02-21T19:46:25.138Z"
   },
   {
    "duration": 62,
    "start_time": "2022-02-21T19:46:25.169Z"
   },
   {
    "duration": 65,
    "start_time": "2022-02-21T19:46:25.233Z"
   },
   {
    "duration": 6182,
    "start_time": "2022-02-21T19:46:25.300Z"
   },
   {
    "duration": 37,
    "start_time": "2022-02-21T19:46:31.485Z"
   },
   {
    "duration": 342,
    "start_time": "2022-02-21T19:46:31.525Z"
   },
   {
    "duration": 167,
    "start_time": "2022-02-21T19:46:31.868Z"
   },
   {
    "duration": 25,
    "start_time": "2022-02-21T19:46:32.037Z"
   },
   {
    "duration": 356,
    "start_time": "2022-02-21T19:46:32.063Z"
   },
   {
    "duration": 636,
    "start_time": "2022-02-21T19:46:32.422Z"
   },
   {
    "duration": 235,
    "start_time": "2022-02-21T19:46:33.125Z"
   },
   {
    "duration": 118,
    "start_time": "2022-02-21T19:46:33.420Z"
   },
   {
    "duration": 379,
    "start_time": "2022-02-21T19:46:33.541Z"
   },
   {
    "duration": 47,
    "start_time": "2022-02-21T19:46:49.973Z"
   },
   {
    "duration": 5,
    "start_time": "2022-02-22T16:03:59.678Z"
   },
   {
    "duration": 52,
    "start_time": "2022-02-22T16:03:59.690Z"
   },
   {
    "duration": 13,
    "start_time": "2022-02-22T16:03:59.744Z"
   },
   {
    "duration": 25,
    "start_time": "2022-02-22T16:03:59.759Z"
   },
   {
    "duration": 16,
    "start_time": "2022-02-22T16:03:59.786Z"
   },
   {
    "duration": 47,
    "start_time": "2022-02-22T16:03:59.804Z"
   },
   {
    "duration": 26,
    "start_time": "2022-02-22T16:03:59.853Z"
   },
   {
    "duration": 75,
    "start_time": "2022-02-22T16:03:59.881Z"
   },
   {
    "duration": 6535,
    "start_time": "2022-02-22T16:03:59.958Z"
   },
   {
    "duration": 40,
    "start_time": "2022-02-22T16:04:06.495Z"
   },
   {
    "duration": 328,
    "start_time": "2022-02-22T16:04:06.538Z"
   },
   {
    "duration": 173,
    "start_time": "2022-02-22T16:04:06.868Z"
   },
   {
    "duration": 24,
    "start_time": "2022-02-22T16:04:07.042Z"
   },
   {
    "duration": 350,
    "start_time": "2022-02-22T16:04:07.068Z"
   },
   {
    "duration": 697,
    "start_time": "2022-02-22T16:04:07.423Z"
   },
   {
    "duration": 234,
    "start_time": "2022-02-22T16:04:08.122Z"
   },
   {
    "duration": 115,
    "start_time": "2022-02-22T16:04:08.425Z"
   },
   {
    "duration": 195,
    "start_time": "2022-02-22T16:04:08.543Z"
   },
   {
    "duration": 396,
    "start_time": "2022-02-22T16:05:31.229Z"
   },
   {
    "duration": 346,
    "start_time": "2022-02-22T16:06:21.488Z"
   },
   {
    "duration": 227,
    "start_time": "2022-02-22T16:08:23.592Z"
   },
   {
    "duration": 612,
    "start_time": "2022-02-22T16:08:47.123Z"
   },
   {
    "duration": 347,
    "start_time": "2022-02-22T16:09:15.683Z"
   },
   {
    "duration": 293,
    "start_time": "2022-02-22T16:10:46.345Z"
   },
   {
    "duration": 579,
    "start_time": "2022-02-22T16:13:42.774Z"
   },
   {
    "duration": 389,
    "start_time": "2022-02-24T18:48:06.756Z"
   },
   {
    "duration": 307,
    "start_time": "2022-02-24T18:48:33.484Z"
   },
   {
    "duration": 1517,
    "start_time": "2022-02-24T18:48:37.612Z"
   },
   {
    "duration": 66,
    "start_time": "2022-02-24T18:48:39.132Z"
   },
   {
    "duration": 21,
    "start_time": "2022-02-24T18:48:39.201Z"
   },
   {
    "duration": 385,
    "start_time": "2022-02-24T18:48:39.225Z"
   },
   {
    "duration": 113,
    "start_time": "2022-02-24T18:48:39.501Z"
   },
   {
    "duration": 108,
    "start_time": "2022-02-24T18:48:39.507Z"
   },
   {
    "duration": 106,
    "start_time": "2022-02-24T18:48:39.511Z"
   },
   {
    "duration": 102,
    "start_time": "2022-02-24T18:48:39.517Z"
   },
   {
    "duration": 98,
    "start_time": "2022-02-24T18:48:39.522Z"
   },
   {
    "duration": 92,
    "start_time": "2022-02-24T18:48:39.530Z"
   },
   {
    "duration": 90,
    "start_time": "2022-02-24T18:48:39.533Z"
   },
   {
    "duration": 89,
    "start_time": "2022-02-24T18:48:39.536Z"
   },
   {
    "duration": 88,
    "start_time": "2022-02-24T18:48:39.538Z"
   },
   {
    "duration": 85,
    "start_time": "2022-02-24T18:48:39.543Z"
   },
   {
    "duration": 78,
    "start_time": "2022-02-24T18:48:39.551Z"
   },
   {
    "duration": 72,
    "start_time": "2022-02-24T18:48:39.558Z"
   },
   {
    "duration": 68,
    "start_time": "2022-02-24T18:48:39.564Z"
   },
   {
    "duration": 64,
    "start_time": "2022-02-24T18:48:39.569Z"
   },
   {
    "duration": 62,
    "start_time": "2022-02-24T18:48:39.573Z"
   },
   {
    "duration": 260,
    "start_time": "2022-02-24T18:49:48.204Z"
   },
   {
    "duration": 7,
    "start_time": "2022-02-24T18:49:58.356Z"
   },
   {
    "duration": 61,
    "start_time": "2022-02-24T18:49:58.365Z"
   },
   {
    "duration": 43,
    "start_time": "2022-02-24T18:49:58.429Z"
   },
   {
    "duration": 5,
    "start_time": "2022-02-24T18:49:58.475Z"
   },
   {
    "duration": 15,
    "start_time": "2022-02-24T18:49:58.482Z"
   },
   {
    "duration": 81,
    "start_time": "2022-02-24T18:49:58.499Z"
   },
   {
    "duration": 41,
    "start_time": "2022-02-24T18:49:58.582Z"
   },
   {
    "duration": 324,
    "start_time": "2022-02-24T18:49:58.625Z"
   },
   {
    "duration": 168,
    "start_time": "2022-02-24T18:49:58.784Z"
   },
   {
    "duration": 162,
    "start_time": "2022-02-24T18:49:58.791Z"
   },
   {
    "duration": 158,
    "start_time": "2022-02-24T18:49:58.796Z"
   },
   {
    "duration": 156,
    "start_time": "2022-02-24T18:49:58.800Z"
   },
   {
    "duration": 153,
    "start_time": "2022-02-24T18:49:58.804Z"
   },
   {
    "duration": 151,
    "start_time": "2022-02-24T18:49:58.808Z"
   },
   {
    "duration": 147,
    "start_time": "2022-02-24T18:49:58.813Z"
   },
   {
    "duration": 146,
    "start_time": "2022-02-24T18:49:58.816Z"
   },
   {
    "duration": 144,
    "start_time": "2022-02-24T18:49:58.819Z"
   },
   {
    "duration": 142,
    "start_time": "2022-02-24T18:49:58.823Z"
   },
   {
    "duration": 8,
    "start_time": "2022-02-24T18:50:31.477Z"
   },
   {
    "duration": 63,
    "start_time": "2022-02-24T18:50:31.488Z"
   },
   {
    "duration": 19,
    "start_time": "2022-02-24T18:50:31.562Z"
   },
   {
    "duration": 20,
    "start_time": "2022-02-24T18:50:31.584Z"
   },
   {
    "duration": 13,
    "start_time": "2022-02-24T18:50:31.606Z"
   },
   {
    "duration": 76,
    "start_time": "2022-02-24T18:50:31.622Z"
   },
   {
    "duration": 72,
    "start_time": "2022-02-24T18:50:31.701Z"
   },
   {
    "duration": 97,
    "start_time": "2022-02-24T18:50:31.775Z"
   },
   {
    "duration": 9740,
    "start_time": "2022-02-24T18:50:31.875Z"
   },
   {
    "duration": 59,
    "start_time": "2022-02-24T18:50:41.619Z"
   },
   {
    "duration": 328,
    "start_time": "2022-02-24T18:50:41.763Z"
   },
   {
    "duration": 245,
    "start_time": "2022-02-24T18:50:42.094Z"
   },
   {
    "duration": 47,
    "start_time": "2022-02-24T18:50:42.342Z"
   },
   {
    "duration": 34,
    "start_time": "2022-02-24T18:50:42.391Z"
   },
   {
    "duration": 536,
    "start_time": "2022-02-24T18:50:42.428Z"
   },
   {
    "duration": 1000,
    "start_time": "2022-02-24T18:50:42.968Z"
   },
   {
    "duration": 497,
    "start_time": "2022-02-24T18:50:43.972Z"
   },
   {
    "duration": 508,
    "start_time": "2022-02-24T18:50:44.561Z"
   },
   {
    "duration": 87,
    "start_time": "2022-02-24T18:55:18.213Z"
   },
   {
    "duration": 6,
    "start_time": "2022-02-24T18:55:31.434Z"
   },
   {
    "duration": 60,
    "start_time": "2022-02-24T18:55:31.443Z"
   },
   {
    "duration": 20,
    "start_time": "2022-02-24T18:55:31.506Z"
   },
   {
    "duration": 43,
    "start_time": "2022-02-24T18:55:31.529Z"
   },
   {
    "duration": 14,
    "start_time": "2022-02-24T18:55:31.574Z"
   },
   {
    "duration": 79,
    "start_time": "2022-02-24T18:55:31.591Z"
   },
   {
    "duration": 43,
    "start_time": "2022-02-24T18:55:31.673Z"
   },
   {
    "duration": 109,
    "start_time": "2022-02-24T18:55:31.720Z"
   },
   {
    "duration": 9063,
    "start_time": "2022-02-24T18:55:31.832Z"
   },
   {
    "duration": 66,
    "start_time": "2022-02-24T18:55:40.897Z"
   },
   {
    "duration": 359,
    "start_time": "2022-02-24T18:55:40.967Z"
   },
   {
    "duration": 251,
    "start_time": "2022-02-24T18:55:41.329Z"
   },
   {
    "duration": 35,
    "start_time": "2022-02-24T18:55:41.583Z"
   },
   {
    "duration": 117,
    "start_time": "2022-02-24T18:55:41.621Z"
   },
   {
    "duration": 523,
    "start_time": "2022-02-24T18:55:41.740Z"
   },
   {
    "duration": 996,
    "start_time": "2022-02-24T18:55:42.267Z"
   },
   {
    "duration": 395,
    "start_time": "2022-02-24T18:55:43.267Z"
   },
   {
    "duration": 596,
    "start_time": "2022-02-24T18:55:43.666Z"
   },
   {
    "duration": 1651,
    "start_time": "2022-02-25T14:01:24.191Z"
   },
   {
    "duration": 117,
    "start_time": "2022-02-25T14:01:25.844Z"
   },
   {
    "duration": 20,
    "start_time": "2022-02-25T14:01:25.964Z"
   },
   {
    "duration": 438,
    "start_time": "2022-02-25T14:01:25.987Z"
   },
   {
    "duration": 69,
    "start_time": "2022-02-25T14:01:26.361Z"
   },
   {
    "duration": 64,
    "start_time": "2022-02-25T14:01:26.367Z"
   },
   {
    "duration": 61,
    "start_time": "2022-02-25T14:01:26.372Z"
   },
   {
    "duration": 59,
    "start_time": "2022-02-25T14:01:26.376Z"
   },
   {
    "duration": 57,
    "start_time": "2022-02-25T14:01:26.379Z"
   },
   {
    "duration": 55,
    "start_time": "2022-02-25T14:01:26.383Z"
   },
   {
    "duration": 53,
    "start_time": "2022-02-25T14:01:26.386Z"
   },
   {
    "duration": 51,
    "start_time": "2022-02-25T14:01:26.390Z"
   },
   {
    "duration": 49,
    "start_time": "2022-02-25T14:01:26.393Z"
   },
   {
    "duration": 46,
    "start_time": "2022-02-25T14:01:26.397Z"
   },
   {
    "duration": 45,
    "start_time": "2022-02-25T14:01:26.400Z"
   },
   {
    "duration": 41,
    "start_time": "2022-02-25T14:01:26.405Z"
   },
   {
    "duration": 39,
    "start_time": "2022-02-25T14:01:26.408Z"
   },
   {
    "duration": 38,
    "start_time": "2022-02-25T14:01:26.411Z"
   },
   {
    "duration": 36,
    "start_time": "2022-02-25T14:01:26.414Z"
   },
   {
    "duration": 12,
    "start_time": "2022-02-25T14:02:27.083Z"
   },
   {
    "duration": 6,
    "start_time": "2022-02-25T14:02:32.317Z"
   },
   {
    "duration": 64,
    "start_time": "2022-02-25T14:02:32.326Z"
   },
   {
    "duration": 19,
    "start_time": "2022-02-25T14:02:32.393Z"
   },
   {
    "duration": 15,
    "start_time": "2022-02-25T14:02:32.415Z"
   },
   {
    "duration": 8,
    "start_time": "2022-02-25T14:02:32.433Z"
   },
   {
    "duration": 22,
    "start_time": "2022-02-25T14:02:32.443Z"
   },
   {
    "duration": 42,
    "start_time": "2022-02-25T14:02:32.493Z"
   },
   {
    "duration": 71,
    "start_time": "2022-02-25T14:02:32.539Z"
   },
   {
    "duration": 93,
    "start_time": "2022-02-25T14:02:32.612Z"
   },
   {
    "duration": 9219,
    "start_time": "2022-02-25T14:02:32.708Z"
   },
   {
    "duration": 169,
    "start_time": "2022-02-25T14:02:41.929Z"
   },
   {
    "duration": 313,
    "start_time": "2022-02-25T14:02:42.102Z"
   },
   {
    "duration": 418,
    "start_time": "2022-02-25T14:02:42.417Z"
   },
   {
    "duration": 84,
    "start_time": "2022-02-25T14:02:42.837Z"
   },
   {
    "duration": 190,
    "start_time": "2022-02-25T14:02:42.924Z"
   },
   {
    "duration": 584,
    "start_time": "2022-02-25T14:02:43.117Z"
   },
   {
    "duration": 1100,
    "start_time": "2022-02-25T14:02:43.794Z"
   },
   {
    "duration": 399,
    "start_time": "2022-02-25T14:02:44.897Z"
   },
   {
    "duration": 592,
    "start_time": "2022-02-25T14:02:45.303Z"
   },
   {
    "duration": 106,
    "start_time": "2022-02-25T14:03:28.859Z"
   },
   {
    "duration": 85,
    "start_time": "2022-02-25T14:05:08.004Z"
   },
   {
    "duration": 6,
    "start_time": "2022-02-25T14:06:03.605Z"
   },
   {
    "duration": 67,
    "start_time": "2022-02-25T14:06:03.613Z"
   },
   {
    "duration": 19,
    "start_time": "2022-02-25T14:06:03.694Z"
   },
   {
    "duration": 17,
    "start_time": "2022-02-25T14:06:03.716Z"
   },
   {
    "duration": 4,
    "start_time": "2022-02-25T14:06:03.736Z"
   },
   {
    "duration": 49,
    "start_time": "2022-02-25T14:06:03.743Z"
   },
   {
    "duration": 45,
    "start_time": "2022-02-25T14:06:03.796Z"
   },
   {
    "duration": 79,
    "start_time": "2022-02-25T14:06:03.847Z"
   },
   {
    "duration": 98,
    "start_time": "2022-02-25T14:06:03.929Z"
   },
   {
    "duration": 9176,
    "start_time": "2022-02-25T14:06:04.029Z"
   },
   {
    "duration": 87,
    "start_time": "2022-02-25T14:06:13.207Z"
   },
   {
    "duration": 405,
    "start_time": "2022-02-25T14:06:13.298Z"
   },
   {
    "duration": 416,
    "start_time": "2022-02-25T14:06:13.706Z"
   },
   {
    "duration": 85,
    "start_time": "2022-02-25T14:06:14.125Z"
   },
   {
    "duration": 135,
    "start_time": "2022-02-25T14:06:14.212Z"
   },
   {
    "duration": 549,
    "start_time": "2022-02-25T14:06:14.350Z"
   },
   {
    "duration": 1091,
    "start_time": "2022-02-25T14:06:14.904Z"
   },
   {
    "duration": 398,
    "start_time": "2022-02-25T14:06:15.999Z"
   },
   {
    "duration": 595,
    "start_time": "2022-02-25T14:06:16.400Z"
   },
   {
    "duration": 214,
    "start_time": "2022-03-06T10:30:42.928Z"
   },
   {
    "duration": 1383,
    "start_time": "2022-03-06T10:30:50.705Z"
   },
   {
    "duration": 32,
    "start_time": "2022-03-06T10:30:52.059Z"
   },
   {
    "duration": 28,
    "start_time": "2022-03-06T10:30:52.064Z"
   },
   {
    "duration": 26,
    "start_time": "2022-03-06T10:30:52.067Z"
   },
   {
    "duration": 23,
    "start_time": "2022-03-06T10:30:52.070Z"
   },
   {
    "duration": 22,
    "start_time": "2022-03-06T10:30:52.072Z"
   },
   {
    "duration": 21,
    "start_time": "2022-03-06T10:30:52.074Z"
   },
   {
    "duration": 20,
    "start_time": "2022-03-06T10:30:52.075Z"
   },
   {
    "duration": 19,
    "start_time": "2022-03-06T10:30:52.077Z"
   },
   {
    "duration": 15,
    "start_time": "2022-03-06T10:30:52.082Z"
   },
   {
    "duration": 15,
    "start_time": "2022-03-06T10:30:52.083Z"
   },
   {
    "duration": 15,
    "start_time": "2022-03-06T10:30:52.084Z"
   },
   {
    "duration": 14,
    "start_time": "2022-03-06T10:30:52.086Z"
   },
   {
    "duration": 14,
    "start_time": "2022-03-06T10:30:52.087Z"
   },
   {
    "duration": 13,
    "start_time": "2022-03-06T10:30:52.088Z"
   },
   {
    "duration": 13,
    "start_time": "2022-03-06T10:30:52.089Z"
   },
   {
    "duration": 12,
    "start_time": "2022-03-06T10:30:52.091Z"
   },
   {
    "duration": 12,
    "start_time": "2022-03-06T10:30:52.092Z"
   },
   {
    "duration": 11,
    "start_time": "2022-03-06T10:30:52.093Z"
   },
   {
    "duration": 7,
    "start_time": "2022-03-06T10:30:52.098Z"
   },
   {
    "duration": 7,
    "start_time": "2022-03-06T10:30:52.099Z"
   },
   {
    "duration": 5,
    "start_time": "2022-03-06T10:33:05.070Z"
   },
   {
    "duration": 50,
    "start_time": "2022-03-06T10:33:05.077Z"
   },
   {
    "duration": 13,
    "start_time": "2022-03-06T10:33:05.128Z"
   },
   {
    "duration": 10,
    "start_time": "2022-03-06T10:33:05.142Z"
   },
   {
    "duration": 2,
    "start_time": "2022-03-06T10:33:05.153Z"
   },
   {
    "duration": 9,
    "start_time": "2022-03-06T10:33:05.157Z"
   },
   {
    "duration": 26,
    "start_time": "2022-03-06T10:33:05.167Z"
   },
   {
    "duration": 54,
    "start_time": "2022-03-06T10:33:05.195Z"
   },
   {
    "duration": 53,
    "start_time": "2022-03-06T10:33:05.251Z"
   },
   {
    "duration": 5497,
    "start_time": "2022-03-06T10:33:05.305Z"
   },
   {
    "duration": 36,
    "start_time": "2022-03-06T10:33:10.804Z"
   },
   {
    "duration": 322,
    "start_time": "2022-03-06T10:33:10.841Z"
   },
   {
    "duration": 140,
    "start_time": "2022-03-06T10:33:11.165Z"
   },
   {
    "duration": 29,
    "start_time": "2022-03-06T10:33:11.306Z"
   },
   {
    "duration": 51,
    "start_time": "2022-03-06T10:33:11.336Z"
   },
   {
    "duration": 347,
    "start_time": "2022-03-06T10:33:11.389Z"
   },
   {
    "duration": 611,
    "start_time": "2022-03-06T10:33:11.738Z"
   },
   {
    "duration": 244,
    "start_time": "2022-03-06T10:33:12.436Z"
   },
   {
    "duration": 402,
    "start_time": "2022-03-06T10:33:12.734Z"
   }
  ],
  "kernelspec": {
   "display_name": "Python 3 (ipykernel)",
   "language": "python",
   "name": "python3"
  },
  "language_info": {
   "codemirror_mode": {
    "name": "ipython",
    "version": 3
   },
   "file_extension": ".py",
   "mimetype": "text/x-python",
   "name": "python",
   "nbconvert_exporter": "python",
   "pygments_lexer": "ipython3",
   "version": "3.9.7"
  },
  "toc": {
   "base_numbering": 1,
   "nav_menu": {},
   "number_sections": true,
   "sideBar": true,
   "skip_h1_title": true,
   "title_cell": "Содержание",
   "title_sidebar": "Contents",
   "toc_cell": true,
   "toc_position": {
    "height": "calc(100% - 180px)",
    "left": "10px",
    "top": "150px",
    "width": "231.391px"
   },
   "toc_section_display": true,
   "toc_window_display": true
  }
 },
 "nbformat": 4,
 "nbformat_minor": 2
}
