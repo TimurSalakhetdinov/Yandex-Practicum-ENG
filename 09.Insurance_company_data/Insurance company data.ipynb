{
 "cells": [
  {
   "cell_type": "markdown",
   "metadata": {
    "toc": true
   },
   "source": [
    "<h1>Содержание<span class=\"tocSkip\"></span></h1>\n",
    "<div class=\"toc\"><ul class=\"toc-item\"><li><span><a href=\"#Загрузка-данных\" data-toc-modified-id=\"Загрузка-данных-1\"><span class=\"toc-item-num\">1&nbsp;&nbsp;</span>Загрузка данных</a></span></li><li><span><a href=\"#Умножение-матриц\" data-toc-modified-id=\"Умножение-матриц-2\"><span class=\"toc-item-num\">2&nbsp;&nbsp;</span>Умножение матриц</a></span></li><li><span><a href=\"#Алгоритм-преобразования\" data-toc-modified-id=\"Алгоритм-преобразования-3\"><span class=\"toc-item-num\">3&nbsp;&nbsp;</span>Алгоритм преобразования</a></span></li><li><span><a href=\"#Проверка-алгоритма\" data-toc-modified-id=\"Проверка-алгоритма-4\"><span class=\"toc-item-num\">4&nbsp;&nbsp;</span>Проверка алгоритма</a></span></li><li><span><a href=\"#Чек-лист-проверки\" data-toc-modified-id=\"Чек-лист-проверки-5\"><span class=\"toc-item-num\">5&nbsp;&nbsp;</span>Чек-лист проверки</a></span></li></ul></div>"
   ]
  },
  {
   "cell_type": "markdown",
   "metadata": {},
   "source": [
    "# Защита персональных данных клиентов"
   ]
  },
  {
   "cell_type": "markdown",
   "metadata": {},
   "source": [
    "Нам нужно защитить данные клиентов страховой компании «Хоть потоп». Разработаем такой метод преобразования данных, чтобы по ним было сложно восстановить персональную информацию.\n",
    "\n",
    "Нужно защитить данные, чтобы при преобразовании качество моделей машинного обучения не ухудшилось."
   ]
  },
  {
   "cell_type": "markdown",
   "metadata": {},
   "source": [
    "## Загрузка данных"
   ]
  },
  {
   "cell_type": "code",
   "execution_count": 1,
   "metadata": {},
   "outputs": [],
   "source": [
    "# Загрузим все необходимые библиотеки:\n",
    "import pandas as pd\n",
    "import numpy as np\n",
    "from sklearn.linear_model import LinearRegression\n",
    "from sklearn.metrics import r2_score\n",
    "import warnings \n",
    "warnings.filterwarnings('ignore')"
   ]
  },
  {
   "cell_type": "code",
   "execution_count": 2,
   "metadata": {},
   "outputs": [
    {
     "name": "stdout",
     "output_type": "stream",
     "text": [
      "<class 'pandas.core.frame.DataFrame'>\n",
      "RangeIndex: 5000 entries, 0 to 4999\n",
      "Data columns (total 5 columns):\n",
      " #   Column             Non-Null Count  Dtype  \n",
      "---  ------             --------------  -----  \n",
      " 0   Пол                5000 non-null   int64  \n",
      " 1   Возраст            5000 non-null   float64\n",
      " 2   Зарплата           5000 non-null   float64\n",
      " 3   Члены семьи        5000 non-null   int64  \n",
      " 4   Страховые выплаты  5000 non-null   int64  \n",
      "dtypes: float64(2), int64(3)\n",
      "memory usage: 195.4 KB\n"
     ]
    },
    {
     "data": {
      "text/html": [
       "<div>\n",
       "<style scoped>\n",
       "    .dataframe tbody tr th:only-of-type {\n",
       "        vertical-align: middle;\n",
       "    }\n",
       "\n",
       "    .dataframe tbody tr th {\n",
       "        vertical-align: top;\n",
       "    }\n",
       "\n",
       "    .dataframe thead th {\n",
       "        text-align: right;\n",
       "    }\n",
       "</style>\n",
       "<table border=\"1\" class=\"dataframe\">\n",
       "  <thead>\n",
       "    <tr style=\"text-align: right;\">\n",
       "      <th></th>\n",
       "      <th>Пол</th>\n",
       "      <th>Возраст</th>\n",
       "      <th>Зарплата</th>\n",
       "      <th>Члены семьи</th>\n",
       "      <th>Страховые выплаты</th>\n",
       "    </tr>\n",
       "  </thead>\n",
       "  <tbody>\n",
       "    <tr>\n",
       "      <th>0</th>\n",
       "      <td>1</td>\n",
       "      <td>41.0</td>\n",
       "      <td>49600.0</td>\n",
       "      <td>1</td>\n",
       "      <td>0</td>\n",
       "    </tr>\n",
       "    <tr>\n",
       "      <th>1</th>\n",
       "      <td>0</td>\n",
       "      <td>46.0</td>\n",
       "      <td>38000.0</td>\n",
       "      <td>1</td>\n",
       "      <td>1</td>\n",
       "    </tr>\n",
       "    <tr>\n",
       "      <th>2</th>\n",
       "      <td>0</td>\n",
       "      <td>29.0</td>\n",
       "      <td>21000.0</td>\n",
       "      <td>0</td>\n",
       "      <td>0</td>\n",
       "    </tr>\n",
       "    <tr>\n",
       "      <th>3</th>\n",
       "      <td>0</td>\n",
       "      <td>21.0</td>\n",
       "      <td>41700.0</td>\n",
       "      <td>2</td>\n",
       "      <td>0</td>\n",
       "    </tr>\n",
       "    <tr>\n",
       "      <th>4</th>\n",
       "      <td>1</td>\n",
       "      <td>28.0</td>\n",
       "      <td>26100.0</td>\n",
       "      <td>0</td>\n",
       "      <td>0</td>\n",
       "    </tr>\n",
       "  </tbody>\n",
       "</table>\n",
       "</div>"
      ],
      "text/plain": [
       "   Пол  Возраст  Зарплата  Члены семьи  Страховые выплаты\n",
       "0    1     41.0   49600.0            1                  0\n",
       "1    0     46.0   38000.0            1                  1\n",
       "2    0     29.0   21000.0            0                  0\n",
       "3    0     21.0   41700.0            2                  0\n",
       "4    1     28.0   26100.0            0                  0"
      ]
     },
     "metadata": {},
     "output_type": "display_data"
    }
   ],
   "source": [
    "# Выведем данные:\n",
    "data = pd.read_csv('/datasets/insurance.csv')\n",
    "data.info()\n",
    "display(data.head())"
   ]
  },
  {
   "cell_type": "markdown",
   "metadata": {},
   "source": [
    "* Признаки: пол, возраст и зарплата застрахованного, количество членов его семьи.\n",
    "* Целевой признак - количество страховых выплат клиенту."
   ]
  },
  {
   "cell_type": "markdown",
   "metadata": {},
   "source": [
    "## Умножение матриц"
   ]
  },
  {
   "cell_type": "markdown",
   "metadata": {},
   "source": [
    "В этом задании вы можете записывать формулы в *Jupyter Notebook.*\n",
    "\n",
    "Чтобы записать формулу внутри текста, окружите её символами доллара \\\\$; если снаружи —  двойными символами \\\\$\\\\$. Эти формулы записываются на языке вёрстки *LaTeX.* \n",
    "\n",
    "Для примера мы записали формулы линейной регрессии. Можете их скопировать и отредактировать, чтобы решить задачу.\n",
    "\n",
    "Работать в *LaTeX* необязательно."
   ]
  },
  {
   "cell_type": "markdown",
   "metadata": {},
   "source": [
    "Обозначения:\n",
    "\n",
    "- $X$ — матрица признаков (нулевой столбец состоит из единиц)\n",
    "\n",
    "- $y$ — вектор целевого признака\n",
    "\n",
    "- $P$ — матрица, на которую умножаются признаки\n",
    "\n",
    "- $w$ — вектор весов линейной регрессии (нулевой элемент равен сдвигу)"
   ]
  },
  {
   "cell_type": "markdown",
   "metadata": {},
   "source": [
    "Предсказания:\n",
    "\n",
    "$$\n",
    "a = Xw\n",
    "$$\n",
    "\n",
    "Задача обучения:\n",
    "\n",
    "$$\n",
    "w = \\arg\\min_w MSE(Xw, y)\n",
    "$$\n",
    "\n",
    "Формула обучения:\n",
    "\n",
    "$$\n",
    "w = (X^T X)^{-1} X^T y\n",
    "$$"
   ]
  },
  {
   "cell_type": "markdown",
   "metadata": {},
   "source": [
    "Ответьте на вопрос и обоснуйте решение.\n",
    "Признаки умножают на обратимую матрицу. Изменится ли качество линейной регрессии? (Её можно обучить заново.)\n",
    "* a. Изменится. Приведите примеры матриц.\n",
    "* b. Не изменится. Укажите, как связаны параметры линейной регрессии в исходной задаче и в преобразованной."
   ]
  },
  {
   "cell_type": "markdown",
   "metadata": {},
   "source": [
    "**Ответ:** Качество линейной регрессии не изменится.\n",
    "\n",
    "**Обоснование:** \n",
    "Для преобразования данных предлагается умножить матрицу признаков X на рандомную матрицу P.\n",
    "\n",
    "$$\n",
    "X' = XP\n",
    "$$\n",
    "\n",
    "Рандомная матрица должна быть обратимой, т.е. быть квадратной - число строк и столбцов должно быть равно числу столбцов матрицы признаков.\n",
    "\n",
    "Формула обучения:\n",
    "$$\n",
    "w = (X^T X)^{-1} X^T y\n",
    "$$\n",
    "\n",
    "Формула предсказания:\n",
    "$$\n",
    "a = Xw = X (X^T X)^{-1} X^T y\n",
    "$$\n",
    "\n",
    "Следует выделить свойства матриц:\n",
    "$$AA^{-1} = E$$\n",
    "$$(AB)^T = B^TA^T$$\n",
    "$$(AB)^{-1} = B^{-1}A^{-1}$$\n",
    "$$(AB)C = A(BC)$$\n",
    "$$(ABCD)^{-1} = ((ABC)D)^{-1} = (A(BCD))^{-1}$$\n",
    "\n",
    "В результате должно получиться:\n",
    "$$ a' = a.$$"
   ]
  },
  {
   "cell_type": "markdown",
   "metadata": {},
   "source": [
    "Подставим новую матрицу X' в формулу предсказания a' (y можно опустить):\n",
    "\n",
    "$$\n",
    "a' = XP((XP)^T XP)^{-1} (XP)^T = X P(P^T (X^T X) P)^{-1} P^T X^T =\n",
    "$$\n",
    "\n",
    "$$\n",
    "X P P^{-1} (X^T X)^{-1} (P^T)^{-1} P^T X^T = X E (X^T X)^{-1} E X^T\n",
    "$$"
   ]
  },
  {
   "cell_type": "markdown",
   "metadata": {},
   "source": [
    "Получается в результате вычислений рандомная обратимая матрица трансформируется в единичную матрицу и на результат не влияет, т.к.:\n",
    "\n",
    "$$\n",
    "AE = A\n",
    "$$"
   ]
  },
  {
   "cell_type": "markdown",
   "metadata": {},
   "source": [
    "## Алгоритм преобразования"
   ]
  },
  {
   "cell_type": "markdown",
   "metadata": {},
   "source": [
    "Предложите алгоритм преобразования данных для решения задачи. Обоснуйте, почему качество линейной регрессии не поменяется."
   ]
  },
  {
   "cell_type": "markdown",
   "metadata": {},
   "source": [
    "**Алгоритм**\n",
    "\n",
    "Предлагается умножить признаки на рандомную обратимую (квадратную) матрицу."
   ]
  },
  {
   "cell_type": "code",
   "execution_count": 3,
   "metadata": {
    "scrolled": true
   },
   "outputs": [
    {
     "name": "stdout",
     "output_type": "stream",
     "text": [
      "[4.77272727 2.68181818 0.68181818 3.86363636 1.        ]\n",
      "[4.77272727 2.68181818 0.68181818 3.86363636 1.        ]\n"
     ]
    }
   ],
   "source": [
    "# Проверим изменится ли качество линейно регрессии при умножении признаков на обратимую матрицу:\n",
    "X = np.array([[1, 2, 5, 4],\n",
    "              [1, 6, 7, 8],\n",
    "              [1, 2, 8, 10],\n",
    "              [1, 22, 8, 10],\n",
    "              [1, 2, 38, 10]])\n",
    "\n",
    "y = np.array([5, 2, 1, 4, 1])\n",
    "\n",
    "P = np.random.randint(1,100, size=(4,4))\n",
    "X1 = X.dot(P)\n",
    "\n",
    "# Формула обучения:\n",
    "w = np.linalg.inv(X.T @ X) @ X.T @ y\n",
    "w1 = np.linalg.inv(X1.T @ X1) @ X1.T @ y\n",
    "\n",
    "# Предсказания:\n",
    "a = X @ w\n",
    "print(a)\n",
    "a1 = X1 @ w1\n",
    "print(a1)"
   ]
  },
  {
   "cell_type": "markdown",
   "metadata": {},
   "source": [
    "**Обоснование**\n",
    "\n",
    "При умножении матрицы на рандомную обратимую матрицу результат предсказания не меняется в соотвествии с доказательством в разделе 2, т.е. качество линейной регрессии не поменяется."
   ]
  },
  {
   "cell_type": "markdown",
   "metadata": {},
   "source": [
    "## Проверка алгоритма"
   ]
  },
  {
   "cell_type": "code",
   "execution_count": 4,
   "metadata": {
    "scrolled": true
   },
   "outputs": [
    {
     "name": "stdout",
     "output_type": "stream",
     "text": [
      "Признаки до изменения:\n",
      "   Пол  Возраст  Зарплата  Члены семьи\n",
      "0    1     41.0   49600.0            1\n",
      "1    0     46.0   38000.0            1\n",
      "2    0     29.0   21000.0            0\n",
      "3    0     21.0   41700.0            2\n",
      "4    1     28.0   26100.0            0\n"
     ]
    }
   ],
   "source": [
    "# Выделим признаки:\n",
    "features = data.drop('Страховые выплаты', axis=1)\n",
    "target = data['Страховые выплаты']\n",
    "print(\"Признаки до изменения:\")\n",
    "print(features.head())"
   ]
  },
  {
   "cell_type": "code",
   "execution_count": 5,
   "metadata": {},
   "outputs": [
    {
     "name": "stdout",
     "output_type": "stream",
     "text": [
      "Рандомная матрица:\n",
      " [[75 98 25 25]\n",
      " [64 53 79 96]\n",
      " [86 50 65 12]\n",
      " [38 27 39  6]]\n",
      "Детерминант матрицы:\n",
      " -5206036.000000004\n"
     ]
    }
   ],
   "source": [
    "# Создадим рандомную матрицу:\n",
    "random_matrix = np.random.randint(1,100, size=(4,4))\n",
    "\n",
    "while np.linalg.det(random_matrix) == 0:\n",
    "    random_matrix = np.random.randint(1,100, size=(4,4))\n",
    "\n",
    "print('Рандомная матрица:\\n', random_matrix)\n",
    "print(\"Детерминант матрицы:\\n\", np.linalg.det(random_matrix))"
   ]
  },
  {
   "cell_type": "code",
   "execution_count": 6,
   "metadata": {
    "scrolled": true
   },
   "outputs": [
    {
     "name": "stdout",
     "output_type": "stream",
     "text": [
      "Признаки после изменения:\n",
      "           0          1          2         3\n",
      "0  4268337.0  2482298.0  3227303.0  599167.0\n",
      "1  3270982.0  1902465.0  2473673.0  460422.0\n",
      "2  1807856.0  1051537.0  1367291.0  254784.0\n",
      "3  3587620.0  2086167.0  2712237.0  502428.0\n",
      "4  2246467.0  1306582.0  1698737.0  315913.0\n"
     ]
    }
   ],
   "source": [
    "# Умножим признаки на рандомную матрицу для сокрытия персональных данных:\n",
    "features_new = features @ random_matrix\n",
    "print(\"Признаки после изменения:\") \n",
    "print(features_new.head())"
   ]
  },
  {
   "cell_type": "code",
   "execution_count": 7,
   "metadata": {},
   "outputs": [
    {
     "name": "stdout",
     "output_type": "stream",
     "text": [
      "0.4249455028666801\n"
     ]
    }
   ],
   "source": [
    "# Рассчитаем R2 на признаках до их изменения:\n",
    "model = LinearRegression()\n",
    "model.fit(features, target)\n",
    "predictions = model.predict(features)\n",
    "print(r2_score(target, predictions))"
   ]
  },
  {
   "cell_type": "code",
   "execution_count": 8,
   "metadata": {},
   "outputs": [
    {
     "name": "stdout",
     "output_type": "stream",
     "text": [
      "0.4249455028666711\n"
     ]
    }
   ],
   "source": [
    "# Рассчитаем R2 на признаках после их изменения:\n",
    "model_new = LinearRegression()\n",
    "model_new.fit(features_new, target)\n",
    "predictions_new = model_new.predict(features_new)\n",
    "print(r2_score(target, predictions_new))"
   ]
  },
  {
   "cell_type": "markdown",
   "metadata": {},
   "source": [
    "**Вывод:** Значения R2 в обоих случаях совпадают. Можно с уверенностью использовать предложенный метод."
   ]
  },
  {
   "cell_type": "code",
   "execution_count": null,
   "metadata": {},
   "outputs": [],
   "source": []
  }
 ],
 "metadata": {
  "ExecuteTimeLog": [
   {
    "duration": 1756,
    "start_time": "2022-03-28T18:34:31.096Z"
   },
   {
    "duration": 38,
    "start_time": "2022-03-28T18:34:32.854Z"
   },
   {
    "duration": 49,
    "start_time": "2022-03-29T16:44:34.108Z"
   },
   {
    "duration": 10,
    "start_time": "2022-03-29T16:44:48.756Z"
   },
   {
    "duration": 1541,
    "start_time": "2022-03-29T16:44:55.840Z"
   },
   {
    "duration": 14,
    "start_time": "2022-03-29T16:44:59.559Z"
   },
   {
    "duration": 7,
    "start_time": "2022-03-29T16:45:10.402Z"
   },
   {
    "duration": 2450,
    "start_time": "2022-04-02T11:19:02.116Z"
   },
   {
    "duration": 43,
    "start_time": "2022-04-02T11:19:05.266Z"
   },
   {
    "duration": 86,
    "start_time": "2022-04-02T11:31:33.400Z"
   },
   {
    "duration": 19,
    "start_time": "2022-04-02T11:35:45.725Z"
   },
   {
    "duration": 12,
    "start_time": "2022-04-02T14:16:16.689Z"
   },
   {
    "duration": 12,
    "start_time": "2022-04-02T14:17:14.340Z"
   },
   {
    "duration": 13,
    "start_time": "2022-04-02T14:30:50.600Z"
   },
   {
    "duration": 13,
    "start_time": "2022-04-02T14:31:49.860Z"
   },
   {
    "duration": 5,
    "start_time": "2022-04-02T14:35:49.450Z"
   },
   {
    "duration": 14,
    "start_time": "2022-04-02T14:35:54.749Z"
   },
   {
    "duration": 13,
    "start_time": "2022-04-02T14:35:56.867Z"
   },
   {
    "duration": 5,
    "start_time": "2022-04-02T14:37:36.299Z"
   },
   {
    "duration": 14,
    "start_time": "2022-04-02T14:37:52.038Z"
   },
   {
    "duration": 12,
    "start_time": "2022-04-02T14:40:37.721Z"
   },
   {
    "duration": 6,
    "start_time": "2022-04-02T14:51:30.081Z"
   },
   {
    "duration": 12,
    "start_time": "2022-04-02T15:04:25.275Z"
   },
   {
    "duration": 32,
    "start_time": "2022-04-02T15:05:15.493Z"
   },
   {
    "duration": 5,
    "start_time": "2022-04-02T15:05:19.986Z"
   },
   {
    "duration": 11,
    "start_time": "2022-04-02T15:05:25.725Z"
   },
   {
    "duration": 16,
    "start_time": "2022-04-02T15:06:48.696Z"
   },
   {
    "duration": 15,
    "start_time": "2022-04-02T15:09:08.330Z"
   },
   {
    "duration": 12,
    "start_time": "2022-04-02T15:22:26.446Z"
   },
   {
    "duration": 11,
    "start_time": "2022-04-02T15:28:56.891Z"
   },
   {
    "duration": 281,
    "start_time": "2022-04-02T15:33:56.327Z"
   },
   {
    "duration": 10,
    "start_time": "2022-04-02T15:34:32.474Z"
   },
   {
    "duration": 116,
    "start_time": "2022-04-02T15:35:01.112Z"
   },
   {
    "duration": 175,
    "start_time": "2022-04-02T15:35:05.868Z"
   },
   {
    "duration": 5,
    "start_time": "2022-04-02T15:36:24.121Z"
   },
   {
    "duration": 6,
    "start_time": "2022-04-02T15:36:28.579Z"
   },
   {
    "duration": 11,
    "start_time": "2022-04-02T15:37:08.913Z"
   },
   {
    "duration": 12,
    "start_time": "2022-04-02T15:37:37.842Z"
   },
   {
    "duration": 10,
    "start_time": "2022-04-02T15:38:01.000Z"
   },
   {
    "duration": 13,
    "start_time": "2022-04-02T15:38:05.320Z"
   },
   {
    "duration": 9,
    "start_time": "2022-04-02T15:38:21.672Z"
   },
   {
    "duration": 9,
    "start_time": "2022-04-02T15:38:42.654Z"
   },
   {
    "duration": 10,
    "start_time": "2022-04-02T15:43:56.854Z"
   },
   {
    "duration": 9,
    "start_time": "2022-04-02T15:49:50.858Z"
   },
   {
    "duration": 23,
    "start_time": "2022-04-02T16:46:02.961Z"
   },
   {
    "duration": 13,
    "start_time": "2022-04-02T16:54:54.272Z"
   },
   {
    "duration": 5,
    "start_time": "2022-04-02T16:55:02.505Z"
   },
   {
    "duration": 14,
    "start_time": "2022-04-02T16:55:05.527Z"
   },
   {
    "duration": 12,
    "start_time": "2022-04-02T16:57:09.758Z"
   },
   {
    "duration": 13,
    "start_time": "2022-04-02T16:57:59.524Z"
   },
   {
    "duration": 11,
    "start_time": "2022-04-02T16:58:27.622Z"
   },
   {
    "duration": 48,
    "start_time": "2022-04-02T16:58:28.437Z"
   },
   {
    "duration": 16,
    "start_time": "2022-04-02T16:58:29.310Z"
   },
   {
    "duration": 14,
    "start_time": "2022-04-02T16:58:45.374Z"
   },
   {
    "duration": 15,
    "start_time": "2022-04-02T16:59:13.852Z"
   },
   {
    "duration": 21,
    "start_time": "2022-04-02T16:59:50.524Z"
   },
   {
    "duration": 13,
    "start_time": "2022-04-02T17:00:00.851Z"
   },
   {
    "duration": 13,
    "start_time": "2022-04-02T17:00:04.485Z"
   },
   {
    "duration": 10,
    "start_time": "2022-04-02T17:00:06.330Z"
   },
   {
    "duration": 11,
    "start_time": "2022-04-02T17:00:08.542Z"
   },
   {
    "duration": 10,
    "start_time": "2022-04-02T17:00:10.969Z"
   },
   {
    "duration": 10,
    "start_time": "2022-04-02T17:00:17.194Z"
   },
   {
    "duration": 11,
    "start_time": "2022-04-02T17:00:30.152Z"
   },
   {
    "duration": 10,
    "start_time": "2022-04-02T17:00:32.134Z"
   },
   {
    "duration": 10,
    "start_time": "2022-04-02T17:00:33.281Z"
   },
   {
    "duration": 8,
    "start_time": "2022-04-02T17:00:34.274Z"
   },
   {
    "duration": 9,
    "start_time": "2022-04-02T17:00:35.731Z"
   },
   {
    "duration": 11,
    "start_time": "2022-04-02T17:00:41.615Z"
   },
   {
    "duration": 11,
    "start_time": "2022-04-02T17:00:43.327Z"
   },
   {
    "duration": 11,
    "start_time": "2022-04-02T17:00:45.524Z"
   },
   {
    "duration": 18,
    "start_time": "2022-04-02T17:01:00.812Z"
   },
   {
    "duration": 18,
    "start_time": "2022-04-02T17:01:12.711Z"
   },
   {
    "duration": 5,
    "start_time": "2022-04-02T17:03:38.685Z"
   },
   {
    "duration": 70,
    "start_time": "2022-04-02T17:03:38.693Z"
   },
   {
    "duration": 20,
    "start_time": "2022-04-02T17:03:38.765Z"
   },
   {
    "duration": 97,
    "start_time": "2022-04-02T17:03:38.789Z"
   },
   {
    "duration": 103,
    "start_time": "2022-04-02T17:03:38.889Z"
   },
   {
    "duration": 100,
    "start_time": "2022-04-02T17:03:38.996Z"
   },
   {
    "duration": 50,
    "start_time": "2022-04-03T08:35:22.006Z"
   },
   {
    "duration": 1099,
    "start_time": "2022-04-03T08:35:27.911Z"
   },
   {
    "duration": 34,
    "start_time": "2022-04-03T08:35:29.012Z"
   },
   {
    "duration": 8,
    "start_time": "2022-04-03T08:35:29.047Z"
   },
   {
    "duration": 63,
    "start_time": "2022-04-03T08:35:29.057Z"
   },
   {
    "duration": 188,
    "start_time": "2022-04-03T08:35:29.123Z"
   },
   {
    "duration": 101,
    "start_time": "2022-04-03T08:35:29.314Z"
   },
   {
    "duration": 13,
    "start_time": "2022-04-03T08:35:39.522Z"
   },
   {
    "duration": 137,
    "start_time": "2022-04-03T08:45:24.623Z"
   },
   {
    "duration": 15,
    "start_time": "2022-04-03T08:45:35.507Z"
   },
   {
    "duration": 98,
    "start_time": "2022-04-03T08:46:31.583Z"
   },
   {
    "duration": 70,
    "start_time": "2022-04-03T08:46:38.268Z"
   },
   {
    "duration": 79,
    "start_time": "2022-04-03T08:46:43.252Z"
   },
   {
    "duration": 14,
    "start_time": "2022-04-03T08:51:18.639Z"
   },
   {
    "duration": 14,
    "start_time": "2022-04-03T09:15:29.837Z"
   },
   {
    "duration": 14,
    "start_time": "2022-04-03T09:15:54.922Z"
   },
   {
    "duration": 14,
    "start_time": "2022-04-03T09:19:38.023Z"
   },
   {
    "duration": 12,
    "start_time": "2022-04-03T09:19:49.181Z"
   },
   {
    "duration": 14,
    "start_time": "2022-04-03T09:19:55.088Z"
   },
   {
    "duration": 15,
    "start_time": "2022-04-03T09:20:19.667Z"
   },
   {
    "duration": 14,
    "start_time": "2022-04-03T09:20:29.372Z"
   },
   {
    "duration": 72,
    "start_time": "2022-04-03T09:20:42.230Z"
   },
   {
    "duration": 72,
    "start_time": "2022-04-03T09:20:47.373Z"
   },
   {
    "duration": 13,
    "start_time": "2022-04-03T09:20:52.743Z"
   },
   {
    "duration": 13,
    "start_time": "2022-04-03T09:21:07.927Z"
   },
   {
    "duration": 14,
    "start_time": "2022-04-03T09:21:18.991Z"
   },
   {
    "duration": 12,
    "start_time": "2022-04-03T11:20:11.820Z"
   },
   {
    "duration": 9,
    "start_time": "2022-04-03T11:20:14.800Z"
   },
   {
    "duration": 61,
    "start_time": "2022-04-03T11:20:33.739Z"
   },
   {
    "duration": 68,
    "start_time": "2022-04-03T11:20:39.181Z"
   },
   {
    "duration": 10,
    "start_time": "2022-04-03T11:20:43.983Z"
   },
   {
    "duration": 5,
    "start_time": "2022-04-03T11:21:10.936Z"
   },
   {
    "duration": 4,
    "start_time": "2022-04-03T11:36:12.751Z"
   },
   {
    "duration": 10,
    "start_time": "2022-04-03T11:36:33.398Z"
   },
   {
    "duration": 4,
    "start_time": "2022-04-03T11:36:41.335Z"
   },
   {
    "duration": 12,
    "start_time": "2022-04-03T11:36:45.343Z"
   },
   {
    "duration": 10,
    "start_time": "2022-04-03T11:36:48.033Z"
   },
   {
    "duration": 10,
    "start_time": "2022-04-03T11:37:37.491Z"
   },
   {
    "duration": 9,
    "start_time": "2022-04-03T11:37:40.453Z"
   },
   {
    "duration": 10,
    "start_time": "2022-04-03T11:37:51.670Z"
   },
   {
    "duration": 9,
    "start_time": "2022-04-03T11:37:57.237Z"
   },
   {
    "duration": 9,
    "start_time": "2022-04-03T11:38:20.693Z"
   },
   {
    "duration": 7,
    "start_time": "2022-04-03T11:38:39.830Z"
   },
   {
    "duration": 9,
    "start_time": "2022-04-03T11:39:27.574Z"
   },
   {
    "duration": 11,
    "start_time": "2022-04-03T11:40:03.696Z"
   },
   {
    "duration": 9,
    "start_time": "2022-04-03T15:53:05.527Z"
   },
   {
    "duration": 10,
    "start_time": "2022-04-03T15:53:11.148Z"
   },
   {
    "duration": 9,
    "start_time": "2022-04-03T16:17:06.726Z"
   },
   {
    "duration": 3,
    "start_time": "2022-04-03T19:14:19.772Z"
   },
   {
    "duration": 43,
    "start_time": "2022-04-03T19:14:19.777Z"
   },
   {
    "duration": 7,
    "start_time": "2022-04-03T19:14:19.821Z"
   },
   {
    "duration": 79,
    "start_time": "2022-04-03T19:14:19.831Z"
   },
   {
    "duration": 8,
    "start_time": "2022-04-03T19:14:19.912Z"
   },
   {
    "duration": 91,
    "start_time": "2022-04-03T19:14:19.923Z"
   },
   {
    "duration": 97,
    "start_time": "2022-04-03T19:14:20.020Z"
   },
   {
    "duration": 115,
    "start_time": "2022-04-04T13:07:21.216Z"
   },
   {
    "duration": 47,
    "start_time": "2022-04-04T14:13:22.606Z"
   },
   {
    "duration": 1093,
    "start_time": "2022-04-04T14:13:26.619Z"
   },
   {
    "duration": 30,
    "start_time": "2022-04-04T14:13:27.713Z"
   },
   {
    "duration": 7,
    "start_time": "2022-04-04T14:13:27.744Z"
   },
   {
    "duration": 24681,
    "start_time": "2022-04-04T14:13:27.753Z"
   },
   {
    "duration": 6,
    "start_time": "2022-04-04T14:13:52.436Z"
   },
   {
    "duration": 12,
    "start_time": "2022-04-04T14:13:52.444Z"
   },
   {
    "duration": 151,
    "start_time": "2022-04-04T14:13:52.458Z"
   },
   {
    "duration": 106,
    "start_time": "2022-04-04T14:16:01.955Z"
   },
   {
    "duration": 139,
    "start_time": "2022-04-04T14:16:07.937Z"
   },
   {
    "duration": 132,
    "start_time": "2022-04-04T14:16:15.073Z"
   },
   {
    "duration": 78,
    "start_time": "2022-04-04T14:16:28.781Z"
   },
   {
    "duration": 7,
    "start_time": "2022-04-04T14:16:49.877Z"
   },
   {
    "duration": 7,
    "start_time": "2022-04-04T14:16:56.854Z"
   },
   {
    "duration": 3,
    "start_time": "2022-04-04T14:17:04.009Z"
   },
   {
    "duration": 27,
    "start_time": "2022-04-04T14:17:04.013Z"
   },
   {
    "duration": 7,
    "start_time": "2022-04-04T14:17:04.041Z"
   },
   {
    "duration": 63,
    "start_time": "2022-04-04T14:17:04.051Z"
   },
   {
    "duration": 10,
    "start_time": "2022-04-04T14:17:04.117Z"
   },
   {
    "duration": 179,
    "start_time": "2022-04-04T14:17:04.129Z"
   },
   {
    "duration": 102,
    "start_time": "2022-04-04T14:17:04.311Z"
   },
   {
    "duration": 8,
    "start_time": "2022-04-04T14:18:30.455Z"
   },
   {
    "duration": 8,
    "start_time": "2022-04-04T14:18:33.542Z"
   },
   {
    "duration": 6,
    "start_time": "2022-04-04T14:18:35.398Z"
   },
   {
    "duration": 7,
    "start_time": "2022-04-04T14:18:40.546Z"
   },
   {
    "duration": 7,
    "start_time": "2022-04-04T14:18:41.448Z"
   },
   {
    "duration": 8,
    "start_time": "2022-04-04T14:18:46.837Z"
   },
   {
    "duration": 6,
    "start_time": "2022-04-04T14:18:48.589Z"
   },
   {
    "duration": 8,
    "start_time": "2022-04-04T14:18:51.142Z"
   },
   {
    "duration": 8,
    "start_time": "2022-04-04T14:19:04.488Z"
   },
   {
    "duration": 144,
    "start_time": "2022-04-04T14:19:19.370Z"
   },
   {
    "duration": 8,
    "start_time": "2022-04-04T14:19:49.218Z"
   },
   {
    "duration": 7,
    "start_time": "2022-04-04T14:20:19.366Z"
   },
   {
    "duration": 92,
    "start_time": "2022-04-04T14:20:29.805Z"
   },
   {
    "duration": 8,
    "start_time": "2022-04-04T14:20:36.026Z"
   },
   {
    "duration": 48,
    "start_time": "2022-04-04T18:39:15.152Z"
   },
   {
    "duration": 1074,
    "start_time": "2022-04-04T18:39:19.047Z"
   },
   {
    "duration": 36,
    "start_time": "2022-04-04T18:39:20.123Z"
   },
   {
    "duration": 6,
    "start_time": "2022-04-04T18:39:20.161Z"
   },
   {
    "duration": 44,
    "start_time": "2022-04-04T18:39:20.169Z"
   },
   {
    "duration": 139,
    "start_time": "2022-04-04T18:39:20.216Z"
   },
   {
    "duration": 0,
    "start_time": "2022-04-04T18:39:20.356Z"
   },
   {
    "duration": 0,
    "start_time": "2022-04-04T18:39:20.357Z"
   },
   {
    "duration": 0,
    "start_time": "2022-04-04T18:39:20.358Z"
   },
   {
    "duration": 3,
    "start_time": "2022-04-04T18:40:08.457Z"
   },
   {
    "duration": 68,
    "start_time": "2022-04-04T18:40:41.686Z"
   },
   {
    "duration": 64,
    "start_time": "2022-04-04T18:41:08.254Z"
   },
   {
    "duration": 65,
    "start_time": "2022-04-04T18:41:27.031Z"
   },
   {
    "duration": 65,
    "start_time": "2022-04-04T18:41:32.181Z"
   },
   {
    "duration": 65,
    "start_time": "2022-04-04T18:41:35.221Z"
   },
   {
    "duration": 70,
    "start_time": "2022-04-04T18:41:52.364Z"
   },
   {
    "duration": 5,
    "start_time": "2022-04-05T07:13:36.522Z"
   },
   {
    "duration": 40,
    "start_time": "2022-04-05T07:13:36.529Z"
   },
   {
    "duration": 10,
    "start_time": "2022-04-05T07:13:36.571Z"
   },
   {
    "duration": 37,
    "start_time": "2022-04-05T07:13:36.583Z"
   },
   {
    "duration": 88,
    "start_time": "2022-04-05T07:13:36.624Z"
   },
   {
    "duration": 14,
    "start_time": "2022-04-05T07:13:36.714Z"
   },
   {
    "duration": 12,
    "start_time": "2022-04-05T07:13:36.809Z"
   },
   {
    "duration": 187,
    "start_time": "2022-04-05T07:13:36.823Z"
   },
   {
    "duration": 150,
    "start_time": "2022-04-05T12:49:15.430Z"
   },
   {
    "duration": 3,
    "start_time": "2022-04-05T12:49:22.090Z"
   },
   {
    "duration": 7,
    "start_time": "2022-04-05T12:50:20.319Z"
   },
   {
    "duration": 10,
    "start_time": "2022-04-05T12:50:22.318Z"
   },
   {
    "duration": 9,
    "start_time": "2022-04-05T12:50:22.897Z"
   },
   {
    "duration": 4,
    "start_time": "2022-04-05T12:50:55.839Z"
   },
   {
    "duration": 4,
    "start_time": "2022-04-05T12:51:01.005Z"
   },
   {
    "duration": 4,
    "start_time": "2022-04-05T12:51:03.040Z"
   },
   {
    "duration": 4,
    "start_time": "2022-04-05T12:51:04.320Z"
   },
   {
    "duration": 5,
    "start_time": "2022-04-05T12:51:05.512Z"
   },
   {
    "duration": 3,
    "start_time": "2022-04-05T12:51:07.145Z"
   },
   {
    "duration": 4,
    "start_time": "2022-04-05T12:51:19.513Z"
   },
   {
    "duration": 4,
    "start_time": "2022-04-05T12:51:21.842Z"
   },
   {
    "duration": 5,
    "start_time": "2022-04-05T12:51:24.727Z"
   },
   {
    "duration": 84,
    "start_time": "2022-04-05T12:52:48.151Z"
   },
   {
    "duration": 74,
    "start_time": "2022-04-05T12:52:54.410Z"
   },
   {
    "duration": 74,
    "start_time": "2022-04-05T12:53:02.340Z"
   },
   {
    "duration": 5,
    "start_time": "2022-04-05T12:53:05.935Z"
   },
   {
    "duration": 5,
    "start_time": "2022-04-05T12:53:12.955Z"
   },
   {
    "duration": 5,
    "start_time": "2022-04-05T12:53:16.026Z"
   },
   {
    "duration": 6,
    "start_time": "2022-04-05T12:53:48.063Z"
   },
   {
    "duration": 3,
    "start_time": "2022-04-05T12:54:47.537Z"
   },
   {
    "duration": 26,
    "start_time": "2022-04-05T12:54:47.542Z"
   },
   {
    "duration": 6,
    "start_time": "2022-04-05T12:54:47.571Z"
   },
   {
    "duration": 33,
    "start_time": "2022-04-05T12:54:47.579Z"
   },
   {
    "duration": 6,
    "start_time": "2022-04-05T12:54:47.615Z"
   },
   {
    "duration": 87,
    "start_time": "2022-04-05T12:54:47.623Z"
   },
   {
    "duration": 11,
    "start_time": "2022-04-05T12:54:47.712Z"
   },
   {
    "duration": 184,
    "start_time": "2022-04-05T12:54:47.726Z"
   },
   {
    "duration": 1038,
    "start_time": "2022-04-05T12:57:33.240Z"
   },
   {
    "duration": 30,
    "start_time": "2022-04-05T12:57:34.280Z"
   },
   {
    "duration": 6,
    "start_time": "2022-04-05T12:57:34.312Z"
   },
   {
    "duration": 13,
    "start_time": "2022-04-05T12:57:34.320Z"
   },
   {
    "duration": 8,
    "start_time": "2022-04-05T12:57:34.409Z"
   },
   {
    "duration": 91,
    "start_time": "2022-04-05T12:57:34.419Z"
   },
   {
    "duration": 100,
    "start_time": "2022-04-05T12:57:34.511Z"
   },
   {
    "duration": 102,
    "start_time": "2022-04-05T12:57:34.613Z"
   }
  ],
  "kernelspec": {
   "display_name": "Python 3 (ipykernel)",
   "language": "python",
   "name": "python3"
  },
  "language_info": {
   "codemirror_mode": {
    "name": "ipython",
    "version": 3
   },
   "file_extension": ".py",
   "mimetype": "text/x-python",
   "name": "python",
   "nbconvert_exporter": "python",
   "pygments_lexer": "ipython3",
   "version": "3.9.12"
  },
  "toc": {
   "base_numbering": 1,
   "nav_menu": {},
   "number_sections": true,
   "sideBar": true,
   "skip_h1_title": true,
   "title_cell": "Содержание",
   "title_sidebar": "Contents",
   "toc_cell": true,
   "toc_position": {
    "height": "calc(100% - 180px)",
    "left": "10px",
    "top": "150px",
    "width": "211.391px"
   },
   "toc_section_display": true,
   "toc_window_display": true
  }
 },
 "nbformat": 4,
 "nbformat_minor": 2
}
