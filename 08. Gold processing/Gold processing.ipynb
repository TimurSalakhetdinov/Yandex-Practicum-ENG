{
 "cells": [
  {
   "cell_type": "markdown",
   "metadata": {
    "toc": true
   },
   "source": [
    "<h1>Содержание<span class=\"tocSkip\"></span></h1>\n",
    "<div class=\"toc\"><ul class=\"toc-item\"><li><span><a href=\"#Подготовка-данных\" data-toc-modified-id=\"Подготовка-данных-1\"><span class=\"toc-item-num\">1&nbsp;&nbsp;</span>Подготовка данных</a></span></li><li><span><a href=\"#Анализ-данных\" data-toc-modified-id=\"Анализ-данных-2\"><span class=\"toc-item-num\">2&nbsp;&nbsp;</span>Анализ данных</a></span><ul class=\"toc-item\"><li><span><a href=\"#Анализ-концентрации-металлов\" data-toc-modified-id=\"Анализ-концентрации-металлов-2.1\"><span class=\"toc-item-num\">2.1&nbsp;&nbsp;</span>Анализ концентрации металлов</a></span></li><li><span><a href=\"#Анализ-распределение-гранул-сырья\" data-toc-modified-id=\"Анализ-распределение-гранул-сырья-2.2\"><span class=\"toc-item-num\">2.2&nbsp;&nbsp;</span>Анализ распределение гранул сырья</a></span></li><li><span><a href=\"#Анализ-суммарной-концентрации-веществ\" data-toc-modified-id=\"Анализ-суммарной-концентрации-веществ-2.3\"><span class=\"toc-item-num\">2.3&nbsp;&nbsp;</span>Анализ суммарной концентрации веществ</a></span></li></ul></li><li><span><a href=\"#Модель\" data-toc-modified-id=\"Модель-3\"><span class=\"toc-item-num\">3&nbsp;&nbsp;</span>Модель</a></span><ul class=\"toc-item\"><li><span><a href=\"#Функция-для-вычисления-sMAPE\" data-toc-modified-id=\"Функция-для-вычисления-sMAPE-3.1\"><span class=\"toc-item-num\">3.1&nbsp;&nbsp;</span>Функция для вычисления sMAPE</a></span></li><li><span><a href=\"#Обучение-моделей\" data-toc-modified-id=\"Обучение-моделей-3.2\"><span class=\"toc-item-num\">3.2&nbsp;&nbsp;</span>Обучение моделей</a></span></li></ul></li><li><span><a href=\"#Чек-лист-готовности-проекта\" data-toc-modified-id=\"Чек-лист-готовности-проекта-4\"><span class=\"toc-item-num\">4&nbsp;&nbsp;</span>Чек-лист готовности проекта</a></span></li></ul></div>"
   ]
  },
  {
   "cell_type": "markdown",
   "metadata": {},
   "source": [
    "# Восстановление золота из руды"
   ]
  },
  {
   "cell_type": "markdown",
   "metadata": {},
   "source": [
    "Необходимо подготовить прототип модели машинного обучения для «Цифры». Компания разрабатывает решения для эффективной работы промышленных предприятий.\n",
    "\n",
    "Модель должна предсказать коэффициент восстановления золота из золотосодержащей руды. Используем данные с параметрами добычи и очистки. \n",
    "\n",
    "Модель поможет оптимизировать производство, чтобы не запускать предприятие с убыточными характеристиками.\n",
    "\n",
    "Данные находятся в трёх файлах:\n",
    "* \t\tgold_recovery_train_new.csv — обучающая выборка;\n",
    "* \t\tgold_recovery_test_new.csv — тестовая выборка;\n",
    "* \t\tgold_recovery_full_new.csv — исходные данные.\n",
    "\n",
    "Данные индексируются датой и временем получения информации (признак date). Соседние по времени параметры часто похожи.\n",
    "\n",
    "Некоторые параметры недоступны, потому что замеряются и/или рассчитываются значительно позже. Из-за этого в тестовой выборке отсутствуют некоторые признаки, которые могут быть в обучающей. Также в тестовом наборе нет целевых признаков.\n",
    "\n",
    "Исходный датасет содержит обучающую и тестовую выборки со всеми признаками.\n",
    "\n",
    "В вашем распоряжении сырые данные: их просто выгрузили из хранилища. Прежде чем приступить к построению модели, проверьте по нашей инструкции их на корректность."
   ]
  },
  {
   "cell_type": "markdown",
   "metadata": {},
   "source": [
    "## Подготовка данных"
   ]
  },
  {
   "cell_type": "code",
   "execution_count": 1,
   "metadata": {},
   "outputs": [],
   "source": [
    "# Загрузим все необходимые библиотеки:\n",
    "import pandas as pd\n",
    "import numpy as np\n",
    "import matplotlib.pyplot as plt\n",
    "import seaborn as sns\n",
    "from sklearn.model_selection import train_test_split\n",
    "from sklearn.metrics import mean_absolute_error\n",
    "from sklearn.metrics import mean_squared_error\n",
    "from sklearn.metrics import fbeta_score, make_scorer\n",
    "from sklearn.model_selection import cross_val_score\n",
    "from sklearn.model_selection import GridSearchCV\n",
    "from sklearn.dummy import DummyRegressor\n",
    "from sklearn.tree import DecisionTreeRegressor\n",
    "from sklearn.ensemble import RandomForestRegressor\n",
    "from sklearn.linear_model import LinearRegression\n",
    "from sklearn.preprocessing import StandardScaler\n",
    "from sklearn.pipeline import make_pipeline\n",
    "from sklearn.svm import LinearSVC\n",
    "import warnings \n",
    "warnings.filterwarnings('ignore')"
   ]
  },
  {
   "cell_type": "code",
   "execution_count": 2,
   "metadata": {
    "scrolled": true
   },
   "outputs": [
    {
     "name": "stdout",
     "output_type": "stream",
     "text": [
      "<class 'pandas.core.frame.DataFrame'>\n",
      "RangeIndex: 14149 entries, 0 to 14148\n",
      "Data columns (total 87 columns):\n",
      " #   Column                                              Non-Null Count  Dtype  \n",
      "---  ------                                              --------------  -----  \n",
      " 0   date                                                14149 non-null  object \n",
      " 1   final.output.concentrate_ag                         14148 non-null  float64\n",
      " 2   final.output.concentrate_pb                         14148 non-null  float64\n",
      " 3   final.output.concentrate_sol                        13938 non-null  float64\n",
      " 4   final.output.concentrate_au                         14149 non-null  float64\n",
      " 5   final.output.recovery                               14149 non-null  float64\n",
      " 6   final.output.tail_ag                                14149 non-null  float64\n",
      " 7   final.output.tail_pb                                14049 non-null  float64\n",
      " 8   final.output.tail_sol                               14144 non-null  float64\n",
      " 9   final.output.tail_au                                14149 non-null  float64\n",
      " 10  primary_cleaner.input.sulfate                       14129 non-null  float64\n",
      " 11  primary_cleaner.input.depressant                    14117 non-null  float64\n",
      " 12  primary_cleaner.input.feed_size                     14149 non-null  float64\n",
      " 13  primary_cleaner.input.xanthate                      14049 non-null  float64\n",
      " 14  primary_cleaner.output.concentrate_ag               14149 non-null  float64\n",
      " 15  primary_cleaner.output.concentrate_pb               14063 non-null  float64\n",
      " 16  primary_cleaner.output.concentrate_sol              13863 non-null  float64\n",
      " 17  primary_cleaner.output.concentrate_au               14149 non-null  float64\n",
      " 18  primary_cleaner.output.tail_ag                      14148 non-null  float64\n",
      " 19  primary_cleaner.output.tail_pb                      14134 non-null  float64\n",
      " 20  primary_cleaner.output.tail_sol                     14103 non-null  float64\n",
      " 21  primary_cleaner.output.tail_au                      14149 non-null  float64\n",
      " 22  primary_cleaner.state.floatbank8_a_air              14145 non-null  float64\n",
      " 23  primary_cleaner.state.floatbank8_a_level            14148 non-null  float64\n",
      " 24  primary_cleaner.state.floatbank8_b_air              14145 non-null  float64\n",
      " 25  primary_cleaner.state.floatbank8_b_level            14148 non-null  float64\n",
      " 26  primary_cleaner.state.floatbank8_c_air              14147 non-null  float64\n",
      " 27  primary_cleaner.state.floatbank8_c_level            14148 non-null  float64\n",
      " 28  primary_cleaner.state.floatbank8_d_air              14146 non-null  float64\n",
      " 29  primary_cleaner.state.floatbank8_d_level            14148 non-null  float64\n",
      " 30  rougher.calculation.sulfate_to_au_concentrate       14148 non-null  float64\n",
      " 31  rougher.calculation.floatbank10_sulfate_to_au_feed  14148 non-null  float64\n",
      " 32  rougher.calculation.floatbank11_sulfate_to_au_feed  14148 non-null  float64\n",
      " 33  rougher.calculation.au_pb_ratio                     14149 non-null  float64\n",
      " 34  rougher.input.feed_ag                               14149 non-null  float64\n",
      " 35  rougher.input.feed_pb                               14049 non-null  float64\n",
      " 36  rougher.input.feed_rate                             14141 non-null  float64\n",
      " 37  rougher.input.feed_size                             14005 non-null  float64\n",
      " 38  rougher.input.feed_sol                              14071 non-null  float64\n",
      " 39  rougher.input.feed_au                               14149 non-null  float64\n",
      " 40  rougher.input.floatbank10_sulfate                   14120 non-null  float64\n",
      " 41  rougher.input.floatbank10_xanthate                  14141 non-null  float64\n",
      " 42  rougher.input.floatbank11_sulfate                   14113 non-null  float64\n",
      " 43  rougher.input.floatbank11_xanthate                  13721 non-null  float64\n",
      " 44  rougher.output.concentrate_ag                       14149 non-null  float64\n",
      " 45  rougher.output.concentrate_pb                       14149 non-null  float64\n",
      " 46  rougher.output.concentrate_sol                      14127 non-null  float64\n",
      " 47  rougher.output.concentrate_au                       14149 non-null  float64\n",
      " 48  rougher.output.recovery                             14149 non-null  float64\n",
      " 49  rougher.output.tail_ag                              14148 non-null  float64\n",
      " 50  rougher.output.tail_pb                              14149 non-null  float64\n",
      " 51  rougher.output.tail_sol                             14149 non-null  float64\n",
      " 52  rougher.output.tail_au                              14149 non-null  float64\n",
      " 53  rougher.state.floatbank10_a_air                     14148 non-null  float64\n",
      " 54  rougher.state.floatbank10_a_level                   14148 non-null  float64\n",
      " 55  rougher.state.floatbank10_b_air                     14148 non-null  float64\n",
      " 56  rougher.state.floatbank10_b_level                   14148 non-null  float64\n",
      " 57  rougher.state.floatbank10_c_air                     14148 non-null  float64\n",
      " 58  rougher.state.floatbank10_c_level                   14148 non-null  float64\n",
      " 59  rougher.state.floatbank10_d_air                     14149 non-null  float64\n",
      " 60  rougher.state.floatbank10_d_level                   14149 non-null  float64\n",
      " 61  rougher.state.floatbank10_e_air                     13713 non-null  float64\n",
      " 62  rougher.state.floatbank10_e_level                   14149 non-null  float64\n",
      " 63  rougher.state.floatbank10_f_air                     14149 non-null  float64\n",
      " 64  rougher.state.floatbank10_f_level                   14149 non-null  float64\n",
      " 65  secondary_cleaner.output.tail_ag                    14147 non-null  float64\n",
      " 66  secondary_cleaner.output.tail_pb                    14139 non-null  float64\n",
      " 67  secondary_cleaner.output.tail_sol                   12544 non-null  float64\n",
      " 68  secondary_cleaner.output.tail_au                    14149 non-null  float64\n",
      " 69  secondary_cleaner.state.floatbank2_a_air            13932 non-null  float64\n",
      " 70  secondary_cleaner.state.floatbank2_a_level          14148 non-null  float64\n",
      " 71  secondary_cleaner.state.floatbank2_b_air            14128 non-null  float64\n",
      " 72  secondary_cleaner.state.floatbank2_b_level          14148 non-null  float64\n",
      " 73  secondary_cleaner.state.floatbank3_a_air            14145 non-null  float64\n",
      " 74  secondary_cleaner.state.floatbank3_a_level          14148 non-null  float64\n",
      " 75  secondary_cleaner.state.floatbank3_b_air            14148 non-null  float64\n",
      " 76  secondary_cleaner.state.floatbank3_b_level          14148 non-null  float64\n",
      " 77  secondary_cleaner.state.floatbank4_a_air            14143 non-null  float64\n",
      " 78  secondary_cleaner.state.floatbank4_a_level          14148 non-null  float64\n",
      " 79  secondary_cleaner.state.floatbank4_b_air            14148 non-null  float64\n",
      " 80  secondary_cleaner.state.floatbank4_b_level          14148 non-null  float64\n",
      " 81  secondary_cleaner.state.floatbank5_a_air            14148 non-null  float64\n",
      " 82  secondary_cleaner.state.floatbank5_a_level          14148 non-null  float64\n",
      " 83  secondary_cleaner.state.floatbank5_b_air            14148 non-null  float64\n",
      " 84  secondary_cleaner.state.floatbank5_b_level          14148 non-null  float64\n",
      " 85  secondary_cleaner.state.floatbank6_a_air            14147 non-null  float64\n",
      " 86  secondary_cleaner.state.floatbank6_a_level          14148 non-null  float64\n",
      "dtypes: float64(86), object(1)\n",
      "memory usage: 9.4+ MB\n"
     ]
    },
    {
     "data": {
      "text/html": [
       "<div>\n",
       "<style scoped>\n",
       "    .dataframe tbody tr th:only-of-type {\n",
       "        vertical-align: middle;\n",
       "    }\n",
       "\n",
       "    .dataframe tbody tr th {\n",
       "        vertical-align: top;\n",
       "    }\n",
       "\n",
       "    .dataframe thead th {\n",
       "        text-align: right;\n",
       "    }\n",
       "</style>\n",
       "<table border=\"1\" class=\"dataframe\">\n",
       "  <thead>\n",
       "    <tr style=\"text-align: right;\">\n",
       "      <th></th>\n",
       "      <th>date</th>\n",
       "      <th>final.output.concentrate_ag</th>\n",
       "      <th>final.output.concentrate_pb</th>\n",
       "      <th>final.output.concentrate_sol</th>\n",
       "      <th>final.output.concentrate_au</th>\n",
       "      <th>final.output.recovery</th>\n",
       "      <th>final.output.tail_ag</th>\n",
       "      <th>final.output.tail_pb</th>\n",
       "      <th>final.output.tail_sol</th>\n",
       "      <th>final.output.tail_au</th>\n",
       "      <th>...</th>\n",
       "      <th>secondary_cleaner.state.floatbank4_a_air</th>\n",
       "      <th>secondary_cleaner.state.floatbank4_a_level</th>\n",
       "      <th>secondary_cleaner.state.floatbank4_b_air</th>\n",
       "      <th>secondary_cleaner.state.floatbank4_b_level</th>\n",
       "      <th>secondary_cleaner.state.floatbank5_a_air</th>\n",
       "      <th>secondary_cleaner.state.floatbank5_a_level</th>\n",
       "      <th>secondary_cleaner.state.floatbank5_b_air</th>\n",
       "      <th>secondary_cleaner.state.floatbank5_b_level</th>\n",
       "      <th>secondary_cleaner.state.floatbank6_a_air</th>\n",
       "      <th>secondary_cleaner.state.floatbank6_a_level</th>\n",
       "    </tr>\n",
       "  </thead>\n",
       "  <tbody>\n",
       "    <tr>\n",
       "      <th>0</th>\n",
       "      <td>2016-01-15 00:00:00</td>\n",
       "      <td>6.055403</td>\n",
       "      <td>9.889648</td>\n",
       "      <td>5.507324</td>\n",
       "      <td>42.192020</td>\n",
       "      <td>70.541216</td>\n",
       "      <td>10.411962</td>\n",
       "      <td>0.895447</td>\n",
       "      <td>16.904297</td>\n",
       "      <td>2.143149</td>\n",
       "      <td>...</td>\n",
       "      <td>14.016835</td>\n",
       "      <td>-502.488007</td>\n",
       "      <td>12.099931</td>\n",
       "      <td>-504.715942</td>\n",
       "      <td>9.925633</td>\n",
       "      <td>-498.310211</td>\n",
       "      <td>8.079666</td>\n",
       "      <td>-500.470978</td>\n",
       "      <td>14.151341</td>\n",
       "      <td>-605.841980</td>\n",
       "    </tr>\n",
       "    <tr>\n",
       "      <th>1</th>\n",
       "      <td>2016-01-15 01:00:00</td>\n",
       "      <td>6.029369</td>\n",
       "      <td>9.968944</td>\n",
       "      <td>5.257781</td>\n",
       "      <td>42.701629</td>\n",
       "      <td>69.266198</td>\n",
       "      <td>10.462676</td>\n",
       "      <td>0.927452</td>\n",
       "      <td>16.634514</td>\n",
       "      <td>2.224930</td>\n",
       "      <td>...</td>\n",
       "      <td>13.992281</td>\n",
       "      <td>-505.503262</td>\n",
       "      <td>11.950531</td>\n",
       "      <td>-501.331529</td>\n",
       "      <td>10.039245</td>\n",
       "      <td>-500.169983</td>\n",
       "      <td>7.984757</td>\n",
       "      <td>-500.582168</td>\n",
       "      <td>13.998353</td>\n",
       "      <td>-599.787184</td>\n",
       "    </tr>\n",
       "    <tr>\n",
       "      <th>2</th>\n",
       "      <td>2016-01-15 02:00:00</td>\n",
       "      <td>6.055926</td>\n",
       "      <td>10.213995</td>\n",
       "      <td>5.383759</td>\n",
       "      <td>42.657501</td>\n",
       "      <td>68.116445</td>\n",
       "      <td>10.507046</td>\n",
       "      <td>0.953716</td>\n",
       "      <td>16.208849</td>\n",
       "      <td>2.257889</td>\n",
       "      <td>...</td>\n",
       "      <td>14.015015</td>\n",
       "      <td>-502.520901</td>\n",
       "      <td>11.912783</td>\n",
       "      <td>-501.133383</td>\n",
       "      <td>10.070913</td>\n",
       "      <td>-500.129135</td>\n",
       "      <td>8.013877</td>\n",
       "      <td>-500.517572</td>\n",
       "      <td>14.028663</td>\n",
       "      <td>-601.427363</td>\n",
       "    </tr>\n",
       "    <tr>\n",
       "      <th>3</th>\n",
       "      <td>2016-01-15 03:00:00</td>\n",
       "      <td>6.047977</td>\n",
       "      <td>9.977019</td>\n",
       "      <td>4.858634</td>\n",
       "      <td>42.689819</td>\n",
       "      <td>68.347543</td>\n",
       "      <td>10.422762</td>\n",
       "      <td>0.883763</td>\n",
       "      <td>16.532835</td>\n",
       "      <td>2.146849</td>\n",
       "      <td>...</td>\n",
       "      <td>14.036510</td>\n",
       "      <td>-500.857308</td>\n",
       "      <td>11.999550</td>\n",
       "      <td>-501.193686</td>\n",
       "      <td>9.970366</td>\n",
       "      <td>-499.201640</td>\n",
       "      <td>7.977324</td>\n",
       "      <td>-500.255908</td>\n",
       "      <td>14.005551</td>\n",
       "      <td>-599.996129</td>\n",
       "    </tr>\n",
       "    <tr>\n",
       "      <th>4</th>\n",
       "      <td>2016-01-15 04:00:00</td>\n",
       "      <td>6.148599</td>\n",
       "      <td>10.142511</td>\n",
       "      <td>4.939416</td>\n",
       "      <td>42.774141</td>\n",
       "      <td>66.927016</td>\n",
       "      <td>10.360302</td>\n",
       "      <td>0.792826</td>\n",
       "      <td>16.525686</td>\n",
       "      <td>2.055292</td>\n",
       "      <td>...</td>\n",
       "      <td>14.027298</td>\n",
       "      <td>-499.838632</td>\n",
       "      <td>11.953070</td>\n",
       "      <td>-501.053894</td>\n",
       "      <td>9.925709</td>\n",
       "      <td>-501.686727</td>\n",
       "      <td>7.894242</td>\n",
       "      <td>-500.356035</td>\n",
       "      <td>13.996647</td>\n",
       "      <td>-601.496691</td>\n",
       "    </tr>\n",
       "  </tbody>\n",
       "</table>\n",
       "<p>5 rows × 87 columns</p>\n",
       "</div>"
      ],
      "text/plain": [
       "                  date  final.output.concentrate_ag  \\\n",
       "0  2016-01-15 00:00:00                     6.055403   \n",
       "1  2016-01-15 01:00:00                     6.029369   \n",
       "2  2016-01-15 02:00:00                     6.055926   \n",
       "3  2016-01-15 03:00:00                     6.047977   \n",
       "4  2016-01-15 04:00:00                     6.148599   \n",
       "\n",
       "   final.output.concentrate_pb  final.output.concentrate_sol  \\\n",
       "0                     9.889648                      5.507324   \n",
       "1                     9.968944                      5.257781   \n",
       "2                    10.213995                      5.383759   \n",
       "3                     9.977019                      4.858634   \n",
       "4                    10.142511                      4.939416   \n",
       "\n",
       "   final.output.concentrate_au  final.output.recovery  final.output.tail_ag  \\\n",
       "0                    42.192020              70.541216             10.411962   \n",
       "1                    42.701629              69.266198             10.462676   \n",
       "2                    42.657501              68.116445             10.507046   \n",
       "3                    42.689819              68.347543             10.422762   \n",
       "4                    42.774141              66.927016             10.360302   \n",
       "\n",
       "   final.output.tail_pb  final.output.tail_sol  final.output.tail_au  ...  \\\n",
       "0              0.895447              16.904297              2.143149  ...   \n",
       "1              0.927452              16.634514              2.224930  ...   \n",
       "2              0.953716              16.208849              2.257889  ...   \n",
       "3              0.883763              16.532835              2.146849  ...   \n",
       "4              0.792826              16.525686              2.055292  ...   \n",
       "\n",
       "   secondary_cleaner.state.floatbank4_a_air  \\\n",
       "0                                 14.016835   \n",
       "1                                 13.992281   \n",
       "2                                 14.015015   \n",
       "3                                 14.036510   \n",
       "4                                 14.027298   \n",
       "\n",
       "   secondary_cleaner.state.floatbank4_a_level  \\\n",
       "0                                 -502.488007   \n",
       "1                                 -505.503262   \n",
       "2                                 -502.520901   \n",
       "3                                 -500.857308   \n",
       "4                                 -499.838632   \n",
       "\n",
       "   secondary_cleaner.state.floatbank4_b_air  \\\n",
       "0                                 12.099931   \n",
       "1                                 11.950531   \n",
       "2                                 11.912783   \n",
       "3                                 11.999550   \n",
       "4                                 11.953070   \n",
       "\n",
       "   secondary_cleaner.state.floatbank4_b_level  \\\n",
       "0                                 -504.715942   \n",
       "1                                 -501.331529   \n",
       "2                                 -501.133383   \n",
       "3                                 -501.193686   \n",
       "4                                 -501.053894   \n",
       "\n",
       "   secondary_cleaner.state.floatbank5_a_air  \\\n",
       "0                                  9.925633   \n",
       "1                                 10.039245   \n",
       "2                                 10.070913   \n",
       "3                                  9.970366   \n",
       "4                                  9.925709   \n",
       "\n",
       "   secondary_cleaner.state.floatbank5_a_level  \\\n",
       "0                                 -498.310211   \n",
       "1                                 -500.169983   \n",
       "2                                 -500.129135   \n",
       "3                                 -499.201640   \n",
       "4                                 -501.686727   \n",
       "\n",
       "   secondary_cleaner.state.floatbank5_b_air  \\\n",
       "0                                  8.079666   \n",
       "1                                  7.984757   \n",
       "2                                  8.013877   \n",
       "3                                  7.977324   \n",
       "4                                  7.894242   \n",
       "\n",
       "   secondary_cleaner.state.floatbank5_b_level  \\\n",
       "0                                 -500.470978   \n",
       "1                                 -500.582168   \n",
       "2                                 -500.517572   \n",
       "3                                 -500.255908   \n",
       "4                                 -500.356035   \n",
       "\n",
       "   secondary_cleaner.state.floatbank6_a_air  \\\n",
       "0                                 14.151341   \n",
       "1                                 13.998353   \n",
       "2                                 14.028663   \n",
       "3                                 14.005551   \n",
       "4                                 13.996647   \n",
       "\n",
       "   secondary_cleaner.state.floatbank6_a_level  \n",
       "0                                 -605.841980  \n",
       "1                                 -599.787184  \n",
       "2                                 -601.427363  \n",
       "3                                 -599.996129  \n",
       "4                                 -601.496691  \n",
       "\n",
       "[5 rows x 87 columns]"
      ]
     },
     "metadata": {},
     "output_type": "display_data"
    },
    {
     "name": "stdout",
     "output_type": "stream",
     "text": [
      "<class 'pandas.core.frame.DataFrame'>\n",
      "RangeIndex: 5290 entries, 0 to 5289\n",
      "Data columns (total 53 columns):\n",
      " #   Column                                      Non-Null Count  Dtype  \n",
      "---  ------                                      --------------  -----  \n",
      " 0   date                                        5290 non-null   object \n",
      " 1   primary_cleaner.input.sulfate               5286 non-null   float64\n",
      " 2   primary_cleaner.input.depressant            5285 non-null   float64\n",
      " 3   primary_cleaner.input.feed_size             5290 non-null   float64\n",
      " 4   primary_cleaner.input.xanthate              5286 non-null   float64\n",
      " 5   primary_cleaner.state.floatbank8_a_air      5290 non-null   float64\n",
      " 6   primary_cleaner.state.floatbank8_a_level    5290 non-null   float64\n",
      " 7   primary_cleaner.state.floatbank8_b_air      5290 non-null   float64\n",
      " 8   primary_cleaner.state.floatbank8_b_level    5290 non-null   float64\n",
      " 9   primary_cleaner.state.floatbank8_c_air      5290 non-null   float64\n",
      " 10  primary_cleaner.state.floatbank8_c_level    5290 non-null   float64\n",
      " 11  primary_cleaner.state.floatbank8_d_air      5290 non-null   float64\n",
      " 12  primary_cleaner.state.floatbank8_d_level    5290 non-null   float64\n",
      " 13  rougher.input.feed_ag                       5290 non-null   float64\n",
      " 14  rougher.input.feed_pb                       5290 non-null   float64\n",
      " 15  rougher.input.feed_rate                     5287 non-null   float64\n",
      " 16  rougher.input.feed_size                     5289 non-null   float64\n",
      " 17  rougher.input.feed_sol                      5269 non-null   float64\n",
      " 18  rougher.input.feed_au                       5290 non-null   float64\n",
      " 19  rougher.input.floatbank10_sulfate           5285 non-null   float64\n",
      " 20  rougher.input.floatbank10_xanthate          5290 non-null   float64\n",
      " 21  rougher.input.floatbank11_sulfate           5282 non-null   float64\n",
      " 22  rougher.input.floatbank11_xanthate          5265 non-null   float64\n",
      " 23  rougher.state.floatbank10_a_air             5290 non-null   float64\n",
      " 24  rougher.state.floatbank10_a_level           5290 non-null   float64\n",
      " 25  rougher.state.floatbank10_b_air             5290 non-null   float64\n",
      " 26  rougher.state.floatbank10_b_level           5290 non-null   float64\n",
      " 27  rougher.state.floatbank10_c_air             5290 non-null   float64\n",
      " 28  rougher.state.floatbank10_c_level           5290 non-null   float64\n",
      " 29  rougher.state.floatbank10_d_air             5290 non-null   float64\n",
      " 30  rougher.state.floatbank10_d_level           5290 non-null   float64\n",
      " 31  rougher.state.floatbank10_e_air             5290 non-null   float64\n",
      " 32  rougher.state.floatbank10_e_level           5290 non-null   float64\n",
      " 33  rougher.state.floatbank10_f_air             5290 non-null   float64\n",
      " 34  rougher.state.floatbank10_f_level           5290 non-null   float64\n",
      " 35  secondary_cleaner.state.floatbank2_a_air    5287 non-null   float64\n",
      " 36  secondary_cleaner.state.floatbank2_a_level  5290 non-null   float64\n",
      " 37  secondary_cleaner.state.floatbank2_b_air    5288 non-null   float64\n",
      " 38  secondary_cleaner.state.floatbank2_b_level  5290 non-null   float64\n",
      " 39  secondary_cleaner.state.floatbank3_a_air    5281 non-null   float64\n",
      " 40  secondary_cleaner.state.floatbank3_a_level  5290 non-null   float64\n",
      " 41  secondary_cleaner.state.floatbank3_b_air    5290 non-null   float64\n",
      " 42  secondary_cleaner.state.floatbank3_b_level  5290 non-null   float64\n",
      " 43  secondary_cleaner.state.floatbank4_a_air    5290 non-null   float64\n",
      " 44  secondary_cleaner.state.floatbank4_a_level  5290 non-null   float64\n",
      " 45  secondary_cleaner.state.floatbank4_b_air    5290 non-null   float64\n",
      " 46  secondary_cleaner.state.floatbank4_b_level  5290 non-null   float64\n",
      " 47  secondary_cleaner.state.floatbank5_a_air    5290 non-null   float64\n",
      " 48  secondary_cleaner.state.floatbank5_a_level  5290 non-null   float64\n",
      " 49  secondary_cleaner.state.floatbank5_b_air    5290 non-null   float64\n",
      " 50  secondary_cleaner.state.floatbank5_b_level  5290 non-null   float64\n",
      " 51  secondary_cleaner.state.floatbank6_a_air    5290 non-null   float64\n",
      " 52  secondary_cleaner.state.floatbank6_a_level  5290 non-null   float64\n",
      "dtypes: float64(52), object(1)\n",
      "memory usage: 2.1+ MB\n"
     ]
    },
    {
     "data": {
      "text/html": [
       "<div>\n",
       "<style scoped>\n",
       "    .dataframe tbody tr th:only-of-type {\n",
       "        vertical-align: middle;\n",
       "    }\n",
       "\n",
       "    .dataframe tbody tr th {\n",
       "        vertical-align: top;\n",
       "    }\n",
       "\n",
       "    .dataframe thead th {\n",
       "        text-align: right;\n",
       "    }\n",
       "</style>\n",
       "<table border=\"1\" class=\"dataframe\">\n",
       "  <thead>\n",
       "    <tr style=\"text-align: right;\">\n",
       "      <th></th>\n",
       "      <th>date</th>\n",
       "      <th>primary_cleaner.input.sulfate</th>\n",
       "      <th>primary_cleaner.input.depressant</th>\n",
       "      <th>primary_cleaner.input.feed_size</th>\n",
       "      <th>primary_cleaner.input.xanthate</th>\n",
       "      <th>primary_cleaner.state.floatbank8_a_air</th>\n",
       "      <th>primary_cleaner.state.floatbank8_a_level</th>\n",
       "      <th>primary_cleaner.state.floatbank8_b_air</th>\n",
       "      <th>primary_cleaner.state.floatbank8_b_level</th>\n",
       "      <th>primary_cleaner.state.floatbank8_c_air</th>\n",
       "      <th>...</th>\n",
       "      <th>secondary_cleaner.state.floatbank4_a_air</th>\n",
       "      <th>secondary_cleaner.state.floatbank4_a_level</th>\n",
       "      <th>secondary_cleaner.state.floatbank4_b_air</th>\n",
       "      <th>secondary_cleaner.state.floatbank4_b_level</th>\n",
       "      <th>secondary_cleaner.state.floatbank5_a_air</th>\n",
       "      <th>secondary_cleaner.state.floatbank5_a_level</th>\n",
       "      <th>secondary_cleaner.state.floatbank5_b_air</th>\n",
       "      <th>secondary_cleaner.state.floatbank5_b_level</th>\n",
       "      <th>secondary_cleaner.state.floatbank6_a_air</th>\n",
       "      <th>secondary_cleaner.state.floatbank6_a_level</th>\n",
       "    </tr>\n",
       "  </thead>\n",
       "  <tbody>\n",
       "    <tr>\n",
       "      <th>0</th>\n",
       "      <td>2016-09-01 00:59:59</td>\n",
       "      <td>210.800909</td>\n",
       "      <td>14.993118</td>\n",
       "      <td>8.080000</td>\n",
       "      <td>1.005021</td>\n",
       "      <td>1398.981301</td>\n",
       "      <td>-500.225577</td>\n",
       "      <td>1399.144926</td>\n",
       "      <td>-499.919735</td>\n",
       "      <td>1400.102998</td>\n",
       "      <td>...</td>\n",
       "      <td>12.023554</td>\n",
       "      <td>-497.795834</td>\n",
       "      <td>8.016656</td>\n",
       "      <td>-501.289139</td>\n",
       "      <td>7.946562</td>\n",
       "      <td>-432.317850</td>\n",
       "      <td>4.872511</td>\n",
       "      <td>-500.037437</td>\n",
       "      <td>26.705889</td>\n",
       "      <td>-499.709414</td>\n",
       "    </tr>\n",
       "    <tr>\n",
       "      <th>1</th>\n",
       "      <td>2016-09-01 01:59:59</td>\n",
       "      <td>215.392455</td>\n",
       "      <td>14.987471</td>\n",
       "      <td>8.080000</td>\n",
       "      <td>0.990469</td>\n",
       "      <td>1398.777912</td>\n",
       "      <td>-500.057435</td>\n",
       "      <td>1398.055362</td>\n",
       "      <td>-499.778182</td>\n",
       "      <td>1396.151033</td>\n",
       "      <td>...</td>\n",
       "      <td>12.058140</td>\n",
       "      <td>-498.695773</td>\n",
       "      <td>8.130979</td>\n",
       "      <td>-499.634209</td>\n",
       "      <td>7.958270</td>\n",
       "      <td>-525.839648</td>\n",
       "      <td>4.878850</td>\n",
       "      <td>-500.162375</td>\n",
       "      <td>25.019940</td>\n",
       "      <td>-499.819438</td>\n",
       "    </tr>\n",
       "    <tr>\n",
       "      <th>2</th>\n",
       "      <td>2016-09-01 02:59:59</td>\n",
       "      <td>215.259946</td>\n",
       "      <td>12.884934</td>\n",
       "      <td>7.786667</td>\n",
       "      <td>0.996043</td>\n",
       "      <td>1398.493666</td>\n",
       "      <td>-500.868360</td>\n",
       "      <td>1398.860436</td>\n",
       "      <td>-499.764529</td>\n",
       "      <td>1398.075709</td>\n",
       "      <td>...</td>\n",
       "      <td>11.962366</td>\n",
       "      <td>-498.767484</td>\n",
       "      <td>8.096893</td>\n",
       "      <td>-500.827423</td>\n",
       "      <td>8.071056</td>\n",
       "      <td>-500.801673</td>\n",
       "      <td>4.905125</td>\n",
       "      <td>-499.828510</td>\n",
       "      <td>24.994862</td>\n",
       "      <td>-500.622559</td>\n",
       "    </tr>\n",
       "    <tr>\n",
       "      <th>3</th>\n",
       "      <td>2016-09-01 03:59:59</td>\n",
       "      <td>215.336236</td>\n",
       "      <td>12.006805</td>\n",
       "      <td>7.640000</td>\n",
       "      <td>0.863514</td>\n",
       "      <td>1399.618111</td>\n",
       "      <td>-498.863574</td>\n",
       "      <td>1397.440120</td>\n",
       "      <td>-499.211024</td>\n",
       "      <td>1400.129303</td>\n",
       "      <td>...</td>\n",
       "      <td>12.033091</td>\n",
       "      <td>-498.350935</td>\n",
       "      <td>8.074946</td>\n",
       "      <td>-499.474407</td>\n",
       "      <td>7.897085</td>\n",
       "      <td>-500.868509</td>\n",
       "      <td>4.931400</td>\n",
       "      <td>-499.963623</td>\n",
       "      <td>24.948919</td>\n",
       "      <td>-498.709987</td>\n",
       "    </tr>\n",
       "    <tr>\n",
       "      <th>4</th>\n",
       "      <td>2016-09-01 04:59:59</td>\n",
       "      <td>199.099327</td>\n",
       "      <td>10.682530</td>\n",
       "      <td>7.530000</td>\n",
       "      <td>0.805575</td>\n",
       "      <td>1401.268123</td>\n",
       "      <td>-500.808305</td>\n",
       "      <td>1398.128818</td>\n",
       "      <td>-499.504543</td>\n",
       "      <td>1402.172226</td>\n",
       "      <td>...</td>\n",
       "      <td>12.025367</td>\n",
       "      <td>-500.786497</td>\n",
       "      <td>8.054678</td>\n",
       "      <td>-500.397500</td>\n",
       "      <td>8.107890</td>\n",
       "      <td>-509.526725</td>\n",
       "      <td>4.957674</td>\n",
       "      <td>-500.360026</td>\n",
       "      <td>25.003331</td>\n",
       "      <td>-500.856333</td>\n",
       "    </tr>\n",
       "  </tbody>\n",
       "</table>\n",
       "<p>5 rows × 53 columns</p>\n",
       "</div>"
      ],
      "text/plain": [
       "                  date  primary_cleaner.input.sulfate  \\\n",
       "0  2016-09-01 00:59:59                     210.800909   \n",
       "1  2016-09-01 01:59:59                     215.392455   \n",
       "2  2016-09-01 02:59:59                     215.259946   \n",
       "3  2016-09-01 03:59:59                     215.336236   \n",
       "4  2016-09-01 04:59:59                     199.099327   \n",
       "\n",
       "   primary_cleaner.input.depressant  primary_cleaner.input.feed_size  \\\n",
       "0                         14.993118                         8.080000   \n",
       "1                         14.987471                         8.080000   \n",
       "2                         12.884934                         7.786667   \n",
       "3                         12.006805                         7.640000   \n",
       "4                         10.682530                         7.530000   \n",
       "\n",
       "   primary_cleaner.input.xanthate  primary_cleaner.state.floatbank8_a_air  \\\n",
       "0                        1.005021                             1398.981301   \n",
       "1                        0.990469                             1398.777912   \n",
       "2                        0.996043                             1398.493666   \n",
       "3                        0.863514                             1399.618111   \n",
       "4                        0.805575                             1401.268123   \n",
       "\n",
       "   primary_cleaner.state.floatbank8_a_level  \\\n",
       "0                               -500.225577   \n",
       "1                               -500.057435   \n",
       "2                               -500.868360   \n",
       "3                               -498.863574   \n",
       "4                               -500.808305   \n",
       "\n",
       "   primary_cleaner.state.floatbank8_b_air  \\\n",
       "0                             1399.144926   \n",
       "1                             1398.055362   \n",
       "2                             1398.860436   \n",
       "3                             1397.440120   \n",
       "4                             1398.128818   \n",
       "\n",
       "   primary_cleaner.state.floatbank8_b_level  \\\n",
       "0                               -499.919735   \n",
       "1                               -499.778182   \n",
       "2                               -499.764529   \n",
       "3                               -499.211024   \n",
       "4                               -499.504543   \n",
       "\n",
       "   primary_cleaner.state.floatbank8_c_air  ...  \\\n",
       "0                             1400.102998  ...   \n",
       "1                             1396.151033  ...   \n",
       "2                             1398.075709  ...   \n",
       "3                             1400.129303  ...   \n",
       "4                             1402.172226  ...   \n",
       "\n",
       "   secondary_cleaner.state.floatbank4_a_air  \\\n",
       "0                                 12.023554   \n",
       "1                                 12.058140   \n",
       "2                                 11.962366   \n",
       "3                                 12.033091   \n",
       "4                                 12.025367   \n",
       "\n",
       "   secondary_cleaner.state.floatbank4_a_level  \\\n",
       "0                                 -497.795834   \n",
       "1                                 -498.695773   \n",
       "2                                 -498.767484   \n",
       "3                                 -498.350935   \n",
       "4                                 -500.786497   \n",
       "\n",
       "   secondary_cleaner.state.floatbank4_b_air  \\\n",
       "0                                  8.016656   \n",
       "1                                  8.130979   \n",
       "2                                  8.096893   \n",
       "3                                  8.074946   \n",
       "4                                  8.054678   \n",
       "\n",
       "   secondary_cleaner.state.floatbank4_b_level  \\\n",
       "0                                 -501.289139   \n",
       "1                                 -499.634209   \n",
       "2                                 -500.827423   \n",
       "3                                 -499.474407   \n",
       "4                                 -500.397500   \n",
       "\n",
       "   secondary_cleaner.state.floatbank5_a_air  \\\n",
       "0                                  7.946562   \n",
       "1                                  7.958270   \n",
       "2                                  8.071056   \n",
       "3                                  7.897085   \n",
       "4                                  8.107890   \n",
       "\n",
       "   secondary_cleaner.state.floatbank5_a_level  \\\n",
       "0                                 -432.317850   \n",
       "1                                 -525.839648   \n",
       "2                                 -500.801673   \n",
       "3                                 -500.868509   \n",
       "4                                 -509.526725   \n",
       "\n",
       "   secondary_cleaner.state.floatbank5_b_air  \\\n",
       "0                                  4.872511   \n",
       "1                                  4.878850   \n",
       "2                                  4.905125   \n",
       "3                                  4.931400   \n",
       "4                                  4.957674   \n",
       "\n",
       "   secondary_cleaner.state.floatbank5_b_level  \\\n",
       "0                                 -500.037437   \n",
       "1                                 -500.162375   \n",
       "2                                 -499.828510   \n",
       "3                                 -499.963623   \n",
       "4                                 -500.360026   \n",
       "\n",
       "   secondary_cleaner.state.floatbank6_a_air  \\\n",
       "0                                 26.705889   \n",
       "1                                 25.019940   \n",
       "2                                 24.994862   \n",
       "3                                 24.948919   \n",
       "4                                 25.003331   \n",
       "\n",
       "   secondary_cleaner.state.floatbank6_a_level  \n",
       "0                                 -499.709414  \n",
       "1                                 -499.819438  \n",
       "2                                 -500.622559  \n",
       "3                                 -498.709987  \n",
       "4                                 -500.856333  \n",
       "\n",
       "[5 rows x 53 columns]"
      ]
     },
     "metadata": {},
     "output_type": "display_data"
    },
    {
     "name": "stdout",
     "output_type": "stream",
     "text": [
      "<class 'pandas.core.frame.DataFrame'>\n",
      "RangeIndex: 19439 entries, 0 to 19438\n",
      "Data columns (total 87 columns):\n",
      " #   Column                                              Non-Null Count  Dtype  \n",
      "---  ------                                              --------------  -----  \n",
      " 0   date                                                19439 non-null  object \n",
      " 1   final.output.concentrate_ag                         19438 non-null  float64\n",
      " 2   final.output.concentrate_pb                         19438 non-null  float64\n",
      " 3   final.output.concentrate_sol                        19228 non-null  float64\n",
      " 4   final.output.concentrate_au                         19439 non-null  float64\n",
      " 5   final.output.recovery                               19439 non-null  float64\n",
      " 6   final.output.tail_ag                                19438 non-null  float64\n",
      " 7   final.output.tail_pb                                19338 non-null  float64\n",
      " 8   final.output.tail_sol                               19433 non-null  float64\n",
      " 9   final.output.tail_au                                19439 non-null  float64\n",
      " 10  primary_cleaner.input.sulfate                       19415 non-null  float64\n",
      " 11  primary_cleaner.input.depressant                    19402 non-null  float64\n",
      " 12  primary_cleaner.input.feed_size                     19439 non-null  float64\n",
      " 13  primary_cleaner.input.xanthate                      19335 non-null  float64\n",
      " 14  primary_cleaner.output.concentrate_ag               19439 non-null  float64\n",
      " 15  primary_cleaner.output.concentrate_pb               19323 non-null  float64\n",
      " 16  primary_cleaner.output.concentrate_sol              19069 non-null  float64\n",
      " 17  primary_cleaner.output.concentrate_au               19439 non-null  float64\n",
      " 18  primary_cleaner.output.tail_ag                      19435 non-null  float64\n",
      " 19  primary_cleaner.output.tail_pb                      19418 non-null  float64\n",
      " 20  primary_cleaner.output.tail_sol                     19377 non-null  float64\n",
      " 21  primary_cleaner.output.tail_au                      19439 non-null  float64\n",
      " 22  primary_cleaner.state.floatbank8_a_air              19435 non-null  float64\n",
      " 23  primary_cleaner.state.floatbank8_a_level            19438 non-null  float64\n",
      " 24  primary_cleaner.state.floatbank8_b_air              19435 non-null  float64\n",
      " 25  primary_cleaner.state.floatbank8_b_level            19438 non-null  float64\n",
      " 26  primary_cleaner.state.floatbank8_c_air              19437 non-null  float64\n",
      " 27  primary_cleaner.state.floatbank8_c_level            19438 non-null  float64\n",
      " 28  primary_cleaner.state.floatbank8_d_air              19436 non-null  float64\n",
      " 29  primary_cleaner.state.floatbank8_d_level            19438 non-null  float64\n",
      " 30  rougher.calculation.sulfate_to_au_concentrate       19437 non-null  float64\n",
      " 31  rougher.calculation.floatbank10_sulfate_to_au_feed  19437 non-null  float64\n",
      " 32  rougher.calculation.floatbank11_sulfate_to_au_feed  19437 non-null  float64\n",
      " 33  rougher.calculation.au_pb_ratio                     19439 non-null  float64\n",
      " 34  rougher.input.feed_ag                               19439 non-null  float64\n",
      " 35  rougher.input.feed_pb                               19339 non-null  float64\n",
      " 36  rougher.input.feed_rate                             19428 non-null  float64\n",
      " 37  rougher.input.feed_size                             19294 non-null  float64\n",
      " 38  rougher.input.feed_sol                              19340 non-null  float64\n",
      " 39  rougher.input.feed_au                               19439 non-null  float64\n",
      " 40  rougher.input.floatbank10_sulfate                   19405 non-null  float64\n",
      " 41  rougher.input.floatbank10_xanthate                  19431 non-null  float64\n",
      " 42  rougher.input.floatbank11_sulfate                   19395 non-null  float64\n",
      " 43  rougher.input.floatbank11_xanthate                  18986 non-null  float64\n",
      " 44  rougher.output.concentrate_ag                       19439 non-null  float64\n",
      " 45  rougher.output.concentrate_pb                       19439 non-null  float64\n",
      " 46  rougher.output.concentrate_sol                      19416 non-null  float64\n",
      " 47  rougher.output.concentrate_au                       19439 non-null  float64\n",
      " 48  rougher.output.recovery                             19439 non-null  float64\n",
      " 49  rougher.output.tail_ag                              19438 non-null  float64\n",
      " 50  rougher.output.tail_pb                              19439 non-null  float64\n",
      " 51  rougher.output.tail_sol                             19439 non-null  float64\n",
      " 52  rougher.output.tail_au                              19439 non-null  float64\n",
      " 53  rougher.state.floatbank10_a_air                     19438 non-null  float64\n",
      " 54  rougher.state.floatbank10_a_level                   19438 non-null  float64\n",
      " 55  rougher.state.floatbank10_b_air                     19438 non-null  float64\n",
      " 56  rougher.state.floatbank10_b_level                   19438 non-null  float64\n",
      " 57  rougher.state.floatbank10_c_air                     19438 non-null  float64\n",
      " 58  rougher.state.floatbank10_c_level                   19438 non-null  float64\n",
      " 59  rougher.state.floatbank10_d_air                     19439 non-null  float64\n",
      " 60  rougher.state.floatbank10_d_level                   19439 non-null  float64\n",
      " 61  rougher.state.floatbank10_e_air                     19003 non-null  float64\n",
      " 62  rougher.state.floatbank10_e_level                   19439 non-null  float64\n",
      " 63  rougher.state.floatbank10_f_air                     19439 non-null  float64\n",
      " 64  rougher.state.floatbank10_f_level                   19439 non-null  float64\n",
      " 65  secondary_cleaner.output.tail_ag                    19437 non-null  float64\n",
      " 66  secondary_cleaner.output.tail_pb                    19427 non-null  float64\n",
      " 67  secondary_cleaner.output.tail_sol                   17691 non-null  float64\n",
      " 68  secondary_cleaner.output.tail_au                    19439 non-null  float64\n",
      " 69  secondary_cleaner.state.floatbank2_a_air            19219 non-null  float64\n",
      " 70  secondary_cleaner.state.floatbank2_a_level          19438 non-null  float64\n",
      " 71  secondary_cleaner.state.floatbank2_b_air            19416 non-null  float64\n",
      " 72  secondary_cleaner.state.floatbank2_b_level          19438 non-null  float64\n",
      " 73  secondary_cleaner.state.floatbank3_a_air            19426 non-null  float64\n",
      " 74  secondary_cleaner.state.floatbank3_a_level          19438 non-null  float64\n",
      " 75  secondary_cleaner.state.floatbank3_b_air            19438 non-null  float64\n",
      " 76  secondary_cleaner.state.floatbank3_b_level          19438 non-null  float64\n",
      " 77  secondary_cleaner.state.floatbank4_a_air            19433 non-null  float64\n",
      " 78  secondary_cleaner.state.floatbank4_a_level          19438 non-null  float64\n",
      " 79  secondary_cleaner.state.floatbank4_b_air            19438 non-null  float64\n",
      " 80  secondary_cleaner.state.floatbank4_b_level          19438 non-null  float64\n",
      " 81  secondary_cleaner.state.floatbank5_a_air            19438 non-null  float64\n",
      " 82  secondary_cleaner.state.floatbank5_a_level          19438 non-null  float64\n",
      " 83  secondary_cleaner.state.floatbank5_b_air            19438 non-null  float64\n",
      " 84  secondary_cleaner.state.floatbank5_b_level          19438 non-null  float64\n",
      " 85  secondary_cleaner.state.floatbank6_a_air            19437 non-null  float64\n",
      " 86  secondary_cleaner.state.floatbank6_a_level          19438 non-null  float64\n",
      "dtypes: float64(86), object(1)\n",
      "memory usage: 12.9+ MB\n"
     ]
    },
    {
     "data": {
      "text/html": [
       "<div>\n",
       "<style scoped>\n",
       "    .dataframe tbody tr th:only-of-type {\n",
       "        vertical-align: middle;\n",
       "    }\n",
       "\n",
       "    .dataframe tbody tr th {\n",
       "        vertical-align: top;\n",
       "    }\n",
       "\n",
       "    .dataframe thead th {\n",
       "        text-align: right;\n",
       "    }\n",
       "</style>\n",
       "<table border=\"1\" class=\"dataframe\">\n",
       "  <thead>\n",
       "    <tr style=\"text-align: right;\">\n",
       "      <th></th>\n",
       "      <th>date</th>\n",
       "      <th>final.output.concentrate_ag</th>\n",
       "      <th>final.output.concentrate_pb</th>\n",
       "      <th>final.output.concentrate_sol</th>\n",
       "      <th>final.output.concentrate_au</th>\n",
       "      <th>final.output.recovery</th>\n",
       "      <th>final.output.tail_ag</th>\n",
       "      <th>final.output.tail_pb</th>\n",
       "      <th>final.output.tail_sol</th>\n",
       "      <th>final.output.tail_au</th>\n",
       "      <th>...</th>\n",
       "      <th>secondary_cleaner.state.floatbank4_a_air</th>\n",
       "      <th>secondary_cleaner.state.floatbank4_a_level</th>\n",
       "      <th>secondary_cleaner.state.floatbank4_b_air</th>\n",
       "      <th>secondary_cleaner.state.floatbank4_b_level</th>\n",
       "      <th>secondary_cleaner.state.floatbank5_a_air</th>\n",
       "      <th>secondary_cleaner.state.floatbank5_a_level</th>\n",
       "      <th>secondary_cleaner.state.floatbank5_b_air</th>\n",
       "      <th>secondary_cleaner.state.floatbank5_b_level</th>\n",
       "      <th>secondary_cleaner.state.floatbank6_a_air</th>\n",
       "      <th>secondary_cleaner.state.floatbank6_a_level</th>\n",
       "    </tr>\n",
       "  </thead>\n",
       "  <tbody>\n",
       "    <tr>\n",
       "      <th>0</th>\n",
       "      <td>2016-01-15 00:00:00</td>\n",
       "      <td>6.055403</td>\n",
       "      <td>9.889648</td>\n",
       "      <td>5.507324</td>\n",
       "      <td>42.192020</td>\n",
       "      <td>70.541216</td>\n",
       "      <td>10.411962</td>\n",
       "      <td>0.895447</td>\n",
       "      <td>16.904297</td>\n",
       "      <td>2.143149</td>\n",
       "      <td>...</td>\n",
       "      <td>14.016835</td>\n",
       "      <td>-502.488007</td>\n",
       "      <td>12.099931</td>\n",
       "      <td>-504.715942</td>\n",
       "      <td>9.925633</td>\n",
       "      <td>-498.310211</td>\n",
       "      <td>8.079666</td>\n",
       "      <td>-500.470978</td>\n",
       "      <td>14.151341</td>\n",
       "      <td>-605.841980</td>\n",
       "    </tr>\n",
       "    <tr>\n",
       "      <th>1</th>\n",
       "      <td>2016-01-15 01:00:00</td>\n",
       "      <td>6.029369</td>\n",
       "      <td>9.968944</td>\n",
       "      <td>5.257781</td>\n",
       "      <td>42.701629</td>\n",
       "      <td>69.266198</td>\n",
       "      <td>10.462676</td>\n",
       "      <td>0.927452</td>\n",
       "      <td>16.634514</td>\n",
       "      <td>2.224930</td>\n",
       "      <td>...</td>\n",
       "      <td>13.992281</td>\n",
       "      <td>-505.503262</td>\n",
       "      <td>11.950531</td>\n",
       "      <td>-501.331529</td>\n",
       "      <td>10.039245</td>\n",
       "      <td>-500.169983</td>\n",
       "      <td>7.984757</td>\n",
       "      <td>-500.582168</td>\n",
       "      <td>13.998353</td>\n",
       "      <td>-599.787184</td>\n",
       "    </tr>\n",
       "    <tr>\n",
       "      <th>2</th>\n",
       "      <td>2016-01-15 02:00:00</td>\n",
       "      <td>6.055926</td>\n",
       "      <td>10.213995</td>\n",
       "      <td>5.383759</td>\n",
       "      <td>42.657501</td>\n",
       "      <td>68.116445</td>\n",
       "      <td>10.507046</td>\n",
       "      <td>0.953716</td>\n",
       "      <td>16.208849</td>\n",
       "      <td>2.257889</td>\n",
       "      <td>...</td>\n",
       "      <td>14.015015</td>\n",
       "      <td>-502.520901</td>\n",
       "      <td>11.912783</td>\n",
       "      <td>-501.133383</td>\n",
       "      <td>10.070913</td>\n",
       "      <td>-500.129135</td>\n",
       "      <td>8.013877</td>\n",
       "      <td>-500.517572</td>\n",
       "      <td>14.028663</td>\n",
       "      <td>-601.427363</td>\n",
       "    </tr>\n",
       "    <tr>\n",
       "      <th>3</th>\n",
       "      <td>2016-01-15 03:00:00</td>\n",
       "      <td>6.047977</td>\n",
       "      <td>9.977019</td>\n",
       "      <td>4.858634</td>\n",
       "      <td>42.689819</td>\n",
       "      <td>68.347543</td>\n",
       "      <td>10.422762</td>\n",
       "      <td>0.883763</td>\n",
       "      <td>16.532835</td>\n",
       "      <td>2.146849</td>\n",
       "      <td>...</td>\n",
       "      <td>14.036510</td>\n",
       "      <td>-500.857308</td>\n",
       "      <td>11.999550</td>\n",
       "      <td>-501.193686</td>\n",
       "      <td>9.970366</td>\n",
       "      <td>-499.201640</td>\n",
       "      <td>7.977324</td>\n",
       "      <td>-500.255908</td>\n",
       "      <td>14.005551</td>\n",
       "      <td>-599.996129</td>\n",
       "    </tr>\n",
       "    <tr>\n",
       "      <th>4</th>\n",
       "      <td>2016-01-15 04:00:00</td>\n",
       "      <td>6.148599</td>\n",
       "      <td>10.142511</td>\n",
       "      <td>4.939416</td>\n",
       "      <td>42.774141</td>\n",
       "      <td>66.927016</td>\n",
       "      <td>10.360302</td>\n",
       "      <td>0.792826</td>\n",
       "      <td>16.525686</td>\n",
       "      <td>2.055292</td>\n",
       "      <td>...</td>\n",
       "      <td>14.027298</td>\n",
       "      <td>-499.838632</td>\n",
       "      <td>11.953070</td>\n",
       "      <td>-501.053894</td>\n",
       "      <td>9.925709</td>\n",
       "      <td>-501.686727</td>\n",
       "      <td>7.894242</td>\n",
       "      <td>-500.356035</td>\n",
       "      <td>13.996647</td>\n",
       "      <td>-601.496691</td>\n",
       "    </tr>\n",
       "  </tbody>\n",
       "</table>\n",
       "<p>5 rows × 87 columns</p>\n",
       "</div>"
      ],
      "text/plain": [
       "                  date  final.output.concentrate_ag  \\\n",
       "0  2016-01-15 00:00:00                     6.055403   \n",
       "1  2016-01-15 01:00:00                     6.029369   \n",
       "2  2016-01-15 02:00:00                     6.055926   \n",
       "3  2016-01-15 03:00:00                     6.047977   \n",
       "4  2016-01-15 04:00:00                     6.148599   \n",
       "\n",
       "   final.output.concentrate_pb  final.output.concentrate_sol  \\\n",
       "0                     9.889648                      5.507324   \n",
       "1                     9.968944                      5.257781   \n",
       "2                    10.213995                      5.383759   \n",
       "3                     9.977019                      4.858634   \n",
       "4                    10.142511                      4.939416   \n",
       "\n",
       "   final.output.concentrate_au  final.output.recovery  final.output.tail_ag  \\\n",
       "0                    42.192020              70.541216             10.411962   \n",
       "1                    42.701629              69.266198             10.462676   \n",
       "2                    42.657501              68.116445             10.507046   \n",
       "3                    42.689819              68.347543             10.422762   \n",
       "4                    42.774141              66.927016             10.360302   \n",
       "\n",
       "   final.output.tail_pb  final.output.tail_sol  final.output.tail_au  ...  \\\n",
       "0              0.895447              16.904297              2.143149  ...   \n",
       "1              0.927452              16.634514              2.224930  ...   \n",
       "2              0.953716              16.208849              2.257889  ...   \n",
       "3              0.883763              16.532835              2.146849  ...   \n",
       "4              0.792826              16.525686              2.055292  ...   \n",
       "\n",
       "   secondary_cleaner.state.floatbank4_a_air  \\\n",
       "0                                 14.016835   \n",
       "1                                 13.992281   \n",
       "2                                 14.015015   \n",
       "3                                 14.036510   \n",
       "4                                 14.027298   \n",
       "\n",
       "   secondary_cleaner.state.floatbank4_a_level  \\\n",
       "0                                 -502.488007   \n",
       "1                                 -505.503262   \n",
       "2                                 -502.520901   \n",
       "3                                 -500.857308   \n",
       "4                                 -499.838632   \n",
       "\n",
       "   secondary_cleaner.state.floatbank4_b_air  \\\n",
       "0                                 12.099931   \n",
       "1                                 11.950531   \n",
       "2                                 11.912783   \n",
       "3                                 11.999550   \n",
       "4                                 11.953070   \n",
       "\n",
       "   secondary_cleaner.state.floatbank4_b_level  \\\n",
       "0                                 -504.715942   \n",
       "1                                 -501.331529   \n",
       "2                                 -501.133383   \n",
       "3                                 -501.193686   \n",
       "4                                 -501.053894   \n",
       "\n",
       "   secondary_cleaner.state.floatbank5_a_air  \\\n",
       "0                                  9.925633   \n",
       "1                                 10.039245   \n",
       "2                                 10.070913   \n",
       "3                                  9.970366   \n",
       "4                                  9.925709   \n",
       "\n",
       "   secondary_cleaner.state.floatbank5_a_level  \\\n",
       "0                                 -498.310211   \n",
       "1                                 -500.169983   \n",
       "2                                 -500.129135   \n",
       "3                                 -499.201640   \n",
       "4                                 -501.686727   \n",
       "\n",
       "   secondary_cleaner.state.floatbank5_b_air  \\\n",
       "0                                  8.079666   \n",
       "1                                  7.984757   \n",
       "2                                  8.013877   \n",
       "3                                  7.977324   \n",
       "4                                  7.894242   \n",
       "\n",
       "   secondary_cleaner.state.floatbank5_b_level  \\\n",
       "0                                 -500.470978   \n",
       "1                                 -500.582168   \n",
       "2                                 -500.517572   \n",
       "3                                 -500.255908   \n",
       "4                                 -500.356035   \n",
       "\n",
       "   secondary_cleaner.state.floatbank6_a_air  \\\n",
       "0                                 14.151341   \n",
       "1                                 13.998353   \n",
       "2                                 14.028663   \n",
       "3                                 14.005551   \n",
       "4                                 13.996647   \n",
       "\n",
       "   secondary_cleaner.state.floatbank6_a_level  \n",
       "0                                 -605.841980  \n",
       "1                                 -599.787184  \n",
       "2                                 -601.427363  \n",
       "3                                 -599.996129  \n",
       "4                                 -601.496691  \n",
       "\n",
       "[5 rows x 87 columns]"
      ]
     },
     "metadata": {},
     "output_type": "display_data"
    }
   ],
   "source": [
    "# Выведем данные:\n",
    "data_train = pd.read_csv('/datasets/gold_recovery_train_new.csv')\n",
    "data_test = pd.read_csv('/datasets/gold_recovery_test_new.csv')\n",
    "data_full = pd.read_csv('/datasets/gold_recovery_full_new.csv')\n",
    "\n",
    "data = [data_train, data_test, data_full]\n",
    "for i in data:\n",
    "    i.info()\n",
    "    display(i.head())"
   ]
  },
  {
   "cell_type": "markdown",
   "metadata": {},
   "source": [
    "Есть незначительные пропуски в данных, их нужно будет заполнить."
   ]
  },
  {
   "cell_type": "code",
   "execution_count": 3,
   "metadata": {},
   "outputs": [
    {
     "name": "stdout",
     "output_type": "stream",
     "text": [
      "MAE: 1.1131451184435918e-14\n"
     ]
    }
   ],
   "source": [
    "# Проверим, что эффективность обогащения рассчитана правильно.\n",
    "# Необходимо рассчитать её на обучающей выборке для признака rougher.output.recovery\n",
    "# C — доля золота в концентрате после флотации/очистки.\n",
    "C = data_train['rougher.output.concentrate_au']\n",
    "# F — доля золота в сырье/концентрате до флотации/очистки.\n",
    "F = data_train['rougher.input.feed_au']\n",
    "# T — доля золота в отвальных хвостах после флотации/очистки.\n",
    "T = data_train['rougher.output.tail_au']\n",
    "\n",
    "recovery = 100 * (C * (F - T)) / (F * (C - T))\n",
    "print('MAE:', mean_absolute_error(data_train['rougher.output.recovery'], recovery))"
   ]
  },
  {
   "cell_type": "markdown",
   "metadata": {},
   "source": [
    "Степень погрешности в данных MAE близка к 0 - данные верны."
   ]
  },
  {
   "cell_type": "code",
   "execution_count": 4,
   "metadata": {},
   "outputs": [
    {
     "name": "stdout",
     "output_type": "stream",
     "text": [
      "final.output.concentrate_ag\n",
      "final.output.concentrate_au\n",
      "final.output.concentrate_pb\n",
      "final.output.concentrate_sol\n",
      "final.output.recovery\n",
      "final.output.tail_ag\n",
      "final.output.tail_au\n",
      "final.output.tail_pb\n",
      "final.output.tail_sol\n",
      "primary_cleaner.output.concentrate_ag\n",
      "primary_cleaner.output.concentrate_au\n",
      "primary_cleaner.output.concentrate_pb\n",
      "primary_cleaner.output.concentrate_sol\n",
      "primary_cleaner.output.tail_ag\n",
      "primary_cleaner.output.tail_au\n",
      "primary_cleaner.output.tail_pb\n",
      "primary_cleaner.output.tail_sol\n",
      "rougher.calculation.au_pb_ratio\n",
      "rougher.calculation.floatbank10_sulfate_to_au_feed\n",
      "rougher.calculation.floatbank11_sulfate_to_au_feed\n",
      "rougher.calculation.sulfate_to_au_concentrate\n",
      "rougher.output.concentrate_ag\n",
      "rougher.output.concentrate_au\n",
      "rougher.output.concentrate_pb\n",
      "rougher.output.concentrate_sol\n",
      "rougher.output.recovery\n",
      "rougher.output.tail_ag\n",
      "rougher.output.tail_au\n",
      "rougher.output.tail_pb\n",
      "rougher.output.tail_sol\n",
      "secondary_cleaner.output.tail_ag\n",
      "secondary_cleaner.output.tail_au\n",
      "secondary_cleaner.output.tail_pb\n",
      "secondary_cleaner.output.tail_sol\n"
     ]
    }
   ],
   "source": [
    "# Проанализируем признаки, недоступные в тестовой выборке. Что это за параметры? К какому типу относятся?\n",
    "test_columns = list(set(data_test.columns) ^ set(data_full.columns))\n",
    "print(*sorted(test_columns), sep = \"\\n\")"
   ]
  },
  {
   "cell_type": "markdown",
   "metadata": {},
   "source": [
    "В тестовой выборке отсутствуют все параметры продукта output в финальных характеристиках, первичной и вторичной очистках, флотации, а также расчетные характеристики во флотации."
   ]
  },
  {
   "cell_type": "code",
   "execution_count": 5,
   "metadata": {},
   "outputs": [
    {
     "name": "stdout",
     "output_type": "stream",
     "text": [
      "<class 'pandas.core.frame.DataFrame'>\n",
      "RangeIndex: 5290 entries, 0 to 5289\n",
      "Data columns (total 53 columns):\n",
      " #   Column                                      Non-Null Count  Dtype  \n",
      "---  ------                                      --------------  -----  \n",
      " 0   date                                        5290 non-null   object \n",
      " 1   primary_cleaner.input.sulfate               5290 non-null   float64\n",
      " 2   primary_cleaner.input.depressant            5290 non-null   float64\n",
      " 3   primary_cleaner.input.feed_size             5290 non-null   float64\n",
      " 4   primary_cleaner.input.xanthate              5290 non-null   float64\n",
      " 5   primary_cleaner.state.floatbank8_a_air      5290 non-null   float64\n",
      " 6   primary_cleaner.state.floatbank8_a_level    5290 non-null   float64\n",
      " 7   primary_cleaner.state.floatbank8_b_air      5290 non-null   float64\n",
      " 8   primary_cleaner.state.floatbank8_b_level    5290 non-null   float64\n",
      " 9   primary_cleaner.state.floatbank8_c_air      5290 non-null   float64\n",
      " 10  primary_cleaner.state.floatbank8_c_level    5290 non-null   float64\n",
      " 11  primary_cleaner.state.floatbank8_d_air      5290 non-null   float64\n",
      " 12  primary_cleaner.state.floatbank8_d_level    5290 non-null   float64\n",
      " 13  rougher.input.feed_ag                       5290 non-null   float64\n",
      " 14  rougher.input.feed_pb                       5290 non-null   float64\n",
      " 15  rougher.input.feed_rate                     5290 non-null   float64\n",
      " 16  rougher.input.feed_size                     5290 non-null   float64\n",
      " 17  rougher.input.feed_sol                      5290 non-null   float64\n",
      " 18  rougher.input.feed_au                       5290 non-null   float64\n",
      " 19  rougher.input.floatbank10_sulfate           5290 non-null   float64\n",
      " 20  rougher.input.floatbank10_xanthate          5290 non-null   float64\n",
      " 21  rougher.input.floatbank11_sulfate           5290 non-null   float64\n",
      " 22  rougher.input.floatbank11_xanthate          5290 non-null   float64\n",
      " 23  rougher.state.floatbank10_a_air             5290 non-null   float64\n",
      " 24  rougher.state.floatbank10_a_level           5290 non-null   float64\n",
      " 25  rougher.state.floatbank10_b_air             5290 non-null   float64\n",
      " 26  rougher.state.floatbank10_b_level           5290 non-null   float64\n",
      " 27  rougher.state.floatbank10_c_air             5290 non-null   float64\n",
      " 28  rougher.state.floatbank10_c_level           5290 non-null   float64\n",
      " 29  rougher.state.floatbank10_d_air             5290 non-null   float64\n",
      " 30  rougher.state.floatbank10_d_level           5290 non-null   float64\n",
      " 31  rougher.state.floatbank10_e_air             5290 non-null   float64\n",
      " 32  rougher.state.floatbank10_e_level           5290 non-null   float64\n",
      " 33  rougher.state.floatbank10_f_air             5290 non-null   float64\n",
      " 34  rougher.state.floatbank10_f_level           5290 non-null   float64\n",
      " 35  secondary_cleaner.state.floatbank2_a_air    5290 non-null   float64\n",
      " 36  secondary_cleaner.state.floatbank2_a_level  5290 non-null   float64\n",
      " 37  secondary_cleaner.state.floatbank2_b_air    5290 non-null   float64\n",
      " 38  secondary_cleaner.state.floatbank2_b_level  5290 non-null   float64\n",
      " 39  secondary_cleaner.state.floatbank3_a_air    5290 non-null   float64\n",
      " 40  secondary_cleaner.state.floatbank3_a_level  5290 non-null   float64\n",
      " 41  secondary_cleaner.state.floatbank3_b_air    5290 non-null   float64\n",
      " 42  secondary_cleaner.state.floatbank3_b_level  5290 non-null   float64\n",
      " 43  secondary_cleaner.state.floatbank4_a_air    5290 non-null   float64\n",
      " 44  secondary_cleaner.state.floatbank4_a_level  5290 non-null   float64\n",
      " 45  secondary_cleaner.state.floatbank4_b_air    5290 non-null   float64\n",
      " 46  secondary_cleaner.state.floatbank4_b_level  5290 non-null   float64\n",
      " 47  secondary_cleaner.state.floatbank5_a_air    5290 non-null   float64\n",
      " 48  secondary_cleaner.state.floatbank5_a_level  5290 non-null   float64\n",
      " 49  secondary_cleaner.state.floatbank5_b_air    5290 non-null   float64\n",
      " 50  secondary_cleaner.state.floatbank5_b_level  5290 non-null   float64\n",
      " 51  secondary_cleaner.state.floatbank6_a_air    5290 non-null   float64\n",
      " 52  secondary_cleaner.state.floatbank6_a_level  5290 non-null   float64\n",
      "dtypes: float64(52), object(1)\n",
      "memory usage: 2.1+ MB\n",
      "<class 'pandas.core.frame.DataFrame'>\n",
      "RangeIndex: 14149 entries, 0 to 14148\n",
      "Data columns (total 87 columns):\n",
      " #   Column                                              Non-Null Count  Dtype  \n",
      "---  ------                                              --------------  -----  \n",
      " 0   date                                                14149 non-null  object \n",
      " 1   final.output.concentrate_ag                         14149 non-null  float64\n",
      " 2   final.output.concentrate_pb                         14149 non-null  float64\n",
      " 3   final.output.concentrate_sol                        14149 non-null  float64\n",
      " 4   final.output.concentrate_au                         14149 non-null  float64\n",
      " 5   final.output.recovery                               14149 non-null  float64\n",
      " 6   final.output.tail_ag                                14149 non-null  float64\n",
      " 7   final.output.tail_pb                                14149 non-null  float64\n",
      " 8   final.output.tail_sol                               14149 non-null  float64\n",
      " 9   final.output.tail_au                                14149 non-null  float64\n",
      " 10  primary_cleaner.input.sulfate                       14149 non-null  float64\n",
      " 11  primary_cleaner.input.depressant                    14149 non-null  float64\n",
      " 12  primary_cleaner.input.feed_size                     14149 non-null  float64\n",
      " 13  primary_cleaner.input.xanthate                      14149 non-null  float64\n",
      " 14  primary_cleaner.output.concentrate_ag               14149 non-null  float64\n",
      " 15  primary_cleaner.output.concentrate_pb               14149 non-null  float64\n",
      " 16  primary_cleaner.output.concentrate_sol              14149 non-null  float64\n",
      " 17  primary_cleaner.output.concentrate_au               14149 non-null  float64\n",
      " 18  primary_cleaner.output.tail_ag                      14149 non-null  float64\n",
      " 19  primary_cleaner.output.tail_pb                      14149 non-null  float64\n",
      " 20  primary_cleaner.output.tail_sol                     14149 non-null  float64\n",
      " 21  primary_cleaner.output.tail_au                      14149 non-null  float64\n",
      " 22  primary_cleaner.state.floatbank8_a_air              14149 non-null  float64\n",
      " 23  primary_cleaner.state.floatbank8_a_level            14149 non-null  float64\n",
      " 24  primary_cleaner.state.floatbank8_b_air              14149 non-null  float64\n",
      " 25  primary_cleaner.state.floatbank8_b_level            14149 non-null  float64\n",
      " 26  primary_cleaner.state.floatbank8_c_air              14149 non-null  float64\n",
      " 27  primary_cleaner.state.floatbank8_c_level            14149 non-null  float64\n",
      " 28  primary_cleaner.state.floatbank8_d_air              14149 non-null  float64\n",
      " 29  primary_cleaner.state.floatbank8_d_level            14149 non-null  float64\n",
      " 30  rougher.calculation.sulfate_to_au_concentrate       14149 non-null  float64\n",
      " 31  rougher.calculation.floatbank10_sulfate_to_au_feed  14149 non-null  float64\n",
      " 32  rougher.calculation.floatbank11_sulfate_to_au_feed  14149 non-null  float64\n",
      " 33  rougher.calculation.au_pb_ratio                     14149 non-null  float64\n",
      " 34  rougher.input.feed_ag                               14149 non-null  float64\n",
      " 35  rougher.input.feed_pb                               14149 non-null  float64\n",
      " 36  rougher.input.feed_rate                             14149 non-null  float64\n",
      " 37  rougher.input.feed_size                             14149 non-null  float64\n",
      " 38  rougher.input.feed_sol                              14149 non-null  float64\n",
      " 39  rougher.input.feed_au                               14149 non-null  float64\n",
      " 40  rougher.input.floatbank10_sulfate                   14149 non-null  float64\n",
      " 41  rougher.input.floatbank10_xanthate                  14149 non-null  float64\n",
      " 42  rougher.input.floatbank11_sulfate                   14149 non-null  float64\n",
      " 43  rougher.input.floatbank11_xanthate                  14149 non-null  float64\n",
      " 44  rougher.output.concentrate_ag                       14149 non-null  float64\n",
      " 45  rougher.output.concentrate_pb                       14149 non-null  float64\n",
      " 46  rougher.output.concentrate_sol                      14149 non-null  float64\n",
      " 47  rougher.output.concentrate_au                       14149 non-null  float64\n",
      " 48  rougher.output.recovery                             14149 non-null  float64\n",
      " 49  rougher.output.tail_ag                              14149 non-null  float64\n",
      " 50  rougher.output.tail_pb                              14149 non-null  float64\n",
      " 51  rougher.output.tail_sol                             14149 non-null  float64\n",
      " 52  rougher.output.tail_au                              14149 non-null  float64\n",
      " 53  rougher.state.floatbank10_a_air                     14149 non-null  float64\n",
      " 54  rougher.state.floatbank10_a_level                   14149 non-null  float64\n",
      " 55  rougher.state.floatbank10_b_air                     14149 non-null  float64\n",
      " 56  rougher.state.floatbank10_b_level                   14149 non-null  float64\n",
      " 57  rougher.state.floatbank10_c_air                     14149 non-null  float64\n",
      " 58  rougher.state.floatbank10_c_level                   14149 non-null  float64\n",
      " 59  rougher.state.floatbank10_d_air                     14149 non-null  float64\n",
      " 60  rougher.state.floatbank10_d_level                   14149 non-null  float64\n",
      " 61  rougher.state.floatbank10_e_air                     14149 non-null  float64\n",
      " 62  rougher.state.floatbank10_e_level                   14149 non-null  float64\n",
      " 63  rougher.state.floatbank10_f_air                     14149 non-null  float64\n",
      " 64  rougher.state.floatbank10_f_level                   14149 non-null  float64\n",
      " 65  secondary_cleaner.output.tail_ag                    14149 non-null  float64\n",
      " 66  secondary_cleaner.output.tail_pb                    14149 non-null  float64\n",
      " 67  secondary_cleaner.output.tail_sol                   14149 non-null  float64\n",
      " 68  secondary_cleaner.output.tail_au                    14149 non-null  float64\n",
      " 69  secondary_cleaner.state.floatbank2_a_air            14149 non-null  float64\n",
      " 70  secondary_cleaner.state.floatbank2_a_level          14149 non-null  float64\n",
      " 71  secondary_cleaner.state.floatbank2_b_air            14149 non-null  float64\n",
      " 72  secondary_cleaner.state.floatbank2_b_level          14149 non-null  float64\n",
      " 73  secondary_cleaner.state.floatbank3_a_air            14149 non-null  float64\n",
      " 74  secondary_cleaner.state.floatbank3_a_level          14149 non-null  float64\n",
      " 75  secondary_cleaner.state.floatbank3_b_air            14149 non-null  float64\n",
      " 76  secondary_cleaner.state.floatbank3_b_level          14149 non-null  float64\n",
      " 77  secondary_cleaner.state.floatbank4_a_air            14149 non-null  float64\n",
      " 78  secondary_cleaner.state.floatbank4_a_level          14149 non-null  float64\n",
      " 79  secondary_cleaner.state.floatbank4_b_air            14149 non-null  float64\n",
      " 80  secondary_cleaner.state.floatbank4_b_level          14149 non-null  float64\n",
      " 81  secondary_cleaner.state.floatbank5_a_air            14149 non-null  float64\n",
      " 82  secondary_cleaner.state.floatbank5_a_level          14149 non-null  float64\n",
      " 83  secondary_cleaner.state.floatbank5_b_air            14149 non-null  float64\n",
      " 84  secondary_cleaner.state.floatbank5_b_level          14149 non-null  float64\n",
      " 85  secondary_cleaner.state.floatbank6_a_air            14149 non-null  float64\n",
      " 86  secondary_cleaner.state.floatbank6_a_level          14149 non-null  float64\n",
      "dtypes: float64(86), object(1)\n",
      "memory usage: 9.4+ MB\n"
     ]
    }
   ],
   "source": [
    "# Проведем предобработку данных - заполним пропуски в датасетах data_test и data_train:\n",
    "data_test = data_test.ffill()\n",
    "data_train = data_train.ffill()\n",
    "data_test.info()\n",
    "data_train.info()"
   ]
  },
  {
   "cell_type": "markdown",
   "metadata": {},
   "source": [
    "**Вывод:** Пропуски заполнены."
   ]
  },
  {
   "cell_type": "markdown",
   "metadata": {},
   "source": [
    "## Анализ данных"
   ]
  },
  {
   "cell_type": "markdown",
   "metadata": {},
   "source": [
    "### Анализ концентрации металлов"
   ]
  },
  {
   "cell_type": "code",
   "execution_count": 6,
   "metadata": {},
   "outputs": [
    {
     "data": {
      "image/png": "[encoded data removed]",
      "text/plain": [
       "<Figure size 432x288 with 1 Axes>"
      ]
     },
     "metadata": {
      "needs_background": "light"
     },
     "output_type": "display_data"
    },
    {
     "data": {
      "image/png": "[encoded data removed]",
      "text/plain": [
       "<Figure size 432x288 with 1 Axes>"
      ]
     },
     "metadata": {
      "needs_background": "light"
     },
     "output_type": "display_data"
    },
    {
     "data": {
      "image/png": "[encoded data removed]",
      "text/plain": [
       "<Figure size 432x288 with 1 Axes>"
      ]
     },
     "metadata": {
      "needs_background": "light"
     },
     "output_type": "display_data"
    }
   ],
   "source": [
    "# Посмотрим, как меняется концентрация металлов (Au, Ag, Pb) на различных этапах очистки:\n",
    "au_concentrate = [data_full['rougher.input.feed_au'].mean(),\n",
    "                  data_full['rougher.output.concentrate_au'].mean(),\n",
    "                  data_full['primary_cleaner.output.concentrate_au'].mean(),\n",
    "                  data_full['final.output.concentrate_au'].mean()]\n",
    "\n",
    "ag_concentrate = [data_full['rougher.input.feed_ag'].mean(),\n",
    "                  data_full['rougher.output.concentrate_ag'].mean(),\n",
    "                  data_full['primary_cleaner.output.concentrate_ag'].mean(),\n",
    "                  data_full['final.output.concentrate_ag'].mean()]\n",
    "\n",
    "pb_concentrate = [data_full['rougher.input.feed_pb'].mean(),\n",
    "                  data_full['rougher.output.concentrate_pb'].mean(),\n",
    "                  data_full['primary_cleaner.output.concentrate_pb'].mean(),\n",
    "                  data_full['final.output.concentrate_pb'].mean()]\n",
    "\n",
    "metal = [au_concentrate, ag_concentrate, pb_concentrate]\n",
    "process = ['rougher_input', 'rougher', 'primary_cleaner','final']\n",
    "\n",
    "def autolabel(rects, labels=None, height_factor=1.01):\n",
    "    for i, rect in enumerate(rects):\n",
    "        height = rect.get_height()\n",
    "        if labels is not None:\n",
    "            try:\n",
    "                label = labels[i]\n",
    "            except (TypeError, KeyError):\n",
    "                label = ' '\n",
    "        else:\n",
    "            label = '%d' % int(height)\n",
    "        ax.text(rect.get_x() + rect.get_width()/2., height_factor*height,\n",
    "                '{}'.format(label),\n",
    "                ha='center', va='bottom')\n",
    "        \n",
    "for i in metal:\n",
    "        plt.bar(process, i)\n",
    "        if i == au_concentrate:\n",
    "            plt.title('Изменение концентрации Au')\n",
    "        elif i == ag_concentrate:\n",
    "            plt.title('Изменение концентрации Ag')\n",
    "        else:\n",
    "            plt.title('Изменение концентрации Pb')\n",
    "        plt.ylabel('Доля металла в %')\n",
    "        plt.ylim([0, 50])\n",
    "        ax = plt.gca()\n",
    "        autolabel(ax.patches, height_factor=1.01)\n",
    "        plt.show()"
   ]
  },
  {
   "cell_type": "markdown",
   "metadata": {},
   "source": [
    "**Вывод:** За время переработки больше всего изменяется концентрация Золота с 8 до 44%. Концентрация Серебра снизилась с 8 до 5%. Концетрация Свинца незначительно выросла с 3 до 9%."
   ]
  },
  {
   "cell_type": "markdown",
   "metadata": {},
   "source": [
    "### Анализ распределение гранул сырья"
   ]
  },
  {
   "cell_type": "code",
   "execution_count": 7,
   "metadata": {},
   "outputs": [
    {
     "data": {
      "image/png": "[encoded data removed]",
      "text/plain": [
       "<Figure size 432x288 with 1 Axes>"
      ]
     },
     "metadata": {
      "needs_background": "light"
     },
     "output_type": "display_data"
    }
   ],
   "source": [
    "# Сравним распределение размеров гранул сырья на обучающей и тестовой выборках.\n",
    "# Если распределения сильно отличаются друг от друга, оценка модели будет неправильной:\n",
    "sns.histplot(data=data_test['rougher.input.feed_size'], element=\"poly\")\n",
    "sns.histplot(data=data_train['rougher.input.feed_size'], element=\"poly\")\n",
    "plt.title('Дисперсия данных по гранулам сырья', fontsize=14)\n",
    "plt.ylabel('Количество', fontsize=12)\n",
    "plt.xlim([0, 200])\n",
    "plt.show()"
   ]
  },
  {
   "cell_type": "markdown",
   "metadata": {},
   "source": [
    "**Вывод:** Распределение значений в тестовой и обучающей выборок практически одинаково."
   ]
  },
  {
   "cell_type": "markdown",
   "metadata": {},
   "source": [
    "### Анализ суммарной концентрации веществ"
   ]
  },
  {
   "cell_type": "code",
   "execution_count": 8,
   "metadata": {},
   "outputs": [
    {
     "data": {
      "image/png": "[encoded data removed]",
      "text/plain": [
       "<Figure size 432x288 with 1 Axes>"
      ]
     },
     "metadata": {
      "needs_background": "light"
     },
     "output_type": "display_data"
    },
    {
     "data": {
      "image/png": "[encoded data removed]",
      "text/plain": [
       "<Figure size 432x288 with 1 Axes>"
      ]
     },
     "metadata": {
      "needs_background": "light"
     },
     "output_type": "display_data"
    },
    {
     "data": {
      "image/png": "[encoded data removed]",
      "text/plain": [
       "<Figure size 432x288 with 1 Axes>"
      ]
     },
     "metadata": {
      "needs_background": "light"
     },
     "output_type": "display_data"
    },
    {
     "data": {
      "image/png": "[encoded data removed]",
      "text/plain": [
       "<Figure size 432x288 with 1 Axes>"
      ]
     },
     "metadata": {
      "needs_background": "light"
     },
     "output_type": "display_data"
    }
   ],
   "source": [
    "# Исследуем суммарную концентрацию всех веществ на разных стадиях: в сырье, в черновом и финальном концентратах:\n",
    "data_full['conc_feed'] = data_full['rougher.input.feed_ag'] + data_full['rougher.input.feed_pb'] +\\\n",
    "                          data_full['rougher.input.feed_sol'] + data_full['rougher.input.feed_au']\n",
    "data_full['conc_rougher'] = data_full['rougher.output.concentrate_ag'] + data_full['rougher.output.concentrate_pb'] +\\\n",
    "                          data_full['rougher.output.concentrate_sol'] + data_full['rougher.output.concentrate_au']\n",
    "data_full['conc_primary'] = data_full['primary_cleaner.output.concentrate_ag'] + data_full['primary_cleaner.output.concentrate_pb'] +\\\n",
    "                          data_full['primary_cleaner.output.concentrate_sol'] + data_full['primary_cleaner.output.concentrate_au']\n",
    "data_full['conc_final'] = data_full['final.output.concentrate_ag'] + data_full['final.output.concentrate_pb'] +\\\n",
    "                          data_full['final.output.concentrate_sol'] + data_full['final.output.concentrate_au']\n",
    "\n",
    "tables_conc = ['conc_feed', 'conc_rougher', 'conc_primary', 'conc_final']\n",
    "    \n",
    "for i in tables_conc:\n",
    "    sns.histplot(data=data_full[i], bins=30)\n",
    "    plt.title(i, fontsize=14)\n",
    "    plt.ylabel('Количество', fontsize=12)\n",
    "    plt.show()"
   ]
  },
  {
   "cell_type": "markdown",
   "metadata": {},
   "source": [
    "**Вывод:** Есть строки с нулевыми суммарными значениями, особенно в стадии флотации и первичной очистки. Необходимо их удалить, т.к. такое практически невозможно."
   ]
  },
  {
   "cell_type": "code",
   "execution_count": 9,
   "metadata": {
    "scrolled": true
   },
   "outputs": [],
   "source": [
    "# Удалим строки с нулевыми суммарными значениями из обучающей и тестовой выборок:\n",
    "data_filt = data_full.query('conc_feed ==0 | conc_rougher ==0 | conc_primary == 0| conc_final ==0')\n",
    "data_filt = data_filt['date'].reset_index(drop=True)\n",
    "data_train = data_train.loc[~data_train['date'].isin(data_filt)]\n",
    "data_test = data_test.loc[~data_test['date'].isin(data_filt)]"
   ]
  },
  {
   "cell_type": "markdown",
   "metadata": {},
   "source": [
    "## Модель"
   ]
  },
  {
   "cell_type": "markdown",
   "metadata": {},
   "source": [
    "### Функция для вычисления sMAPE"
   ]
  },
  {
   "cell_type": "code",
   "execution_count": 10,
   "metadata": {},
   "outputs": [],
   "source": [
    "# Напишем функцию для вычисления итоговой sMAPE.\n",
    "def smape(target, predict):\n",
    "    if not all([isinstance(target, np.ndarray), \n",
    "                isinstance(predict, np.ndarray)]):\n",
    "        target, predict = np.array(target), np.array(predict)\n",
    "    \n",
    "    return 1/len(target) * np.sum(2*np.abs(predict-target)/(np.abs(target)+np.abs(predict))*100)\n",
    "\n",
    "smape_scorer = make_scorer(score_func=smape, greater_is_better = False)"
   ]
  },
  {
   "cell_type": "markdown",
   "metadata": {},
   "source": [
    "### Обучение моделей"
   ]
  },
  {
   "cell_type": "code",
   "execution_count": 11,
   "metadata": {},
   "outputs": [],
   "source": [
    "# Извлечем признаки и целевые признаки:\n",
    "features_final_train = data_train[data_test.columns].drop(columns='date')\n",
    "features_rougher_train = features_final_train[[x for x in features_final_train.columns if 'rougher' in x]]\n",
    "target_rougher_train = data_train['rougher.output.recovery']\n",
    "target_final_train = data_train['final.output.recovery']\n",
    "features_rougher_test = data_test[[x for x in features_final_train.columns if 'rougher' in x]]\n",
    "features_final_test = data_test.drop(columns='date')"
   ]
  },
  {
   "cell_type": "code",
   "execution_count": 12,
   "metadata": {},
   "outputs": [],
   "source": [
    "# Создадим два тестовых таргета: \n",
    "data_filt_test = data_test['date'].reset_index(drop=True)\n",
    "target_filt_test = data_full.query(\"date in @data_filt_test\")\n",
    "target_rougher_test = target_filt_test['rougher.output.recovery']\n",
    "target_final_test = target_filt_test['final.output.recovery']"
   ]
  },
  {
   "cell_type": "code",
   "execution_count": 14,
   "metadata": {},
   "outputs": [
    {
     "data": {
      "text/plain": [
       "(13725, 22)"
      ]
     },
     "metadata": {},
     "output_type": "display_data"
    },
    {
     "data": {
      "text/plain": [
       "(13725,)"
      ]
     },
     "metadata": {},
     "output_type": "display_data"
    },
    {
     "data": {
      "text/plain": [
       "(13725, 52)"
      ]
     },
     "metadata": {},
     "output_type": "display_data"
    },
    {
     "data": {
      "text/plain": [
       "(13725,)"
      ]
     },
     "metadata": {},
     "output_type": "display_data"
    },
    {
     "data": {
      "text/plain": [
       "(5123, 22)"
      ]
     },
     "metadata": {},
     "output_type": "display_data"
    },
    {
     "data": {
      "text/plain": [
       "(5123,)"
      ]
     },
     "metadata": {},
     "output_type": "display_data"
    },
    {
     "data": {
      "text/plain": [
       "(5123, 52)"
      ]
     },
     "metadata": {},
     "output_type": "display_data"
    },
    {
     "data": {
      "text/plain": [
       "(5123,)"
      ]
     },
     "metadata": {},
     "output_type": "display_data"
    }
   ],
   "source": [
    "# Распечатаем размеры выборок:\n",
    "df = features_rougher_train, target_rougher_train, features_final_train, target_final_train,\\\n",
    "features_rougher_test, target_rougher_test, features_final_test, target_final_test\n",
    "\n",
    "for i in df:\n",
    "    display(i.shape)"
   ]
  },
  {
   "cell_type": "code",
   "execution_count": 15,
   "metadata": {},
   "outputs": [
    {
     "name": "stdout",
     "output_type": "stream",
     "text": [
      "7.026963127425681\n",
      "{'max_depth': 4}\n"
     ]
    }
   ],
   "source": [
    "grid_DT_rougher = GridSearchCV(estimator=DecisionTreeRegressor(random_state=12345), \n",
    "                               param_grid={'max_depth':[1,2,3,4,5,6,7,8,9,10]}, \n",
    "                               scoring=smape_scorer).fit(features_rougher_train, target_rougher_train)\n",
    "print(-1*grid_DT_rougher.best_score_)\n",
    "print(grid_DT_rougher.best_params_)"
   ]
  },
  {
   "cell_type": "code",
   "execution_count": 16,
   "metadata": {},
   "outputs": [
    {
     "name": "stdout",
     "output_type": "stream",
     "text": [
      "9.440354196471514\n",
      "{'max_depth': 3}\n"
     ]
    }
   ],
   "source": [
    "grid_DT_final = GridSearchCV(estimator=DecisionTreeRegressor(random_state=12345), \n",
    "                               param_grid={'max_depth':[1,2,3,4,5,6,7,8,9,10]}, \n",
    "                               scoring=smape_scorer).fit(features_final_train, target_final_train)\n",
    "print(-1*grid_DT_final.best_score_)\n",
    "print(grid_DT_final.best_params_)"
   ]
  },
  {
   "cell_type": "code",
   "execution_count": 17,
   "metadata": {},
   "outputs": [
    {
     "name": "stdout",
     "output_type": "stream",
     "text": [
      "6.592060303322273\n",
      "{'max_depth': 5, 'n_estimators': 30}\n"
     ]
    }
   ],
   "source": [
    "grid_RF_rougher = GridSearchCV(estimator=RandomForestRegressor(random_state=12345), \n",
    "                               param_grid={'max_depth':[1,2,3,4,5,6,7,8,9,10], 'n_estimators':[10,20,30,40,50]}, \n",
    "                               scoring=smape_scorer).fit(features_rougher_train, target_rougher_train)\n",
    "print(-1*grid_RF_rougher.best_score_)\n",
    "print(grid_RF_rougher.best_params_)"
   ]
  },
  {
   "cell_type": "code",
   "execution_count": 18,
   "metadata": {},
   "outputs": [
    {
     "name": "stdout",
     "output_type": "stream",
     "text": [
      "9.016173429845159\n",
      "{'max_depth': 4, 'n_estimators': 50}\n"
     ]
    }
   ],
   "source": [
    "grid_RF_final = GridSearchCV(estimator=RandomForestRegressor(random_state=12345), \n",
    "                               param_grid={'max_depth':[1,2,3,4,5,6,7,8,9,10], 'n_estimators':[10,20,30,40,50]}, \n",
    "                               scoring=smape_scorer).fit(features_final_train, target_final_train)\n",
    "print(-1*grid_RF_final.best_score_)\n",
    "print(grid_RF_final.best_params_)"
   ]
  },
  {
   "cell_type": "code",
   "execution_count": 19,
   "metadata": {},
   "outputs": [
    {
     "name": "stdout",
     "output_type": "stream",
     "text": [
      "LinearRegression()\n",
      "sMAPE этап флотации: 9.01 %\n",
      "sMAPE финальный этап: 13.42 %\n",
      "Итоговый sMAPE: 12.32 %\n",
      "\n",
      "DecisionTreeRegressor(max_depth=3, random_state=12345)\n",
      "sMAPE этап флотации: 8.43 %\n",
      "sMAPE финальный этап: 11.18 %\n",
      "Итоговый sMAPE: 10.5 %\n",
      "\n",
      "RandomForestRegressor(max_depth=4, n_estimators=50, random_state=12345)\n",
      "sMAPE этап флотации: 7.74 %\n",
      "sMAPE финальный этап: 10.92 %\n",
      "Итоговый sMAPE: 10.12 %\n",
      "\n"
     ]
    }
   ],
   "source": [
    "# Обучим разные модели и оценим их качество кросс-валидацией:\n",
    "models = [LinearRegression(), DecisionTreeRegressor(random_state=12345, max_depth=3), \n",
    "          RandomForestRegressor(random_state=12345, max_depth=4, n_estimators=50)]\n",
    "\n",
    "for model in models:\n",
    "    smape_rougher = cross_val_score(model, features_rougher_train, target_rougher_train, scoring=smape_scorer, cv=3)\n",
    "    smape_final = cross_val_score(model, features_final_train, target_final_train, scoring=smape_scorer, cv=3)\n",
    "    print(model)\n",
    "    print('sMAPE этап флотации:', -1 * np.mean(smape_rougher).round(2), \"%\")\n",
    "    print('sMAPE финальный этап:', -1 * np.mean(smape_final).round(2), \"%\")\n",
    "    print('Итоговый sMAPE:', -1 * np.mean(0.25 * smape_rougher + 0.75 * smape_final).round(2), \"%\")\n",
    "    print()"
   ]
  },
  {
   "cell_type": "markdown",
   "metadata": {},
   "source": [
    "**Вывод:** Для флотации и финального этапа лучше всего подойдет модель RandomForestRegressor - наименьший sMAPE 9.54%."
   ]
  },
  {
   "cell_type": "code",
   "execution_count": 20,
   "metadata": {},
   "outputs": [
    {
     "name": "stdout",
     "output_type": "stream",
     "text": [
      "sMAPE rougher test: 4.874668201018448\n",
      "sMAPE final test: 8.20666817953057\n",
      "Итоговый sMAPE test 7.37366818490254\n"
     ]
    }
   ],
   "source": [
    "# Проверим модель на тестовой выборке:\n",
    "model = RandomForestRegressor(random_state=12345, max_depth=4, n_estimators=50)\n",
    "\n",
    "model_rougher = model.fit(features_rougher_train, target_rougher_train)\n",
    "predictions_rougher_test = model_rougher.predict(features_rougher_test)\n",
    "smape_test_rougher = smape(target_rougher_test, predictions_rougher_test)\n",
    "print('sMAPE rougher test:', smape_test_rougher)\n",
    "\n",
    "model_final = model.fit(features_final_train, target_final_train)\n",
    "predictions_final_test = model_final.predict(features_final_test)\n",
    "smape_test_final = smape(target_final_test, predictions_final_test)\n",
    "print('sMAPE final test:', smape_test_final)\n",
    "\n",
    "smape_test_total = 0.25 * smape_test_rougher + 0.75 * smape_test_final\n",
    "print('Итоговый sMAPE test',smape_test_total)"
   ]
  },
  {
   "cell_type": "markdown",
   "metadata": {},
   "source": [
    "**Вывод:** На тестовой выборке хорошие показатели по метрике sMAPE."
   ]
  },
  {
   "cell_type": "code",
   "execution_count": 21,
   "metadata": {},
   "outputs": [
    {
     "name": "stdout",
     "output_type": "stream",
     "text": [
      "sMAPE dummy rougher 4.809033066029801\n",
      "sMAPE dummy final 8.222545492433415\n",
      "Итоговый sMAPE dummy 7.369167385832512\n"
     ]
    }
   ],
   "source": [
    "# Для проверки модели рассчитаем значения sMAPE через DummyRegressor:\n",
    "dummy_regressor_rougher = DummyRegressor(strategy=\"median\")\n",
    "dummy_regressor_rougher.fit(features_rougher_train, target_rougher_train)\n",
    "dummy_rougher_pred = dummy_regressor_rougher.predict(features_rougher_test)\n",
    "smape_dummy_rougher = smape(target_rougher_test, dummy_rougher_pred)\n",
    "print('sMAPE dummy rougher', smape_dummy_rougher) \n",
    "dummy_regressor_final = DummyRegressor(strategy=\"median\")\n",
    "dummy_regressor_final.fit(features_final_train, target_final_train)\n",
    "dummy_final_pred = dummy_regressor_final.predict(features_final_test)\n",
    "smape_dummy_final = smape(target_final_test, dummy_final_pred)\n",
    "print('sMAPE dummy final', smape_dummy_final)\n",
    "smape_dummy_total = 0.25 * smape_dummy_rougher + 0.75 * smape_dummy_final\n",
    "print('Итоговый sMAPE dummy',smape_dummy_total)"
   ]
  },
  {
   "cell_type": "markdown",
   "metadata": {},
   "source": [
    "**Вывод:** Итоговый sMAPE dummy модели чуть хуже обученной модели."
   ]
  },
  {
   "cell_type": "markdown",
   "metadata": {},
   "source": [
    "**Итоговый вывод:** По результатам анализа и обучения модели удалось найти оптимальную модель для предсказания коэффициента восстановления золота из золотосодержащей руды."
   ]
  },
  {
   "cell_type": "code",
   "execution_count": null,
   "metadata": {},
   "outputs": [],
   "source": []
  }
 ],
 "metadata": {
  "ExecuteTimeLog": [
   {
    "duration": 1129,
    "start_time": "2022-03-12T12:46:24.531Z"
   },
   {
    "duration": 702,
    "start_time": "2022-03-12T12:46:29.379Z"
   },
   {
    "duration": 677,
    "start_time": "2022-03-12T12:47:35.967Z"
   },
   {
    "duration": 2,
    "start_time": "2022-03-12T13:21:00.027Z"
   },
   {
    "duration": 1036,
    "start_time": "2022-03-12T15:12:58.129Z"
   },
   {
    "duration": 710,
    "start_time": "2022-03-12T15:13:13.687Z"
   },
   {
    "duration": 9,
    "start_time": "2022-03-12T15:53:19.104Z"
   },
   {
    "duration": 7,
    "start_time": "2022-03-12T16:16:09.524Z"
   },
   {
    "duration": 8,
    "start_time": "2022-03-12T16:16:29.656Z"
   },
   {
    "duration": 9,
    "start_time": "2022-03-12T16:16:47.429Z"
   },
   {
    "duration": 155,
    "start_time": "2022-03-12T16:26:13.640Z"
   },
   {
    "duration": 11,
    "start_time": "2022-03-12T16:26:22.202Z"
   },
   {
    "duration": 10,
    "start_time": "2022-03-12T16:26:35.109Z"
   },
   {
    "duration": 299,
    "start_time": "2022-03-12T17:15:45.977Z"
   },
   {
    "duration": 109,
    "start_time": "2022-03-12T17:15:50.206Z"
   },
   {
    "duration": 4,
    "start_time": "2022-03-12T17:15:53.353Z"
   },
   {
    "duration": 3,
    "start_time": "2022-03-12T17:22:12.336Z"
   },
   {
    "duration": 4,
    "start_time": "2022-03-12T17:22:47.291Z"
   },
   {
    "duration": 2,
    "start_time": "2022-03-12T17:23:16.813Z"
   },
   {
    "duration": 3,
    "start_time": "2022-03-12T17:29:50.347Z"
   },
   {
    "duration": 4,
    "start_time": "2022-03-12T17:29:55.259Z"
   },
   {
    "duration": 3,
    "start_time": "2022-03-12T17:30:35.125Z"
   },
   {
    "duration": 3,
    "start_time": "2022-03-12T17:30:36.696Z"
   },
   {
    "duration": 3,
    "start_time": "2022-03-12T17:31:00.289Z"
   },
   {
    "duration": 4,
    "start_time": "2022-03-12T17:31:52.199Z"
   },
   {
    "duration": 3,
    "start_time": "2022-03-12T17:32:21.736Z"
   },
   {
    "duration": 3,
    "start_time": "2022-03-12T17:33:05.300Z"
   },
   {
    "duration": 4,
    "start_time": "2022-03-12T17:33:07.307Z"
   },
   {
    "duration": 4,
    "start_time": "2022-03-12T17:33:12.949Z"
   },
   {
    "duration": 4,
    "start_time": "2022-03-12T17:34:01.088Z"
   },
   {
    "duration": 276,
    "start_time": "2022-03-12T17:34:18.611Z"
   },
   {
    "duration": 374,
    "start_time": "2022-03-12T17:36:02.966Z"
   },
   {
    "duration": 3,
    "start_time": "2022-03-12T17:36:11.060Z"
   },
   {
    "duration": 3,
    "start_time": "2022-03-12T17:36:16.567Z"
   },
   {
    "duration": 4,
    "start_time": "2022-03-12T17:36:57.057Z"
   },
   {
    "duration": 3,
    "start_time": "2022-03-12T17:38:38.519Z"
   },
   {
    "duration": 5,
    "start_time": "2022-03-12T17:39:23.415Z"
   },
   {
    "duration": 721,
    "start_time": "2022-03-12T17:45:13.466Z"
   },
   {
    "duration": 2,
    "start_time": "2022-03-12T17:45:57.959Z"
   },
   {
    "duration": 16,
    "start_time": "2022-03-13T08:33:57.267Z"
   },
   {
    "duration": 21,
    "start_time": "2022-03-13T08:34:07.270Z"
   },
   {
    "duration": 20,
    "start_time": "2022-03-13T08:34:21.020Z"
   },
   {
    "duration": 3,
    "start_time": "2022-03-13T08:34:39.342Z"
   },
   {
    "duration": 720,
    "start_time": "2022-03-13T08:34:39.348Z"
   },
   {
    "duration": 7,
    "start_time": "2022-03-13T08:34:40.070Z"
   },
   {
    "duration": 26,
    "start_time": "2022-03-13T08:34:40.079Z"
   },
   {
    "duration": 25,
    "start_time": "2022-03-13T08:34:40.107Z"
   },
   {
    "duration": 105,
    "start_time": "2022-03-13T08:34:40.134Z"
   },
   {
    "duration": 49,
    "start_time": "2022-03-13T08:34:40.191Z"
   },
   {
    "duration": 50,
    "start_time": "2022-03-13T08:34:40.191Z"
   },
   {
    "duration": 50,
    "start_time": "2022-03-13T08:34:40.192Z"
   },
   {
    "duration": 51,
    "start_time": "2022-03-13T08:34:40.192Z"
   },
   {
    "duration": 51,
    "start_time": "2022-03-13T08:34:40.193Z"
   },
   {
    "duration": 2,
    "start_time": "2022-03-13T08:36:42.944Z"
   },
   {
    "duration": 377,
    "start_time": "2022-03-13T08:50:04.060Z"
   },
   {
    "duration": 3,
    "start_time": "2022-03-13T08:50:13.500Z"
   },
   {
    "duration": 713,
    "start_time": "2022-03-13T08:50:13.504Z"
   },
   {
    "duration": 8,
    "start_time": "2022-03-13T08:50:14.219Z"
   },
   {
    "duration": 6,
    "start_time": "2022-03-13T08:50:14.229Z"
   },
   {
    "duration": 407,
    "start_time": "2022-03-13T08:50:14.237Z"
   },
   {
    "duration": 131,
    "start_time": "2022-03-13T08:50:14.515Z"
   },
   {
    "duration": 123,
    "start_time": "2022-03-13T08:50:14.524Z"
   },
   {
    "duration": 122,
    "start_time": "2022-03-13T08:50:14.526Z"
   },
   {
    "duration": 122,
    "start_time": "2022-03-13T08:50:14.527Z"
   },
   {
    "duration": 122,
    "start_time": "2022-03-13T08:50:14.528Z"
   },
   {
    "duration": 121,
    "start_time": "2022-03-13T08:50:14.530Z"
   },
   {
    "duration": 25,
    "start_time": "2022-03-13T08:52:37.707Z"
   },
   {
    "duration": 110,
    "start_time": "2022-03-13T10:14:25.775Z"
   },
   {
    "duration": 50,
    "start_time": "2022-03-13T10:15:08.743Z"
   },
   {
    "duration": 139,
    "start_time": "2022-03-13T10:16:05.247Z"
   },
   {
    "duration": 121,
    "start_time": "2022-03-13T10:16:30.514Z"
   },
   {
    "duration": 286,
    "start_time": "2022-03-13T10:17:47.113Z"
   },
   {
    "duration": 350,
    "start_time": "2022-03-13T10:22:51.738Z"
   },
   {
    "duration": 322,
    "start_time": "2022-03-13T10:23:01.574Z"
   },
   {
    "duration": 149,
    "start_time": "2022-03-13T10:26:35.232Z"
   },
   {
    "duration": 194,
    "start_time": "2022-03-13T10:26:52.640Z"
   },
   {
    "duration": 180,
    "start_time": "2022-03-13T10:30:37.784Z"
   },
   {
    "duration": 156,
    "start_time": "2022-03-13T10:32:15.841Z"
   },
   {
    "duration": 106,
    "start_time": "2022-03-13T10:32:30.521Z"
   },
   {
    "duration": 110,
    "start_time": "2022-03-13T10:32:52.809Z"
   },
   {
    "duration": 123,
    "start_time": "2022-03-13T10:37:02.649Z"
   },
   {
    "duration": 119,
    "start_time": "2022-03-13T10:38:43.333Z"
   },
   {
    "duration": 121,
    "start_time": "2022-03-13T10:42:25.223Z"
   },
   {
    "duration": 122,
    "start_time": "2022-03-13T10:42:30.438Z"
   },
   {
    "duration": 154,
    "start_time": "2022-03-13T11:23:08.266Z"
   },
   {
    "duration": 514,
    "start_time": "2022-03-13T11:23:20.512Z"
   },
   {
    "duration": 430,
    "start_time": "2022-03-13T11:23:43.111Z"
   },
   {
    "duration": 344,
    "start_time": "2022-03-13T11:23:49.782Z"
   },
   {
    "duration": 433,
    "start_time": "2022-03-13T11:28:16.757Z"
   },
   {
    "duration": 415,
    "start_time": "2022-03-13T11:28:33.429Z"
   },
   {
    "duration": 622,
    "start_time": "2022-03-13T11:29:05.241Z"
   },
   {
    "duration": 419,
    "start_time": "2022-03-13T11:40:31.770Z"
   },
   {
    "duration": 349,
    "start_time": "2022-03-13T11:41:03.065Z"
   },
   {
    "duration": 394,
    "start_time": "2022-03-13T11:43:38.488Z"
   },
   {
    "duration": 359,
    "start_time": "2022-03-13T11:44:16.240Z"
   },
   {
    "duration": 348,
    "start_time": "2022-03-13T11:44:51.285Z"
   },
   {
    "duration": 321,
    "start_time": "2022-03-13T12:05:50.390Z"
   },
   {
    "duration": 3403,
    "start_time": "2022-03-13T12:06:23.910Z"
   },
   {
    "duration": 291,
    "start_time": "2022-03-13T12:06:35.896Z"
   },
   {
    "duration": 2327,
    "start_time": "2022-03-13T12:06:45.742Z"
   },
   {
    "duration": 786,
    "start_time": "2022-03-13T12:06:48.071Z"
   },
   {
    "duration": 9,
    "start_time": "2022-03-13T12:06:48.859Z"
   },
   {
    "duration": 6,
    "start_time": "2022-03-13T12:06:48.870Z"
   },
   {
    "duration": 51,
    "start_time": "2022-03-13T12:06:48.877Z"
   },
   {
    "duration": 368,
    "start_time": "2022-03-13T12:06:48.929Z"
   },
   {
    "duration": 299,
    "start_time": "2022-03-13T12:06:49.298Z"
   },
   {
    "duration": 106,
    "start_time": "2022-03-13T12:06:49.493Z"
   },
   {
    "duration": 104,
    "start_time": "2022-03-13T12:06:49.496Z"
   },
   {
    "duration": 104,
    "start_time": "2022-03-13T12:06:49.497Z"
   },
   {
    "duration": 3175,
    "start_time": "2022-03-13T12:09:19.484Z"
   },
   {
    "duration": 747,
    "start_time": "2022-03-13T12:09:22.661Z"
   },
   {
    "duration": 7,
    "start_time": "2022-03-13T12:09:23.410Z"
   },
   {
    "duration": 6,
    "start_time": "2022-03-13T12:09:23.419Z"
   },
   {
    "duration": 27,
    "start_time": "2022-03-13T12:09:23.426Z"
   },
   {
    "duration": 400,
    "start_time": "2022-03-13T12:09:23.455Z"
   },
   {
    "duration": 189,
    "start_time": "2022-03-13T12:09:23.856Z"
   },
   {
    "duration": 2,
    "start_time": "2022-03-13T12:09:24.047Z"
   },
   {
    "duration": 4,
    "start_time": "2022-03-13T12:09:24.051Z"
   },
   {
    "duration": 5,
    "start_time": "2022-03-13T12:09:24.056Z"
   },
   {
    "duration": 189,
    "start_time": "2022-03-13T12:09:56.150Z"
   },
   {
    "duration": 233,
    "start_time": "2022-03-13T12:10:22.836Z"
   },
   {
    "duration": 183,
    "start_time": "2022-03-13T12:11:21.116Z"
   },
   {
    "duration": 185,
    "start_time": "2022-03-13T12:11:39.606Z"
   },
   {
    "duration": 185,
    "start_time": "2022-03-13T12:14:11.433Z"
   },
   {
    "duration": 189,
    "start_time": "2022-03-13T12:14:48.097Z"
   },
   {
    "duration": 182,
    "start_time": "2022-03-13T12:15:15.144Z"
   },
   {
    "duration": 2,
    "start_time": "2022-03-13T12:21:43.121Z"
   },
   {
    "duration": 3,
    "start_time": "2022-03-13T12:34:17.678Z"
   },
   {
    "duration": 102,
    "start_time": "2022-03-13T13:06:50.629Z"
   },
   {
    "duration": 111,
    "start_time": "2022-03-13T13:07:06.292Z"
   },
   {
    "duration": 490,
    "start_time": "2022-03-13T13:07:26.839Z"
   },
   {
    "duration": 739,
    "start_time": "2022-03-13T13:07:54.183Z"
   },
   {
    "duration": 487,
    "start_time": "2022-03-13T13:08:09.206Z"
   },
   {
    "duration": 1461,
    "start_time": "2022-03-13T13:08:17.182Z"
   },
   {
    "duration": 1494,
    "start_time": "2022-03-13T13:09:11.071Z"
   },
   {
    "duration": 1499,
    "start_time": "2022-03-13T13:09:26.447Z"
   },
   {
    "duration": 470,
    "start_time": "2022-03-13T13:10:54.236Z"
   },
   {
    "duration": 513,
    "start_time": "2022-03-13T13:11:04.454Z"
   },
   {
    "duration": 1569,
    "start_time": "2022-03-13T13:11:12.748Z"
   },
   {
    "duration": 2847,
    "start_time": "2022-03-13T13:14:05.206Z"
   },
   {
    "duration": 690,
    "start_time": "2022-03-13T13:14:25.658Z"
   },
   {
    "duration": 3,
    "start_time": "2022-03-13T13:24:23.604Z"
   },
   {
    "duration": 913,
    "start_time": "2022-03-13T13:43:42.417Z"
   },
   {
    "duration": 332,
    "start_time": "2022-03-13T13:49:39.864Z"
   },
   {
    "duration": 321,
    "start_time": "2022-03-13T13:51:50.721Z"
   },
   {
    "duration": 92,
    "start_time": "2022-03-13T13:59:58.345Z"
   },
   {
    "duration": 97,
    "start_time": "2022-03-13T14:00:23.664Z"
   },
   {
    "duration": 324,
    "start_time": "2022-03-13T14:01:12.325Z"
   },
   {
    "duration": 470,
    "start_time": "2022-03-13T14:01:28.827Z"
   },
   {
    "duration": 18,
    "start_time": "2022-03-13T14:08:33.160Z"
   },
   {
    "duration": 15,
    "start_time": "2022-03-13T14:08:40.451Z"
   },
   {
    "duration": 25,
    "start_time": "2022-03-13T14:08:58.541Z"
   },
   {
    "duration": 25,
    "start_time": "2022-03-13T14:09:47.082Z"
   },
   {
    "duration": 398,
    "start_time": "2022-03-13T14:22:07.860Z"
   },
   {
    "duration": 6,
    "start_time": "2022-03-13T14:38:35.140Z"
   },
   {
    "duration": 3976,
    "start_time": "2022-03-13T14:38:44.048Z"
   },
   {
    "duration": 15108,
    "start_time": "2022-03-13T14:40:15.949Z"
   },
   {
    "duration": 5074,
    "start_time": "2022-03-13T14:40:33.552Z"
   },
   {
    "duration": 4074,
    "start_time": "2022-03-13T14:41:34.479Z"
   },
   {
    "duration": 4045,
    "start_time": "2022-03-13T14:41:56.081Z"
   },
   {
    "duration": 2813,
    "start_time": "2022-03-13T14:42:21.181Z"
   },
   {
    "duration": 794,
    "start_time": "2022-03-13T14:42:23.997Z"
   },
   {
    "duration": 21,
    "start_time": "2022-03-13T14:42:24.793Z"
   },
   {
    "duration": 10,
    "start_time": "2022-03-13T14:42:24.817Z"
   },
   {
    "duration": 30,
    "start_time": "2022-03-13T14:42:24.829Z"
   },
   {
    "duration": 457,
    "start_time": "2022-03-13T14:42:24.861Z"
   },
   {
    "duration": 228,
    "start_time": "2022-03-13T14:42:25.320Z"
   },
   {
    "duration": 996,
    "start_time": "2022-03-13T14:42:25.551Z"
   },
   {
    "duration": 40,
    "start_time": "2022-03-13T14:42:26.549Z"
   },
   {
    "duration": 18,
    "start_time": "2022-03-13T14:42:26.591Z"
   },
   {
    "duration": 6,
    "start_time": "2022-03-13T14:42:26.612Z"
   },
   {
    "duration": 6,
    "start_time": "2022-03-13T14:42:26.619Z"
   },
   {
    "duration": 6,
    "start_time": "2022-03-13T14:42:26.626Z"
   },
   {
    "duration": 4116,
    "start_time": "2022-03-13T14:43:11.039Z"
   },
   {
    "duration": 2677,
    "start_time": "2022-03-13T14:43:25.162Z"
   },
   {
    "duration": 913,
    "start_time": "2022-03-13T14:43:27.842Z"
   },
   {
    "duration": 10,
    "start_time": "2022-03-13T14:43:28.758Z"
   },
   {
    "duration": 13,
    "start_time": "2022-03-13T14:43:28.770Z"
   },
   {
    "duration": 73,
    "start_time": "2022-03-13T14:43:28.785Z"
   },
   {
    "duration": 521,
    "start_time": "2022-03-13T14:43:28.860Z"
   },
   {
    "duration": 241,
    "start_time": "2022-03-13T14:43:29.383Z"
   },
   {
    "duration": 968,
    "start_time": "2022-03-13T14:43:29.628Z"
   },
   {
    "duration": 44,
    "start_time": "2022-03-13T14:43:30.606Z"
   },
   {
    "duration": 382,
    "start_time": "2022-03-13T14:43:30.652Z"
   },
   {
    "duration": -20,
    "start_time": "2022-03-13T14:43:31.057Z"
   },
   {
    "duration": -21,
    "start_time": "2022-03-13T14:43:31.058Z"
   },
   {
    "duration": -21,
    "start_time": "2022-03-13T14:43:31.059Z"
   },
   {
    "duration": 4080,
    "start_time": "2022-03-13T14:44:52.370Z"
   },
   {
    "duration": 2579,
    "start_time": "2022-03-13T14:45:00.460Z"
   },
   {
    "duration": 824,
    "start_time": "2022-03-13T14:45:03.041Z"
   },
   {
    "duration": 10,
    "start_time": "2022-03-13T14:45:03.867Z"
   },
   {
    "duration": 33,
    "start_time": "2022-03-13T14:45:03.880Z"
   },
   {
    "duration": 37,
    "start_time": "2022-03-13T14:45:03.915Z"
   },
   {
    "duration": 439,
    "start_time": "2022-03-13T14:45:03.954Z"
   },
   {
    "duration": 221,
    "start_time": "2022-03-13T14:45:04.394Z"
   },
   {
    "duration": 1193,
    "start_time": "2022-03-13T14:45:04.618Z"
   },
   {
    "duration": 44,
    "start_time": "2022-03-13T14:45:05.814Z"
   },
   {
    "duration": 381,
    "start_time": "2022-03-13T14:45:05.860Z"
   },
   {
    "duration": 26,
    "start_time": "2022-03-13T14:45:06.218Z"
   },
   {
    "duration": 25,
    "start_time": "2022-03-13T14:45:06.220Z"
   },
   {
    "duration": 25,
    "start_time": "2022-03-13T14:45:06.221Z"
   },
   {
    "duration": 948,
    "start_time": "2022-03-13T15:27:48.207Z"
   },
   {
    "duration": 13,
    "start_time": "2022-03-13T15:31:01.544Z"
   },
   {
    "duration": 23,
    "start_time": "2022-03-13T15:31:12.919Z"
   },
   {
    "duration": 2760,
    "start_time": "2022-03-13T15:31:59.050Z"
   },
   {
    "duration": 873,
    "start_time": "2022-03-13T15:32:01.812Z"
   },
   {
    "duration": 30,
    "start_time": "2022-03-13T15:32:02.687Z"
   },
   {
    "duration": 20,
    "start_time": "2022-03-13T15:32:02.720Z"
   },
   {
    "duration": 57,
    "start_time": "2022-03-13T15:32:02.742Z"
   },
   {
    "duration": 473,
    "start_time": "2022-03-13T15:32:02.801Z"
   },
   {
    "duration": 350,
    "start_time": "2022-03-13T15:32:03.276Z"
   },
   {
    "duration": 998,
    "start_time": "2022-03-13T15:32:03.628Z"
   },
   {
    "duration": 28,
    "start_time": "2022-03-13T15:32:04.629Z"
   },
   {
    "duration": 317,
    "start_time": "2022-03-13T15:32:04.660Z"
   },
   {
    "duration": 42,
    "start_time": "2022-03-13T15:32:04.937Z"
   },
   {
    "duration": 41,
    "start_time": "2022-03-13T15:32:04.939Z"
   },
   {
    "duration": 987,
    "start_time": "2022-03-13T15:33:18.400Z"
   },
   {
    "duration": 21,
    "start_time": "2022-03-13T15:33:22.360Z"
   },
   {
    "duration": 1094,
    "start_time": "2022-03-13T15:35:08.844Z"
   },
   {
    "duration": 9178,
    "start_time": "2022-03-13T15:36:20.648Z"
   },
   {
    "duration": 9,
    "start_time": "2022-03-13T15:38:00.835Z"
   },
   {
    "duration": 2741,
    "start_time": "2022-03-13T15:39:18.407Z"
   },
   {
    "duration": 2823,
    "start_time": "2022-03-13T15:39:22.103Z"
   },
   {
    "duration": 820,
    "start_time": "2022-03-13T15:39:24.928Z"
   },
   {
    "duration": 9,
    "start_time": "2022-03-13T15:39:25.750Z"
   },
   {
    "duration": 9,
    "start_time": "2022-03-13T15:39:25.762Z"
   },
   {
    "duration": 65,
    "start_time": "2022-03-13T15:39:25.773Z"
   },
   {
    "duration": 471,
    "start_time": "2022-03-13T15:39:25.841Z"
   },
   {
    "duration": 234,
    "start_time": "2022-03-13T15:39:26.314Z"
   },
   {
    "duration": 1190,
    "start_time": "2022-03-13T15:39:26.550Z"
   },
   {
    "duration": 13,
    "start_time": "2022-03-13T15:39:27.742Z"
   },
   {
    "duration": 4,
    "start_time": "2022-03-13T15:39:27.757Z"
   },
   {
    "duration": 7,
    "start_time": "2022-03-13T15:39:27.762Z"
   },
   {
    "duration": 10,
    "start_time": "2022-03-13T15:39:27.771Z"
   },
   {
    "duration": 23,
    "start_time": "2022-03-13T15:39:49.208Z"
   },
   {
    "duration": 3002,
    "start_time": "2022-03-13T15:40:42.292Z"
   },
   {
    "duration": 857,
    "start_time": "2022-03-13T15:40:45.296Z"
   },
   {
    "duration": 10,
    "start_time": "2022-03-13T15:40:46.155Z"
   },
   {
    "duration": 9,
    "start_time": "2022-03-13T15:40:46.168Z"
   },
   {
    "duration": 38,
    "start_time": "2022-03-13T15:40:46.206Z"
   },
   {
    "duration": 563,
    "start_time": "2022-03-13T15:40:46.246Z"
   },
   {
    "duration": 284,
    "start_time": "2022-03-13T15:40:46.811Z"
   },
   {
    "duration": 1076,
    "start_time": "2022-03-13T15:40:47.097Z"
   },
   {
    "duration": 37,
    "start_time": "2022-03-13T15:40:48.175Z"
   },
   {
    "duration": 6,
    "start_time": "2022-03-13T15:40:48.215Z"
   },
   {
    "duration": 10,
    "start_time": "2022-03-13T15:40:48.223Z"
   },
   {
    "duration": 6,
    "start_time": "2022-03-13T15:40:48.234Z"
   },
   {
    "duration": 2879,
    "start_time": "2022-03-13T15:56:10.045Z"
   },
   {
    "duration": 847,
    "start_time": "2022-03-13T15:56:12.926Z"
   },
   {
    "duration": 9,
    "start_time": "2022-03-13T15:56:13.776Z"
   },
   {
    "duration": 23,
    "start_time": "2022-03-13T15:56:13.787Z"
   },
   {
    "duration": 14,
    "start_time": "2022-03-13T15:56:13.812Z"
   },
   {
    "duration": 443,
    "start_time": "2022-03-13T15:56:13.827Z"
   },
   {
    "duration": 229,
    "start_time": "2022-03-13T15:56:14.272Z"
   },
   {
    "duration": 1151,
    "start_time": "2022-03-13T15:56:14.503Z"
   },
   {
    "duration": 28,
    "start_time": "2022-03-13T15:56:15.656Z"
   },
   {
    "duration": 20,
    "start_time": "2022-03-13T15:56:15.686Z"
   },
   {
    "duration": 7,
    "start_time": "2022-03-13T15:56:15.708Z"
   },
   {
    "duration": 312,
    "start_time": "2022-03-13T15:56:15.717Z"
   },
   {
    "duration": 81,
    "start_time": "2022-03-13T15:56:15.950Z"
   },
   {
    "duration": 38,
    "start_time": "2022-03-13T15:58:07.088Z"
   },
   {
    "duration": 469,
    "start_time": "2022-03-13T15:58:55.965Z"
   },
   {
    "duration": 2886,
    "start_time": "2022-03-13T15:59:11.696Z"
   },
   {
    "duration": 870,
    "start_time": "2022-03-13T15:59:14.585Z"
   },
   {
    "duration": 13,
    "start_time": "2022-03-13T15:59:15.457Z"
   },
   {
    "duration": 32,
    "start_time": "2022-03-13T15:59:15.472Z"
   },
   {
    "duration": 31,
    "start_time": "2022-03-13T15:59:15.507Z"
   },
   {
    "duration": 466,
    "start_time": "2022-03-13T15:59:15.540Z"
   },
   {
    "duration": 232,
    "start_time": "2022-03-13T15:59:16.007Z"
   },
   {
    "duration": 1153,
    "start_time": "2022-03-13T15:59:16.241Z"
   },
   {
    "duration": 333,
    "start_time": "2022-03-13T15:59:17.397Z"
   },
   {
    "duration": 59,
    "start_time": "2022-03-13T15:59:17.673Z"
   },
   {
    "duration": 52,
    "start_time": "2022-03-13T15:59:17.681Z"
   },
   {
    "duration": 52,
    "start_time": "2022-03-13T15:59:17.682Z"
   },
   {
    "duration": 40,
    "start_time": "2022-03-13T15:59:17.695Z"
   },
   {
    "duration": 299,
    "start_time": "2022-03-13T15:59:35.883Z"
   },
   {
    "duration": 306,
    "start_time": "2022-03-13T15:59:46.691Z"
   },
   {
    "duration": 2655,
    "start_time": "2022-03-13T15:59:50.201Z"
   },
   {
    "duration": 1131,
    "start_time": "2022-03-13T15:59:52.859Z"
   },
   {
    "duration": 10,
    "start_time": "2022-03-13T15:59:54.006Z"
   },
   {
    "duration": 12,
    "start_time": "2022-03-13T15:59:54.018Z"
   },
   {
    "duration": 33,
    "start_time": "2022-03-13T15:59:54.032Z"
   },
   {
    "duration": 518,
    "start_time": "2022-03-13T15:59:54.067Z"
   },
   {
    "duration": 265,
    "start_time": "2022-03-13T15:59:54.587Z"
   },
   {
    "duration": 1056,
    "start_time": "2022-03-13T15:59:54.854Z"
   },
   {
    "duration": 29,
    "start_time": "2022-03-13T15:59:55.913Z"
   },
   {
    "duration": 8,
    "start_time": "2022-03-13T15:59:55.944Z"
   },
   {
    "duration": 8,
    "start_time": "2022-03-13T15:59:55.953Z"
   },
   {
    "duration": 5,
    "start_time": "2022-03-13T15:59:55.962Z"
   },
   {
    "duration": 4,
    "start_time": "2022-03-13T15:59:55.969Z"
   },
   {
    "duration": 31,
    "start_time": "2022-03-13T16:00:20.901Z"
   },
   {
    "duration": 26,
    "start_time": "2022-03-13T16:00:26.143Z"
   },
   {
    "duration": 386,
    "start_time": "2022-03-13T16:00:38.826Z"
   },
   {
    "duration": 1161,
    "start_time": "2022-03-13T16:01:49.721Z"
   },
   {
    "duration": 2590,
    "start_time": "2022-03-13T16:03:40.134Z"
   },
   {
    "duration": 1093,
    "start_time": "2022-03-13T16:03:42.727Z"
   },
   {
    "duration": 10,
    "start_time": "2022-03-13T16:03:43.823Z"
   },
   {
    "duration": 7,
    "start_time": "2022-03-13T16:03:43.835Z"
   },
   {
    "duration": 29,
    "start_time": "2022-03-13T16:03:43.844Z"
   },
   {
    "duration": 453,
    "start_time": "2022-03-13T16:03:43.875Z"
   },
   {
    "duration": 225,
    "start_time": "2022-03-13T16:03:44.330Z"
   },
   {
    "duration": 1018,
    "start_time": "2022-03-13T16:03:44.556Z"
   },
   {
    "duration": 15,
    "start_time": "2022-03-13T16:03:45.577Z"
   },
   {
    "duration": 8,
    "start_time": "2022-03-13T16:03:45.607Z"
   },
   {
    "duration": 11,
    "start_time": "2022-03-13T16:03:45.617Z"
   },
   {
    "duration": 5,
    "start_time": "2022-03-13T16:03:45.630Z"
   },
   {
    "duration": 8,
    "start_time": "2022-03-13T16:03:45.636Z"
   },
   {
    "duration": 155,
    "start_time": "2022-03-13T16:06:12.175Z"
   },
   {
    "duration": 12,
    "start_time": "2022-03-13T16:07:13.570Z"
   },
   {
    "duration": 17,
    "start_time": "2022-03-13T16:09:36.177Z"
   },
   {
    "duration": 35,
    "start_time": "2022-03-13T16:11:36.964Z"
   },
   {
    "duration": 6,
    "start_time": "2022-03-14T16:48:56.944Z"
   },
   {
    "duration": 58,
    "start_time": "2022-03-14T18:24:20.028Z"
   },
   {
    "duration": 34,
    "start_time": "2022-03-14T18:24:53.068Z"
   },
   {
    "duration": 17,
    "start_time": "2022-03-14T18:28:25.083Z"
   },
   {
    "duration": 22,
    "start_time": "2022-03-14T18:28:50.975Z"
   },
   {
    "duration": 15,
    "start_time": "2022-03-14T18:29:16.651Z"
   },
   {
    "duration": 10,
    "start_time": "2022-03-14T18:36:59.081Z"
   },
   {
    "duration": 310,
    "start_time": "2022-03-14T18:36:59.798Z"
   },
   {
    "duration": 2484,
    "start_time": "2022-03-14T18:37:38.139Z"
   },
   {
    "duration": 306,
    "start_time": "2022-03-14T18:38:08.378Z"
   },
   {
    "duration": 295,
    "start_time": "2022-03-14T18:46:06.906Z"
   },
   {
    "duration": 2423,
    "start_time": "2022-03-14T18:46:56.209Z"
   },
   {
    "duration": 303,
    "start_time": "2022-03-14T18:47:04.373Z"
   },
   {
    "duration": 323,
    "start_time": "2022-03-14T18:47:12.048Z"
   },
   {
    "duration": 4,
    "start_time": "2022-03-14T18:47:23.455Z"
   },
   {
    "duration": 3,
    "start_time": "2022-03-14T18:47:40.626Z"
   },
   {
    "duration": 619,
    "start_time": "2022-03-14T18:47:43.918Z"
   },
   {
    "duration": 4,
    "start_time": "2022-03-14T18:48:11.347Z"
   },
   {
    "duration": 4940,
    "start_time": "2022-03-14T18:48:13.788Z"
   },
   {
    "duration": 33,
    "start_time": "2022-03-14T18:56:36.576Z"
   },
   {
    "duration": 29,
    "start_time": "2022-03-14T18:56:42.392Z"
   },
   {
    "duration": 13,
    "start_time": "2022-03-14T18:56:54.722Z"
   },
   {
    "duration": 17,
    "start_time": "2022-03-14T18:56:59.738Z"
   },
   {
    "duration": 9,
    "start_time": "2022-03-14T18:57:03.320Z"
   },
   {
    "duration": 4,
    "start_time": "2022-03-14T19:02:11.634Z"
   },
   {
    "duration": 2402,
    "start_time": "2022-03-14T19:13:28.203Z"
   },
   {
    "duration": 281,
    "start_time": "2022-03-14T19:15:27.622Z"
   },
   {
    "duration": 279,
    "start_time": "2022-03-14T19:16:38.718Z"
   },
   {
    "duration": 290,
    "start_time": "2022-03-14T19:24:24.308Z"
   },
   {
    "duration": 2340,
    "start_time": "2022-03-14T19:42:16.197Z"
   },
   {
    "duration": 96,
    "start_time": "2022-03-14T19:47:07.608Z"
   },
   {
    "duration": 324,
    "start_time": "2022-03-14T19:47:13.829Z"
   },
   {
    "duration": 361,
    "start_time": "2022-03-14T19:47:49.977Z"
   },
   {
    "duration": 392,
    "start_time": "2022-03-14T19:48:15.853Z"
   },
   {
    "duration": 6030,
    "start_time": "2022-03-14T19:48:33.207Z"
   },
   {
    "duration": 293,
    "start_time": "2022-03-14T20:03:42.817Z"
   },
   {
    "duration": 5023,
    "start_time": "2022-03-14T20:04:51.690Z"
   },
   {
    "duration": 4983,
    "start_time": "2022-03-14T20:17:11.561Z"
   },
   {
    "duration": 442,
    "start_time": "2022-03-14T21:21:51.620Z"
   },
   {
    "duration": 2315,
    "start_time": "2022-03-14T21:21:58.658Z"
   },
   {
    "duration": 851,
    "start_time": "2022-03-14T21:22:00.975Z"
   },
   {
    "duration": 8,
    "start_time": "2022-03-14T21:22:01.828Z"
   },
   {
    "duration": 9,
    "start_time": "2022-03-14T21:22:01.837Z"
   },
   {
    "duration": 57,
    "start_time": "2022-03-14T21:22:01.847Z"
   },
   {
    "duration": 390,
    "start_time": "2022-03-14T21:22:01.906Z"
   },
   {
    "duration": 206,
    "start_time": "2022-03-14T21:22:02.298Z"
   },
   {
    "duration": 898,
    "start_time": "2022-03-14T21:22:02.506Z"
   },
   {
    "duration": 49,
    "start_time": "2022-03-14T21:22:03.405Z"
   },
   {
    "duration": 3,
    "start_time": "2022-03-14T21:22:03.455Z"
   },
   {
    "duration": 27,
    "start_time": "2022-03-14T21:22:03.460Z"
   },
   {
    "duration": 293,
    "start_time": "2022-03-14T21:22:03.488Z"
   },
   {
    "duration": -45,
    "start_time": "2022-03-14T21:22:03.828Z"
   },
   {
    "duration": -46,
    "start_time": "2022-03-14T21:22:03.830Z"
   },
   {
    "duration": -45,
    "start_time": "2022-03-14T21:22:03.831Z"
   },
   {
    "duration": -46,
    "start_time": "2022-03-14T21:22:03.833Z"
   },
   {
    "duration": -46,
    "start_time": "2022-03-14T21:22:03.834Z"
   },
   {
    "duration": 345,
    "start_time": "2022-03-14T21:22:36.350Z"
   },
   {
    "duration": 2302,
    "start_time": "2022-03-14T21:22:57.298Z"
   },
   {
    "duration": 351,
    "start_time": "2022-03-14T21:23:07.342Z"
   },
   {
    "duration": 727,
    "start_time": "2022-03-14T21:23:25.398Z"
   },
   {
    "duration": 4922,
    "start_time": "2022-03-14T21:27:32.790Z"
   },
   {
    "duration": 4,
    "start_time": "2022-03-15T06:25:02.797Z"
   },
   {
    "duration": 5616,
    "start_time": "2022-03-15T06:25:07.697Z"
   },
   {
    "duration": 5,
    "start_time": "2022-03-15T06:42:08.764Z"
   },
   {
    "duration": 4,
    "start_time": "2022-03-15T06:43:41.010Z"
   },
   {
    "duration": 4,
    "start_time": "2022-03-15T06:43:57.579Z"
   },
   {
    "duration": 695,
    "start_time": "2022-03-15T06:44:07.097Z"
   },
   {
    "duration": 624,
    "start_time": "2022-03-15T06:46:20.704Z"
   },
   {
    "duration": 4,
    "start_time": "2022-03-15T06:47:43.195Z"
   },
   {
    "duration": 2092,
    "start_time": "2022-03-15T06:48:09.290Z"
   },
   {
    "duration": 2385,
    "start_time": "2022-03-15T06:49:02.296Z"
   },
   {
    "duration": 21,
    "start_time": "2022-03-15T06:49:56.276Z"
   },
   {
    "duration": 24,
    "start_time": "2022-03-15T06:50:12.899Z"
   },
   {
    "duration": 22,
    "start_time": "2022-03-15T06:50:54.440Z"
   },
   {
    "duration": 100,
    "start_time": "2022-03-15T06:51:24.546Z"
   },
   {
    "duration": 23,
    "start_time": "2022-03-15T06:51:31.850Z"
   },
   {
    "duration": 103,
    "start_time": "2022-03-15T06:52:38.729Z"
   },
   {
    "duration": 18337,
    "start_time": "2022-03-15T06:52:46.499Z"
   },
   {
    "duration": 18709,
    "start_time": "2022-03-15T06:53:16.074Z"
   },
   {
    "duration": 23,
    "start_time": "2022-03-15T06:55:08.231Z"
   },
   {
    "duration": 18471,
    "start_time": "2022-03-15T07:02:47.721Z"
   },
   {
    "duration": 18414,
    "start_time": "2022-03-15T07:03:52.381Z"
   },
   {
    "duration": 11,
    "start_time": "2022-03-15T07:15:43.110Z"
   },
   {
    "duration": 6675,
    "start_time": "2022-03-15T07:18:45.822Z"
   },
   {
    "duration": 14,
    "start_time": "2022-03-15T07:19:09.692Z"
   },
   {
    "duration": 7038,
    "start_time": "2022-03-15T07:19:15.414Z"
   },
   {
    "duration": 328,
    "start_time": "2022-03-15T07:23:26.433Z"
   },
   {
    "duration": 292,
    "start_time": "2022-03-15T07:23:33.469Z"
   },
   {
    "duration": 20,
    "start_time": "2022-03-15T07:23:56.346Z"
   },
   {
    "duration": 11,
    "start_time": "2022-03-15T07:25:51.584Z"
   },
   {
    "duration": 287,
    "start_time": "2022-03-15T08:01:53.653Z"
   },
   {
    "duration": 304,
    "start_time": "2022-03-15T08:02:04.927Z"
   },
   {
    "duration": 4017,
    "start_time": "2022-03-15T08:02:54.756Z"
   },
   {
    "duration": 19784,
    "start_time": "2022-03-15T08:03:32.901Z"
   },
   {
    "duration": 4140,
    "start_time": "2022-03-15T08:04:23.094Z"
   },
   {
    "duration": 20059,
    "start_time": "2022-03-15T08:05:13.571Z"
   },
   {
    "duration": 18899,
    "start_time": "2022-03-15T08:05:44.031Z"
   },
   {
    "duration": 8915,
    "start_time": "2022-03-15T08:06:33.189Z"
   },
   {
    "duration": 24876,
    "start_time": "2022-03-15T11:46:08.657Z"
   },
   {
    "duration": 55865,
    "start_time": "2022-03-15T11:47:32.020Z"
   },
   {
    "duration": 8256,
    "start_time": "2022-03-15T11:48:27.887Z"
   },
   {
    "duration": 102,
    "start_time": "2022-03-15T12:05:33.136Z"
   },
   {
    "duration": 9395,
    "start_time": "2022-03-15T12:05:36.447Z"
   },
   {
    "duration": 9653,
    "start_time": "2022-03-15T12:07:10.630Z"
   },
   {
    "duration": 9314,
    "start_time": "2022-03-15T12:07:29.586Z"
   },
   {
    "duration": 4081,
    "start_time": "2022-03-15T12:08:14.869Z"
   },
   {
    "duration": 9339,
    "start_time": "2022-03-15T12:14:45.834Z"
   },
   {
    "duration": 3862,
    "start_time": "2022-03-15T12:28:24.499Z"
   },
   {
    "duration": 3815,
    "start_time": "2022-03-15T12:28:49.659Z"
   },
   {
    "duration": 1002,
    "start_time": "2022-03-15T12:31:03.889Z"
   },
   {
    "duration": 2345,
    "start_time": "2022-03-15T12:31:08.495Z"
   },
   {
    "duration": 4360,
    "start_time": "2022-03-15T12:31:49.403Z"
   },
   {
    "duration": 9656,
    "start_time": "2022-03-15T12:31:55.560Z"
   },
   {
    "duration": 261444,
    "start_time": "2022-03-15T12:32:08.686Z"
   },
   {
    "duration": 619439,
    "start_time": "2022-03-15T12:36:30.132Z"
   },
   {
    "duration": 4191,
    "start_time": "2022-03-15T12:51:33.913Z"
   },
   {
    "duration": 4258,
    "start_time": "2022-03-15T12:52:34.698Z"
   },
   {
    "duration": 4652,
    "start_time": "2022-03-15T12:53:31.767Z"
   },
   {
    "duration": 13758,
    "start_time": "2022-03-15T12:54:04.324Z"
   },
   {
    "duration": 5238,
    "start_time": "2022-03-15T12:55:03.045Z"
   },
   {
    "duration": 4200,
    "start_time": "2022-03-15T13:22:24.521Z"
   },
   {
    "duration": 4499,
    "start_time": "2022-03-15T13:24:43.829Z"
   },
   {
    "duration": 4122,
    "start_time": "2022-03-15T13:24:54.086Z"
   },
   {
    "duration": 30,
    "start_time": "2022-03-15T13:26:48.536Z"
   },
   {
    "duration": 13,
    "start_time": "2022-03-15T13:27:18.214Z"
   },
   {
    "duration": 4,
    "start_time": "2022-03-15T13:27:36.973Z"
   },
   {
    "duration": 4,
    "start_time": "2022-03-15T13:27:52.990Z"
   },
   {
    "duration": 3,
    "start_time": "2022-03-15T13:28:14.101Z"
   },
   {
    "duration": 4441,
    "start_time": "2022-03-15T13:30:19.217Z"
   },
   {
    "duration": 4344,
    "start_time": "2022-03-15T13:30:43.593Z"
   },
   {
    "duration": 594,
    "start_time": "2022-03-15T13:31:41.856Z"
   },
   {
    "duration": 3401,
    "start_time": "2022-03-15T13:33:01.965Z"
   },
   {
    "duration": 760,
    "start_time": "2022-03-15T13:33:05.368Z"
   },
   {
    "duration": 10,
    "start_time": "2022-03-15T13:33:06.130Z"
   },
   {
    "duration": 8,
    "start_time": "2022-03-15T13:33:06.142Z"
   },
   {
    "duration": 51,
    "start_time": "2022-03-15T13:33:06.151Z"
   },
   {
    "duration": 395,
    "start_time": "2022-03-15T13:33:06.204Z"
   },
   {
    "duration": 215,
    "start_time": "2022-03-15T13:33:06.601Z"
   },
   {
    "duration": 972,
    "start_time": "2022-03-15T13:33:06.818Z"
   },
   {
    "duration": 50,
    "start_time": "2022-03-15T13:33:07.792Z"
   },
   {
    "duration": 3,
    "start_time": "2022-03-15T13:33:07.844Z"
   },
   {
    "duration": 35,
    "start_time": "2022-03-15T13:33:07.849Z"
   },
   {
    "duration": 3320,
    "start_time": "2022-03-15T13:33:07.885Z"
   },
   {
    "duration": 6776,
    "start_time": "2022-03-15T13:33:11.207Z"
   },
   {
    "duration": 260084,
    "start_time": "2022-03-15T13:33:17.985Z"
   },
   {
    "duration": 608674,
    "start_time": "2022-03-15T13:37:38.071Z"
   },
   {
    "duration": 15116,
    "start_time": "2022-03-15T13:47:46.747Z"
   },
   {
    "duration": 5095,
    "start_time": "2022-03-15T13:48:01.866Z"
   },
   {
    "duration": 5,
    "start_time": "2022-03-15T13:48:06.963Z"
   },
   {
    "duration": 11,
    "start_time": "2022-03-15T13:48:06.969Z"
   },
   {
    "duration": 31,
    "start_time": "2022-03-15T13:48:06.982Z"
   },
   {
    "duration": 686,
    "start_time": "2022-03-15T13:48:07.016Z"
   },
   {
    "duration": 4525,
    "start_time": "2022-03-15T13:53:27.498Z"
   },
   {
    "duration": 107,
    "start_time": "2022-03-15T13:53:57.276Z"
   },
   {
    "duration": 220,
    "start_time": "2022-03-15T13:54:04.978Z"
   },
   {
    "duration": 599,
    "start_time": "2022-03-15T13:54:22.803Z"
   },
   {
    "duration": 6391,
    "start_time": "2022-03-15T14:05:14.516Z"
   },
   {
    "duration": 596,
    "start_time": "2022-03-15T14:05:27.977Z"
   },
   {
    "duration": 4210,
    "start_time": "2022-03-15T14:06:18.382Z"
   },
   {
    "duration": 31608,
    "start_time": "2022-03-15T14:06:34.514Z"
   },
   {
    "duration": 321,
    "start_time": "2022-03-15T14:11:13.712Z"
   },
   {
    "duration": 379,
    "start_time": "2022-03-15T14:11:39.166Z"
   },
   {
    "duration": 3078,
    "start_time": "2022-03-15T14:13:36.555Z"
   },
   {
    "duration": 11607,
    "start_time": "2022-03-15T14:14:12.510Z"
   },
   {
    "duration": 10375,
    "start_time": "2022-03-15T14:18:00.301Z"
   },
   {
    "duration": 3189,
    "start_time": "2022-03-15T14:18:45.998Z"
   },
   {
    "duration": 12,
    "start_time": "2022-03-15T14:19:04.719Z"
   },
   {
    "duration": 3212,
    "start_time": "2022-03-15T14:19:05.304Z"
   },
   {
    "duration": 6942,
    "start_time": "2022-03-15T14:19:08.518Z"
   },
   {
    "duration": 10198,
    "start_time": "2022-03-15T14:21:49.044Z"
   },
   {
    "duration": 3412,
    "start_time": "2022-03-15T14:25:57.849Z"
   },
   {
    "duration": 803,
    "start_time": "2022-03-15T14:26:01.262Z"
   },
   {
    "duration": 17,
    "start_time": "2022-03-15T14:26:02.081Z"
   },
   {
    "duration": 10,
    "start_time": "2022-03-15T14:26:02.101Z"
   },
   {
    "duration": 56,
    "start_time": "2022-03-15T14:26:02.114Z"
   },
   {
    "duration": 375,
    "start_time": "2022-03-15T14:26:02.171Z"
   },
   {
    "duration": 197,
    "start_time": "2022-03-15T14:26:02.548Z"
   },
   {
    "duration": 934,
    "start_time": "2022-03-15T14:26:02.747Z"
   },
   {
    "duration": 48,
    "start_time": "2022-03-15T14:26:03.682Z"
   },
   {
    "duration": 3,
    "start_time": "2022-03-15T14:26:03.732Z"
   },
   {
    "duration": 15,
    "start_time": "2022-03-15T14:26:03.737Z"
   },
   {
    "duration": 471,
    "start_time": "2022-03-15T14:26:03.753Z"
   },
   {
    "duration": -63,
    "start_time": "2022-03-15T14:26:04.290Z"
   },
   {
    "duration": -62,
    "start_time": "2022-03-15T14:26:04.291Z"
   },
   {
    "duration": -62,
    "start_time": "2022-03-15T14:26:04.292Z"
   },
   {
    "duration": -62,
    "start_time": "2022-03-15T14:26:04.294Z"
   },
   {
    "duration": -61,
    "start_time": "2022-03-15T14:26:04.295Z"
   },
   {
    "duration": 15,
    "start_time": "2022-03-15T14:26:34.293Z"
   },
   {
    "duration": 9840,
    "start_time": "2022-03-15T14:26:39.919Z"
   },
   {
    "duration": 975214,
    "start_time": "2022-03-15T14:26:59.653Z"
   },
   {
    "duration": 13491,
    "start_time": "2022-03-15T14:43:14.869Z"
   },
   {
    "duration": 31660,
    "start_time": "2022-03-15T14:43:28.362Z"
   },
   {
    "duration": 651,
    "start_time": "2022-03-15T14:44:00.023Z"
   },
   {
    "duration": 3006,
    "start_time": "2022-03-15T15:06:55.402Z"
   },
   {
    "duration": 13,
    "start_time": "2022-03-15T15:07:01.606Z"
   },
   {
    "duration": 6950,
    "start_time": "2022-03-15T15:07:25.980Z"
   },
   {
    "duration": 3321,
    "start_time": "2022-03-15T15:09:31.642Z"
   },
   {
    "duration": 772,
    "start_time": "2022-03-15T15:09:34.965Z"
   },
   {
    "duration": 8,
    "start_time": "2022-03-15T15:09:35.739Z"
   },
   {
    "duration": 7,
    "start_time": "2022-03-15T15:09:35.749Z"
   },
   {
    "duration": 51,
    "start_time": "2022-03-15T15:09:35.757Z"
   },
   {
    "duration": 380,
    "start_time": "2022-03-15T15:09:35.810Z"
   },
   {
    "duration": 194,
    "start_time": "2022-03-15T15:09:36.192Z"
   },
   {
    "duration": 948,
    "start_time": "2022-03-15T15:09:36.388Z"
   },
   {
    "duration": 58,
    "start_time": "2022-03-15T15:09:37.338Z"
   },
   {
    "duration": 4,
    "start_time": "2022-03-15T15:09:37.398Z"
   },
   {
    "duration": 15,
    "start_time": "2022-03-15T15:09:37.404Z"
   },
   {
    "duration": 3109,
    "start_time": "2022-03-15T15:09:37.420Z"
   },
   {
    "duration": 7010,
    "start_time": "2022-03-15T15:09:40.530Z"
   },
   {
    "duration": 257042,
    "start_time": "2022-03-15T15:09:47.541Z"
   },
   {
    "duration": 609820,
    "start_time": "2022-03-15T15:14:04.585Z"
   },
   {
    "duration": 18709,
    "start_time": "2022-03-15T15:24:14.407Z"
   },
   {
    "duration": 32020,
    "start_time": "2022-03-15T15:24:33.118Z"
   },
   {
    "duration": 723,
    "start_time": "2022-03-15T15:25:05.139Z"
   },
   {
    "duration": 4213,
    "start_time": "2022-03-15T15:30:37.586Z"
   },
   {
    "duration": 31514,
    "start_time": "2022-03-15T15:30:49.348Z"
   },
   {
    "duration": 4,
    "start_time": "2022-03-15T15:36:13.220Z"
   },
   {
    "duration": 1334,
    "start_time": "2022-03-15T15:36:17.576Z"
   },
   {
    "duration": 4,
    "start_time": "2022-03-15T15:36:29.304Z"
   },
   {
    "duration": 6,
    "start_time": "2022-03-15T15:36:48.760Z"
   },
   {
    "duration": 615,
    "start_time": "2022-03-15T15:37:14.565Z"
   },
   {
    "duration": 4,
    "start_time": "2022-03-15T15:37:19.245Z"
   },
   {
    "duration": 4,
    "start_time": "2022-03-15T15:38:05.002Z"
   },
   {
    "duration": 5,
    "start_time": "2022-03-15T15:38:52.038Z"
   },
   {
    "duration": 598,
    "start_time": "2022-03-15T15:39:02.610Z"
   },
   {
    "duration": 4826,
    "start_time": "2022-03-15T15:40:05.291Z"
   },
   {
    "duration": 780,
    "start_time": "2022-03-15T15:40:10.119Z"
   },
   {
    "duration": 10,
    "start_time": "2022-03-15T15:40:10.901Z"
   },
   {
    "duration": 5,
    "start_time": "2022-03-15T15:40:10.913Z"
   },
   {
    "duration": 34,
    "start_time": "2022-03-15T15:40:10.920Z"
   },
   {
    "duration": 411,
    "start_time": "2022-03-15T15:40:10.955Z"
   },
   {
    "duration": 201,
    "start_time": "2022-03-15T15:40:11.368Z"
   },
   {
    "duration": 949,
    "start_time": "2022-03-15T15:40:11.580Z"
   },
   {
    "duration": 65,
    "start_time": "2022-03-15T15:40:12.531Z"
   },
   {
    "duration": 3,
    "start_time": "2022-03-15T15:40:12.598Z"
   },
   {
    "duration": 17,
    "start_time": "2022-03-15T15:40:12.603Z"
   },
   {
    "duration": 3089,
    "start_time": "2022-03-15T15:40:12.621Z"
   },
   {
    "duration": 7086,
    "start_time": "2022-03-15T15:40:15.712Z"
   },
   {
    "duration": 149,
    "start_time": "2022-03-15T15:40:22.800Z"
   },
   {
    "duration": 34,
    "start_time": "2022-03-15T15:40:22.917Z"
   },
   {
    "duration": 29,
    "start_time": "2022-03-15T15:40:22.923Z"
   },
   {
    "duration": 28,
    "start_time": "2022-03-15T15:40:22.925Z"
   },
   {
    "duration": 28,
    "start_time": "2022-03-15T15:40:22.926Z"
   },
   {
    "duration": 28,
    "start_time": "2022-03-15T15:40:22.927Z"
   },
   {
    "duration": 28,
    "start_time": "2022-03-15T15:40:22.928Z"
   },
   {
    "duration": 2,
    "start_time": "2022-03-15T15:41:03.722Z"
   },
   {
    "duration": 13986,
    "start_time": "2022-03-15T15:41:05.395Z"
   },
   {
    "duration": 4535,
    "start_time": "2022-03-15T15:41:22.878Z"
   },
   {
    "duration": 5,
    "start_time": "2022-03-15T15:41:29.003Z"
   },
   {
    "duration": 5,
    "start_time": "2022-03-15T15:42:19.158Z"
   },
   {
    "duration": 5,
    "start_time": "2022-03-15T15:42:44.604Z"
   },
   {
    "duration": 585,
    "start_time": "2022-03-15T15:43:44.414Z"
   },
   {
    "duration": 6598,
    "start_time": "2022-03-15T15:44:29.007Z"
   },
   {
    "duration": 1194,
    "start_time": "2022-03-16T07:42:35.659Z"
   },
   {
    "duration": 779,
    "start_time": "2022-03-16T07:42:41.313Z"
   },
   {
    "duration": 11,
    "start_time": "2022-03-16T07:42:45.244Z"
   },
   {
    "duration": 6,
    "start_time": "2022-03-16T07:42:49.223Z"
   },
   {
    "duration": 32,
    "start_time": "2022-03-16T07:42:53.073Z"
   },
   {
    "duration": 437,
    "start_time": "2022-03-16T07:42:55.438Z"
   },
   {
    "duration": 280,
    "start_time": "2022-03-16T07:43:05.890Z"
   },
   {
    "duration": 208,
    "start_time": "2022-03-16T07:43:18.290Z"
   },
   {
    "duration": 10,
    "start_time": "2022-03-16T07:43:52.814Z"
   },
   {
    "duration": 58,
    "start_time": "2022-03-16T07:44:00.067Z"
   },
   {
    "duration": 4,
    "start_time": "2022-03-16T07:44:06.089Z"
   },
   {
    "duration": 15,
    "start_time": "2022-03-16T07:44:36.183Z"
   },
   {
    "duration": 6,
    "start_time": "2022-03-16T07:44:57.232Z"
   },
   {
    "duration": 3226,
    "start_time": "2022-03-16T07:45:35.753Z"
   },
   {
    "duration": 7423,
    "start_time": "2022-03-16T07:45:38.981Z"
   },
   {
    "duration": 14287,
    "start_time": "2022-03-16T07:45:52.984Z"
   },
   {
    "duration": 4603,
    "start_time": "2022-03-16T08:53:59.252Z"
   },
   {
    "duration": 742,
    "start_time": "2022-03-16T08:54:03.857Z"
   },
   {
    "duration": 10,
    "start_time": "2022-03-16T08:54:04.601Z"
   },
   {
    "duration": 30,
    "start_time": "2022-03-16T08:54:04.613Z"
   },
   {
    "duration": 33,
    "start_time": "2022-03-16T08:54:04.645Z"
   },
   {
    "duration": 380,
    "start_time": "2022-03-16T08:54:04.680Z"
   },
   {
    "duration": 193,
    "start_time": "2022-03-16T08:54:05.061Z"
   },
   {
    "duration": 956,
    "start_time": "2022-03-16T08:54:05.256Z"
   },
   {
    "duration": 48,
    "start_time": "2022-03-16T08:54:06.214Z"
   },
   {
    "duration": 4,
    "start_time": "2022-03-16T08:54:06.263Z"
   },
   {
    "duration": 28,
    "start_time": "2022-03-16T08:54:06.269Z"
   },
   {
    "duration": 7,
    "start_time": "2022-03-16T08:54:06.300Z"
   },
   {
    "duration": 3723,
    "start_time": "2022-03-16T08:54:06.309Z"
   },
   {
    "duration": 6901,
    "start_time": "2022-03-16T08:54:10.033Z"
   },
   {
    "duration": 259201,
    "start_time": "2022-03-16T08:54:16.936Z"
   },
   {
    "duration": 618049,
    "start_time": "2022-03-16T08:58:36.139Z"
   },
   {
    "duration": 18884,
    "start_time": "2022-03-16T09:08:54.190Z"
   },
   {
    "duration": 5138,
    "start_time": "2022-03-16T09:09:13.081Z"
   },
   {
    "duration": 9,
    "start_time": "2022-03-16T14:53:04.171Z"
   },
   {
    "duration": 6,
    "start_time": "2022-03-16T14:53:12.898Z"
   },
   {
    "duration": 9250,
    "start_time": "2022-03-16T15:47:33.192Z"
   },
   {
    "duration": 595,
    "start_time": "2022-03-16T15:48:43.889Z"
   },
   {
    "duration": 581,
    "start_time": "2022-03-16T15:48:47.258Z"
   },
   {
    "duration": 4883,
    "start_time": "2022-03-16T15:49:19.600Z"
   },
   {
    "duration": 4,
    "start_time": "2022-03-16T16:25:35.963Z"
   },
   {
    "duration": 2429,
    "start_time": "2022-03-16T16:26:11.342Z"
   },
   {
    "duration": 1071,
    "start_time": "2022-03-16T16:26:13.774Z"
   },
   {
    "duration": 6,
    "start_time": "2022-03-16T16:26:14.847Z"
   },
   {
    "duration": 30,
    "start_time": "2022-03-16T16:26:14.854Z"
   },
   {
    "duration": 29,
    "start_time": "2022-03-16T16:26:14.886Z"
   },
   {
    "duration": 399,
    "start_time": "2022-03-16T16:26:14.917Z"
   },
   {
    "duration": 201,
    "start_time": "2022-03-16T16:26:15.318Z"
   },
   {
    "duration": 985,
    "start_time": "2022-03-16T16:26:15.521Z"
   },
   {
    "duration": 56,
    "start_time": "2022-03-16T16:26:16.509Z"
   },
   {
    "duration": 5,
    "start_time": "2022-03-16T16:26:16.581Z"
   },
   {
    "duration": 15,
    "start_time": "2022-03-16T16:26:16.587Z"
   },
   {
    "duration": 12,
    "start_time": "2022-03-16T16:26:16.604Z"
   },
   {
    "duration": 651,
    "start_time": "2022-03-16T16:26:16.617Z"
   },
   {
    "duration": 12,
    "start_time": "2022-03-16T16:26:17.259Z"
   },
   {
    "duration": 11,
    "start_time": "2022-03-16T16:26:17.261Z"
   },
   {
    "duration": 11,
    "start_time": "2022-03-16T16:26:17.262Z"
   },
   {
    "duration": 7,
    "start_time": "2022-03-16T16:26:17.267Z"
   },
   {
    "duration": 7,
    "start_time": "2022-03-16T16:26:17.268Z"
   },
   {
    "duration": 7,
    "start_time": "2022-03-16T16:26:17.269Z"
   },
   {
    "duration": 4,
    "start_time": "2022-03-16T16:28:04.235Z"
   },
   {
    "duration": 3071,
    "start_time": "2022-03-16T16:28:08.425Z"
   },
   {
    "duration": 4,
    "start_time": "2022-03-16T16:28:52.255Z"
   },
   {
    "duration": 801,
    "start_time": "2022-03-16T16:28:56.742Z"
   },
   {
    "duration": 4,
    "start_time": "2022-03-16T16:29:59.487Z"
   },
   {
    "duration": 4,
    "start_time": "2022-03-16T16:30:05.232Z"
   },
   {
    "duration": 3367,
    "start_time": "2022-03-16T16:30:07.670Z"
   },
   {
    "duration": 5,
    "start_time": "2022-03-16T16:31:11.620Z"
   },
   {
    "duration": 3328,
    "start_time": "2022-03-16T16:31:14.074Z"
   },
   {
    "duration": 3,
    "start_time": "2022-03-16T16:31:27.779Z"
   },
   {
    "duration": 5111,
    "start_time": "2022-03-16T16:31:30.933Z"
   },
   {
    "duration": 4,
    "start_time": "2022-03-16T16:42:15.283Z"
   },
   {
    "duration": 698,
    "start_time": "2022-03-16T16:42:20.525Z"
   },
   {
    "duration": 4,
    "start_time": "2022-03-16T16:43:20.929Z"
   },
   {
    "duration": 3,
    "start_time": "2022-03-16T16:43:25.559Z"
   },
   {
    "duration": 4,
    "start_time": "2022-03-16T16:43:35.126Z"
   },
   {
    "duration": 4,
    "start_time": "2022-03-16T16:43:39.866Z"
   },
   {
    "duration": 4,
    "start_time": "2022-03-16T16:43:44.410Z"
   },
   {
    "duration": 677,
    "start_time": "2022-03-16T16:44:57.562Z"
   },
   {
    "duration": 4,
    "start_time": "2022-03-16T16:45:13.344Z"
   },
   {
    "duration": 4575,
    "start_time": "2022-03-16T16:45:16.715Z"
   },
   {
    "duration": 7158,
    "start_time": "2022-03-16T16:45:21.292Z"
   },
   {
    "duration": 5212,
    "start_time": "2022-03-16T16:47:28.073Z"
   },
   {
    "duration": 18,
    "start_time": "2022-03-16T16:49:49.010Z"
   },
   {
    "duration": 13577,
    "start_time": "2022-03-16T16:50:37.855Z"
   },
   {
    "duration": 4,
    "start_time": "2022-03-16T16:54:43.160Z"
   },
   {
    "duration": 3112,
    "start_time": "2022-03-16T16:54:47.123Z"
   },
   {
    "duration": 7089,
    "start_time": "2022-03-16T16:54:53.937Z"
   },
   {
    "duration": 4,
    "start_time": "2022-03-16T16:55:59.513Z"
   },
   {
    "duration": 4,
    "start_time": "2022-03-16T16:56:22.979Z"
   },
   {
    "duration": 3132,
    "start_time": "2022-03-16T16:56:28.861Z"
   },
   {
    "duration": 7656,
    "start_time": "2022-03-16T16:56:41.849Z"
   },
   {
    "duration": 4,
    "start_time": "2022-03-16T16:57:20.400Z"
   },
   {
    "duration": 3077,
    "start_time": "2022-03-16T16:57:23.032Z"
   },
   {
    "duration": 2386,
    "start_time": "2022-03-16T17:02:58.560Z"
   },
   {
    "duration": 764,
    "start_time": "2022-03-16T17:03:00.948Z"
   },
   {
    "duration": 6,
    "start_time": "2022-03-16T17:03:01.714Z"
   },
   {
    "duration": 16,
    "start_time": "2022-03-16T17:03:01.723Z"
   },
   {
    "duration": 47,
    "start_time": "2022-03-16T17:03:01.741Z"
   },
   {
    "duration": 391,
    "start_time": "2022-03-16T17:03:01.790Z"
   },
   {
    "duration": 221,
    "start_time": "2022-03-16T17:03:02.182Z"
   },
   {
    "duration": 1476,
    "start_time": "2022-03-16T17:03:02.405Z"
   },
   {
    "duration": 35,
    "start_time": "2022-03-16T17:03:03.883Z"
   },
   {
    "duration": 4,
    "start_time": "2022-03-16T17:03:03.921Z"
   },
   {
    "duration": 15,
    "start_time": "2022-03-16T17:03:03.927Z"
   },
   {
    "duration": 6,
    "start_time": "2022-03-16T17:03:03.943Z"
   },
   {
    "duration": 4551,
    "start_time": "2022-03-16T17:03:03.950Z"
   },
   {
    "duration": 7443,
    "start_time": "2022-03-16T17:03:08.503Z"
   },
   {
    "duration": 13985,
    "start_time": "2022-03-16T17:03:15.948Z"
   },
   {
    "duration": 4901,
    "start_time": "2022-03-16T17:03:29.935Z"
   },
   {
    "duration": 52,
    "start_time": "2022-03-16T17:03:34.786Z"
   },
   {
    "duration": 50,
    "start_time": "2022-03-16T17:03:34.789Z"
   },
   {
    "duration": 4924,
    "start_time": "2022-03-16T17:03:56.101Z"
   },
   {
    "duration": 4588,
    "start_time": "2022-03-16T17:04:07.754Z"
   },
   {
    "duration": 575,
    "start_time": "2022-03-16T17:05:51.318Z"
   },
   {
    "duration": 604,
    "start_time": "2022-03-16T17:05:55.907Z"
   },
   {
    "duration": 5150,
    "start_time": "2022-03-16T17:08:04.937Z"
   },
   {
    "duration": 4769,
    "start_time": "2022-03-16T17:08:53.503Z"
   },
   {
    "duration": 3,
    "start_time": "2022-03-16T17:10:06.206Z"
   },
   {
    "duration": 4,
    "start_time": "2022-03-16T17:10:13.274Z"
   },
   {
    "duration": 374,
    "start_time": "2022-03-16T17:21:24.253Z"
   },
   {
    "duration": 6,
    "start_time": "2022-03-16T17:21:46.716Z"
   },
   {
    "duration": 5,
    "start_time": "2022-03-16T17:27:16.501Z"
   },
   {
    "duration": 47,
    "start_time": "2022-03-16T17:28:53.985Z"
   },
   {
    "duration": 15,
    "start_time": "2022-03-16T17:29:11.110Z"
   },
   {
    "duration": 595,
    "start_time": "2022-03-16T17:30:31.463Z"
   },
   {
    "duration": 4,
    "start_time": "2022-03-16T17:31:39.119Z"
   },
   {
    "duration": 3203,
    "start_time": "2022-03-16T17:31:58.934Z"
   },
   {
    "duration": 594,
    "start_time": "2022-03-16T17:32:08.933Z"
   },
   {
    "duration": 581,
    "start_time": "2022-03-16T17:32:23.558Z"
   },
   {
    "duration": 6925,
    "start_time": "2022-03-16T17:32:42.030Z"
   },
   {
    "duration": 7506,
    "start_time": "2022-03-16T17:33:29.475Z"
   },
   {
    "duration": 14294,
    "start_time": "2022-03-16T17:33:55.934Z"
   },
   {
    "duration": 956,
    "start_time": "2022-03-16T17:35:04.537Z"
   },
   {
    "duration": 10,
    "start_time": "2022-03-16T17:36:10.526Z"
   },
   {
    "duration": 313,
    "start_time": "2022-03-16T17:50:38.726Z"
   },
   {
    "duration": 4,
    "start_time": "2022-03-16T17:50:48.809Z"
   },
   {
    "duration": 10,
    "start_time": "2022-03-16T17:50:52.342Z"
   },
   {
    "duration": 33,
    "start_time": "2022-03-16T18:08:59.448Z"
   },
   {
    "duration": 14,
    "start_time": "2022-03-16T18:09:16.478Z"
   },
   {
    "duration": 9,
    "start_time": "2022-03-16T18:20:47.631Z"
   },
   {
    "duration": 7568,
    "start_time": "2022-03-16T18:21:09.598Z"
   },
   {
    "duration": 12,
    "start_time": "2022-03-16T18:26:08.205Z"
   },
   {
    "duration": 14,
    "start_time": "2022-03-16T18:30:02.808Z"
   },
   {
    "duration": 8,
    "start_time": "2022-03-16T18:30:07.381Z"
   },
   {
    "duration": 8,
    "start_time": "2022-03-16T18:42:56.267Z"
   },
   {
    "duration": 9,
    "start_time": "2022-03-16T18:43:16.288Z"
   },
   {
    "duration": 7,
    "start_time": "2022-03-16T18:43:24.696Z"
   },
   {
    "duration": 12,
    "start_time": "2022-03-16T18:43:43.670Z"
   },
   {
    "duration": 10,
    "start_time": "2022-03-16T18:45:52.111Z"
   },
   {
    "duration": 335,
    "start_time": "2022-03-16T19:15:22.998Z"
   },
   {
    "duration": 2361,
    "start_time": "2022-03-16T19:15:45.167Z"
   },
   {
    "duration": 752,
    "start_time": "2022-03-16T19:15:47.530Z"
   },
   {
    "duration": 6,
    "start_time": "2022-03-16T19:15:48.284Z"
   },
   {
    "duration": 7,
    "start_time": "2022-03-16T19:15:48.292Z"
   },
   {
    "duration": 28,
    "start_time": "2022-03-16T19:15:48.301Z"
   },
   {
    "duration": 426,
    "start_time": "2022-03-16T19:15:48.331Z"
   },
   {
    "duration": 202,
    "start_time": "2022-03-16T19:15:48.759Z"
   },
   {
    "duration": 902,
    "start_time": "2022-03-16T19:15:48.964Z"
   },
   {
    "duration": 36,
    "start_time": "2022-03-16T19:15:49.867Z"
   },
   {
    "duration": 4,
    "start_time": "2022-03-16T19:15:49.904Z"
   },
   {
    "duration": 306,
    "start_time": "2022-03-16T19:15:49.909Z"
   },
   {
    "duration": -11,
    "start_time": "2022-03-16T19:15:50.228Z"
   },
   {
    "duration": -12,
    "start_time": "2022-03-16T19:15:50.230Z"
   },
   {
    "duration": -12,
    "start_time": "2022-03-16T19:15:50.231Z"
   },
   {
    "duration": -13,
    "start_time": "2022-03-16T19:15:50.233Z"
   },
   {
    "duration": -17,
    "start_time": "2022-03-16T19:15:50.238Z"
   },
   {
    "duration": -18,
    "start_time": "2022-03-16T19:15:50.240Z"
   },
   {
    "duration": -19,
    "start_time": "2022-03-16T19:15:50.241Z"
   },
   {
    "duration": -19,
    "start_time": "2022-03-16T19:15:50.242Z"
   },
   {
    "duration": 31,
    "start_time": "2022-03-16T19:16:07.913Z"
   },
   {
    "duration": 2743,
    "start_time": "2022-03-16T19:16:25.416Z"
   },
   {
    "duration": 807,
    "start_time": "2022-03-16T19:16:28.161Z"
   },
   {
    "duration": 6,
    "start_time": "2022-03-16T19:16:28.981Z"
   },
   {
    "duration": 7,
    "start_time": "2022-03-16T19:16:28.990Z"
   },
   {
    "duration": 41,
    "start_time": "2022-03-16T19:16:28.999Z"
   },
   {
    "duration": 492,
    "start_time": "2022-03-16T19:16:29.042Z"
   },
   {
    "duration": 197,
    "start_time": "2022-03-16T19:16:29.535Z"
   },
   {
    "duration": 892,
    "start_time": "2022-03-16T19:16:29.734Z"
   },
   {
    "duration": 24,
    "start_time": "2022-03-16T19:16:30.629Z"
   },
   {
    "duration": 4,
    "start_time": "2022-03-16T19:16:30.654Z"
   },
   {
    "duration": 51,
    "start_time": "2022-03-16T19:16:30.659Z"
   },
   {
    "duration": 5,
    "start_time": "2022-03-16T19:16:30.712Z"
   },
   {
    "duration": 14,
    "start_time": "2022-03-16T19:16:30.718Z"
   },
   {
    "duration": 3102,
    "start_time": "2022-03-16T19:16:30.734Z"
   },
   {
    "duration": 6838,
    "start_time": "2022-03-16T19:16:33.837Z"
   },
   {
    "duration": 13660,
    "start_time": "2022-03-16T19:16:40.680Z"
   },
   {
    "duration": 4847,
    "start_time": "2022-03-16T19:16:54.341Z"
   },
   {
    "duration": -60,
    "start_time": "2022-03-16T19:16:59.250Z"
   },
   {
    "duration": -61,
    "start_time": "2022-03-16T19:16:59.252Z"
   },
   {
    "duration": 15,
    "start_time": "2022-03-16T19:17:18.672Z"
   },
   {
    "duration": 19,
    "start_time": "2022-03-16T19:17:56.290Z"
   },
   {
    "duration": 18,
    "start_time": "2022-03-16T19:18:07.751Z"
   },
   {
    "duration": 16,
    "start_time": "2022-03-16T19:18:21.482Z"
   },
   {
    "duration": 12,
    "start_time": "2022-03-16T19:20:37.869Z"
   },
   {
    "duration": 2307,
    "start_time": "2022-03-16T19:27:34.931Z"
   },
   {
    "duration": 727,
    "start_time": "2022-03-16T19:27:37.240Z"
   },
   {
    "duration": 16,
    "start_time": "2022-03-16T19:27:37.968Z"
   },
   {
    "duration": 10,
    "start_time": "2022-03-16T19:27:37.985Z"
   },
   {
    "duration": 27,
    "start_time": "2022-03-16T19:27:37.997Z"
   },
   {
    "duration": 389,
    "start_time": "2022-03-16T19:27:38.026Z"
   },
   {
    "duration": 273,
    "start_time": "2022-03-16T19:27:38.416Z"
   },
   {
    "duration": 862,
    "start_time": "2022-03-16T19:27:38.692Z"
   },
   {
    "duration": 36,
    "start_time": "2022-03-16T19:27:39.556Z"
   },
   {
    "duration": 4,
    "start_time": "2022-03-16T19:27:39.593Z"
   },
   {
    "duration": 13,
    "start_time": "2022-03-16T19:27:39.599Z"
   },
   {
    "duration": 289,
    "start_time": "2022-03-16T19:27:39.613Z"
   },
   {
    "duration": -80,
    "start_time": "2022-03-16T19:27:39.984Z"
   },
   {
    "duration": -82,
    "start_time": "2022-03-16T19:27:39.987Z"
   },
   {
    "duration": -81,
    "start_time": "2022-03-16T19:27:39.988Z"
   },
   {
    "duration": -84,
    "start_time": "2022-03-16T19:27:39.992Z"
   },
   {
    "duration": -83,
    "start_time": "2022-03-16T19:27:39.993Z"
   },
   {
    "duration": -84,
    "start_time": "2022-03-16T19:27:39.995Z"
   },
   {
    "duration": 3162,
    "start_time": "2022-03-16T19:31:45.754Z"
   },
   {
    "duration": 7044,
    "start_time": "2022-03-16T19:31:48.918Z"
   },
   {
    "duration": 14023,
    "start_time": "2022-03-16T19:31:55.964Z"
   },
   {
    "duration": 115,
    "start_time": "2022-03-16T19:43:41.388Z"
   },
   {
    "duration": 9,
    "start_time": "2022-03-16T19:43:47.789Z"
   },
   {
    "duration": 9,
    "start_time": "2022-03-16T19:44:04.843Z"
   },
   {
    "duration": 103,
    "start_time": "2022-03-16T19:44:19.440Z"
   },
   {
    "duration": 8,
    "start_time": "2022-03-16T19:44:28.496Z"
   },
   {
    "duration": 10,
    "start_time": "2022-03-16T19:44:38.198Z"
   },
   {
    "duration": 11,
    "start_time": "2022-03-16T19:58:00.000Z"
   },
   {
    "duration": 11,
    "start_time": "2022-03-16T19:58:19.645Z"
   },
   {
    "duration": 10,
    "start_time": "2022-03-16T19:58:44.381Z"
   },
   {
    "duration": 11,
    "start_time": "2022-03-16T19:59:00.193Z"
   },
   {
    "duration": 31,
    "start_time": "2022-03-16T19:59:31.289Z"
   },
   {
    "duration": 12,
    "start_time": "2022-03-16T19:59:40.443Z"
   },
   {
    "duration": 8,
    "start_time": "2022-03-16T20:01:01.451Z"
   },
   {
    "duration": 20,
    "start_time": "2022-03-16T20:01:39.791Z"
   },
   {
    "duration": 23,
    "start_time": "2022-03-16T20:01:49.008Z"
   },
   {
    "duration": 22,
    "start_time": "2022-03-16T20:01:54.708Z"
   },
   {
    "duration": 16,
    "start_time": "2022-03-16T20:03:33.205Z"
   },
   {
    "duration": 15,
    "start_time": "2022-03-16T20:03:44.124Z"
   },
   {
    "duration": 8,
    "start_time": "2022-03-16T20:06:20.398Z"
   },
   {
    "duration": 7,
    "start_time": "2022-03-16T20:06:22.383Z"
   },
   {
    "duration": 7,
    "start_time": "2022-03-16T20:06:37.663Z"
   },
   {
    "duration": 7,
    "start_time": "2022-03-16T20:06:49.040Z"
   },
   {
    "duration": 8,
    "start_time": "2022-03-16T20:06:55.619Z"
   },
   {
    "duration": 382,
    "start_time": "2022-03-16T20:09:06.178Z"
   },
   {
    "duration": 9,
    "start_time": "2022-03-16T20:09:39.914Z"
   },
   {
    "duration": 8,
    "start_time": "2022-03-16T20:09:48.947Z"
   },
   {
    "duration": 8,
    "start_time": "2022-03-16T20:11:43.394Z"
   },
   {
    "duration": 2158,
    "start_time": "2022-03-16T20:12:52.238Z"
   },
   {
    "duration": 7,
    "start_time": "2022-03-16T20:13:37.876Z"
   },
   {
    "duration": 26,
    "start_time": "2022-03-16T20:20:34.633Z"
   },
   {
    "duration": 10,
    "start_time": "2022-03-16T20:20:42.706Z"
   },
   {
    "duration": 10,
    "start_time": "2022-03-16T20:21:47.442Z"
   },
   {
    "duration": 8,
    "start_time": "2022-03-16T20:21:55.272Z"
   },
   {
    "duration": 11,
    "start_time": "2022-03-16T20:21:56.261Z"
   },
   {
    "duration": 9,
    "start_time": "2022-03-16T20:22:21.526Z"
   },
   {
    "duration": 11,
    "start_time": "2022-03-16T20:22:22.871Z"
   },
   {
    "duration": 9,
    "start_time": "2022-03-16T20:22:35.638Z"
   },
   {
    "duration": 10,
    "start_time": "2022-03-16T20:22:52.759Z"
   },
   {
    "duration": 11,
    "start_time": "2022-03-16T20:22:54.749Z"
   },
   {
    "duration": 13,
    "start_time": "2022-03-16T20:22:56.778Z"
   },
   {
    "duration": 8,
    "start_time": "2022-03-16T20:23:13.492Z"
   },
   {
    "duration": 10,
    "start_time": "2022-03-16T20:23:15.810Z"
   },
   {
    "duration": 6432,
    "start_time": "2022-03-16T20:23:22.159Z"
   },
   {
    "duration": 5,
    "start_time": "2022-03-16T20:23:33.638Z"
   },
   {
    "duration": 7,
    "start_time": "2022-03-16T20:23:35.779Z"
   },
   {
    "duration": 2360,
    "start_time": "2022-03-16T20:24:17.096Z"
   },
   {
    "duration": 752,
    "start_time": "2022-03-16T20:24:19.458Z"
   },
   {
    "duration": 6,
    "start_time": "2022-03-16T20:24:20.212Z"
   },
   {
    "duration": 22,
    "start_time": "2022-03-16T20:24:20.219Z"
   },
   {
    "duration": 28,
    "start_time": "2022-03-16T20:24:20.243Z"
   },
   {
    "duration": 396,
    "start_time": "2022-03-16T20:24:20.281Z"
   },
   {
    "duration": 198,
    "start_time": "2022-03-16T20:24:20.680Z"
   },
   {
    "duration": 1078,
    "start_time": "2022-03-16T20:24:20.880Z"
   },
   {
    "duration": 32,
    "start_time": "2022-03-16T20:24:21.960Z"
   },
   {
    "duration": 4,
    "start_time": "2022-03-16T20:24:21.993Z"
   },
   {
    "duration": 25,
    "start_time": "2022-03-16T20:24:21.998Z"
   },
   {
    "duration": 20,
    "start_time": "2022-03-16T20:24:22.025Z"
   },
   {
    "duration": 21,
    "start_time": "2022-03-16T20:24:22.046Z"
   },
   {
    "duration": 3218,
    "start_time": "2022-03-16T20:24:22.069Z"
   },
   {
    "duration": 7121,
    "start_time": "2022-03-16T20:24:25.289Z"
   },
   {
    "duration": 265150,
    "start_time": "2022-03-16T20:24:32.412Z"
   },
   {
    "duration": 623984,
    "start_time": "2022-03-16T20:28:57.564Z"
   },
   {
    "duration": 14064,
    "start_time": "2022-03-16T20:39:21.550Z"
   },
   {
    "duration": 6158,
    "start_time": "2022-03-16T20:39:35.616Z"
   },
   {
    "duration": 7,
    "start_time": "2022-03-16T20:39:41.776Z"
   },
   {
    "duration": 8,
    "start_time": "2022-03-16T20:39:41.784Z"
   },
   {
    "duration": 78,
    "start_time": "2022-03-17T05:08:25.915Z"
   },
   {
    "duration": 1445,
    "start_time": "2022-03-17T05:09:29.468Z"
   },
   {
    "duration": 986,
    "start_time": "2022-03-17T05:09:35.629Z"
   },
   {
    "duration": 12,
    "start_time": "2022-03-17T05:09:39.480Z"
   },
   {
    "duration": 11,
    "start_time": "2022-03-17T05:09:42.064Z"
   },
   {
    "duration": 11,
    "start_time": "2022-03-17T05:09:44.090Z"
   },
   {
    "duration": 55,
    "start_time": "2022-03-17T05:09:47.465Z"
   },
   {
    "duration": 14,
    "start_time": "2022-03-17T05:10:00.015Z"
   },
   {
    "duration": 44,
    "start_time": "2022-03-17T05:10:09.252Z"
   },
   {
    "duration": 359,
    "start_time": "2022-03-17T05:10:12.125Z"
   },
   {
    "duration": 6,
    "start_time": "2022-03-17T05:10:59.139Z"
   },
   {
    "duration": 21,
    "start_time": "2022-03-17T05:11:04.289Z"
   },
   {
    "duration": 19,
    "start_time": "2022-03-17T05:11:06.013Z"
   },
   {
    "duration": 17,
    "start_time": "2022-03-17T05:11:06.662Z"
   },
   {
    "duration": 9,
    "start_time": "2022-03-17T05:11:30.252Z"
   },
   {
    "duration": 3647,
    "start_time": "2022-03-17T05:12:06.227Z"
   },
   {
    "duration": 8383,
    "start_time": "2022-03-17T05:12:10.741Z"
   },
   {
    "duration": 325406,
    "start_time": "2022-03-17T05:12:19.127Z"
   },
   {
    "duration": 775978,
    "start_time": "2022-03-17T05:17:44.537Z"
   },
   {
    "duration": 16655,
    "start_time": "2022-03-17T05:30:40.519Z"
   },
   {
    "duration": 8099,
    "start_time": "2022-03-17T05:30:57.176Z"
   },
   {
    "duration": 243,
    "start_time": "2022-03-17T05:31:05.278Z"
   },
   {
    "duration": 7,
    "start_time": "2022-03-17T05:31:45.990Z"
   },
   {
    "duration": 8,
    "start_time": "2022-03-17T05:31:48.739Z"
   },
   {
    "duration": 5214,
    "start_time": "2022-03-17T06:10:28.523Z"
   },
   {
    "duration": 875,
    "start_time": "2022-03-17T06:10:33.739Z"
   },
   {
    "duration": 12,
    "start_time": "2022-03-17T06:10:34.616Z"
   },
   {
    "duration": 6,
    "start_time": "2022-03-17T06:10:34.630Z"
   },
   {
    "duration": 44,
    "start_time": "2022-03-17T06:10:34.638Z"
   },
   {
    "duration": 357,
    "start_time": "2022-03-17T06:10:34.702Z"
   },
   {
    "duration": 252,
    "start_time": "2022-03-17T06:10:35.060Z"
   },
   {
    "duration": 740,
    "start_time": "2022-03-17T06:10:35.314Z"
   },
   {
    "duration": 46,
    "start_time": "2022-03-17T06:10:36.055Z"
   },
   {
    "duration": 4,
    "start_time": "2022-03-17T06:10:36.103Z"
   },
   {
    "duration": 34,
    "start_time": "2022-03-17T06:10:36.109Z"
   },
   {
    "duration": 23,
    "start_time": "2022-03-17T06:10:36.145Z"
   },
   {
    "duration": 14,
    "start_time": "2022-03-17T06:10:36.170Z"
   },
   {
    "duration": 19,
    "start_time": "2022-03-17T06:10:36.186Z"
   },
   {
    "duration": 7119,
    "start_time": "2022-03-17T06:10:36.207Z"
   },
   {
    "duration": 15362,
    "start_time": "2022-03-17T06:10:43.328Z"
   },
   {
    "duration": 576660,
    "start_time": "2022-03-17T06:10:58.692Z"
   },
   {
    "duration": 1412028,
    "start_time": "2022-03-17T06:20:35.354Z"
   },
   {
    "duration": 16224,
    "start_time": "2022-03-17T06:44:07.384Z"
   },
   {
    "duration": 7269,
    "start_time": "2022-03-17T06:44:23.610Z"
   },
   {
    "duration": 6,
    "start_time": "2022-03-17T06:44:30.881Z"
   },
   {
    "duration": 16,
    "start_time": "2022-03-17T06:44:30.889Z"
   },
   {
    "duration": 26825,
    "start_time": "2022-03-17T07:01:09.915Z"
   },
   {
    "duration": 26924,
    "start_time": "2022-03-17T07:02:11.618Z"
   },
   {
    "duration": 13014,
    "start_time": "2022-03-17T07:03:04.824Z"
   },
   {
    "duration": 5,
    "start_time": "2022-03-17T07:03:17.840Z"
   },
   {
    "duration": 23,
    "start_time": "2022-03-17T07:03:17.847Z"
   },
   {
    "duration": 8,
    "start_time": "2022-03-17T07:03:45.205Z"
   },
   {
    "duration": 6,
    "start_time": "2022-03-17T07:12:10.795Z"
   },
   {
    "duration": 6,
    "start_time": "2022-03-17T07:12:15.606Z"
   },
   {
    "duration": 896,
    "start_time": "2022-03-17T07:12:15.614Z"
   },
   {
    "duration": 7,
    "start_time": "2022-03-17T07:12:16.511Z"
   },
   {
    "duration": 15,
    "start_time": "2022-03-17T07:12:16.521Z"
   },
   {
    "duration": 34,
    "start_time": "2022-03-17T07:12:16.538Z"
   },
   {
    "duration": 481,
    "start_time": "2022-03-17T07:12:16.574Z"
   },
   {
    "duration": 171,
    "start_time": "2022-03-17T07:12:17.057Z"
   },
   {
    "duration": 731,
    "start_time": "2022-03-17T07:12:17.230Z"
   },
   {
    "duration": 47,
    "start_time": "2022-03-17T07:12:17.963Z"
   },
   {
    "duration": 4,
    "start_time": "2022-03-17T07:12:18.013Z"
   },
   {
    "duration": 18,
    "start_time": "2022-03-17T07:12:18.019Z"
   },
   {
    "duration": 57,
    "start_time": "2022-03-17T07:12:18.039Z"
   },
   {
    "duration": 24,
    "start_time": "2022-03-17T07:12:18.098Z"
   },
   {
    "duration": 47,
    "start_time": "2022-03-17T07:12:18.123Z"
   },
   {
    "duration": 6748,
    "start_time": "2022-03-17T07:12:18.172Z"
   },
   {
    "duration": 15866,
    "start_time": "2022-03-17T07:12:24.922Z"
   },
   {
    "duration": 2015,
    "start_time": "2022-03-17T07:12:43.348Z"
   },
   {
    "duration": 970,
    "start_time": "2022-03-17T07:12:45.365Z"
   },
   {
    "duration": 13,
    "start_time": "2022-03-17T07:12:46.337Z"
   },
   {
    "duration": 11,
    "start_time": "2022-03-17T07:12:46.353Z"
   },
   {
    "duration": 60,
    "start_time": "2022-03-17T07:12:46.366Z"
   },
   {
    "duration": 392,
    "start_time": "2022-03-17T07:12:46.429Z"
   },
   {
    "duration": 185,
    "start_time": "2022-03-17T07:12:46.823Z"
   },
   {
    "duration": 831,
    "start_time": "2022-03-17T07:12:47.009Z"
   },
   {
    "duration": 41,
    "start_time": "2022-03-17T07:12:47.842Z"
   },
   {
    "duration": 18,
    "start_time": "2022-03-17T07:12:47.885Z"
   },
   {
    "duration": 29,
    "start_time": "2022-03-17T07:12:47.904Z"
   },
   {
    "duration": 25,
    "start_time": "2022-03-17T07:12:47.935Z"
   },
   {
    "duration": 8,
    "start_time": "2022-03-17T07:12:47.962Z"
   },
   {
    "duration": 35,
    "start_time": "2022-03-17T07:12:47.972Z"
   },
   {
    "duration": 6658,
    "start_time": "2022-03-17T07:12:48.009Z"
   },
   {
    "duration": 16195,
    "start_time": "2022-03-17T07:12:54.669Z"
   },
   {
    "duration": 627267,
    "start_time": "2022-03-17T07:13:10.867Z"
   },
   {
    "duration": 1423039,
    "start_time": "2022-03-17T07:23:38.137Z"
   },
   {
    "duration": 27852,
    "start_time": "2022-03-17T07:47:21.178Z"
   },
   {
    "duration": 12869,
    "start_time": "2022-03-17T07:47:49.032Z"
   },
   {
    "duration": 8,
    "start_time": "2022-03-17T07:48:01.903Z"
   }
  ],
  "kernelspec": {
   "display_name": "Python 3 (ipykernel)",
   "language": "python",
   "name": "python3"
  },
  "language_info": {
   "codemirror_mode": {
    "name": "ipython",
    "version": 3
   },
   "file_extension": ".py",
   "mimetype": "text/x-python",
   "name": "python",
   "nbconvert_exporter": "python",
   "pygments_lexer": "ipython3",
   "version": "3.9.7"
  },
  "toc": {
   "base_numbering": 1,
   "nav_menu": {},
   "number_sections": true,
   "sideBar": true,
   "skip_h1_title": true,
   "title_cell": "Содержание",
   "title_sidebar": "Contents",
   "toc_cell": true,
   "toc_position": {
    "height": "calc(100% - 180px)",
    "left": "10px",
    "top": "150px",
    "width": "210.391px"
   },
   "toc_section_display": true,
   "toc_window_display": true
  }
 },
 "nbformat": 4,
 "nbformat_minor": 2
}
