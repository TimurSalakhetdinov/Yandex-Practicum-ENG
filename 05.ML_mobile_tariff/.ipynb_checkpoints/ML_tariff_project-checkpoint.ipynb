{
 "cells": [
  {
   "cell_type": "markdown",
   "metadata": {},
   "source": [
    "# Рекомендация тарифов"
   ]
  },
  {
   "cell_type": "markdown",
   "metadata": {},
   "source": [
    "Оператор мобильной связи «Мегалайн» выяснил: многие клиенты пользуются архивными тарифами. Они хотят построить систему, способную проанализировать поведение клиентов и предложить пользователям новый тариф: «Смарт» или «Ультра».\n",
    "\n",
    "В нашем распоряжении данные о поведении клиентов, которые уже перешли на эти тарифы. Нужно построить модель для задачи классификации, которая выберет подходящий тариф. Предобработка данных не понадобится — мы её уже сделали.\n",
    "\n",
    "Построим модель с максимально большим значением *accuracy* - нужно довести долю правильных ответов по крайней мере до 0.75. Затем проверим *accuracy* на тестовой выборке."
   ]
  },
  {
   "cell_type": "markdown",
   "metadata": {},
   "source": [
    "## Откроем и изучим файл"
   ]
  },
  {
   "cell_type": "code",
   "execution_count": 98,
   "metadata": {
    "scrolled": false
   },
   "outputs": [],
   "source": [
    "# Загрузим все необходимые библиотеки:\n",
    "import pandas as pd\n",
    "import numpy as np\n",
    "from sklearn.tree import DecisionTreeClassifier\n",
    "from sklearn.ensemble import RandomForestClassifier\n",
    "from sklearn.linear_model import LogisticRegression\n",
    "from sklearn.model_selection import train_test_split\n",
    "from sklearn.metrics import mean_squared_error\n",
    "from sklearn.metrics import accuracy_score\n",
    "from sklearn.dummy import DummyClassifier"
   ]
  },
  {
   "cell_type": "code",
   "execution_count": 99,
   "metadata": {},
   "outputs": [
    {
     "name": "stdout",
     "output_type": "stream",
     "text": [
      "<class 'pandas.core.frame.DataFrame'>\n",
      "RangeIndex: 3214 entries, 0 to 3213\n",
      "Data columns (total 5 columns):\n",
      "calls       3214 non-null float64\n",
      "minutes     3214 non-null float64\n",
      "messages    3214 non-null float64\n",
      "mb_used     3214 non-null float64\n",
      "is_ultra    3214 non-null int64\n",
      "dtypes: float64(4), int64(1)\n",
      "memory usage: 125.7 KB\n"
     ]
    },
    {
     "data": {
      "text/html": [
       "<div>\n",
       "<style scoped>\n",
       "    .dataframe tbody tr th:only-of-type {\n",
       "        vertical-align: middle;\n",
       "    }\n",
       "\n",
       "    .dataframe tbody tr th {\n",
       "        vertical-align: top;\n",
       "    }\n",
       "\n",
       "    .dataframe thead th {\n",
       "        text-align: right;\n",
       "    }\n",
       "</style>\n",
       "<table border=\"1\" class=\"dataframe\">\n",
       "  <thead>\n",
       "    <tr style=\"text-align: right;\">\n",
       "      <th></th>\n",
       "      <th>calls</th>\n",
       "      <th>minutes</th>\n",
       "      <th>messages</th>\n",
       "      <th>mb_used</th>\n",
       "      <th>is_ultra</th>\n",
       "    </tr>\n",
       "  </thead>\n",
       "  <tbody>\n",
       "    <tr>\n",
       "      <td>0</td>\n",
       "      <td>40.0</td>\n",
       "      <td>311.90</td>\n",
       "      <td>83.0</td>\n",
       "      <td>19915.42</td>\n",
       "      <td>0</td>\n",
       "    </tr>\n",
       "    <tr>\n",
       "      <td>1</td>\n",
       "      <td>85.0</td>\n",
       "      <td>516.75</td>\n",
       "      <td>56.0</td>\n",
       "      <td>22696.96</td>\n",
       "      <td>0</td>\n",
       "    </tr>\n",
       "    <tr>\n",
       "      <td>2</td>\n",
       "      <td>77.0</td>\n",
       "      <td>467.66</td>\n",
       "      <td>86.0</td>\n",
       "      <td>21060.45</td>\n",
       "      <td>0</td>\n",
       "    </tr>\n",
       "    <tr>\n",
       "      <td>3</td>\n",
       "      <td>106.0</td>\n",
       "      <td>745.53</td>\n",
       "      <td>81.0</td>\n",
       "      <td>8437.39</td>\n",
       "      <td>1</td>\n",
       "    </tr>\n",
       "    <tr>\n",
       "      <td>4</td>\n",
       "      <td>66.0</td>\n",
       "      <td>418.74</td>\n",
       "      <td>1.0</td>\n",
       "      <td>14502.75</td>\n",
       "      <td>0</td>\n",
       "    </tr>\n",
       "    <tr>\n",
       "      <td>5</td>\n",
       "      <td>58.0</td>\n",
       "      <td>344.56</td>\n",
       "      <td>21.0</td>\n",
       "      <td>15823.37</td>\n",
       "      <td>0</td>\n",
       "    </tr>\n",
       "    <tr>\n",
       "      <td>6</td>\n",
       "      <td>57.0</td>\n",
       "      <td>431.64</td>\n",
       "      <td>20.0</td>\n",
       "      <td>3738.90</td>\n",
       "      <td>1</td>\n",
       "    </tr>\n",
       "    <tr>\n",
       "      <td>7</td>\n",
       "      <td>15.0</td>\n",
       "      <td>132.40</td>\n",
       "      <td>6.0</td>\n",
       "      <td>21911.60</td>\n",
       "      <td>0</td>\n",
       "    </tr>\n",
       "    <tr>\n",
       "      <td>8</td>\n",
       "      <td>7.0</td>\n",
       "      <td>43.39</td>\n",
       "      <td>3.0</td>\n",
       "      <td>2538.67</td>\n",
       "      <td>1</td>\n",
       "    </tr>\n",
       "    <tr>\n",
       "      <td>9</td>\n",
       "      <td>90.0</td>\n",
       "      <td>665.41</td>\n",
       "      <td>38.0</td>\n",
       "      <td>17358.61</td>\n",
       "      <td>0</td>\n",
       "    </tr>\n",
       "  </tbody>\n",
       "</table>\n",
       "</div>"
      ],
      "text/plain": [
       "   calls  minutes  messages   mb_used  is_ultra\n",
       "0   40.0   311.90      83.0  19915.42         0\n",
       "1   85.0   516.75      56.0  22696.96         0\n",
       "2   77.0   467.66      86.0  21060.45         0\n",
       "3  106.0   745.53      81.0   8437.39         1\n",
       "4   66.0   418.74       1.0  14502.75         0\n",
       "5   58.0   344.56      21.0  15823.37         0\n",
       "6   57.0   431.64      20.0   3738.90         1\n",
       "7   15.0   132.40       6.0  21911.60         0\n",
       "8    7.0    43.39       3.0   2538.67         1\n",
       "9   90.0   665.41      38.0  17358.61         0"
      ]
     },
     "execution_count": 99,
     "metadata": {},
     "output_type": "execute_result"
    }
   ],
   "source": [
    "# Выведем данные:\n",
    "df = pd.read_csv('/datasets/users_behavior.csv')\n",
    "df.info()\n",
    "df.head(10)"
   ]
  },
  {
   "cell_type": "markdown",
   "metadata": {},
   "source": [
    "Данные уже подготовлены к классификации: есть столбец is_ultra - каким тарифом пользовался абонент в течение месяца («Ультра» — 1, «Смарт» — 0)."
   ]
  },
  {
   "cell_type": "markdown",
   "metadata": {},
   "source": [
    "## Разделим данные на выборки"
   ]
  },
  {
   "cell_type": "code",
   "execution_count": 100,
   "metadata": {},
   "outputs": [
    {
     "data": {
      "text/plain": [
       "(1928, 4)"
      ]
     },
     "metadata": {},
     "output_type": "display_data"
    },
    {
     "data": {
      "text/plain": [
       "(1928,)"
      ]
     },
     "metadata": {},
     "output_type": "display_data"
    },
    {
     "data": {
      "text/plain": [
       "(643, 4)"
      ]
     },
     "metadata": {},
     "output_type": "display_data"
    },
    {
     "data": {
      "text/plain": [
       "(643,)"
      ]
     },
     "metadata": {},
     "output_type": "display_data"
    },
    {
     "data": {
      "text/plain": [
       "(643, 4)"
      ]
     },
     "metadata": {},
     "output_type": "display_data"
    },
    {
     "data": {
      "text/plain": [
       "(643,)"
      ]
     },
     "metadata": {},
     "output_type": "display_data"
    }
   ],
   "source": [
    "# Извлечем признаки и целевой признак:\n",
    "features = df.drop(['is_ultra'], axis=1)  \n",
    "target = df['is_ultra']\n",
    "\n",
    "# Разделим данные на тренировочную, валидационную и тестовую выборки (3,1,1): \n",
    "features_train, features_split, target_train, target_split = train_test_split(\n",
    "    features, target, test_size=0.4, random_state=12345)\n",
    "\n",
    "features_valid, features_test, target_valid, target_test = train_test_split(\n",
    "    features_split, target_split, test_size=0.5, random_state=12345)\n",
    "\n",
    "# Распечатаем размеры выборок:\n",
    "data = features_train, target_train, features_valid, target_valid, features_test, target_test\n",
    "\n",
    "for i in data:\n",
    "    display(i.shape)"
   ]
  },
  {
   "cell_type": "markdown",
   "metadata": {},
   "source": [
    "## Исследуем модели"
   ]
  },
  {
   "cell_type": "code",
   "execution_count": 101,
   "metadata": {},
   "outputs": [
    {
     "name": "stdout",
     "output_type": "stream",
     "text": [
      "Accuracy наилучшей модели на валидационной выборке: 0.7853810264385692 Глубина дерева: 3\n"
     ]
    }
   ],
   "source": [
    "# Применим дерево решений для создания модели с глубиной от 1 до 5:\n",
    "best_model = None\n",
    "best_result = 0\n",
    "best_depth = 0\n",
    "for depth in range(1, 6):\n",
    "    model_1 = DecisionTreeClassifier(random_state=12345, max_depth=depth) \n",
    "    model_1.fit(features_train, target_train) \n",
    "    result = model_1.score(features_valid, target_valid)\n",
    "    if result > best_result:\n",
    "        best_model = model_1\n",
    "        best_result = result\n",
    "        best_depth = depth\n",
    "\n",
    "print(\"Accuracy наилучшей модели на валидационной выборке:\", best_result, \"Глубина дерева:\", best_depth)"
   ]
  },
  {
   "cell_type": "markdown",
   "metadata": {},
   "source": [
    "Наилучший результат среди моделей дерева решений показала модель с глубиной дерева 3."
   ]
  },
  {
   "cell_type": "code",
   "execution_count": 102,
   "metadata": {},
   "outputs": [
    {
     "name": "stdout",
     "output_type": "stream",
     "text": [
      "Accuracy наилучшей модели на валидационной выборке: 0.8087091757387247 Количество деревьев: 40 Максимальная глубина: 10\n"
     ]
    }
   ],
   "source": [
    "# Применим случайный лес для создания модели:\n",
    "best_model = None\n",
    "best_result = 0\n",
    "best_est = 0\n",
    "best_depth = 0\n",
    "for est in range(10, 51, 10):\n",
    "    for depth in range (1, 11):\n",
    "        model_2 = RandomForestClassifier(random_state=12345, n_estimators=est, max_depth=depth)  \n",
    "        model_2.fit(features_train, target_train) \n",
    "        result = model_2.score(features_valid, target_valid)\n",
    "        if result > best_result:\n",
    "            best_model = model_2\n",
    "            best_result = result\n",
    "            best_est = est\n",
    "            best_depth = depth\n",
    "\n",
    "print(\"Accuracy наилучшей модели на валидационной выборке:\", best_result, \"Количество деревьев:\", best_est, \n",
    "      \"Максимальная глубина:\", depth)"
   ]
  },
  {
   "cell_type": "markdown",
   "metadata": {},
   "source": [
    "Наилучший результат показала модель случайного леса с количеством деревьев 40 и глубиной 10, accuracy - 0.81."
   ]
  },
  {
   "cell_type": "code",
   "execution_count": 103,
   "metadata": {},
   "outputs": [
    {
     "name": "stdout",
     "output_type": "stream",
     "text": [
      "Accuracy модели логистической регрессии на валидационной выборке: 0.7589424572317263\n"
     ]
    },
    {
     "name": "stderr",
     "output_type": "stream",
     "text": [
      "/opt/conda/lib/python3.7/site-packages/sklearn/linear_model/logistic.py:432: FutureWarning: Default solver will be changed to 'lbfgs' in 0.22. Specify a solver to silence this warning.\n",
      "  FutureWarning)\n"
     ]
    }
   ],
   "source": [
    "# Применим логистическую регрессию для создания модели:\n",
    "model_3 = LogisticRegression() \n",
    "model_3.fit(features_train, target_train) \n",
    "result = model_3.score(features_valid, target_valid)\n",
    "print(\"Accuracy модели логистической регрессии на валидационной выборке:\", result)"
   ]
  },
  {
   "cell_type": "markdown",
   "metadata": {},
   "source": [
    "Модель логистической регрессии имеет наихудший accuracy - 0.75."
   ]
  },
  {
   "cell_type": "markdown",
   "metadata": {},
   "source": [
    "**Вывод:**\n",
    "Наилучший результат среди моделей показал случайный лес с количеством деревьев 40 и глубиной 10: accuracy = 0.81."
   ]
  },
  {
   "cell_type": "markdown",
   "metadata": {},
   "source": [
    "## Проверим модель на тестовой выборке"
   ]
  },
  {
   "cell_type": "code",
   "execution_count": 104,
   "metadata": {},
   "outputs": [
    {
     "data": {
      "text/plain": [
       "0.8009331259720062"
      ]
     },
     "execution_count": 104,
     "metadata": {},
     "output_type": "execute_result"
    }
   ],
   "source": [
    "# Проверим модель случайного леса на тестовой выборке:\n",
    "predictions_test = model_2.predict(features_test) \n",
    "\n",
    "accuracy_score(target_test, predictions_test)"
   ]
  },
  {
   "cell_type": "markdown",
   "metadata": {},
   "source": [
    "Удалось достичь accuracy в 0.80."
   ]
  },
  {
   "cell_type": "markdown",
   "metadata": {},
   "source": [
    "## Проверим модель на адекватность"
   ]
  },
  {
   "cell_type": "code",
   "execution_count": 106,
   "metadata": {},
   "outputs": [
    {
     "data": {
      "text/plain": [
       "0.6842923794712286"
      ]
     },
     "execution_count": 106,
     "metadata": {},
     "output_type": "execute_result"
    }
   ],
   "source": [
    "# Используем DummyClassifier для проверки модели на адекватность:\n",
    "dummy_clf = DummyClassifier(strategy=\"most_frequent\")\n",
    "\n",
    "dummy_clf.fit(features_train, target_train)\n",
    "\n",
    "dummy_pred = dummy_clf.predict(features_test)\n",
    "\n",
    "accuracy_score(target_test, dummy_pred)"
   ]
  },
  {
   "cell_type": "markdown",
   "metadata": {},
   "source": [
    "## Выводы"
   ]
  },
  {
   "cell_type": "markdown",
   "metadata": {},
   "source": [
    "Мы исследовали различные модели и выбрали среди них модель случайного леса, которая имеет наилучший accuracy - доля правильных ответов составила 0.81. Мы проверили модель на тестовой выборке: accuracy составила 0.8. Также мы проверили модель на адекватность: accuracy - 0.68."
   ]
  }
 ],
 "metadata": {
  "ExecuteTimeLog": [
   {
    "duration": 1038,
    "start_time": "2022-02-01T17:02:37.522Z"
   },
   {
    "duration": 33,
    "start_time": "2022-02-01T17:02:55.564Z"
   },
   {
    "duration": 280,
    "start_time": "2022-02-01T17:11:58.217Z"
   },
   {
    "duration": 7,
    "start_time": "2022-02-01T17:14:00.479Z"
   },
   {
    "duration": 24,
    "start_time": "2022-02-01T17:35:36.082Z"
   },
   {
    "duration": 25,
    "start_time": "2022-02-01T17:42:16.396Z"
   },
   {
    "duration": 35,
    "start_time": "2022-02-01T17:42:23.246Z"
   },
   {
    "duration": 66,
    "start_time": "2022-02-01T17:44:37.338Z"
   },
   {
    "duration": 4838,
    "start_time": "2022-02-01T17:44:49.428Z"
   },
   {
    "duration": 7,
    "start_time": "2022-02-01T17:46:45.067Z"
   },
   {
    "duration": 11,
    "start_time": "2022-02-01T18:04:14.050Z"
   },
   {
    "duration": 22,
    "start_time": "2022-02-01T18:04:46.358Z"
   },
   {
    "duration": 4033,
    "start_time": "2022-02-01T18:04:47.803Z"
   },
   {
    "duration": 7,
    "start_time": "2022-02-01T18:04:53.666Z"
   },
   {
    "duration": 10,
    "start_time": "2022-02-01T18:06:08.949Z"
   },
   {
    "duration": 24,
    "start_time": "2022-02-01T18:06:11.053Z"
   },
   {
    "duration": 4164,
    "start_time": "2022-02-01T18:06:12.212Z"
   },
   {
    "duration": 8,
    "start_time": "2022-02-01T18:06:16.378Z"
   },
   {
    "duration": 4308,
    "start_time": "2022-02-01T18:14:16.452Z"
   },
   {
    "duration": 7,
    "start_time": "2022-02-01T18:14:37.835Z"
   },
   {
    "duration": 23,
    "start_time": "2022-02-01T18:14:42.228Z"
   },
   {
    "duration": 4273,
    "start_time": "2022-02-01T18:14:43.849Z"
   },
   {
    "duration": 7,
    "start_time": "2022-02-01T18:14:48.123Z"
   },
   {
    "duration": 26,
    "start_time": "2022-02-01T18:15:02.572Z"
   },
   {
    "duration": 7,
    "start_time": "2022-02-01T18:15:02.599Z"
   },
   {
    "duration": 32,
    "start_time": "2022-02-01T18:15:02.608Z"
   },
   {
    "duration": 4247,
    "start_time": "2022-02-01T18:15:02.641Z"
   },
   {
    "duration": 7,
    "start_time": "2022-02-01T18:15:06.889Z"
   },
   {
    "duration": 194,
    "start_time": "2022-02-01T18:46:03.206Z"
   },
   {
    "duration": 26,
    "start_time": "2022-02-01T18:46:24.774Z"
   },
   {
    "duration": 379,
    "start_time": "2022-02-01T18:48:51.892Z"
   },
   {
    "duration": 394,
    "start_time": "2022-02-01T19:00:20.617Z"
   },
   {
    "duration": 28,
    "start_time": "2022-02-01T19:03:09.804Z"
   },
   {
    "duration": 203,
    "start_time": "2022-02-02T17:32:56.351Z"
   },
   {
    "duration": 29,
    "start_time": "2022-02-02T17:33:19.877Z"
   },
   {
    "duration": 10,
    "start_time": "2022-02-02T17:33:24.283Z"
   },
   {
    "duration": 25,
    "start_time": "2022-02-02T17:33:26.396Z"
   },
   {
    "duration": 28,
    "start_time": "2022-02-02T17:34:29.454Z"
   },
   {
    "duration": 26,
    "start_time": "2022-02-02T17:46:35.823Z"
   },
   {
    "duration": 8,
    "start_time": "2022-02-02T17:46:35.851Z"
   },
   {
    "duration": 25,
    "start_time": "2022-02-02T17:46:35.861Z"
   },
   {
    "duration": 3298,
    "start_time": "2022-02-02T17:46:35.888Z"
   },
   {
    "duration": 13,
    "start_time": "2022-02-02T17:46:39.188Z"
   },
   {
    "duration": 393,
    "start_time": "2022-02-02T17:46:39.202Z"
   },
   {
    "duration": -9,
    "start_time": "2022-02-02T17:46:39.606Z"
   },
   {
    "duration": 13,
    "start_time": "2022-02-02T17:47:33.562Z"
   },
   {
    "duration": 13,
    "start_time": "2022-02-02T17:48:00.017Z"
   },
   {
    "duration": 3284,
    "start_time": "2022-02-02T18:55:46.295Z"
   },
   {
    "duration": 13,
    "start_time": "2022-02-02T18:56:32.930Z"
   },
   {
    "duration": 14,
    "start_time": "2022-02-02T18:56:50.587Z"
   },
   {
    "duration": 17,
    "start_time": "2022-02-02T18:56:56.489Z"
   },
   {
    "duration": 13,
    "start_time": "2022-02-02T18:57:15.136Z"
   },
   {
    "duration": 14,
    "start_time": "2022-02-03T17:40:43.180Z"
   },
   {
    "duration": 5,
    "start_time": "2022-02-03T18:06:33.450Z"
   },
   {
    "duration": 13,
    "start_time": "2022-02-03T18:07:08.562Z"
   },
   {
    "duration": 6,
    "start_time": "2022-02-03T18:07:11.462Z"
   },
   {
    "duration": 6,
    "start_time": "2022-02-03T18:09:10.804Z"
   },
   {
    "duration": 6,
    "start_time": "2022-02-03T18:09:28.674Z"
   },
   {
    "duration": 5,
    "start_time": "2022-02-03T18:12:37.630Z"
   },
   {
    "duration": 6,
    "start_time": "2022-02-03T18:13:09.178Z"
   },
   {
    "duration": 6,
    "start_time": "2022-02-03T18:14:06.567Z"
   },
   {
    "duration": 6,
    "start_time": "2022-02-03T18:15:16.825Z"
   },
   {
    "duration": 6,
    "start_time": "2022-02-03T18:15:36.536Z"
   },
   {
    "duration": 26,
    "start_time": "2022-02-03T18:47:09.073Z"
   },
   {
    "duration": 3,
    "start_time": "2022-02-03T18:47:15.913Z"
   },
   {
    "duration": 65,
    "start_time": "2022-02-03T18:48:13.012Z"
   },
   {
    "duration": 9,
    "start_time": "2022-02-05T12:18:58.866Z"
   },
   {
    "duration": 13,
    "start_time": "2022-02-05T12:20:28.533Z"
   },
   {
    "duration": 17,
    "start_time": "2022-02-05T12:20:56.449Z"
   },
   {
    "duration": 6,
    "start_time": "2022-02-05T12:25:44.480Z"
   },
   {
    "duration": 24,
    "start_time": "2022-02-05T13:00:14.894Z"
   },
   {
    "duration": 25,
    "start_time": "2022-02-05T13:00:26.141Z"
   },
   {
    "duration": 3317,
    "start_time": "2022-02-05T13:01:03.493Z"
   },
   {
    "duration": 13,
    "start_time": "2022-02-05T13:01:20.975Z"
   },
   {
    "duration": 3297,
    "start_time": "2022-02-05T13:02:02.071Z"
   },
   {
    "duration": 25,
    "start_time": "2022-02-05T13:10:41.309Z"
   },
   {
    "duration": 3391,
    "start_time": "2022-02-05T13:10:49.840Z"
   },
   {
    "duration": 3466,
    "start_time": "2022-02-05T13:11:17.964Z"
   },
   {
    "duration": 3435,
    "start_time": "2022-02-05T13:11:28.948Z"
   },
   {
    "duration": 3428,
    "start_time": "2022-02-05T13:12:02.155Z"
   },
   {
    "duration": 14,
    "start_time": "2022-02-05T13:12:24.997Z"
   },
   {
    "duration": 24,
    "start_time": "2022-02-05T13:12:47.189Z"
   },
   {
    "duration": 5,
    "start_time": "2022-02-05T13:13:51.970Z"
   },
   {
    "duration": 14,
    "start_time": "2022-02-05T13:13:55.811Z"
   },
   {
    "duration": 6,
    "start_time": "2022-02-05T13:13:58.887Z"
   },
   {
    "duration": 12,
    "start_time": "2022-02-05T13:14:02.075Z"
   },
   {
    "duration": 24,
    "start_time": "2022-02-05T14:53:43.810Z"
   },
   {
    "duration": 24,
    "start_time": "2022-02-05T14:53:48.179Z"
   },
   {
    "duration": 25,
    "start_time": "2022-02-05T14:54:11.780Z"
   },
   {
    "duration": 3361,
    "start_time": "2022-02-05T14:56:06.331Z"
   },
   {
    "duration": 13,
    "start_time": "2022-02-05T14:57:03.124Z"
   },
   {
    "duration": 6,
    "start_time": "2022-02-05T14:57:15.741Z"
   },
   {
    "duration": 3267,
    "start_time": "2022-02-05T14:57:47.955Z"
   },
   {
    "duration": 25,
    "start_time": "2022-02-05T15:52:23.216Z"
   },
   {
    "duration": 35,
    "start_time": "2022-02-05T15:52:35.090Z"
   },
   {
    "duration": 24,
    "start_time": "2022-02-05T15:52:48.155Z"
   },
   {
    "duration": 3363,
    "start_time": "2022-02-05T15:53:05.752Z"
   },
   {
    "duration": 14,
    "start_time": "2022-02-05T15:53:35.664Z"
   },
   {
    "duration": 4,
    "start_time": "2022-02-05T15:57:20.456Z"
   },
   {
    "duration": 30,
    "start_time": "2022-02-05T15:57:20.462Z"
   },
   {
    "duration": 12,
    "start_time": "2022-02-05T15:57:20.494Z"
   },
   {
    "duration": 23,
    "start_time": "2022-02-05T15:57:20.508Z"
   },
   {
    "duration": 3447,
    "start_time": "2022-02-05T15:57:20.533Z"
   },
   {
    "duration": 14,
    "start_time": "2022-02-05T15:57:23.981Z"
   },
   {
    "duration": 24,
    "start_time": "2022-02-05T15:57:23.997Z"
   },
   {
    "duration": 5,
    "start_time": "2022-02-05T15:57:24.023Z"
   },
   {
    "duration": 6,
    "start_time": "2022-02-05T16:00:54.657Z"
   }
  ],
  "kernelspec": {
   "display_name": "Python 3 (ipykernel)",
   "language": "python",
   "name": "python3"
  },
  "language_info": {
   "codemirror_mode": {
    "name": "ipython",
    "version": 3
   },
   "file_extension": ".py",
   "mimetype": "text/x-python",
   "name": "python",
   "nbconvert_exporter": "python",
   "pygments_lexer": "ipython3",
   "version": "3.9.7"
  },
  "toc": {
   "base_numbering": 1,
   "nav_menu": {},
   "number_sections": true,
   "sideBar": true,
   "skip_h1_title": true,
   "title_cell": "Table of Contents",
   "title_sidebar": "Contents",
   "toc_cell": false,
   "toc_position": {},
   "toc_section_display": true,
   "toc_window_display": false
  }
 },
 "nbformat": 4,
 "nbformat_minor": 2
}
