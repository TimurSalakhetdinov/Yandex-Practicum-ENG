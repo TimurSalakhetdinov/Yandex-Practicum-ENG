{
 "cells": [
  {
   "cell_type": "markdown",
   "metadata": {},
   "source": [
    "# Анализ компьютерных игр в интернет-магазине \"Стримчик\"\n",
    "\n",
    "Из открытых источников доступны исторические данные Интернет-магазина «Стримчик», который продаёт по всему миру компьютерные игры, о продажах игр, оценки пользователей и экспертов, жанры и платформы. Необходимо выявить определяющие успешность игры закономерности. Это позволит сделать ставку на потенциально популярный продукт и спланировать рекламные кампании.\n",
    "\n",
    "Перед нами данные до 2016 года, сейчас декабрь 2016 г., и мы планируем кампанию на 2017-й. \n",
    "\n",
    "В наборе данных попадается аббревиатура ESRB (Entertainment Software Rating Board) — это ассоциация, определяющая возрастной рейтинг компьютерных игр. ESRB оценивает игровой контент и присваивает ему подходящую возрастную категорию, например, «Для взрослых», «Для детей младшего возраста» или «Для подростков».\n",
    "\n",
    "**Описание данных**\n",
    "\n",
    "* Name — название игры\n",
    "* Platform — платформа\n",
    "* Year_of_Release — год выпуска\n",
    "* Genre — жанр игры\n",
    "* NA_sales — продажи в Северной Америке (миллионы проданных копий)\n",
    "* EU_sales — продажи в Европе (миллионы проданных копий)\n",
    "* JP_sales — продажи в Японии (миллионы проданных копий)\n",
    "* Other_sales — продажи в других странах (миллионы проданных копий)\n",
    "* Critic_Score — оценка критиков (максимум 100)\n",
    "* User_Score — оценка пользователей (максимум 10)\n",
    "* Rating — рейтинг от организации ESRB (англ. Entertainment Software Rating Board). Эта ассоциация определяет рейтинг компьютерных игр и присваивает им подходящую возрастную категорию.\n",
    "\n",
    "Данные за 2016 год могут быть неполными."
   ]
  },
  {
   "cell_type": "markdown",
   "metadata": {},
   "source": [
    "## Изучение данных из файла"
   ]
  },
  {
   "cell_type": "markdown",
   "metadata": {},
   "source": [
    "**Вывод данных**"
   ]
  },
  {
   "cell_type": "code",
   "execution_count": 170,
   "metadata": {
    "scrolled": true
   },
   "outputs": [
    {
     "name": "stdout",
     "output_type": "stream",
     "text": [
      "Defaulting to user installation because normal site-packages is not writeable\n",
      "\u001b[33mWARNING: Retrying (Retry(total=4, connect=None, read=None, redirect=None, status=None)) after connection broken by 'ReadTimeoutError(\"HTTPSConnectionPool(host='pypi.org', port=443): Read timed out. (read timeout=15)\")': /simple/pandas/\u001b[0m\n",
      "\u001b[33mWARNING: Retrying (Retry(total=3, connect=None, read=None, redirect=None, status=None)) after connection broken by 'ReadTimeoutError(\"HTTPSConnectionPool(host='pypi.org', port=443): Read timed out. (read timeout=15)\")': /simple/pandas/\u001b[0m\n",
      "\u001b[33mWARNING: Retrying (Retry(total=2, connect=None, read=None, redirect=None, status=None)) after connection broken by 'ReadTimeoutError(\"HTTPSConnectionPool(host='pypi.org', port=443): Read timed out. (read timeout=15)\")': /simple/pandas/\u001b[0m\n",
      "\u001b[33mWARNING: Retrying (Retry(total=1, connect=None, read=None, redirect=None, status=None)) after connection broken by 'ReadTimeoutError(\"HTTPSConnectionPool(host='pypi.org', port=443): Read timed out. (read timeout=15)\")': /simple/pandas/\u001b[0m\n",
      "\u001b[33mWARNING: Retrying (Retry(total=0, connect=None, read=None, redirect=None, status=None)) after connection broken by 'ReadTimeoutError(\"HTTPSConnectionPool(host='pypi.org', port=443): Read timed out. (read timeout=15)\")': /simple/pandas/\u001b[0m\n",
      "Requirement already up-to-date: pandas in /home/jovyan/.local/lib/python3.7/site-packages (1.3.5)\n",
      "Requirement already satisfied, skipping upgrade: numpy>=1.17.3; platform_machine != \"aarch64\" and platform_machine != \"arm64\" and python_version < \"3.10\" in /opt/conda/lib/python3.7/site-packages (from pandas) (1.19.5)\n",
      "Requirement already satisfied, skipping upgrade: pytz>=2017.3 in /opt/conda/lib/python3.7/site-packages (from pandas) (2021.1)\n",
      "Requirement already satisfied, skipping upgrade: python-dateutil>=2.7.3 in /opt/conda/lib/python3.7/site-packages (from pandas) (2.8.1)\n",
      "Requirement already satisfied, skipping upgrade: six>=1.5 in /opt/conda/lib/python3.7/site-packages (from python-dateutil>=2.7.3->pandas) (1.15.0)\n",
      "Defaulting to user installation because normal site-packages is not writeable\n",
      "\u001b[33mWARNING: Retrying (Retry(total=4, connect=None, read=None, redirect=None, status=None)) after connection broken by 'ReadTimeoutError(\"HTTPSConnectionPool(host='pypi.org', port=443): Read timed out. (read timeout=15)\")': /simple/seaborn/\u001b[0m\n",
      "\u001b[33mWARNING: Retrying (Retry(total=3, connect=None, read=None, redirect=None, status=None)) after connection broken by 'ReadTimeoutError(\"HTTPSConnectionPool(host='pypi.org', port=443): Read timed out. (read timeout=15)\")': /simple/seaborn/\u001b[0m\n",
      "\u001b[33mWARNING: Retrying (Retry(total=2, connect=None, read=None, redirect=None, status=None)) after connection broken by 'ReadTimeoutError(\"HTTPSConnectionPool(host='pypi.org', port=443): Read timed out. (read timeout=15)\")': /simple/seaborn/\u001b[0m\n",
      "Requirement already up-to-date: seaborn in /home/jovyan/.local/lib/python3.7/site-packages (0.11.2)\n",
      "Requirement already satisfied, skipping upgrade: numpy>=1.15 in /opt/conda/lib/python3.7/site-packages (from seaborn) (1.19.5)\n",
      "Requirement already satisfied, skipping upgrade: matplotlib>=2.2 in /opt/conda/lib/python3.7/site-packages (from seaborn) (3.1.0)\n",
      "Requirement already satisfied, skipping upgrade: pandas>=0.23 in /home/jovyan/.local/lib/python3.7/site-packages (from seaborn) (1.3.5)\n",
      "Requirement already satisfied, skipping upgrade: scipy>=1.0 in /opt/conda/lib/python3.7/site-packages (from seaborn) (1.4.1)\n",
      "Requirement already satisfied, skipping upgrade: python-dateutil>=2.1 in /opt/conda/lib/python3.7/site-packages (from matplotlib>=2.2->seaborn) (2.8.1)\n",
      "Requirement already satisfied, skipping upgrade: pyparsing!=2.0.4,!=2.1.2,!=2.1.6,>=2.0.1 in /opt/conda/lib/python3.7/site-packages (from matplotlib>=2.2->seaborn) (2.4.7)\n",
      "Requirement already satisfied, skipping upgrade: kiwisolver>=1.0.1 in /opt/conda/lib/python3.7/site-packages (from matplotlib>=2.2->seaborn) (1.3.1)\n",
      "Requirement already satisfied, skipping upgrade: cycler>=0.10 in /opt/conda/lib/python3.7/site-packages (from matplotlib>=2.2->seaborn) (0.10.0)\n",
      "Requirement already satisfied, skipping upgrade: pytz>=2017.3 in /opt/conda/lib/python3.7/site-packages (from pandas>=0.23->seaborn) (2021.1)\n",
      "Requirement already satisfied, skipping upgrade: six>=1.5 in /opt/conda/lib/python3.7/site-packages (from python-dateutil>=2.1->matplotlib>=2.2->seaborn) (1.15.0)\n"
     ]
    }
   ],
   "source": [
    "# Импортируем, обновим необходимые библиотеки и уберем предупреждения:\n",
    "!pip install -U pandas\n",
    "!pip install -U seaborn\n",
    "\n",
    "import pandas as pd\n",
    "import matplotlib.pyplot as plt\n",
    "import seaborn as sns\n",
    "import numpy as np\n",
    "import math\n",
    "from scipy import stats as st\n",
    "pd.set_option('display.float_format', '{:,.2f}'.format)\n",
    "import warnings\n",
    "warnings.simplefilter('ignore')\n",
    "\n",
    "# Сброс ограничений на количество выводимых данных:\n",
    "pd.set_option('display.max_rows', None)\n",
    "pd.set_option('display.max_columns', None)\n",
    "\n",
    "# Сохраним данные:\n",
    "data = pd.read_csv('/datasets/games.csv')"
   ]
  },
  {
   "cell_type": "code",
   "execution_count": 171,
   "metadata": {},
   "outputs": [
    {
     "data": {
      "text/html": [
       "<div>\n",
       "<style scoped>\n",
       "    .dataframe tbody tr th:only-of-type {\n",
       "        vertical-align: middle;\n",
       "    }\n",
       "\n",
       "    .dataframe tbody tr th {\n",
       "        vertical-align: top;\n",
       "    }\n",
       "\n",
       "    .dataframe thead th {\n",
       "        text-align: right;\n",
       "    }\n",
       "</style>\n",
       "<table border=\"1\" class=\"dataframe\">\n",
       "  <thead>\n",
       "    <tr style=\"text-align: right;\">\n",
       "      <th></th>\n",
       "      <th>Name</th>\n",
       "      <th>Platform</th>\n",
       "      <th>Year_of_Release</th>\n",
       "      <th>Genre</th>\n",
       "      <th>NA_sales</th>\n",
       "      <th>EU_sales</th>\n",
       "      <th>JP_sales</th>\n",
       "      <th>Other_sales</th>\n",
       "      <th>Critic_Score</th>\n",
       "      <th>User_Score</th>\n",
       "      <th>Rating</th>\n",
       "    </tr>\n",
       "  </thead>\n",
       "  <tbody>\n",
       "    <tr>\n",
       "      <th>0</th>\n",
       "      <td>Wii Sports</td>\n",
       "      <td>Wii</td>\n",
       "      <td>2,006.00</td>\n",
       "      <td>Sports</td>\n",
       "      <td>41.36</td>\n",
       "      <td>28.96</td>\n",
       "      <td>3.77</td>\n",
       "      <td>8.45</td>\n",
       "      <td>76.00</td>\n",
       "      <td>8</td>\n",
       "      <td>E</td>\n",
       "    </tr>\n",
       "    <tr>\n",
       "      <th>1</th>\n",
       "      <td>Super Mario Bros.</td>\n",
       "      <td>NES</td>\n",
       "      <td>1,985.00</td>\n",
       "      <td>Platform</td>\n",
       "      <td>29.08</td>\n",
       "      <td>3.58</td>\n",
       "      <td>6.81</td>\n",
       "      <td>0.77</td>\n",
       "      <td>NaN</td>\n",
       "      <td>NaN</td>\n",
       "      <td>NaN</td>\n",
       "    </tr>\n",
       "    <tr>\n",
       "      <th>2</th>\n",
       "      <td>Mario Kart Wii</td>\n",
       "      <td>Wii</td>\n",
       "      <td>2,008.00</td>\n",
       "      <td>Racing</td>\n",
       "      <td>15.68</td>\n",
       "      <td>12.76</td>\n",
       "      <td>3.79</td>\n",
       "      <td>3.29</td>\n",
       "      <td>82.00</td>\n",
       "      <td>8.3</td>\n",
       "      <td>E</td>\n",
       "    </tr>\n",
       "    <tr>\n",
       "      <th>3</th>\n",
       "      <td>Wii Sports Resort</td>\n",
       "      <td>Wii</td>\n",
       "      <td>2,009.00</td>\n",
       "      <td>Sports</td>\n",
       "      <td>15.61</td>\n",
       "      <td>10.93</td>\n",
       "      <td>3.28</td>\n",
       "      <td>2.95</td>\n",
       "      <td>80.00</td>\n",
       "      <td>8</td>\n",
       "      <td>E</td>\n",
       "    </tr>\n",
       "    <tr>\n",
       "      <th>4</th>\n",
       "      <td>Pokemon Red/Pokemon Blue</td>\n",
       "      <td>GB</td>\n",
       "      <td>1,996.00</td>\n",
       "      <td>Role-Playing</td>\n",
       "      <td>11.27</td>\n",
       "      <td>8.89</td>\n",
       "      <td>10.22</td>\n",
       "      <td>1.00</td>\n",
       "      <td>NaN</td>\n",
       "      <td>NaN</td>\n",
       "      <td>NaN</td>\n",
       "    </tr>\n",
       "    <tr>\n",
       "      <th>5</th>\n",
       "      <td>Tetris</td>\n",
       "      <td>GB</td>\n",
       "      <td>1,989.00</td>\n",
       "      <td>Puzzle</td>\n",
       "      <td>23.20</td>\n",
       "      <td>2.26</td>\n",
       "      <td>4.22</td>\n",
       "      <td>0.58</td>\n",
       "      <td>NaN</td>\n",
       "      <td>NaN</td>\n",
       "      <td>NaN</td>\n",
       "    </tr>\n",
       "    <tr>\n",
       "      <th>6</th>\n",
       "      <td>New Super Mario Bros.</td>\n",
       "      <td>DS</td>\n",
       "      <td>2,006.00</td>\n",
       "      <td>Platform</td>\n",
       "      <td>11.28</td>\n",
       "      <td>9.14</td>\n",
       "      <td>6.50</td>\n",
       "      <td>2.88</td>\n",
       "      <td>89.00</td>\n",
       "      <td>8.5</td>\n",
       "      <td>E</td>\n",
       "    </tr>\n",
       "    <tr>\n",
       "      <th>7</th>\n",
       "      <td>Wii Play</td>\n",
       "      <td>Wii</td>\n",
       "      <td>2,006.00</td>\n",
       "      <td>Misc</td>\n",
       "      <td>13.96</td>\n",
       "      <td>9.18</td>\n",
       "      <td>2.93</td>\n",
       "      <td>2.84</td>\n",
       "      <td>58.00</td>\n",
       "      <td>6.6</td>\n",
       "      <td>E</td>\n",
       "    </tr>\n",
       "    <tr>\n",
       "      <th>8</th>\n",
       "      <td>New Super Mario Bros. Wii</td>\n",
       "      <td>Wii</td>\n",
       "      <td>2,009.00</td>\n",
       "      <td>Platform</td>\n",
       "      <td>14.44</td>\n",
       "      <td>6.94</td>\n",
       "      <td>4.70</td>\n",
       "      <td>2.24</td>\n",
       "      <td>87.00</td>\n",
       "      <td>8.4</td>\n",
       "      <td>E</td>\n",
       "    </tr>\n",
       "    <tr>\n",
       "      <th>9</th>\n",
       "      <td>Duck Hunt</td>\n",
       "      <td>NES</td>\n",
       "      <td>1,984.00</td>\n",
       "      <td>Shooter</td>\n",
       "      <td>26.93</td>\n",
       "      <td>0.63</td>\n",
       "      <td>0.28</td>\n",
       "      <td>0.47</td>\n",
       "      <td>NaN</td>\n",
       "      <td>NaN</td>\n",
       "      <td>NaN</td>\n",
       "    </tr>\n",
       "  </tbody>\n",
       "</table>\n",
       "</div>"
      ],
      "text/plain": [
       "                        Name Platform  Year_of_Release         Genre  \\\n",
       "0                 Wii Sports      Wii         2,006.00        Sports   \n",
       "1          Super Mario Bros.      NES         1,985.00      Platform   \n",
       "2             Mario Kart Wii      Wii         2,008.00        Racing   \n",
       "3          Wii Sports Resort      Wii         2,009.00        Sports   \n",
       "4   Pokemon Red/Pokemon Blue       GB         1,996.00  Role-Playing   \n",
       "5                     Tetris       GB         1,989.00        Puzzle   \n",
       "6      New Super Mario Bros.       DS         2,006.00      Platform   \n",
       "7                   Wii Play      Wii         2,006.00          Misc   \n",
       "8  New Super Mario Bros. Wii      Wii         2,009.00      Platform   \n",
       "9                  Duck Hunt      NES         1,984.00       Shooter   \n",
       "\n",
       "   NA_sales  EU_sales  JP_sales  Other_sales  Critic_Score User_Score Rating  \n",
       "0     41.36     28.96      3.77         8.45         76.00          8      E  \n",
       "1     29.08      3.58      6.81         0.77           NaN        NaN    NaN  \n",
       "2     15.68     12.76      3.79         3.29         82.00        8.3      E  \n",
       "3     15.61     10.93      3.28         2.95         80.00          8      E  \n",
       "4     11.27      8.89     10.22         1.00           NaN        NaN    NaN  \n",
       "5     23.20      2.26      4.22         0.58           NaN        NaN    NaN  \n",
       "6     11.28      9.14      6.50         2.88         89.00        8.5      E  \n",
       "7     13.96      9.18      2.93         2.84         58.00        6.6      E  \n",
       "8     14.44      6.94      4.70         2.24         87.00        8.4      E  \n",
       "9     26.93      0.63      0.28         0.47           NaN        NaN    NaN  "
      ]
     },
     "metadata": {},
     "output_type": "display_data"
    },
    {
     "name": "stdout",
     "output_type": "stream",
     "text": [
      "<class 'pandas.core.frame.DataFrame'>\n",
      "RangeIndex: 16715 entries, 0 to 16714\n",
      "Data columns (total 11 columns):\n",
      " #   Column           Non-Null Count  Dtype  \n",
      "---  ------           --------------  -----  \n",
      " 0   Name             16713 non-null  object \n",
      " 1   Platform         16715 non-null  object \n",
      " 2   Year_of_Release  16446 non-null  float64\n",
      " 3   Genre            16713 non-null  object \n",
      " 4   NA_sales         16715 non-null  float64\n",
      " 5   EU_sales         16715 non-null  float64\n",
      " 6   JP_sales         16715 non-null  float64\n",
      " 7   Other_sales      16715 non-null  float64\n",
      " 8   Critic_Score     8137 non-null   float64\n",
      " 9   User_Score       10014 non-null  object \n",
      " 10  Rating           9949 non-null   object \n",
      "dtypes: float64(6), object(5)\n",
      "memory usage: 1.4+ MB\n"
     ]
    },
    {
     "data": {
      "text/plain": [
       "None"
      ]
     },
     "metadata": {},
     "output_type": "display_data"
    },
    {
     "data": {
      "text/html": [
       "<div>\n",
       "<style scoped>\n",
       "    .dataframe tbody tr th:only-of-type {\n",
       "        vertical-align: middle;\n",
       "    }\n",
       "\n",
       "    .dataframe tbody tr th {\n",
       "        vertical-align: top;\n",
       "    }\n",
       "\n",
       "    .dataframe thead th {\n",
       "        text-align: right;\n",
       "    }\n",
       "</style>\n",
       "<table border=\"1\" class=\"dataframe\">\n",
       "  <thead>\n",
       "    <tr style=\"text-align: right;\">\n",
       "      <th></th>\n",
       "      <th>Year_of_Release</th>\n",
       "      <th>NA_sales</th>\n",
       "      <th>EU_sales</th>\n",
       "      <th>JP_sales</th>\n",
       "      <th>Other_sales</th>\n",
       "      <th>Critic_Score</th>\n",
       "    </tr>\n",
       "  </thead>\n",
       "  <tbody>\n",
       "    <tr>\n",
       "      <th>count</th>\n",
       "      <td>16,446.00</td>\n",
       "      <td>16,715.00</td>\n",
       "      <td>16,715.00</td>\n",
       "      <td>16,715.00</td>\n",
       "      <td>16,715.00</td>\n",
       "      <td>8,137.00</td>\n",
       "    </tr>\n",
       "    <tr>\n",
       "      <th>mean</th>\n",
       "      <td>2,006.48</td>\n",
       "      <td>0.26</td>\n",
       "      <td>0.15</td>\n",
       "      <td>0.08</td>\n",
       "      <td>0.05</td>\n",
       "      <td>68.97</td>\n",
       "    </tr>\n",
       "    <tr>\n",
       "      <th>std</th>\n",
       "      <td>5.88</td>\n",
       "      <td>0.81</td>\n",
       "      <td>0.50</td>\n",
       "      <td>0.31</td>\n",
       "      <td>0.19</td>\n",
       "      <td>13.94</td>\n",
       "    </tr>\n",
       "    <tr>\n",
       "      <th>min</th>\n",
       "      <td>1,980.00</td>\n",
       "      <td>0.00</td>\n",
       "      <td>0.00</td>\n",
       "      <td>0.00</td>\n",
       "      <td>0.00</td>\n",
       "      <td>13.00</td>\n",
       "    </tr>\n",
       "    <tr>\n",
       "      <th>25%</th>\n",
       "      <td>2,003.00</td>\n",
       "      <td>0.00</td>\n",
       "      <td>0.00</td>\n",
       "      <td>0.00</td>\n",
       "      <td>0.00</td>\n",
       "      <td>60.00</td>\n",
       "    </tr>\n",
       "    <tr>\n",
       "      <th>50%</th>\n",
       "      <td>2,007.00</td>\n",
       "      <td>0.08</td>\n",
       "      <td>0.02</td>\n",
       "      <td>0.00</td>\n",
       "      <td>0.01</td>\n",
       "      <td>71.00</td>\n",
       "    </tr>\n",
       "    <tr>\n",
       "      <th>75%</th>\n",
       "      <td>2,010.00</td>\n",
       "      <td>0.24</td>\n",
       "      <td>0.11</td>\n",
       "      <td>0.04</td>\n",
       "      <td>0.03</td>\n",
       "      <td>79.00</td>\n",
       "    </tr>\n",
       "    <tr>\n",
       "      <th>max</th>\n",
       "      <td>2,016.00</td>\n",
       "      <td>41.36</td>\n",
       "      <td>28.96</td>\n",
       "      <td>10.22</td>\n",
       "      <td>10.57</td>\n",
       "      <td>98.00</td>\n",
       "    </tr>\n",
       "  </tbody>\n",
       "</table>\n",
       "</div>"
      ],
      "text/plain": [
       "       Year_of_Release  NA_sales  EU_sales  JP_sales  Other_sales  \\\n",
       "count        16,446.00 16,715.00 16,715.00 16,715.00    16,715.00   \n",
       "mean          2,006.48      0.26      0.15      0.08         0.05   \n",
       "std               5.88      0.81      0.50      0.31         0.19   \n",
       "min           1,980.00      0.00      0.00      0.00         0.00   \n",
       "25%           2,003.00      0.00      0.00      0.00         0.00   \n",
       "50%           2,007.00      0.08      0.02      0.00         0.01   \n",
       "75%           2,010.00      0.24      0.11      0.04         0.03   \n",
       "max           2,016.00     41.36     28.96     10.22        10.57   \n",
       "\n",
       "       Critic_Score  \n",
       "count      8,137.00  \n",
       "mean          68.97  \n",
       "std           13.94  \n",
       "min           13.00  \n",
       "25%           60.00  \n",
       "50%           71.00  \n",
       "75%           79.00  \n",
       "max           98.00  "
      ]
     },
     "metadata": {},
     "output_type": "display_data"
    },
    {
     "data": {
      "text/plain": [
       "'Число пропусков:'"
      ]
     },
     "metadata": {},
     "output_type": "display_data"
    },
    {
     "data": {
      "text/plain": [
       "Name                  2\n",
       "Platform              0\n",
       "Year_of_Release     269\n",
       "Genre                 2\n",
       "NA_sales              0\n",
       "EU_sales              0\n",
       "JP_sales              0\n",
       "Other_sales           0\n",
       "Critic_Score       8578\n",
       "User_Score         6701\n",
       "Rating             6766\n",
       "dtype: int64"
      ]
     },
     "metadata": {},
     "output_type": "display_data"
    },
    {
     "data": {
      "text/plain": [
       "'Число дубликатов:'"
      ]
     },
     "metadata": {},
     "output_type": "display_data"
    },
    {
     "data": {
      "text/plain": [
       "0"
      ]
     },
     "metadata": {},
     "output_type": "display_data"
    }
   ],
   "source": [
    "# Создадим фукнцию и выведем все необходимые характеристики данных:\n",
    "def analize(table):\n",
    "    display(table.head(10))\n",
    "    display(table.info())\n",
    "    display(table.describe())\n",
    "    display('Число пропусков:', table.isna().sum())\n",
    "    display('Число дубликатов:', table.duplicated().sum())\n",
    "\n",
    "analize(data)"
   ]
  },
  {
   "cell_type": "markdown",
   "metadata": {},
   "source": [
    "### Выводы\n",
    "\n",
    "* Названия столбцов имеют разный регистр букв.\n",
    "* Внизу списка много игр, которые имеют минимальные продажи и не имеют рейтинга.\n",
    "* Игры, выпущенные до определенного времени, также не имеют рейтинга.\n",
    "* Проблемы с типами данных: Год выпуска - float, цифровой рейтинг - object.\n",
    "* Данные о продажах практически все в 4-м квартиле.\n",
    "* Пропуски в данных есть в Name, Year of release, Genre, Critic_score, User_score и Rating.\n",
    "* Дубликатов нет.\n",
    "* В столбце User_Score есть 2424 значений tbd."
   ]
  },
  {
   "cell_type": "markdown",
   "metadata": {},
   "source": [
    "## Предобработка данных"
   ]
  },
  {
   "cell_type": "markdown",
   "metadata": {},
   "source": [
    "### Обработка данных"
   ]
  },
  {
   "cell_type": "code",
   "execution_count": 173,
   "metadata": {},
   "outputs": [
    {
     "data": {
      "text/plain": [
       "Index(['Name', 'Platform', 'Year_of_Release', 'Genre', 'NA_sales', 'EU_sales',\n",
       "       'JP_sales', 'Other_sales', 'Critic_Score', 'User_Score', 'Rating'],\n",
       "      dtype='object')"
      ]
     },
     "execution_count": 173,
     "metadata": {},
     "output_type": "execute_result"
    }
   ],
   "source": [
    "# Выведем названия столбцов:\n",
    "data.columns"
   ]
  },
  {
   "cell_type": "code",
   "execution_count": 174,
   "metadata": {
    "scrolled": true
   },
   "outputs": [
    {
     "data": {
      "text/plain": [
       "Index(['name', 'platform', 'year_of_release', 'genre', 'na_sales', 'eu_sales',\n",
       "       'jp_sales', 'other_sales', 'critic_score', 'user_score', 'rating'],\n",
       "      dtype='object')"
      ]
     },
     "execution_count": 174,
     "metadata": {},
     "output_type": "execute_result"
    }
   ],
   "source": [
    "# Приведем названия столбцов к нижнему регистру:\n",
    "data.columns = data.columns.str.lower()\n",
    "data.columns"
   ]
  },
  {
   "cell_type": "code",
   "execution_count": 175,
   "metadata": {},
   "outputs": [],
   "source": [
    "# В столбце user_score заменим значения tbd на NaN и переведем в формат float:\n",
    "data['user_score'].replace('tbd', np.nan)\n",
    "data.user_score = pd.to_numeric(data.user_score, errors = 'coerce')"
   ]
  },
  {
   "cell_type": "code",
   "execution_count": 176,
   "metadata": {},
   "outputs": [],
   "source": [
    "# Удалим 2 игры, которые не имеют названия, тк такое мало число не повлияет на анализ:\n",
    "data = data.dropna(subset = ['name'])"
   ]
  },
  {
   "cell_type": "code",
   "execution_count": 177,
   "metadata": {
    "scrolled": true
   },
   "outputs": [
    {
     "name": "stdout",
     "output_type": "stream",
     "text": [
      "<class 'pandas.core.frame.DataFrame'>\n",
      "Int64Index: 16713 entries, 0 to 16714\n",
      "Data columns (total 11 columns):\n",
      " #   Column           Non-Null Count  Dtype  \n",
      "---  ------           --------------  -----  \n",
      " 0   name             16713 non-null  object \n",
      " 1   platform         16713 non-null  object \n",
      " 2   year_of_release  16713 non-null  int64  \n",
      " 3   genre            16713 non-null  object \n",
      " 4   na_sales         16713 non-null  float64\n",
      " 5   eu_sales         16713 non-null  float64\n",
      " 6   jp_sales         16713 non-null  float64\n",
      " 7   other_sales      16713 non-null  float64\n",
      " 8   critic_score     8137 non-null   float64\n",
      " 9   user_score       7590 non-null   float64\n",
      " 10  rating           9949 non-null   object \n",
      "dtypes: float64(6), int64(1), object(4)\n",
      "memory usage: 1.5+ MB\n"
     ]
    }
   ],
   "source": [
    "# Заменим пропуски в year_of_release через группировку:\n",
    "data['year_of_release'] = data['year_of_release'].fillna(data.groupby(\n",
    "    ['platform'])['year_of_release'].transform('mean'))\n",
    "\n",
    "# Изменим тип данных в столбце на int:\n",
    "data['year_of_release'] = data['year_of_release'].astype('int')\n",
    "\n",
    "data.info()"
   ]
  },
  {
   "cell_type": "markdown",
   "metadata": {},
   "source": [
    "Пропуски в столбцах с рейтиргами нет смысла заполнять, тк пропусков в них почти половина, заполнение или удаление сильно исказит данные для расчета."
   ]
  },
  {
   "cell_type": "markdown",
   "metadata": {},
   "source": [
    "### Рассчет показателей"
   ]
  },
  {
   "cell_type": "markdown",
   "metadata": {},
   "source": [
    "Рассчитаем суммарные продажи во всех регионах и запишем их в отдельный столбец."
   ]
  },
  {
   "cell_type": "code",
   "execution_count": 179,
   "metadata": {},
   "outputs": [
    {
     "data": {
      "text/html": [
       "<div>\n",
       "<style scoped>\n",
       "    .dataframe tbody tr th:only-of-type {\n",
       "        vertical-align: middle;\n",
       "    }\n",
       "\n",
       "    .dataframe tbody tr th {\n",
       "        vertical-align: top;\n",
       "    }\n",
       "\n",
       "    .dataframe thead th {\n",
       "        text-align: right;\n",
       "    }\n",
       "</style>\n",
       "<table border=\"1\" class=\"dataframe\">\n",
       "  <thead>\n",
       "    <tr style=\"text-align: right;\">\n",
       "      <th></th>\n",
       "      <th>name</th>\n",
       "      <th>platform</th>\n",
       "      <th>year_of_release</th>\n",
       "      <th>genre</th>\n",
       "      <th>na_sales</th>\n",
       "      <th>eu_sales</th>\n",
       "      <th>jp_sales</th>\n",
       "      <th>other_sales</th>\n",
       "      <th>critic_score</th>\n",
       "      <th>user_score</th>\n",
       "      <th>rating</th>\n",
       "      <th>total_sales</th>\n",
       "    </tr>\n",
       "  </thead>\n",
       "  <tbody>\n",
       "    <tr>\n",
       "      <th>0</th>\n",
       "      <td>Wii Sports</td>\n",
       "      <td>Wii</td>\n",
       "      <td>2006</td>\n",
       "      <td>Sports</td>\n",
       "      <td>41.36</td>\n",
       "      <td>28.96</td>\n",
       "      <td>3.77</td>\n",
       "      <td>8.45</td>\n",
       "      <td>76.00</td>\n",
       "      <td>8.00</td>\n",
       "      <td>E</td>\n",
       "      <td>82.54</td>\n",
       "    </tr>\n",
       "    <tr>\n",
       "      <th>1</th>\n",
       "      <td>Super Mario Bros.</td>\n",
       "      <td>NES</td>\n",
       "      <td>1985</td>\n",
       "      <td>Platform</td>\n",
       "      <td>29.08</td>\n",
       "      <td>3.58</td>\n",
       "      <td>6.81</td>\n",
       "      <td>0.77</td>\n",
       "      <td>NaN</td>\n",
       "      <td>NaN</td>\n",
       "      <td>NaN</td>\n",
       "      <td>40.24</td>\n",
       "    </tr>\n",
       "    <tr>\n",
       "      <th>2</th>\n",
       "      <td>Mario Kart Wii</td>\n",
       "      <td>Wii</td>\n",
       "      <td>2008</td>\n",
       "      <td>Racing</td>\n",
       "      <td>15.68</td>\n",
       "      <td>12.76</td>\n",
       "      <td>3.79</td>\n",
       "      <td>3.29</td>\n",
       "      <td>82.00</td>\n",
       "      <td>8.30</td>\n",
       "      <td>E</td>\n",
       "      <td>35.52</td>\n",
       "    </tr>\n",
       "    <tr>\n",
       "      <th>3</th>\n",
       "      <td>Wii Sports Resort</td>\n",
       "      <td>Wii</td>\n",
       "      <td>2009</td>\n",
       "      <td>Sports</td>\n",
       "      <td>15.61</td>\n",
       "      <td>10.93</td>\n",
       "      <td>3.28</td>\n",
       "      <td>2.95</td>\n",
       "      <td>80.00</td>\n",
       "      <td>8.00</td>\n",
       "      <td>E</td>\n",
       "      <td>32.77</td>\n",
       "    </tr>\n",
       "    <tr>\n",
       "      <th>4</th>\n",
       "      <td>Pokemon Red/Pokemon Blue</td>\n",
       "      <td>GB</td>\n",
       "      <td>1996</td>\n",
       "      <td>Role-Playing</td>\n",
       "      <td>11.27</td>\n",
       "      <td>8.89</td>\n",
       "      <td>10.22</td>\n",
       "      <td>1.00</td>\n",
       "      <td>NaN</td>\n",
       "      <td>NaN</td>\n",
       "      <td>NaN</td>\n",
       "      <td>31.38</td>\n",
       "    </tr>\n",
       "  </tbody>\n",
       "</table>\n",
       "</div>"
      ],
      "text/plain": [
       "                       name platform  year_of_release         genre  na_sales  \\\n",
       "0                Wii Sports      Wii             2006        Sports     41.36   \n",
       "1         Super Mario Bros.      NES             1985      Platform     29.08   \n",
       "2            Mario Kart Wii      Wii             2008        Racing     15.68   \n",
       "3         Wii Sports Resort      Wii             2009        Sports     15.61   \n",
       "4  Pokemon Red/Pokemon Blue       GB             1996  Role-Playing     11.27   \n",
       "\n",
       "   eu_sales  jp_sales  other_sales  critic_score  user_score rating  \\\n",
       "0     28.96      3.77         8.45         76.00        8.00      E   \n",
       "1      3.58      6.81         0.77           NaN         NaN    NaN   \n",
       "2     12.76      3.79         3.29         82.00        8.30      E   \n",
       "3     10.93      3.28         2.95         80.00        8.00      E   \n",
       "4      8.89     10.22         1.00           NaN         NaN    NaN   \n",
       "\n",
       "   total_sales  \n",
       "0        82.54  \n",
       "1        40.24  \n",
       "2        35.52  \n",
       "3        32.77  \n",
       "4        31.38  "
      ]
     },
     "execution_count": 179,
     "metadata": {},
     "output_type": "execute_result"
    }
   ],
   "source": [
    "column_list = ['na_sales','eu_sales','jp_sales','other_sales']\n",
    "\n",
    "data[\"total_sales\"] = data[column_list].sum(axis=1)\n",
    "data.head()"
   ]
  },
  {
   "cell_type": "markdown",
   "metadata": {},
   "source": [
    "### Выводы"
   ]
  },
  {
   "cell_type": "markdown",
   "metadata": {},
   "source": [
    "* удалено 2 игры без имени,\n",
    "* заполнены пропуски в year_of_release,\n",
    "* в столбце user_score изменено значение tbd на NaN и тип данных на float,\n",
    "* рассчитаны суммурные продажи."
   ]
  },
  {
   "cell_type": "markdown",
   "metadata": {},
   "source": [
    "## Исследовательский анализ данных"
   ]
  },
  {
   "cell_type": "markdown",
   "metadata": {},
   "source": [
    "Посмотрим, сколько игр выпускалось в разные годы. Важны ли данные за все периоды?"
   ]
  },
  {
   "cell_type": "code",
   "execution_count": 180,
   "metadata": {
    "scrolled": true
   },
   "outputs": [
    {
     "data": {
      "text/html": [
       "<div>\n",
       "<style scoped>\n",
       "    .dataframe tbody tr th:only-of-type {\n",
       "        vertical-align: middle;\n",
       "    }\n",
       "\n",
       "    .dataframe tbody tr th {\n",
       "        vertical-align: top;\n",
       "    }\n",
       "\n",
       "    .dataframe thead th {\n",
       "        text-align: right;\n",
       "    }\n",
       "</style>\n",
       "<table border=\"1\" class=\"dataframe\">\n",
       "  <thead>\n",
       "    <tr style=\"text-align: right;\">\n",
       "      <th></th>\n",
       "      <th>name</th>\n",
       "    </tr>\n",
       "    <tr>\n",
       "      <th>year_of_release</th>\n",
       "      <th></th>\n",
       "    </tr>\n",
       "  </thead>\n",
       "  <tbody>\n",
       "    <tr>\n",
       "      <th>1980</th>\n",
       "      <td>9</td>\n",
       "    </tr>\n",
       "    <tr>\n",
       "      <th>1981</th>\n",
       "      <td>46</td>\n",
       "    </tr>\n",
       "    <tr>\n",
       "      <th>1982</th>\n",
       "      <td>53</td>\n",
       "    </tr>\n",
       "    <tr>\n",
       "      <th>1983</th>\n",
       "      <td>17</td>\n",
       "    </tr>\n",
       "    <tr>\n",
       "      <th>1984</th>\n",
       "      <td>14</td>\n",
       "    </tr>\n",
       "    <tr>\n",
       "      <th>1985</th>\n",
       "      <td>14</td>\n",
       "    </tr>\n",
       "    <tr>\n",
       "      <th>1986</th>\n",
       "      <td>21</td>\n",
       "    </tr>\n",
       "    <tr>\n",
       "      <th>1987</th>\n",
       "      <td>16</td>\n",
       "    </tr>\n",
       "    <tr>\n",
       "      <th>1988</th>\n",
       "      <td>15</td>\n",
       "    </tr>\n",
       "    <tr>\n",
       "      <th>1989</th>\n",
       "      <td>17</td>\n",
       "    </tr>\n",
       "    <tr>\n",
       "      <th>1990</th>\n",
       "      <td>16</td>\n",
       "    </tr>\n",
       "    <tr>\n",
       "      <th>1991</th>\n",
       "      <td>41</td>\n",
       "    </tr>\n",
       "    <tr>\n",
       "      <th>1992</th>\n",
       "      <td>43</td>\n",
       "    </tr>\n",
       "    <tr>\n",
       "      <th>1993</th>\n",
       "      <td>60</td>\n",
       "    </tr>\n",
       "    <tr>\n",
       "      <th>1994</th>\n",
       "      <td>121</td>\n",
       "    </tr>\n",
       "    <tr>\n",
       "      <th>1995</th>\n",
       "      <td>220</td>\n",
       "    </tr>\n",
       "    <tr>\n",
       "      <th>1996</th>\n",
       "      <td>263</td>\n",
       "    </tr>\n",
       "    <tr>\n",
       "      <th>1997</th>\n",
       "      <td>289</td>\n",
       "    </tr>\n",
       "    <tr>\n",
       "      <th>1998</th>\n",
       "      <td>389</td>\n",
       "    </tr>\n",
       "    <tr>\n",
       "      <th>1999</th>\n",
       "      <td>338</td>\n",
       "    </tr>\n",
       "    <tr>\n",
       "      <th>2000</th>\n",
       "      <td>350</td>\n",
       "    </tr>\n",
       "    <tr>\n",
       "      <th>2001</th>\n",
       "      <td>482</td>\n",
       "    </tr>\n",
       "    <tr>\n",
       "      <th>2002</th>\n",
       "      <td>829</td>\n",
       "    </tr>\n",
       "    <tr>\n",
       "      <th>2003</th>\n",
       "      <td>821</td>\n",
       "    </tr>\n",
       "    <tr>\n",
       "      <th>2004</th>\n",
       "      <td>796</td>\n",
       "    </tr>\n",
       "    <tr>\n",
       "      <th>2005</th>\n",
       "      <td>939</td>\n",
       "    </tr>\n",
       "    <tr>\n",
       "      <th>2006</th>\n",
       "      <td>1006</td>\n",
       "    </tr>\n",
       "    <tr>\n",
       "      <th>2007</th>\n",
       "      <td>1197</td>\n",
       "    </tr>\n",
       "    <tr>\n",
       "      <th>2008</th>\n",
       "      <td>1524</td>\n",
       "    </tr>\n",
       "    <tr>\n",
       "      <th>2009</th>\n",
       "      <td>1456</td>\n",
       "    </tr>\n",
       "    <tr>\n",
       "      <th>2010</th>\n",
       "      <td>1280</td>\n",
       "    </tr>\n",
       "    <tr>\n",
       "      <th>2011</th>\n",
       "      <td>1136</td>\n",
       "    </tr>\n",
       "    <tr>\n",
       "      <th>2012</th>\n",
       "      <td>653</td>\n",
       "    </tr>\n",
       "    <tr>\n",
       "      <th>2013</th>\n",
       "      <td>552</td>\n",
       "    </tr>\n",
       "    <tr>\n",
       "      <th>2014</th>\n",
       "      <td>582</td>\n",
       "    </tr>\n",
       "    <tr>\n",
       "      <th>2015</th>\n",
       "      <td>606</td>\n",
       "    </tr>\n",
       "    <tr>\n",
       "      <th>2016</th>\n",
       "      <td>502</td>\n",
       "    </tr>\n",
       "  </tbody>\n",
       "</table>\n",
       "</div>"
      ],
      "text/plain": [
       "                 name\n",
       "year_of_release      \n",
       "1980                9\n",
       "1981               46\n",
       "1982               53\n",
       "1983               17\n",
       "1984               14\n",
       "1985               14\n",
       "1986               21\n",
       "1987               16\n",
       "1988               15\n",
       "1989               17\n",
       "1990               16\n",
       "1991               41\n",
       "1992               43\n",
       "1993               60\n",
       "1994              121\n",
       "1995              220\n",
       "1996              263\n",
       "1997              289\n",
       "1998              389\n",
       "1999              338\n",
       "2000              350\n",
       "2001              482\n",
       "2002              829\n",
       "2003              821\n",
       "2004              796\n",
       "2005              939\n",
       "2006             1006\n",
       "2007             1197\n",
       "2008             1524\n",
       "2009             1456\n",
       "2010             1280\n",
       "2011             1136\n",
       "2012              653\n",
       "2013              552\n",
       "2014              582\n",
       "2015              606\n",
       "2016              502"
      ]
     },
     "execution_count": 180,
     "metadata": {},
     "output_type": "execute_result"
    }
   ],
   "source": [
    "# Рассчитаем число игр по годам:\n",
    "years = data.pivot_table(index = 'year_of_release', values = 'name', aggfunc = 'count')\n",
    "years"
   ]
  },
  {
   "cell_type": "markdown",
   "metadata": {},
   "source": [
    "До 1995 года выпускалось очень мало игр, можно ими пренебречь, тем более что там много пропусков. "
   ]
  },
  {
   "cell_type": "code",
   "execution_count": 181,
   "metadata": {},
   "outputs": [],
   "source": [
    "# Выделим игры c 1995 года:\n",
    "data_filt = data.query('year_of_release > 1994')"
   ]
  },
  {
   "cell_type": "markdown",
   "metadata": {},
   "source": [
    "Посмотрим, как менялись продажи по платформам. Выберем платформы с наибольшими суммарными продажами и построим распределение по годам. "
   ]
  },
  {
   "cell_type": "code",
   "execution_count": 182,
   "metadata": {
    "scrolled": true
   },
   "outputs": [
    {
     "data": {
      "text/html": [
       "<div>\n",
       "<style scoped>\n",
       "    .dataframe tbody tr th:only-of-type {\n",
       "        vertical-align: middle;\n",
       "    }\n",
       "\n",
       "    .dataframe tbody tr th {\n",
       "        vertical-align: top;\n",
       "    }\n",
       "\n",
       "    .dataframe thead th {\n",
       "        text-align: right;\n",
       "    }\n",
       "</style>\n",
       "<table border=\"1\" class=\"dataframe\">\n",
       "  <thead>\n",
       "    <tr style=\"text-align: right;\">\n",
       "      <th></th>\n",
       "      <th>platform</th>\n",
       "      <th>total_sales</th>\n",
       "    </tr>\n",
       "  </thead>\n",
       "  <tbody>\n",
       "    <tr>\n",
       "      <th>0</th>\n",
       "      <td>PS2</td>\n",
       "      <td>1,255.77</td>\n",
       "    </tr>\n",
       "    <tr>\n",
       "      <th>1</th>\n",
       "      <td>X360</td>\n",
       "      <td>971.42</td>\n",
       "    </tr>\n",
       "    <tr>\n",
       "      <th>2</th>\n",
       "      <td>PS3</td>\n",
       "      <td>939.65</td>\n",
       "    </tr>\n",
       "    <tr>\n",
       "      <th>3</th>\n",
       "      <td>Wii</td>\n",
       "      <td>907.51</td>\n",
       "    </tr>\n",
       "    <tr>\n",
       "      <th>4</th>\n",
       "      <td>DS</td>\n",
       "      <td>806.10</td>\n",
       "    </tr>\n",
       "    <tr>\n",
       "      <th>5</th>\n",
       "      <td>PS</td>\n",
       "      <td>724.83</td>\n",
       "    </tr>\n",
       "    <tr>\n",
       "      <th>6</th>\n",
       "      <td>GBA</td>\n",
       "      <td>317.85</td>\n",
       "    </tr>\n",
       "    <tr>\n",
       "      <th>7</th>\n",
       "      <td>PS4</td>\n",
       "      <td>314.14</td>\n",
       "    </tr>\n",
       "    <tr>\n",
       "      <th>8</th>\n",
       "      <td>PSP</td>\n",
       "      <td>294.05</td>\n",
       "    </tr>\n",
       "    <tr>\n",
       "      <th>9</th>\n",
       "      <td>3DS</td>\n",
       "      <td>259.00</td>\n",
       "    </tr>\n",
       "    <tr>\n",
       "      <th>10</th>\n",
       "      <td>XB</td>\n",
       "      <td>257.74</td>\n",
       "    </tr>\n",
       "    <tr>\n",
       "      <th>11</th>\n",
       "      <td>PC</td>\n",
       "      <td>243.55</td>\n",
       "    </tr>\n",
       "    <tr>\n",
       "      <th>12</th>\n",
       "      <td>N64</td>\n",
       "      <td>218.68</td>\n",
       "    </tr>\n",
       "    <tr>\n",
       "      <th>13</th>\n",
       "      <td>GC</td>\n",
       "      <td>198.93</td>\n",
       "    </tr>\n",
       "    <tr>\n",
       "      <th>14</th>\n",
       "      <td>XOne</td>\n",
       "      <td>159.32</td>\n",
       "    </tr>\n",
       "    <tr>\n",
       "      <th>15</th>\n",
       "      <td>GB</td>\n",
       "      <td>140.93</td>\n",
       "    </tr>\n",
       "    <tr>\n",
       "      <th>16</th>\n",
       "      <td>WiiU</td>\n",
       "      <td>82.19</td>\n",
       "    </tr>\n",
       "    <tr>\n",
       "      <th>17</th>\n",
       "      <td>PSV</td>\n",
       "      <td>54.07</td>\n",
       "    </tr>\n",
       "    <tr>\n",
       "      <th>18</th>\n",
       "      <td>SNES</td>\n",
       "      <td>49.59</td>\n",
       "    </tr>\n",
       "    <tr>\n",
       "      <th>19</th>\n",
       "      <td>SAT</td>\n",
       "      <td>29.94</td>\n",
       "    </tr>\n",
       "    <tr>\n",
       "      <th>20</th>\n",
       "      <td>DC</td>\n",
       "      <td>15.95</td>\n",
       "    </tr>\n",
       "    <tr>\n",
       "      <th>21</th>\n",
       "      <td>WS</td>\n",
       "      <td>1.42</td>\n",
       "    </tr>\n",
       "    <tr>\n",
       "      <th>22</th>\n",
       "      <td>NG</td>\n",
       "      <td>0.43</td>\n",
       "    </tr>\n",
       "    <tr>\n",
       "      <th>23</th>\n",
       "      <td>TG16</td>\n",
       "      <td>0.16</td>\n",
       "    </tr>\n",
       "    <tr>\n",
       "      <th>24</th>\n",
       "      <td>3DO</td>\n",
       "      <td>0.08</td>\n",
       "    </tr>\n",
       "    <tr>\n",
       "      <th>25</th>\n",
       "      <td>PCFX</td>\n",
       "      <td>0.03</td>\n",
       "    </tr>\n",
       "  </tbody>\n",
       "</table>\n",
       "</div>"
      ],
      "text/plain": [
       "   platform  total_sales\n",
       "0       PS2     1,255.77\n",
       "1      X360       971.42\n",
       "2       PS3       939.65\n",
       "3       Wii       907.51\n",
       "4        DS       806.10\n",
       "5        PS       724.83\n",
       "6       GBA       317.85\n",
       "7       PS4       314.14\n",
       "8       PSP       294.05\n",
       "9       3DS       259.00\n",
       "10       XB       257.74\n",
       "11       PC       243.55\n",
       "12      N64       218.68\n",
       "13       GC       198.93\n",
       "14     XOne       159.32\n",
       "15       GB       140.93\n",
       "16     WiiU        82.19\n",
       "17      PSV        54.07\n",
       "18     SNES        49.59\n",
       "19      SAT        29.94\n",
       "20       DC        15.95\n",
       "21       WS         1.42\n",
       "22       NG         0.43\n",
       "23     TG16         0.16\n",
       "24      3DO         0.08\n",
       "25     PCFX         0.03"
      ]
     },
     "metadata": {},
     "output_type": "display_data"
    },
    {
     "data": {
      "text/plain": [
       "Text(0, 0.5, 'Объем продаж, млн. копий')"
      ]
     },
     "execution_count": 182,
     "metadata": {},
     "output_type": "execute_result"
    },
    {
     "data": {
      "image/png": "[encoded data removed]",
      "text/plain": [
       "<Figure size 864x504 with 1 Axes>"
      ]
     },
     "metadata": {
      "needs_background": "light"
     },
     "output_type": "display_data"
    }
   ],
   "source": [
    "# Рассчитаем сумму продаж по платформам:\n",
    "sales_platform = data_filt.pivot_table(index = 'platform', \n",
    "                                       values = 'total_sales', aggfunc = 'sum').sort_values(\n",
    "                                       by = 'total_sales', ascending = False).reset_index()\n",
    "display(sales_platform)\n",
    "\n",
    "# Построим график продаж:\n",
    "sales_platform.plot(x = 'platform',\n",
    "                    y = 'total_sales',\n",
    "                    figsize = (12,7),\n",
    "                    grid = True)\n",
    "\n",
    "plt.xticks(np.arange(len(sales_platform)), sales_platform['platform'])\n",
    "plt.title('Продажи по платформам', fontsize=16)\n",
    "plt.xlabel('Платформа', fontsize=12)\n",
    "plt.ylabel('Объем продаж, млн. копий', fontsize=12)"
   ]
  },
  {
   "cell_type": "markdown",
   "metadata": {},
   "source": [
    "Самые прибыльные платформы - с выручкой свыше 100 млн, остальные убыточные. Топ 5 - PS2, X360, PS3, Wii, DS."
   ]
  },
  {
   "cell_type": "code",
   "execution_count": 183,
   "metadata": {},
   "outputs": [],
   "source": [
    "# Удалим убыточные платформы:\n",
    "data_filt = data_filt.set_index('platform')\n",
    "data_filt = data_filt.drop(['WiiU','PSV','SNES','SAT','DC','WS','NG','TG16','3DO','PCFX'], axis = 0).reset_index()"
   ]
  },
  {
   "cell_type": "code",
   "execution_count": 184,
   "metadata": {},
   "outputs": [
    {
     "data": {
      "text/html": [
       "<div>\n",
       "<style scoped>\n",
       "    .dataframe tbody tr th:only-of-type {\n",
       "        vertical-align: middle;\n",
       "    }\n",
       "\n",
       "    .dataframe tbody tr th {\n",
       "        vertical-align: top;\n",
       "    }\n",
       "\n",
       "    .dataframe thead tr th {\n",
       "        text-align: left;\n",
       "    }\n",
       "\n",
       "    .dataframe thead tr:last-of-type th {\n",
       "        text-align: right;\n",
       "    }\n",
       "</style>\n",
       "<table border=\"1\" class=\"dataframe\">\n",
       "  <thead>\n",
       "    <tr>\n",
       "      <th></th>\n",
       "      <th colspan=\"22\" halign=\"left\">total_sales</th>\n",
       "    </tr>\n",
       "    <tr>\n",
       "      <th>year_of_release</th>\n",
       "      <th>1995</th>\n",
       "      <th>1996</th>\n",
       "      <th>1997</th>\n",
       "      <th>1998</th>\n",
       "      <th>1999</th>\n",
       "      <th>2000</th>\n",
       "      <th>2001</th>\n",
       "      <th>2002</th>\n",
       "      <th>2003</th>\n",
       "      <th>2004</th>\n",
       "      <th>2005</th>\n",
       "      <th>2006</th>\n",
       "      <th>2007</th>\n",
       "      <th>2008</th>\n",
       "      <th>2009</th>\n",
       "      <th>2010</th>\n",
       "      <th>2011</th>\n",
       "      <th>2012</th>\n",
       "      <th>2013</th>\n",
       "      <th>2014</th>\n",
       "      <th>2015</th>\n",
       "      <th>2016</th>\n",
       "    </tr>\n",
       "    <tr>\n",
       "      <th>platform</th>\n",
       "      <th></th>\n",
       "      <th></th>\n",
       "      <th></th>\n",
       "      <th></th>\n",
       "      <th></th>\n",
       "      <th></th>\n",
       "      <th></th>\n",
       "      <th></th>\n",
       "      <th></th>\n",
       "      <th></th>\n",
       "      <th></th>\n",
       "      <th></th>\n",
       "      <th></th>\n",
       "      <th></th>\n",
       "      <th></th>\n",
       "      <th></th>\n",
       "      <th></th>\n",
       "      <th></th>\n",
       "      <th></th>\n",
       "      <th></th>\n",
       "      <th></th>\n",
       "      <th></th>\n",
       "    </tr>\n",
       "  </thead>\n",
       "  <tbody>\n",
       "    <tr>\n",
       "      <th>3DS</th>\n",
       "      <td>NaN</td>\n",
       "      <td>NaN</td>\n",
       "      <td>NaN</td>\n",
       "      <td>NaN</td>\n",
       "      <td>NaN</td>\n",
       "      <td>NaN</td>\n",
       "      <td>NaN</td>\n",
       "      <td>NaN</td>\n",
       "      <td>NaN</td>\n",
       "      <td>NaN</td>\n",
       "      <td>NaN</td>\n",
       "      <td>NaN</td>\n",
       "      <td>NaN</td>\n",
       "      <td>NaN</td>\n",
       "      <td>NaN</td>\n",
       "      <td>NaN</td>\n",
       "      <td>63.20</td>\n",
       "      <td>51.36</td>\n",
       "      <td>57.76</td>\n",
       "      <td>43.76</td>\n",
       "      <td>27.78</td>\n",
       "      <td>15.14</td>\n",
       "    </tr>\n",
       "    <tr>\n",
       "      <th>DS</th>\n",
       "      <td>NaN</td>\n",
       "      <td>NaN</td>\n",
       "      <td>NaN</td>\n",
       "      <td>NaN</td>\n",
       "      <td>NaN</td>\n",
       "      <td>NaN</td>\n",
       "      <td>NaN</td>\n",
       "      <td>NaN</td>\n",
       "      <td>NaN</td>\n",
       "      <td>17.27</td>\n",
       "      <td>130.14</td>\n",
       "      <td>119.81</td>\n",
       "      <td>146.94</td>\n",
       "      <td>148.65</td>\n",
       "      <td>119.54</td>\n",
       "      <td>85.02</td>\n",
       "      <td>26.18</td>\n",
       "      <td>11.01</td>\n",
       "      <td>1.54</td>\n",
       "      <td>NaN</td>\n",
       "      <td>NaN</td>\n",
       "      <td>NaN</td>\n",
       "    </tr>\n",
       "    <tr>\n",
       "      <th>GB</th>\n",
       "      <td>4.63</td>\n",
       "      <td>36.03</td>\n",
       "      <td>6.37</td>\n",
       "      <td>26.90</td>\n",
       "      <td>38.00</td>\n",
       "      <td>19.76</td>\n",
       "      <td>9.24</td>\n",
       "      <td>NaN</td>\n",
       "      <td>NaN</td>\n",
       "      <td>NaN</td>\n",
       "      <td>NaN</td>\n",
       "      <td>NaN</td>\n",
       "      <td>NaN</td>\n",
       "      <td>NaN</td>\n",
       "      <td>NaN</td>\n",
       "      <td>NaN</td>\n",
       "      <td>NaN</td>\n",
       "      <td>NaN</td>\n",
       "      <td>NaN</td>\n",
       "      <td>NaN</td>\n",
       "      <td>NaN</td>\n",
       "      <td>NaN</td>\n",
       "    </tr>\n",
       "    <tr>\n",
       "      <th>GBA</th>\n",
       "      <td>NaN</td>\n",
       "      <td>NaN</td>\n",
       "      <td>NaN</td>\n",
       "      <td>NaN</td>\n",
       "      <td>NaN</td>\n",
       "      <td>0.07</td>\n",
       "      <td>61.53</td>\n",
       "      <td>74.16</td>\n",
       "      <td>61.64</td>\n",
       "      <td>77.91</td>\n",
       "      <td>33.86</td>\n",
       "      <td>5.28</td>\n",
       "      <td>3.40</td>\n",
       "      <td>NaN</td>\n",
       "      <td>NaN</td>\n",
       "      <td>NaN</td>\n",
       "      <td>NaN</td>\n",
       "      <td>NaN</td>\n",
       "      <td>NaN</td>\n",
       "      <td>NaN</td>\n",
       "      <td>NaN</td>\n",
       "      <td>NaN</td>\n",
       "    </tr>\n",
       "    <tr>\n",
       "      <th>GC</th>\n",
       "      <td>NaN</td>\n",
       "      <td>NaN</td>\n",
       "      <td>NaN</td>\n",
       "      <td>NaN</td>\n",
       "      <td>NaN</td>\n",
       "      <td>NaN</td>\n",
       "      <td>26.34</td>\n",
       "      <td>51.81</td>\n",
       "      <td>52.81</td>\n",
       "      <td>28.82</td>\n",
       "      <td>27.62</td>\n",
       "      <td>11.26</td>\n",
       "      <td>0.27</td>\n",
       "      <td>NaN</td>\n",
       "      <td>NaN</td>\n",
       "      <td>NaN</td>\n",
       "      <td>NaN</td>\n",
       "      <td>NaN</td>\n",
       "      <td>NaN</td>\n",
       "      <td>NaN</td>\n",
       "      <td>NaN</td>\n",
       "      <td>NaN</td>\n",
       "    </tr>\n",
       "    <tr>\n",
       "      <th>N64</th>\n",
       "      <td>NaN</td>\n",
       "      <td>34.10</td>\n",
       "      <td>39.50</td>\n",
       "      <td>49.91</td>\n",
       "      <td>57.87</td>\n",
       "      <td>33.97</td>\n",
       "      <td>3.25</td>\n",
       "      <td>0.08</td>\n",
       "      <td>NaN</td>\n",
       "      <td>NaN</td>\n",
       "      <td>NaN</td>\n",
       "      <td>NaN</td>\n",
       "      <td>NaN</td>\n",
       "      <td>NaN</td>\n",
       "      <td>NaN</td>\n",
       "      <td>NaN</td>\n",
       "      <td>NaN</td>\n",
       "      <td>NaN</td>\n",
       "      <td>NaN</td>\n",
       "      <td>NaN</td>\n",
       "      <td>NaN</td>\n",
       "      <td>NaN</td>\n",
       "    </tr>\n",
       "    <tr>\n",
       "      <th>PC</th>\n",
       "      <td>4.22</td>\n",
       "      <td>10.58</td>\n",
       "      <td>11.27</td>\n",
       "      <td>3.26</td>\n",
       "      <td>4.74</td>\n",
       "      <td>4.66</td>\n",
       "      <td>5.47</td>\n",
       "      <td>8.57</td>\n",
       "      <td>8.84</td>\n",
       "      <td>10.39</td>\n",
       "      <td>4.37</td>\n",
       "      <td>2.85</td>\n",
       "      <td>9.28</td>\n",
       "      <td>16.18</td>\n",
       "      <td>16.91</td>\n",
       "      <td>24.28</td>\n",
       "      <td>35.03</td>\n",
       "      <td>23.22</td>\n",
       "      <td>12.38</td>\n",
       "      <td>13.28</td>\n",
       "      <td>8.52</td>\n",
       "      <td>5.25</td>\n",
       "    </tr>\n",
       "    <tr>\n",
       "      <th>PS</th>\n",
       "      <td>35.96</td>\n",
       "      <td>94.70</td>\n",
       "      <td>136.17</td>\n",
       "      <td>172.77</td>\n",
       "      <td>144.53</td>\n",
       "      <td>96.37</td>\n",
       "      <td>35.59</td>\n",
       "      <td>6.67</td>\n",
       "      <td>2.07</td>\n",
       "      <td>NaN</td>\n",
       "      <td>NaN</td>\n",
       "      <td>NaN</td>\n",
       "      <td>NaN</td>\n",
       "      <td>NaN</td>\n",
       "      <td>NaN</td>\n",
       "      <td>NaN</td>\n",
       "      <td>NaN</td>\n",
       "      <td>NaN</td>\n",
       "      <td>NaN</td>\n",
       "      <td>NaN</td>\n",
       "      <td>NaN</td>\n",
       "      <td>NaN</td>\n",
       "    </tr>\n",
       "    <tr>\n",
       "      <th>PS2</th>\n",
       "      <td>NaN</td>\n",
       "      <td>NaN</td>\n",
       "      <td>NaN</td>\n",
       "      <td>NaN</td>\n",
       "      <td>NaN</td>\n",
       "      <td>39.17</td>\n",
       "      <td>166.43</td>\n",
       "      <td>205.38</td>\n",
       "      <td>184.31</td>\n",
       "      <td>234.02</td>\n",
       "      <td>160.66</td>\n",
       "      <td>103.42</td>\n",
       "      <td>75.99</td>\n",
       "      <td>53.90</td>\n",
       "      <td>26.40</td>\n",
       "      <td>5.64</td>\n",
       "      <td>0.45</td>\n",
       "      <td>NaN</td>\n",
       "      <td>NaN</td>\n",
       "      <td>NaN</td>\n",
       "      <td>NaN</td>\n",
       "      <td>NaN</td>\n",
       "    </tr>\n",
       "    <tr>\n",
       "      <th>PS3</th>\n",
       "      <td>NaN</td>\n",
       "      <td>NaN</td>\n",
       "      <td>NaN</td>\n",
       "      <td>NaN</td>\n",
       "      <td>NaN</td>\n",
       "      <td>NaN</td>\n",
       "      <td>NaN</td>\n",
       "      <td>NaN</td>\n",
       "      <td>NaN</td>\n",
       "      <td>NaN</td>\n",
       "      <td>NaN</td>\n",
       "      <td>20.96</td>\n",
       "      <td>73.19</td>\n",
       "      <td>118.52</td>\n",
       "      <td>130.93</td>\n",
       "      <td>150.48</td>\n",
       "      <td>156.78</td>\n",
       "      <td>107.36</td>\n",
       "      <td>113.25</td>\n",
       "      <td>47.76</td>\n",
       "      <td>16.82</td>\n",
       "      <td>3.60</td>\n",
       "    </tr>\n",
       "    <tr>\n",
       "      <th>PS4</th>\n",
       "      <td>NaN</td>\n",
       "      <td>NaN</td>\n",
       "      <td>NaN</td>\n",
       "      <td>NaN</td>\n",
       "      <td>NaN</td>\n",
       "      <td>NaN</td>\n",
       "      <td>NaN</td>\n",
       "      <td>NaN</td>\n",
       "      <td>NaN</td>\n",
       "      <td>NaN</td>\n",
       "      <td>NaN</td>\n",
       "      <td>NaN</td>\n",
       "      <td>NaN</td>\n",
       "      <td>NaN</td>\n",
       "      <td>NaN</td>\n",
       "      <td>NaN</td>\n",
       "      <td>NaN</td>\n",
       "      <td>NaN</td>\n",
       "      <td>25.99</td>\n",
       "      <td>100.00</td>\n",
       "      <td>118.90</td>\n",
       "      <td>69.25</td>\n",
       "    </tr>\n",
       "    <tr>\n",
       "      <th>PSP</th>\n",
       "      <td>NaN</td>\n",
       "      <td>NaN</td>\n",
       "      <td>NaN</td>\n",
       "      <td>NaN</td>\n",
       "      <td>NaN</td>\n",
       "      <td>NaN</td>\n",
       "      <td>NaN</td>\n",
       "      <td>NaN</td>\n",
       "      <td>NaN</td>\n",
       "      <td>7.06</td>\n",
       "      <td>43.84</td>\n",
       "      <td>55.32</td>\n",
       "      <td>46.93</td>\n",
       "      <td>39.07</td>\n",
       "      <td>37.78</td>\n",
       "      <td>35.04</td>\n",
       "      <td>17.82</td>\n",
       "      <td>7.69</td>\n",
       "      <td>3.14</td>\n",
       "      <td>0.24</td>\n",
       "      <td>0.12</td>\n",
       "      <td>NaN</td>\n",
       "    </tr>\n",
       "    <tr>\n",
       "      <th>Wii</th>\n",
       "      <td>NaN</td>\n",
       "      <td>NaN</td>\n",
       "      <td>NaN</td>\n",
       "      <td>NaN</td>\n",
       "      <td>NaN</td>\n",
       "      <td>NaN</td>\n",
       "      <td>NaN</td>\n",
       "      <td>NaN</td>\n",
       "      <td>NaN</td>\n",
       "      <td>NaN</td>\n",
       "      <td>NaN</td>\n",
       "      <td>137.15</td>\n",
       "      <td>152.77</td>\n",
       "      <td>187.65</td>\n",
       "      <td>206.97</td>\n",
       "      <td>127.95</td>\n",
       "      <td>59.65</td>\n",
       "      <td>21.71</td>\n",
       "      <td>8.59</td>\n",
       "      <td>3.75</td>\n",
       "      <td>1.14</td>\n",
       "      <td>0.18</td>\n",
       "    </tr>\n",
       "    <tr>\n",
       "      <th>X360</th>\n",
       "      <td>NaN</td>\n",
       "      <td>NaN</td>\n",
       "      <td>NaN</td>\n",
       "      <td>NaN</td>\n",
       "      <td>NaN</td>\n",
       "      <td>NaN</td>\n",
       "      <td>NaN</td>\n",
       "      <td>NaN</td>\n",
       "      <td>NaN</td>\n",
       "      <td>NaN</td>\n",
       "      <td>8.25</td>\n",
       "      <td>51.62</td>\n",
       "      <td>95.41</td>\n",
       "      <td>135.26</td>\n",
       "      <td>130.47</td>\n",
       "      <td>170.03</td>\n",
       "      <td>143.84</td>\n",
       "      <td>99.74</td>\n",
       "      <td>88.58</td>\n",
       "      <td>34.74</td>\n",
       "      <td>11.96</td>\n",
       "      <td>1.52</td>\n",
       "    </tr>\n",
       "    <tr>\n",
       "      <th>XB</th>\n",
       "      <td>NaN</td>\n",
       "      <td>NaN</td>\n",
       "      <td>NaN</td>\n",
       "      <td>NaN</td>\n",
       "      <td>NaN</td>\n",
       "      <td>0.99</td>\n",
       "      <td>22.26</td>\n",
       "      <td>48.01</td>\n",
       "      <td>61.21</td>\n",
       "      <td>65.42</td>\n",
       "      <td>49.08</td>\n",
       "      <td>10.04</td>\n",
       "      <td>0.55</td>\n",
       "      <td>0.18</td>\n",
       "      <td>NaN</td>\n",
       "      <td>NaN</td>\n",
       "      <td>NaN</td>\n",
       "      <td>NaN</td>\n",
       "      <td>NaN</td>\n",
       "      <td>NaN</td>\n",
       "      <td>NaN</td>\n",
       "      <td>NaN</td>\n",
       "    </tr>\n",
       "    <tr>\n",
       "      <th>XOne</th>\n",
       "      <td>NaN</td>\n",
       "      <td>NaN</td>\n",
       "      <td>NaN</td>\n",
       "      <td>NaN</td>\n",
       "      <td>NaN</td>\n",
       "      <td>NaN</td>\n",
       "      <td>NaN</td>\n",
       "      <td>NaN</td>\n",
       "      <td>NaN</td>\n",
       "      <td>NaN</td>\n",
       "      <td>NaN</td>\n",
       "      <td>NaN</td>\n",
       "      <td>NaN</td>\n",
       "      <td>NaN</td>\n",
       "      <td>NaN</td>\n",
       "      <td>NaN</td>\n",
       "      <td>NaN</td>\n",
       "      <td>NaN</td>\n",
       "      <td>18.96</td>\n",
       "      <td>54.07</td>\n",
       "      <td>60.14</td>\n",
       "      <td>26.15</td>\n",
       "    </tr>\n",
       "  </tbody>\n",
       "</table>\n",
       "</div>"
      ],
      "text/plain": [
       "                total_sales                                                 \\\n",
       "year_of_release        1995  1996   1997   1998   1999  2000   2001   2002   \n",
       "platform                                                                     \n",
       "3DS                     NaN   NaN    NaN    NaN    NaN   NaN    NaN    NaN   \n",
       "DS                      NaN   NaN    NaN    NaN    NaN   NaN    NaN    NaN   \n",
       "GB                     4.63 36.03   6.37  26.90  38.00 19.76   9.24    NaN   \n",
       "GBA                     NaN   NaN    NaN    NaN    NaN  0.07  61.53  74.16   \n",
       "GC                      NaN   NaN    NaN    NaN    NaN   NaN  26.34  51.81   \n",
       "N64                     NaN 34.10  39.50  49.91  57.87 33.97   3.25   0.08   \n",
       "PC                     4.22 10.58  11.27   3.26   4.74  4.66   5.47   8.57   \n",
       "PS                    35.96 94.70 136.17 172.77 144.53 96.37  35.59   6.67   \n",
       "PS2                     NaN   NaN    NaN    NaN    NaN 39.17 166.43 205.38   \n",
       "PS3                     NaN   NaN    NaN    NaN    NaN   NaN    NaN    NaN   \n",
       "PS4                     NaN   NaN    NaN    NaN    NaN   NaN    NaN    NaN   \n",
       "PSP                     NaN   NaN    NaN    NaN    NaN   NaN    NaN    NaN   \n",
       "Wii                     NaN   NaN    NaN    NaN    NaN   NaN    NaN    NaN   \n",
       "X360                    NaN   NaN    NaN    NaN    NaN   NaN    NaN    NaN   \n",
       "XB                      NaN   NaN    NaN    NaN    NaN  0.99  22.26  48.01   \n",
       "XOne                    NaN   NaN    NaN    NaN    NaN   NaN    NaN    NaN   \n",
       "\n",
       "                                                                         \\\n",
       "year_of_release   2003   2004   2005   2006   2007   2008   2009   2010   \n",
       "platform                                                                  \n",
       "3DS                NaN    NaN    NaN    NaN    NaN    NaN    NaN    NaN   \n",
       "DS                 NaN  17.27 130.14 119.81 146.94 148.65 119.54  85.02   \n",
       "GB                 NaN    NaN    NaN    NaN    NaN    NaN    NaN    NaN   \n",
       "GBA              61.64  77.91  33.86   5.28   3.40    NaN    NaN    NaN   \n",
       "GC               52.81  28.82  27.62  11.26   0.27    NaN    NaN    NaN   \n",
       "N64                NaN    NaN    NaN    NaN    NaN    NaN    NaN    NaN   \n",
       "PC                8.84  10.39   4.37   2.85   9.28  16.18  16.91  24.28   \n",
       "PS                2.07    NaN    NaN    NaN    NaN    NaN    NaN    NaN   \n",
       "PS2             184.31 234.02 160.66 103.42  75.99  53.90  26.40   5.64   \n",
       "PS3                NaN    NaN    NaN  20.96  73.19 118.52 130.93 150.48   \n",
       "PS4                NaN    NaN    NaN    NaN    NaN    NaN    NaN    NaN   \n",
       "PSP                NaN   7.06  43.84  55.32  46.93  39.07  37.78  35.04   \n",
       "Wii                NaN    NaN    NaN 137.15 152.77 187.65 206.97 127.95   \n",
       "X360               NaN    NaN   8.25  51.62  95.41 135.26 130.47 170.03   \n",
       "XB               61.21  65.42  49.08  10.04   0.55   0.18    NaN    NaN   \n",
       "XOne               NaN    NaN    NaN    NaN    NaN    NaN    NaN    NaN   \n",
       "\n",
       "                                                          \n",
       "year_of_release   2011   2012   2013   2014   2015  2016  \n",
       "platform                                                  \n",
       "3DS              63.20  51.36  57.76  43.76  27.78 15.14  \n",
       "DS               26.18  11.01   1.54    NaN    NaN   NaN  \n",
       "GB                 NaN    NaN    NaN    NaN    NaN   NaN  \n",
       "GBA                NaN    NaN    NaN    NaN    NaN   NaN  \n",
       "GC                 NaN    NaN    NaN    NaN    NaN   NaN  \n",
       "N64                NaN    NaN    NaN    NaN    NaN   NaN  \n",
       "PC               35.03  23.22  12.38  13.28   8.52  5.25  \n",
       "PS                 NaN    NaN    NaN    NaN    NaN   NaN  \n",
       "PS2               0.45    NaN    NaN    NaN    NaN   NaN  \n",
       "PS3             156.78 107.36 113.25  47.76  16.82  3.60  \n",
       "PS4                NaN    NaN  25.99 100.00 118.90 69.25  \n",
       "PSP              17.82   7.69   3.14   0.24   0.12   NaN  \n",
       "Wii              59.65  21.71   8.59   3.75   1.14  0.18  \n",
       "X360            143.84  99.74  88.58  34.74  11.96  1.52  \n",
       "XB                 NaN    NaN    NaN    NaN    NaN   NaN  \n",
       "XOne               NaN    NaN  18.96  54.07  60.14 26.15  "
      ]
     },
     "execution_count": 184,
     "metadata": {},
     "output_type": "execute_result"
    }
   ],
   "source": [
    "# Рассчитаем сумму продаж по платформам и по годам:\n",
    "sales_platform = data_filt.pivot_table(\n",
    "    index = ['year_of_release','platform'], values = 'total_sales', \n",
    "    aggfunc = 'sum').reset_index().sort_values(by = 'year_of_release')\n",
    "\n",
    "# Развернем полученную таблицу о продажах на платформах с даннными по годам:\n",
    "sales_platform_pivot = sales_platform.pivot(index = 'platform', columns = 'year_of_release')\n",
    "sales_platform_pivot"
   ]
  },
  {
   "cell_type": "markdown",
   "metadata": {},
   "source": [
    "**Выводы:**\n",
    "* В среднем платформа существует 10-11 лет. Новые платформы появляются в начале и середине десятилетий.\n",
    "* За последнее время в продажах лидирует PS4, XOne и 3DS.\n",
    "* Продажи игр на ПК росли до 2011 года, потом постепенно снизились до 5 млн. в 2016 г.\n",
    "* Продажи упали также следующих платформ - PS3, 3DS, PSP, Wii, X360.\n",
    "* В последнее десятилетие в топах продаж были PS3, X360, PS4, XOne, Wii, PSP, DS, PC, PS2, 3DS.\n",
    "* Из актуальных можно выделить XOne, X360, Wii, PS4, PS3, PC, 3DS."
   ]
  },
  {
   "cell_type": "code",
   "execution_count": 185,
   "metadata": {},
   "outputs": [
    {
     "data": {
      "text/plain": [
       "array(['PC', 'X360', 'PS3', 'Wii', '3DS', 'PS4', 'XOne'], dtype=object)"
      ]
     },
     "execution_count": 185,
     "metadata": {},
     "output_type": "execute_result"
    }
   ],
   "source": [
    "# Выделим только актуальные платформы:\n",
    "actual_platform = sales_platform.set_index('platform')\n",
    "actual_platform = actual_platform.drop(\n",
    "    ['DS','GB','GBA','GC','N64','PS','PS2','PSP','XB'], axis = 0).reset_index()\n",
    "actual_platform['platform'].unique()"
   ]
  },
  {
   "cell_type": "markdown",
   "metadata": {},
   "source": [
    "Построим график «ящик с усами» по глобальным продажам игр в разбивке по актуальным платформам."
   ]
  },
  {
   "cell_type": "code",
   "execution_count": 187,
   "metadata": {},
   "outputs": [
    {
     "data": {
      "text/plain": [
       "Text(0, 0.5, 'Объем продаж, млн. копий')"
      ]
     },
     "execution_count": 187,
     "metadata": {},
     "output_type": "execute_result"
    },
    {
     "data": {
      "image/png": "[encoded data removed]",
      "text/plain": [
       "<Figure size 432x288 with 1 Axes>"
      ]
     },
     "metadata": {
      "needs_background": "light"
     },
     "output_type": "display_data"
    }
   ],
   "source": [
    "sns.boxplot(x=\"platform\", y=\"total_sales\", data=actual_platform_box, \n",
    "            order=[\"PS3\", \"X360\", \"PS4\",\"Wii\", \"3DS\",\"XOne\",\"PC\"])\n",
    "plt.title(\"Распределение продаж по платформам\", fontsize=16)\n",
    "plt.xlabel(\"Платформа\", fontsize=12)\n",
    "plt.ylabel(\"Объем продаж, млн. копий\", fontsize=12)"
   ]
  },
  {
   "cell_type": "markdown",
   "metadata": {},
   "source": [
    "Из выборки актуальных платформ дольше всего продавалась платформа Wii, наибольших обьем продаж имеют PS3, PS4 и X360."
   ]
  },
  {
   "cell_type": "markdown",
   "metadata": {},
   "source": [
    "Рассмотрим, как влияют на продажи внутри популярной платформы PS3 отзывы пользователей и критиков. Построим диаграмму рассеяния и рассчитаем корреляцию между отзывами и продажами."
   ]
  },
  {
   "cell_type": "code",
   "execution_count": 188,
   "metadata": {},
   "outputs": [
    {
     "data": {
      "image/png": "[encoded data removed]",
      "text/plain": [
       "<Figure size 720x504 with 1 Axes>"
      ]
     },
     "metadata": {
      "needs_background": "light"
     },
     "output_type": "display_data"
    },
    {
     "data": {
      "image/png": "[encoded data removed]",
      "text/plain": [
       "<Figure size 720x504 with 1 Axes>"
      ]
     },
     "metadata": {
      "needs_background": "light"
     },
     "output_type": "display_data"
    },
    {
     "data": {
      "image/png": "[encoded data removed]",
      "text/plain": [
       "<Figure size 432x288 with 2 Axes>"
      ]
     },
     "metadata": {
      "needs_background": "light"
     },
     "output_type": "display_data"
    }
   ],
   "source": [
    "# Выделим данные только по платформе PS3:\n",
    "ps3 = data_filt.query('platform == \"PS3\"')\n",
    "ps3_pivot = ps3.pivot_table(index = ['critic_score','user_score'], values = 'total_sales', aggfunc = 'sum'\n",
    "                           ).reset_index()\n",
    "\n",
    "# Построим диаграмму рассеяния и рассчитаем корреляцию:\n",
    "plt.style.use('seaborn-deep')\n",
    "ps3_pivot.plot(kind = 'scatter',\n",
    "              x = 'critic_score',\n",
    "              y = 'total_sales',\n",
    "              style = 'o-',\n",
    "              alpha=0.4,\n",
    "              figsize=(10,7),\n",
    "              s=50,\n",
    "              grid = True)\n",
    "plt.title('Отзывы критиков игр на PS3', fontsize=16)\n",
    "plt.xlabel('Отзывы критиков', fontsize=12)\n",
    "plt.ylabel('Объем продаж, млн. копий', fontsize=12)\n",
    "\n",
    "ps3_pivot.plot(kind = 'scatter',\n",
    "              x = 'user_score',\n",
    "              y = 'total_sales',\n",
    "              style = 'o-',\n",
    "              alpha=0.4,\n",
    "              figsize=(10,7),\n",
    "              s=50,\n",
    "              grid = True)\n",
    "\n",
    "plt.title('Отзывы пользователей игр на PS3', fontsize=16)\n",
    "plt.xlabel('Отзывы пользователей', fontsize=12)\n",
    "plt.ylabel('Объем продаж, млн. копий', fontsize=12)\n",
    "plt.show()\n",
    "\n",
    "matrix = np.triu(ps3_pivot.corr())\n",
    "sns.heatmap(ps3_pivot.corr(), annot=True, mask=matrix, vmin=-1, vmax=1, center= 0, cmap= 'coolwarm', linewidths=3)\n",
    "plt.title('Матрица корреляции продаж игр на PS3', fontsize=16)\n",
    "plt.show()"
   ]
  },
  {
   "cell_type": "markdown",
   "metadata": {},
   "source": [
    "Существует определенная кореляция между отзывами критиков и пользователей с обьемами продаж. Корреляция между отзывами критиков с продажами более высокая (0,47 к 0,20), те пользователи больше обращают внимание на отзывы критиков при выборе игры, чем на отзывы других пользователей. Соответственно компании следует обратить внимание на работу с критиками для повышения продаж."
   ]
  },
  {
   "cell_type": "markdown",
   "metadata": {},
   "source": [
    "Сравним эти данные с продажами игр на других платформах."
   ]
  },
  {
   "cell_type": "code",
   "execution_count": 189,
   "metadata": {},
   "outputs": [],
   "source": [
    "# Выделим данные только по платформам X360 и Wii:\n",
    "x360 = data_filt.query('platform == \"X360\"')\n",
    "x360_corr = x360.pivot_table(index = ['critic_score','user_score'], values = 'total_sales', aggfunc = 'sum'\n",
    "                              ).reset_index()\n",
    "\n",
    "wii = data_filt.query('platform == \"Wii\"')\n",
    "wii_corr = wii.pivot_table(index = ['critic_score','user_score'], values = 'total_sales', aggfunc = 'sum'\n",
    "                            ).reset_index()"
   ]
  },
  {
   "cell_type": "code",
   "execution_count": 190,
   "metadata": {
    "scrolled": false
   },
   "outputs": [
    {
     "data": {
      "text/plain": [
       "Text(0.5, 1, 'Матрица корреляции продаж игр на X360')"
      ]
     },
     "execution_count": 190,
     "metadata": {},
     "output_type": "execute_result"
    },
    {
     "data": {
      "image/png": "[encoded data removed]",
      "text/plain": [
       "<Figure size 432x288 with 2 Axes>"
      ]
     },
     "metadata": {
      "needs_background": "light"
     },
     "output_type": "display_data"
    }
   ],
   "source": [
    "matrix = np.triu(x360_corr.corr())\n",
    "sns.heatmap(x360_corr.corr(), annot=True, mask=matrix, vmin=-1, vmax=1, center= 0, cmap= 'coolwarm', linewidths=3)\n",
    "plt.title('Матрица корреляции продаж игр на X360', fontsize=16)"
   ]
  },
  {
   "cell_type": "code",
   "execution_count": 191,
   "metadata": {},
   "outputs": [
    {
     "data": {
      "text/plain": [
       "Text(0.5, 1, 'Матрица корреляции продаж игр на Wii')"
      ]
     },
     "execution_count": 191,
     "metadata": {},
     "output_type": "execute_result"
    },
    {
     "data": {
      "image/png": "[encoded data removed]",
      "text/plain": [
       "<Figure size 432x288 with 2 Axes>"
      ]
     },
     "metadata": {
      "needs_background": "light"
     },
     "output_type": "display_data"
    }
   ],
   "source": [
    "matrix = np.triu(wii_corr.corr())\n",
    "sns.heatmap(wii_corr.corr(), annot=True, mask=matrix, vmin=-1, vmax=1, center= 0, cmap= 'coolwarm', linewidths=3)\n",
    "plt.title('Матрица корреляции продаж игр на Wii', fontsize=16)"
   ]
  },
  {
   "cell_type": "markdown",
   "metadata": {},
   "source": [
    "На X360 схожая ситуация, тк возможно игры одни и те же. Wii платформа для другой аудитории, корреляция низкая, возможно пользователи Wii не обращают внимание на отзывы других игроков при выборе игры."
   ]
  },
  {
   "cell_type": "markdown",
   "metadata": {},
   "source": [
    "Посмотрим в заключение на общее распределение игр по жанрам."
   ]
  },
  {
   "cell_type": "code",
   "execution_count": 192,
   "metadata": {
    "scrolled": false
   },
   "outputs": [
    {
     "data": {
      "text/html": [
       "<div>\n",
       "<style scoped>\n",
       "    .dataframe tbody tr th:only-of-type {\n",
       "        vertical-align: middle;\n",
       "    }\n",
       "\n",
       "    .dataframe tbody tr th {\n",
       "        vertical-align: top;\n",
       "    }\n",
       "\n",
       "    .dataframe thead th {\n",
       "        text-align: right;\n",
       "    }\n",
       "</style>\n",
       "<table border=\"1\" class=\"dataframe\">\n",
       "  <thead>\n",
       "    <tr style=\"text-align: right;\">\n",
       "      <th></th>\n",
       "      <th>genre</th>\n",
       "      <th>total_sales</th>\n",
       "    </tr>\n",
       "  </thead>\n",
       "  <tbody>\n",
       "    <tr>\n",
       "      <th>0</th>\n",
       "      <td>Action</td>\n",
       "      <td>1,631.43</td>\n",
       "    </tr>\n",
       "    <tr>\n",
       "      <th>1</th>\n",
       "      <td>Sports</td>\n",
       "      <td>1,259.09</td>\n",
       "    </tr>\n",
       "    <tr>\n",
       "      <th>2</th>\n",
       "      <td>Shooter</td>\n",
       "      <td>961.60</td>\n",
       "    </tr>\n",
       "    <tr>\n",
       "      <th>3</th>\n",
       "      <td>Role-Playing</td>\n",
       "      <td>855.58</td>\n",
       "    </tr>\n",
       "    <tr>\n",
       "      <th>4</th>\n",
       "      <td>Misc</td>\n",
       "      <td>766.25</td>\n",
       "    </tr>\n",
       "    <tr>\n",
       "      <th>5</th>\n",
       "      <td>Racing</td>\n",
       "      <td>681.33</td>\n",
       "    </tr>\n",
       "    <tr>\n",
       "      <th>6</th>\n",
       "      <td>Platform</td>\n",
       "      <td>571.28</td>\n",
       "    </tr>\n",
       "    <tr>\n",
       "      <th>7</th>\n",
       "      <td>Fighting</td>\n",
       "      <td>384.86</td>\n",
       "    </tr>\n",
       "    <tr>\n",
       "      <th>8</th>\n",
       "      <td>Simulation</td>\n",
       "      <td>378.99</td>\n",
       "    </tr>\n",
       "    <tr>\n",
       "      <th>9</th>\n",
       "      <td>Adventure</td>\n",
       "      <td>202.35</td>\n",
       "    </tr>\n",
       "    <tr>\n",
       "      <th>10</th>\n",
       "      <td>Strategy</td>\n",
       "      <td>161.29</td>\n",
       "    </tr>\n",
       "    <tr>\n",
       "      <th>11</th>\n",
       "      <td>Puzzle</td>\n",
       "      <td>155.42</td>\n",
       "    </tr>\n",
       "  </tbody>\n",
       "</table>\n",
       "</div>"
      ],
      "text/plain": [
       "           genre  total_sales\n",
       "0         Action     1,631.43\n",
       "1         Sports     1,259.09\n",
       "2        Shooter       961.60\n",
       "3   Role-Playing       855.58\n",
       "4           Misc       766.25\n",
       "5         Racing       681.33\n",
       "6       Platform       571.28\n",
       "7       Fighting       384.86\n",
       "8     Simulation       378.99\n",
       "9      Adventure       202.35\n",
       "10      Strategy       161.29\n",
       "11        Puzzle       155.42"
      ]
     },
     "metadata": {},
     "output_type": "display_data"
    },
    {
     "data": {
      "text/html": [
       "<div>\n",
       "<style scoped>\n",
       "    .dataframe tbody tr th:only-of-type {\n",
       "        vertical-align: middle;\n",
       "    }\n",
       "\n",
       "    .dataframe tbody tr th {\n",
       "        vertical-align: top;\n",
       "    }\n",
       "\n",
       "    .dataframe thead th {\n",
       "        text-align: right;\n",
       "    }\n",
       "</style>\n",
       "<table border=\"1\" class=\"dataframe\">\n",
       "  <thead>\n",
       "    <tr style=\"text-align: right;\">\n",
       "      <th></th>\n",
       "      <th>total_sales</th>\n",
       "    </tr>\n",
       "  </thead>\n",
       "  <tbody>\n",
       "    <tr>\n",
       "      <th>count</th>\n",
       "      <td>12.00</td>\n",
       "    </tr>\n",
       "    <tr>\n",
       "      <th>mean</th>\n",
       "      <td>667.46</td>\n",
       "    </tr>\n",
       "    <tr>\n",
       "      <th>std</th>\n",
       "      <td>459.07</td>\n",
       "    </tr>\n",
       "    <tr>\n",
       "      <th>min</th>\n",
       "      <td>155.42</td>\n",
       "    </tr>\n",
       "    <tr>\n",
       "      <th>25%</th>\n",
       "      <td>334.83</td>\n",
       "    </tr>\n",
       "    <tr>\n",
       "      <th>50%</th>\n",
       "      <td>626.31</td>\n",
       "    </tr>\n",
       "    <tr>\n",
       "      <th>75%</th>\n",
       "      <td>882.09</td>\n",
       "    </tr>\n",
       "    <tr>\n",
       "      <th>max</th>\n",
       "      <td>1,631.43</td>\n",
       "    </tr>\n",
       "  </tbody>\n",
       "</table>\n",
       "</div>"
      ],
      "text/plain": [
       "       total_sales\n",
       "count        12.00\n",
       "mean        667.46\n",
       "std         459.07\n",
       "min         155.42\n",
       "25%         334.83\n",
       "50%         626.31\n",
       "75%         882.09\n",
       "max       1,631.43"
      ]
     },
     "metadata": {},
     "output_type": "display_data"
    },
    {
     "data": {
      "image/png": "[encoded data removed]",
      "text/plain": [
       "<Figure size 864x504 with 1 Axes>"
      ]
     },
     "metadata": {
      "needs_background": "light"
     },
     "output_type": "display_data"
    }
   ],
   "source": [
    "# Построим распределение игр по жанрам:\n",
    "sales_genre = data_filt.pivot_table(index = 'genre', values = 'total_sales', aggfunc = 'sum').sort_values(\n",
    "                                    by = 'total_sales', ascending = False).reset_index()\n",
    "\n",
    "display(sales_genre)\n",
    "display(sales_genre.describe())\n",
    "\n",
    "# Построим график продаж по жанрам и топ-5:\n",
    "sales_genre.plot(y = 'total_sales',\n",
    "                 figsize = (12,7),\n",
    "                 grid = True)\n",
    "\n",
    "plt.xticks(np.arange(len(sales_genre)), sales_genre['genre'])\n",
    "plt.title('Продажи по жанрам', fontsize=16)\n",
    "plt.xlabel('Жанры', fontsize=12)\n",
    "plt.ylabel('Объем продаж, млн. копий', fontsize=12)\n",
    "plt.show()"
   ]
  },
  {
   "cell_type": "code",
   "execution_count": 193,
   "metadata": {},
   "outputs": [
    {
     "data": {
      "image/png": "[encoded data removed]",
      "text/plain": [
       "<Figure size 432x288 with 1 Axes>"
      ]
     },
     "metadata": {
      "needs_background": "light"
     },
     "output_type": "display_data"
    },
    {
     "data": {
      "text/plain": [
       "Text(0, 0.5, 'Объем продаж, млн. копий')"
      ]
     },
     "execution_count": 193,
     "metadata": {},
     "output_type": "execute_result"
    },
    {
     "data": {
      "image/png": "[encoded data removed]",
      "text/plain": [
       "<Figure size 432x288 with 1 Axes>"
      ]
     },
     "metadata": {
      "needs_background": "light"
     },
     "output_type": "display_data"
    }
   ],
   "source": [
    "# Построим графики с лучшими и худшими 5-ю продажами по жанрам:\n",
    "sns.barplot(data=sales_genre.head(), x=\"genre\", y=\"total_sales\")\n",
    "plt.title('Топ 5 продаж по жанрам', fontsize=16)\n",
    "plt.xlabel('Жанры', fontsize=12)\n",
    "plt.ylabel('Объем продаж, млн. копий', fontsize=12)\n",
    "plt.show()\n",
    "\n",
    "sns.barplot(data=sales_genre.tail(), x=\"genre\", y=\"total_sales\")\n",
    "plt.title('Худшие 5 продаж по жанрам', fontsize=16)\n",
    "plt.xlabel('Жанры', fontsize=12)\n",
    "plt.ylabel('Объем продаж, млн. копий', fontsize=12)"
   ]
  },
  {
   "cell_type": "markdown",
   "metadata": {},
   "source": [
    "Самые прибыльные жанры - это экшен, спорт и шутеры, самые не прибыльные - приключения, стратегии и пазлы. \n",
    "Налицо явная кореляция, что больше всего приносят прибыль игры с экшеном. Сложные вроде стратегий и приключений игры не приносят большого дохода.\n",
    "\n",
    "Среднее значение продаж составляет 667 млн. копий. Получается экшен и спорт перетягивают на себя большую часть продаж."
   ]
  },
  {
   "cell_type": "markdown",
   "metadata": {},
   "source": [
    "### Выводы"
   ]
  },
  {
   "cell_type": "markdown",
   "metadata": {},
   "source": [
    "* Самые прибыльные платформы - с выручкой свыше 100 млн, остальные убыточные. Топ 5 - PS2, X360, PS3, Wii, DS.\n",
    "* В среднем платформа существует 10-11 лет. Новые платформы появляются в начале и середине десятилетий.\n",
    "* За последнее время в продажах лидирует PS4, XOne и 3DS.\n",
    "* Продажи игр на ПК росли до 2011 года, потом постепенно снизились до 5 млн. в 2016 г.\n",
    "* Продажи упали также следующих платформ - PS3, 3DS, PSP, Wii, X360.\n",
    "* В последнее десятилетие в топах продаж были PS3, X360, PS4, XOne, Wii, PSP, DS, PC, PS2, 3DS.\n",
    "* Из актуальных можно выделить XOne, X360, Wii, PS4, PS3, PC, 3DS.\n",
    "* Из выборки актуальных платформ дольше всего продавалась платформа Wii, самые прибыльные PS3 и X360.\n",
    "* Существует определенная кореляция между отзывами критиков и пользователей с обьемами продаж. Корреляция между отзывами критиков с продажами более высокая (0,47 к 0,20), те пользователи больше обращают внимание на отзывы критиков при выборе игры, чем на отзывы других пользователей. Соответственно компании следует обратить внимание на работу с критиками для повышения продаж. На X360 схожая ситуация, тк возможно игры одни и те же. Wii платформа для другой аудитории, корреляция низкая, возможно пользователи Wii не обращают внимание на отзывы других игроков при выборе игры.\n",
    "* Самые прибыльные жанры - это экшен, спорт и шутеры, самые не прибыльные - приключения, стратегии и пазлы. Налицо явная кореляция, что больше всего приносят прибыль игры с экшеном. Сложные вроде стратегий и приключений игры не приносят большого дохода."
   ]
  },
  {
   "cell_type": "markdown",
   "metadata": {},
   "source": [
    "## Составление портрета пользователей"
   ]
  },
  {
   "cell_type": "markdown",
   "metadata": {},
   "source": [
    "Определим для пользователя каждого региона (NA, EU, JP):\n",
    "* Самые популярные платформы (топ-5). Опишите различия в долях продаж.\n",
    "* Самые популярные жанры (топ-5). Поясните разницу.\n",
    "* Влияет ли рейтинг ESRB на продажи в отдельном регионе?"
   ]
  },
  {
   "cell_type": "code",
   "execution_count": 194,
   "metadata": {},
   "outputs": [
    {
     "data": {
      "text/html": [
       "<div>\n",
       "<style scoped>\n",
       "    .dataframe tbody tr th:only-of-type {\n",
       "        vertical-align: middle;\n",
       "    }\n",
       "\n",
       "    .dataframe tbody tr th {\n",
       "        vertical-align: top;\n",
       "    }\n",
       "\n",
       "    .dataframe thead th {\n",
       "        text-align: right;\n",
       "    }\n",
       "</style>\n",
       "<table border=\"1\" class=\"dataframe\">\n",
       "  <thead>\n",
       "    <tr style=\"text-align: right;\">\n",
       "      <th></th>\n",
       "      <th>platform</th>\n",
       "      <th>na_sales</th>\n",
       "      <th>platform</th>\n",
       "      <th>eu_sales</th>\n",
       "      <th>platform</th>\n",
       "      <th>jp_sales</th>\n",
       "    </tr>\n",
       "  </thead>\n",
       "  <tbody>\n",
       "    <tr>\n",
       "      <th>0</th>\n",
       "      <td>X360</td>\n",
       "      <td>602.47</td>\n",
       "      <td>PS2</td>\n",
       "      <td>339.29</td>\n",
       "      <td>DS</td>\n",
       "      <td>175.55</td>\n",
       "    </tr>\n",
       "    <tr>\n",
       "      <th>1</th>\n",
       "      <td>PS2</td>\n",
       "      <td>583.84</td>\n",
       "      <td>PS3</td>\n",
       "      <td>330.29</td>\n",
       "      <td>PS2</td>\n",
       "      <td>139.20</td>\n",
       "    </tr>\n",
       "    <tr>\n",
       "      <th>2</th>\n",
       "      <td>Wii</td>\n",
       "      <td>496.90</td>\n",
       "      <td>X360</td>\n",
       "      <td>270.76</td>\n",
       "      <td>PS</td>\n",
       "      <td>137.15</td>\n",
       "    </tr>\n",
       "    <tr>\n",
       "      <th>3</th>\n",
       "      <td>PS3</td>\n",
       "      <td>393.49</td>\n",
       "      <td>Wii</td>\n",
       "      <td>262.21</td>\n",
       "      <td>3DS</td>\n",
       "      <td>100.67</td>\n",
       "    </tr>\n",
       "    <tr>\n",
       "      <th>4</th>\n",
       "      <td>DS</td>\n",
       "      <td>382.40</td>\n",
       "      <td>PS</td>\n",
       "      <td>212.41</td>\n",
       "      <td>PS3</td>\n",
       "      <td>80.19</td>\n",
       "    </tr>\n",
       "  </tbody>\n",
       "</table>\n",
       "</div>"
      ],
      "text/plain": [
       "  platform  na_sales platform  eu_sales platform  jp_sales\n",
       "0     X360    602.47      PS2    339.29       DS    175.55\n",
       "1      PS2    583.84      PS3    330.29      PS2    139.20\n",
       "2      Wii    496.90     X360    270.76       PS    137.15\n",
       "3      PS3    393.49      Wii    262.21      3DS    100.67\n",
       "4       DS    382.40       PS    212.41      PS3     80.19"
      ]
     },
     "execution_count": 194,
     "metadata": {},
     "output_type": "execute_result"
    }
   ],
   "source": [
    "# Создадим распределение топ-5 продаж платформ по регионам:\n",
    "na_sales = data_filt.pivot_table(index = 'platform',  \n",
    "                                 values = 'na_sales', aggfunc = 'sum').sort_values(\n",
    "                                 by = 'na_sales', ascending = False).head().reset_index()\n",
    "\n",
    "eu_sales = data_filt.pivot_table(index = 'platform',  \n",
    "                                 values = 'eu_sales', aggfunc = 'sum').sort_values(\n",
    "                                 by = 'eu_sales', ascending = False).head().reset_index()\n",
    "\n",
    "jp_sales = data_filt.pivot_table(index = 'platform',  \n",
    "                                 values = 'jp_sales', aggfunc = 'sum').sort_values(\n",
    "                                 by = 'jp_sales', ascending = False).head().reset_index()\n",
    "\n",
    "pd.concat([na_sales, eu_sales, jp_sales], axis=1)"
   ]
  },
  {
   "cell_type": "code",
   "execution_count": 195,
   "metadata": {
    "scrolled": false
   },
   "outputs": [
    {
     "data": {
      "image/png": "[encoded data removed]",
      "text/plain": [
       "<Figure size 432x288 with 1 Axes>"
      ]
     },
     "metadata": {
      "needs_background": "light"
     },
     "output_type": "display_data"
    },
    {
     "data": {
      "image/png": "[encoded data removed]",
      "text/plain": [
       "<Figure size 432x288 with 1 Axes>"
      ]
     },
     "metadata": {
      "needs_background": "light"
     },
     "output_type": "display_data"
    },
    {
     "data": {
      "image/png": "[encoded data removed]",
      "text/plain": [
       "<Figure size 432x288 with 1 Axes>"
      ]
     },
     "metadata": {
      "needs_background": "light"
     },
     "output_type": "display_data"
    }
   ],
   "source": [
    "tables = [na_sales, eu_sales, jp_sales]\n",
    "\n",
    "for i in tables:\n",
    "    i = i.set_index('platform')\n",
    "    i.plot.bar(rot=0)\n",
    "    plt.xlabel('Платформы', fontsize=12)\n",
    "    plt.ylabel('Объем продаж, млн. копий', fontsize=12)"
   ]
  },
  {
   "cell_type": "markdown",
   "metadata": {},
   "source": [
    "В топах продаж есть определенная закономерность, которая зависит от региона:\n",
    "* в США всегда популярна больше американская консоль Xbox,\n",
    "* в Европе исторически популярна Playstation,\n",
    "* в Японии всегда популярны консоли Nintendo и Sony."
   ]
  },
  {
   "cell_type": "code",
   "execution_count": 196,
   "metadata": {},
   "outputs": [
    {
     "data": {
      "text/html": [
       "<div>\n",
       "<style scoped>\n",
       "    .dataframe tbody tr th:only-of-type {\n",
       "        vertical-align: middle;\n",
       "    }\n",
       "\n",
       "    .dataframe tbody tr th {\n",
       "        vertical-align: top;\n",
       "    }\n",
       "\n",
       "    .dataframe thead th {\n",
       "        text-align: right;\n",
       "    }\n",
       "</style>\n",
       "<table border=\"1\" class=\"dataframe\">\n",
       "  <thead>\n",
       "    <tr style=\"text-align: right;\">\n",
       "      <th></th>\n",
       "      <th>genre</th>\n",
       "      <th>na_sales</th>\n",
       "      <th>genre</th>\n",
       "      <th>eu_sales</th>\n",
       "      <th>genre</th>\n",
       "      <th>jp_sales</th>\n",
       "    </tr>\n",
       "  </thead>\n",
       "  <tbody>\n",
       "    <tr>\n",
       "      <th>0</th>\n",
       "      <td>Action</td>\n",
       "      <td>813.32</td>\n",
       "      <td>Action</td>\n",
       "      <td>499.98</td>\n",
       "      <td>Role-Playing</td>\n",
       "      <td>288.37</td>\n",
       "    </tr>\n",
       "    <tr>\n",
       "      <th>1</th>\n",
       "      <td>Sports</td>\n",
       "      <td>662.02</td>\n",
       "      <td>Sports</td>\n",
       "      <td>370.20</td>\n",
       "      <td>Action</td>\n",
       "      <td>138.28</td>\n",
       "    </tr>\n",
       "    <tr>\n",
       "      <th>2</th>\n",
       "      <td>Shooter</td>\n",
       "      <td>527.91</td>\n",
       "      <td>Shooter</td>\n",
       "      <td>307.61</td>\n",
       "      <td>Sports</td>\n",
       "      <td>93.83</td>\n",
       "    </tr>\n",
       "    <tr>\n",
       "      <th>3</th>\n",
       "      <td>Misc</td>\n",
       "      <td>393.95</td>\n",
       "      <td>Racing</td>\n",
       "      <td>228.00</td>\n",
       "      <td>Misc</td>\n",
       "      <td>93.09</td>\n",
       "    </tr>\n",
       "    <tr>\n",
       "      <th>4</th>\n",
       "      <td>Racing</td>\n",
       "      <td>339.19</td>\n",
       "      <td>Misc</td>\n",
       "      <td>206.36</td>\n",
       "      <td>Platform</td>\n",
       "      <td>64.19</td>\n",
       "    </tr>\n",
       "  </tbody>\n",
       "</table>\n",
       "</div>"
      ],
      "text/plain": [
       "     genre  na_sales    genre  eu_sales         genre  jp_sales\n",
       "0   Action    813.32   Action    499.98  Role-Playing    288.37\n",
       "1   Sports    662.02   Sports    370.20        Action    138.28\n",
       "2  Shooter    527.91  Shooter    307.61        Sports     93.83\n",
       "3     Misc    393.95   Racing    228.00          Misc     93.09\n",
       "4   Racing    339.19     Misc    206.36      Platform     64.19"
      ]
     },
     "execution_count": 196,
     "metadata": {},
     "output_type": "execute_result"
    }
   ],
   "source": [
    "# Создадим распределение топ-5 жанров по регионам:\n",
    "na_sales = data_filt.pivot_table(index = 'genre',  \n",
    "                                 values = 'na_sales', aggfunc = 'sum').sort_values(\n",
    "                                 by = 'na_sales', ascending = False).head().reset_index()\n",
    "\n",
    "eu_sales = data_filt.pivot_table(index = 'genre',  \n",
    "                                 values = 'eu_sales', aggfunc = 'sum').sort_values(\n",
    "                                 by = 'eu_sales', ascending = False).head().reset_index()\n",
    "\n",
    "jp_sales = data_filt.pivot_table(index = 'genre',  \n",
    "                                 values = 'jp_sales', aggfunc = 'sum').sort_values(\n",
    "                                 by = 'jp_sales', ascending = False).head().reset_index()\n",
    "\n",
    "pd.concat([na_sales, eu_sales, jp_sales], axis=1)"
   ]
  },
  {
   "cell_type": "code",
   "execution_count": 197,
   "metadata": {},
   "outputs": [
    {
     "data": {
      "image/png": "[encoded data removed]",
      "text/plain": [
       "<Figure size 432x288 with 1 Axes>"
      ]
     },
     "metadata": {
      "needs_background": "light"
     },
     "output_type": "display_data"
    },
    {
     "data": {
      "image/png": "[encoded data removed]",
      "text/plain": [
       "<Figure size 432x288 with 1 Axes>"
      ]
     },
     "metadata": {
      "needs_background": "light"
     },
     "output_type": "display_data"
    },
    {
     "data": {
      "image/png": "[encoded data removed]",
      "text/plain": [
       "<Figure size 432x288 with 1 Axes>"
      ]
     },
     "metadata": {
      "needs_background": "light"
     },
     "output_type": "display_data"
    }
   ],
   "source": [
    "tables = [na_sales, eu_sales, jp_sales]\n",
    "\n",
    "for i in tables:\n",
    "    i = i.set_index('genre')\n",
    "    i.plot.bar(rot=0)\n",
    "    plt.xlabel('Платформы', fontsize=12)\n",
    "    plt.ylabel('Объем продаж, млн. копий', fontsize=12)"
   ]
  },
  {
   "cell_type": "markdown",
   "metadata": {},
   "source": [
    "Экшен практически везде на первом месте, следом идут спортивные игры и шутеры. Единственное отличие из трендов - в Японии на первом месте RPG за счет национальной особенности - там любят японские RPG."
   ]
  },
  {
   "cell_type": "code",
   "execution_count": 198,
   "metadata": {},
   "outputs": [
    {
     "data": {
      "text/html": [
       "<div>\n",
       "<style scoped>\n",
       "    .dataframe tbody tr th:only-of-type {\n",
       "        vertical-align: middle;\n",
       "    }\n",
       "\n",
       "    .dataframe tbody tr th {\n",
       "        vertical-align: top;\n",
       "    }\n",
       "\n",
       "    .dataframe thead th {\n",
       "        text-align: right;\n",
       "    }\n",
       "</style>\n",
       "<table border=\"1\" class=\"dataframe\">\n",
       "  <thead>\n",
       "    <tr style=\"text-align: right;\">\n",
       "      <th></th>\n",
       "      <th>rating</th>\n",
       "      <th>na_sales</th>\n",
       "      <th>rating</th>\n",
       "      <th>eu_sales</th>\n",
       "      <th>rating</th>\n",
       "      <th>jp_sales</th>\n",
       "    </tr>\n",
       "  </thead>\n",
       "  <tbody>\n",
       "    <tr>\n",
       "      <th>0</th>\n",
       "      <td>E</td>\n",
       "      <td>1,274.65</td>\n",
       "      <td>E</td>\n",
       "      <td>697.42</td>\n",
       "      <td>E</td>\n",
       "      <td>190.78</td>\n",
       "    </tr>\n",
       "    <tr>\n",
       "      <th>1</th>\n",
       "      <td>T</td>\n",
       "      <td>753.13</td>\n",
       "      <td>M</td>\n",
       "      <td>479.83</td>\n",
       "      <td>T</td>\n",
       "      <td>141.93</td>\n",
       "    </tr>\n",
       "    <tr>\n",
       "      <th>2</th>\n",
       "      <td>M</td>\n",
       "      <td>742.70</td>\n",
       "      <td>T</td>\n",
       "      <td>421.51</td>\n",
       "      <td>M</td>\n",
       "      <td>61.95</td>\n",
       "    </tr>\n",
       "    <tr>\n",
       "      <th>3</th>\n",
       "      <td>E10+</td>\n",
       "      <td>340.14</td>\n",
       "      <td>E10+</td>\n",
       "      <td>178.12</td>\n",
       "      <td>E10+</td>\n",
       "      <td>37.11</td>\n",
       "    </tr>\n",
       "    <tr>\n",
       "      <th>4</th>\n",
       "      <td>K-A</td>\n",
       "      <td>2.56</td>\n",
       "      <td>AO</td>\n",
       "      <td>0.61</td>\n",
       "      <td>K-A</td>\n",
       "      <td>1.46</td>\n",
       "    </tr>\n",
       "  </tbody>\n",
       "</table>\n",
       "</div>"
      ],
      "text/plain": [
       "  rating  na_sales rating  eu_sales rating  jp_sales\n",
       "0      E  1,274.65      E    697.42      E    190.78\n",
       "1      T    753.13      M    479.83      T    141.93\n",
       "2      M    742.70      T    421.51      M     61.95\n",
       "3   E10+    340.14   E10+    178.12   E10+     37.11\n",
       "4    K-A      2.56     AO      0.61    K-A      1.46"
      ]
     },
     "execution_count": 198,
     "metadata": {},
     "output_type": "execute_result"
    }
   ],
   "source": [
    "# Создадим распределение топ-5 продаж по рейтингу по регионам:\n",
    "na_sales = data_filt.pivot_table(index = 'rating',  \n",
    "                                 values = 'na_sales', aggfunc = 'sum').sort_values(\n",
    "                                 by = 'na_sales', ascending = False).head().reset_index()\n",
    "\n",
    "eu_sales = data_filt.pivot_table(index = 'rating',  \n",
    "                                 values = 'eu_sales', aggfunc = 'sum').sort_values(\n",
    "                                 by = 'eu_sales', ascending = False).head().reset_index()\n",
    "\n",
    "jp_sales = data_filt.pivot_table(index = 'rating',  \n",
    "                                 values = 'jp_sales', aggfunc = 'sum').sort_values(\n",
    "                                 by = 'jp_sales', ascending = False).head().reset_index()\n",
    "\n",
    "pd.concat([na_sales, eu_sales, jp_sales], axis=1)"
   ]
  },
  {
   "cell_type": "code",
   "execution_count": 199,
   "metadata": {},
   "outputs": [
    {
     "data": {
      "image/png": "[encoded data removed]",
      "text/plain": [
       "<Figure size 432x288 with 1 Axes>"
      ]
     },
     "metadata": {
      "needs_background": "light"
     },
     "output_type": "display_data"
    },
    {
     "data": {
      "image/png": "[encoded data removed]",
      "text/plain": [
       "<Figure size 432x288 with 1 Axes>"
      ]
     },
     "metadata": {
      "needs_background": "light"
     },
     "output_type": "display_data"
    },
    {
     "data": {
      "image/png": "[encoded data removed]",
      "text/plain": [
       "<Figure size 432x288 with 1 Axes>"
      ]
     },
     "metadata": {
      "needs_background": "light"
     },
     "output_type": "display_data"
    }
   ],
   "source": [
    "tables = [na_sales, eu_sales, jp_sales]\n",
    "\n",
    "for i in tables:\n",
    "    i = i.set_index('rating')\n",
    "    i.plot.bar(rot=0)\n",
    "    plt.xlabel('Платформы', fontsize=12)\n",
    "    plt.ylabel('Объем продаж, млн. копий', fontsize=12)"
   ]
  },
  {
   "cell_type": "markdown",
   "metadata": {},
   "source": [
    "Разницы между регионами нет. В топах рейтинги E (для всех возрастов), T (13+), M (17+)."
   ]
  },
  {
   "cell_type": "markdown",
   "metadata": {},
   "source": [
    "### Выводы"
   ]
  },
  {
   "cell_type": "markdown",
   "metadata": {},
   "source": [
    "* Топ 5 по платформам: в топах продаж есть определенная закономерность, которая зависит от региона:\n",
    "    * в США всегда популярна больше американская консоль Xbox,\n",
    "    * в Европе исторически популярна Playstation,\n",
    "    * в Японии всегда популярны консоли Nintendo и Sony.\n",
    "* Топ 5 по жанрам: экшен практически везде на первом месте, следом идут спортивные игры и шутеры. Единственное отличие из трендов - в Японии на первом месте RPG за счет национальной особенности - там любят японские RPG.\n",
    "* Топ 5 по рейтингу ESRB: разницы между регионами нет. В топах рейтинги E (для всех возрастов), T (13+), M (17+)."
   ]
  },
  {
   "cell_type": "markdown",
   "metadata": {},
   "source": [
    "## Проверка гипотез"
   ]
  },
  {
   "cell_type": "markdown",
   "metadata": {},
   "source": [
    "Проверим следующие гипотезы:\n",
    "\n",
    "1. Средние пользовательские рейтинги платформ Xbox One и PC одинаковые.\n",
    "2. Средние пользовательские рейтинги жанров Action и Sports разные."
   ]
  },
  {
   "cell_type": "code",
   "execution_count": 200,
   "metadata": {},
   "outputs": [],
   "source": [
    "# Выделим данные по Xbox One и PC и удалим пропуски:\n",
    "xone = data_filt.query('platform == \"XOne\"')\n",
    "pc = data_filt.query('platform == \"PC\"')\n",
    "xone_stat = xone['user_score'].dropna()\n",
    "pc_stat = pc['user_score'].dropna()\n",
    "\n",
    "# Выделим данные по Action и Sports и удалим пропуски:\n",
    "action = data_filt.query('genre == \"Action\"')\n",
    "sports = data_filt.query('genre == \"Sports\"')\n",
    "action_stat = action['user_score'].dropna()\n",
    "sports_stat = sports['user_score'].dropna()"
   ]
  },
  {
   "cell_type": "code",
   "execution_count": 201,
   "metadata": {},
   "outputs": [
    {
     "data": {
      "text/plain": [
       "Text(0, 0.5, 'Количество')"
      ]
     },
     "execution_count": 201,
     "metadata": {},
     "output_type": "execute_result"
    },
    {
     "data": {
      "image/png": "[encoded data removed]",
      "text/plain": [
       "<Figure size 432x288 with 1 Axes>"
      ]
     },
     "metadata": {
      "needs_background": "light"
     },
     "output_type": "display_data"
    }
   ],
   "source": [
    "# Проверим дисперсии выборок, чтобы корректно определить атрибут equal_val в Т–тесте:\n",
    "sns.histplot(data=xone_stat, element=\"poly\")\n",
    "sns.histplot(data=pc_stat, element=\"poly\")\n",
    "plt.title('Дисперсия выборок данных по платформам Xbox One и PC', fontsize=14)\n",
    "plt.xlabel('Рейтинг пользователей', fontsize=12)\n",
    "plt.ylabel('Количество', fontsize=12)"
   ]
  },
  {
   "cell_type": "markdown",
   "metadata": {},
   "source": [
    "Дисперсии выборок отличаются."
   ]
  },
  {
   "cell_type": "code",
   "execution_count": 202,
   "metadata": {},
   "outputs": [
    {
     "data": {
      "text/plain": [
       "Text(0, 0.5, 'Количество')"
      ]
     },
     "execution_count": 202,
     "metadata": {},
     "output_type": "execute_result"
    },
    {
     "data": {
      "image/png": "[encoded data removed]",
      "text/plain": [
       "<Figure size 432x288 with 1 Axes>"
      ]
     },
     "metadata": {
      "needs_background": "light"
     },
     "output_type": "display_data"
    }
   ],
   "source": [
    "sns.histplot(data=action_stat, element=\"poly\")\n",
    "sns.histplot(data=sports_stat, element=\"poly\")\n",
    "plt.title('Дисперсия выборок данных по жанрам Action и Sports', fontsize=14)\n",
    "plt.xlabel('Рейтинг пользователей', fontsize=12)\n",
    "plt.ylabel('Количество', fontsize=12)"
   ]
  },
  {
   "cell_type": "markdown",
   "metadata": {},
   "source": [
    "Дисперсии выборок практически одинаковы."
   ]
  },
  {
   "cell_type": "code",
   "execution_count": 207,
   "metadata": {},
   "outputs": [
    {
     "name": "stdout",
     "output_type": "stream",
     "text": [
      "Гипотеза: Средние пользовательские рейтинги платформ Xbox One и PC отличаются\n",
      "p-значение:  3.7683151429117218e-06\n",
      "Отвергаем нулевую гипотезу\n"
     ]
    },
    {
     "data": {
      "text/plain": [
       "None"
      ]
     },
     "metadata": {},
     "output_type": "display_data"
    },
    {
     "name": "stdout",
     "output_type": "stream",
     "text": [
      "Гипотеза: Средние пользовательские рейтинги жанров Action и Sports разные.\n",
      "p-значение:  0.16654937226729746\n",
      "Не получилось отвергнуть нулевую гипотезу\n"
     ]
    },
    {
     "data": {
      "text/plain": [
       "None"
      ]
     },
     "metadata": {},
     "output_type": "display_data"
    }
   ],
   "source": [
    "# Проверим утверждения: \n",
    "# Нулевая гипотеза: средние рейтинги равны.\n",
    "# Альтернативная гипотеза: они отличаются.\n",
    "\n",
    "# Создадим фукнцию:\n",
    "def hypotize(stat1, stat2, equal):\n",
    "    alpha = .05 # Установим стандартное значение критического уровня статистической значимости\n",
    "\n",
    "    results1 = st.ttest_ind(stat1, stat2, equal_var = equal) #дисперсии рейтнга по платформам отличаются.\n",
    "\n",
    "    print('p-значение: ', results1.pvalue)\n",
    "\n",
    "    if results1.pvalue < alpha:\n",
    "        print(\"Отвергаем нулевую гипотезу\")\n",
    "    else:\n",
    "        print(\"Не получилось отвергнуть нулевую гипотезу\")\n",
    "        \n",
    "print(\"Гипотеза: Средние пользовательские рейтинги платформ Xbox One и PC отличаются\")\n",
    "display(hypotize(xone_stat, pc_stat, False))\n",
    "print(\"Гипотеза: Средние пользовательские рейтинги жанров Action и Sports разные.\")\n",
    "display(hypotize(action_stat, sports_stat, True))"
   ]
  },
  {
   "cell_type": "markdown",
   "metadata": {},
   "source": [
    "### Выводы"
   ]
  },
  {
   "cell_type": "markdown",
   "metadata": {},
   "source": [
    "* Средние пользовательские рейтинги платформ Xbox One и PC отличаются.\n",
    "* Средние пользовательские рейтинги жанров Action и Sports одинаковые."
   ]
  },
  {
   "cell_type": "markdown",
   "metadata": {},
   "source": [
    "## Общий вывод"
   ]
  },
  {
   "cell_type": "markdown",
   "metadata": {},
   "source": [
    "При построении модели расчета прогноза продаж на 2017 год следует учесть следующие определяющие успешность игры закономерности:\n",
    "\n",
    "1. Выбор платформы для игр:\n",
    "* В среднем платформа для игр существует 10-11 лет. Новые платформы появляются в начале и середине десятилетий. **При выборе платформы следует учесть, срок жизни и размер аудитории консоли.**\n",
    "* За последнее время в продажах лидирует PS4, XOne и 3DS. Из актуальных платформ можно выделить XOne, X360, Wii, PS4, PS3, PC, 3DS. Из выборки актуальных платформ дольше всего продавалась платформа Wii, самые прибыльные PS3 и X360. Средние пользовательские рейтинги платформ Xbox One и PC отличаются. **Следует учесть, что PS3 и X360 хорошо продались и имеют большую аудиторию, также что PS4 и XOne новые платформы, которые набирают популярность.**\n",
    "* Продажи игр на ПК росли до 2011 года, потом постепенно снизились до 5 млн. в 2016 г. **ПК не следует рассматривать как основную платформу для игр, только как дополнительную.**\n",
    "\n",
    "2. Повышение продвижения игр:\n",
    "* Существует определенная кореляция между отзывами критиков и пользователей с обьемами продаж. Корреляция между отзывами критиков с продажами более высокая (0,47 к 0,20), те пользователи больше обращают внимание на отзывы критиков при выборе игры, чем на отзывы других пользователей. Соответственно компании следует обратить внимание на работу с критиками для повышения продаж. На X360 схожая ситуация, тк возможно игры одни и те же. Wii платформа для другой аудитории, корреляция низкая, возможно пользователи Wii не обращают внимание на отзывы других игроков при выборе игры. \n",
    "* **Следует сконцентрировать внимание на критиках и обеспечением их подарочными копиями игры и другими плюшками для повышения рейтинга игры среди критиков.**\n",
    "\n",
    "3. Выбор жанра для игр:\n",
    "* Самые прибыльные жанры - это экшен, спорт и шутеры, самые не прибыльные - приключения, стратегии и пазлы. Налицо явная кореляция, что больше всего приносят прибыль игры с экшеном. Сложные вроде стратегий и приключений игры не приносят большого дохода. Средние пользовательские рейтинги жанров Action и Sports разные. \n",
    "* **Лучше выбрать из топ-3 жанров - экшен, спорт и шутеры.**\n",
    "\n",
    "4. Выбор платформы, жанра и целевой аудитории с учетом региона:\n",
    "* Топ 5 по платформам: в топах продаж есть определенная закономерность, которая зависит от региона:\n",
    "    * в США всегда популярна больше американская консоль Xbox,\n",
    "    * в Европе исторически популярна Playstation,\n",
    "    * в Японии всегда популярны консоли Nintendo и Sony.\n",
    "* Топ 5 по жанрам: экшен практически везде на первом месте, следом идут спортивные игры и шутеры. Единственное отличие из трендов - в Японии на первом месте RPG за счет национальной особенности - там любят японские RPG.\n",
    "* Топ 5 по рейтингу ESRB: разницы между регионами нет. В топах рейтинги E (для всех возрастов), T (13+), M (17+).\n",
    "* **Необходимо учесть любимые платформы и жанры в регионах, а также чтобы игра была доступна для всех возврастов.**"
   ]
  }
 ],
 "metadata": {
  "ExecuteTimeLog": [
   {
    "duration": 11801,
    "start_time": "2022-01-12T16:30:31.854Z"
   },
   {
    "duration": 61,
    "start_time": "2022-01-12T16:31:48.626Z"
   },
   {
    "duration": 75,
    "start_time": "2022-01-12T16:57:07.948Z"
   },
   {
    "duration": 127,
    "start_time": "2022-01-12T16:58:19.128Z"
   },
   {
    "duration": 500,
    "start_time": "2022-01-12T17:00:02.859Z"
   },
   {
    "duration": 376,
    "start_time": "2022-01-12T17:00:09.361Z"
   },
   {
    "duration": 590,
    "start_time": "2022-01-12T17:00:30.890Z"
   },
   {
    "duration": 626,
    "start_time": "2022-01-12T17:00:45.350Z"
   },
   {
    "duration": 574,
    "start_time": "2022-01-12T17:01:04.012Z"
   },
   {
    "duration": 631,
    "start_time": "2022-01-12T17:01:22.874Z"
   },
   {
    "duration": 833,
    "start_time": "2022-01-12T17:06:28.962Z"
   },
   {
    "duration": 848,
    "start_time": "2022-01-12T17:07:19.176Z"
   },
   {
    "duration": 95,
    "start_time": "2022-01-12T17:07:49.666Z"
   },
   {
    "duration": 76,
    "start_time": "2022-01-12T17:08:22.185Z"
   },
   {
    "duration": 75,
    "start_time": "2022-01-12T17:10:24.936Z"
   },
   {
    "duration": 85,
    "start_time": "2022-01-12T17:11:21.630Z"
   },
   {
    "duration": 71,
    "start_time": "2022-01-12T17:11:51.762Z"
   },
   {
    "duration": 94,
    "start_time": "2022-01-12T17:12:03.771Z"
   },
   {
    "duration": 109,
    "start_time": "2022-01-12T17:12:15.265Z"
   },
   {
    "duration": 82,
    "start_time": "2022-01-12T17:13:02.134Z"
   },
   {
    "duration": 79,
    "start_time": "2022-01-12T17:13:43.411Z"
   },
   {
    "duration": 4046,
    "start_time": "2022-01-12T17:15:01.077Z"
   },
   {
    "duration": 87,
    "start_time": "2022-01-12T17:15:27.322Z"
   },
   {
    "duration": 80,
    "start_time": "2022-01-12T17:30:30.797Z"
   },
   {
    "duration": 354,
    "start_time": "2022-01-12T17:31:07.831Z"
   },
   {
    "duration": 201,
    "start_time": "2022-01-12T17:31:27.092Z"
   },
   {
    "duration": 119,
    "start_time": "2022-01-12T17:39:54.444Z"
   },
   {
    "duration": 116,
    "start_time": "2022-01-12T17:40:14.251Z"
   },
   {
    "duration": 111,
    "start_time": "2022-01-12T17:40:23.484Z"
   },
   {
    "duration": 304,
    "start_time": "2022-01-12T17:41:04.202Z"
   },
   {
    "duration": 191,
    "start_time": "2022-01-12T17:41:58.597Z"
   },
   {
    "duration": 286,
    "start_time": "2022-01-12T17:51:50.987Z"
   },
   {
    "duration": 287,
    "start_time": "2022-01-12T17:52:21.186Z"
   },
   {
    "duration": 28,
    "start_time": "2022-01-12T17:53:37.314Z"
   },
   {
    "duration": 28,
    "start_time": "2022-01-12T18:07:22.782Z"
   },
   {
    "duration": 22,
    "start_time": "2022-01-12T18:08:26.394Z"
   },
   {
    "duration": 20,
    "start_time": "2022-01-12T18:08:57.964Z"
   },
   {
    "duration": 117,
    "start_time": "2022-01-12T18:20:28.762Z"
   },
   {
    "duration": 3,
    "start_time": "2022-01-12T18:24:21.055Z"
   },
   {
    "duration": 6,
    "start_time": "2022-01-12T19:20:10.737Z"
   },
   {
    "duration": 10,
    "start_time": "2022-01-12T19:23:59.625Z"
   },
   {
    "duration": 11,
    "start_time": "2022-01-12T19:25:07.232Z"
   },
   {
    "duration": 565,
    "start_time": "2022-01-13T14:41:20.785Z"
   },
   {
    "duration": 12768,
    "start_time": "2022-01-13T14:41:29.121Z"
   },
   {
    "duration": 125,
    "start_time": "2022-01-13T14:41:41.892Z"
   },
   {
    "duration": 286,
    "start_time": "2022-01-13T14:41:42.020Z"
   },
   {
    "duration": 76,
    "start_time": "2022-01-13T14:41:42.308Z"
   },
   {
    "duration": 5,
    "start_time": "2022-01-13T14:41:42.386Z"
   },
   {
    "duration": 11,
    "start_time": "2022-01-13T14:41:42.393Z"
   },
   {
    "duration": 15,
    "start_time": "2022-01-13T14:41:42.406Z"
   },
   {
    "duration": 15,
    "start_time": "2022-01-13T14:42:07.490Z"
   },
   {
    "duration": 17,
    "start_time": "2022-01-13T14:42:13.319Z"
   },
   {
    "duration": 446,
    "start_time": "2022-01-13T14:58:33.242Z"
   },
   {
    "duration": 10,
    "start_time": "2022-01-13T15:09:10.173Z"
   },
   {
    "duration": 527,
    "start_time": "2022-01-13T15:09:42.983Z"
   },
   {
    "duration": 2344,
    "start_time": "2022-01-13T15:09:46.664Z"
   },
   {
    "duration": 383,
    "start_time": "2022-01-13T15:10:04.917Z"
   },
   {
    "duration": 608,
    "start_time": "2022-01-13T15:10:17.526Z"
   },
   {
    "duration": 746,
    "start_time": "2022-01-13T15:10:24.621Z"
   },
   {
    "duration": 477,
    "start_time": "2022-01-13T15:10:30.685Z"
   },
   {
    "duration": 467,
    "start_time": "2022-01-13T15:10:44.314Z"
   },
   {
    "duration": 29,
    "start_time": "2022-01-13T15:10:54.974Z"
   },
   {
    "duration": 395,
    "start_time": "2022-01-13T15:11:06.683Z"
   },
   {
    "duration": 47,
    "start_time": "2022-01-13T15:11:14.042Z"
   },
   {
    "duration": 11,
    "start_time": "2022-01-13T15:11:23.584Z"
   },
   {
    "duration": 30,
    "start_time": "2022-01-13T15:11:36.430Z"
   },
   {
    "duration": 38,
    "start_time": "2022-01-13T15:12:58.357Z"
   },
   {
    "duration": 26,
    "start_time": "2022-01-13T15:13:40.053Z"
   },
   {
    "duration": 20,
    "start_time": "2022-01-13T15:15:29.520Z"
   },
   {
    "duration": 5,
    "start_time": "2022-01-13T16:09:14.121Z"
   },
   {
    "duration": 10,
    "start_time": "2022-01-13T16:09:30.478Z"
   },
   {
    "duration": 9,
    "start_time": "2022-01-13T16:09:44.187Z"
   },
   {
    "duration": 9,
    "start_time": "2022-01-13T16:10:21.557Z"
   },
   {
    "duration": 15,
    "start_time": "2022-01-13T16:11:39.827Z"
   },
   {
    "duration": 17,
    "start_time": "2022-01-13T16:13:44.482Z"
   },
   {
    "duration": 16,
    "start_time": "2022-01-13T16:14:07.145Z"
   },
   {
    "duration": 17,
    "start_time": "2022-01-13T16:14:44.095Z"
   },
   {
    "duration": 38,
    "start_time": "2022-01-13T16:17:35.555Z"
   },
   {
    "duration": 362,
    "start_time": "2022-01-13T16:18:24.187Z"
   },
   {
    "duration": 29,
    "start_time": "2022-01-13T16:19:55.131Z"
   },
   {
    "duration": 19,
    "start_time": "2022-01-13T16:22:55.598Z"
   },
   {
    "duration": 10,
    "start_time": "2022-01-13T16:29:40.132Z"
   },
   {
    "duration": 8,
    "start_time": "2022-01-13T16:29:50.136Z"
   },
   {
    "duration": 7,
    "start_time": "2022-01-13T16:29:58.006Z"
   },
   {
    "duration": 19,
    "start_time": "2022-01-13T16:30:34.756Z"
   },
   {
    "duration": 36,
    "start_time": "2022-01-13T16:30:58.134Z"
   },
   {
    "duration": 39,
    "start_time": "2022-01-13T16:39:36.115Z"
   },
   {
    "duration": 25,
    "start_time": "2022-01-13T16:51:27.327Z"
   },
   {
    "duration": 352,
    "start_time": "2022-01-13T16:52:24.451Z"
   },
   {
    "duration": 12,
    "start_time": "2022-01-13T16:52:29.907Z"
   },
   {
    "duration": 31,
    "start_time": "2022-01-13T16:52:38.870Z"
   },
   {
    "duration": 11,
    "start_time": "2022-01-13T16:53:15.215Z"
   },
   {
    "duration": 15,
    "start_time": "2022-01-13T16:57:34.618Z"
   },
   {
    "duration": 26,
    "start_time": "2022-01-13T16:58:18.770Z"
   },
   {
    "duration": 14,
    "start_time": "2022-01-13T17:04:14.473Z"
   },
   {
    "duration": 15,
    "start_time": "2022-01-13T17:04:33.139Z"
   },
   {
    "duration": 449,
    "start_time": "2022-01-13T17:05:04.281Z"
   },
   {
    "duration": 397,
    "start_time": "2022-01-13T17:05:50.521Z"
   },
   {
    "duration": 19,
    "start_time": "2022-01-13T17:06:11.843Z"
   },
   {
    "duration": 4873,
    "start_time": "2022-01-13T17:06:16.713Z"
   },
   {
    "duration": 130,
    "start_time": "2022-01-13T17:06:21.589Z"
   },
   {
    "duration": 345,
    "start_time": "2022-01-13T17:06:21.722Z"
   },
   {
    "duration": 22,
    "start_time": "2022-01-13T17:06:22.069Z"
   },
   {
    "duration": 9,
    "start_time": "2022-01-13T17:06:22.093Z"
   },
   {
    "duration": 12,
    "start_time": "2022-01-13T17:06:22.105Z"
   },
   {
    "duration": 68,
    "start_time": "2022-01-13T17:06:22.119Z"
   },
   {
    "duration": 21,
    "start_time": "2022-01-13T17:06:22.192Z"
   },
   {
    "duration": 53,
    "start_time": "2022-01-13T17:06:22.216Z"
   },
   {
    "duration": 15,
    "start_time": "2022-01-13T17:06:22.271Z"
   },
   {
    "duration": 20,
    "start_time": "2022-01-13T17:06:22.288Z"
   },
   {
    "duration": 118,
    "start_time": "2022-01-13T17:06:22.311Z"
   },
   {
    "duration": 5102,
    "start_time": "2022-01-13T17:06:58.944Z"
   },
   {
    "duration": 180,
    "start_time": "2022-01-13T17:07:04.050Z"
   },
   {
    "duration": 362,
    "start_time": "2022-01-13T17:07:04.235Z"
   },
   {
    "duration": 70,
    "start_time": "2022-01-13T17:07:04.601Z"
   },
   {
    "duration": 7,
    "start_time": "2022-01-13T17:07:04.675Z"
   },
   {
    "duration": 26,
    "start_time": "2022-01-13T17:07:04.686Z"
   },
   {
    "duration": 68,
    "start_time": "2022-01-13T17:07:04.715Z"
   },
   {
    "duration": 22,
    "start_time": "2022-01-13T17:07:04.787Z"
   },
   {
    "duration": 55,
    "start_time": "2022-01-13T17:07:04.813Z"
   },
   {
    "duration": 19,
    "start_time": "2022-01-13T17:07:04.872Z"
   },
   {
    "duration": 18,
    "start_time": "2022-01-13T17:07:04.894Z"
   },
   {
    "duration": 151,
    "start_time": "2022-01-13T17:07:04.915Z"
   },
   {
    "duration": 12,
    "start_time": "2022-01-13T17:07:17.935Z"
   },
   {
    "duration": 11,
    "start_time": "2022-01-13T17:07:24.998Z"
   },
   {
    "duration": 27,
    "start_time": "2022-01-13T17:07:30.901Z"
   },
   {
    "duration": 9,
    "start_time": "2022-01-13T17:08:30.358Z"
   },
   {
    "duration": 20,
    "start_time": "2022-01-13T17:08:49.518Z"
   },
   {
    "duration": 4809,
    "start_time": "2022-01-13T17:08:55.374Z"
   },
   {
    "duration": 179,
    "start_time": "2022-01-13T17:09:00.186Z"
   },
   {
    "duration": 404,
    "start_time": "2022-01-13T17:09:00.369Z"
   },
   {
    "duration": 23,
    "start_time": "2022-01-13T17:09:00.776Z"
   },
   {
    "duration": 19,
    "start_time": "2022-01-13T17:09:00.802Z"
   },
   {
    "duration": 44,
    "start_time": "2022-01-13T17:09:00.824Z"
   },
   {
    "duration": 39,
    "start_time": "2022-01-13T17:09:00.871Z"
   },
   {
    "duration": 21,
    "start_time": "2022-01-13T17:09:00.914Z"
   },
   {
    "duration": 31,
    "start_time": "2022-01-13T17:09:00.938Z"
   },
   {
    "duration": 16,
    "start_time": "2022-01-13T17:09:00.971Z"
   },
   {
    "duration": 24,
    "start_time": "2022-01-13T17:09:00.990Z"
   },
   {
    "duration": 126,
    "start_time": "2022-01-13T17:09:01.017Z"
   },
   {
    "duration": 27,
    "start_time": "2022-01-13T17:09:27.611Z"
   },
   {
    "duration": 4015,
    "start_time": "2022-01-13T17:09:34.592Z"
   },
   {
    "duration": 108,
    "start_time": "2022-01-13T17:09:38.611Z"
   },
   {
    "duration": 291,
    "start_time": "2022-01-13T17:09:38.722Z"
   },
   {
    "duration": 22,
    "start_time": "2022-01-13T17:09:39.059Z"
   },
   {
    "duration": 7,
    "start_time": "2022-01-13T17:09:39.084Z"
   },
   {
    "duration": 12,
    "start_time": "2022-01-13T17:09:39.093Z"
   },
   {
    "duration": 52,
    "start_time": "2022-01-13T17:09:39.107Z"
   },
   {
    "duration": 11,
    "start_time": "2022-01-13T17:09:39.161Z"
   },
   {
    "duration": 18,
    "start_time": "2022-01-13T17:09:39.175Z"
   },
   {
    "duration": 12,
    "start_time": "2022-01-13T17:09:39.195Z"
   },
   {
    "duration": 53,
    "start_time": "2022-01-13T17:09:39.209Z"
   },
   {
    "duration": 122,
    "start_time": "2022-01-13T17:09:39.265Z"
   },
   {
    "duration": 19,
    "start_time": "2022-01-13T17:10:14.556Z"
   },
   {
    "duration": 31,
    "start_time": "2022-01-13T17:27:21.880Z"
   },
   {
    "duration": 17,
    "start_time": "2022-01-13T17:35:55.877Z"
   },
   {
    "duration": 21,
    "start_time": "2022-01-13T17:36:01.572Z"
   },
   {
    "duration": 530,
    "start_time": "2022-01-13T17:38:25.319Z"
   },
   {
    "duration": 9,
    "start_time": "2022-01-13T17:38:41.575Z"
   },
   {
    "duration": 27,
    "start_time": "2022-01-13T17:39:16.092Z"
   },
   {
    "duration": 9,
    "start_time": "2022-01-13T17:39:46.636Z"
   },
   {
    "duration": 21,
    "start_time": "2022-01-13T17:40:15.919Z"
   },
   {
    "duration": 16,
    "start_time": "2022-01-13T18:17:51.424Z"
   },
   {
    "duration": 23,
    "start_time": "2022-01-13T18:18:02.720Z"
   },
   {
    "duration": 18,
    "start_time": "2022-01-13T18:18:14.010Z"
   },
   {
    "duration": 411,
    "start_time": "2022-01-13T18:18:25.906Z"
   },
   {
    "duration": 21,
    "start_time": "2022-01-13T18:18:35.184Z"
   },
   {
    "duration": 32,
    "start_time": "2022-01-13T18:18:46.737Z"
   },
   {
    "duration": 33,
    "start_time": "2022-01-13T18:20:07.785Z"
   },
   {
    "duration": 6,
    "start_time": "2022-01-13T18:29:05.305Z"
   },
   {
    "duration": 381,
    "start_time": "2022-01-13T18:29:17.006Z"
   },
   {
    "duration": 11,
    "start_time": "2022-01-13T18:29:26.966Z"
   },
   {
    "duration": 9,
    "start_time": "2022-01-13T18:31:50.174Z"
   },
   {
    "duration": 22,
    "start_time": "2022-01-13T18:31:51.547Z"
   },
   {
    "duration": 12,
    "start_time": "2022-01-13T18:32:11.797Z"
   },
   {
    "duration": 13,
    "start_time": "2022-01-13T18:32:24.396Z"
   },
   {
    "duration": 12,
    "start_time": "2022-01-13T18:38:31.518Z"
   },
   {
    "duration": 12,
    "start_time": "2022-01-13T18:38:44.223Z"
   },
   {
    "duration": 13,
    "start_time": "2022-01-13T18:39:06.644Z"
   },
   {
    "duration": 12,
    "start_time": "2022-01-13T18:41:01.902Z"
   },
   {
    "duration": 9,
    "start_time": "2022-01-13T18:42:17.626Z"
   },
   {
    "duration": 194,
    "start_time": "2022-01-13T18:45:46.647Z"
   },
   {
    "duration": 151,
    "start_time": "2022-01-13T18:45:59.649Z"
   },
   {
    "duration": 9197,
    "start_time": "2022-01-13T18:46:03.622Z"
   },
   {
    "duration": 6,
    "start_time": "2022-01-13T18:47:11.074Z"
   },
   {
    "duration": 23,
    "start_time": "2022-01-13T18:47:52.012Z"
   },
   {
    "duration": 14,
    "start_time": "2022-01-13T18:47:57.722Z"
   },
   {
    "duration": 17,
    "start_time": "2022-01-13T18:48:17.357Z"
   },
   {
    "duration": 20,
    "start_time": "2022-01-13T18:48:32.828Z"
   },
   {
    "duration": 20,
    "start_time": "2022-01-13T18:48:35.090Z"
   },
   {
    "duration": 11,
    "start_time": "2022-01-13T18:48:52.665Z"
   },
   {
    "duration": 7,
    "start_time": "2022-01-13T18:49:15.523Z"
   },
   {
    "duration": 380,
    "start_time": "2022-01-13T18:49:22.532Z"
   },
   {
    "duration": 13,
    "start_time": "2022-01-13T18:49:37.503Z"
   },
   {
    "duration": 15,
    "start_time": "2022-01-13T18:49:47.780Z"
   },
   {
    "duration": 5,
    "start_time": "2022-01-13T18:49:57.427Z"
   },
   {
    "duration": 5,
    "start_time": "2022-01-13T18:49:59.294Z"
   },
   {
    "duration": 9297,
    "start_time": "2022-01-13T18:50:16.333Z"
   },
   {
    "duration": 9823,
    "start_time": "2022-01-13T18:50:49.682Z"
   },
   {
    "duration": 404,
    "start_time": "2022-01-13T18:53:19.931Z"
   },
   {
    "duration": 382,
    "start_time": "2022-01-13T18:53:30.179Z"
   },
   {
    "duration": 127,
    "start_time": "2022-01-13T18:53:47.424Z"
   },
   {
    "duration": 382,
    "start_time": "2022-01-13T18:58:24.335Z"
   },
   {
    "duration": 8,
    "start_time": "2022-01-13T18:58:46.189Z"
   },
   {
    "duration": 128,
    "start_time": "2022-01-13T18:59:03.721Z"
   },
   {
    "duration": 126,
    "start_time": "2022-01-13T19:03:08.446Z"
   },
   {
    "duration": 119,
    "start_time": "2022-01-13T19:03:18.784Z"
   },
   {
    "duration": 424,
    "start_time": "2022-01-13T19:05:15.910Z"
   },
   {
    "duration": 4151,
    "start_time": "2022-01-13T19:05:27.790Z"
   },
   {
    "duration": 118,
    "start_time": "2022-01-13T19:05:31.944Z"
   },
   {
    "duration": 330,
    "start_time": "2022-01-13T19:05:32.065Z"
   },
   {
    "duration": 71,
    "start_time": "2022-01-13T19:05:32.398Z"
   },
   {
    "duration": 5,
    "start_time": "2022-01-13T19:05:32.471Z"
   },
   {
    "duration": 12,
    "start_time": "2022-01-13T19:05:32.479Z"
   },
   {
    "duration": 15,
    "start_time": "2022-01-13T19:05:32.493Z"
   },
   {
    "duration": 54,
    "start_time": "2022-01-13T19:05:32.511Z"
   },
   {
    "duration": 19,
    "start_time": "2022-01-13T19:05:32.569Z"
   },
   {
    "duration": 19,
    "start_time": "2022-01-13T19:05:32.590Z"
   },
   {
    "duration": 48,
    "start_time": "2022-01-13T19:05:32.612Z"
   },
   {
    "duration": 9,
    "start_time": "2022-01-13T19:05:32.663Z"
   },
   {
    "duration": 470,
    "start_time": "2022-01-13T19:05:32.674Z"
   },
   {
    "duration": 140,
    "start_time": "2022-01-13T19:05:33.007Z"
   },
   {
    "duration": 20,
    "start_time": "2022-01-13T19:07:25.636Z"
   },
   {
    "duration": 383,
    "start_time": "2022-01-13T19:07:54.182Z"
   },
   {
    "duration": 30,
    "start_time": "2022-01-13T19:10:32.484Z"
   },
   {
    "duration": 397,
    "start_time": "2022-01-13T19:11:38.467Z"
   },
   {
    "duration": 30,
    "start_time": "2022-01-13T19:14:42.898Z"
   },
   {
    "duration": 21,
    "start_time": "2022-01-13T19:14:56.187Z"
   },
   {
    "duration": 21,
    "start_time": "2022-01-13T19:19:19.318Z"
   },
   {
    "duration": 31,
    "start_time": "2022-01-13T19:33:25.497Z"
   },
   {
    "duration": 32,
    "start_time": "2022-01-13T19:34:08.667Z"
   },
   {
    "duration": 33,
    "start_time": "2022-01-13T19:34:19.774Z"
   },
   {
    "duration": 32,
    "start_time": "2022-01-13T19:35:22.116Z"
   },
   {
    "duration": 30,
    "start_time": "2022-01-13T19:37:08.668Z"
   },
   {
    "duration": 391,
    "start_time": "2022-01-13T19:37:20.595Z"
   },
   {
    "duration": 23,
    "start_time": "2022-01-13T19:37:29.408Z"
   },
   {
    "duration": 19,
    "start_time": "2022-01-13T19:37:40.198Z"
   },
   {
    "duration": 31,
    "start_time": "2022-01-13T19:37:48.042Z"
   },
   {
    "duration": 25,
    "start_time": "2022-01-13T19:37:59.982Z"
   },
   {
    "duration": 26,
    "start_time": "2022-01-13T19:38:09.560Z"
   },
   {
    "duration": 8,
    "start_time": "2022-01-13T19:39:55.383Z"
   },
   {
    "duration": 46,
    "start_time": "2022-01-13T19:48:11.535Z"
   },
   {
    "duration": 382,
    "start_time": "2022-01-14T16:04:39.649Z"
   },
   {
    "duration": 12511,
    "start_time": "2022-01-14T16:04:44.933Z"
   },
   {
    "duration": 135,
    "start_time": "2022-01-14T16:04:57.447Z"
   },
   {
    "duration": 314,
    "start_time": "2022-01-14T16:04:57.585Z"
   },
   {
    "duration": 70,
    "start_time": "2022-01-14T16:04:57.902Z"
   },
   {
    "duration": 5,
    "start_time": "2022-01-14T16:04:57.975Z"
   },
   {
    "duration": 10,
    "start_time": "2022-01-14T16:04:57.982Z"
   },
   {
    "duration": 13,
    "start_time": "2022-01-14T16:04:57.994Z"
   },
   {
    "duration": 11,
    "start_time": "2022-01-14T16:04:58.011Z"
   },
   {
    "duration": 60,
    "start_time": "2022-01-14T16:04:58.025Z"
   },
   {
    "duration": 20,
    "start_time": "2022-01-14T16:04:58.087Z"
   },
   {
    "duration": 21,
    "start_time": "2022-01-14T16:04:58.109Z"
   },
   {
    "duration": 43,
    "start_time": "2022-01-14T16:04:58.132Z"
   },
   {
    "duration": 26,
    "start_time": "2022-01-14T16:04:58.177Z"
   },
   {
    "duration": 31,
    "start_time": "2022-01-14T16:04:58.205Z"
   },
   {
    "duration": 43,
    "start_time": "2022-01-14T16:04:58.238Z"
   },
   {
    "duration": 99,
    "start_time": "2022-01-14T16:04:58.284Z"
   },
   {
    "duration": 33,
    "start_time": "2022-01-14T16:07:07.090Z"
   },
   {
    "duration": 33,
    "start_time": "2022-01-14T16:08:15.076Z"
   },
   {
    "duration": 32,
    "start_time": "2022-01-14T16:08:16.625Z"
   },
   {
    "duration": 30,
    "start_time": "2022-01-14T16:08:25.300Z"
   },
   {
    "duration": 36,
    "start_time": "2022-01-14T16:08:27.160Z"
   },
   {
    "duration": 14,
    "start_time": "2022-01-14T16:08:46.149Z"
   },
   {
    "duration": 9,
    "start_time": "2022-01-14T16:09:04.934Z"
   },
   {
    "duration": 29,
    "start_time": "2022-01-14T16:09:14.420Z"
   },
   {
    "duration": 35,
    "start_time": "2022-01-14T16:09:18.650Z"
   },
   {
    "duration": 32,
    "start_time": "2022-01-14T16:12:30.979Z"
   },
   {
    "duration": 26,
    "start_time": "2022-01-14T16:14:20.169Z"
   },
   {
    "duration": 30,
    "start_time": "2022-01-14T16:18:42.015Z"
   },
   {
    "duration": 52,
    "start_time": "2022-01-14T16:18:46.824Z"
   },
   {
    "duration": 8,
    "start_time": "2022-01-14T16:19:43.731Z"
   },
   {
    "duration": 23,
    "start_time": "2022-01-14T16:19:45.637Z"
   },
   {
    "duration": 36,
    "start_time": "2022-01-14T16:19:49.136Z"
   },
   {
    "duration": 47,
    "start_time": "2022-01-14T16:19:50.906Z"
   },
   {
    "duration": 33,
    "start_time": "2022-01-14T16:20:03.019Z"
   },
   {
    "duration": 123,
    "start_time": "2022-01-14T16:20:03.844Z"
   },
   {
    "duration": 10,
    "start_time": "2022-01-14T16:21:56.030Z"
   },
   {
    "duration": 11,
    "start_time": "2022-01-14T16:22:16.816Z"
   },
   {
    "duration": 34,
    "start_time": "2022-01-14T16:22:18.373Z"
   },
   {
    "duration": 36,
    "start_time": "2022-01-14T16:22:19.768Z"
   },
   {
    "duration": 44,
    "start_time": "2022-01-14T16:22:20.496Z"
   },
   {
    "duration": 5056,
    "start_time": "2022-01-14T16:29:25.852Z"
   },
   {
    "duration": 4177,
    "start_time": "2022-01-14T16:29:57.905Z"
   },
   {
    "duration": 6754,
    "start_time": "2022-01-14T16:30:08.528Z"
   },
   {
    "duration": 144,
    "start_time": "2022-01-14T16:31:23.140Z"
   },
   {
    "duration": 5896,
    "start_time": "2022-01-14T16:31:32.214Z"
   },
   {
    "duration": 125,
    "start_time": "2022-01-14T16:31:38.113Z"
   },
   {
    "duration": 757,
    "start_time": "2022-01-14T16:31:38.241Z"
   },
   {
    "duration": 68,
    "start_time": "2022-01-14T16:31:39.000Z"
   },
   {
    "duration": 6,
    "start_time": "2022-01-14T16:31:39.072Z"
   },
   {
    "duration": 13,
    "start_time": "2022-01-14T16:31:39.081Z"
   },
   {
    "duration": 13,
    "start_time": "2022-01-14T16:31:39.098Z"
   },
   {
    "duration": 57,
    "start_time": "2022-01-14T16:31:39.114Z"
   },
   {
    "duration": 30,
    "start_time": "2022-01-14T16:31:39.175Z"
   },
   {
    "duration": 19,
    "start_time": "2022-01-14T16:31:39.207Z"
   },
   {
    "duration": 51,
    "start_time": "2022-01-14T16:31:39.229Z"
   },
   {
    "duration": 14,
    "start_time": "2022-01-14T16:31:39.283Z"
   },
   {
    "duration": 24,
    "start_time": "2022-01-14T16:31:39.299Z"
   },
   {
    "duration": 84,
    "start_time": "2022-01-14T16:31:39.326Z"
   },
   {
    "duration": 65,
    "start_time": "2022-01-14T16:31:39.413Z"
   },
   {
    "duration": 101,
    "start_time": "2022-01-14T16:31:39.481Z"
   },
   {
    "duration": 308,
    "start_time": "2022-01-14T16:36:02.268Z"
   },
   {
    "duration": 21,
    "start_time": "2022-01-14T16:37:51.724Z"
   },
   {
    "duration": 215,
    "start_time": "2022-01-14T16:38:08.249Z"
   },
   {
    "duration": 25,
    "start_time": "2022-01-14T16:38:32.566Z"
   },
   {
    "duration": 20,
    "start_time": "2022-01-14T16:39:25.025Z"
   },
   {
    "duration": 22,
    "start_time": "2022-01-14T16:39:34.238Z"
   },
   {
    "duration": 39,
    "start_time": "2022-01-14T16:39:35.093Z"
   },
   {
    "duration": 10,
    "start_time": "2022-01-14T16:39:54.421Z"
   },
   {
    "duration": 25,
    "start_time": "2022-01-14T16:39:56.006Z"
   },
   {
    "duration": 21,
    "start_time": "2022-01-14T16:40:00.078Z"
   },
   {
    "duration": 45,
    "start_time": "2022-01-14T16:40:00.835Z"
   },
   {
    "duration": 57,
    "start_time": "2022-01-14T16:40:11.539Z"
   },
   {
    "duration": 4332,
    "start_time": "2022-01-14T17:00:43.608Z"
   },
   {
    "duration": 510,
    "start_time": "2022-01-14T17:02:23.011Z"
   },
   {
    "duration": 308,
    "start_time": "2022-01-14T17:26:00.151Z"
   },
   {
    "duration": 25,
    "start_time": "2022-01-14T17:29:16.231Z"
   },
   {
    "duration": 384,
    "start_time": "2022-01-14T17:29:40.118Z"
   },
   {
    "duration": 378,
    "start_time": "2022-01-14T17:29:46.684Z"
   },
   {
    "duration": 407,
    "start_time": "2022-01-14T17:30:21.628Z"
   },
   {
    "duration": 279,
    "start_time": "2022-01-14T17:31:03.603Z"
   },
   {
    "duration": 4368,
    "start_time": "2022-01-14T17:31:16.180Z"
   },
   {
    "duration": 128,
    "start_time": "2022-01-14T17:31:20.551Z"
   },
   {
    "duration": 525,
    "start_time": "2022-01-14T17:31:20.683Z"
   },
   {
    "duration": 22,
    "start_time": "2022-01-14T17:31:21.264Z"
   },
   {
    "duration": 9,
    "start_time": "2022-01-14T17:31:21.288Z"
   },
   {
    "duration": 15,
    "start_time": "2022-01-14T17:31:21.299Z"
   },
   {
    "duration": 49,
    "start_time": "2022-01-14T17:31:21.316Z"
   },
   {
    "duration": 10,
    "start_time": "2022-01-14T17:31:21.368Z"
   },
   {
    "duration": 21,
    "start_time": "2022-01-14T17:31:21.382Z"
   },
   {
    "duration": 20,
    "start_time": "2022-01-14T17:31:21.406Z"
   },
   {
    "duration": 56,
    "start_time": "2022-01-14T17:31:21.429Z"
   },
   {
    "duration": 9,
    "start_time": "2022-01-14T17:31:21.487Z"
   },
   {
    "duration": 25,
    "start_time": "2022-01-14T17:31:21.499Z"
   },
   {
    "duration": 50,
    "start_time": "2022-01-14T17:31:21.527Z"
   },
   {
    "duration": 321,
    "start_time": "2022-01-14T17:31:21.580Z"
   },
   {
    "duration": -516,
    "start_time": "2022-01-14T17:31:22.420Z"
   },
   {
    "duration": 319,
    "start_time": "2022-01-14T17:33:25.818Z"
   },
   {
    "duration": 3986,
    "start_time": "2022-01-14T17:33:37.817Z"
   },
   {
    "duration": 116,
    "start_time": "2022-01-14T17:33:41.806Z"
   },
   {
    "duration": 574,
    "start_time": "2022-01-14T17:33:41.925Z"
   },
   {
    "duration": 66,
    "start_time": "2022-01-14T17:33:42.502Z"
   },
   {
    "duration": 29,
    "start_time": "2022-01-14T17:33:42.570Z"
   },
   {
    "duration": 36,
    "start_time": "2022-01-14T17:33:42.601Z"
   },
   {
    "duration": 41,
    "start_time": "2022-01-14T17:33:42.639Z"
   },
   {
    "duration": 34,
    "start_time": "2022-01-14T17:33:42.684Z"
   },
   {
    "duration": 22,
    "start_time": "2022-01-14T17:33:42.721Z"
   },
   {
    "duration": 27,
    "start_time": "2022-01-14T17:33:42.746Z"
   },
   {
    "duration": 22,
    "start_time": "2022-01-14T17:33:42.776Z"
   },
   {
    "duration": 9,
    "start_time": "2022-01-14T17:33:42.800Z"
   },
   {
    "duration": 61,
    "start_time": "2022-01-14T17:33:42.812Z"
   },
   {
    "duration": 28,
    "start_time": "2022-01-14T17:33:42.875Z"
   },
   {
    "duration": 301,
    "start_time": "2022-01-14T17:33:42.905Z"
   },
   {
    "duration": -458,
    "start_time": "2022-01-14T17:33:43.668Z"
   },
   {
    "duration": 290,
    "start_time": "2022-01-14T17:34:03.614Z"
   },
   {
    "duration": 315,
    "start_time": "2022-01-14T17:34:20.336Z"
   },
   {
    "duration": 4335,
    "start_time": "2022-01-14T17:34:26.324Z"
   },
   {
    "duration": 124,
    "start_time": "2022-01-14T17:34:30.662Z"
   },
   {
    "duration": 703,
    "start_time": "2022-01-14T17:34:30.790Z"
   },
   {
    "duration": 23,
    "start_time": "2022-01-14T17:34:31.496Z"
   },
   {
    "duration": 6,
    "start_time": "2022-01-14T17:34:31.564Z"
   },
   {
    "duration": 16,
    "start_time": "2022-01-14T17:34:31.573Z"
   },
   {
    "duration": 38,
    "start_time": "2022-01-14T17:34:31.592Z"
   },
   {
    "duration": 46,
    "start_time": "2022-01-14T17:34:31.632Z"
   },
   {
    "duration": 21,
    "start_time": "2022-01-14T17:34:31.682Z"
   },
   {
    "duration": 19,
    "start_time": "2022-01-14T17:34:31.706Z"
   },
   {
    "duration": 42,
    "start_time": "2022-01-14T17:34:31.728Z"
   },
   {
    "duration": 9,
    "start_time": "2022-01-14T17:34:31.772Z"
   },
   {
    "duration": 35,
    "start_time": "2022-01-14T17:34:31.784Z"
   },
   {
    "duration": 50,
    "start_time": "2022-01-14T17:34:31.822Z"
   },
   {
    "duration": 61,
    "start_time": "2022-01-14T17:34:31.874Z"
   },
   {
    "duration": 95,
    "start_time": "2022-01-14T17:34:31.937Z"
   },
   {
    "duration": 26,
    "start_time": "2022-01-14T17:35:07.824Z"
   },
   {
    "duration": 56,
    "start_time": "2022-01-14T17:35:11.932Z"
   },
   {
    "duration": 398,
    "start_time": "2022-01-14T17:35:29.390Z"
   },
   {
    "duration": 67,
    "start_time": "2022-01-14T17:35:30.578Z"
   },
   {
    "duration": 4206,
    "start_time": "2022-01-14T17:35:40.786Z"
   },
   {
    "duration": 123,
    "start_time": "2022-01-14T17:35:44.994Z"
   },
   {
    "duration": 656,
    "start_time": "2022-01-14T17:35:45.120Z"
   },
   {
    "duration": 21,
    "start_time": "2022-01-14T17:35:45.779Z"
   },
   {
    "duration": 5,
    "start_time": "2022-01-14T17:35:45.803Z"
   },
   {
    "duration": 54,
    "start_time": "2022-01-14T17:35:45.811Z"
   },
   {
    "duration": 23,
    "start_time": "2022-01-14T17:35:45.868Z"
   },
   {
    "duration": 12,
    "start_time": "2022-01-14T17:35:45.895Z"
   },
   {
    "duration": 21,
    "start_time": "2022-01-14T17:35:45.910Z"
   },
   {
    "duration": 21,
    "start_time": "2022-01-14T17:35:45.963Z"
   },
   {
    "duration": 23,
    "start_time": "2022-01-14T17:35:45.986Z"
   },
   {
    "duration": 9,
    "start_time": "2022-01-14T17:35:46.011Z"
   },
   {
    "duration": 60,
    "start_time": "2022-01-14T17:35:46.023Z"
   },
   {
    "duration": 29,
    "start_time": "2022-01-14T17:35:46.086Z"
   },
   {
    "duration": 91,
    "start_time": "2022-01-14T17:35:46.118Z"
   },
   {
    "duration": 158,
    "start_time": "2022-01-14T17:35:46.211Z"
   },
   {
    "duration": 334,
    "start_time": "2022-01-14T18:08:01.253Z"
   },
   {
    "duration": 3887,
    "start_time": "2022-01-14T18:08:09.526Z"
   },
   {
    "duration": 98,
    "start_time": "2022-01-14T18:08:13.416Z"
   },
   {
    "duration": 648,
    "start_time": "2022-01-14T18:08:13.517Z"
   },
   {
    "duration": 31,
    "start_time": "2022-01-14T18:08:14.168Z"
   },
   {
    "duration": 6,
    "start_time": "2022-01-14T18:08:14.204Z"
   },
   {
    "duration": 51,
    "start_time": "2022-01-14T18:08:14.213Z"
   },
   {
    "duration": 15,
    "start_time": "2022-01-14T18:08:14.267Z"
   },
   {
    "duration": 22,
    "start_time": "2022-01-14T18:08:14.286Z"
   },
   {
    "duration": 54,
    "start_time": "2022-01-14T18:08:14.310Z"
   },
   {
    "duration": 26,
    "start_time": "2022-01-14T18:08:14.367Z"
   },
   {
    "duration": 29,
    "start_time": "2022-01-14T18:08:14.396Z"
   },
   {
    "duration": 40,
    "start_time": "2022-01-14T18:08:14.427Z"
   },
   {
    "duration": 32,
    "start_time": "2022-01-14T18:08:14.469Z"
   },
   {
    "duration": 28,
    "start_time": "2022-01-14T18:08:14.505Z"
   },
   {
    "duration": 81,
    "start_time": "2022-01-14T18:08:14.536Z"
   },
   {
    "duration": 242,
    "start_time": "2022-01-14T18:08:14.621Z"
   },
   {
    "duration": 351,
    "start_time": "2022-01-14T18:08:33.368Z"
   },
   {
    "duration": 4279,
    "start_time": "2022-01-14T18:08:37.397Z"
   },
   {
    "duration": 120,
    "start_time": "2022-01-14T18:08:41.679Z"
   },
   {
    "duration": 581,
    "start_time": "2022-01-14T18:08:41.802Z"
   },
   {
    "duration": 21,
    "start_time": "2022-01-14T18:08:42.386Z"
   },
   {
    "duration": 7,
    "start_time": "2022-01-14T18:08:42.409Z"
   },
   {
    "duration": 51,
    "start_time": "2022-01-14T18:08:42.419Z"
   },
   {
    "duration": 13,
    "start_time": "2022-01-14T18:08:42.473Z"
   },
   {
    "duration": 12,
    "start_time": "2022-01-14T18:08:42.488Z"
   },
   {
    "duration": 19,
    "start_time": "2022-01-14T18:08:42.503Z"
   },
   {
    "duration": 51,
    "start_time": "2022-01-14T18:08:42.524Z"
   },
   {
    "duration": 20,
    "start_time": "2022-01-14T18:08:42.578Z"
   },
   {
    "duration": 9,
    "start_time": "2022-01-14T18:08:42.600Z"
   },
   {
    "duration": 59,
    "start_time": "2022-01-14T18:08:42.611Z"
   },
   {
    "duration": 16,
    "start_time": "2022-01-14T18:08:42.672Z"
   },
   {
    "duration": 84,
    "start_time": "2022-01-14T18:08:42.690Z"
   },
   {
    "duration": 96,
    "start_time": "2022-01-14T18:08:42.777Z"
   },
   {
    "duration": 304,
    "start_time": "2022-01-14T18:09:18.445Z"
   },
   {
    "duration": 51,
    "start_time": "2022-01-14T18:09:19.807Z"
   },
   {
    "duration": 4056,
    "start_time": "2022-01-14T18:09:22.967Z"
   },
   {
    "duration": 99,
    "start_time": "2022-01-14T18:09:27.026Z"
   },
   {
    "duration": 639,
    "start_time": "2022-01-14T18:09:27.128Z"
   },
   {
    "duration": 21,
    "start_time": "2022-01-14T18:09:27.770Z"
   },
   {
    "duration": 7,
    "start_time": "2022-01-14T18:09:27.793Z"
   },
   {
    "duration": 11,
    "start_time": "2022-01-14T18:09:27.802Z"
   },
   {
    "duration": 60,
    "start_time": "2022-01-14T18:09:27.815Z"
   },
   {
    "duration": 10,
    "start_time": "2022-01-14T18:09:27.879Z"
   },
   {
    "duration": 19,
    "start_time": "2022-01-14T18:09:27.892Z"
   },
   {
    "duration": 60,
    "start_time": "2022-01-14T18:09:27.913Z"
   },
   {
    "duration": 24,
    "start_time": "2022-01-14T18:09:27.976Z"
   },
   {
    "duration": 12,
    "start_time": "2022-01-14T18:09:28.003Z"
   },
   {
    "duration": 62,
    "start_time": "2022-01-14T18:09:28.018Z"
   },
   {
    "duration": 15,
    "start_time": "2022-01-14T18:09:28.083Z"
   },
   {
    "duration": 77,
    "start_time": "2022-01-14T18:09:28.100Z"
   },
   {
    "duration": 96,
    "start_time": "2022-01-14T18:09:28.180Z"
   },
   {
    "duration": 319,
    "start_time": "2022-01-14T18:37:10.201Z"
   },
   {
    "duration": 285,
    "start_time": "2022-01-14T18:38:48.249Z"
   },
   {
    "duration": 287,
    "start_time": "2022-01-14T18:38:57.610Z"
   },
   {
    "duration": 7674,
    "start_time": "2022-01-14T18:39:01.957Z"
   },
   {
    "duration": 279,
    "start_time": "2022-01-14T18:41:57.224Z"
   },
   {
    "duration": 4787,
    "start_time": "2022-01-14T18:42:08.333Z"
   },
   {
    "duration": 106,
    "start_time": "2022-01-14T18:42:13.123Z"
   },
   {
    "duration": 664,
    "start_time": "2022-01-14T18:42:13.232Z"
   },
   {
    "duration": 64,
    "start_time": "2022-01-14T18:42:13.900Z"
   },
   {
    "duration": 7,
    "start_time": "2022-01-14T18:42:13.968Z"
   },
   {
    "duration": 13,
    "start_time": "2022-01-14T18:42:13.978Z"
   },
   {
    "duration": 15,
    "start_time": "2022-01-14T18:42:13.993Z"
   },
   {
    "duration": 56,
    "start_time": "2022-01-14T18:42:14.010Z"
   },
   {
    "duration": 21,
    "start_time": "2022-01-14T18:42:14.070Z"
   },
   {
    "duration": 25,
    "start_time": "2022-01-14T18:42:14.094Z"
   },
   {
    "duration": 55,
    "start_time": "2022-01-14T18:42:14.122Z"
   },
   {
    "duration": 10,
    "start_time": "2022-01-14T18:42:14.180Z"
   },
   {
    "duration": 28,
    "start_time": "2022-01-14T18:42:14.193Z"
   },
   {
    "duration": 48,
    "start_time": "2022-01-14T18:42:14.223Z"
   },
   {
    "duration": 54,
    "start_time": "2022-01-14T18:42:14.274Z"
   },
   {
    "duration": 312,
    "start_time": "2022-01-14T18:42:14.331Z"
   },
   {
    "duration": 296,
    "start_time": "2022-01-14T18:42:43.161Z"
   },
   {
    "duration": 22,
    "start_time": "2022-01-14T18:43:56.261Z"
   },
   {
    "duration": 12,
    "start_time": "2022-01-14T18:44:17.442Z"
   },
   {
    "duration": 12,
    "start_time": "2022-01-14T18:44:42.764Z"
   },
   {
    "duration": 18,
    "start_time": "2022-01-14T19:04:18.180Z"
   },
   {
    "duration": 284,
    "start_time": "2022-01-14T19:07:03.136Z"
   },
   {
    "duration": 854,
    "start_time": "2022-01-14T19:07:16.890Z"
   },
   {
    "duration": 3590,
    "start_time": "2022-01-14T19:09:02.474Z"
   },
   {
    "duration": 849,
    "start_time": "2022-01-14T19:09:18.334Z"
   },
   {
    "duration": 285,
    "start_time": "2022-01-14T19:10:51.238Z"
   },
   {
    "duration": 353,
    "start_time": "2022-01-14T19:11:09.066Z"
   },
   {
    "duration": 837,
    "start_time": "2022-01-14T19:11:16.327Z"
   },
   {
    "duration": 23,
    "start_time": "2022-01-14T19:11:24.148Z"
   },
   {
    "duration": 534,
    "start_time": "2022-01-14T19:12:33.555Z"
   },
   {
    "duration": 296,
    "start_time": "2022-01-14T19:14:04.970Z"
   },
   {
    "duration": 4107,
    "start_time": "2022-01-14T19:14:12.576Z"
   },
   {
    "duration": 111,
    "start_time": "2022-01-14T19:14:16.686Z"
   },
   {
    "duration": 592,
    "start_time": "2022-01-14T19:14:16.800Z"
   },
   {
    "duration": 22,
    "start_time": "2022-01-14T19:14:17.395Z"
   },
   {
    "duration": 6,
    "start_time": "2022-01-14T19:14:17.464Z"
   },
   {
    "duration": 12,
    "start_time": "2022-01-14T19:14:17.474Z"
   },
   {
    "duration": 15,
    "start_time": "2022-01-14T19:14:17.488Z"
   },
   {
    "duration": 10,
    "start_time": "2022-01-14T19:14:17.507Z"
   },
   {
    "duration": 61,
    "start_time": "2022-01-14T19:14:17.520Z"
   },
   {
    "duration": 21,
    "start_time": "2022-01-14T19:14:17.583Z"
   },
   {
    "duration": 23,
    "start_time": "2022-01-14T19:14:17.606Z"
   },
   {
    "duration": 10,
    "start_time": "2022-01-14T19:14:17.662Z"
   },
   {
    "duration": 26,
    "start_time": "2022-01-14T19:14:17.675Z"
   },
   {
    "duration": 14,
    "start_time": "2022-01-14T19:14:17.703Z"
   },
   {
    "duration": 84,
    "start_time": "2022-01-14T19:14:17.720Z"
   },
   {
    "duration": 10,
    "start_time": "2022-01-14T19:14:17.806Z"
   },
   {
    "duration": 419,
    "start_time": "2022-01-14T19:14:17.819Z"
   },
   {
    "duration": 423,
    "start_time": "2022-01-14T19:15:16.857Z"
   },
   {
    "duration": 414,
    "start_time": "2022-01-14T19:15:39.284Z"
   },
   {
    "duration": 430,
    "start_time": "2022-01-14T19:16:25.169Z"
   },
   {
    "duration": 405,
    "start_time": "2022-01-14T19:16:33.734Z"
   },
   {
    "duration": 17,
    "start_time": "2022-01-14T19:24:03.181Z"
   },
   {
    "duration": 24,
    "start_time": "2022-01-14T19:24:13.840Z"
   },
   {
    "duration": 26,
    "start_time": "2022-01-14T19:24:34.788Z"
   },
   {
    "duration": 21,
    "start_time": "2022-01-14T19:24:56.985Z"
   },
   {
    "duration": 22,
    "start_time": "2022-01-14T19:25:00.850Z"
   },
   {
    "duration": 23,
    "start_time": "2022-01-14T19:25:12.512Z"
   },
   {
    "duration": 30,
    "start_time": "2022-01-14T19:25:24.912Z"
   },
   {
    "duration": 24,
    "start_time": "2022-01-14T19:25:33.137Z"
   },
   {
    "duration": 21,
    "start_time": "2022-01-14T19:25:43.668Z"
   },
   {
    "duration": 21,
    "start_time": "2022-01-14T19:26:37.562Z"
   },
   {
    "duration": 96,
    "start_time": "2022-01-14T19:26:48.240Z"
   },
   {
    "duration": 101,
    "start_time": "2022-01-14T19:26:59.325Z"
   },
   {
    "duration": 21,
    "start_time": "2022-01-14T19:27:09.336Z"
   },
   {
    "duration": 21,
    "start_time": "2022-01-14T19:27:29.743Z"
   },
   {
    "duration": 365,
    "start_time": "2022-01-15T09:52:33.640Z"
   },
   {
    "duration": 12225,
    "start_time": "2022-01-15T09:52:37.648Z"
   },
   {
    "duration": 133,
    "start_time": "2022-01-15T09:52:49.878Z"
   },
   {
    "duration": 691,
    "start_time": "2022-01-15T09:52:50.015Z"
   },
   {
    "duration": 70,
    "start_time": "2022-01-15T09:52:50.709Z"
   },
   {
    "duration": 6,
    "start_time": "2022-01-15T09:52:50.781Z"
   },
   {
    "duration": 10,
    "start_time": "2022-01-15T09:52:50.789Z"
   },
   {
    "duration": 14,
    "start_time": "2022-01-15T09:52:50.801Z"
   },
   {
    "duration": 51,
    "start_time": "2022-01-15T09:52:50.818Z"
   },
   {
    "duration": 23,
    "start_time": "2022-01-15T09:52:50.874Z"
   },
   {
    "duration": 20,
    "start_time": "2022-01-15T09:52:50.901Z"
   },
   {
    "duration": 52,
    "start_time": "2022-01-15T09:52:50.923Z"
   },
   {
    "duration": 13,
    "start_time": "2022-01-15T09:52:50.978Z"
   },
   {
    "duration": 28,
    "start_time": "2022-01-15T09:52:50.994Z"
   },
   {
    "duration": 51,
    "start_time": "2022-01-15T09:52:51.024Z"
   },
   {
    "duration": 55,
    "start_time": "2022-01-15T09:52:51.079Z"
   },
   {
    "duration": 34,
    "start_time": "2022-01-15T09:52:51.137Z"
   },
   {
    "duration": 452,
    "start_time": "2022-01-15T09:52:51.175Z"
   },
   {
    "duration": 36,
    "start_time": "2022-01-15T09:52:51.629Z"
   },
   {
    "duration": 18,
    "start_time": "2022-01-15T10:12:31.662Z"
   },
   {
    "duration": 14,
    "start_time": "2022-01-15T10:12:37.748Z"
   },
   {
    "duration": 20,
    "start_time": "2022-01-15T10:13:14.678Z"
   },
   {
    "duration": 574,
    "start_time": "2022-01-15T10:13:33.297Z"
   },
   {
    "duration": 89,
    "start_time": "2022-01-15T10:16:10.115Z"
   },
   {
    "duration": 83,
    "start_time": "2022-01-15T10:31:53.634Z"
   },
   {
    "duration": 894,
    "start_time": "2022-01-15T10:58:26.824Z"
   },
   {
    "duration": 788,
    "start_time": "2022-01-15T11:02:58.232Z"
   },
   {
    "duration": 859,
    "start_time": "2022-01-15T11:03:18.465Z"
   },
   {
    "duration": 885,
    "start_time": "2022-01-15T11:05:34.492Z"
   },
   {
    "duration": 817,
    "start_time": "2022-01-15T11:07:54.857Z"
   },
   {
    "duration": 896,
    "start_time": "2022-01-15T11:08:27.129Z"
   },
   {
    "duration": 893,
    "start_time": "2022-01-15T11:08:43.167Z"
   },
   {
    "duration": 1087,
    "start_time": "2022-01-15T11:08:54.092Z"
   },
   {
    "duration": 1015,
    "start_time": "2022-01-15T11:15:01.042Z"
   },
   {
    "duration": 1008,
    "start_time": "2022-01-15T11:15:11.320Z"
   },
   {
    "duration": 1051,
    "start_time": "2022-01-15T11:15:28.687Z"
   },
   {
    "duration": 1122,
    "start_time": "2022-01-15T11:17:42.002Z"
   },
   {
    "duration": 1039,
    "start_time": "2022-01-15T11:19:28.770Z"
   },
   {
    "duration": 1087,
    "start_time": "2022-01-15T11:20:21.862Z"
   },
   {
    "duration": 1301,
    "start_time": "2022-01-15T11:20:32.149Z"
   },
   {
    "duration": 988,
    "start_time": "2022-01-15T11:20:56.376Z"
   },
   {
    "duration": 1040,
    "start_time": "2022-01-15T11:21:55.047Z"
   },
   {
    "duration": 349,
    "start_time": "2022-01-15T11:57:40.873Z"
   },
   {
    "duration": 347,
    "start_time": "2022-01-15T11:59:08.034Z"
   },
   {
    "duration": 928,
    "start_time": "2022-01-15T12:03:07.698Z"
   },
   {
    "duration": 1102,
    "start_time": "2022-01-15T12:04:45.632Z"
   },
   {
    "duration": 30,
    "start_time": "2022-01-15T12:05:12.261Z"
   },
   {
    "duration": 51,
    "start_time": "2022-01-15T12:06:20.930Z"
   },
   {
    "duration": 134,
    "start_time": "2022-01-15T12:07:16.489Z"
   },
   {
    "duration": 77,
    "start_time": "2022-01-15T12:14:43.516Z"
   },
   {
    "duration": 10,
    "start_time": "2022-01-15T12:14:56.031Z"
   },
   {
    "duration": 16,
    "start_time": "2022-01-15T12:15:05.934Z"
   },
   {
    "duration": 54,
    "start_time": "2022-01-15T12:15:49.238Z"
   },
   {
    "duration": 30,
    "start_time": "2022-01-15T12:16:20.488Z"
   },
   {
    "duration": 1725,
    "start_time": "2022-01-15T12:19:27.638Z"
   },
   {
    "duration": 97,
    "start_time": "2022-01-15T13:31:12.255Z"
   },
   {
    "duration": 604,
    "start_time": "2022-01-15T13:31:22.520Z"
   },
   {
    "duration": 48,
    "start_time": "2022-01-15T13:31:44.302Z"
   },
   {
    "duration": 7,
    "start_time": "2022-01-15T13:38:26.496Z"
   },
   {
    "duration": 372,
    "start_time": "2022-01-15T13:41:04.473Z"
   },
   {
    "duration": 21,
    "start_time": "2022-01-15T13:41:18.511Z"
   },
   {
    "duration": 20,
    "start_time": "2022-01-15T13:41:47.315Z"
   },
   {
    "duration": 27,
    "start_time": "2022-01-15T13:42:58.165Z"
   },
   {
    "duration": 547,
    "start_time": "2022-01-15T13:46:37.322Z"
   },
   {
    "duration": 529,
    "start_time": "2022-01-15T13:46:43.304Z"
   },
   {
    "duration": 41,
    "start_time": "2022-01-15T13:46:48.809Z"
   },
   {
    "duration": 45,
    "start_time": "2022-01-15T13:47:05.931Z"
   },
   {
    "duration": 42,
    "start_time": "2022-01-15T13:47:21.644Z"
   },
   {
    "duration": 40,
    "start_time": "2022-01-15T13:47:44.817Z"
   },
   {
    "duration": 40,
    "start_time": "2022-01-15T13:47:52.118Z"
   },
   {
    "duration": 337,
    "start_time": "2022-01-15T13:48:33.159Z"
   },
   {
    "duration": 43,
    "start_time": "2022-01-15T13:50:06.109Z"
   },
   {
    "duration": 57,
    "start_time": "2022-01-15T13:50:27.774Z"
   },
   {
    "duration": 55,
    "start_time": "2022-01-15T13:51:57.923Z"
   },
   {
    "duration": 49,
    "start_time": "2022-01-15T13:55:24.474Z"
   },
   {
    "duration": 54,
    "start_time": "2022-01-15T13:55:54.498Z"
   },
   {
    "duration": 50,
    "start_time": "2022-01-15T13:56:48.495Z"
   },
   {
    "duration": 51,
    "start_time": "2022-01-15T14:00:25.692Z"
   },
   {
    "duration": 118,
    "start_time": "2022-01-15T14:01:49.278Z"
   },
   {
    "duration": 53,
    "start_time": "2022-01-15T14:03:37.000Z"
   },
   {
    "duration": 16,
    "start_time": "2022-01-15T15:03:02.816Z"
   },
   {
    "duration": 23,
    "start_time": "2022-01-15T15:04:17.080Z"
   },
   {
    "duration": 19,
    "start_time": "2022-01-15T15:05:38.159Z"
   },
   {
    "duration": 17,
    "start_time": "2022-01-15T15:08:20.644Z"
   },
   {
    "duration": 18,
    "start_time": "2022-01-15T15:10:05.451Z"
   },
   {
    "duration": 4023,
    "start_time": "2022-01-15T15:39:28.912Z"
   },
   {
    "duration": 104,
    "start_time": "2022-01-15T15:39:32.938Z"
   },
   {
    "duration": 628,
    "start_time": "2022-01-15T15:39:33.045Z"
   },
   {
    "duration": 22,
    "start_time": "2022-01-15T15:39:33.676Z"
   },
   {
    "duration": 9,
    "start_time": "2022-01-15T15:39:33.700Z"
   },
   {
    "duration": 53,
    "start_time": "2022-01-15T15:39:33.711Z"
   },
   {
    "duration": 14,
    "start_time": "2022-01-15T15:39:33.766Z"
   },
   {
    "duration": 10,
    "start_time": "2022-01-15T15:39:33.783Z"
   },
   {
    "duration": 18,
    "start_time": "2022-01-15T15:39:33.797Z"
   },
   {
    "duration": 53,
    "start_time": "2022-01-15T15:39:33.819Z"
   },
   {
    "duration": 24,
    "start_time": "2022-01-15T15:39:33.875Z"
   },
   {
    "duration": 10,
    "start_time": "2022-01-15T15:39:33.902Z"
   },
   {
    "duration": 61,
    "start_time": "2022-01-15T15:39:33.915Z"
   },
   {
    "duration": 16,
    "start_time": "2022-01-15T15:39:33.979Z"
   },
   {
    "duration": 89,
    "start_time": "2022-01-15T15:39:33.998Z"
   },
   {
    "duration": 12,
    "start_time": "2022-01-15T15:39:34.090Z"
   },
   {
    "duration": 423,
    "start_time": "2022-01-15T15:39:34.104Z"
   },
   {
    "duration": 1056,
    "start_time": "2022-01-15T15:39:34.529Z"
   },
   {
    "duration": 48,
    "start_time": "2022-01-15T15:39:35.587Z"
   },
   {
    "duration": 39,
    "start_time": "2022-01-15T15:39:35.638Z"
   },
   {
    "duration": 49,
    "start_time": "2022-01-15T15:39:35.680Z"
   },
   {
    "duration": 80,
    "start_time": "2022-01-15T15:39:35.731Z"
   },
   {
    "duration": 78,
    "start_time": "2022-01-15T15:39:35.813Z"
   },
   {
    "duration": 20,
    "start_time": "2022-01-15T15:39:35.894Z"
   },
   {
    "duration": 51,
    "start_time": "2022-01-15T15:39:35.916Z"
   },
   {
    "duration": 3,
    "start_time": "2022-01-18T12:53:22.082Z"
   },
   {
    "duration": 342,
    "start_time": "2022-01-18T12:53:39.907Z"
   },
   {
    "duration": 8306,
    "start_time": "2022-01-18T12:53:44.607Z"
   },
   {
    "duration": 59,
    "start_time": "2022-01-18T12:53:52.915Z"
   },
   {
    "duration": 292,
    "start_time": "2022-01-18T12:53:52.976Z"
   },
   {
    "duration": 3,
    "start_time": "2022-01-18T12:53:53.270Z"
   },
   {
    "duration": 56,
    "start_time": "2022-01-18T12:53:53.274Z"
   },
   {
    "duration": 11,
    "start_time": "2022-01-18T12:53:53.332Z"
   },
   {
    "duration": 8,
    "start_time": "2022-01-18T12:53:53.345Z"
   },
   {
    "duration": 12,
    "start_time": "2022-01-18T12:53:53.356Z"
   },
   {
    "duration": 11,
    "start_time": "2022-01-18T12:53:53.371Z"
   },
   {
    "duration": 44,
    "start_time": "2022-01-18T12:53:53.384Z"
   },
   {
    "duration": 7,
    "start_time": "2022-01-18T12:53:53.430Z"
   },
   {
    "duration": 14,
    "start_time": "2022-01-18T12:53:53.439Z"
   },
   {
    "duration": 9,
    "start_time": "2022-01-18T12:53:53.455Z"
   },
   {
    "duration": 30,
    "start_time": "2022-01-18T12:53:53.466Z"
   },
   {
    "duration": 7,
    "start_time": "2022-01-18T12:53:53.527Z"
   },
   {
    "duration": 223,
    "start_time": "2022-01-18T12:53:53.536Z"
   },
   {
    "duration": 684,
    "start_time": "2022-01-18T12:53:53.761Z"
   },
   {
    "duration": 28,
    "start_time": "2022-01-18T12:53:54.447Z"
   },
   {
    "duration": 12,
    "start_time": "2022-01-18T12:53:54.477Z"
   },
   {
    "duration": 51,
    "start_time": "2022-01-18T12:53:54.490Z"
   },
   {
    "duration": 29,
    "start_time": "2022-01-18T12:53:54.543Z"
   },
   {
    "duration": 55,
    "start_time": "2022-01-18T12:53:54.573Z"
   },
   {
    "duration": 11,
    "start_time": "2022-01-18T12:53:54.631Z"
   },
   {
    "duration": 11,
    "start_time": "2022-01-18T12:53:54.644Z"
   },
   {
    "duration": 7,
    "start_time": "2022-01-18T12:55:57.037Z"
   },
   {
    "duration": 2660,
    "start_time": "2022-01-18T12:56:07.779Z"
   },
   {
    "duration": 57,
    "start_time": "2022-01-18T12:56:10.441Z"
   },
   {
    "duration": 353,
    "start_time": "2022-01-18T12:56:10.500Z"
   },
   {
    "duration": 3,
    "start_time": "2022-01-18T12:56:10.855Z"
   },
   {
    "duration": 8,
    "start_time": "2022-01-18T12:56:10.859Z"
   },
   {
    "duration": 11,
    "start_time": "2022-01-18T12:56:10.868Z"
   },
   {
    "duration": 46,
    "start_time": "2022-01-18T12:56:10.881Z"
   },
   {
    "duration": 12,
    "start_time": "2022-01-18T12:56:10.928Z"
   },
   {
    "duration": 10,
    "start_time": "2022-01-18T12:56:10.943Z"
   },
   {
    "duration": 15,
    "start_time": "2022-01-18T12:56:10.955Z"
   },
   {
    "duration": 5,
    "start_time": "2022-01-18T12:56:10.972Z"
   },
   {
    "duration": 13,
    "start_time": "2022-01-18T12:56:10.979Z"
   },
   {
    "duration": 33,
    "start_time": "2022-01-18T12:56:10.994Z"
   },
   {
    "duration": 29,
    "start_time": "2022-01-18T12:56:11.029Z"
   },
   {
    "duration": 6,
    "start_time": "2022-01-18T12:56:11.060Z"
   },
   {
    "duration": 234,
    "start_time": "2022-01-18T12:56:11.067Z"
   },
   {
    "duration": 729,
    "start_time": "2022-01-18T12:56:11.303Z"
   },
   {
    "duration": 25,
    "start_time": "2022-01-18T12:56:12.034Z"
   },
   {
    "duration": 11,
    "start_time": "2022-01-18T12:56:12.060Z"
   },
   {
    "duration": 27,
    "start_time": "2022-01-18T12:56:12.072Z"
   },
   {
    "duration": 53,
    "start_time": "2022-01-18T12:56:12.100Z"
   },
   {
    "duration": 27,
    "start_time": "2022-01-18T12:56:12.154Z"
   },
   {
    "duration": 11,
    "start_time": "2022-01-18T12:56:12.183Z"
   },
   {
    "duration": 39,
    "start_time": "2022-01-18T12:56:12.195Z"
   },
   {
    "duration": 385,
    "start_time": "2022-01-18T13:12:54.992Z"
   },
   {
    "duration": 8267,
    "start_time": "2022-01-18T13:13:34.265Z"
   },
   {
    "duration": 363,
    "start_time": "2022-01-18T13:13:57.591Z"
   },
   {
    "duration": 32,
    "start_time": "2022-01-18T13:14:11.459Z"
   },
   {
    "duration": 9466,
    "start_time": "2022-01-18T13:14:51.488Z"
   },
   {
    "duration": 535,
    "start_time": "2022-01-18T13:15:05.263Z"
   },
   {
    "duration": 3,
    "start_time": "2022-01-18T13:16:36.450Z"
   },
   {
    "duration": 324,
    "start_time": "2022-01-18T13:18:09.715Z"
   },
   {
    "duration": 419,
    "start_time": "2022-01-18T13:18:48.988Z"
   },
   {
    "duration": 6,
    "start_time": "2022-01-18T13:19:00.118Z"
   },
   {
    "duration": 13,
    "start_time": "2022-01-18T13:19:07.519Z"
   },
   {
    "duration": 2677,
    "start_time": "2022-01-18T13:19:31.522Z"
   },
   {
    "duration": 61,
    "start_time": "2022-01-18T13:19:34.201Z"
   },
   {
    "duration": 301,
    "start_time": "2022-01-18T13:19:34.264Z"
   },
   {
    "duration": 3,
    "start_time": "2022-01-18T13:19:34.567Z"
   },
   {
    "duration": 56,
    "start_time": "2022-01-18T13:19:34.572Z"
   },
   {
    "duration": 17,
    "start_time": "2022-01-18T13:19:34.630Z"
   },
   {
    "duration": 13,
    "start_time": "2022-01-18T13:19:34.648Z"
   },
   {
    "duration": 12,
    "start_time": "2022-01-18T13:19:34.664Z"
   },
   {
    "duration": 2,
    "start_time": "2022-01-18T13:19:34.678Z"
   },
   {
    "duration": 15,
    "start_time": "2022-01-18T13:19:34.682Z"
   },
   {
    "duration": 12,
    "start_time": "2022-01-18T13:19:34.699Z"
   },
   {
    "duration": 19,
    "start_time": "2022-01-18T13:19:34.712Z"
   },
   {
    "duration": 323,
    "start_time": "2022-01-18T13:19:34.732Z"
   },
   {
    "duration": -1667,
    "start_time": "2022-01-18T13:19:36.724Z"
   },
   {
    "duration": -1679,
    "start_time": "2022-01-18T13:19:36.737Z"
   },
   {
    "duration": -1686,
    "start_time": "2022-01-18T13:19:36.745Z"
   },
   {
    "duration": -1696,
    "start_time": "2022-01-18T13:19:36.755Z"
   },
   {
    "duration": -1706,
    "start_time": "2022-01-18T13:19:36.766Z"
   },
   {
    "duration": -1711,
    "start_time": "2022-01-18T13:19:36.772Z"
   },
   {
    "duration": -1717,
    "start_time": "2022-01-18T13:19:36.779Z"
   },
   {
    "duration": -1749,
    "start_time": "2022-01-18T13:19:36.811Z"
   },
   {
    "duration": -1782,
    "start_time": "2022-01-18T13:19:36.845Z"
   },
   {
    "duration": -1783,
    "start_time": "2022-01-18T13:19:36.848Z"
   },
   {
    "duration": -1788,
    "start_time": "2022-01-18T13:19:36.853Z"
   },
   {
    "duration": -1794,
    "start_time": "2022-01-18T13:19:36.860Z"
   },
   {
    "duration": 13,
    "start_time": "2022-01-18T13:54:05.588Z"
   },
   {
    "duration": 2776,
    "start_time": "2022-01-18T13:54:09.416Z"
   },
   {
    "duration": 90,
    "start_time": "2022-01-18T13:54:12.195Z"
   },
   {
    "duration": 450,
    "start_time": "2022-01-18T13:54:12.288Z"
   },
   {
    "duration": 4,
    "start_time": "2022-01-18T13:54:12.740Z"
   },
   {
    "duration": 10,
    "start_time": "2022-01-18T13:54:12.746Z"
   },
   {
    "duration": 17,
    "start_time": "2022-01-18T13:54:12.758Z"
   },
   {
    "duration": 10,
    "start_time": "2022-01-18T13:54:12.777Z"
   },
   {
    "duration": 43,
    "start_time": "2022-01-18T13:54:12.790Z"
   },
   {
    "duration": 2,
    "start_time": "2022-01-18T13:54:12.835Z"
   },
   {
    "duration": 30,
    "start_time": "2022-01-18T13:54:12.839Z"
   },
   {
    "duration": 13,
    "start_time": "2022-01-18T13:54:12.870Z"
   },
   {
    "duration": 5,
    "start_time": "2022-01-18T13:54:12.884Z"
   },
   {
    "duration": 16,
    "start_time": "2022-01-18T13:54:12.891Z"
   },
   {
    "duration": 27,
    "start_time": "2022-01-18T13:54:12.909Z"
   },
   {
    "duration": 30,
    "start_time": "2022-01-18T13:54:12.937Z"
   },
   {
    "duration": 8,
    "start_time": "2022-01-18T13:54:12.968Z"
   },
   {
    "duration": 238,
    "start_time": "2022-01-18T13:54:12.978Z"
   },
   {
    "duration": 746,
    "start_time": "2022-01-18T13:54:13.217Z"
   },
   {
    "duration": 27,
    "start_time": "2022-01-18T13:54:13.965Z"
   },
   {
    "duration": 13,
    "start_time": "2022-01-18T13:54:13.993Z"
   },
   {
    "duration": 28,
    "start_time": "2022-01-18T13:54:14.028Z"
   },
   {
    "duration": 29,
    "start_time": "2022-01-18T13:54:14.058Z"
   },
   {
    "duration": 70,
    "start_time": "2022-01-18T13:54:14.091Z"
   },
   {
    "duration": 16,
    "start_time": "2022-01-18T13:54:14.163Z"
   },
   {
    "duration": 10,
    "start_time": "2022-01-18T13:54:14.181Z"
   },
   {
    "duration": 177,
    "start_time": "2022-01-18T14:01:57.914Z"
   },
   {
    "duration": 301,
    "start_time": "2022-01-18T14:02:14.375Z"
   },
   {
    "duration": 327,
    "start_time": "2022-01-18T14:15:10.955Z"
   },
   {
    "duration": 120,
    "start_time": "2022-01-18T14:15:46.046Z"
   },
   {
    "duration": 339,
    "start_time": "2022-01-18T14:15:54.107Z"
   },
   {
    "duration": 106,
    "start_time": "2022-01-18T14:16:15.904Z"
   },
   {
    "duration": 7828,
    "start_time": "2022-01-18T14:16:19.561Z"
   },
   {
    "duration": 428,
    "start_time": "2022-01-18T14:16:38.939Z"
   },
   {
    "duration": 499,
    "start_time": "2022-01-18T14:17:11.047Z"
   },
   {
    "duration": 343,
    "start_time": "2022-01-18T14:17:50.450Z"
   },
   {
    "duration": 338,
    "start_time": "2022-01-18T14:18:05.516Z"
   },
   {
    "duration": 331,
    "start_time": "2022-01-18T14:18:35.344Z"
   },
   {
    "duration": 388,
    "start_time": "2022-01-18T14:18:44.889Z"
   },
   {
    "duration": 494,
    "start_time": "2022-01-18T14:19:08.427Z"
   },
   {
    "duration": 146,
    "start_time": "2022-01-18T14:19:26.275Z"
   },
   {
    "duration": 192,
    "start_time": "2022-01-18T14:20:59.726Z"
   },
   {
    "duration": 193,
    "start_time": "2022-01-18T14:22:04.678Z"
   },
   {
    "duration": 594,
    "start_time": "2022-01-18T14:22:25.689Z"
   },
   {
    "duration": 576,
    "start_time": "2022-01-18T14:23:05.666Z"
   },
   {
    "duration": 457,
    "start_time": "2022-01-18T14:23:15.908Z"
   },
   {
    "duration": 184,
    "start_time": "2022-01-18T14:23:40.272Z"
   },
   {
    "duration": 323,
    "start_time": "2022-01-18T14:24:20.052Z"
   },
   {
    "duration": 188,
    "start_time": "2022-01-18T14:24:33.321Z"
   },
   {
    "duration": 195,
    "start_time": "2022-01-18T14:25:27.196Z"
   },
   {
    "duration": 2695,
    "start_time": "2022-01-18T14:26:33.596Z"
   },
   {
    "duration": 54,
    "start_time": "2022-01-18T14:26:36.293Z"
   },
   {
    "duration": 309,
    "start_time": "2022-01-18T14:26:36.349Z"
   },
   {
    "duration": 4,
    "start_time": "2022-01-18T14:26:36.660Z"
   },
   {
    "duration": 21,
    "start_time": "2022-01-18T14:26:36.666Z"
   },
   {
    "duration": 40,
    "start_time": "2022-01-18T14:26:36.689Z"
   },
   {
    "duration": 22,
    "start_time": "2022-01-18T14:26:36.730Z"
   },
   {
    "duration": 17,
    "start_time": "2022-01-18T14:26:36.753Z"
   },
   {
    "duration": 9,
    "start_time": "2022-01-18T14:26:36.773Z"
   },
   {
    "duration": 26,
    "start_time": "2022-01-18T14:26:36.784Z"
   },
   {
    "duration": 21,
    "start_time": "2022-01-18T14:26:36.812Z"
   },
   {
    "duration": 11,
    "start_time": "2022-01-18T14:26:36.835Z"
   },
   {
    "duration": 212,
    "start_time": "2022-01-18T14:26:36.848Z"
   },
   {
    "duration": 9,
    "start_time": "2022-01-18T14:26:37.061Z"
   },
   {
    "duration": 34,
    "start_time": "2022-01-18T14:26:37.072Z"
   },
   {
    "duration": 6,
    "start_time": "2022-01-18T14:26:37.108Z"
   },
   {
    "duration": 226,
    "start_time": "2022-01-18T14:26:37.115Z"
   },
   {
    "duration": 697,
    "start_time": "2022-01-18T14:26:37.342Z"
   },
   {
    "duration": 27,
    "start_time": "2022-01-18T14:26:38.040Z"
   },
   {
    "duration": 16,
    "start_time": "2022-01-18T14:26:38.069Z"
   },
   {
    "duration": 43,
    "start_time": "2022-01-18T14:26:38.086Z"
   },
   {
    "duration": 28,
    "start_time": "2022-01-18T14:26:38.131Z"
   },
   {
    "duration": 29,
    "start_time": "2022-01-18T14:26:38.160Z"
   },
   {
    "duration": 37,
    "start_time": "2022-01-18T14:26:38.191Z"
   },
   {
    "duration": 11,
    "start_time": "2022-01-18T14:26:38.229Z"
   },
   {
    "duration": 154,
    "start_time": "2022-01-18T14:27:16.426Z"
   },
   {
    "duration": 143,
    "start_time": "2022-01-18T14:28:32.550Z"
   },
   {
    "duration": 312,
    "start_time": "2022-01-18T14:28:43.567Z"
   },
   {
    "duration": 227,
    "start_time": "2022-01-18T14:29:03.919Z"
   },
   {
    "duration": 2724,
    "start_time": "2022-01-18T14:29:23.511Z"
   },
   {
    "duration": 56,
    "start_time": "2022-01-18T14:29:26.236Z"
   },
   {
    "duration": 348,
    "start_time": "2022-01-18T14:29:26.294Z"
   },
   {
    "duration": 3,
    "start_time": "2022-01-18T14:29:26.644Z"
   },
   {
    "duration": 13,
    "start_time": "2022-01-18T14:29:26.649Z"
   },
   {
    "duration": 18,
    "start_time": "2022-01-18T14:29:26.664Z"
   },
   {
    "duration": 34,
    "start_time": "2022-01-18T14:29:26.684Z"
   },
   {
    "duration": 18,
    "start_time": "2022-01-18T14:29:26.720Z"
   },
   {
    "duration": 2,
    "start_time": "2022-01-18T14:29:26.740Z"
   },
   {
    "duration": 15,
    "start_time": "2022-01-18T14:29:26.744Z"
   },
   {
    "duration": 12,
    "start_time": "2022-01-18T14:29:26.761Z"
   },
   {
    "duration": 6,
    "start_time": "2022-01-18T14:29:26.774Z"
   },
   {
    "duration": 178,
    "start_time": "2022-01-18T14:29:26.782Z"
   },
   {
    "duration": 9,
    "start_time": "2022-01-18T14:29:26.961Z"
   },
   {
    "duration": 29,
    "start_time": "2022-01-18T14:29:26.972Z"
   },
   {
    "duration": 26,
    "start_time": "2022-01-18T14:29:27.003Z"
   },
   {
    "duration": 222,
    "start_time": "2022-01-18T14:29:27.030Z"
   },
   {
    "duration": 707,
    "start_time": "2022-01-18T14:29:27.253Z"
   },
   {
    "duration": 26,
    "start_time": "2022-01-18T14:29:27.962Z"
   },
   {
    "duration": 11,
    "start_time": "2022-01-18T14:29:27.990Z"
   },
   {
    "duration": 48,
    "start_time": "2022-01-18T14:29:28.002Z"
   },
   {
    "duration": 154,
    "start_time": "2022-01-18T14:29:28.052Z"
   },
   {
    "duration": 37,
    "start_time": "2022-01-18T14:29:28.208Z"
   },
   {
    "duration": 11,
    "start_time": "2022-01-18T14:29:28.246Z"
   },
   {
    "duration": 10,
    "start_time": "2022-01-18T14:29:28.259Z"
   },
   {
    "duration": 180,
    "start_time": "2022-01-18T14:30:33.234Z"
   },
   {
    "duration": 2575,
    "start_time": "2022-01-18T14:30:43.493Z"
   },
   {
    "duration": 58,
    "start_time": "2022-01-18T14:30:46.070Z"
   },
   {
    "duration": 328,
    "start_time": "2022-01-18T14:30:46.129Z"
   },
   {
    "duration": 4,
    "start_time": "2022-01-18T14:30:46.458Z"
   },
   {
    "duration": 6,
    "start_time": "2022-01-18T14:30:46.463Z"
   },
   {
    "duration": 10,
    "start_time": "2022-01-18T14:30:46.471Z"
   },
   {
    "duration": 12,
    "start_time": "2022-01-18T14:30:46.526Z"
   },
   {
    "duration": 12,
    "start_time": "2022-01-18T14:30:46.540Z"
   },
   {
    "duration": 2,
    "start_time": "2022-01-18T14:30:46.554Z"
   },
   {
    "duration": 13,
    "start_time": "2022-01-18T14:30:46.558Z"
   },
   {
    "duration": 12,
    "start_time": "2022-01-18T14:30:46.572Z"
   },
   {
    "duration": 6,
    "start_time": "2022-01-18T14:30:46.585Z"
   },
   {
    "duration": 220,
    "start_time": "2022-01-18T14:30:46.592Z"
   },
   {
    "duration": 18,
    "start_time": "2022-01-18T14:30:46.814Z"
   },
   {
    "duration": 28,
    "start_time": "2022-01-18T14:30:46.833Z"
   },
   {
    "duration": 6,
    "start_time": "2022-01-18T14:30:46.863Z"
   },
   {
    "duration": 225,
    "start_time": "2022-01-18T14:30:46.870Z"
   },
   {
    "duration": 744,
    "start_time": "2022-01-18T14:30:47.096Z"
   },
   {
    "duration": 26,
    "start_time": "2022-01-18T14:30:47.842Z"
   },
   {
    "duration": 12,
    "start_time": "2022-01-18T14:30:47.869Z"
   },
   {
    "duration": 51,
    "start_time": "2022-01-18T14:30:47.882Z"
   },
   {
    "duration": 30,
    "start_time": "2022-01-18T14:30:47.934Z"
   },
   {
    "duration": 29,
    "start_time": "2022-01-18T14:30:47.967Z"
   },
   {
    "duration": 37,
    "start_time": "2022-01-18T14:30:47.997Z"
   },
   {
    "duration": 11,
    "start_time": "2022-01-18T14:30:48.035Z"
   },
   {
    "duration": 199,
    "start_time": "2022-01-18T14:31:21.957Z"
   },
   {
    "duration": 205,
    "start_time": "2022-01-18T14:31:34.790Z"
   },
   {
    "duration": 202,
    "start_time": "2022-01-18T14:31:53.146Z"
   },
   {
    "duration": 3242,
    "start_time": "2022-01-18T14:31:57.950Z"
   },
   {
    "duration": 61,
    "start_time": "2022-01-18T14:32:01.194Z"
   },
   {
    "duration": 314,
    "start_time": "2022-01-18T14:32:01.257Z"
   },
   {
    "duration": 4,
    "start_time": "2022-01-18T14:32:01.628Z"
   },
   {
    "duration": 13,
    "start_time": "2022-01-18T14:32:01.633Z"
   },
   {
    "duration": 14,
    "start_time": "2022-01-18T14:32:01.648Z"
   },
   {
    "duration": 16,
    "start_time": "2022-01-18T14:32:01.664Z"
   },
   {
    "duration": 14,
    "start_time": "2022-01-18T14:32:01.682Z"
   },
   {
    "duration": 2,
    "start_time": "2022-01-18T14:32:01.699Z"
   },
   {
    "duration": 24,
    "start_time": "2022-01-18T14:32:01.702Z"
   },
   {
    "duration": 13,
    "start_time": "2022-01-18T14:32:01.727Z"
   },
   {
    "duration": 6,
    "start_time": "2022-01-18T14:32:01.742Z"
   },
   {
    "duration": 229,
    "start_time": "2022-01-18T14:32:01.751Z"
   },
   {
    "duration": 9,
    "start_time": "2022-01-18T14:32:01.982Z"
   },
   {
    "duration": 40,
    "start_time": "2022-01-18T14:32:01.993Z"
   },
   {
    "duration": 7,
    "start_time": "2022-01-18T14:32:02.034Z"
   },
   {
    "duration": 225,
    "start_time": "2022-01-18T14:32:02.042Z"
   },
   {
    "duration": 698,
    "start_time": "2022-01-18T14:32:02.269Z"
   },
   {
    "duration": 27,
    "start_time": "2022-01-18T14:32:02.968Z"
   },
   {
    "duration": 12,
    "start_time": "2022-01-18T14:32:02.996Z"
   },
   {
    "duration": 46,
    "start_time": "2022-01-18T14:32:03.009Z"
   },
   {
    "duration": 29,
    "start_time": "2022-01-18T14:32:03.056Z"
   },
   {
    "duration": 54,
    "start_time": "2022-01-18T14:32:03.086Z"
   },
   {
    "duration": 11,
    "start_time": "2022-01-18T14:32:03.142Z"
   },
   {
    "duration": 10,
    "start_time": "2022-01-18T14:32:03.154Z"
   },
   {
    "duration": 73,
    "start_time": "2022-01-18T14:36:13.345Z"
   },
   {
    "duration": 5,
    "start_time": "2022-01-18T14:36:23.469Z"
   },
   {
    "duration": 4,
    "start_time": "2022-01-18T14:36:39.405Z"
   },
   {
    "duration": 368,
    "start_time": "2022-01-18T14:36:47.686Z"
   },
   {
    "duration": 114,
    "start_time": "2022-01-18T14:38:23.093Z"
   },
   {
    "duration": 4,
    "start_time": "2022-01-18T14:38:25.419Z"
   },
   {
    "duration": 4,
    "start_time": "2022-01-18T14:45:48.442Z"
   },
   {
    "duration": 7,
    "start_time": "2022-01-18T14:53:04.448Z"
   },
   {
    "duration": 5,
    "start_time": "2022-01-18T14:53:35.276Z"
   },
   {
    "duration": 5,
    "start_time": "2022-01-18T14:55:56.174Z"
   },
   {
    "duration": 208,
    "start_time": "2022-01-18T14:57:43.702Z"
   },
   {
    "duration": 211,
    "start_time": "2022-01-18T14:57:58.472Z"
   },
   {
    "duration": 2594,
    "start_time": "2022-01-18T14:58:17.433Z"
   },
   {
    "duration": 55,
    "start_time": "2022-01-18T14:58:20.029Z"
   },
   {
    "duration": 364,
    "start_time": "2022-01-18T14:58:20.085Z"
   },
   {
    "duration": 4,
    "start_time": "2022-01-18T14:58:20.451Z"
   },
   {
    "duration": 8,
    "start_time": "2022-01-18T14:58:20.457Z"
   },
   {
    "duration": 10,
    "start_time": "2022-01-18T14:58:20.466Z"
   },
   {
    "duration": 53,
    "start_time": "2022-01-18T14:58:20.477Z"
   },
   {
    "duration": 13,
    "start_time": "2022-01-18T14:58:20.533Z"
   },
   {
    "duration": 2,
    "start_time": "2022-01-18T14:58:20.548Z"
   },
   {
    "duration": 14,
    "start_time": "2022-01-18T14:58:20.552Z"
   },
   {
    "duration": 12,
    "start_time": "2022-01-18T14:58:20.567Z"
   },
   {
    "duration": 6,
    "start_time": "2022-01-18T14:58:20.580Z"
   },
   {
    "duration": 240,
    "start_time": "2022-01-18T14:58:20.587Z"
   },
   {
    "duration": 11,
    "start_time": "2022-01-18T14:58:20.828Z"
   },
   {
    "duration": 29,
    "start_time": "2022-01-18T14:58:20.840Z"
   },
   {
    "duration": 5,
    "start_time": "2022-01-18T14:58:20.870Z"
   },
   {
    "duration": 7,
    "start_time": "2022-01-18T14:58:20.877Z"
   },
   {
    "duration": 243,
    "start_time": "2022-01-18T14:58:20.886Z"
   },
   {
    "duration": 806,
    "start_time": "2022-01-18T14:58:21.131Z"
   },
   {
    "duration": 26,
    "start_time": "2022-01-18T14:58:21.938Z"
   },
   {
    "duration": 11,
    "start_time": "2022-01-18T14:58:21.965Z"
   },
   {
    "duration": 28,
    "start_time": "2022-01-18T14:58:21.977Z"
   },
   {
    "duration": 29,
    "start_time": "2022-01-18T14:58:22.028Z"
   },
   {
    "duration": 28,
    "start_time": "2022-01-18T14:58:22.058Z"
   },
   {
    "duration": 11,
    "start_time": "2022-01-18T14:58:22.087Z"
   },
   {
    "duration": 11,
    "start_time": "2022-01-18T14:58:22.127Z"
   },
   {
    "duration": 2649,
    "start_time": "2022-01-18T14:58:51.101Z"
   },
   {
    "duration": 58,
    "start_time": "2022-01-18T14:58:53.752Z"
   },
   {
    "duration": 331,
    "start_time": "2022-01-18T14:58:53.812Z"
   },
   {
    "duration": 4,
    "start_time": "2022-01-18T14:58:54.145Z"
   },
   {
    "duration": 6,
    "start_time": "2022-01-18T14:58:54.150Z"
   },
   {
    "duration": 10,
    "start_time": "2022-01-18T14:58:54.158Z"
   },
   {
    "duration": 8,
    "start_time": "2022-01-18T14:58:54.170Z"
   },
   {
    "duration": 50,
    "start_time": "2022-01-18T14:58:54.180Z"
   },
   {
    "duration": 2,
    "start_time": "2022-01-18T14:58:54.232Z"
   },
   {
    "duration": 18,
    "start_time": "2022-01-18T14:58:54.236Z"
   },
   {
    "duration": 17,
    "start_time": "2022-01-18T14:58:54.255Z"
   },
   {
    "duration": 10,
    "start_time": "2022-01-18T14:58:54.274Z"
   },
   {
    "duration": 387,
    "start_time": "2022-01-18T14:58:54.286Z"
   },
   {
    "duration": 54,
    "start_time": "2022-01-18T14:58:54.675Z"
   },
   {
    "duration": 29,
    "start_time": "2022-01-18T14:58:54.731Z"
   },
   {
    "duration": 5,
    "start_time": "2022-01-18T14:58:54.761Z"
   },
   {
    "duration": 10,
    "start_time": "2022-01-18T14:58:54.767Z"
   },
   {
    "duration": 377,
    "start_time": "2022-01-18T14:58:54.778Z"
   },
   {
    "duration": 727,
    "start_time": "2022-01-18T14:58:55.157Z"
   },
   {
    "duration": 26,
    "start_time": "2022-01-18T14:58:55.885Z"
   },
   {
    "duration": 31,
    "start_time": "2022-01-18T14:58:55.912Z"
   },
   {
    "duration": 31,
    "start_time": "2022-01-18T14:58:55.945Z"
   },
   {
    "duration": 27,
    "start_time": "2022-01-18T14:58:55.978Z"
   },
   {
    "duration": 48,
    "start_time": "2022-01-18T14:58:56.006Z"
   },
   {
    "duration": 12,
    "start_time": "2022-01-18T14:58:56.055Z"
   },
   {
    "duration": 11,
    "start_time": "2022-01-18T14:58:56.068Z"
   },
   {
    "duration": 2776,
    "start_time": "2022-01-18T15:00:48.710Z"
   },
   {
    "duration": 57,
    "start_time": "2022-01-18T15:00:51.488Z"
   },
   {
    "duration": 306,
    "start_time": "2022-01-18T15:00:51.546Z"
   },
   {
    "duration": 3,
    "start_time": "2022-01-18T15:00:51.853Z"
   },
   {
    "duration": 6,
    "start_time": "2022-01-18T15:00:51.858Z"
   },
   {
    "duration": 10,
    "start_time": "2022-01-18T15:00:51.865Z"
   },
   {
    "duration": 54,
    "start_time": "2022-01-18T15:00:51.876Z"
   },
   {
    "duration": 12,
    "start_time": "2022-01-18T15:00:51.932Z"
   },
   {
    "duration": 2,
    "start_time": "2022-01-18T15:00:51.946Z"
   },
   {
    "duration": 17,
    "start_time": "2022-01-18T15:00:51.949Z"
   },
   {
    "duration": 13,
    "start_time": "2022-01-18T15:00:51.967Z"
   },
   {
    "duration": 7,
    "start_time": "2022-01-18T15:00:51.981Z"
   },
   {
    "duration": 247,
    "start_time": "2022-01-18T15:00:51.989Z"
   },
   {
    "duration": 10,
    "start_time": "2022-01-18T15:00:52.237Z"
   },
   {
    "duration": 31,
    "start_time": "2022-01-18T15:00:52.248Z"
   },
   {
    "duration": 4,
    "start_time": "2022-01-18T15:00:52.281Z"
   },
   {
    "duration": 8,
    "start_time": "2022-01-18T15:00:52.287Z"
   },
   {
    "duration": 243,
    "start_time": "2022-01-18T15:00:52.296Z"
   },
   {
    "duration": 704,
    "start_time": "2022-01-18T15:00:52.540Z"
   },
   {
    "duration": 28,
    "start_time": "2022-01-18T15:00:53.246Z"
   },
   {
    "duration": 13,
    "start_time": "2022-01-18T15:00:53.276Z"
   },
   {
    "duration": 60,
    "start_time": "2022-01-18T15:00:53.291Z"
   },
   {
    "duration": 29,
    "start_time": "2022-01-18T15:00:53.354Z"
   },
   {
    "duration": 49,
    "start_time": "2022-01-18T15:00:53.384Z"
   },
   {
    "duration": 11,
    "start_time": "2022-01-18T15:00:53.435Z"
   },
   {
    "duration": 11,
    "start_time": "2022-01-18T15:00:53.448Z"
   },
   {
    "duration": 430,
    "start_time": "2022-01-18T15:02:01.788Z"
   },
   {
    "duration": 3574,
    "start_time": "2022-01-18T15:02:18.896Z"
   },
   {
    "duration": 60,
    "start_time": "2022-01-18T15:02:22.472Z"
   },
   {
    "duration": 328,
    "start_time": "2022-01-18T15:02:22.533Z"
   },
   {
    "duration": 3,
    "start_time": "2022-01-18T15:02:22.863Z"
   },
   {
    "duration": 10,
    "start_time": "2022-01-18T15:02:22.867Z"
   },
   {
    "duration": 19,
    "start_time": "2022-01-18T15:02:22.879Z"
   },
   {
    "duration": 32,
    "start_time": "2022-01-18T15:02:22.899Z"
   },
   {
    "duration": 15,
    "start_time": "2022-01-18T15:02:22.933Z"
   },
   {
    "duration": 11,
    "start_time": "2022-01-18T15:02:22.949Z"
   },
   {
    "duration": 23,
    "start_time": "2022-01-18T15:02:22.961Z"
   },
   {
    "duration": 14,
    "start_time": "2022-01-18T15:02:22.986Z"
   },
   {
    "duration": 8,
    "start_time": "2022-01-18T15:02:23.001Z"
   },
   {
    "duration": 258,
    "start_time": "2022-01-18T15:02:23.010Z"
   },
   {
    "duration": 11,
    "start_time": "2022-01-18T15:02:23.270Z"
   },
   {
    "duration": 45,
    "start_time": "2022-01-18T15:02:23.282Z"
   },
   {
    "duration": 5,
    "start_time": "2022-01-18T15:02:23.328Z"
   },
   {
    "duration": 23,
    "start_time": "2022-01-18T15:02:23.335Z"
   },
   {
    "duration": 523,
    "start_time": "2022-01-18T15:02:23.359Z"
   },
   {
    "duration": -1937,
    "start_time": "2022-01-18T15:02:25.821Z"
   },
   {
    "duration": -1940,
    "start_time": "2022-01-18T15:02:25.825Z"
   },
   {
    "duration": -1958,
    "start_time": "2022-01-18T15:02:25.844Z"
   },
   {
    "duration": -1962,
    "start_time": "2022-01-18T15:02:25.849Z"
   },
   {
    "duration": -1965,
    "start_time": "2022-01-18T15:02:25.853Z"
   },
   {
    "duration": -1966,
    "start_time": "2022-01-18T15:02:25.855Z"
   },
   {
    "duration": -1987,
    "start_time": "2022-01-18T15:02:25.877Z"
   },
   {
    "duration": -1989,
    "start_time": "2022-01-18T15:02:25.880Z"
   },
   {
    "duration": 225,
    "start_time": "2022-01-18T15:02:45.806Z"
   },
   {
    "duration": 2790,
    "start_time": "2022-01-18T15:04:17.299Z"
   },
   {
    "duration": 85,
    "start_time": "2022-01-18T15:04:20.091Z"
   },
   {
    "duration": 358,
    "start_time": "2022-01-18T15:04:20.178Z"
   },
   {
    "duration": 4,
    "start_time": "2022-01-18T15:04:20.538Z"
   },
   {
    "duration": 8,
    "start_time": "2022-01-18T15:04:20.543Z"
   },
   {
    "duration": 12,
    "start_time": "2022-01-18T15:04:20.552Z"
   },
   {
    "duration": 11,
    "start_time": "2022-01-18T15:04:20.565Z"
   },
   {
    "duration": 12,
    "start_time": "2022-01-18T15:04:20.577Z"
   },
   {
    "duration": 2,
    "start_time": "2022-01-18T15:04:20.592Z"
   },
   {
    "duration": 50,
    "start_time": "2022-01-18T15:04:20.595Z"
   },
   {
    "duration": 15,
    "start_time": "2022-01-18T15:04:20.647Z"
   },
   {
    "duration": 7,
    "start_time": "2022-01-18T15:04:20.664Z"
   },
   {
    "duration": 225,
    "start_time": "2022-01-18T15:04:20.672Z"
   },
   {
    "duration": 10,
    "start_time": "2022-01-18T15:04:20.898Z"
   },
   {
    "duration": 43,
    "start_time": "2022-01-18T15:04:20.910Z"
   },
   {
    "duration": 7,
    "start_time": "2022-01-18T15:04:20.955Z"
   },
   {
    "duration": 224,
    "start_time": "2022-01-18T15:04:20.963Z"
   },
   {
    "duration": 744,
    "start_time": "2022-01-18T15:04:21.188Z"
   },
   {
    "duration": 27,
    "start_time": "2022-01-18T15:04:21.933Z"
   },
   {
    "duration": 11,
    "start_time": "2022-01-18T15:04:21.962Z"
   },
   {
    "duration": 55,
    "start_time": "2022-01-18T15:04:21.975Z"
   },
   {
    "duration": 29,
    "start_time": "2022-01-18T15:04:22.031Z"
   },
   {
    "duration": 28,
    "start_time": "2022-01-18T15:04:22.062Z"
   },
   {
    "duration": 41,
    "start_time": "2022-01-18T15:04:22.091Z"
   },
   {
    "duration": 12,
    "start_time": "2022-01-18T15:04:22.133Z"
   },
   {
    "duration": 15,
    "start_time": "2022-01-18T16:04:59.706Z"
   },
   {
    "duration": 7977,
    "start_time": "2022-01-18T16:19:29.706Z"
   },
   {
    "duration": 8511,
    "start_time": "2022-01-18T16:19:46.766Z"
   },
   {
    "duration": 200,
    "start_time": "2022-01-18T16:19:56.370Z"
   },
   {
    "duration": 199,
    "start_time": "2022-01-18T16:31:44.317Z"
   },
   {
    "duration": 238,
    "start_time": "2022-01-18T16:36:24.247Z"
   },
   {
    "duration": 8351,
    "start_time": "2022-01-18T16:36:35.176Z"
   },
   {
    "duration": 373,
    "start_time": "2022-01-18T16:37:12.416Z"
   },
   {
    "duration": 219,
    "start_time": "2022-01-18T16:38:41.588Z"
   },
   {
    "duration": 251,
    "start_time": "2022-01-18T16:38:51.876Z"
   },
   {
    "duration": 242,
    "start_time": "2022-01-18T16:40:11.012Z"
   },
   {
    "duration": 424,
    "start_time": "2022-01-18T16:40:57.485Z"
   },
   {
    "duration": 8373,
    "start_time": "2022-01-18T16:42:02.475Z"
   },
   {
    "duration": 301,
    "start_time": "2022-01-18T16:42:16.095Z"
   },
   {
    "duration": 231,
    "start_time": "2022-01-18T16:42:25.433Z"
   },
   {
    "duration": 227,
    "start_time": "2022-01-18T16:42:44.551Z"
   },
   {
    "duration": 2803,
    "start_time": "2022-01-18T16:42:49.287Z"
   },
   {
    "duration": 60,
    "start_time": "2022-01-18T16:42:52.092Z"
   },
   {
    "duration": 307,
    "start_time": "2022-01-18T16:42:52.154Z"
   },
   {
    "duration": 3,
    "start_time": "2022-01-18T16:42:52.463Z"
   },
   {
    "duration": 6,
    "start_time": "2022-01-18T16:42:52.467Z"
   },
   {
    "duration": 55,
    "start_time": "2022-01-18T16:42:52.474Z"
   },
   {
    "duration": 7,
    "start_time": "2022-01-18T16:42:52.530Z"
   },
   {
    "duration": 12,
    "start_time": "2022-01-18T16:42:52.539Z"
   },
   {
    "duration": 2,
    "start_time": "2022-01-18T16:42:52.552Z"
   },
   {
    "duration": 15,
    "start_time": "2022-01-18T16:42:52.556Z"
   },
   {
    "duration": 12,
    "start_time": "2022-01-18T16:42:52.572Z"
   },
   {
    "duration": 7,
    "start_time": "2022-01-18T16:42:52.585Z"
   },
   {
    "duration": 370,
    "start_time": "2022-01-18T16:42:52.593Z"
   },
   {
    "duration": 62,
    "start_time": "2022-01-18T16:42:52.965Z"
   },
   {
    "duration": 29,
    "start_time": "2022-01-18T16:42:53.029Z"
   },
   {
    "duration": 6,
    "start_time": "2022-01-18T16:42:53.060Z"
   },
   {
    "duration": 277,
    "start_time": "2022-01-18T16:42:53.067Z"
   },
   {
    "duration": 718,
    "start_time": "2022-01-18T16:42:53.345Z"
   },
   {
    "duration": 415,
    "start_time": "2022-01-18T16:42:54.065Z"
   },
   {
    "duration": -712,
    "start_time": "2022-01-18T16:42:55.194Z"
   },
   {
    "duration": -714,
    "start_time": "2022-01-18T16:42:55.197Z"
   },
   {
    "duration": -716,
    "start_time": "2022-01-18T16:42:55.200Z"
   },
   {
    "duration": -719,
    "start_time": "2022-01-18T16:42:55.204Z"
   },
   {
    "duration": -721,
    "start_time": "2022-01-18T16:42:55.207Z"
   },
   {
    "duration": -1390,
    "start_time": "2022-01-18T16:42:55.877Z"
   },
   {
    "duration": 164,
    "start_time": "2022-01-18T16:43:28.281Z"
   },
   {
    "duration": 228,
    "start_time": "2022-01-18T16:43:48.069Z"
   },
   {
    "duration": 2617,
    "start_time": "2022-01-18T16:43:57.253Z"
   },
   {
    "duration": 93,
    "start_time": "2022-01-18T16:43:59.872Z"
   },
   {
    "duration": 388,
    "start_time": "2022-01-18T16:43:59.966Z"
   },
   {
    "duration": 4,
    "start_time": "2022-01-18T16:44:00.355Z"
   },
   {
    "duration": 9,
    "start_time": "2022-01-18T16:44:00.361Z"
   },
   {
    "duration": 19,
    "start_time": "2022-01-18T16:44:00.372Z"
   },
   {
    "duration": 35,
    "start_time": "2022-01-18T16:44:00.393Z"
   },
   {
    "duration": 12,
    "start_time": "2022-01-18T16:44:00.430Z"
   },
   {
    "duration": 2,
    "start_time": "2022-01-18T16:44:00.445Z"
   },
   {
    "duration": 14,
    "start_time": "2022-01-18T16:44:00.448Z"
   },
   {
    "duration": 12,
    "start_time": "2022-01-18T16:44:00.463Z"
   },
   {
    "duration": 7,
    "start_time": "2022-01-18T16:44:00.476Z"
   },
   {
    "duration": 313,
    "start_time": "2022-01-18T16:44:00.484Z"
   },
   {
    "duration": 9,
    "start_time": "2022-01-18T16:44:00.798Z"
   },
   {
    "duration": 38,
    "start_time": "2022-01-18T16:44:00.808Z"
   },
   {
    "duration": 7,
    "start_time": "2022-01-18T16:44:00.847Z"
   },
   {
    "duration": 223,
    "start_time": "2022-01-18T16:44:00.855Z"
   },
   {
    "duration": 760,
    "start_time": "2022-01-18T16:44:01.080Z"
   },
   {
    "duration": 353,
    "start_time": "2022-01-18T16:44:01.842Z"
   },
   {
    "duration": -636,
    "start_time": "2022-01-18T16:44:02.833Z"
   },
   {
    "duration": -639,
    "start_time": "2022-01-18T16:44:02.837Z"
   },
   {
    "duration": -641,
    "start_time": "2022-01-18T16:44:02.840Z"
   },
   {
    "duration": -643,
    "start_time": "2022-01-18T16:44:02.843Z"
   },
   {
    "duration": -645,
    "start_time": "2022-01-18T16:44:02.846Z"
   },
   {
    "duration": -649,
    "start_time": "2022-01-18T16:44:02.850Z"
   },
   {
    "duration": 25,
    "start_time": "2022-01-18T16:44:52.790Z"
   },
   {
    "duration": 241,
    "start_time": "2022-01-18T16:45:27.417Z"
   },
   {
    "duration": 237,
    "start_time": "2022-01-18T16:45:58.999Z"
   },
   {
    "duration": 238,
    "start_time": "2022-01-18T16:51:22.230Z"
   },
   {
    "duration": 241,
    "start_time": "2022-01-18T16:54:11.001Z"
   },
   {
    "duration": 233,
    "start_time": "2022-01-18T16:54:45.453Z"
   },
   {
    "duration": 238,
    "start_time": "2022-01-18T16:58:51.584Z"
   },
   {
    "duration": 371,
    "start_time": "2022-01-18T17:12:36.768Z"
   },
   {
    "duration": 41,
    "start_time": "2022-01-18T17:13:23.180Z"
   },
   {
    "duration": 32,
    "start_time": "2022-01-18T17:15:56.237Z"
   },
   {
    "duration": 9,
    "start_time": "2022-01-18T17:16:27.602Z"
   },
   {
    "duration": 335,
    "start_time": "2022-01-18T17:16:27.930Z"
   },
   {
    "duration": 38,
    "start_time": "2022-01-18T17:16:51.116Z"
   },
   {
    "duration": 361,
    "start_time": "2022-01-18T17:17:25.598Z"
   },
   {
    "duration": 251,
    "start_time": "2022-01-18T17:17:31.831Z"
   },
   {
    "duration": 250,
    "start_time": "2022-01-18T17:18:48.779Z"
   },
   {
    "duration": 480,
    "start_time": "2022-01-18T17:19:11.519Z"
   },
   {
    "duration": 712,
    "start_time": "2022-01-18T17:19:36.515Z"
   },
   {
    "duration": 259,
    "start_time": "2022-01-18T17:20:47.491Z"
   },
   {
    "duration": 38,
    "start_time": "2022-01-18T17:21:19.000Z"
   },
   {
    "duration": 332,
    "start_time": "2022-01-18T17:28:28.309Z"
   },
   {
    "duration": 264,
    "start_time": "2022-01-18T17:28:58.765Z"
   },
   {
    "duration": 70,
    "start_time": "2022-01-18T17:29:06.625Z"
   },
   {
    "duration": 256,
    "start_time": "2022-01-18T17:29:10.237Z"
   },
   {
    "duration": 26,
    "start_time": "2022-01-18T17:30:12.555Z"
   },
   {
    "duration": 237,
    "start_time": "2022-01-18T17:30:31.870Z"
   },
   {
    "duration": 24,
    "start_time": "2022-01-18T17:31:35.642Z"
   },
   {
    "duration": 21,
    "start_time": "2022-01-18T17:38:35.364Z"
   },
   {
    "duration": 386,
    "start_time": "2022-01-18T17:39:38.450Z"
   },
   {
    "duration": 369,
    "start_time": "2022-01-18T17:40:35.504Z"
   },
   {
    "duration": 346,
    "start_time": "2022-01-18T17:40:47.243Z"
   },
   {
    "duration": 381,
    "start_time": "2022-01-18T17:42:12.688Z"
   },
   {
    "duration": 337,
    "start_time": "2022-01-18T17:42:38.889Z"
   },
   {
    "duration": 26,
    "start_time": "2022-01-18T17:42:49.590Z"
   },
   {
    "duration": 345,
    "start_time": "2022-01-18T17:42:50.687Z"
   },
   {
    "duration": 320,
    "start_time": "2022-01-18T17:43:08.213Z"
   },
   {
    "duration": 346,
    "start_time": "2022-01-18T17:43:53.427Z"
   },
   {
    "duration": 381,
    "start_time": "2022-01-18T17:44:35.820Z"
   },
   {
    "duration": 31,
    "start_time": "2022-01-18T17:44:39.079Z"
   },
   {
    "duration": 252,
    "start_time": "2022-01-18T17:44:39.862Z"
   },
   {
    "duration": 263,
    "start_time": "2022-01-18T17:45:06.932Z"
   },
   {
    "duration": 9136,
    "start_time": "2022-01-18T17:46:27.349Z"
   },
   {
    "duration": 9430,
    "start_time": "2022-01-18T17:47:22.208Z"
   },
   {
    "duration": 216,
    "start_time": "2022-01-18T17:47:43.369Z"
   },
   {
    "duration": 220,
    "start_time": "2022-01-18T17:48:41.964Z"
   },
   {
    "duration": 272,
    "start_time": "2022-01-18T17:48:52.282Z"
   },
   {
    "duration": 892,
    "start_time": "2022-01-18T17:49:06.139Z"
   },
   {
    "duration": 258,
    "start_time": "2022-01-18T17:49:15.571Z"
   },
   {
    "duration": 278,
    "start_time": "2022-01-18T17:49:42.087Z"
   },
   {
    "duration": 268,
    "start_time": "2022-01-18T17:49:58.012Z"
   },
   {
    "duration": 323,
    "start_time": "2022-01-18T17:50:34.153Z"
   },
   {
    "duration": 335,
    "start_time": "2022-01-18T17:50:46.135Z"
   },
   {
    "duration": 278,
    "start_time": "2022-01-18T17:51:31.731Z"
   },
   {
    "duration": 268,
    "start_time": "2022-01-18T17:51:43.879Z"
   },
   {
    "duration": 288,
    "start_time": "2022-01-18T17:52:10.421Z"
   },
   {
    "duration": 245,
    "start_time": "2022-01-18T17:52:40.040Z"
   },
   {
    "duration": 215,
    "start_time": "2022-01-18T17:52:56.368Z"
   },
   {
    "duration": 841,
    "start_time": "2022-01-18T17:54:11.764Z"
   },
   {
    "duration": 401,
    "start_time": "2022-01-18T18:00:12.403Z"
   },
   {
    "duration": 456,
    "start_time": "2022-01-18T18:00:51.521Z"
   },
   {
    "duration": 627,
    "start_time": "2022-01-18T18:07:54.437Z"
   },
   {
    "duration": 243,
    "start_time": "2022-01-18T18:08:06.968Z"
   },
   {
    "duration": 1691,
    "start_time": "2022-01-18T18:10:05.933Z"
   },
   {
    "duration": 155,
    "start_time": "2022-01-18T18:10:23.064Z"
   },
   {
    "duration": 149,
    "start_time": "2022-01-18T18:10:43.952Z"
   },
   {
    "duration": 139,
    "start_time": "2022-01-18T18:10:51.514Z"
   },
   {
    "duration": 147,
    "start_time": "2022-01-18T18:11:03.192Z"
   },
   {
    "duration": 139,
    "start_time": "2022-01-18T18:13:55.912Z"
   },
   {
    "duration": 8733,
    "start_time": "2022-01-18T18:22:57.463Z"
   },
   {
    "duration": 56,
    "start_time": "2022-01-18T18:23:06.142Z"
   },
   {
    "duration": 213,
    "start_time": "2022-01-18T18:23:28.432Z"
   },
   {
    "duration": 144,
    "start_time": "2022-01-18T18:23:33.499Z"
   },
   {
    "duration": 227,
    "start_time": "2022-01-18T18:24:22.302Z"
   },
   {
    "duration": 7982,
    "start_time": "2022-01-18T18:24:39.498Z"
   },
   {
    "duration": 247,
    "start_time": "2022-01-18T18:25:39.124Z"
   },
   {
    "duration": 328,
    "start_time": "2022-01-18T18:26:41.907Z"
   },
   {
    "duration": 147,
    "start_time": "2022-01-18T18:26:55.398Z"
   },
   {
    "duration": 144,
    "start_time": "2022-01-18T18:27:22.247Z"
   },
   {
    "duration": 154,
    "start_time": "2022-01-18T18:27:49.858Z"
   },
   {
    "duration": 446,
    "start_time": "2022-01-18T18:29:40.078Z"
   },
   {
    "duration": 161,
    "start_time": "2022-01-18T18:30:02.228Z"
   },
   {
    "duration": 3364,
    "start_time": "2022-01-18T18:30:24.676Z"
   },
   {
    "duration": 60,
    "start_time": "2022-01-18T18:30:28.042Z"
   },
   {
    "duration": 338,
    "start_time": "2022-01-18T18:30:28.104Z"
   },
   {
    "duration": 4,
    "start_time": "2022-01-18T18:30:28.443Z"
   },
   {
    "duration": 23,
    "start_time": "2022-01-18T18:30:28.448Z"
   },
   {
    "duration": 15,
    "start_time": "2022-01-18T18:30:28.472Z"
   },
   {
    "duration": 24,
    "start_time": "2022-01-18T18:30:28.489Z"
   },
   {
    "duration": 31,
    "start_time": "2022-01-18T18:30:28.515Z"
   },
   {
    "duration": 2,
    "start_time": "2022-01-18T18:30:28.549Z"
   },
   {
    "duration": 27,
    "start_time": "2022-01-18T18:30:28.553Z"
   },
   {
    "duration": 17,
    "start_time": "2022-01-18T18:30:28.581Z"
   },
   {
    "duration": 11,
    "start_time": "2022-01-18T18:30:28.599Z"
   },
   {
    "duration": 294,
    "start_time": "2022-01-18T18:30:28.612Z"
   },
   {
    "duration": 19,
    "start_time": "2022-01-18T18:30:28.908Z"
   },
   {
    "duration": 30,
    "start_time": "2022-01-18T18:30:28.928Z"
   },
   {
    "duration": 7,
    "start_time": "2022-01-18T18:30:28.959Z"
   },
   {
    "duration": 231,
    "start_time": "2022-01-18T18:30:28.967Z"
   },
   {
    "duration": 977,
    "start_time": "2022-01-18T18:30:29.200Z"
   },
   {
    "duration": 23,
    "start_time": "2022-01-18T18:30:30.179Z"
   },
   {
    "duration": 279,
    "start_time": "2022-01-18T18:30:30.203Z"
   },
   {
    "duration": 285,
    "start_time": "2022-01-18T18:30:30.484Z"
   },
   {
    "duration": 258,
    "start_time": "2022-01-18T18:30:30.771Z"
   },
   {
    "duration": 164,
    "start_time": "2022-01-18T18:30:31.031Z"
   },
   {
    "duration": 39,
    "start_time": "2022-01-18T18:30:31.197Z"
   },
   {
    "duration": 30,
    "start_time": "2022-01-18T18:30:31.238Z"
   },
   {
    "duration": 32,
    "start_time": "2022-01-18T18:30:31.269Z"
   },
   {
    "duration": 35,
    "start_time": "2022-01-18T18:30:31.304Z"
   },
   {
    "duration": 13,
    "start_time": "2022-01-18T18:30:31.341Z"
   },
   {
    "duration": 148,
    "start_time": "2022-01-18T18:31:12.912Z"
   },
   {
    "duration": 238,
    "start_time": "2022-01-18T18:32:46.097Z"
   },
   {
    "duration": 238,
    "start_time": "2022-01-18T18:33:28.212Z"
   },
   {
    "duration": 155,
    "start_time": "2022-01-18T18:34:22.131Z"
   },
   {
    "duration": 154,
    "start_time": "2022-01-18T18:34:34.652Z"
   },
   {
    "duration": 255,
    "start_time": "2022-01-18T18:34:43.311Z"
   },
   {
    "duration": 240,
    "start_time": "2022-01-18T18:35:08.354Z"
   },
   {
    "duration": 254,
    "start_time": "2022-01-18T18:35:33.569Z"
   },
   {
    "duration": 241,
    "start_time": "2022-01-18T18:35:59.963Z"
   },
   {
    "duration": 152,
    "start_time": "2022-01-18T18:36:12.455Z"
   },
   {
    "duration": 242,
    "start_time": "2022-01-18T18:36:28.407Z"
   },
   {
    "duration": 182,
    "start_time": "2022-01-18T18:38:25.982Z"
   },
   {
    "duration": 143,
    "start_time": "2022-01-18T18:38:36.995Z"
   },
   {
    "duration": 150,
    "start_time": "2022-01-18T18:38:54.242Z"
   },
   {
    "duration": 258,
    "start_time": "2022-01-18T18:41:18.834Z"
   },
   {
    "duration": 367,
    "start_time": "2022-01-18T18:41:39.732Z"
   },
   {
    "duration": 684,
    "start_time": "2022-01-18T18:56:10.963Z"
   },
   {
    "duration": 650,
    "start_time": "2022-01-18T18:56:29.701Z"
   },
   {
    "duration": 339,
    "start_time": "2022-01-18T18:57:05.772Z"
   },
   {
    "duration": 328,
    "start_time": "2022-01-18T18:57:14.421Z"
   },
   {
    "duration": 10,
    "start_time": "2022-01-18T18:59:22.624Z"
   },
   {
    "duration": 322,
    "start_time": "2022-01-18T18:59:40.687Z"
   },
   {
    "duration": 210,
    "start_time": "2022-01-18T18:59:58.184Z"
   },
   {
    "duration": 208,
    "start_time": "2022-01-18T19:00:56.301Z"
   },
   {
    "duration": 218,
    "start_time": "2022-01-18T19:01:07.445Z"
   },
   {
    "duration": 215,
    "start_time": "2022-01-18T19:01:17.986Z"
   },
   {
    "duration": 239,
    "start_time": "2022-01-18T19:01:34.704Z"
   },
   {
    "duration": 241,
    "start_time": "2022-01-18T19:01:41.353Z"
   },
   {
    "duration": 897,
    "start_time": "2022-01-18T19:02:00.113Z"
   },
   {
    "duration": 809,
    "start_time": "2022-01-18T19:02:26.768Z"
   },
   {
    "duration": 274,
    "start_time": "2022-01-18T19:02:37.809Z"
   },
   {
    "duration": 250,
    "start_time": "2022-01-18T19:02:42.957Z"
   },
   {
    "duration": 268,
    "start_time": "2022-01-18T19:02:48.179Z"
   },
   {
    "duration": 262,
    "start_time": "2022-01-18T19:03:04.289Z"
   },
   {
    "duration": 146,
    "start_time": "2022-01-18T19:03:13.597Z"
   },
   {
    "duration": 339,
    "start_time": "2022-01-18T19:03:45.152Z"
   },
   {
    "duration": 212,
    "start_time": "2022-01-18T19:03:51.547Z"
   },
   {
    "duration": 219,
    "start_time": "2022-01-18T19:05:39.211Z"
   },
   {
    "duration": 615,
    "start_time": "2022-01-18T19:06:10.132Z"
   },
   {
    "duration": 217,
    "start_time": "2022-01-18T19:06:20.522Z"
   },
   {
    "duration": 198,
    "start_time": "2022-01-18T19:07:09.102Z"
   },
   {
    "duration": 169,
    "start_time": "2022-01-18T19:08:23.463Z"
   },
   {
    "duration": 292,
    "start_time": "2022-01-18T19:08:34.868Z"
   },
   {
    "duration": 286,
    "start_time": "2022-01-18T19:08:57.866Z"
   },
   {
    "duration": 291,
    "start_time": "2022-01-18T19:09:47.670Z"
   },
   {
    "duration": 118,
    "start_time": "2022-01-18T19:10:55.183Z"
   },
   {
    "duration": 2631,
    "start_time": "2022-01-18T19:13:00.161Z"
   },
   {
    "duration": 57,
    "start_time": "2022-01-18T19:13:02.795Z"
   },
   {
    "duration": 490,
    "start_time": "2022-01-18T19:13:02.853Z"
   },
   {
    "duration": 4,
    "start_time": "2022-01-18T19:13:03.345Z"
   },
   {
    "duration": 9,
    "start_time": "2022-01-18T19:13:03.350Z"
   },
   {
    "duration": 19,
    "start_time": "2022-01-18T19:13:03.360Z"
   },
   {
    "duration": 10,
    "start_time": "2022-01-18T19:13:03.380Z"
   },
   {
    "duration": 13,
    "start_time": "2022-01-18T19:13:03.428Z"
   },
   {
    "duration": 2,
    "start_time": "2022-01-18T19:13:03.443Z"
   },
   {
    "duration": 14,
    "start_time": "2022-01-18T19:13:03.446Z"
   },
   {
    "duration": 14,
    "start_time": "2022-01-18T19:13:03.462Z"
   },
   {
    "duration": 9,
    "start_time": "2022-01-18T19:13:03.477Z"
   },
   {
    "duration": 327,
    "start_time": "2022-01-18T19:13:03.488Z"
   },
   {
    "duration": 11,
    "start_time": "2022-01-18T19:13:03.817Z"
   },
   {
    "duration": 30,
    "start_time": "2022-01-18T19:13:03.830Z"
   },
   {
    "duration": 7,
    "start_time": "2022-01-18T19:13:03.861Z"
   },
   {
    "duration": 238,
    "start_time": "2022-01-18T19:13:03.870Z"
   },
   {
    "duration": 230,
    "start_time": "2022-01-18T19:13:04.110Z"
   },
   {
    "duration": 949,
    "start_time": "2022-01-18T19:13:04.342Z"
   },
   {
    "duration": 34,
    "start_time": "2022-01-18T19:13:05.293Z"
   },
   {
    "duration": 267,
    "start_time": "2022-01-18T19:13:05.328Z"
   },
   {
    "duration": 281,
    "start_time": "2022-01-18T19:13:05.597Z"
   },
   {
    "duration": 260,
    "start_time": "2022-01-18T19:13:05.881Z"
   },
   {
    "duration": 302,
    "start_time": "2022-01-18T19:13:06.143Z"
   },
   {
    "duration": 30,
    "start_time": "2022-01-18T19:13:06.447Z"
   },
   {
    "duration": 49,
    "start_time": "2022-01-18T19:13:06.479Z"
   },
   {
    "duration": 29,
    "start_time": "2022-01-18T19:13:06.529Z"
   },
   {
    "duration": 12,
    "start_time": "2022-01-18T19:13:06.560Z"
   },
   {
    "duration": 12,
    "start_time": "2022-01-18T19:13:06.574Z"
   },
   {
    "duration": 31,
    "start_time": "2022-01-18T19:24:21.038Z"
   },
   {
    "duration": 34,
    "start_time": "2022-01-18T19:24:33.686Z"
   },
   {
    "duration": 39,
    "start_time": "2022-01-18T19:25:07.562Z"
   },
   {
    "duration": 29,
    "start_time": "2022-01-18T19:25:44.525Z"
   },
   {
    "duration": 28,
    "start_time": "2022-01-18T19:25:53.259Z"
   },
   {
    "duration": 26,
    "start_time": "2022-01-18T19:26:14.584Z"
   },
   {
    "duration": 28,
    "start_time": "2022-01-18T19:26:23.737Z"
   },
   {
    "duration": 27,
    "start_time": "2022-01-18T19:26:42.856Z"
   },
   {
    "duration": 29,
    "start_time": "2022-01-18T19:27:11.213Z"
   },
   {
    "duration": 30,
    "start_time": "2022-01-18T19:27:43.365Z"
   },
   {
    "duration": 290,
    "start_time": "2022-01-19T15:37:54.273Z"
   },
   {
    "duration": 279,
    "start_time": "2022-01-19T15:38:07.798Z"
   },
   {
    "duration": 266,
    "start_time": "2022-01-19T15:38:35.925Z"
   },
   {
    "duration": 102063,
    "start_time": "2022-01-19T15:44:18.493Z"
   },
   {
    "duration": 78,
    "start_time": "2022-01-19T15:46:00.559Z"
   },
   {
    "duration": 388,
    "start_time": "2022-01-19T15:46:00.642Z"
   },
   {
    "duration": 4,
    "start_time": "2022-01-19T15:46:01.032Z"
   },
   {
    "duration": 16,
    "start_time": "2022-01-19T15:46:01.037Z"
   },
   {
    "duration": 48,
    "start_time": "2022-01-19T15:46:01.055Z"
   },
   {
    "duration": 19,
    "start_time": "2022-01-19T15:46:01.105Z"
   },
   {
    "duration": 26,
    "start_time": "2022-01-19T15:46:01.126Z"
   },
   {
    "duration": 3,
    "start_time": "2022-01-19T15:46:01.154Z"
   },
   {
    "duration": 22,
    "start_time": "2022-01-19T15:46:01.158Z"
   },
   {
    "duration": 29,
    "start_time": "2022-01-19T15:46:01.182Z"
   },
   {
    "duration": 7,
    "start_time": "2022-01-19T15:46:01.213Z"
   },
   {
    "duration": 670,
    "start_time": "2022-01-19T15:46:01.221Z"
   },
   {
    "duration": 13,
    "start_time": "2022-01-19T15:46:01.893Z"
   },
   {
    "duration": 38,
    "start_time": "2022-01-19T15:46:01.908Z"
   },
   {
    "duration": 7,
    "start_time": "2022-01-19T15:46:01.949Z"
   },
   {
    "duration": 313,
    "start_time": "2022-01-19T15:46:01.958Z"
   },
   {
    "duration": 301,
    "start_time": "2022-01-19T15:46:02.272Z"
   },
   {
    "duration": 1228,
    "start_time": "2022-01-19T15:46:02.575Z"
   },
   {
    "duration": 23,
    "start_time": "2022-01-19T15:46:03.805Z"
   },
   {
    "duration": 287,
    "start_time": "2022-01-19T15:46:03.830Z"
   },
   {
    "duration": 309,
    "start_time": "2022-01-19T15:46:04.120Z"
   },
   {
    "duration": 340,
    "start_time": "2022-01-19T15:46:04.431Z"
   },
   {
    "duration": 429,
    "start_time": "2022-01-19T15:46:04.772Z"
   },
   {
    "duration": 46,
    "start_time": "2022-01-19T15:46:05.203Z"
   },
   {
    "duration": 383,
    "start_time": "2022-01-19T15:46:05.251Z"
   },
   {
    "duration": -145,
    "start_time": "2022-01-19T15:46:05.781Z"
   },
   {
    "duration": -150,
    "start_time": "2022-01-19T15:46:05.788Z"
   },
   {
    "duration": -152,
    "start_time": "2022-01-19T15:46:05.791Z"
   },
   {
    "duration": -157,
    "start_time": "2022-01-19T15:46:05.797Z"
   },
   {
    "duration": 38,
    "start_time": "2022-01-19T15:48:23.929Z"
   },
   {
    "duration": 263,
    "start_time": "2022-01-19T15:49:31.105Z"
   },
   {
    "duration": 437,
    "start_time": "2022-01-19T15:49:50.519Z"
   },
   {
    "duration": 482,
    "start_time": "2022-01-19T15:50:00.708Z"
   },
   {
    "duration": 30,
    "start_time": "2022-01-19T15:50:26.335Z"
   },
   {
    "duration": 31,
    "start_time": "2022-01-19T15:50:28.368Z"
   },
   {
    "duration": 38,
    "start_time": "2022-01-19T15:50:31.932Z"
   },
   {
    "duration": 63,
    "start_time": "2022-01-19T15:50:31.972Z"
   },
   {
    "duration": 382,
    "start_time": "2022-01-19T15:50:32.037Z"
   },
   {
    "duration": 3,
    "start_time": "2022-01-19T15:50:32.421Z"
   },
   {
    "duration": 15,
    "start_time": "2022-01-19T15:50:32.426Z"
   },
   {
    "duration": 12,
    "start_time": "2022-01-19T15:50:32.442Z"
   },
   {
    "duration": 44,
    "start_time": "2022-01-19T15:50:32.456Z"
   },
   {
    "duration": 16,
    "start_time": "2022-01-19T15:50:32.503Z"
   },
   {
    "duration": 2,
    "start_time": "2022-01-19T15:50:32.521Z"
   },
   {
    "duration": 16,
    "start_time": "2022-01-19T15:50:32.525Z"
   },
   {
    "duration": 14,
    "start_time": "2022-01-19T15:50:32.542Z"
   },
   {
    "duration": 6,
    "start_time": "2022-01-19T15:50:32.557Z"
   },
   {
    "duration": 380,
    "start_time": "2022-01-19T15:50:32.564Z"
   },
   {
    "duration": 12,
    "start_time": "2022-01-19T15:50:32.946Z"
   },
   {
    "duration": 50,
    "start_time": "2022-01-19T15:50:32.960Z"
   },
   {
    "duration": 7,
    "start_time": "2022-01-19T15:50:33.012Z"
   },
   {
    "duration": 267,
    "start_time": "2022-01-19T15:50:33.021Z"
   },
   {
    "duration": 262,
    "start_time": "2022-01-19T15:50:33.290Z"
   },
   {
    "duration": 1138,
    "start_time": "2022-01-19T15:50:33.553Z"
   },
   {
    "duration": 22,
    "start_time": "2022-01-19T15:50:34.698Z"
   },
   {
    "duration": 292,
    "start_time": "2022-01-19T15:50:34.722Z"
   },
   {
    "duration": 289,
    "start_time": "2022-01-19T15:50:35.016Z"
   },
   {
    "duration": 305,
    "start_time": "2022-01-19T15:50:35.308Z"
   },
   {
    "duration": 388,
    "start_time": "2022-01-19T15:50:35.615Z"
   },
   {
    "duration": 30,
    "start_time": "2022-01-19T15:50:36.004Z"
   },
   {
    "duration": 30,
    "start_time": "2022-01-19T15:50:36.036Z"
   },
   {
    "duration": 47,
    "start_time": "2022-01-19T15:50:36.068Z"
   },
   {
    "duration": 12,
    "start_time": "2022-01-19T15:50:36.116Z"
   },
   {
    "duration": 15,
    "start_time": "2022-01-19T15:50:36.129Z"
   },
   {
    "duration": 239,
    "start_time": "2022-01-19T15:56:46.416Z"
   },
   {
    "duration": 184,
    "start_time": "2022-01-19T15:57:39.760Z"
   },
   {
    "duration": 7,
    "start_time": "2022-01-19T15:57:53.548Z"
   },
   {
    "duration": 268,
    "start_time": "2022-01-19T15:58:14.601Z"
   },
   {
    "duration": 476,
    "start_time": "2022-01-19T15:58:19.113Z"
   },
   {
    "duration": 179,
    "start_time": "2022-01-19T15:58:45.002Z"
   },
   {
    "duration": 285,
    "start_time": "2022-01-19T15:59:53.591Z"
   },
   {
    "duration": 286,
    "start_time": "2022-01-19T16:00:01.421Z"
   },
   {
    "duration": 27,
    "start_time": "2022-01-19T16:01:51.541Z"
   },
   {
    "duration": 137,
    "start_time": "2022-01-19T16:01:57.942Z"
   },
   {
    "duration": 212,
    "start_time": "2022-01-19T16:02:12.047Z"
   },
   {
    "duration": 264,
    "start_time": "2022-01-19T16:06:42.781Z"
   },
   {
    "duration": 269,
    "start_time": "2022-01-19T16:11:09.251Z"
   },
   {
    "duration": 296,
    "start_time": "2022-01-19T16:11:14.582Z"
   },
   {
    "duration": 286,
    "start_time": "2022-01-19T16:12:26.436Z"
   },
   {
    "duration": 156,
    "start_time": "2022-01-19T16:13:11.225Z"
   },
   {
    "duration": 453,
    "start_time": "2022-01-19T16:14:37.645Z"
   },
   {
    "duration": 217,
    "start_time": "2022-01-19T16:15:15.461Z"
   },
   {
    "duration": 286,
    "start_time": "2022-01-19T16:15:34.445Z"
   },
   {
    "duration": 258,
    "start_time": "2022-01-19T16:15:42.339Z"
   },
   {
    "duration": 209,
    "start_time": "2022-01-19T16:15:49.556Z"
   },
   {
    "duration": 6,
    "start_time": "2022-01-19T16:16:11.771Z"
   },
   {
    "duration": 7,
    "start_time": "2022-01-19T16:16:19.962Z"
   },
   {
    "duration": 313,
    "start_time": "2022-01-19T16:16:38.898Z"
   },
   {
    "duration": 4,
    "start_time": "2022-01-19T16:16:47.554Z"
   },
   {
    "duration": 217,
    "start_time": "2022-01-19T16:16:49.059Z"
   },
   {
    "duration": 279,
    "start_time": "2022-01-19T16:16:58.082Z"
   },
   {
    "duration": 174,
    "start_time": "2022-01-19T16:17:08.434Z"
   },
   {
    "duration": 494,
    "start_time": "2022-01-19T16:17:44.794Z"
   },
   {
    "duration": 5,
    "start_time": "2022-01-19T16:17:51.053Z"
   },
   {
    "duration": 376,
    "start_time": "2022-01-19T16:17:52.443Z"
   },
   {
    "duration": 322,
    "start_time": "2022-01-19T16:20:16.875Z"
   },
   {
    "duration": 528,
    "start_time": "2022-01-19T16:20:29.901Z"
   },
   {
    "duration": 625,
    "start_time": "2022-01-19T16:21:21.812Z"
   },
   {
    "duration": 118,
    "start_time": "2022-01-19T16:23:20.598Z"
   },
   {
    "duration": 474,
    "start_time": "2022-01-19T16:23:24.990Z"
   },
   {
    "duration": 440,
    "start_time": "2022-01-19T16:24:22.298Z"
   },
   {
    "duration": 435,
    "start_time": "2022-01-19T16:25:00.325Z"
   },
   {
    "duration": 440,
    "start_time": "2022-01-19T16:25:37.876Z"
   },
   {
    "duration": 442,
    "start_time": "2022-01-19T16:26:43.473Z"
   },
   {
    "duration": 30,
    "start_time": "2022-01-19T16:27:08.663Z"
   },
   {
    "duration": 452,
    "start_time": "2022-01-19T16:27:09.674Z"
   },
   {
    "duration": 3,
    "start_time": "2022-01-19T16:27:23.949Z"
   },
   {
    "duration": 38,
    "start_time": "2022-01-19T16:27:26.898Z"
   },
   {
    "duration": 74,
    "start_time": "2022-01-19T16:27:26.938Z"
   },
   {
    "duration": 385,
    "start_time": "2022-01-19T16:27:27.014Z"
   },
   {
    "duration": 4,
    "start_time": "2022-01-19T16:27:27.401Z"
   },
   {
    "duration": 29,
    "start_time": "2022-01-19T16:27:27.407Z"
   },
   {
    "duration": 15,
    "start_time": "2022-01-19T16:27:27.438Z"
   },
   {
    "duration": 18,
    "start_time": "2022-01-19T16:27:27.455Z"
   },
   {
    "duration": 30,
    "start_time": "2022-01-19T16:27:27.475Z"
   },
   {
    "duration": 2,
    "start_time": "2022-01-19T16:27:27.507Z"
   },
   {
    "duration": 37,
    "start_time": "2022-01-19T16:27:27.511Z"
   },
   {
    "duration": 17,
    "start_time": "2022-01-19T16:27:27.550Z"
   },
   {
    "duration": 7,
    "start_time": "2022-01-19T16:27:27.568Z"
   },
   {
    "duration": 347,
    "start_time": "2022-01-19T16:27:27.576Z"
   },
   {
    "duration": 10,
    "start_time": "2022-01-19T16:27:27.925Z"
   },
   {
    "duration": 45,
    "start_time": "2022-01-19T16:27:27.937Z"
   },
   {
    "duration": 7,
    "start_time": "2022-01-19T16:27:27.983Z"
   },
   {
    "duration": 274,
    "start_time": "2022-01-19T16:27:27.991Z"
   },
   {
    "duration": 270,
    "start_time": "2022-01-19T16:27:28.267Z"
   },
   {
    "duration": 937,
    "start_time": "2022-01-19T16:27:28.540Z"
   },
   {
    "duration": 33,
    "start_time": "2022-01-19T16:27:29.479Z"
   },
   {
    "duration": 284,
    "start_time": "2022-01-19T16:27:29.514Z"
   },
   {
    "duration": 299,
    "start_time": "2022-01-19T16:27:29.800Z"
   },
   {
    "duration": 298,
    "start_time": "2022-01-19T16:27:30.100Z"
   },
   {
    "duration": 516,
    "start_time": "2022-01-19T16:27:30.400Z"
   },
   {
    "duration": 30,
    "start_time": "2022-01-19T16:27:30.917Z"
   },
   {
    "duration": 521,
    "start_time": "2022-01-19T16:27:30.949Z"
   },
   {
    "duration": 3,
    "start_time": "2022-01-19T16:27:31.471Z"
   },
   {
    "duration": -2055,
    "start_time": "2022-01-19T16:27:33.531Z"
   },
   {
    "duration": -2119,
    "start_time": "2022-01-19T16:27:33.596Z"
   },
   {
    "duration": -2131,
    "start_time": "2022-01-19T16:27:33.609Z"
   },
   {
    "duration": -2138,
    "start_time": "2022-01-19T16:27:33.617Z"
   },
   {
    "duration": 431,
    "start_time": "2022-01-19T16:27:53.605Z"
   },
   {
    "duration": 501,
    "start_time": "2022-01-19T16:28:09.497Z"
   },
   {
    "duration": 30,
    "start_time": "2022-01-19T16:28:45.398Z"
   },
   {
    "duration": 31,
    "start_time": "2022-01-19T16:30:00.050Z"
   },
   {
    "duration": 539,
    "start_time": "2022-01-19T16:30:01.301Z"
   },
   {
    "duration": 31,
    "start_time": "2022-01-19T16:30:06.513Z"
   },
   {
    "duration": 259,
    "start_time": "2022-01-19T16:30:26.150Z"
   },
   {
    "duration": 506,
    "start_time": "2022-01-19T16:30:40.736Z"
   },
   {
    "duration": 272,
    "start_time": "2022-01-19T16:31:20.734Z"
   },
   {
    "duration": 31,
    "start_time": "2022-01-19T16:31:23.207Z"
   },
   {
    "duration": 518,
    "start_time": "2022-01-19T16:31:26.459Z"
   },
   {
    "duration": 37,
    "start_time": "2022-01-19T16:31:31.195Z"
   },
   {
    "duration": 69,
    "start_time": "2022-01-19T16:31:31.234Z"
   },
   {
    "duration": 410,
    "start_time": "2022-01-19T16:31:31.305Z"
   },
   {
    "duration": 5,
    "start_time": "2022-01-19T16:31:31.717Z"
   },
   {
    "duration": 16,
    "start_time": "2022-01-19T16:31:31.724Z"
   },
   {
    "duration": 58,
    "start_time": "2022-01-19T16:31:31.742Z"
   },
   {
    "duration": 22,
    "start_time": "2022-01-19T16:31:31.803Z"
   },
   {
    "duration": 26,
    "start_time": "2022-01-19T16:31:31.828Z"
   },
   {
    "duration": 42,
    "start_time": "2022-01-19T16:31:31.857Z"
   },
   {
    "duration": 25,
    "start_time": "2022-01-19T16:31:31.901Z"
   },
   {
    "duration": 19,
    "start_time": "2022-01-19T16:31:31.928Z"
   },
   {
    "duration": 9,
    "start_time": "2022-01-19T16:31:31.949Z"
   },
   {
    "duration": 386,
    "start_time": "2022-01-19T16:31:31.960Z"
   },
   {
    "duration": 13,
    "start_time": "2022-01-19T16:31:32.348Z"
   },
   {
    "duration": 54,
    "start_time": "2022-01-19T16:31:32.363Z"
   },
   {
    "duration": 8,
    "start_time": "2022-01-19T16:31:32.418Z"
   },
   {
    "duration": 441,
    "start_time": "2022-01-19T16:31:32.428Z"
   },
   {
    "duration": 266,
    "start_time": "2022-01-19T16:31:32.873Z"
   },
   {
    "duration": 973,
    "start_time": "2022-01-19T16:31:33.141Z"
   },
   {
    "duration": 25,
    "start_time": "2022-01-19T16:31:34.116Z"
   },
   {
    "duration": 355,
    "start_time": "2022-01-19T16:31:34.143Z"
   },
   {
    "duration": 308,
    "start_time": "2022-01-19T16:31:34.500Z"
   },
   {
    "duration": 335,
    "start_time": "2022-01-19T16:31:34.810Z"
   },
   {
    "duration": 386,
    "start_time": "2022-01-19T16:31:35.147Z"
   },
   {
    "duration": 33,
    "start_time": "2022-01-19T16:31:35.534Z"
   },
   {
    "duration": 572,
    "start_time": "2022-01-19T16:31:35.570Z"
   },
   {
    "duration": 35,
    "start_time": "2022-01-19T16:31:36.144Z"
   },
   {
    "duration": 580,
    "start_time": "2022-01-19T16:31:36.181Z"
   },
   {
    "duration": 37,
    "start_time": "2022-01-19T16:31:36.763Z"
   },
   {
    "duration": 672,
    "start_time": "2022-01-19T16:31:36.802Z"
   },
   {
    "duration": 12,
    "start_time": "2022-01-19T16:31:37.475Z"
   },
   {
    "duration": 18,
    "start_time": "2022-01-19T16:31:37.498Z"
   },
   {
    "duration": 281,
    "start_time": "2022-01-19T16:40:05.780Z"
   },
   {
    "duration": 323,
    "start_time": "2022-01-19T16:40:20.294Z"
   },
   {
    "duration": 297,
    "start_time": "2022-01-19T16:40:39.870Z"
   },
   {
    "duration": 289,
    "start_time": "2022-01-19T16:41:07.380Z"
   },
   {
    "duration": 270,
    "start_time": "2022-01-19T16:47:56.983Z"
   },
   {
    "duration": 86,
    "start_time": "2022-01-19T16:52:01.770Z"
   },
   {
    "duration": 85,
    "start_time": "2022-01-19T16:52:28.983Z"
   },
   {
    "duration": 168538,
    "start_time": "2022-01-19T16:54:40.745Z"
   },
   {
    "duration": 68,
    "start_time": "2022-01-19T16:57:29.285Z"
   },
   {
    "duration": 452,
    "start_time": "2022-01-19T16:57:29.355Z"
   },
   {
    "duration": 4,
    "start_time": "2022-01-19T16:57:29.810Z"
   },
   {
    "duration": 9,
    "start_time": "2022-01-19T16:57:29.817Z"
   },
   {
    "duration": 13,
    "start_time": "2022-01-19T16:57:29.827Z"
   },
   {
    "duration": 8,
    "start_time": "2022-01-19T16:57:29.842Z"
   },
   {
    "duration": 58,
    "start_time": "2022-01-19T16:57:29.853Z"
   },
   {
    "duration": 2,
    "start_time": "2022-01-19T16:57:29.914Z"
   },
   {
    "duration": 21,
    "start_time": "2022-01-19T16:57:29.918Z"
   },
   {
    "duration": 19,
    "start_time": "2022-01-19T16:57:29.941Z"
   },
   {
    "duration": 37,
    "start_time": "2022-01-19T16:57:29.962Z"
   },
   {
    "duration": 651,
    "start_time": "2022-01-19T16:57:30.002Z"
   },
   {
    "duration": 11,
    "start_time": "2022-01-19T16:57:30.656Z"
   },
   {
    "duration": 46,
    "start_time": "2022-01-19T16:57:30.669Z"
   },
   {
    "duration": 7,
    "start_time": "2022-01-19T16:57:30.717Z"
   },
   {
    "duration": 272,
    "start_time": "2022-01-19T16:57:30.726Z"
   },
   {
    "duration": 604,
    "start_time": "2022-01-19T16:57:31.000Z"
   },
   {
    "duration": -1908,
    "start_time": "2022-01-19T16:57:33.514Z"
   },
   {
    "duration": -1911,
    "start_time": "2022-01-19T16:57:33.518Z"
   },
   {
    "duration": -1917,
    "start_time": "2022-01-19T16:57:33.526Z"
   },
   {
    "duration": -1919,
    "start_time": "2022-01-19T16:57:33.529Z"
   },
   {
    "duration": -1923,
    "start_time": "2022-01-19T16:57:33.534Z"
   },
   {
    "duration": -1929,
    "start_time": "2022-01-19T16:57:33.541Z"
   },
   {
    "duration": -1932,
    "start_time": "2022-01-19T16:57:33.545Z"
   },
   {
    "duration": -1935,
    "start_time": "2022-01-19T16:57:33.549Z"
   },
   {
    "duration": -1939,
    "start_time": "2022-01-19T16:57:33.554Z"
   },
   {
    "duration": -1942,
    "start_time": "2022-01-19T16:57:33.558Z"
   },
   {
    "duration": -1945,
    "start_time": "2022-01-19T16:57:33.563Z"
   },
   {
    "duration": -1947,
    "start_time": "2022-01-19T16:57:33.566Z"
   },
   {
    "duration": -1952,
    "start_time": "2022-01-19T16:57:33.572Z"
   },
   {
    "duration": -1954,
    "start_time": "2022-01-19T16:57:33.575Z"
   },
   {
    "duration": -1958,
    "start_time": "2022-01-19T16:57:33.580Z"
   },
   {
    "duration": 279,
    "start_time": "2022-01-19T16:58:16.097Z"
   },
   {
    "duration": 336,
    "start_time": "2022-01-19T16:59:00.296Z"
   },
   {
    "duration": 282,
    "start_time": "2022-01-19T16:59:33.321Z"
   },
   {
    "duration": 5159,
    "start_time": "2022-01-19T16:59:40.343Z"
   },
   {
    "duration": 71,
    "start_time": "2022-01-19T16:59:45.504Z"
   },
   {
    "duration": 356,
    "start_time": "2022-01-19T16:59:45.577Z"
   },
   {
    "duration": 4,
    "start_time": "2022-01-19T16:59:45.935Z"
   },
   {
    "duration": 63,
    "start_time": "2022-01-19T16:59:45.940Z"
   },
   {
    "duration": 19,
    "start_time": "2022-01-19T16:59:46.005Z"
   },
   {
    "duration": 17,
    "start_time": "2022-01-19T16:59:46.026Z"
   },
   {
    "duration": 24,
    "start_time": "2022-01-19T16:59:46.046Z"
   },
   {
    "duration": 11,
    "start_time": "2022-01-19T16:59:46.072Z"
   },
   {
    "duration": 25,
    "start_time": "2022-01-19T16:59:46.085Z"
   },
   {
    "duration": 25,
    "start_time": "2022-01-19T16:59:46.111Z"
   },
   {
    "duration": 10,
    "start_time": "2022-01-19T16:59:46.137Z"
   },
   {
    "duration": 344,
    "start_time": "2022-01-19T16:59:46.149Z"
   },
   {
    "duration": 12,
    "start_time": "2022-01-19T16:59:46.495Z"
   },
   {
    "duration": 32,
    "start_time": "2022-01-19T16:59:46.508Z"
   },
   {
    "duration": 7,
    "start_time": "2022-01-19T16:59:46.541Z"
   },
   {
    "duration": 288,
    "start_time": "2022-01-19T16:59:46.549Z"
   },
   {
    "duration": 272,
    "start_time": "2022-01-19T16:59:46.839Z"
   },
   {
    "duration": 1097,
    "start_time": "2022-01-19T16:59:47.113Z"
   },
   {
    "duration": 22,
    "start_time": "2022-01-19T16:59:48.212Z"
   },
   {
    "duration": 319,
    "start_time": "2022-01-19T16:59:48.236Z"
   },
   {
    "duration": 359,
    "start_time": "2022-01-19T16:59:48.557Z"
   },
   {
    "duration": 392,
    "start_time": "2022-01-19T16:59:48.919Z"
   },
   {
    "duration": 372,
    "start_time": "2022-01-19T16:59:49.314Z"
   },
   {
    "duration": 35,
    "start_time": "2022-01-19T16:59:49.687Z"
   },
   {
    "duration": 512,
    "start_time": "2022-01-19T16:59:49.723Z"
   },
   {
    "duration": 31,
    "start_time": "2022-01-19T16:59:50.238Z"
   },
   {
    "duration": 528,
    "start_time": "2022-01-19T16:59:50.271Z"
   },
   {
    "duration": 30,
    "start_time": "2022-01-19T16:59:50.802Z"
   },
   {
    "duration": 523,
    "start_time": "2022-01-19T16:59:50.834Z"
   },
   {
    "duration": 12,
    "start_time": "2022-01-19T16:59:51.360Z"
   },
   {
    "duration": 286,
    "start_time": "2022-01-19T16:59:51.374Z"
   },
   {
    "duration": -1879,
    "start_time": "2022-01-19T16:59:53.541Z"
   },
   {
    "duration": 274,
    "start_time": "2022-01-19T17:01:59.054Z"
   },
   {
    "duration": 149124,
    "start_time": "2022-01-19T17:02:13.135Z"
   },
   {
    "duration": 70,
    "start_time": "2022-01-19T17:04:42.261Z"
   },
   {
    "duration": 372,
    "start_time": "2022-01-19T17:04:42.333Z"
   },
   {
    "duration": 4,
    "start_time": "2022-01-19T17:04:42.707Z"
   },
   {
    "duration": 7,
    "start_time": "2022-01-19T17:04:42.713Z"
   },
   {
    "duration": 12,
    "start_time": "2022-01-19T17:04:42.722Z"
   },
   {
    "duration": 13,
    "start_time": "2022-01-19T17:04:42.735Z"
   },
   {
    "duration": 48,
    "start_time": "2022-01-19T17:04:42.751Z"
   },
   {
    "duration": 2,
    "start_time": "2022-01-19T17:04:42.801Z"
   },
   {
    "duration": 19,
    "start_time": "2022-01-19T17:04:42.805Z"
   },
   {
    "duration": 13,
    "start_time": "2022-01-19T17:04:42.825Z"
   },
   {
    "duration": 7,
    "start_time": "2022-01-19T17:04:42.839Z"
   },
   {
    "duration": 372,
    "start_time": "2022-01-19T17:04:42.848Z"
   },
   {
    "duration": 11,
    "start_time": "2022-01-19T17:04:43.222Z"
   },
   {
    "duration": 32,
    "start_time": "2022-01-19T17:04:43.234Z"
   },
   {
    "duration": 7,
    "start_time": "2022-01-19T17:04:43.268Z"
   },
   {
    "duration": 309,
    "start_time": "2022-01-19T17:04:43.276Z"
   },
   {
    "duration": 405,
    "start_time": "2022-01-19T17:04:43.587Z"
   },
   {
    "duration": 1112,
    "start_time": "2022-01-19T17:04:43.994Z"
   },
   {
    "duration": 22,
    "start_time": "2022-01-19T17:04:45.108Z"
   },
   {
    "duration": 314,
    "start_time": "2022-01-19T17:04:45.132Z"
   },
   {
    "duration": 333,
    "start_time": "2022-01-19T17:04:45.447Z"
   },
   {
    "duration": 312,
    "start_time": "2022-01-19T17:04:45.783Z"
   },
   {
    "duration": 370,
    "start_time": "2022-01-19T17:04:46.097Z"
   },
   {
    "duration": 39,
    "start_time": "2022-01-19T17:04:46.469Z"
   },
   {
    "duration": 293,
    "start_time": "2022-01-19T17:04:46.510Z"
   },
   {
    "duration": 31,
    "start_time": "2022-01-19T17:04:46.804Z"
   },
   {
    "duration": 521,
    "start_time": "2022-01-19T17:04:46.836Z"
   },
   {
    "duration": 40,
    "start_time": "2022-01-19T17:04:47.358Z"
   },
   {
    "duration": 624,
    "start_time": "2022-01-19T17:04:47.400Z"
   },
   {
    "duration": 11,
    "start_time": "2022-01-19T17:04:48.025Z"
   },
   {
    "duration": 285,
    "start_time": "2022-01-19T17:04:48.038Z"
   },
   {
    "duration": -1941,
    "start_time": "2022-01-19T17:04:50.266Z"
   },
   {
    "duration": 50811,
    "start_time": "2022-01-19T17:07:48.953Z"
   },
   {
    "duration": 75,
    "start_time": "2022-01-19T17:08:39.766Z"
   },
   {
    "duration": 386,
    "start_time": "2022-01-19T17:08:39.844Z"
   },
   {
    "duration": 5,
    "start_time": "2022-01-19T17:08:40.232Z"
   },
   {
    "duration": 60,
    "start_time": "2022-01-19T17:08:40.239Z"
   },
   {
    "duration": 11,
    "start_time": "2022-01-19T17:08:40.301Z"
   },
   {
    "duration": 9,
    "start_time": "2022-01-19T17:08:40.314Z"
   },
   {
    "duration": 23,
    "start_time": "2022-01-19T17:08:40.326Z"
   },
   {
    "duration": 2,
    "start_time": "2022-01-19T17:08:40.352Z"
   },
   {
    "duration": 47,
    "start_time": "2022-01-19T17:08:40.357Z"
   },
   {
    "duration": 15,
    "start_time": "2022-01-19T17:08:40.406Z"
   },
   {
    "duration": 9,
    "start_time": "2022-01-19T17:08:40.423Z"
   },
   {
    "duration": 415,
    "start_time": "2022-01-19T17:08:40.435Z"
   },
   {
    "duration": 12,
    "start_time": "2022-01-19T17:08:40.851Z"
   },
   {
    "duration": 50,
    "start_time": "2022-01-19T17:08:40.865Z"
   },
   {
    "duration": 7,
    "start_time": "2022-01-19T17:08:40.917Z"
   },
   {
    "duration": 306,
    "start_time": "2022-01-19T17:08:40.926Z"
   },
   {
    "duration": 286,
    "start_time": "2022-01-19T17:08:41.234Z"
   },
   {
    "duration": 1129,
    "start_time": "2022-01-19T17:08:41.522Z"
   },
   {
    "duration": 25,
    "start_time": "2022-01-19T17:08:42.653Z"
   },
   {
    "duration": 374,
    "start_time": "2022-01-19T17:08:42.680Z"
   },
   {
    "duration": 374,
    "start_time": "2022-01-19T17:08:43.056Z"
   },
   {
    "duration": 314,
    "start_time": "2022-01-19T17:08:43.432Z"
   },
   {
    "duration": 396,
    "start_time": "2022-01-19T17:08:43.748Z"
   },
   {
    "duration": 29,
    "start_time": "2022-01-19T17:08:44.146Z"
   },
   {
    "duration": 675,
    "start_time": "2022-01-19T17:08:44.176Z"
   },
   {
    "duration": 44,
    "start_time": "2022-01-19T17:08:44.855Z"
   },
   {
    "duration": 540,
    "start_time": "2022-01-19T17:08:44.901Z"
   },
   {
    "duration": 32,
    "start_time": "2022-01-19T17:08:45.443Z"
   },
   {
    "duration": 558,
    "start_time": "2022-01-19T17:08:45.477Z"
   },
   {
    "duration": 11,
    "start_time": "2022-01-19T17:08:46.037Z"
   },
   {
    "duration": 273,
    "start_time": "2022-01-19T17:08:46.050Z"
   },
   {
    "duration": -392,
    "start_time": "2022-01-19T17:08:46.717Z"
   },
   {
    "duration": 488,
    "start_time": "2022-01-19T17:11:24.355Z"
   },
   {
    "duration": 1626,
    "start_time": "2022-01-19T17:12:12.363Z"
   },
   {
    "duration": 276,
    "start_time": "2022-01-19T17:13:37.769Z"
   },
   {
    "duration": 47,
    "start_time": "2022-01-19T17:13:48.604Z"
   },
   {
    "duration": 6,
    "start_time": "2022-01-19T17:14:03.704Z"
   },
   {
    "duration": 221,
    "start_time": "2022-01-19T17:14:54.104Z"
   },
   {
    "duration": 273,
    "start_time": "2022-01-19T17:15:18.119Z"
   },
   {
    "duration": 10,
    "start_time": "2022-01-19T17:16:35.612Z"
   },
   {
    "duration": 263,
    "start_time": "2022-01-19T17:17:26.260Z"
   },
   {
    "duration": 10,
    "start_time": "2022-01-19T17:17:39.672Z"
   },
   {
    "duration": 312,
    "start_time": "2022-01-19T17:17:40.505Z"
   },
   {
    "duration": 6,
    "start_time": "2022-01-19T17:17:45.918Z"
   },
   {
    "duration": 5,
    "start_time": "2022-01-19T17:17:50.176Z"
   },
   {
    "duration": 14,
    "start_time": "2022-01-19T17:18:57.355Z"
   },
   {
    "duration": 306,
    "start_time": "2022-01-19T17:19:14.403Z"
   },
   {
    "duration": 440,
    "start_time": "2022-01-19T17:21:22.076Z"
   },
   {
    "duration": 284,
    "start_time": "2022-01-19T17:22:22.918Z"
   },
   {
    "duration": 277,
    "start_time": "2022-01-19T17:22:27.766Z"
   },
   {
    "duration": 349,
    "start_time": "2022-01-19T17:22:52.561Z"
   },
   {
    "duration": 290,
    "start_time": "2022-01-19T17:23:00.130Z"
   },
   {
    "duration": 290,
    "start_time": "2022-01-19T17:23:21.377Z"
   },
   {
    "duration": 329,
    "start_time": "2022-01-19T17:23:25.630Z"
   },
   {
    "duration": 104,
    "start_time": "2022-01-19T17:25:26.298Z"
   },
   {
    "duration": 89,
    "start_time": "2022-01-19T17:25:30.276Z"
   },
   {
    "duration": 89,
    "start_time": "2022-01-19T17:25:39.651Z"
   },
   {
    "duration": 6,
    "start_time": "2022-01-19T17:27:12.672Z"
   },
   {
    "duration": 220,
    "start_time": "2022-01-19T17:29:17.610Z"
   },
   {
    "duration": 226,
    "start_time": "2022-01-19T17:29:32.693Z"
   },
   {
    "duration": 224,
    "start_time": "2022-01-19T17:30:47.360Z"
   },
   {
    "duration": 225,
    "start_time": "2022-01-19T17:31:03.430Z"
   },
   {
    "duration": 491,
    "start_time": "2022-01-19T17:33:04.983Z"
   },
   {
    "duration": 219,
    "start_time": "2022-01-19T17:33:44.168Z"
   },
   {
    "duration": 219,
    "start_time": "2022-01-19T17:33:52.341Z"
   },
   {
    "duration": 214,
    "start_time": "2022-01-19T17:34:06.055Z"
   },
   {
    "duration": 6,
    "start_time": "2022-01-19T17:37:35.603Z"
   },
   {
    "duration": 9,
    "start_time": "2022-01-19T17:38:11.686Z"
   },
   {
    "duration": 12,
    "start_time": "2022-01-19T17:40:06.428Z"
   },
   {
    "duration": 11,
    "start_time": "2022-01-19T17:40:17.623Z"
   },
   {
    "duration": 11,
    "start_time": "2022-01-19T17:40:39.886Z"
   },
   {
    "duration": 12,
    "start_time": "2022-01-19T17:41:19.183Z"
   },
   {
    "duration": 12,
    "start_time": "2022-01-19T17:41:26.914Z"
   },
   {
    "duration": 13,
    "start_time": "2022-01-19T17:41:47.063Z"
   },
   {
    "duration": 11,
    "start_time": "2022-01-19T17:41:56.151Z"
   },
   {
    "duration": 12,
    "start_time": "2022-01-19T17:42:01.089Z"
   },
   {
    "duration": 127,
    "start_time": "2022-01-19T17:42:20.782Z"
   },
   {
    "duration": 93,
    "start_time": "2022-01-19T17:42:23.809Z"
   },
   {
    "duration": 99,
    "start_time": "2022-01-19T17:42:47.858Z"
   },
   {
    "duration": 87,
    "start_time": "2022-01-19T17:42:55.448Z"
   },
   {
    "duration": 94,
    "start_time": "2022-01-19T17:43:01.146Z"
   },
   {
    "duration": 93,
    "start_time": "2022-01-19T17:43:11.736Z"
   },
   {
    "duration": 90,
    "start_time": "2022-01-19T17:43:23.575Z"
   },
   {
    "duration": 150248,
    "start_time": "2022-01-19T17:43:48.764Z"
   },
   {
    "duration": 66,
    "start_time": "2022-01-19T17:46:19.014Z"
   },
   {
    "duration": 420,
    "start_time": "2022-01-19T17:46:19.081Z"
   },
   {
    "duration": 5,
    "start_time": "2022-01-19T17:46:19.505Z"
   },
   {
    "duration": 12,
    "start_time": "2022-01-19T17:46:19.513Z"
   },
   {
    "duration": 11,
    "start_time": "2022-01-19T17:46:19.527Z"
   },
   {
    "duration": 10,
    "start_time": "2022-01-19T17:46:19.539Z"
   },
   {
    "duration": 15,
    "start_time": "2022-01-19T17:46:19.552Z"
   },
   {
    "duration": 2,
    "start_time": "2022-01-19T17:46:19.569Z"
   },
   {
    "duration": 19,
    "start_time": "2022-01-19T17:46:19.598Z"
   },
   {
    "duration": 14,
    "start_time": "2022-01-19T17:46:19.620Z"
   },
   {
    "duration": 8,
    "start_time": "2022-01-19T17:46:19.636Z"
   },
   {
    "duration": 411,
    "start_time": "2022-01-19T17:46:19.646Z"
   },
   {
    "duration": 11,
    "start_time": "2022-01-19T17:46:20.059Z"
   },
   {
    "duration": 55,
    "start_time": "2022-01-19T17:46:20.071Z"
   },
   {
    "duration": 8,
    "start_time": "2022-01-19T17:46:20.127Z"
   },
   {
    "duration": 469,
    "start_time": "2022-01-19T17:46:20.136Z"
   },
   {
    "duration": 295,
    "start_time": "2022-01-19T17:46:20.608Z"
   },
   {
    "duration": 1138,
    "start_time": "2022-01-19T17:46:20.905Z"
   },
   {
    "duration": 23,
    "start_time": "2022-01-19T17:46:22.045Z"
   },
   {
    "duration": 388,
    "start_time": "2022-01-19T17:46:22.069Z"
   },
   {
    "duration": 386,
    "start_time": "2022-01-19T17:46:22.459Z"
   },
   {
    "duration": 327,
    "start_time": "2022-01-19T17:46:22.849Z"
   },
   {
    "duration": 431,
    "start_time": "2022-01-19T17:46:23.178Z"
   },
   {
    "duration": 33,
    "start_time": "2022-01-19T17:46:23.612Z"
   },
   {
    "duration": 572,
    "start_time": "2022-01-19T17:46:23.647Z"
   },
   {
    "duration": 32,
    "start_time": "2022-01-19T17:46:24.221Z"
   },
   {
    "duration": 592,
    "start_time": "2022-01-19T17:46:24.255Z"
   },
   {
    "duration": 30,
    "start_time": "2022-01-19T17:46:24.849Z"
   },
   {
    "duration": 562,
    "start_time": "2022-01-19T17:46:24.881Z"
   },
   {
    "duration": 15,
    "start_time": "2022-01-19T17:46:25.445Z"
   },
   {
    "duration": 255,
    "start_time": "2022-01-19T17:46:25.462Z"
   },
   {
    "duration": 251,
    "start_time": "2022-01-19T17:46:25.719Z"
   },
   {
    "duration": 133,
    "start_time": "2022-01-19T17:46:25.972Z"
   },
   {
    "duration": 7,
    "start_time": "2022-01-19T17:47:29.545Z"
   },
   {
    "duration": 8,
    "start_time": "2022-01-19T17:47:53.927Z"
   },
   {
    "duration": 10,
    "start_time": "2022-01-19T17:49:29.917Z"
   },
   {
    "duration": 10,
    "start_time": "2022-01-19T17:50:42.651Z"
   }
  ],
  "kernelspec": {
   "display_name": "Python 3",
   "language": "python",
   "name": "python3"
  },
  "language_info": {
   "codemirror_mode": {
    "name": "ipython",
    "version": 3
   },
   "file_extension": ".py",
   "mimetype": "text/x-python",
   "name": "python",
   "nbconvert_exporter": "python",
   "pygments_lexer": "ipython3",
   "version": "3.7.12"
  },
  "toc": {
   "base_numbering": 1,
   "nav_menu": {},
   "number_sections": true,
   "sideBar": true,
   "skip_h1_title": true,
   "title_cell": "Table of Contents",
   "title_sidebar": "Contents",
   "toc_cell": false,
   "toc_position": {
    "height": "calc(100% - 180px)",
    "left": "10px",
    "top": "150px",
    "width": "223px"
   },
   "toc_section_display": true,
   "toc_window_display": true
  }
 },
 "nbformat": 4,
 "nbformat_minor": 2
}
