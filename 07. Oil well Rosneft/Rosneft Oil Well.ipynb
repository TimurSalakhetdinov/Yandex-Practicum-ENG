{
 "cells": [
  {
   "cell_type": "markdown",
   "metadata": {},
   "source": [
    "# Выбор локации для скважины"
   ]
  },
  {
   "cell_type": "markdown",
   "metadata": {},
   "source": [
    "Допустим, вы работаете в добывающей компании «ГлавРосГосНефть». Нужно решить, где бурить новую скважину.\n",
    "\n",
    "Вам предоставлены пробы нефти в трёх регионах: в каждом 10 000 месторождений, где измерили качество нефти и объём её запасов. Постройте модель машинного обучения, которая поможет определить регион, где добыча принесёт наибольшую прибыль. Проанализируйте возможную прибыль и риски техникой *Bootstrap.*\n",
    "\n",
    "Шаги для выбора локации:\n",
    "\n",
    "- В избранном регионе ищут месторождения, для каждого определяют значения признаков;\n",
    "- Строят модель и оценивают объём запасов;\n",
    "- Выбирают месторождения с самым высокими оценками значений. Количество месторождений зависит от бюджета компании и стоимости разработки одной скважины;\n",
    "- Прибыль равна суммарной прибыли отобранных месторождений."
   ]
  },
  {
   "cell_type": "markdown",
   "metadata": {},
   "source": [
    "## Загрузка и подготовка данных"
   ]
  },
  {
   "cell_type": "code",
   "execution_count": 2,
   "metadata": {},
   "outputs": [],
   "source": [
    "# Загрузим все необходимые библиотеки:\n",
    "import pandas as pd\n",
    "import numpy as np\n",
    "import matplotlib.pyplot as plt\n",
    "from sklearn.linear_model import LinearRegression\n",
    "from sklearn.metrics import mean_absolute_error\n",
    "from sklearn.model_selection import train_test_split\n",
    "from sklearn.metrics import mean_squared_error\n",
    "import warnings \n",
    "warnings.filterwarnings('ignore')"
   ]
  },
  {
   "cell_type": "code",
   "execution_count": 3,
   "metadata": {},
   "outputs": [
    {
     "name": "stdout",
     "output_type": "stream",
     "text": [
      "<class 'pandas.core.frame.DataFrame'>\n",
      "RangeIndex: 100000 entries, 0 to 99999\n",
      "Data columns (total 5 columns):\n",
      "id         100000 non-null object\n",
      "f0         100000 non-null float64\n",
      "f1         100000 non-null float64\n",
      "f2         100000 non-null float64\n",
      "product    100000 non-null float64\n",
      "dtypes: float64(4), object(1)\n",
      "memory usage: 3.8+ MB\n"
     ]
    },
    {
     "data": {
      "text/html": [
       "<div>\n",
       "<style scoped>\n",
       "    .dataframe tbody tr th:only-of-type {\n",
       "        vertical-align: middle;\n",
       "    }\n",
       "\n",
       "    .dataframe tbody tr th {\n",
       "        vertical-align: top;\n",
       "    }\n",
       "\n",
       "    .dataframe thead th {\n",
       "        text-align: right;\n",
       "    }\n",
       "</style>\n",
       "<table border=\"1\" class=\"dataframe\">\n",
       "  <thead>\n",
       "    <tr style=\"text-align: right;\">\n",
       "      <th></th>\n",
       "      <th>id</th>\n",
       "      <th>f0</th>\n",
       "      <th>f1</th>\n",
       "      <th>f2</th>\n",
       "      <th>product</th>\n",
       "    </tr>\n",
       "  </thead>\n",
       "  <tbody>\n",
       "    <tr>\n",
       "      <td>0</td>\n",
       "      <td>txEyH</td>\n",
       "      <td>0.705745</td>\n",
       "      <td>-0.497823</td>\n",
       "      <td>1.221170</td>\n",
       "      <td>105.280062</td>\n",
       "    </tr>\n",
       "    <tr>\n",
       "      <td>1</td>\n",
       "      <td>2acmU</td>\n",
       "      <td>1.334711</td>\n",
       "      <td>-0.340164</td>\n",
       "      <td>4.365080</td>\n",
       "      <td>73.037750</td>\n",
       "    </tr>\n",
       "    <tr>\n",
       "      <td>2</td>\n",
       "      <td>409Wp</td>\n",
       "      <td>1.022732</td>\n",
       "      <td>0.151990</td>\n",
       "      <td>1.419926</td>\n",
       "      <td>85.265647</td>\n",
       "    </tr>\n",
       "    <tr>\n",
       "      <td>3</td>\n",
       "      <td>iJLyR</td>\n",
       "      <td>-0.032172</td>\n",
       "      <td>0.139033</td>\n",
       "      <td>2.978566</td>\n",
       "      <td>168.620776</td>\n",
       "    </tr>\n",
       "    <tr>\n",
       "      <td>4</td>\n",
       "      <td>Xdl7t</td>\n",
       "      <td>1.988431</td>\n",
       "      <td>0.155413</td>\n",
       "      <td>4.751769</td>\n",
       "      <td>154.036647</td>\n",
       "    </tr>\n",
       "    <tr>\n",
       "      <td>5</td>\n",
       "      <td>wX4Hy</td>\n",
       "      <td>0.969570</td>\n",
       "      <td>0.489775</td>\n",
       "      <td>-0.735383</td>\n",
       "      <td>64.741541</td>\n",
       "    </tr>\n",
       "    <tr>\n",
       "      <td>6</td>\n",
       "      <td>tL6pL</td>\n",
       "      <td>0.645075</td>\n",
       "      <td>0.530656</td>\n",
       "      <td>1.780266</td>\n",
       "      <td>49.055285</td>\n",
       "    </tr>\n",
       "    <tr>\n",
       "      <td>7</td>\n",
       "      <td>BYPU6</td>\n",
       "      <td>-0.400648</td>\n",
       "      <td>0.808337</td>\n",
       "      <td>-5.624670</td>\n",
       "      <td>72.943292</td>\n",
       "    </tr>\n",
       "    <tr>\n",
       "      <td>8</td>\n",
       "      <td>j9Oui</td>\n",
       "      <td>0.643105</td>\n",
       "      <td>-0.551583</td>\n",
       "      <td>2.372141</td>\n",
       "      <td>113.356160</td>\n",
       "    </tr>\n",
       "    <tr>\n",
       "      <td>9</td>\n",
       "      <td>OLuZU</td>\n",
       "      <td>2.173381</td>\n",
       "      <td>0.563698</td>\n",
       "      <td>9.441852</td>\n",
       "      <td>127.910945</td>\n",
       "    </tr>\n",
       "  </tbody>\n",
       "</table>\n",
       "</div>"
      ],
      "text/plain": [
       "      id        f0        f1        f2     product\n",
       "0  txEyH  0.705745 -0.497823  1.221170  105.280062\n",
       "1  2acmU  1.334711 -0.340164  4.365080   73.037750\n",
       "2  409Wp  1.022732  0.151990  1.419926   85.265647\n",
       "3  iJLyR -0.032172  0.139033  2.978566  168.620776\n",
       "4  Xdl7t  1.988431  0.155413  4.751769  154.036647\n",
       "5  wX4Hy  0.969570  0.489775 -0.735383   64.741541\n",
       "6  tL6pL  0.645075  0.530656  1.780266   49.055285\n",
       "7  BYPU6 -0.400648  0.808337 -5.624670   72.943292\n",
       "8  j9Oui  0.643105 -0.551583  2.372141  113.356160\n",
       "9  OLuZU  2.173381  0.563698  9.441852  127.910945"
      ]
     },
     "metadata": {},
     "output_type": "display_data"
    },
    {
     "name": "stdout",
     "output_type": "stream",
     "text": [
      "<class 'pandas.core.frame.DataFrame'>\n",
      "RangeIndex: 100000 entries, 0 to 99999\n",
      "Data columns (total 5 columns):\n",
      "id         100000 non-null object\n",
      "f0         100000 non-null float64\n",
      "f1         100000 non-null float64\n",
      "f2         100000 non-null float64\n",
      "product    100000 non-null float64\n",
      "dtypes: float64(4), object(1)\n",
      "memory usage: 3.8+ MB\n"
     ]
    },
    {
     "data": {
      "text/html": [
       "<div>\n",
       "<style scoped>\n",
       "    .dataframe tbody tr th:only-of-type {\n",
       "        vertical-align: middle;\n",
       "    }\n",
       "\n",
       "    .dataframe tbody tr th {\n",
       "        vertical-align: top;\n",
       "    }\n",
       "\n",
       "    .dataframe thead th {\n",
       "        text-align: right;\n",
       "    }\n",
       "</style>\n",
       "<table border=\"1\" class=\"dataframe\">\n",
       "  <thead>\n",
       "    <tr style=\"text-align: right;\">\n",
       "      <th></th>\n",
       "      <th>id</th>\n",
       "      <th>f0</th>\n",
       "      <th>f1</th>\n",
       "      <th>f2</th>\n",
       "      <th>product</th>\n",
       "    </tr>\n",
       "  </thead>\n",
       "  <tbody>\n",
       "    <tr>\n",
       "      <td>0</td>\n",
       "      <td>txEyH</td>\n",
       "      <td>0.705745</td>\n",
       "      <td>-0.497823</td>\n",
       "      <td>1.221170</td>\n",
       "      <td>105.280062</td>\n",
       "    </tr>\n",
       "    <tr>\n",
       "      <td>1</td>\n",
       "      <td>2acmU</td>\n",
       "      <td>1.334711</td>\n",
       "      <td>-0.340164</td>\n",
       "      <td>4.365080</td>\n",
       "      <td>73.037750</td>\n",
       "    </tr>\n",
       "    <tr>\n",
       "      <td>2</td>\n",
       "      <td>409Wp</td>\n",
       "      <td>1.022732</td>\n",
       "      <td>0.151990</td>\n",
       "      <td>1.419926</td>\n",
       "      <td>85.265647</td>\n",
       "    </tr>\n",
       "    <tr>\n",
       "      <td>3</td>\n",
       "      <td>iJLyR</td>\n",
       "      <td>-0.032172</td>\n",
       "      <td>0.139033</td>\n",
       "      <td>2.978566</td>\n",
       "      <td>168.620776</td>\n",
       "    </tr>\n",
       "    <tr>\n",
       "      <td>4</td>\n",
       "      <td>Xdl7t</td>\n",
       "      <td>1.988431</td>\n",
       "      <td>0.155413</td>\n",
       "      <td>4.751769</td>\n",
       "      <td>154.036647</td>\n",
       "    </tr>\n",
       "    <tr>\n",
       "      <td>5</td>\n",
       "      <td>wX4Hy</td>\n",
       "      <td>0.969570</td>\n",
       "      <td>0.489775</td>\n",
       "      <td>-0.735383</td>\n",
       "      <td>64.741541</td>\n",
       "    </tr>\n",
       "    <tr>\n",
       "      <td>6</td>\n",
       "      <td>tL6pL</td>\n",
       "      <td>0.645075</td>\n",
       "      <td>0.530656</td>\n",
       "      <td>1.780266</td>\n",
       "      <td>49.055285</td>\n",
       "    </tr>\n",
       "    <tr>\n",
       "      <td>7</td>\n",
       "      <td>BYPU6</td>\n",
       "      <td>-0.400648</td>\n",
       "      <td>0.808337</td>\n",
       "      <td>-5.624670</td>\n",
       "      <td>72.943292</td>\n",
       "    </tr>\n",
       "    <tr>\n",
       "      <td>8</td>\n",
       "      <td>j9Oui</td>\n",
       "      <td>0.643105</td>\n",
       "      <td>-0.551583</td>\n",
       "      <td>2.372141</td>\n",
       "      <td>113.356160</td>\n",
       "    </tr>\n",
       "    <tr>\n",
       "      <td>9</td>\n",
       "      <td>OLuZU</td>\n",
       "      <td>2.173381</td>\n",
       "      <td>0.563698</td>\n",
       "      <td>9.441852</td>\n",
       "      <td>127.910945</td>\n",
       "    </tr>\n",
       "  </tbody>\n",
       "</table>\n",
       "</div>"
      ],
      "text/plain": [
       "      id        f0        f1        f2     product\n",
       "0  txEyH  0.705745 -0.497823  1.221170  105.280062\n",
       "1  2acmU  1.334711 -0.340164  4.365080   73.037750\n",
       "2  409Wp  1.022732  0.151990  1.419926   85.265647\n",
       "3  iJLyR -0.032172  0.139033  2.978566  168.620776\n",
       "4  Xdl7t  1.988431  0.155413  4.751769  154.036647\n",
       "5  wX4Hy  0.969570  0.489775 -0.735383   64.741541\n",
       "6  tL6pL  0.645075  0.530656  1.780266   49.055285\n",
       "7  BYPU6 -0.400648  0.808337 -5.624670   72.943292\n",
       "8  j9Oui  0.643105 -0.551583  2.372141  113.356160\n",
       "9  OLuZU  2.173381  0.563698  9.441852  127.910945"
      ]
     },
     "metadata": {},
     "output_type": "display_data"
    },
    {
     "name": "stdout",
     "output_type": "stream",
     "text": [
      "<class 'pandas.core.frame.DataFrame'>\n",
      "RangeIndex: 100000 entries, 0 to 99999\n",
      "Data columns (total 5 columns):\n",
      "id         100000 non-null object\n",
      "f0         100000 non-null float64\n",
      "f1         100000 non-null float64\n",
      "f2         100000 non-null float64\n",
      "product    100000 non-null float64\n",
      "dtypes: float64(4), object(1)\n",
      "memory usage: 3.8+ MB\n"
     ]
    },
    {
     "data": {
      "text/html": [
       "<div>\n",
       "<style scoped>\n",
       "    .dataframe tbody tr th:only-of-type {\n",
       "        vertical-align: middle;\n",
       "    }\n",
       "\n",
       "    .dataframe tbody tr th {\n",
       "        vertical-align: top;\n",
       "    }\n",
       "\n",
       "    .dataframe thead th {\n",
       "        text-align: right;\n",
       "    }\n",
       "</style>\n",
       "<table border=\"1\" class=\"dataframe\">\n",
       "  <thead>\n",
       "    <tr style=\"text-align: right;\">\n",
       "      <th></th>\n",
       "      <th>id</th>\n",
       "      <th>f0</th>\n",
       "      <th>f1</th>\n",
       "      <th>f2</th>\n",
       "      <th>product</th>\n",
       "    </tr>\n",
       "  </thead>\n",
       "  <tbody>\n",
       "    <tr>\n",
       "      <td>0</td>\n",
       "      <td>fwXo0</td>\n",
       "      <td>-1.146987</td>\n",
       "      <td>0.963328</td>\n",
       "      <td>-0.828965</td>\n",
       "      <td>27.758673</td>\n",
       "    </tr>\n",
       "    <tr>\n",
       "      <td>1</td>\n",
       "      <td>WJtFt</td>\n",
       "      <td>0.262778</td>\n",
       "      <td>0.269839</td>\n",
       "      <td>-2.530187</td>\n",
       "      <td>56.069697</td>\n",
       "    </tr>\n",
       "    <tr>\n",
       "      <td>2</td>\n",
       "      <td>ovLUW</td>\n",
       "      <td>0.194587</td>\n",
       "      <td>0.289035</td>\n",
       "      <td>-5.586433</td>\n",
       "      <td>62.871910</td>\n",
       "    </tr>\n",
       "    <tr>\n",
       "      <td>3</td>\n",
       "      <td>q6cA6</td>\n",
       "      <td>2.236060</td>\n",
       "      <td>-0.553760</td>\n",
       "      <td>0.930038</td>\n",
       "      <td>114.572842</td>\n",
       "    </tr>\n",
       "    <tr>\n",
       "      <td>4</td>\n",
       "      <td>WPMUX</td>\n",
       "      <td>-0.515993</td>\n",
       "      <td>1.716266</td>\n",
       "      <td>5.899011</td>\n",
       "      <td>149.600746</td>\n",
       "    </tr>\n",
       "    <tr>\n",
       "      <td>5</td>\n",
       "      <td>LzZXx</td>\n",
       "      <td>-0.758092</td>\n",
       "      <td>0.710691</td>\n",
       "      <td>2.585887</td>\n",
       "      <td>90.222465</td>\n",
       "    </tr>\n",
       "    <tr>\n",
       "      <td>6</td>\n",
       "      <td>WBHRv</td>\n",
       "      <td>-0.574891</td>\n",
       "      <td>0.317727</td>\n",
       "      <td>1.773745</td>\n",
       "      <td>45.641478</td>\n",
       "    </tr>\n",
       "    <tr>\n",
       "      <td>7</td>\n",
       "      <td>XO8fn</td>\n",
       "      <td>-1.906649</td>\n",
       "      <td>-2.458350</td>\n",
       "      <td>-0.177097</td>\n",
       "      <td>72.480640</td>\n",
       "    </tr>\n",
       "    <tr>\n",
       "      <td>8</td>\n",
       "      <td>ybmQ5</td>\n",
       "      <td>1.776292</td>\n",
       "      <td>-0.279356</td>\n",
       "      <td>3.004156</td>\n",
       "      <td>106.616832</td>\n",
       "    </tr>\n",
       "    <tr>\n",
       "      <td>9</td>\n",
       "      <td>OilcN</td>\n",
       "      <td>-1.214452</td>\n",
       "      <td>-0.439314</td>\n",
       "      <td>5.922514</td>\n",
       "      <td>52.954532</td>\n",
       "    </tr>\n",
       "  </tbody>\n",
       "</table>\n",
       "</div>"
      ],
      "text/plain": [
       "      id        f0        f1        f2     product\n",
       "0  fwXo0 -1.146987  0.963328 -0.828965   27.758673\n",
       "1  WJtFt  0.262778  0.269839 -2.530187   56.069697\n",
       "2  ovLUW  0.194587  0.289035 -5.586433   62.871910\n",
       "3  q6cA6  2.236060 -0.553760  0.930038  114.572842\n",
       "4  WPMUX -0.515993  1.716266  5.899011  149.600746\n",
       "5  LzZXx -0.758092  0.710691  2.585887   90.222465\n",
       "6  WBHRv -0.574891  0.317727  1.773745   45.641478\n",
       "7  XO8fn -1.906649 -2.458350 -0.177097   72.480640\n",
       "8  ybmQ5  1.776292 -0.279356  3.004156  106.616832\n",
       "9  OilcN -1.214452 -0.439314  5.922514   52.954532"
      ]
     },
     "metadata": {},
     "output_type": "display_data"
    }
   ],
   "source": [
    "# Выведем данные:\n",
    "data_1 = pd.read_csv('/datasets/geo_data_0.csv')\n",
    "data_2 = pd.read_csv('/datasets/geo_data_1.csv')\n",
    "data_3 = pd.read_csv('/datasets/geo_data_2.csv')\n",
    "\n",
    "data = [data_1, data_1, data_3]\n",
    "for i in data:\n",
    "    i.info()\n",
    "    display(i.head(10))"
   ]
  },
  {
   "cell_type": "code",
   "execution_count": 4,
   "metadata": {},
   "outputs": [],
   "source": [
    "# Удалим столбцы id, тк они будут мешать модели:\n",
    "data_1 = data_1.drop('id', axis=1)\n",
    "data_2 = data_2.drop('id', axis=1)\n",
    "data_3 = data_3.drop('id', axis=1)"
   ]
  },
  {
   "cell_type": "markdown",
   "metadata": {},
   "source": [
    "## Обучение и проверка модели"
   ]
  },
  {
   "cell_type": "code",
   "execution_count": 5,
   "metadata": {},
   "outputs": [
    {
     "data": {
      "text/plain": [
       "(75000, 3)"
      ]
     },
     "metadata": {},
     "output_type": "display_data"
    },
    {
     "data": {
      "text/plain": [
       "(75000,)"
      ]
     },
     "metadata": {},
     "output_type": "display_data"
    },
    {
     "data": {
      "text/plain": [
       "(25000, 3)"
      ]
     },
     "metadata": {},
     "output_type": "display_data"
    },
    {
     "data": {
      "text/plain": [
       "(25000,)"
      ]
     },
     "metadata": {},
     "output_type": "display_data"
    }
   ],
   "source": [
    "# Извлечем признаки и целевой признак:\n",
    "features_1 = data_1.drop(['product'], axis=1)  \n",
    "target_1 = data_1['product']\n",
    "\n",
    "# Разделим данные на тренировочную и валидационную выборки (75/25): \n",
    "features_train_1, features_valid_1, target_train_1, target_valid_1 = train_test_split(\n",
    "    features_1, target_1, test_size=0.25, random_state=12345)\n",
    "\n",
    "# Распечатаем размеры выборок:\n",
    "df = features_train_1, target_train_1, features_valid_1, target_valid_1\n",
    "\n",
    "for i in df:\n",
    "    display(i.shape)"
   ]
  },
  {
   "cell_type": "code",
   "execution_count": 6,
   "metadata": {},
   "outputs": [
    {
     "data": {
      "text/plain": [
       "(75000, 3)"
      ]
     },
     "metadata": {},
     "output_type": "display_data"
    },
    {
     "data": {
      "text/plain": [
       "(75000,)"
      ]
     },
     "metadata": {},
     "output_type": "display_data"
    },
    {
     "data": {
      "text/plain": [
       "(25000, 3)"
      ]
     },
     "metadata": {},
     "output_type": "display_data"
    },
    {
     "data": {
      "text/plain": [
       "(25000,)"
      ]
     },
     "metadata": {},
     "output_type": "display_data"
    }
   ],
   "source": [
    "# Извлечем признаки и целевой признак:\n",
    "features_2 = data_2.drop(['product'], axis=1)  \n",
    "target_2 = data_2['product']\n",
    "\n",
    "# Разделим данные на тренировочную и валидационную выборки (75/25):\n",
    "features_train_2, features_valid_2, target_train_2, target_valid_2 = train_test_split(\n",
    "    features_2, target_2, test_size=0.25, random_state=12345)\n",
    "\n",
    "# Распечатаем размеры выборок:\n",
    "df = features_train_2, target_train_2, features_valid_2, target_valid_2\n",
    "\n",
    "for i in df:\n",
    "    display(i.shape)"
   ]
  },
  {
   "cell_type": "code",
   "execution_count": 7,
   "metadata": {},
   "outputs": [
    {
     "data": {
      "text/plain": [
       "(75000, 3)"
      ]
     },
     "metadata": {},
     "output_type": "display_data"
    },
    {
     "data": {
      "text/plain": [
       "(75000,)"
      ]
     },
     "metadata": {},
     "output_type": "display_data"
    },
    {
     "data": {
      "text/plain": [
       "(25000, 3)"
      ]
     },
     "metadata": {},
     "output_type": "display_data"
    },
    {
     "data": {
      "text/plain": [
       "(25000,)"
      ]
     },
     "metadata": {},
     "output_type": "display_data"
    }
   ],
   "source": [
    "# Извлечем признаки и целевой признак:\n",
    "features_3 = data_3.drop(['product'], axis=1)  \n",
    "target_3 = data_3['product']\n",
    "\n",
    "# Разделим данные на тренировочную и валидационную выборки (75/25):\n",
    "features_train_3, features_valid_3, target_train_3, target_valid_3 = train_test_split(\n",
    "    features_3, target_3, test_size=0.25, random_state=12345)\n",
    "\n",
    "# Распечатаем размеры выборок:\n",
    "df = features_train_3, target_train_3, features_valid_3, target_valid_3\n",
    "\n",
    "for i in df:\n",
    "    display(i.shape)"
   ]
  },
  {
   "cell_type": "code",
   "execution_count": 8,
   "metadata": {},
   "outputs": [
    {
     "data": {
      "text/plain": [
       "LinearRegression(copy_X=True, fit_intercept=True, n_jobs=None, normalize=False)"
      ]
     },
     "execution_count": 8,
     "metadata": {},
     "output_type": "execute_result"
    }
   ],
   "source": [
    "# Применим линейную регрессию для создания моделей:\n",
    "model_1 = LinearRegression() \n",
    "model_1.fit(features_train_1, target_train_1)\n",
    "\n",
    "model_2 = LinearRegression()\n",
    "model_2.fit(features_train_2, target_train_2)\n",
    "\n",
    "model_3 = LinearRegression()\n",
    "model_3.fit(features_train_3, target_train_3)"
   ]
  },
  {
   "cell_type": "code",
   "execution_count": 9,
   "metadata": {},
   "outputs": [],
   "source": [
    "# Сделаем предсказания на валидационной выборке:\n",
    "predicted_valid_1 = model_1.predict(features_valid_1)\n",
    "predicted_valid_2 = model_2.predict(features_valid_2)\n",
    "predicted_valid_3 = model_3.predict(features_valid_3)"
   ]
  },
  {
   "cell_type": "code",
   "execution_count": 10,
   "metadata": {},
   "outputs": [
    {
     "name": "stdout",
     "output_type": "stream",
     "text": [
      "Region_1\n",
      "Mean = 92.59256778438038\n",
      "RMSE = 37.5794217150813\n"
     ]
    },
    {
     "data": {
      "text/plain": [
       "None"
      ]
     },
     "metadata": {},
     "output_type": "display_data"
    },
    {
     "name": "stdout",
     "output_type": "stream",
     "text": [
      "Region_2\n",
      "Mean = 68.728546895446\n",
      "RMSE = 0.893099286775616\n"
     ]
    },
    {
     "data": {
      "text/plain": [
       "None"
      ]
     },
     "metadata": {},
     "output_type": "display_data"
    },
    {
     "name": "stdout",
     "output_type": "stream",
     "text": [
      "Region_3\n",
      "Mean = 94.96504596800489\n",
      "RMSE = 40.02970873393434\n"
     ]
    }
   ],
   "source": [
    "# Рассчитаем средний предсказанный запас сырья и RMSE моделей:\n",
    "def mean_rmse(predict, target):\n",
    "    print('Mean =', predict.mean())\n",
    "    mse = mean_squared_error(target, predict)\n",
    "    print('RMSE =', np.sqrt(mse))\n",
    "\n",
    "print('Region_1')\n",
    "display(mean_rmse(predicted_valid_1, target_valid_1))\n",
    "print('Region_2')\n",
    "display(mean_rmse(predicted_valid_2, target_valid_2))\n",
    "print('Region_3')\n",
    "mean_rmse(predicted_valid_3, target_valid_3)"
   ]
  },
  {
   "cell_type": "markdown",
   "metadata": {},
   "source": [
    "**Вывод:** В регионе 2 самый низкий средний запас предсказанного сырья, при этом самые высокие значения RMSE в регионах 1 и 3, что говорит о высокой степени ошибки в данных регионах."
   ]
  },
  {
   "cell_type": "markdown",
   "metadata": {},
   "source": [
    "## Подготовка к расчёту прибыли"
   ]
  },
  {
   "cell_type": "code",
   "execution_count": 11,
   "metadata": {},
   "outputs": [],
   "source": [
    "# При разведке региона исследуют 500 точек, из которых с помощью машинного обучения выбирают 200 лучших для разработки.\n",
    "COUNT = 200\n",
    "# Бюджет на разработку скважин в регионе — 10 млрд рублей.\n",
    "BUDGET = 10000000000\n",
    "# При нынешних ценах один баррель сырья приносит 450 рублей дохода. \n",
    "# Доход с каждой единицы продукта составляет 450 тыс. рублей, поскольку объём указан в тысячах баррелей.\n",
    "INCOME = 450000"
   ]
  },
  {
   "cell_type": "code",
   "execution_count": 12,
   "metadata": {},
   "outputs": [
    {
     "name": "stdout",
     "output_type": "stream",
     "text": [
      "111.11111111111111\n"
     ]
    }
   ],
   "source": [
    "# Рассчитаем достаточный объём сырья для безубыточной разработки новой скважины:\n",
    "# Объем сырья * стоимость одной единицы продукции = бюджет разработки / количество скважин\n",
    "volume = BUDGET / (COUNT * INCOME)\n",
    "print(volume)"
   ]
  },
  {
   "cell_type": "markdown",
   "metadata": {},
   "source": [
    "* Точка безубыточности по объему сырья для одной скважины составляет 111 тыс. бареллей.\n",
    "* Регион 1 имеет среднее предсказанное значение 93, Регион 2 - 69, Регион 3 - 95.\n",
    "* **Вывод: Среднее предсказанное значение во всех трех регионах ниже точки безубыточности для одной скважины. Необходимо отобрать лучшие скважины.**"
   ]
  },
  {
   "cell_type": "markdown",
   "metadata": {},
   "source": [
    "## Расчёт прибыли и рисков "
   ]
  },
  {
   "cell_type": "code",
   "execution_count": 13,
   "metadata": {},
   "outputs": [],
   "source": [
    "# Напишем функцию для расчёта прибыли по выбранным скважинам и предсказаниям модели:\n",
    "def revenue(target, predictions):\n",
    "    predict_sorted = pd.Series(predictions).sort_values(ascending=False)\n",
    "    selected_target = target[predict_sorted.index][:COUNT]\n",
    "    return selected_target.sum() * INCOME - BUDGET"
   ]
  },
  {
   "cell_type": "code",
   "execution_count": 14,
   "metadata": {},
   "outputs": [
    {
     "name": "stdout",
     "output_type": "stream",
     "text": [
      "Region_1\n"
     ]
    },
    {
     "data": {
      "text/plain": [
       "3320826043.1398525"
      ]
     },
     "metadata": {},
     "output_type": "display_data"
    },
    {
     "name": "stdout",
     "output_type": "stream",
     "text": [
      "Region_2\n"
     ]
    },
    {
     "data": {
      "text/plain": [
       "2415086696.681511"
      ]
     },
     "metadata": {},
     "output_type": "display_data"
    },
    {
     "name": "stdout",
     "output_type": "stream",
     "text": [
      "Region_3\n"
     ]
    },
    {
     "data": {
      "text/plain": [
       "2710349963.5998325"
      ]
     },
     "execution_count": 14,
     "metadata": {},
     "output_type": "execute_result"
    }
   ],
   "source": [
    "# Рассчитаем прибыль по каждому региону:\n",
    "target_valid_1 = target_valid_1.reset_index(drop=True)\n",
    "target_valid_2 = target_valid_2.reset_index(drop=True)\n",
    "target_valid_3 = target_valid_3.reset_index(drop=True)\n",
    "\n",
    "print('Region_1')\n",
    "display(revenue(target_valid_1, predicted_valid_1))\n",
    "print('Region_2')\n",
    "display(revenue(target_valid_2, predicted_valid_2))\n",
    "print('Region_3')\n",
    "revenue(target_valid_3, predicted_valid_3)"
   ]
  },
  {
   "cell_type": "code",
   "execution_count": 15,
   "metadata": {},
   "outputs": [],
   "source": [
    "# Применим технику Bootstrap с 1000 выборок, чтобы найти среднюю прибыль, 95%-й доверительный интервал и риск убытков:\n",
    "def count_revenue(target, predict):\n",
    "    state = np.random.RandomState(100)\n",
    "    values = []\n",
    "    for i in range(1000):\n",
    "        target_sample = pd.Series(target).sample(n=500, random_state=state, replace=True)\n",
    "        prob_sample = pd.Series(predict)[target_sample.index]\n",
    "        rev_sample = revenue(target_sample, prob_sample)\n",
    "        values.append(rev_sample)\n",
    "    values = pd.Series(values)\n",
    "    lower = values.quantile(0.025)\n",
    "    upper = values.quantile(0.975)\n",
    "    #count = 0\n",
    "    #for i in range(len(values)):\n",
    "    #    if values[i] < 0:\n",
    "    #        count += 1 count/len(values)*100\n",
    "    return values.mean(), lower, upper, (values < 0).mean()*100"
   ]
  },
  {
   "cell_type": "code",
   "execution_count": 16,
   "metadata": {
    "scrolled": true
   },
   "outputs": [
    {
     "name": "stdout",
     "output_type": "stream",
     "text": [
      "Region_1\n"
     ]
    },
    {
     "data": {
      "text/plain": [
       "(408417421.9472264, -122256880.33374405, 989778917.6915294, 6.800000000000001)"
      ]
     },
     "metadata": {},
     "output_type": "display_data"
    },
    {
     "name": "stdout",
     "output_type": "stream",
     "text": [
      "Region_2\n"
     ]
    },
    {
     "data": {
      "text/plain": [
       "(504932744.04616815, 95193084.76780239, 916496786.6306496, 1.0)"
      ]
     },
     "metadata": {},
     "output_type": "display_data"
    },
    {
     "name": "stdout",
     "output_type": "stream",
     "text": [
      "Region_3\n"
     ]
    },
    {
     "data": {
      "text/plain": [
       "(418317134.1329915, -159796161.96567866, 947337201.5616112, 7.8)"
      ]
     },
     "execution_count": 16,
     "metadata": {},
     "output_type": "execute_result"
    }
   ],
   "source": [
    "print('Region_1')\n",
    "display(count_revenue(target_valid_1, predicted_valid_1))\n",
    "print('Region_2')\n",
    "display(count_revenue(target_valid_2, predicted_valid_2))\n",
    "print('Region_3')\n",
    "count_revenue(target_valid_3, predicted_valid_3)"
   ]
  },
  {
   "cell_type": "markdown",
   "metadata": {},
   "source": [
    "**Вывод:** Наилучшим по показателям оказался Регион 2, в котором максимальная средняя прибыль среди трех регионов -505 млн. и риск отрицательной прибыли минимальный - 1%."
   ]
  },
  {
   "cell_type": "code",
   "execution_count": null,
   "metadata": {},
   "outputs": [],
   "source": []
  }
 ],
 "metadata": {
  "ExecuteTimeLog": [
   {
    "duration": 254,
    "start_time": "2022-03-06T12:44:30.861Z"
   },
   {
    "duration": 1143,
    "start_time": "2022-03-06T12:44:36.352Z"
   },
   {
    "duration": 355,
    "start_time": "2022-03-06T12:44:37.497Z"
   },
   {
    "duration": 373,
    "start_time": "2022-03-06T12:44:59.029Z"
   },
   {
    "duration": 383,
    "start_time": "2022-03-06T12:45:16.381Z"
   },
   {
    "duration": 370,
    "start_time": "2022-03-06T12:45:23.134Z"
   },
   {
    "duration": 275,
    "start_time": "2022-03-06T13:57:23.875Z"
   },
   {
    "duration": 25,
    "start_time": "2022-03-06T14:27:56.837Z"
   },
   {
    "duration": 226,
    "start_time": "2022-03-06T14:27:59.689Z"
   },
   {
    "duration": 26,
    "start_time": "2022-03-06T14:28:02.557Z"
   },
   {
    "duration": 5,
    "start_time": "2022-03-06T14:28:15.832Z"
   },
   {
    "duration": 391,
    "start_time": "2022-03-06T14:28:15.839Z"
   },
   {
    "duration": 41,
    "start_time": "2022-03-06T14:28:16.232Z"
   },
   {
    "duration": 24,
    "start_time": "2022-03-06T14:28:16.275Z"
   },
   {
    "duration": 31,
    "start_time": "2022-03-06T14:28:16.301Z"
   },
   {
    "duration": 245,
    "start_time": "2022-03-06T15:17:42.558Z"
   },
   {
    "duration": 4,
    "start_time": "2022-03-06T15:17:49.878Z"
   },
   {
    "duration": 398,
    "start_time": "2022-03-06T15:17:49.884Z"
   },
   {
    "duration": 31,
    "start_time": "2022-03-06T15:17:50.284Z"
   },
   {
    "duration": 53,
    "start_time": "2022-03-06T15:17:50.317Z"
   },
   {
    "duration": 30,
    "start_time": "2022-03-06T15:17:50.372Z"
   },
   {
    "duration": 230,
    "start_time": "2022-03-06T15:17:50.404Z"
   },
   {
    "duration": 8,
    "start_time": "2022-03-06T15:20:16.481Z"
   },
   {
    "duration": 267,
    "start_time": "2022-03-06T15:20:58.661Z"
   },
   {
    "duration": 5,
    "start_time": "2022-03-06T15:21:17.675Z"
   },
   {
    "duration": 396,
    "start_time": "2022-03-06T15:21:17.682Z"
   },
   {
    "duration": 10,
    "start_time": "2022-03-06T15:21:18.081Z"
   },
   {
    "duration": 25,
    "start_time": "2022-03-06T15:21:18.093Z"
   },
   {
    "duration": 59,
    "start_time": "2022-03-06T15:21:18.120Z"
   },
   {
    "duration": 27,
    "start_time": "2022-03-06T15:21:18.181Z"
   },
   {
    "duration": 55,
    "start_time": "2022-03-06T15:21:18.209Z"
   },
   {
    "duration": 8,
    "start_time": "2022-03-06T15:33:57.635Z"
   },
   {
    "duration": 1116,
    "start_time": "2022-03-06T16:33:19.770Z"
   },
   {
    "duration": 400,
    "start_time": "2022-03-06T16:33:20.888Z"
   },
   {
    "duration": 14,
    "start_time": "2022-03-06T16:33:21.290Z"
   },
   {
    "duration": 24,
    "start_time": "2022-03-06T16:33:21.305Z"
   },
   {
    "duration": 48,
    "start_time": "2022-03-06T16:33:21.330Z"
   },
   {
    "duration": 22,
    "start_time": "2022-03-06T16:33:21.380Z"
   },
   {
    "duration": 21,
    "start_time": "2022-03-06T16:33:21.404Z"
   },
   {
    "duration": 39,
    "start_time": "2022-03-06T16:33:21.427Z"
   },
   {
    "duration": 287,
    "start_time": "2022-03-06T16:57:49.108Z"
   },
   {
    "duration": 4,
    "start_time": "2022-03-06T16:58:08.300Z"
   },
   {
    "duration": 8,
    "start_time": "2022-03-06T16:58:12.934Z"
   },
   {
    "duration": 9,
    "start_time": "2022-03-06T16:58:34.024Z"
   },
   {
    "duration": 8,
    "start_time": "2022-03-06T16:59:58.805Z"
   },
   {
    "duration": 213,
    "start_time": "2022-03-06T17:01:46.375Z"
   },
   {
    "duration": 8,
    "start_time": "2022-03-06T17:03:58.750Z"
   },
   {
    "duration": 9,
    "start_time": "2022-03-06T17:04:33.993Z"
   },
   {
    "duration": 10,
    "start_time": "2022-03-07T08:54:03.247Z"
   },
   {
    "duration": 11,
    "start_time": "2022-03-07T13:05:29.223Z"
   },
   {
    "duration": 10,
    "start_time": "2022-03-07T13:05:44.710Z"
   },
   {
    "duration": 11,
    "start_time": "2022-03-07T13:06:17.675Z"
   },
   {
    "duration": 277,
    "start_time": "2022-03-09T20:02:10.817Z"
   },
   {
    "duration": 2,
    "start_time": "2022-03-09T20:02:14.026Z"
   },
   {
    "duration": 3,
    "start_time": "2022-03-09T20:02:14.943Z"
   },
   {
    "duration": 229,
    "start_time": "2022-03-10T17:20:09.417Z"
   },
   {
    "duration": 3,
    "start_time": "2022-03-10T17:20:12.754Z"
   },
   {
    "duration": 3,
    "start_time": "2022-03-10T17:20:14.425Z"
   },
   {
    "duration": 270,
    "start_time": "2022-03-10T17:35:06.186Z"
   },
   {
    "duration": 1177,
    "start_time": "2022-03-10T17:35:20.540Z"
   },
   {
    "duration": 411,
    "start_time": "2022-03-10T17:35:21.719Z"
   },
   {
    "duration": 14,
    "start_time": "2022-03-10T17:35:22.132Z"
   },
   {
    "duration": 36,
    "start_time": "2022-03-10T17:35:22.148Z"
   },
   {
    "duration": 23,
    "start_time": "2022-03-10T17:35:22.186Z"
   },
   {
    "duration": 57,
    "start_time": "2022-03-10T17:35:22.211Z"
   },
   {
    "duration": 27,
    "start_time": "2022-03-10T17:35:22.269Z"
   },
   {
    "duration": 70,
    "start_time": "2022-03-10T17:35:22.297Z"
   },
   {
    "duration": 100,
    "start_time": "2022-03-10T17:35:22.371Z"
   },
   {
    "duration": 2,
    "start_time": "2022-03-10T17:35:22.473Z"
   },
   {
    "duration": 8,
    "start_time": "2022-03-10T17:35:22.477Z"
   },
   {
    "duration": 14,
    "start_time": "2022-03-10T17:35:22.487Z"
   },
   {
    "duration": 2,
    "start_time": "2022-03-10T17:35:22.503Z"
   },
   {
    "duration": 5,
    "start_time": "2022-03-10T17:35:22.507Z"
   },
   {
    "duration": 3297,
    "start_time": "2022-03-10T17:41:42.986Z"
   },
   {
    "duration": 3494,
    "start_time": "2022-03-10T17:43:15.301Z"
   },
   {
    "duration": 4,
    "start_time": "2022-03-10T17:47:31.157Z"
   },
   {
    "duration": 23,
    "start_time": "2022-03-10T17:49:17.627Z"
   },
   {
    "duration": 26,
    "start_time": "2022-03-10T17:49:33.716Z"
   },
   {
    "duration": 3,
    "start_time": "2022-03-10T17:49:45.277Z"
   },
   {
    "duration": 26,
    "start_time": "2022-03-10T17:49:45.828Z"
   },
   {
    "duration": 10079,
    "start_time": "2022-03-10T17:50:16.406Z"
   },
   {
    "duration": 6,
    "start_time": "2022-03-10T18:07:48.352Z"
   },
   {
    "duration": 80,
    "start_time": "2022-03-10T18:08:20.746Z"
   },
   {
    "duration": 5,
    "start_time": "2022-03-10T18:08:32.585Z"
   },
   {
    "duration": 4,
    "start_time": "2022-03-10T18:10:18.320Z"
   },
   {
    "duration": 10473,
    "start_time": "2022-03-10T18:10:19.299Z"
   },
   {
    "duration": 5,
    "start_time": "2022-03-10T18:14:34.652Z"
   },
   {
    "duration": 5,
    "start_time": "2022-03-11T15:59:31.758Z"
   },
   {
    "duration": 4,
    "start_time": "2022-03-11T15:59:40.175Z"
   },
   {
    "duration": 8,
    "start_time": "2022-03-11T16:40:24.205Z"
   },
   {
    "duration": 605,
    "start_time": "2022-03-11T16:40:26.363Z"
   },
   {
    "duration": 1671,
    "start_time": "2022-03-11T16:40:32.161Z"
   },
   {
    "duration": 522,
    "start_time": "2022-03-11T16:40:33.835Z"
   },
   {
    "duration": 17,
    "start_time": "2022-03-11T16:40:34.360Z"
   },
   {
    "duration": 61,
    "start_time": "2022-03-11T16:40:34.380Z"
   },
   {
    "duration": 29,
    "start_time": "2022-03-11T16:40:34.443Z"
   },
   {
    "duration": 68,
    "start_time": "2022-03-11T16:40:34.474Z"
   },
   {
    "duration": 29,
    "start_time": "2022-03-11T16:40:34.545Z"
   },
   {
    "duration": 58,
    "start_time": "2022-03-11T16:40:34.578Z"
   },
   {
    "duration": 191,
    "start_time": "2022-03-11T16:40:34.641Z"
   },
   {
    "duration": 4,
    "start_time": "2022-03-11T16:40:34.835Z"
   },
   {
    "duration": 7,
    "start_time": "2022-03-11T16:40:34.841Z"
   },
   {
    "duration": 8,
    "start_time": "2022-03-11T16:40:34.851Z"
   },
   {
    "duration": 1228,
    "start_time": "2022-03-11T16:40:34.861Z"
   },
   {
    "duration": -13,
    "start_time": "2022-03-11T16:40:36.104Z"
   },
   {
    "duration": -13,
    "start_time": "2022-03-11T16:40:36.106Z"
   },
   {
    "duration": 4,
    "start_time": "2022-03-11T16:41:12.628Z"
   },
   {
    "duration": 539,
    "start_time": "2022-03-11T16:41:12.635Z"
   },
   {
    "duration": 14,
    "start_time": "2022-03-11T16:41:13.176Z"
   },
   {
    "duration": 58,
    "start_time": "2022-03-11T16:41:13.193Z"
   },
   {
    "duration": 25,
    "start_time": "2022-03-11T16:41:13.254Z"
   },
   {
    "duration": 66,
    "start_time": "2022-03-11T16:41:13.282Z"
   },
   {
    "duration": 26,
    "start_time": "2022-03-11T16:41:13.350Z"
   },
   {
    "duration": 152,
    "start_time": "2022-03-11T16:41:13.381Z"
   },
   {
    "duration": 106,
    "start_time": "2022-03-11T16:41:13.536Z"
   },
   {
    "duration": 15,
    "start_time": "2022-03-11T16:41:13.645Z"
   },
   {
    "duration": 20,
    "start_time": "2022-03-11T16:41:13.663Z"
   },
   {
    "duration": 8,
    "start_time": "2022-03-11T16:41:13.686Z"
   },
   {
    "duration": 55,
    "start_time": "2022-03-11T16:41:13.696Z"
   },
   {
    "duration": 7,
    "start_time": "2022-03-11T16:41:13.753Z"
   },
   {
    "duration": 18074,
    "start_time": "2022-03-11T16:41:13.763Z"
   },
   {
    "duration": 7,
    "start_time": "2022-03-11T16:43:14.872Z"
   },
   {
    "duration": 16805,
    "start_time": "2022-03-11T16:43:16.352Z"
   },
   {
    "duration": 8,
    "start_time": "2022-03-11T17:17:56.935Z"
   },
   {
    "duration": 8,
    "start_time": "2022-03-11T17:18:16.176Z"
   },
   {
    "duration": 16,
    "start_time": "2022-03-11T17:31:52.380Z"
   },
   {
    "duration": 105,
    "start_time": "2022-03-11T17:47:34.391Z"
   },
   {
    "duration": 7,
    "start_time": "2022-03-11T17:51:42.027Z"
   },
   {
    "duration": 17052,
    "start_time": "2022-03-11T17:51:43.732Z"
   },
   {
    "duration": 7,
    "start_time": "2022-03-11T17:52:06.412Z"
   },
   {
    "duration": 16786,
    "start_time": "2022-03-11T17:52:07.952Z"
   },
   {
    "duration": 5,
    "start_time": "2022-03-11T17:53:40.939Z"
   },
   {
    "duration": 525,
    "start_time": "2022-03-11T17:53:40.947Z"
   },
   {
    "duration": 12,
    "start_time": "2022-03-11T17:53:41.475Z"
   },
   {
    "duration": 57,
    "start_time": "2022-03-11T17:53:41.490Z"
   },
   {
    "duration": 29,
    "start_time": "2022-03-11T17:53:41.549Z"
   },
   {
    "duration": 68,
    "start_time": "2022-03-11T17:53:41.581Z"
   },
   {
    "duration": 27,
    "start_time": "2022-03-11T17:53:41.651Z"
   },
   {
    "duration": 55,
    "start_time": "2022-03-11T17:53:41.681Z"
   },
   {
    "duration": 197,
    "start_time": "2022-03-11T17:53:41.740Z"
   },
   {
    "duration": 3,
    "start_time": "2022-03-11T17:53:41.939Z"
   },
   {
    "duration": 5,
    "start_time": "2022-03-11T17:53:41.945Z"
   },
   {
    "duration": 9,
    "start_time": "2022-03-11T17:53:41.952Z"
   },
   {
    "duration": 78,
    "start_time": "2022-03-11T17:53:41.963Z"
   },
   {
    "duration": 6,
    "start_time": "2022-03-11T17:53:42.043Z"
   },
   {
    "duration": 16872,
    "start_time": "2022-03-11T17:53:42.051Z"
   },
   {
    "duration": 306,
    "start_time": "2022-03-12T08:13:33.378Z"
   },
   {
    "duration": 1130,
    "start_time": "2022-03-12T08:13:53.485Z"
   },
   {
    "duration": 428,
    "start_time": "2022-03-12T08:13:54.617Z"
   },
   {
    "duration": 14,
    "start_time": "2022-03-12T08:13:55.048Z"
   },
   {
    "duration": 22,
    "start_time": "2022-03-12T08:13:55.078Z"
   },
   {
    "duration": 23,
    "start_time": "2022-03-12T08:13:55.102Z"
   },
   {
    "duration": 56,
    "start_time": "2022-03-12T08:13:55.127Z"
   },
   {
    "duration": 25,
    "start_time": "2022-03-12T08:13:55.185Z"
   },
   {
    "duration": 72,
    "start_time": "2022-03-12T08:13:55.212Z"
   },
   {
    "duration": 108,
    "start_time": "2022-03-12T08:13:55.376Z"
   },
   {
    "duration": 3,
    "start_time": "2022-03-12T08:13:55.486Z"
   },
   {
    "duration": 5,
    "start_time": "2022-03-12T08:13:55.490Z"
   },
   {
    "duration": 4,
    "start_time": "2022-03-12T08:13:55.497Z"
   },
   {
    "duration": 29,
    "start_time": "2022-03-12T08:13:55.503Z"
   },
   {
    "duration": 46,
    "start_time": "2022-03-12T08:13:55.533Z"
   },
   {
    "duration": 10649,
    "start_time": "2022-03-12T08:13:55.581Z"
   }
  ],
  "kernelspec": {
   "display_name": "Python 3 (ipykernel)",
   "language": "python",
   "name": "python3"
  },
  "language_info": {
   "codemirror_mode": {
    "name": "ipython",
    "version": 3
   },
   "file_extension": ".py",
   "mimetype": "text/x-python",
   "name": "python",
   "nbconvert_exporter": "python",
   "pygments_lexer": "ipython3",
   "version": "3.9.7"
  },
  "toc": {
   "base_numbering": 1,
   "nav_menu": {},
   "number_sections": true,
   "sideBar": true,
   "skip_h1_title": true,
   "title_cell": "Table of Contents",
   "title_sidebar": "Contents",
   "toc_cell": false,
   "toc_position": {},
   "toc_section_display": true,
   "toc_window_display": false
  }
 },
 "nbformat": 4,
 "nbformat_minor": 2
}
