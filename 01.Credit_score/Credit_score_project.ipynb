{
 "cells": [
  {
   "cell_type": "markdown",
   "metadata": {},
   "source": [
    "# Исследование надёжности заёмщиков\n",
    "\n",
    "Заказчик — кредитный отдел банка. Нужно разобраться, влияет ли семейное положение и количество детей клиента на факт погашения кредита в срок. Входные данные от банка — статистика о платёжеспособности клиентов.\n",
    "\n",
    "Результаты исследования будут учтены при построении модели **кредитного скоринга** — специальной системы, которая оценивает способность потенциального заёмщика вернуть кредит банку."
   ]
  },
  {
   "cell_type": "markdown",
   "metadata": {},
   "source": [
    "## 1. Изучим общую информацию"
   ]
  },
  {
   "cell_type": "code",
   "execution_count": 1,
   "metadata": {},
   "outputs": [
    {
     "name": "stdout",
     "output_type": "stream",
     "text": [
      "<class 'pandas.core.frame.DataFrame'>\n",
      "RangeIndex: 21525 entries, 0 to 21524\n",
      "Data columns (total 12 columns):\n",
      "children            21525 non-null int64\n",
      "days_employed       19351 non-null float64\n",
      "dob_years           21525 non-null int64\n",
      "education           21525 non-null object\n",
      "education_id        21525 non-null int64\n",
      "family_status       21525 non-null object\n",
      "family_status_id    21525 non-null int64\n",
      "gender              21525 non-null object\n",
      "income_type         21525 non-null object\n",
      "debt                21525 non-null int64\n",
      "total_income        19351 non-null float64\n",
      "purpose             21525 non-null object\n",
      "dtypes: float64(2), int64(5), object(5)\n",
      "memory usage: 2.0+ MB\n"
     ]
    }
   ],
   "source": [
    "# Импортируем данные и получим общую информацию о датасете\n",
    "import pandas as pd\n",
    "data = pd.read_csv('/datasets/data.csv')\n",
    "data.info()"
   ]
  },
  {
   "cell_type": "code",
   "execution_count": 2,
   "metadata": {},
   "outputs": [
    {
     "data": {
      "text/html": [
       "<div>\n",
       "<style scoped>\n",
       "    .dataframe tbody tr th:only-of-type {\n",
       "        vertical-align: middle;\n",
       "    }\n",
       "\n",
       "    .dataframe tbody tr th {\n",
       "        vertical-align: top;\n",
       "    }\n",
       "\n",
       "    .dataframe thead th {\n",
       "        text-align: right;\n",
       "    }\n",
       "</style>\n",
       "<table border=\"1\" class=\"dataframe\">\n",
       "  <thead>\n",
       "    <tr style=\"text-align: right;\">\n",
       "      <th></th>\n",
       "      <th>children</th>\n",
       "      <th>days_employed</th>\n",
       "      <th>dob_years</th>\n",
       "      <th>education</th>\n",
       "      <th>education_id</th>\n",
       "      <th>family_status</th>\n",
       "      <th>family_status_id</th>\n",
       "      <th>gender</th>\n",
       "      <th>income_type</th>\n",
       "      <th>debt</th>\n",
       "      <th>total_income</th>\n",
       "      <th>purpose</th>\n",
       "    </tr>\n",
       "  </thead>\n",
       "  <tbody>\n",
       "    <tr>\n",
       "      <td>0</td>\n",
       "      <td>1</td>\n",
       "      <td>-8437.673028</td>\n",
       "      <td>42</td>\n",
       "      <td>высшее</td>\n",
       "      <td>0</td>\n",
       "      <td>женат / замужем</td>\n",
       "      <td>0</td>\n",
       "      <td>F</td>\n",
       "      <td>сотрудник</td>\n",
       "      <td>0</td>\n",
       "      <td>253875.639453</td>\n",
       "      <td>покупка жилья</td>\n",
       "    </tr>\n",
       "    <tr>\n",
       "      <td>1</td>\n",
       "      <td>1</td>\n",
       "      <td>-4024.803754</td>\n",
       "      <td>36</td>\n",
       "      <td>среднее</td>\n",
       "      <td>1</td>\n",
       "      <td>женат / замужем</td>\n",
       "      <td>0</td>\n",
       "      <td>F</td>\n",
       "      <td>сотрудник</td>\n",
       "      <td>0</td>\n",
       "      <td>112080.014102</td>\n",
       "      <td>приобретение автомобиля</td>\n",
       "    </tr>\n",
       "    <tr>\n",
       "      <td>2</td>\n",
       "      <td>0</td>\n",
       "      <td>-5623.422610</td>\n",
       "      <td>33</td>\n",
       "      <td>Среднее</td>\n",
       "      <td>1</td>\n",
       "      <td>женат / замужем</td>\n",
       "      <td>0</td>\n",
       "      <td>M</td>\n",
       "      <td>сотрудник</td>\n",
       "      <td>0</td>\n",
       "      <td>145885.952297</td>\n",
       "      <td>покупка жилья</td>\n",
       "    </tr>\n",
       "    <tr>\n",
       "      <td>3</td>\n",
       "      <td>3</td>\n",
       "      <td>-4124.747207</td>\n",
       "      <td>32</td>\n",
       "      <td>среднее</td>\n",
       "      <td>1</td>\n",
       "      <td>женат / замужем</td>\n",
       "      <td>0</td>\n",
       "      <td>M</td>\n",
       "      <td>сотрудник</td>\n",
       "      <td>0</td>\n",
       "      <td>267628.550329</td>\n",
       "      <td>дополнительное образование</td>\n",
       "    </tr>\n",
       "    <tr>\n",
       "      <td>4</td>\n",
       "      <td>0</td>\n",
       "      <td>340266.072047</td>\n",
       "      <td>53</td>\n",
       "      <td>среднее</td>\n",
       "      <td>1</td>\n",
       "      <td>гражданский брак</td>\n",
       "      <td>1</td>\n",
       "      <td>F</td>\n",
       "      <td>пенсионер</td>\n",
       "      <td>0</td>\n",
       "      <td>158616.077870</td>\n",
       "      <td>сыграть свадьбу</td>\n",
       "    </tr>\n",
       "    <tr>\n",
       "      <td>5</td>\n",
       "      <td>0</td>\n",
       "      <td>-926.185831</td>\n",
       "      <td>27</td>\n",
       "      <td>высшее</td>\n",
       "      <td>0</td>\n",
       "      <td>гражданский брак</td>\n",
       "      <td>1</td>\n",
       "      <td>M</td>\n",
       "      <td>компаньон</td>\n",
       "      <td>0</td>\n",
       "      <td>255763.565419</td>\n",
       "      <td>покупка жилья</td>\n",
       "    </tr>\n",
       "    <tr>\n",
       "      <td>6</td>\n",
       "      <td>0</td>\n",
       "      <td>-2879.202052</td>\n",
       "      <td>43</td>\n",
       "      <td>высшее</td>\n",
       "      <td>0</td>\n",
       "      <td>женат / замужем</td>\n",
       "      <td>0</td>\n",
       "      <td>F</td>\n",
       "      <td>компаньон</td>\n",
       "      <td>0</td>\n",
       "      <td>240525.971920</td>\n",
       "      <td>операции с жильем</td>\n",
       "    </tr>\n",
       "    <tr>\n",
       "      <td>7</td>\n",
       "      <td>0</td>\n",
       "      <td>-152.779569</td>\n",
       "      <td>50</td>\n",
       "      <td>СРЕДНЕЕ</td>\n",
       "      <td>1</td>\n",
       "      <td>женат / замужем</td>\n",
       "      <td>0</td>\n",
       "      <td>M</td>\n",
       "      <td>сотрудник</td>\n",
       "      <td>0</td>\n",
       "      <td>135823.934197</td>\n",
       "      <td>образование</td>\n",
       "    </tr>\n",
       "    <tr>\n",
       "      <td>8</td>\n",
       "      <td>2</td>\n",
       "      <td>-6929.865299</td>\n",
       "      <td>35</td>\n",
       "      <td>ВЫСШЕЕ</td>\n",
       "      <td>0</td>\n",
       "      <td>гражданский брак</td>\n",
       "      <td>1</td>\n",
       "      <td>F</td>\n",
       "      <td>сотрудник</td>\n",
       "      <td>0</td>\n",
       "      <td>95856.832424</td>\n",
       "      <td>на проведение свадьбы</td>\n",
       "    </tr>\n",
       "    <tr>\n",
       "      <td>9</td>\n",
       "      <td>0</td>\n",
       "      <td>-2188.756445</td>\n",
       "      <td>41</td>\n",
       "      <td>среднее</td>\n",
       "      <td>1</td>\n",
       "      <td>женат / замужем</td>\n",
       "      <td>0</td>\n",
       "      <td>M</td>\n",
       "      <td>сотрудник</td>\n",
       "      <td>0</td>\n",
       "      <td>144425.938277</td>\n",
       "      <td>покупка жилья для семьи</td>\n",
       "    </tr>\n",
       "  </tbody>\n",
       "</table>\n",
       "</div>"
      ],
      "text/plain": [
       "   children  days_employed  dob_years education  education_id  \\\n",
       "0         1   -8437.673028         42    высшее             0   \n",
       "1         1   -4024.803754         36   среднее             1   \n",
       "2         0   -5623.422610         33   Среднее             1   \n",
       "3         3   -4124.747207         32   среднее             1   \n",
       "4         0  340266.072047         53   среднее             1   \n",
       "5         0    -926.185831         27    высшее             0   \n",
       "6         0   -2879.202052         43    высшее             0   \n",
       "7         0    -152.779569         50   СРЕДНЕЕ             1   \n",
       "8         2   -6929.865299         35    ВЫСШЕЕ             0   \n",
       "9         0   -2188.756445         41   среднее             1   \n",
       "\n",
       "      family_status  family_status_id gender income_type  debt   total_income  \\\n",
       "0   женат / замужем                 0      F   сотрудник     0  253875.639453   \n",
       "1   женат / замужем                 0      F   сотрудник     0  112080.014102   \n",
       "2   женат / замужем                 0      M   сотрудник     0  145885.952297   \n",
       "3   женат / замужем                 0      M   сотрудник     0  267628.550329   \n",
       "4  гражданский брак                 1      F   пенсионер     0  158616.077870   \n",
       "5  гражданский брак                 1      M   компаньон     0  255763.565419   \n",
       "6   женат / замужем                 0      F   компаньон     0  240525.971920   \n",
       "7   женат / замужем                 0      M   сотрудник     0  135823.934197   \n",
       "8  гражданский брак                 1      F   сотрудник     0   95856.832424   \n",
       "9   женат / замужем                 0      M   сотрудник     0  144425.938277   \n",
       "\n",
       "                      purpose  \n",
       "0               покупка жилья  \n",
       "1     приобретение автомобиля  \n",
       "2               покупка жилья  \n",
       "3  дополнительное образование  \n",
       "4             сыграть свадьбу  \n",
       "5               покупка жилья  \n",
       "6           операции с жильем  \n",
       "7                 образование  \n",
       "8       на проведение свадьбы  \n",
       "9     покупка жилья для семьи  "
      ]
     },
     "execution_count": 2,
     "metadata": {},
     "output_type": "execute_result"
    }
   ],
   "source": [
    "# Выведем первые 10 строк датасета\n",
    "data.head(10)"
   ]
  },
  {
   "cell_type": "markdown",
   "metadata": {},
   "source": [
    "Теперь проверим все столбцы на предмет дубликатов и пропусков."
   ]
  },
  {
   "cell_type": "code",
   "execution_count": 3,
   "metadata": {},
   "outputs": [
    {
     "data": {
      "text/plain": [
       " 0     14149\n",
       " 1      4818\n",
       " 2      2055\n",
       " 3       330\n",
       " 20       76\n",
       "-1        47\n",
       " 4        41\n",
       " 5         9\n",
       "Name: children, dtype: int64"
      ]
     },
     "execution_count": 3,
     "metadata": {},
     "output_type": "execute_result"
    }
   ],
   "source": [
    "data['children'].value_counts()"
   ]
  },
  {
   "cell_type": "markdown",
   "metadata": {},
   "source": [
    "Здесь есть ошибки: 20 и -1 не могут быть такие данные о детях. Скорее всего это опечатки."
   ]
  },
  {
   "cell_type": "code",
   "execution_count": 4,
   "metadata": {},
   "outputs": [
    {
     "data": {
      "text/plain": [
       "2174"
      ]
     },
     "execution_count": 4,
     "metadata": {},
     "output_type": "execute_result"
    }
   ],
   "source": [
    "data['days_employed'].isnull().sum()"
   ]
  },
  {
   "cell_type": "markdown",
   "metadata": {},
   "source": [
    "2174 пропуска в данных. Возможно не были внесены или загружены данные о месте работы и заработке."
   ]
  },
  {
   "cell_type": "code",
   "execution_count": 5,
   "metadata": {},
   "outputs": [
    {
     "data": {
      "text/plain": [
       "35    617\n",
       "40    609\n",
       "41    607\n",
       "34    603\n",
       "38    598\n",
       "42    597\n",
       "33    581\n",
       "39    573\n",
       "31    560\n",
       "36    555\n",
       "44    547\n",
       "29    545\n",
       "30    540\n",
       "48    538\n",
       "37    537\n",
       "50    514\n",
       "43    513\n",
       "32    510\n",
       "49    508\n",
       "28    503\n",
       "45    497\n",
       "27    493\n",
       "56    487\n",
       "52    484\n",
       "47    480\n",
       "54    479\n",
       "46    475\n",
       "58    461\n",
       "57    460\n",
       "53    459\n",
       "51    448\n",
       "59    444\n",
       "55    443\n",
       "26    408\n",
       "60    377\n",
       "25    357\n",
       "61    355\n",
       "62    352\n",
       "63    269\n",
       "64    265\n",
       "24    264\n",
       "23    254\n",
       "65    194\n",
       "66    183\n",
       "22    183\n",
       "67    167\n",
       "21    111\n",
       "0     101\n",
       "68     99\n",
       "69     85\n",
       "70     65\n",
       "71     58\n",
       "20     51\n",
       "72     33\n",
       "19     14\n",
       "73      8\n",
       "74      6\n",
       "75      1\n",
       "Name: dob_years, dtype: int64"
      ]
     },
     "execution_count": 5,
     "metadata": {},
     "output_type": "execute_result"
    }
   ],
   "source": [
    "data['dob_years'].value_counts()"
   ]
  },
  {
   "cell_type": "markdown",
   "metadata": {},
   "source": [
    "Здесь есть возраст \"0\" в количестве 101. Возможно не были заполнены данные о возврасте."
   ]
  },
  {
   "cell_type": "code",
   "execution_count": 6,
   "metadata": {},
   "outputs": [
    {
     "data": {
      "text/plain": [
       "среднее                13750\n",
       "высшее                  4718\n",
       "СРЕДНЕЕ                  772\n",
       "Среднее                  711\n",
       "неоконченное высшее      668\n",
       "ВЫСШЕЕ                   274\n",
       "Высшее                   268\n",
       "начальное                250\n",
       "Неоконченное высшее       47\n",
       "НЕОКОНЧЕННОЕ ВЫСШЕЕ       29\n",
       "НАЧАЛЬНОЕ                 17\n",
       "Начальное                 15\n",
       "ученая степень             4\n",
       "УЧЕНАЯ СТЕПЕНЬ             1\n",
       "Ученая степень             1\n",
       "Name: education, dtype: int64"
      ]
     },
     "execution_count": 6,
     "metadata": {},
     "output_type": "execute_result"
    }
   ],
   "source": [
    "data['education'].value_counts()"
   ]
  },
  {
   "cell_type": "markdown",
   "metadata": {},
   "source": [
    "Здесь задублированы данные с разным регистром. Данные вероятно вводились вручную."
   ]
  },
  {
   "cell_type": "code",
   "execution_count": 7,
   "metadata": {},
   "outputs": [
    {
     "data": {
      "text/plain": [
       "женат / замужем          12380\n",
       "гражданский брак          4177\n",
       "Не женат / не замужем     2813\n",
       "в разводе                 1195\n",
       "вдовец / вдова             960\n",
       "Name: family_status, dtype: int64"
      ]
     },
     "execution_count": 7,
     "metadata": {},
     "output_type": "execute_result"
    }
   ],
   "source": [
    "data['family_status'].value_counts()"
   ]
  },
  {
   "cell_type": "markdown",
   "metadata": {},
   "source": [
    "Здесь можно исправить \"Не женат\" на \"не женат\"."
   ]
  },
  {
   "cell_type": "code",
   "execution_count": 8,
   "metadata": {},
   "outputs": [
    {
     "data": {
      "text/plain": [
       "0    12380\n",
       "1     4177\n",
       "4     2813\n",
       "3     1195\n",
       "2      960\n",
       "Name: family_status_id, dtype: int64"
      ]
     },
     "execution_count": 8,
     "metadata": {},
     "output_type": "execute_result"
    }
   ],
   "source": [
    "data['family_status_id'].value_counts()"
   ]
  },
  {
   "cell_type": "markdown",
   "metadata": {},
   "source": [
    "Тут все ок."
   ]
  },
  {
   "cell_type": "code",
   "execution_count": 9,
   "metadata": {},
   "outputs": [
    {
     "data": {
      "text/plain": [
       "F      14236\n",
       "M       7288\n",
       "XNA        1\n",
       "Name: gender, dtype: int64"
      ]
     },
     "execution_count": 9,
     "metadata": {},
     "output_type": "execute_result"
    }
   ],
   "source": [
    "data['gender'].value_counts()"
   ]
  },
  {
   "cell_type": "markdown",
   "metadata": {},
   "source": [
    "Здесь есть одно значение XNA - не указан пол заявителя."
   ]
  },
  {
   "cell_type": "code",
   "execution_count": 10,
   "metadata": {},
   "outputs": [
    {
     "data": {
      "text/plain": [
       "сотрудник          11119\n",
       "компаньон           5085\n",
       "пенсионер           3856\n",
       "госслужащий         1459\n",
       "безработный            2\n",
       "предприниматель        2\n",
       "в декрете              1\n",
       "студент                1\n",
       "Name: income_type, dtype: int64"
      ]
     },
     "execution_count": 10,
     "metadata": {},
     "output_type": "execute_result"
    }
   ],
   "source": [
    "data['income_type'].value_counts()"
   ]
  },
  {
   "cell_type": "markdown",
   "metadata": {},
   "source": [
    "Здесь все ок."
   ]
  },
  {
   "cell_type": "code",
   "execution_count": 11,
   "metadata": {},
   "outputs": [
    {
     "data": {
      "text/plain": [
       "0    19784\n",
       "1     1741\n",
       "Name: debt, dtype: int64"
      ]
     },
     "execution_count": 11,
     "metadata": {},
     "output_type": "execute_result"
    }
   ],
   "source": [
    "data['debt'].value_counts()"
   ]
  },
  {
   "cell_type": "markdown",
   "metadata": {},
   "source": [
    "Здесь ок. На заметку - 1741 не платят в срок."
   ]
  },
  {
   "cell_type": "code",
   "execution_count": 12,
   "metadata": {},
   "outputs": [
    {
     "data": {
      "text/plain": [
       "2174"
      ]
     },
     "execution_count": 12,
     "metadata": {},
     "output_type": "execute_result"
    }
   ],
   "source": [
    "data['total_income'].isnull().sum()"
   ]
  },
  {
   "cell_type": "markdown",
   "metadata": {},
   "source": [
    "Здесь 2174 пропусков."
   ]
  },
  {
   "cell_type": "code",
   "execution_count": 13,
   "metadata": {},
   "outputs": [
    {
     "data": {
      "text/plain": [
       "свадьба                                   797\n",
       "на проведение свадьбы                     777\n",
       "сыграть свадьбу                           774\n",
       "операции с недвижимостью                  676\n",
       "покупка коммерческой недвижимости         664\n",
       "покупка жилья для сдачи                   653\n",
       "операции с жильем                         653\n",
       "операции с коммерческой недвижимостью     651\n",
       "покупка жилья                             647\n",
       "жилье                                     647\n",
       "покупка жилья для семьи                   641\n",
       "строительство собственной недвижимости    635\n",
       "недвижимость                              634\n",
       "операции со своей недвижимостью           630\n",
       "строительство жилой недвижимости          626\n",
       "покупка недвижимости                      624\n",
       "покупка своего жилья                      620\n",
       "строительство недвижимости                620\n",
       "ремонт жилью                              612\n",
       "покупка жилой недвижимости                607\n",
       "на покупку своего автомобиля              505\n",
       "заняться высшим образованием              496\n",
       "автомобиль                                495\n",
       "сделка с подержанным автомобилем          489\n",
       "свой автомобиль                           480\n",
       "на покупку подержанного автомобиля        479\n",
       "автомобили                                478\n",
       "на покупку автомобиля                     472\n",
       "приобретение автомобиля                   462\n",
       "дополнительное образование                462\n",
       "сделка с автомобилем                      455\n",
       "высшее образование                        453\n",
       "образование                               447\n",
       "получение дополнительного образования     447\n",
       "получение образования                     443\n",
       "профильное образование                    436\n",
       "получение высшего образования             426\n",
       "заняться образованием                     412\n",
       "Name: purpose, dtype: int64"
      ]
     },
     "execution_count": 13,
     "metadata": {},
     "output_type": "execute_result"
    }
   ],
   "source": [
    "data['purpose'].value_counts()"
   ]
  },
  {
   "cell_type": "markdown",
   "metadata": {},
   "source": [
    "Здесь задулированы данные, тк был свободный ввод текста. Всего получается только четыре типа целей для кредита: свадьба, недвижимость, автомобиль и образование."
   ]
  },
  {
   "cell_type": "markdown",
   "metadata": {},
   "source": [
    "Проверим еще на наличие дубликатов:"
   ]
  },
  {
   "cell_type": "code",
   "execution_count": 14,
   "metadata": {},
   "outputs": [
    {
     "data": {
      "text/plain": [
       "54"
      ]
     },
     "execution_count": 14,
     "metadata": {},
     "output_type": "execute_result"
    }
   ],
   "source": [
    "data.duplicated().sum()"
   ]
  },
  {
   "cell_type": "markdown",
   "metadata": {},
   "source": [
    "В данных 54 дубликата."
   ]
  },
  {
   "cell_type": "markdown",
   "metadata": {},
   "source": [
    "**Вывод**"
   ]
  },
  {
   "cell_type": "markdown",
   "metadata": {},
   "source": [
    "Из общей информации о датасете следует отметить отсутствующие значения в столбцах days_employed и total_income: их число 19351 не соответствует общему числу записей 21525.\n",
    "\n",
    "Из первых 10 строк датасета следует выделить следующие наблюдения:\n",
    "* в столбце children есть ошибки: 20 и -1 детей;\n",
    "* столбцы days_employed и total_income имеют пропуски;\n",
    "* столбец days_employed имеет отрицательные значения;\n",
    "* в столбце dob_years есть возраст 0;\n",
    "* в столбце education проблема с регистром данных;\n",
    "* в столбце gender есть одно значение XNA;\n",
    "* в столбце purpose задублированы данные, которые можно конвертировать в 4 категории;\n",
    "* float значения необходимо заменить на integer;\n",
    "* в данных 54 дубликата."
   ]
  },
  {
   "cell_type": "markdown",
   "metadata": {},
   "source": [
    "## 2. Предобработка данных"
   ]
  },
  {
   "cell_type": "markdown",
   "metadata": {},
   "source": [
    "### Обработка пропусков"
   ]
  },
  {
   "cell_type": "markdown",
   "metadata": {},
   "source": [
    "В данных по детям есть две ошибки: -1 и 20"
   ]
  },
  {
   "cell_type": "code",
   "execution_count": 15,
   "metadata": {},
   "outputs": [],
   "source": [
    "# Уберем отрицательные значения в данных и заменим 20 на 2 в days_employed, вернув значения в формат int:\n",
    "data['children'] = list(map(abs, data['children']))\n",
    "data.loc[data['children'] == 20, 'children'] = 2\n",
    "data['children'] = data['children'].astype(int)"
   ]
  },
  {
   "cell_type": "markdown",
   "metadata": {},
   "source": [
    "В столбце gender есть одно значение XNA."
   ]
  },
  {
   "cell_type": "code",
   "execution_count": 17,
   "metadata": {},
   "outputs": [],
   "source": [
    "# Заменим XNA на F, которых больше всего в выборке:\n",
    "data.loc[data['gender'] == 'XNA', 'gender'] = 'F'"
   ]
  },
  {
   "cell_type": "markdown",
   "metadata": {},
   "source": [
    "В соответствии с общей информацией о данных в столбце total_income есть пропуски данных. Такие данные можно было запросить, тк выдача кредита не предусмотрена без указания дохода заемщика, однако такой возможности нет. Предлагается заполнить пропуски в столбце total_income медианным значением в выборке."
   ]
  },
  {
   "cell_type": "code",
   "execution_count": 18,
   "metadata": {},
   "outputs": [
    {
     "data": {
      "text/plain": [
       "401755.40047533"
      ]
     },
     "execution_count": 18,
     "metadata": {},
     "output_type": "execute_result"
    }
   ],
   "source": [
    "# Уберем отрицательные значения в данных и проверим значения days_employed на выбросы:\n",
    "data['days_employed'] = list(map(abs, data['days_employed']))\n",
    "data['days_employed'].max()"
   ]
  },
  {
   "cell_type": "markdown",
   "metadata": {},
   "source": [
    "В данных days_employed есть выбросы - не может быть 401 755 дней."
   ]
  },
  {
   "cell_type": "code",
   "execution_count": 19,
   "metadata": {},
   "outputs": [],
   "source": [
    "# Заполним пропуски в столбце days_employed медианным значением:\n",
    "days_employed_median = data['days_employed'].median()\n",
    "data['days_employed'] = data['days_employed'].fillna(value = days_employed_median)"
   ]
  },
  {
   "cell_type": "markdown",
   "metadata": {},
   "source": [
    "Данные переведены в положительные значения, пропуски в столбце days_employed заполнены. Выбрана медиана, тк есть выбросы в данных."
   ]
  },
  {
   "cell_type": "markdown",
   "metadata": {},
   "source": [
    "Для столбца total_income можно было бы использовать медиану, однако это может повлиять на распределение, например появятся всплески на гистограмме, поэтому предлагается выполнить классификацию по трем характеристикам: income_type и education,  и затем заменить пропуски медианами по выбранным характеристикам."
   ]
  },
  {
   "cell_type": "code",
   "execution_count": 205,
   "metadata": {
    "scrolled": true
   },
   "outputs": [
    {
     "data": {
      "text/plain": [
       "income_type      education_id\n",
       "безработный      0               202722.511368\n",
       "                 1                59956.991984\n",
       "в декрете        1                53829.130729\n",
       "госслужащий      0               172511.107016\n",
       "                 1               136652.970357\n",
       "                 2               160592.345303\n",
       "                 3               148339.290825\n",
       "                 4               111392.231107\n",
       "компаньон        0               201785.400018\n",
       "                 1               159070.690289\n",
       "                 2               179867.152890\n",
       "                 3               136798.905143\n",
       "пенсионер        0               144240.768611\n",
       "                 1               114842.854099\n",
       "                 2               120136.896353\n",
       "                 3               102598.653164\n",
       "                 4               177088.845999\n",
       "предприниматель  0               499163.144947\n",
       "сотрудник        0               165640.744634\n",
       "                 1               136555.108821\n",
       "                 2               151308.937846\n",
       "                 3               125994.910603\n",
       "                 4               198570.757322\n",
       "студент          0                98201.625314\n",
       "Name: total_income, dtype: float64"
      ]
     },
     "execution_count": 205,
     "metadata": {},
     "output_type": "execute_result"
    }
   ],
   "source": [
    "# Рассчитаем медианное значение столбца total_income с группировкой по столбцам income_type и education:\n",
    "income_median = data.groupby(['income_type', 'education_id'])['total_income'].median()\n",
    "income_median"
   ]
  },
  {
   "cell_type": "code",
   "execution_count": 206,
   "metadata": {},
   "outputs": [],
   "source": [
    "# Создадим функцию для замены пропусков в столбце total_income на значения из выборки выше:\n",
    "def func(row):\n",
    "    if pd.isna(row['total_income']):\n",
    "        return income_median.loc[row['income_type'], row['education_id']]\n",
    "    return row['total_income']\n",
    "\n",
    "# Применим записанную фукнцию:\n",
    "data['total_income'] = data.apply(func, axis = 1)"
   ]
  },
  {
   "cell_type": "markdown",
   "metadata": {},
   "source": [
    "Пропуски в столбце total_income заполнены."
   ]
  },
  {
   "cell_type": "markdown",
   "metadata": {},
   "source": [
    "**Вывод**"
   ]
  },
  {
   "cell_type": "code",
   "execution_count": 207,
   "metadata": {},
   "outputs": [
    {
     "data": {
      "text/plain": [
       "children            0\n",
       "days_employed       0\n",
       "dob_years           0\n",
       "education           0\n",
       "education_id        0\n",
       "family_status       0\n",
       "family_status_id    0\n",
       "gender              0\n",
       "income_type         0\n",
       "debt                0\n",
       "total_income        0\n",
       "purpose             0\n",
       "dtype: int64"
      ]
     },
     "execution_count": 207,
     "metadata": {},
     "output_type": "execute_result"
    }
   ],
   "source": [
    "data.isnull().sum()"
   ]
  },
  {
   "cell_type": "code",
   "execution_count": 208,
   "metadata": {},
   "outputs": [
    {
     "data": {
      "text/html": [
       "<div>\n",
       "<style scoped>\n",
       "    .dataframe tbody tr th:only-of-type {\n",
       "        vertical-align: middle;\n",
       "    }\n",
       "\n",
       "    .dataframe tbody tr th {\n",
       "        vertical-align: top;\n",
       "    }\n",
       "\n",
       "    .dataframe thead th {\n",
       "        text-align: right;\n",
       "    }\n",
       "</style>\n",
       "<table border=\"1\" class=\"dataframe\">\n",
       "  <thead>\n",
       "    <tr style=\"text-align: right;\">\n",
       "      <th></th>\n",
       "      <th>children</th>\n",
       "      <th>days_employed</th>\n",
       "      <th>dob_years</th>\n",
       "      <th>education</th>\n",
       "      <th>education_id</th>\n",
       "      <th>family_status</th>\n",
       "      <th>family_status_id</th>\n",
       "      <th>gender</th>\n",
       "      <th>income_type</th>\n",
       "      <th>debt</th>\n",
       "      <th>total_income</th>\n",
       "      <th>purpose</th>\n",
       "    </tr>\n",
       "  </thead>\n",
       "  <tbody>\n",
       "    <tr>\n",
       "      <td>0</td>\n",
       "      <td>1</td>\n",
       "      <td>8437.673028</td>\n",
       "      <td>42</td>\n",
       "      <td>высшее</td>\n",
       "      <td>0</td>\n",
       "      <td>женат / замужем</td>\n",
       "      <td>0</td>\n",
       "      <td>F</td>\n",
       "      <td>сотрудник</td>\n",
       "      <td>0</td>\n",
       "      <td>253875.639453</td>\n",
       "      <td>покупка жилья</td>\n",
       "    </tr>\n",
       "    <tr>\n",
       "      <td>1</td>\n",
       "      <td>1</td>\n",
       "      <td>4024.803754</td>\n",
       "      <td>36</td>\n",
       "      <td>среднее</td>\n",
       "      <td>1</td>\n",
       "      <td>женат / замужем</td>\n",
       "      <td>0</td>\n",
       "      <td>F</td>\n",
       "      <td>сотрудник</td>\n",
       "      <td>0</td>\n",
       "      <td>112080.014102</td>\n",
       "      <td>приобретение автомобиля</td>\n",
       "    </tr>\n",
       "    <tr>\n",
       "      <td>2</td>\n",
       "      <td>0</td>\n",
       "      <td>5623.422610</td>\n",
       "      <td>33</td>\n",
       "      <td>Среднее</td>\n",
       "      <td>1</td>\n",
       "      <td>женат / замужем</td>\n",
       "      <td>0</td>\n",
       "      <td>M</td>\n",
       "      <td>сотрудник</td>\n",
       "      <td>0</td>\n",
       "      <td>145885.952297</td>\n",
       "      <td>покупка жилья</td>\n",
       "    </tr>\n",
       "    <tr>\n",
       "      <td>3</td>\n",
       "      <td>3</td>\n",
       "      <td>4124.747207</td>\n",
       "      <td>32</td>\n",
       "      <td>среднее</td>\n",
       "      <td>1</td>\n",
       "      <td>женат / замужем</td>\n",
       "      <td>0</td>\n",
       "      <td>M</td>\n",
       "      <td>сотрудник</td>\n",
       "      <td>0</td>\n",
       "      <td>267628.550329</td>\n",
       "      <td>дополнительное образование</td>\n",
       "    </tr>\n",
       "    <tr>\n",
       "      <td>4</td>\n",
       "      <td>0</td>\n",
       "      <td>340266.072047</td>\n",
       "      <td>53</td>\n",
       "      <td>среднее</td>\n",
       "      <td>1</td>\n",
       "      <td>гражданский брак</td>\n",
       "      <td>1</td>\n",
       "      <td>F</td>\n",
       "      <td>пенсионер</td>\n",
       "      <td>0</td>\n",
       "      <td>158616.077870</td>\n",
       "      <td>сыграть свадьбу</td>\n",
       "    </tr>\n",
       "  </tbody>\n",
       "</table>\n",
       "</div>"
      ],
      "text/plain": [
       "   children  days_employed  dob_years education  education_id  \\\n",
       "0         1    8437.673028         42    высшее             0   \n",
       "1         1    4024.803754         36   среднее             1   \n",
       "2         0    5623.422610         33   Среднее             1   \n",
       "3         3    4124.747207         32   среднее             1   \n",
       "4         0  340266.072047         53   среднее             1   \n",
       "\n",
       "      family_status  family_status_id gender income_type  debt   total_income  \\\n",
       "0   женат / замужем                 0      F   сотрудник     0  253875.639453   \n",
       "1   женат / замужем                 0      F   сотрудник     0  112080.014102   \n",
       "2   женат / замужем                 0      M   сотрудник     0  145885.952297   \n",
       "3   женат / замужем                 0      M   сотрудник     0  267628.550329   \n",
       "4  гражданский брак                 1      F   пенсионер     0  158616.077870   \n",
       "\n",
       "                      purpose  \n",
       "0               покупка жилья  \n",
       "1     приобретение автомобиля  \n",
       "2               покупка жилья  \n",
       "3  дополнительное образование  \n",
       "4             сыграть свадьбу  "
      ]
     },
     "execution_count": 208,
     "metadata": {},
     "output_type": "execute_result"
    }
   ],
   "source": [
    "data.head()"
   ]
  },
  {
   "cell_type": "code",
   "execution_count": 209,
   "metadata": {},
   "outputs": [
    {
     "data": {
      "text/plain": [
       "0    14149\n",
       "1     4865\n",
       "2     2131\n",
       "3      330\n",
       "4       41\n",
       "5        9\n",
       "Name: children, dtype: int64"
      ]
     },
     "execution_count": 209,
     "metadata": {},
     "output_type": "execute_result"
    }
   ],
   "source": [
    "data['children'].value_counts()"
   ]
  },
  {
   "cell_type": "code",
   "execution_count": 210,
   "metadata": {},
   "outputs": [
    {
     "data": {
      "text/plain": [
       "F    14237\n",
       "M     7288\n",
       "Name: gender, dtype: int64"
      ]
     },
     "execution_count": 210,
     "metadata": {},
     "output_type": "execute_result"
    }
   ],
   "source": [
    "data['gender'].value_counts()"
   ]
  },
  {
   "cell_type": "markdown",
   "metadata": {},
   "source": [
    "Пропусков больше нет, отрицательных значений и ошибок тоже."
   ]
  },
  {
   "cell_type": "markdown",
   "metadata": {},
   "source": [
    "### Замена типа данных"
   ]
  },
  {
   "cell_type": "code",
   "execution_count": 211,
   "metadata": {},
   "outputs": [],
   "source": [
    "# Заменим в столбцах тип данных с float на int\n",
    "data['days_employed'] = data['days_employed'].astype(int)\n",
    "data['total_income'] = data['total_income'].astype(int)"
   ]
  },
  {
   "cell_type": "markdown",
   "metadata": {},
   "source": [
    "**Вывод**"
   ]
  },
  {
   "cell_type": "code",
   "execution_count": 212,
   "metadata": {},
   "outputs": [
    {
     "name": "stdout",
     "output_type": "stream",
     "text": [
      "<class 'pandas.core.frame.DataFrame'>\n",
      "RangeIndex: 21525 entries, 0 to 21524\n",
      "Data columns (total 12 columns):\n",
      "children            21525 non-null int64\n",
      "days_employed       21525 non-null int64\n",
      "dob_years           21525 non-null int64\n",
      "education           21525 non-null object\n",
      "education_id        21525 non-null int64\n",
      "family_status       21525 non-null object\n",
      "family_status_id    21525 non-null int64\n",
      "gender              21525 non-null object\n",
      "income_type         21525 non-null object\n",
      "debt                21525 non-null int64\n",
      "total_income        21525 non-null int64\n",
      "purpose             21525 non-null object\n",
      "dtypes: int64(7), object(5)\n",
      "memory usage: 2.0+ MB\n"
     ]
    }
   ],
   "source": [
    "data.info()"
   ]
  },
  {
   "cell_type": "markdown",
   "metadata": {},
   "source": [
    "Данные в столбцах days_employed и total_income изменены на int."
   ]
  },
  {
   "cell_type": "markdown",
   "metadata": {},
   "source": [
    "### Обработка дубликатов"
   ]
  },
  {
   "cell_type": "code",
   "execution_count": 213,
   "metadata": {},
   "outputs": [],
   "source": [
    "# Поменяем регистр данных в столбцах education и family_status и уберем дубликаты в данных:\n",
    "data['education'] = data['education'].str.lower()\n",
    "data['family_status'] = data['family_status'].str.lower()"
   ]
  },
  {
   "cell_type": "markdown",
   "metadata": {},
   "source": [
    "**Вывод**"
   ]
  },
  {
   "cell_type": "code",
   "execution_count": 214,
   "metadata": {},
   "outputs": [
    {
     "data": {
      "text/plain": [
       "среднее                15233\n",
       "высшее                  5260\n",
       "неоконченное высшее      744\n",
       "начальное                282\n",
       "ученая степень             6\n",
       "Name: education, dtype: int64"
      ]
     },
     "execution_count": 214,
     "metadata": {},
     "output_type": "execute_result"
    }
   ],
   "source": [
    "data['education'].value_counts()"
   ]
  },
  {
   "cell_type": "code",
   "execution_count": 215,
   "metadata": {},
   "outputs": [
    {
     "name": "stdout",
     "output_type": "stream",
     "text": [
      "<class 'pandas.core.frame.DataFrame'>\n",
      "RangeIndex: 21525 entries, 0 to 21524\n",
      "Data columns (total 12 columns):\n",
      "children            21525 non-null int64\n",
      "days_employed       21525 non-null int64\n",
      "dob_years           21525 non-null int64\n",
      "education           21525 non-null object\n",
      "education_id        21525 non-null int64\n",
      "family_status       21525 non-null object\n",
      "family_status_id    21525 non-null int64\n",
      "gender              21525 non-null object\n",
      "income_type         21525 non-null object\n",
      "debt                21525 non-null int64\n",
      "total_income        21525 non-null int64\n",
      "purpose             21525 non-null object\n",
      "dtypes: int64(7), object(5)\n",
      "memory usage: 2.0+ MB\n"
     ]
    }
   ],
   "source": [
    "data.info()"
   ]
  },
  {
   "cell_type": "markdown",
   "metadata": {},
   "source": [
    "Теперь в данных нет дубликатов."
   ]
  },
  {
   "cell_type": "markdown",
   "metadata": {},
   "source": [
    "### Лемматизация"
   ]
  },
  {
   "cell_type": "markdown",
   "metadata": {},
   "source": [
    "Теперь нужно провести лемматизацию столбца purpose:"
   ]
  },
  {
   "cell_type": "code",
   "execution_count": 216,
   "metadata": {},
   "outputs": [
    {
     "data": {
      "text/plain": [
       "Counter({'покупка': 10,\n",
       "         ' ': 96,\n",
       "         'жилье': 7,\n",
       "         'приобретение': 1,\n",
       "         'автомобиль': 9,\n",
       "         'дополнительный': 2,\n",
       "         'образование': 9,\n",
       "         'сыграть': 1,\n",
       "         'свадьба': 3,\n",
       "         'операция': 4,\n",
       "         'с': 5,\n",
       "         'на': 4,\n",
       "         'проведение': 1,\n",
       "         'для': 2,\n",
       "         'семья': 1,\n",
       "         'недвижимость': 10,\n",
       "         'коммерческий': 2,\n",
       "         'жилой': 2,\n",
       "         'строительство': 3,\n",
       "         'собственный': 1,\n",
       "         'подержать': 2,\n",
       "         'свой': 4,\n",
       "         'со': 1,\n",
       "         'заниматься': 2,\n",
       "         'сделка': 2,\n",
       "         'получение': 3,\n",
       "         'высокий': 3,\n",
       "         'профильный': 1,\n",
       "         'сдача': 1,\n",
       "         'ремонт': 1,\n",
       "         '\\n': 1})"
      ]
     },
     "execution_count": 216,
     "metadata": {},
     "output_type": "execute_result"
    }
   ],
   "source": [
    "# Импортируем pymystem3, выделим значения в столбце purpose в строку и лемматизируем ее:\n",
    "from pymystem3 import Mystem\n",
    "m = Mystem()\n",
    "\n",
    "text = data['purpose'].unique()\n",
    "text = \" \".join(text)\n",
    "\n",
    "lemmas = m.lemmatize(text)\n",
    "\n",
    "from collections import Counter\n",
    "Counter(lemmas)"
   ]
  },
  {
   "cell_type": "markdown",
   "metadata": {},
   "source": [
    "Максимальные значения имеют: жилье, автомобиль, образование, свадьба, операция, недвижимость, строительство."
   ]
  },
  {
   "cell_type": "code",
   "execution_count": 217,
   "metadata": {},
   "outputs": [
    {
     "name": "stdout",
     "output_type": "stream",
     "text": [
      "Исходное слово - жилье, после стемминга - жил\n",
      "Исходное слово - недвижимость, после стемминга - недвижим\n",
      "Исходное слово - автомобиль, после стемминга - автомобил\n",
      "Исходное слово - свадьба, после стемминга - свадьб\n",
      "Исходное слово - образование, после стемминга - образован\n",
      "Исходное слово - строительство, после стемминга - строительств\n"
     ]
    }
   ],
   "source": [
    "# Проведем стемминг слов и выделим их основу:\n",
    "from nltk.stem import SnowballStemmer \n",
    "russian_stemmer = SnowballStemmer('russian')  \n",
    "\n",
    "purpose = ['жилье', 'недвижимость', 'автомобиль', 'свадьба', 'образование', 'строительство']\n",
    "for word in purpose:\n",
    "    print('Исходное слово - ' + word + ', после стемминга - ' + russian_stemmer.stem(word))"
   ]
  },
  {
   "cell_type": "markdown",
   "metadata": {},
   "source": [
    "**Вывод**"
   ]
  },
  {
   "cell_type": "markdown",
   "metadata": {},
   "source": [
    "Получили основные цели кредита: жилье, автомобиль, образование, свадьба, недвижимость, строительство и их основы: жил, недвижим, автомобил, свадьб, образован, строительств."
   ]
  },
  {
   "cell_type": "markdown",
   "metadata": {},
   "source": [
    "### Категоризация данных"
   ]
  },
  {
   "cell_type": "markdown",
   "metadata": {},
   "source": [
    "Проведем категоризацию данных в столбце purpose:"
   ]
  },
  {
   "cell_type": "code",
   "execution_count": 218,
   "metadata": {},
   "outputs": [
    {
     "data": {
      "text/plain": [
       "недвижимость    10840\n",
       "автомобиль       4315\n",
       "образование      2706\n",
       "свадьба          2348\n",
       "Name: purpose_categories, dtype: int64"
      ]
     },
     "execution_count": 218,
     "metadata": {},
     "output_type": "execute_result"
    }
   ],
   "source": [
    "# Создадим функцию для категоризации данных:\n",
    "def change_purpose(word_purpose):\n",
    "    if 'жил'in word_purpose or 'недвижим' in word_purpose or 'строительств' in word_purpose:\n",
    "        return 'недвижимость'\n",
    "    if 'автомобил' in word_purpose:\n",
    "        return 'автомобиль'\n",
    "    if 'свадьб' in word_purpose:\n",
    "        return 'свадьба'\n",
    "    if 'образование' in word_purpose:\n",
    "        return 'образование'\n",
    "\n",
    "data['purpose_categories'] = data['purpose'].apply(change_purpose)\n",
    "data['purpose_categories'].value_counts()"
   ]
  },
  {
   "cell_type": "markdown",
   "metadata": {},
   "source": [
    "**Вывод**"
   ]
  },
  {
   "cell_type": "markdown",
   "metadata": {},
   "source": [
    "Добавлен столбец с новой более понятной категоризацией на 4 вида целей получения кредита."
   ]
  },
  {
   "cell_type": "markdown",
   "metadata": {},
   "source": [
    "## 3. Исследование данных"
   ]
  },
  {
   "cell_type": "markdown",
   "metadata": {},
   "source": [
    "1. Есть ли зависимость между наличием детей и возвратом кредита в срок?"
   ]
  },
  {
   "cell_type": "code",
   "execution_count": 219,
   "metadata": {},
   "outputs": [
    {
     "data": {
      "text/html": [
       "<div>\n",
       "<style scoped>\n",
       "    .dataframe tbody tr th:only-of-type {\n",
       "        vertical-align: middle;\n",
       "    }\n",
       "\n",
       "    .dataframe tbody tr th {\n",
       "        vertical-align: top;\n",
       "    }\n",
       "\n",
       "    .dataframe thead tr th {\n",
       "        text-align: left;\n",
       "    }\n",
       "\n",
       "    .dataframe thead tr:last-of-type th {\n",
       "        text-align: right;\n",
       "    }\n",
       "</style>\n",
       "<table border=\"1\" class=\"dataframe\">\n",
       "  <thead>\n",
       "    <tr>\n",
       "      <th></th>\n",
       "      <th>sum</th>\n",
       "      <th>count</th>\n",
       "      <th>share</th>\n",
       "    </tr>\n",
       "    <tr>\n",
       "      <th></th>\n",
       "      <th>debt</th>\n",
       "      <th>debt</th>\n",
       "      <th></th>\n",
       "    </tr>\n",
       "    <tr>\n",
       "      <th>children</th>\n",
       "      <th></th>\n",
       "      <th></th>\n",
       "      <th></th>\n",
       "    </tr>\n",
       "  </thead>\n",
       "  <tbody>\n",
       "    <tr>\n",
       "      <td>5</td>\n",
       "      <td>0</td>\n",
       "      <td>9</td>\n",
       "      <td>0.000000</td>\n",
       "    </tr>\n",
       "    <tr>\n",
       "      <td>0</td>\n",
       "      <td>1063</td>\n",
       "      <td>14149</td>\n",
       "      <td>0.075129</td>\n",
       "    </tr>\n",
       "    <tr>\n",
       "      <td>3</td>\n",
       "      <td>27</td>\n",
       "      <td>330</td>\n",
       "      <td>0.081818</td>\n",
       "    </tr>\n",
       "    <tr>\n",
       "      <td>1</td>\n",
       "      <td>445</td>\n",
       "      <td>4865</td>\n",
       "      <td>0.091470</td>\n",
       "    </tr>\n",
       "    <tr>\n",
       "      <td>2</td>\n",
       "      <td>202</td>\n",
       "      <td>2131</td>\n",
       "      <td>0.094791</td>\n",
       "    </tr>\n",
       "    <tr>\n",
       "      <td>4</td>\n",
       "      <td>4</td>\n",
       "      <td>41</td>\n",
       "      <td>0.097561</td>\n",
       "    </tr>\n",
       "  </tbody>\n",
       "</table>\n",
       "</div>"
      ],
      "text/plain": [
       "           sum  count     share\n",
       "          debt   debt          \n",
       "children                       \n",
       "5            0      9  0.000000\n",
       "0         1063  14149  0.075129\n",
       "3           27    330  0.081818\n",
       "1          445   4865  0.091470\n",
       "2          202   2131  0.094791\n",
       "4            4     41  0.097561"
      ]
     },
     "execution_count": 219,
     "metadata": {},
     "output_type": "execute_result"
    }
   ],
   "source": [
    "# Составим сводную таблицу из данных двух столбцов children и debt и добавим столбец с долевым значением:\n",
    "children_pivot = data.pivot_table(index = 'children', values = 'debt', aggfunc = ['sum', 'count'])\n",
    "children_pivot['share'] = children_pivot['sum'] / children_pivot['count']\n",
    "children_pivot.sort_values(by='share')"
   ]
  },
  {
   "cell_type": "markdown",
   "metadata": {},
   "source": [
    "**Вывод**"
   ]
  },
  {
   "cell_type": "markdown",
   "metadata": {},
   "source": [
    "В полученных данных можно отметить тренд на рост доли невовзрата кредитов, чем больше у заемщиков детей. Наибольшее число невозвратов имеют заемщики с 4мя детьми - 9,75%. Наименьшая вероятность невозврата кредита у тех, у кого нет детей - 7,51%."
   ]
  },
  {
   "cell_type": "markdown",
   "metadata": {},
   "source": [
    "2. Есть ли зависимость между семейным положением и возвратом кредита в срок?"
   ]
  },
  {
   "cell_type": "code",
   "execution_count": 220,
   "metadata": {},
   "outputs": [
    {
     "data": {
      "text/html": [
       "<div>\n",
       "<style scoped>\n",
       "    .dataframe tbody tr th:only-of-type {\n",
       "        vertical-align: middle;\n",
       "    }\n",
       "\n",
       "    .dataframe tbody tr th {\n",
       "        vertical-align: top;\n",
       "    }\n",
       "\n",
       "    .dataframe thead tr th {\n",
       "        text-align: left;\n",
       "    }\n",
       "\n",
       "    .dataframe thead tr:last-of-type th {\n",
       "        text-align: right;\n",
       "    }\n",
       "</style>\n",
       "<table border=\"1\" class=\"dataframe\">\n",
       "  <thead>\n",
       "    <tr>\n",
       "      <th></th>\n",
       "      <th>sum</th>\n",
       "      <th>count</th>\n",
       "      <th>share</th>\n",
       "    </tr>\n",
       "    <tr>\n",
       "      <th></th>\n",
       "      <th>debt</th>\n",
       "      <th>debt</th>\n",
       "      <th></th>\n",
       "    </tr>\n",
       "    <tr>\n",
       "      <th>family_status</th>\n",
       "      <th></th>\n",
       "      <th></th>\n",
       "      <th></th>\n",
       "    </tr>\n",
       "  </thead>\n",
       "  <tbody>\n",
       "    <tr>\n",
       "      <td>вдовец / вдова</td>\n",
       "      <td>63</td>\n",
       "      <td>960</td>\n",
       "      <td>0.065625</td>\n",
       "    </tr>\n",
       "    <tr>\n",
       "      <td>в разводе</td>\n",
       "      <td>85</td>\n",
       "      <td>1195</td>\n",
       "      <td>0.071130</td>\n",
       "    </tr>\n",
       "    <tr>\n",
       "      <td>женат / замужем</td>\n",
       "      <td>931</td>\n",
       "      <td>12380</td>\n",
       "      <td>0.075202</td>\n",
       "    </tr>\n",
       "    <tr>\n",
       "      <td>гражданский брак</td>\n",
       "      <td>388</td>\n",
       "      <td>4177</td>\n",
       "      <td>0.092890</td>\n",
       "    </tr>\n",
       "    <tr>\n",
       "      <td>не женат / не замужем</td>\n",
       "      <td>274</td>\n",
       "      <td>2813</td>\n",
       "      <td>0.097405</td>\n",
       "    </tr>\n",
       "  </tbody>\n",
       "</table>\n",
       "</div>"
      ],
      "text/plain": [
       "                       sum  count     share\n",
       "                      debt   debt          \n",
       "family_status                              \n",
       "вдовец / вдова          63    960  0.065625\n",
       "в разводе               85   1195  0.071130\n",
       "женат / замужем        931  12380  0.075202\n",
       "гражданский брак       388   4177  0.092890\n",
       "не женат / не замужем  274   2813  0.097405"
      ]
     },
     "execution_count": 220,
     "metadata": {},
     "output_type": "execute_result"
    }
   ],
   "source": [
    "# Составим сводную таблицу из данных двух столбцов family_status и debt:\n",
    "family_pivot = data.pivot_table(index = 'family_status', values = 'debt', aggfunc = ['sum', 'count'])\n",
    "family_pivot['share'] = family_pivot['sum'] / family_pivot['count']\n",
    "family_pivot.sort_values(by='share')"
   ]
  },
  {
   "cell_type": "markdown",
   "metadata": {},
   "source": [
    "**Вывод**"
   ]
  },
  {
   "cell_type": "markdown",
   "metadata": {},
   "source": [
    "Наибольшая вероятность невозврата кредита имеют группы \"не женат/не замужем\" - 9,74% и \"гражданский брак\" - 9,29%. Наименьшая вероятность невовзрата кредитов у тех, кто в разводе 7,11% или вдовец/вдова 6,56%."
   ]
  },
  {
   "cell_type": "markdown",
   "metadata": {},
   "source": [
    "3. Есть ли зависимость между уровнем дохода и возвратом кредита в срок?"
   ]
  },
  {
   "cell_type": "code",
   "execution_count": 221,
   "metadata": {
    "scrolled": true
   },
   "outputs": [
    {
     "data": {
      "text/plain": [
       "средний класс      13994\n",
       "верхний средний     4726\n",
       "нижний средний      2254\n",
       "богатые              529\n",
       "бедные                22\n",
       "Name: income_group, dtype: int64"
      ]
     },
     "execution_count": 221,
     "metadata": {},
     "output_type": "execute_result"
    }
   ],
   "source": [
    "# Для анализа доходов необходимо их распределить по категориям:\n",
    "def income_group(income):\n",
    "    if income < 30000:\n",
    "        return 'бедные'\n",
    "    if income < 80000:\n",
    "        return 'нижний средний'\n",
    "    if income < 200000:\n",
    "        return 'средний класс'\n",
    "    if income < 400000:\n",
    "        return 'верхний средний'\n",
    "    return 'богатые'\n",
    "\n",
    "data['income_group'] = data['total_income'].apply(income_group)\n",
    "data['income_group'].value_counts()"
   ]
  },
  {
   "cell_type": "code",
   "execution_count": 222,
   "metadata": {},
   "outputs": [
    {
     "data": {
      "text/html": [
       "<div>\n",
       "<style scoped>\n",
       "    .dataframe tbody tr th:only-of-type {\n",
       "        vertical-align: middle;\n",
       "    }\n",
       "\n",
       "    .dataframe tbody tr th {\n",
       "        vertical-align: top;\n",
       "    }\n",
       "\n",
       "    .dataframe thead tr th {\n",
       "        text-align: left;\n",
       "    }\n",
       "\n",
       "    .dataframe thead tr:last-of-type th {\n",
       "        text-align: right;\n",
       "    }\n",
       "</style>\n",
       "<table border=\"1\" class=\"dataframe\">\n",
       "  <thead>\n",
       "    <tr>\n",
       "      <th></th>\n",
       "      <th>sum</th>\n",
       "      <th>count</th>\n",
       "      <th>share</th>\n",
       "    </tr>\n",
       "    <tr>\n",
       "      <th></th>\n",
       "      <th>debt</th>\n",
       "      <th>debt</th>\n",
       "      <th></th>\n",
       "    </tr>\n",
       "    <tr>\n",
       "      <th>income_group</th>\n",
       "      <th></th>\n",
       "      <th></th>\n",
       "      <th></th>\n",
       "    </tr>\n",
       "  </thead>\n",
       "  <tbody>\n",
       "    <tr>\n",
       "      <td>богатые</td>\n",
       "      <td>31</td>\n",
       "      <td>529</td>\n",
       "      <td>0.058601</td>\n",
       "    </tr>\n",
       "    <tr>\n",
       "      <td>верхний средний</td>\n",
       "      <td>335</td>\n",
       "      <td>4726</td>\n",
       "      <td>0.070884</td>\n",
       "    </tr>\n",
       "    <tr>\n",
       "      <td>нижний средний</td>\n",
       "      <td>172</td>\n",
       "      <td>2254</td>\n",
       "      <td>0.076309</td>\n",
       "    </tr>\n",
       "    <tr>\n",
       "      <td>средний класс</td>\n",
       "      <td>1201</td>\n",
       "      <td>13994</td>\n",
       "      <td>0.085822</td>\n",
       "    </tr>\n",
       "    <tr>\n",
       "      <td>бедные</td>\n",
       "      <td>2</td>\n",
       "      <td>22</td>\n",
       "      <td>0.090909</td>\n",
       "    </tr>\n",
       "  </tbody>\n",
       "</table>\n",
       "</div>"
      ],
      "text/plain": [
       "                  sum  count     share\n",
       "                 debt   debt          \n",
       "income_group                          \n",
       "богатые            31    529  0.058601\n",
       "верхний средний   335   4726  0.070884\n",
       "нижний средний    172   2254  0.076309\n",
       "средний класс    1201  13994  0.085822\n",
       "бедные              2     22  0.090909"
      ]
     },
     "execution_count": 222,
     "metadata": {},
     "output_type": "execute_result"
    }
   ],
   "source": [
    "# Теперь посчитаем доли невозвратов по столбцу debt:\n",
    "income_pivot = data.pivot_table(index = 'income_group', values = 'debt', aggfunc = ['sum', 'count'])\n",
    "income_pivot['share'] = income_pivot['sum'] / income_pivot['count']\n",
    "income_pivot.sort_values(by='share')"
   ]
  },
  {
   "cell_type": "markdown",
   "metadata": {},
   "source": [
    "**Вывод**"
   ]
  },
  {
   "cell_type": "markdown",
   "metadata": {},
   "source": [
    "Богатые платят вовремя, доля невозвратов - 5,86%, хуже всего справляются бедные - 9,09%."
   ]
  },
  {
   "cell_type": "markdown",
   "metadata": {},
   "source": [
    "4. Как разные цели кредита влияют на его возврат в срок?"
   ]
  },
  {
   "cell_type": "code",
   "execution_count": 223,
   "metadata": {},
   "outputs": [
    {
     "data": {
      "text/html": [
       "<div>\n",
       "<style scoped>\n",
       "    .dataframe tbody tr th:only-of-type {\n",
       "        vertical-align: middle;\n",
       "    }\n",
       "\n",
       "    .dataframe tbody tr th {\n",
       "        vertical-align: top;\n",
       "    }\n",
       "\n",
       "    .dataframe thead tr th {\n",
       "        text-align: left;\n",
       "    }\n",
       "\n",
       "    .dataframe thead tr:last-of-type th {\n",
       "        text-align: right;\n",
       "    }\n",
       "</style>\n",
       "<table border=\"1\" class=\"dataframe\">\n",
       "  <thead>\n",
       "    <tr>\n",
       "      <th></th>\n",
       "      <th>sum</th>\n",
       "      <th>count</th>\n",
       "      <th>share</th>\n",
       "    </tr>\n",
       "    <tr>\n",
       "      <th></th>\n",
       "      <th>debt</th>\n",
       "      <th>debt</th>\n",
       "      <th></th>\n",
       "    </tr>\n",
       "    <tr>\n",
       "      <th>purpose_categories</th>\n",
       "      <th></th>\n",
       "      <th></th>\n",
       "      <th></th>\n",
       "    </tr>\n",
       "  </thead>\n",
       "  <tbody>\n",
       "    <tr>\n",
       "      <td>недвижимость</td>\n",
       "      <td>782</td>\n",
       "      <td>10840</td>\n",
       "      <td>0.072140</td>\n",
       "    </tr>\n",
       "    <tr>\n",
       "      <td>свадьба</td>\n",
       "      <td>186</td>\n",
       "      <td>2348</td>\n",
       "      <td>0.079216</td>\n",
       "    </tr>\n",
       "    <tr>\n",
       "      <td>образование</td>\n",
       "      <td>236</td>\n",
       "      <td>2706</td>\n",
       "      <td>0.087214</td>\n",
       "    </tr>\n",
       "    <tr>\n",
       "      <td>автомобиль</td>\n",
       "      <td>403</td>\n",
       "      <td>4315</td>\n",
       "      <td>0.093395</td>\n",
       "    </tr>\n",
       "  </tbody>\n",
       "</table>\n",
       "</div>"
      ],
      "text/plain": [
       "                    sum  count     share\n",
       "                   debt   debt          \n",
       "purpose_categories                      \n",
       "недвижимость        782  10840  0.072140\n",
       "свадьба             186   2348  0.079216\n",
       "образование         236   2706  0.087214\n",
       "автомобиль          403   4315  0.093395"
      ]
     },
     "execution_count": 223,
     "metadata": {},
     "output_type": "execute_result"
    }
   ],
   "source": [
    "# Составим сводную таблицу из данных двух столбцов purpose_categories и debt:\n",
    "purpose_pivot = data.pivot_table(index = 'purpose_categories', values = 'debt', aggfunc = ['sum', 'count'])\n",
    "purpose_pivot['share'] = purpose_pivot['sum'] / purpose_pivot['count']\n",
    "purpose_pivot.sort_values(by='share')"
   ]
  },
  {
   "cell_type": "markdown",
   "metadata": {},
   "source": [
    "**Вывод**"
   ]
  },
  {
   "cell_type": "markdown",
   "metadata": {},
   "source": [
    "Наибольшая вероятность невозврата кредита на покупку автомобиля - 9,34%, наименьшая вероятность у тех, кто берет кредит на операции с недвижимостью - 7,21%."
   ]
  },
  {
   "cell_type": "markdown",
   "metadata": {},
   "source": [
    "## Общий вывод"
   ]
  },
  {
   "cell_type": "markdown",
   "metadata": {},
   "source": [
    "С целью создания кредитного скоринга и на основании представленных данных можно сделать следующие выводы:\n",
    "* самые надежные клиенты это те, у кого нет детей (7,51%), а самые ненадежные те, у кого 4 ребенка (9,76%).\n",
    "* самые надежные клиенты это те, кто вдовец/вдова (6,56%), а самые ненадежные те, кто не женат / не замужем (9,74%).\n",
    "* самые надежные клиенты - богатые (5,86%), а самые ненадежные - бедные (9,09%).\n",
    "* самые надежные клиенты это те, кто берет кредит на операции с недвижимостью (7,21%), а самые ненадежные те, кто обращается в банк с целью получить деньги на покупку автомобиля (9,33%)."
   ]
  }
 ],
 "metadata": {
  "ExecuteTimeLog": [
   {
    "duration": 650,
    "start_time": "2021-12-07T19:02:44.177Z"
   },
   {
    "duration": 52,
    "start_time": "2021-12-07T19:02:48.754Z"
   },
   {
    "duration": 13,
    "start_time": "2021-12-07T19:10:47.874Z"
   },
   {
    "duration": 11,
    "start_time": "2021-12-07T19:11:27.058Z"
   },
   {
    "duration": 11,
    "start_time": "2021-12-07T19:11:30.000Z"
   },
   {
    "duration": 7,
    "start_time": "2021-12-07T19:12:10.904Z"
   },
   {
    "duration": 6,
    "start_time": "2021-12-07T19:12:13.419Z"
   },
   {
    "duration": 53,
    "start_time": "2021-12-07T19:12:27.586Z"
   },
   {
    "duration": 12,
    "start_time": "2021-12-07T19:12:27.641Z"
   },
   {
    "duration": 7,
    "start_time": "2021-12-07T19:12:27.655Z"
   },
   {
    "duration": 7,
    "start_time": "2021-12-07T19:12:27.664Z"
   },
   {
    "duration": 19,
    "start_time": "2021-12-07T19:12:27.672Z"
   },
   {
    "duration": 25,
    "start_time": "2021-12-07T19:12:27.692Z"
   },
   {
    "duration": 13,
    "start_time": "2021-12-07T19:12:27.719Z"
   },
   {
    "duration": 5,
    "start_time": "2021-12-07T19:12:27.743Z"
   },
   {
    "duration": 7,
    "start_time": "2021-12-07T19:12:27.800Z"
   },
   {
    "duration": 6,
    "start_time": "2021-12-07T19:12:27.822Z"
   },
   {
    "duration": 6,
    "start_time": "2021-12-07T19:12:27.850Z"
   },
   {
    "duration": 18,
    "start_time": "2021-12-07T19:12:27.857Z"
   },
   {
    "duration": 9,
    "start_time": "2021-12-07T19:12:27.885Z"
   },
   {
    "duration": 13,
    "start_time": "2021-12-07T19:12:27.971Z"
   },
   {
    "duration": 6,
    "start_time": "2021-12-07T19:12:27.993Z"
   },
   {
    "duration": 7,
    "start_time": "2021-12-07T19:12:28.022Z"
   },
   {
    "duration": 9,
    "start_time": "2021-12-07T19:12:28.048Z"
   },
   {
    "duration": 4,
    "start_time": "2021-12-07T19:12:28.068Z"
   },
   {
    "duration": 3,
    "start_time": "2021-12-07T19:12:28.090Z"
   },
   {
    "duration": 11,
    "start_time": "2021-12-07T19:12:28.113Z"
   },
   {
    "duration": 13,
    "start_time": "2021-12-07T19:12:28.126Z"
   },
   {
    "duration": 6,
    "start_time": "2021-12-07T19:12:28.141Z"
   },
   {
    "duration": 6,
    "start_time": "2021-12-07T19:12:28.149Z"
   },
   {
    "duration": 34,
    "start_time": "2021-12-07T19:12:28.157Z"
   },
   {
    "duration": 5,
    "start_time": "2021-12-07T19:12:28.192Z"
   },
   {
    "duration": 12,
    "start_time": "2021-12-07T19:12:28.198Z"
   },
   {
    "duration": 19,
    "start_time": "2021-12-07T19:12:28.212Z"
   },
   {
    "duration": 9,
    "start_time": "2021-12-07T19:12:28.232Z"
   },
   {
    "duration": 399,
    "start_time": "2021-12-08T12:15:29.276Z"
   },
   {
    "duration": 616,
    "start_time": "2021-12-08T12:24:49.584Z"
   },
   {
    "duration": 43,
    "start_time": "2021-12-08T12:35:38.997Z"
   },
   {
    "duration": 13,
    "start_time": "2021-12-08T12:35:47.616Z"
   },
   {
    "duration": 8,
    "start_time": "2021-12-08T12:36:42.463Z"
   },
   {
    "duration": 10,
    "start_time": "2021-12-08T12:36:46.425Z"
   },
   {
    "duration": 15,
    "start_time": "2021-12-08T12:40:32.245Z"
   },
   {
    "duration": 55,
    "start_time": "2021-12-08T12:40:39.401Z"
   },
   {
    "duration": 11,
    "start_time": "2021-12-08T12:40:39.458Z"
   },
   {
    "duration": 7,
    "start_time": "2021-12-08T12:40:39.471Z"
   },
   {
    "duration": 10,
    "start_time": "2021-12-08T12:40:39.480Z"
   },
   {
    "duration": 7,
    "start_time": "2021-12-08T12:40:39.491Z"
   },
   {
    "duration": 7,
    "start_time": "2021-12-08T12:40:39.500Z"
   },
   {
    "duration": 8,
    "start_time": "2021-12-08T12:40:39.508Z"
   },
   {
    "duration": 6,
    "start_time": "2021-12-08T12:40:39.519Z"
   },
   {
    "duration": 7,
    "start_time": "2021-12-08T12:40:39.527Z"
   },
   {
    "duration": 54,
    "start_time": "2021-12-08T12:40:39.536Z"
   },
   {
    "duration": 5,
    "start_time": "2021-12-08T12:40:39.592Z"
   },
   {
    "duration": 6,
    "start_time": "2021-12-08T12:40:39.599Z"
   },
   {
    "duration": 8,
    "start_time": "2021-12-08T12:40:39.606Z"
   },
   {
    "duration": 15,
    "start_time": "2021-12-08T12:40:39.615Z"
   },
   {
    "duration": 12,
    "start_time": "2021-12-08T12:40:39.631Z"
   },
   {
    "duration": 46,
    "start_time": "2021-12-08T12:40:39.644Z"
   },
   {
    "duration": 6,
    "start_time": "2021-12-08T12:40:39.691Z"
   },
   {
    "duration": 9,
    "start_time": "2021-12-08T12:40:39.699Z"
   },
   {
    "duration": 4,
    "start_time": "2021-12-08T12:40:39.710Z"
   },
   {
    "duration": 4,
    "start_time": "2021-12-08T12:40:39.716Z"
   },
   {
    "duration": 14,
    "start_time": "2021-12-08T12:40:39.721Z"
   },
   {
    "duration": 10,
    "start_time": "2021-12-08T12:40:39.736Z"
   },
   {
    "duration": 6,
    "start_time": "2021-12-08T12:40:39.749Z"
   },
   {
    "duration": 34,
    "start_time": "2021-12-08T12:40:39.757Z"
   },
   {
    "duration": 6,
    "start_time": "2021-12-08T12:40:39.793Z"
   },
   {
    "duration": 8,
    "start_time": "2021-12-08T12:40:39.800Z"
   },
   {
    "duration": 13,
    "start_time": "2021-12-08T12:40:39.809Z"
   },
   {
    "duration": 36,
    "start_time": "2021-12-08T12:40:39.824Z"
   },
   {
    "duration": 28,
    "start_time": "2021-12-08T12:40:39.862Z"
   },
   {
    "duration": 11,
    "start_time": "2021-12-08T12:40:39.892Z"
   },
   {
    "duration": 628,
    "start_time": "2021-12-08T12:40:39.905Z"
   },
   {
    "duration": 19,
    "start_time": "2021-12-08T12:40:50.107Z"
   },
   {
    "duration": 55,
    "start_time": "2021-12-08T12:41:10.439Z"
   },
   {
    "duration": 11,
    "start_time": "2021-12-08T12:41:10.496Z"
   },
   {
    "duration": 7,
    "start_time": "2021-12-08T12:41:10.509Z"
   },
   {
    "duration": 5,
    "start_time": "2021-12-08T12:41:10.518Z"
   },
   {
    "duration": 7,
    "start_time": "2021-12-08T12:41:10.525Z"
   },
   {
    "duration": 9,
    "start_time": "2021-12-08T12:41:10.534Z"
   },
   {
    "duration": 44,
    "start_time": "2021-12-08T12:41:10.545Z"
   },
   {
    "duration": 6,
    "start_time": "2021-12-08T12:41:10.592Z"
   },
   {
    "duration": 7,
    "start_time": "2021-12-08T12:41:10.601Z"
   },
   {
    "duration": 9,
    "start_time": "2021-12-08T12:41:10.609Z"
   },
   {
    "duration": 7,
    "start_time": "2021-12-08T12:41:10.619Z"
   },
   {
    "duration": 6,
    "start_time": "2021-12-08T12:41:10.627Z"
   },
   {
    "duration": 9,
    "start_time": "2021-12-08T12:41:10.635Z"
   },
   {
    "duration": 55,
    "start_time": "2021-12-08T12:41:10.646Z"
   },
   {
    "duration": 11,
    "start_time": "2021-12-08T12:41:10.703Z"
   },
   {
    "duration": 8,
    "start_time": "2021-12-08T12:41:10.716Z"
   },
   {
    "duration": 6,
    "start_time": "2021-12-08T12:41:10.726Z"
   },
   {
    "duration": 11,
    "start_time": "2021-12-08T12:41:10.734Z"
   },
   {
    "duration": 5,
    "start_time": "2021-12-08T12:41:10.746Z"
   },
   {
    "duration": 5,
    "start_time": "2021-12-08T12:41:10.752Z"
   },
   {
    "duration": 35,
    "start_time": "2021-12-08T12:41:10.758Z"
   },
   {
    "duration": 17,
    "start_time": "2021-12-08T12:41:10.795Z"
   },
   {
    "duration": 7,
    "start_time": "2021-12-08T12:41:10.816Z"
   },
   {
    "duration": 6,
    "start_time": "2021-12-08T12:41:10.825Z"
   },
   {
    "duration": 8,
    "start_time": "2021-12-08T12:41:10.832Z"
   },
   {
    "duration": 6,
    "start_time": "2021-12-08T12:41:10.841Z"
   },
   {
    "duration": 48,
    "start_time": "2021-12-08T12:41:10.849Z"
   },
   {
    "duration": 36,
    "start_time": "2021-12-08T12:41:10.899Z"
   },
   {
    "duration": 8,
    "start_time": "2021-12-08T12:41:10.936Z"
   },
   {
    "duration": 13,
    "start_time": "2021-12-08T12:41:10.945Z"
   },
   {
    "duration": 662,
    "start_time": "2021-12-08T12:41:10.960Z"
   },
   {
    "duration": 13,
    "start_time": "2021-12-08T12:45:16.599Z"
   },
   {
    "duration": 4,
    "start_time": "2021-12-08T12:46:35.860Z"
   },
   {
    "duration": 5,
    "start_time": "2021-12-08T12:47:21.327Z"
   },
   {
    "duration": 55,
    "start_time": "2021-12-08T12:47:31.916Z"
   },
   {
    "duration": 11,
    "start_time": "2021-12-08T12:47:31.973Z"
   },
   {
    "duration": 11,
    "start_time": "2021-12-08T12:47:31.987Z"
   },
   {
    "duration": 6,
    "start_time": "2021-12-08T12:47:31.999Z"
   },
   {
    "duration": 6,
    "start_time": "2021-12-08T12:47:32.006Z"
   },
   {
    "duration": 7,
    "start_time": "2021-12-08T12:47:32.014Z"
   },
   {
    "duration": 9,
    "start_time": "2021-12-08T12:47:32.023Z"
   },
   {
    "duration": 5,
    "start_time": "2021-12-08T12:47:32.035Z"
   },
   {
    "duration": 6,
    "start_time": "2021-12-08T12:47:32.042Z"
   },
   {
    "duration": 41,
    "start_time": "2021-12-08T12:47:32.050Z"
   },
   {
    "duration": 7,
    "start_time": "2021-12-08T12:47:32.093Z"
   },
   {
    "duration": 5,
    "start_time": "2021-12-08T12:47:32.101Z"
   },
   {
    "duration": 7,
    "start_time": "2021-12-08T12:47:32.108Z"
   },
   {
    "duration": 15,
    "start_time": "2021-12-08T12:47:32.117Z"
   },
   {
    "duration": 12,
    "start_time": "2021-12-08T12:47:32.133Z"
   },
   {
    "duration": 7,
    "start_time": "2021-12-08T12:47:32.148Z"
   },
   {
    "duration": 35,
    "start_time": "2021-12-08T12:47:32.157Z"
   },
   {
    "duration": 9,
    "start_time": "2021-12-08T12:47:32.194Z"
   },
   {
    "duration": 5,
    "start_time": "2021-12-08T12:47:32.204Z"
   },
   {
    "duration": 10,
    "start_time": "2021-12-08T12:47:32.211Z"
   },
   {
    "duration": 11,
    "start_time": "2021-12-08T12:47:32.222Z"
   },
   {
    "duration": 11,
    "start_time": "2021-12-08T12:47:32.235Z"
   },
   {
    "duration": 9,
    "start_time": "2021-12-08T12:47:32.247Z"
   },
   {
    "duration": 31,
    "start_time": "2021-12-08T12:47:32.257Z"
   },
   {
    "duration": 7,
    "start_time": "2021-12-08T12:47:32.290Z"
   },
   {
    "duration": 13,
    "start_time": "2021-12-08T12:47:32.298Z"
   },
   {
    "duration": 23,
    "start_time": "2021-12-08T12:47:32.312Z"
   },
   {
    "duration": 51,
    "start_time": "2021-12-08T12:47:32.337Z"
   },
   {
    "duration": 9,
    "start_time": "2021-12-08T12:47:32.389Z"
   },
   {
    "duration": 12,
    "start_time": "2021-12-08T12:47:32.399Z"
   },
   {
    "duration": 684,
    "start_time": "2021-12-08T12:47:32.412Z"
   },
   {
    "duration": 362,
    "start_time": "2021-12-08T13:04:06.628Z"
   },
   {
    "duration": 282,
    "start_time": "2021-12-08T13:04:32.869Z"
   },
   {
    "duration": 231,
    "start_time": "2021-12-08T13:04:39.066Z"
   },
   {
    "duration": 345,
    "start_time": "2021-12-08T13:04:55.706Z"
   },
   {
    "duration": 7,
    "start_time": "2021-12-08T13:05:25.406Z"
   },
   {
    "duration": 248,
    "start_time": "2021-12-08T13:07:43.040Z"
   },
   {
    "duration": 313,
    "start_time": "2021-12-08T13:08:31.929Z"
   },
   {
    "duration": 886,
    "start_time": "2021-12-08T13:08:50.964Z"
   },
   {
    "duration": 57,
    "start_time": "2021-12-08T13:09:01.520Z"
   },
   {
    "duration": 11,
    "start_time": "2021-12-08T13:09:01.579Z"
   },
   {
    "duration": 17,
    "start_time": "2021-12-08T13:09:01.593Z"
   },
   {
    "duration": 20,
    "start_time": "2021-12-08T13:09:01.612Z"
   },
   {
    "duration": 13,
    "start_time": "2021-12-08T13:09:01.633Z"
   },
   {
    "duration": 14,
    "start_time": "2021-12-08T13:09:01.648Z"
   },
   {
    "duration": 19,
    "start_time": "2021-12-08T13:09:01.664Z"
   },
   {
    "duration": 11,
    "start_time": "2021-12-08T13:09:01.685Z"
   },
   {
    "duration": 10,
    "start_time": "2021-12-08T13:09:01.698Z"
   },
   {
    "duration": 25,
    "start_time": "2021-12-08T13:09:01.709Z"
   },
   {
    "duration": 19,
    "start_time": "2021-12-08T13:09:01.736Z"
   },
   {
    "duration": 22,
    "start_time": "2021-12-08T13:09:01.756Z"
   },
   {
    "duration": 40,
    "start_time": "2021-12-08T13:09:01.780Z"
   },
   {
    "duration": 30,
    "start_time": "2021-12-08T13:09:01.822Z"
   },
   {
    "duration": 12,
    "start_time": "2021-12-08T13:09:01.853Z"
   },
   {
    "duration": 12,
    "start_time": "2021-12-08T13:09:01.867Z"
   },
   {
    "duration": 16,
    "start_time": "2021-12-08T13:09:01.881Z"
   },
   {
    "duration": 19,
    "start_time": "2021-12-08T13:09:01.898Z"
   },
   {
    "duration": 8,
    "start_time": "2021-12-08T13:09:01.918Z"
   },
   {
    "duration": 7,
    "start_time": "2021-12-08T13:09:01.927Z"
   },
   {
    "duration": 11,
    "start_time": "2021-12-08T13:09:01.935Z"
   },
   {
    "duration": 14,
    "start_time": "2021-12-08T13:09:01.947Z"
   },
   {
    "duration": 8,
    "start_time": "2021-12-08T13:09:01.962Z"
   },
   {
    "duration": 7,
    "start_time": "2021-12-08T13:09:01.972Z"
   },
   {
    "duration": 8,
    "start_time": "2021-12-08T13:09:01.981Z"
   },
   {
    "duration": 13,
    "start_time": "2021-12-08T13:09:01.991Z"
   },
   {
    "duration": 17,
    "start_time": "2021-12-08T13:09:02.005Z"
   },
   {
    "duration": 39,
    "start_time": "2021-12-08T13:09:02.024Z"
   },
   {
    "duration": 7,
    "start_time": "2021-12-08T13:09:02.065Z"
   },
   {
    "duration": 26,
    "start_time": "2021-12-08T13:09:02.073Z"
   },
   {
    "duration": 264,
    "start_time": "2021-12-08T13:09:02.100Z"
   },
   {
    "duration": 878,
    "start_time": "2021-12-08T13:14:23.480Z"
   },
   {
    "duration": 650,
    "start_time": "2021-12-08T13:14:48.990Z"
   },
   {
    "duration": 618,
    "start_time": "2021-12-08T13:15:11.952Z"
   },
   {
    "duration": 359,
    "start_time": "2021-12-08T13:15:19.854Z"
   },
   {
    "duration": 850,
    "start_time": "2021-12-08T13:15:25.102Z"
   },
   {
    "duration": 872,
    "start_time": "2021-12-08T13:18:16.032Z"
   },
   {
    "duration": 551,
    "start_time": "2021-12-08T13:53:06.167Z"
   },
   {
    "duration": 615,
    "start_time": "2021-12-08T13:53:33.182Z"
   },
   {
    "duration": 5,
    "start_time": "2021-12-08T14:41:05.024Z"
   },
   {
    "duration": 4,
    "start_time": "2021-12-08T14:42:04.161Z"
   },
   {
    "duration": 5,
    "start_time": "2021-12-08T14:43:30.222Z"
   },
   {
    "duration": 12,
    "start_time": "2021-12-08T14:51:40.076Z"
   },
   {
    "duration": 13,
    "start_time": "2021-12-08T14:52:41.768Z"
   },
   {
    "duration": 12,
    "start_time": "2021-12-08T14:53:16.399Z"
   },
   {
    "duration": 12,
    "start_time": "2021-12-08T14:53:51.930Z"
   },
   {
    "duration": 11,
    "start_time": "2021-12-08T14:53:56.168Z"
   },
   {
    "duration": 13,
    "start_time": "2021-12-08T14:54:08.360Z"
   },
   {
    "duration": 284,
    "start_time": "2021-12-08T14:55:16.816Z"
   },
   {
    "duration": 13,
    "start_time": "2021-12-08T14:55:25.458Z"
   },
   {
    "duration": 10,
    "start_time": "2021-12-08T14:55:49.273Z"
   },
   {
    "duration": 5,
    "start_time": "2021-12-08T14:56:21.815Z"
   },
   {
    "duration": 6,
    "start_time": "2021-12-08T14:56:33.529Z"
   },
   {
    "duration": 5,
    "start_time": "2021-12-08T14:56:43.411Z"
   },
   {
    "duration": 11,
    "start_time": "2021-12-08T15:00:22.684Z"
   },
   {
    "duration": 14,
    "start_time": "2021-12-08T15:27:49.597Z"
   },
   {
    "duration": 4,
    "start_time": "2021-12-08T16:28:36.554Z"
   },
   {
    "duration": 3,
    "start_time": "2021-12-08T16:28:42.918Z"
   },
   {
    "duration": 9,
    "start_time": "2021-12-08T16:28:56.680Z"
   },
   {
    "duration": 10,
    "start_time": "2021-12-08T16:34:36.864Z"
   },
   {
    "duration": 11,
    "start_time": "2021-12-08T16:35:29.376Z"
   },
   {
    "duration": 254,
    "start_time": "2021-12-08T16:37:23.648Z"
   },
   {
    "duration": 7,
    "start_time": "2021-12-08T16:37:39.373Z"
   },
   {
    "duration": 6,
    "start_time": "2021-12-08T16:37:56.828Z"
   },
   {
    "duration": 8,
    "start_time": "2021-12-08T16:39:01.599Z"
   },
   {
    "duration": 11,
    "start_time": "2021-12-08T16:43:19.592Z"
   },
   {
    "duration": 371,
    "start_time": "2021-12-08T17:02:37.571Z"
   },
   {
    "duration": 284,
    "start_time": "2021-12-08T17:04:05.051Z"
   },
   {
    "duration": 291,
    "start_time": "2021-12-08T17:04:35.189Z"
   },
   {
    "duration": 251,
    "start_time": "2021-12-08T17:11:50.151Z"
   },
   {
    "duration": 241,
    "start_time": "2021-12-08T17:15:36.603Z"
   },
   {
    "duration": 251,
    "start_time": "2021-12-08T17:20:02.891Z"
   },
   {
    "duration": 241,
    "start_time": "2021-12-08T17:20:21.224Z"
   },
   {
    "duration": 19,
    "start_time": "2021-12-08T17:20:27.269Z"
   },
   {
    "duration": 17,
    "start_time": "2021-12-08T17:21:22.339Z"
   },
   {
    "duration": 19,
    "start_time": "2021-12-08T17:21:48.063Z"
   },
   {
    "duration": 17,
    "start_time": "2021-12-08T17:22:41.433Z"
   },
   {
    "duration": 283,
    "start_time": "2021-12-08T17:23:01.305Z"
   },
   {
    "duration": 255,
    "start_time": "2021-12-08T17:23:37.296Z"
   },
   {
    "duration": 248,
    "start_time": "2021-12-08T17:24:52.182Z"
   },
   {
    "duration": 253,
    "start_time": "2021-12-08T17:24:57.241Z"
   },
   {
    "duration": 18,
    "start_time": "2021-12-08T17:25:21.506Z"
   },
   {
    "duration": 19,
    "start_time": "2021-12-08T17:25:36.949Z"
   },
   {
    "duration": 18,
    "start_time": "2021-12-08T17:27:00.630Z"
   },
   {
    "duration": 18,
    "start_time": "2021-12-08T17:27:43.315Z"
   },
   {
    "duration": 20,
    "start_time": "2021-12-08T17:29:01.126Z"
   },
   {
    "duration": 17,
    "start_time": "2021-12-08T17:35:54.895Z"
   },
   {
    "duration": 19,
    "start_time": "2021-12-08T17:36:00.012Z"
   },
   {
    "duration": 42,
    "start_time": "2021-12-08T17:42:40.124Z"
   },
   {
    "duration": 20,
    "start_time": "2021-12-08T17:45:36.991Z"
   },
   {
    "duration": 19,
    "start_time": "2021-12-08T17:45:47.715Z"
   },
   {
    "duration": 40,
    "start_time": "2021-12-08T17:45:59.712Z"
   },
   {
    "duration": 17,
    "start_time": "2021-12-08T17:46:46.897Z"
   },
   {
    "duration": 17,
    "start_time": "2021-12-08T17:48:01.118Z"
   },
   {
    "duration": 52,
    "start_time": "2021-12-08T17:57:44.789Z"
   },
   {
    "duration": 11,
    "start_time": "2021-12-08T17:57:44.842Z"
   },
   {
    "duration": 7,
    "start_time": "2021-12-08T17:57:44.855Z"
   },
   {
    "duration": 4,
    "start_time": "2021-12-08T17:57:44.863Z"
   },
   {
    "duration": 8,
    "start_time": "2021-12-08T17:57:44.868Z"
   },
   {
    "duration": 14,
    "start_time": "2021-12-08T17:57:44.878Z"
   },
   {
    "duration": 8,
    "start_time": "2021-12-08T17:57:44.893Z"
   },
   {
    "duration": 5,
    "start_time": "2021-12-08T17:57:44.903Z"
   },
   {
    "duration": 10,
    "start_time": "2021-12-08T17:57:44.910Z"
   },
   {
    "duration": 8,
    "start_time": "2021-12-08T17:57:44.922Z"
   },
   {
    "duration": 6,
    "start_time": "2021-12-08T17:57:44.931Z"
   },
   {
    "duration": 3,
    "start_time": "2021-12-08T17:57:44.939Z"
   },
   {
    "duration": 7,
    "start_time": "2021-12-08T17:57:44.944Z"
   },
   {
    "duration": 44,
    "start_time": "2021-12-08T17:57:44.952Z"
   },
   {
    "duration": 12,
    "start_time": "2021-12-08T17:57:44.998Z"
   },
   {
    "duration": 15,
    "start_time": "2021-12-08T17:57:45.013Z"
   },
   {
    "duration": 8,
    "start_time": "2021-12-08T17:57:45.030Z"
   },
   {
    "duration": 10,
    "start_time": "2021-12-08T17:57:45.040Z"
   },
   {
    "duration": 17,
    "start_time": "2021-12-08T17:57:45.051Z"
   },
   {
    "duration": 19,
    "start_time": "2021-12-08T17:57:45.070Z"
   },
   {
    "duration": 9,
    "start_time": "2021-12-08T17:57:45.090Z"
   },
   {
    "duration": 10,
    "start_time": "2021-12-08T17:57:45.101Z"
   },
   {
    "duration": 7,
    "start_time": "2021-12-08T17:57:45.113Z"
   },
   {
    "duration": 7,
    "start_time": "2021-12-08T17:57:45.122Z"
   },
   {
    "duration": 7,
    "start_time": "2021-12-08T17:57:45.131Z"
   },
   {
    "duration": 5,
    "start_time": "2021-12-08T17:57:45.139Z"
   },
   {
    "duration": 13,
    "start_time": "2021-12-08T17:57:45.145Z"
   },
   {
    "duration": 37,
    "start_time": "2021-12-08T17:57:45.187Z"
   },
   {
    "duration": 8,
    "start_time": "2021-12-08T17:57:45.225Z"
   },
   {
    "duration": 14,
    "start_time": "2021-12-08T17:57:45.235Z"
   },
   {
    "duration": 637,
    "start_time": "2021-12-08T17:57:45.253Z"
   },
   {
    "duration": 5,
    "start_time": "2021-12-08T17:57:45.892Z"
   },
   {
    "duration": 15,
    "start_time": "2021-12-08T17:57:45.899Z"
   },
   {
    "duration": 22,
    "start_time": "2021-12-08T17:57:45.915Z"
   },
   {
    "duration": 18,
    "start_time": "2021-12-08T17:57:45.938Z"
   },
   {
    "duration": 65,
    "start_time": "2021-12-08T17:57:45.957Z"
   },
   {
    "duration": 17,
    "start_time": "2021-12-08T17:57:46.024Z"
   },
   {
    "duration": 128,
    "start_time": "2021-12-09T13:43:16.408Z"
   },
   {
    "duration": 455,
    "start_time": "2021-12-09T14:40:04.331Z"
   },
   {
    "duration": 710,
    "start_time": "2021-12-09T14:40:13.787Z"
   },
   {
    "duration": 17,
    "start_time": "2021-12-09T14:40:14.499Z"
   },
   {
    "duration": 7,
    "start_time": "2021-12-09T14:40:14.518Z"
   },
   {
    "duration": 5,
    "start_time": "2021-12-09T14:40:14.526Z"
   },
   {
    "duration": 6,
    "start_time": "2021-12-09T14:40:14.532Z"
   },
   {
    "duration": 6,
    "start_time": "2021-12-09T14:40:14.539Z"
   },
   {
    "duration": 7,
    "start_time": "2021-12-09T14:40:14.547Z"
   },
   {
    "duration": 33,
    "start_time": "2021-12-09T14:40:14.556Z"
   },
   {
    "duration": 7,
    "start_time": "2021-12-09T14:40:14.591Z"
   },
   {
    "duration": 7,
    "start_time": "2021-12-09T14:40:14.601Z"
   },
   {
    "duration": 7,
    "start_time": "2021-12-09T14:40:14.610Z"
   },
   {
    "duration": 5,
    "start_time": "2021-12-09T14:40:14.619Z"
   },
   {
    "duration": 12,
    "start_time": "2021-12-09T14:40:14.626Z"
   },
   {
    "duration": 51,
    "start_time": "2021-12-09T14:40:14.640Z"
   },
   {
    "duration": 12,
    "start_time": "2021-12-09T14:40:14.692Z"
   },
   {
    "duration": 4,
    "start_time": "2021-12-09T14:40:14.706Z"
   },
   {
    "duration": 10,
    "start_time": "2021-12-09T14:40:14.711Z"
   },
   {
    "duration": 13,
    "start_time": "2021-12-09T14:40:14.722Z"
   },
   {
    "duration": 10,
    "start_time": "2021-12-09T14:40:14.737Z"
   },
   {
    "duration": 6,
    "start_time": "2021-12-09T14:40:14.748Z"
   },
   {
    "duration": 12,
    "start_time": "2021-12-09T14:40:14.755Z"
   },
   {
    "duration": 10,
    "start_time": "2021-12-09T14:40:14.787Z"
   },
   {
    "duration": 6,
    "start_time": "2021-12-09T14:40:14.798Z"
   },
   {
    "duration": 5,
    "start_time": "2021-12-09T14:40:14.806Z"
   },
   {
    "duration": 7,
    "start_time": "2021-12-09T14:40:14.813Z"
   },
   {
    "duration": 5,
    "start_time": "2021-12-09T14:40:14.821Z"
   },
   {
    "duration": 10,
    "start_time": "2021-12-09T14:40:14.829Z"
   },
   {
    "duration": 67,
    "start_time": "2021-12-09T14:40:14.841Z"
   },
   {
    "duration": 7,
    "start_time": "2021-12-09T14:40:14.910Z"
   },
   {
    "duration": 11,
    "start_time": "2021-12-09T14:40:14.918Z"
   },
   {
    "duration": 731,
    "start_time": "2021-12-09T14:40:14.931Z"
   },
   {
    "duration": 566,
    "start_time": "2021-12-09T14:40:15.664Z"
   },
   {
    "duration": 13,
    "start_time": "2021-12-09T14:40:16.232Z"
   },
   {
    "duration": 24,
    "start_time": "2021-12-09T14:40:16.246Z"
   },
   {
    "duration": 17,
    "start_time": "2021-12-09T14:40:16.288Z"
   },
   {
    "duration": 40,
    "start_time": "2021-12-09T14:40:16.306Z"
   },
   {
    "duration": 17,
    "start_time": "2021-12-09T14:40:16.347Z"
   },
   {
    "duration": 4,
    "start_time": "2021-12-09T14:40:40.699Z"
   },
   {
    "duration": 310,
    "start_time": "2021-12-09T19:05:10.075Z"
   },
   {
    "duration": 235,
    "start_time": "2021-12-09T19:05:21.239Z"
   },
   {
    "duration": 7,
    "start_time": "2021-12-09T19:06:06.359Z"
   },
   {
    "duration": 10,
    "start_time": "2021-12-09T19:06:45.704Z"
   },
   {
    "duration": 9,
    "start_time": "2021-12-09T19:11:09.847Z"
   },
   {
    "duration": 9,
    "start_time": "2021-12-09T19:11:36.433Z"
   },
   {
    "duration": 7,
    "start_time": "2021-12-09T19:20:27.805Z"
   },
   {
    "duration": 7,
    "start_time": "2021-12-09T19:20:36.556Z"
   },
   {
    "duration": 325,
    "start_time": "2021-12-09T19:29:54.970Z"
   },
   {
    "duration": 324,
    "start_time": "2021-12-09T19:30:10.109Z"
   },
   {
    "duration": 57,
    "start_time": "2021-12-09T19:30:25.520Z"
   },
   {
    "duration": 11,
    "start_time": "2021-12-09T19:30:25.579Z"
   },
   {
    "duration": 6,
    "start_time": "2021-12-09T19:30:25.592Z"
   },
   {
    "duration": 4,
    "start_time": "2021-12-09T19:30:25.600Z"
   },
   {
    "duration": 7,
    "start_time": "2021-12-09T19:30:25.605Z"
   },
   {
    "duration": 8,
    "start_time": "2021-12-09T19:30:25.613Z"
   },
   {
    "duration": 17,
    "start_time": "2021-12-09T19:30:25.622Z"
   },
   {
    "duration": 6,
    "start_time": "2021-12-09T19:30:25.641Z"
   },
   {
    "duration": 7,
    "start_time": "2021-12-09T19:30:25.648Z"
   },
   {
    "duration": 31,
    "start_time": "2021-12-09T19:30:25.657Z"
   },
   {
    "duration": 5,
    "start_time": "2021-12-09T19:30:25.689Z"
   },
   {
    "duration": 3,
    "start_time": "2021-12-09T19:30:25.695Z"
   },
   {
    "duration": 7,
    "start_time": "2021-12-09T19:30:25.700Z"
   },
   {
    "duration": 14,
    "start_time": "2021-12-09T19:30:25.708Z"
   },
   {
    "duration": 11,
    "start_time": "2021-12-09T19:30:25.723Z"
   },
   {
    "duration": 3,
    "start_time": "2021-12-09T19:30:25.735Z"
   },
   {
    "duration": 7,
    "start_time": "2021-12-09T19:30:25.739Z"
   },
   {
    "duration": 41,
    "start_time": "2021-12-09T19:30:25.747Z"
   },
   {
    "duration": 4,
    "start_time": "2021-12-09T19:30:25.790Z"
   },
   {
    "duration": 373,
    "start_time": "2021-12-09T19:30:25.795Z"
   },
   {
    "duration": 8,
    "start_time": "2021-12-09T19:30:26.170Z"
   },
   {
    "duration": 11,
    "start_time": "2021-12-09T19:30:26.187Z"
   },
   {
    "duration": 5,
    "start_time": "2021-12-09T19:30:26.200Z"
   },
   {
    "duration": 6,
    "start_time": "2021-12-09T19:30:26.207Z"
   },
   {
    "duration": 7,
    "start_time": "2021-12-09T19:30:26.214Z"
   },
   {
    "duration": 5,
    "start_time": "2021-12-09T19:30:26.222Z"
   },
   {
    "duration": 11,
    "start_time": "2021-12-09T19:30:26.228Z"
   },
   {
    "duration": 66,
    "start_time": "2021-12-09T19:30:26.240Z"
   },
   {
    "duration": 7,
    "start_time": "2021-12-09T19:30:26.307Z"
   },
   {
    "duration": 16,
    "start_time": "2021-12-09T19:30:26.316Z"
   },
   {
    "duration": 649,
    "start_time": "2021-12-09T19:30:26.334Z"
   },
   {
    "duration": 5,
    "start_time": "2021-12-09T19:30:26.988Z"
   },
   {
    "duration": 16,
    "start_time": "2021-12-09T19:30:26.994Z"
   },
   {
    "duration": 22,
    "start_time": "2021-12-09T19:30:27.012Z"
   },
   {
    "duration": 19,
    "start_time": "2021-12-09T19:30:27.036Z"
   },
   {
    "duration": 70,
    "start_time": "2021-12-09T19:30:27.056Z"
   },
   {
    "duration": 16,
    "start_time": "2021-12-09T19:30:27.127Z"
   },
   {
    "duration": 6,
    "start_time": "2021-12-09T19:31:09.840Z"
   },
   {
    "duration": 52,
    "start_time": "2021-12-09T19:31:14.942Z"
   },
   {
    "duration": 11,
    "start_time": "2021-12-09T19:31:14.995Z"
   },
   {
    "duration": 14,
    "start_time": "2021-12-09T19:31:15.008Z"
   },
   {
    "duration": 8,
    "start_time": "2021-12-09T19:31:15.023Z"
   },
   {
    "duration": 8,
    "start_time": "2021-12-09T19:31:15.032Z"
   },
   {
    "duration": 6,
    "start_time": "2021-12-09T19:31:15.041Z"
   },
   {
    "duration": 7,
    "start_time": "2021-12-09T19:31:15.049Z"
   },
   {
    "duration": 33,
    "start_time": "2021-12-09T19:31:15.058Z"
   },
   {
    "duration": 7,
    "start_time": "2021-12-09T19:31:15.093Z"
   },
   {
    "duration": 6,
    "start_time": "2021-12-09T19:31:15.101Z"
   },
   {
    "duration": 5,
    "start_time": "2021-12-09T19:31:15.109Z"
   },
   {
    "duration": 5,
    "start_time": "2021-12-09T19:31:15.115Z"
   },
   {
    "duration": 7,
    "start_time": "2021-12-09T19:31:15.121Z"
   },
   {
    "duration": 14,
    "start_time": "2021-12-09T19:31:15.130Z"
   },
   {
    "duration": 10,
    "start_time": "2021-12-09T19:31:15.145Z"
   },
   {
    "duration": 32,
    "start_time": "2021-12-09T19:31:15.156Z"
   },
   {
    "duration": 7,
    "start_time": "2021-12-09T19:31:15.190Z"
   },
   {
    "duration": 9,
    "start_time": "2021-12-09T19:31:15.198Z"
   },
   {
    "duration": 5,
    "start_time": "2021-12-09T19:31:15.208Z"
   },
   {
    "duration": 5,
    "start_time": "2021-12-09T19:31:15.214Z"
   },
   {
    "duration": 8,
    "start_time": "2021-12-09T19:31:15.220Z"
   },
   {
    "duration": 10,
    "start_time": "2021-12-09T19:31:15.229Z"
   },
   {
    "duration": 4,
    "start_time": "2021-12-09T19:31:15.242Z"
   },
   {
    "duration": 41,
    "start_time": "2021-12-09T19:31:15.248Z"
   },
   {
    "duration": 7,
    "start_time": "2021-12-09T19:31:15.290Z"
   },
   {
    "duration": 253,
    "start_time": "2021-12-09T19:31:15.298Z"
   },
   {
    "duration": -44,
    "start_time": "2021-12-09T19:31:15.597Z"
   },
   {
    "duration": -51,
    "start_time": "2021-12-09T19:31:15.605Z"
   },
   {
    "duration": -56,
    "start_time": "2021-12-09T19:31:15.611Z"
   },
   {
    "duration": -61,
    "start_time": "2021-12-09T19:31:15.617Z"
   },
   {
    "duration": -65,
    "start_time": "2021-12-09T19:31:15.621Z"
   },
   {
    "duration": -70,
    "start_time": "2021-12-09T19:31:15.627Z"
   },
   {
    "duration": -73,
    "start_time": "2021-12-09T19:31:15.631Z"
   },
   {
    "duration": -78,
    "start_time": "2021-12-09T19:31:15.637Z"
   },
   {
    "duration": -81,
    "start_time": "2021-12-09T19:31:15.641Z"
   },
   {
    "duration": -86,
    "start_time": "2021-12-09T19:31:15.647Z"
   },
   {
    "duration": -90,
    "start_time": "2021-12-09T19:31:15.652Z"
   },
   {
    "duration": 360,
    "start_time": "2021-12-09T19:31:43.427Z"
   },
   {
    "duration": 54,
    "start_time": "2021-12-09T19:31:46.496Z"
   },
   {
    "duration": 11,
    "start_time": "2021-12-09T19:31:46.551Z"
   },
   {
    "duration": 6,
    "start_time": "2021-12-09T19:31:46.564Z"
   },
   {
    "duration": 5,
    "start_time": "2021-12-09T19:31:46.571Z"
   },
   {
    "duration": 7,
    "start_time": "2021-12-09T19:31:46.588Z"
   },
   {
    "duration": 8,
    "start_time": "2021-12-09T19:31:46.596Z"
   },
   {
    "duration": 10,
    "start_time": "2021-12-09T19:31:46.605Z"
   },
   {
    "duration": 8,
    "start_time": "2021-12-09T19:31:46.617Z"
   },
   {
    "duration": 6,
    "start_time": "2021-12-09T19:31:46.627Z"
   },
   {
    "duration": 7,
    "start_time": "2021-12-09T19:31:46.634Z"
   },
   {
    "duration": 45,
    "start_time": "2021-12-09T19:31:46.643Z"
   },
   {
    "duration": 3,
    "start_time": "2021-12-09T19:31:46.690Z"
   },
   {
    "duration": 9,
    "start_time": "2021-12-09T19:31:46.695Z"
   },
   {
    "duration": 14,
    "start_time": "2021-12-09T19:31:46.706Z"
   },
   {
    "duration": 11,
    "start_time": "2021-12-09T19:31:46.721Z"
   },
   {
    "duration": 3,
    "start_time": "2021-12-09T19:31:46.733Z"
   },
   {
    "duration": 7,
    "start_time": "2021-12-09T19:31:46.737Z"
   },
   {
    "duration": 9,
    "start_time": "2021-12-09T19:31:46.745Z"
   },
   {
    "duration": 4,
    "start_time": "2021-12-09T19:31:46.756Z"
   },
   {
    "duration": 389,
    "start_time": "2021-12-09T19:31:46.761Z"
   },
   {
    "duration": 10,
    "start_time": "2021-12-09T19:31:47.151Z"
   },
   {
    "duration": 9,
    "start_time": "2021-12-09T19:31:47.163Z"
   },
   {
    "duration": 5,
    "start_time": "2021-12-09T19:31:47.189Z"
   },
   {
    "duration": 7,
    "start_time": "2021-12-09T19:31:47.196Z"
   },
   {
    "duration": 7,
    "start_time": "2021-12-09T19:31:47.204Z"
   },
   {
    "duration": 5,
    "start_time": "2021-12-09T19:31:47.212Z"
   },
   {
    "duration": 10,
    "start_time": "2021-12-09T19:31:47.218Z"
   },
   {
    "duration": 66,
    "start_time": "2021-12-09T19:31:47.229Z"
   },
   {
    "duration": 7,
    "start_time": "2021-12-09T19:31:47.297Z"
   },
   {
    "duration": 10,
    "start_time": "2021-12-09T19:31:47.306Z"
   },
   {
    "duration": 652,
    "start_time": "2021-12-09T19:31:47.318Z"
   },
   {
    "duration": 5,
    "start_time": "2021-12-09T19:31:47.971Z"
   },
   {
    "duration": 24,
    "start_time": "2021-12-09T19:31:47.977Z"
   },
   {
    "duration": 22,
    "start_time": "2021-12-09T19:31:48.002Z"
   },
   {
    "duration": 18,
    "start_time": "2021-12-09T19:31:48.025Z"
   },
   {
    "duration": 61,
    "start_time": "2021-12-09T19:31:48.044Z"
   },
   {
    "duration": 17,
    "start_time": "2021-12-09T19:31:48.107Z"
   },
   {
    "duration": 230,
    "start_time": "2021-12-09T19:34:43.670Z"
   },
   {
    "duration": 241,
    "start_time": "2021-12-09T19:35:13.960Z"
   },
   {
    "duration": 242,
    "start_time": "2021-12-09T19:35:34.523Z"
   },
   {
    "duration": 6,
    "start_time": "2021-12-09T19:35:46.744Z"
   },
   {
    "duration": 6,
    "start_time": "2021-12-09T19:35:50.010Z"
   },
   {
    "duration": 85,
    "start_time": "2021-12-09T19:35:59.731Z"
   },
   {
    "duration": 6,
    "start_time": "2021-12-09T19:36:13.553Z"
   },
   {
    "duration": 6,
    "start_time": "2021-12-09T19:36:45.415Z"
   },
   {
    "duration": 7,
    "start_time": "2021-12-09T19:38:40.405Z"
   },
   {
    "duration": 7,
    "start_time": "2021-12-09T19:38:51.274Z"
   },
   {
    "duration": 341,
    "start_time": "2021-12-09T19:39:10.881Z"
   },
   {
    "duration": 327,
    "start_time": "2021-12-09T19:43:29.608Z"
   },
   {
    "duration": 53,
    "start_time": "2021-12-09T19:45:51.323Z"
   },
   {
    "duration": 13,
    "start_time": "2021-12-09T19:45:51.377Z"
   },
   {
    "duration": 7,
    "start_time": "2021-12-09T19:45:51.392Z"
   },
   {
    "duration": 4,
    "start_time": "2021-12-09T19:45:51.401Z"
   },
   {
    "duration": 7,
    "start_time": "2021-12-09T19:45:51.407Z"
   },
   {
    "duration": 8,
    "start_time": "2021-12-09T19:45:51.415Z"
   },
   {
    "duration": 8,
    "start_time": "2021-12-09T19:45:51.424Z"
   },
   {
    "duration": 5,
    "start_time": "2021-12-09T19:45:51.435Z"
   },
   {
    "duration": 48,
    "start_time": "2021-12-09T19:45:51.443Z"
   },
   {
    "duration": 9,
    "start_time": "2021-12-09T19:45:51.492Z"
   },
   {
    "duration": 6,
    "start_time": "2021-12-09T19:45:51.502Z"
   },
   {
    "duration": 6,
    "start_time": "2021-12-09T19:45:51.509Z"
   },
   {
    "duration": 6,
    "start_time": "2021-12-09T19:45:51.516Z"
   },
   {
    "duration": 15,
    "start_time": "2021-12-09T19:45:51.523Z"
   },
   {
    "duration": 10,
    "start_time": "2021-12-09T19:45:51.539Z"
   },
   {
    "duration": 37,
    "start_time": "2021-12-09T19:45:51.551Z"
   },
   {
    "duration": 6,
    "start_time": "2021-12-09T19:45:51.589Z"
   },
   {
    "duration": 13,
    "start_time": "2021-12-09T19:45:51.597Z"
   },
   {
    "duration": 4,
    "start_time": "2021-12-09T19:45:51.612Z"
   },
   {
    "duration": 8,
    "start_time": "2021-12-09T19:45:51.618Z"
   },
   {
    "duration": 382,
    "start_time": "2021-12-09T19:45:51.627Z"
   },
   {
    "duration": 9,
    "start_time": "2021-12-09T19:45:52.011Z"
   },
   {
    "duration": 10,
    "start_time": "2021-12-09T19:45:52.023Z"
   },
   {
    "duration": 5,
    "start_time": "2021-12-09T19:45:52.035Z"
   },
   {
    "duration": 4,
    "start_time": "2021-12-09T19:45:52.042Z"
   },
   {
    "duration": 7,
    "start_time": "2021-12-09T19:45:52.048Z"
   },
   {
    "duration": 31,
    "start_time": "2021-12-09T19:45:52.057Z"
   },
   {
    "duration": 9,
    "start_time": "2021-12-09T19:45:52.089Z"
   },
   {
    "duration": 36,
    "start_time": "2021-12-09T19:45:52.100Z"
   },
   {
    "duration": 7,
    "start_time": "2021-12-09T19:45:52.137Z"
   },
   {
    "duration": 10,
    "start_time": "2021-12-09T19:45:52.146Z"
   },
   {
    "duration": 668,
    "start_time": "2021-12-09T19:45:52.158Z"
   },
   {
    "duration": 5,
    "start_time": "2021-12-09T19:45:52.828Z"
   },
   {
    "duration": 16,
    "start_time": "2021-12-09T19:45:52.835Z"
   },
   {
    "duration": 42,
    "start_time": "2021-12-09T19:45:52.853Z"
   },
   {
    "duration": 18,
    "start_time": "2021-12-09T19:45:52.897Z"
   },
   {
    "duration": 42,
    "start_time": "2021-12-09T19:45:52.916Z"
   },
   {
    "duration": 38,
    "start_time": "2021-12-09T19:45:52.960Z"
   },
   {
    "duration": 22,
    "start_time": "2021-12-09T19:46:26.506Z"
   },
   {
    "duration": 81,
    "start_time": "2021-12-09T19:46:51.523Z"
   },
   {
    "duration": 209,
    "start_time": "2021-12-10T06:59:18.544Z"
   },
   {
    "duration": 632,
    "start_time": "2021-12-10T06:59:24.395Z"
   },
   {
    "duration": 19,
    "start_time": "2021-12-10T06:59:25.029Z"
   },
   {
    "duration": 7,
    "start_time": "2021-12-10T06:59:25.050Z"
   },
   {
    "duration": 6,
    "start_time": "2021-12-10T06:59:25.058Z"
   },
   {
    "duration": 28,
    "start_time": "2021-12-10T06:59:25.066Z"
   },
   {
    "duration": 7,
    "start_time": "2021-12-10T06:59:25.095Z"
   },
   {
    "duration": 8,
    "start_time": "2021-12-10T06:59:25.104Z"
   },
   {
    "duration": 7,
    "start_time": "2021-12-10T06:59:25.114Z"
   },
   {
    "duration": 7,
    "start_time": "2021-12-10T06:59:25.123Z"
   },
   {
    "duration": 7,
    "start_time": "2021-12-10T06:59:25.132Z"
   },
   {
    "duration": 7,
    "start_time": "2021-12-10T06:59:25.140Z"
   },
   {
    "duration": 6,
    "start_time": "2021-12-10T06:59:25.148Z"
   },
   {
    "duration": 42,
    "start_time": "2021-12-10T06:59:25.155Z"
   },
   {
    "duration": 17,
    "start_time": "2021-12-10T06:59:25.198Z"
   },
   {
    "duration": 12,
    "start_time": "2021-12-10T06:59:25.216Z"
   },
   {
    "duration": 2,
    "start_time": "2021-12-10T06:59:25.230Z"
   },
   {
    "duration": 8,
    "start_time": "2021-12-10T06:59:25.233Z"
   },
   {
    "duration": 10,
    "start_time": "2021-12-10T06:59:25.243Z"
   },
   {
    "duration": 7,
    "start_time": "2021-12-10T06:59:25.254Z"
   },
   {
    "duration": 37,
    "start_time": "2021-12-10T06:59:25.262Z"
   },
   {
    "duration": 950,
    "start_time": "2021-12-10T06:59:25.301Z"
   },
   {
    "duration": 11,
    "start_time": "2021-12-10T06:59:26.253Z"
   },
   {
    "duration": 10,
    "start_time": "2021-12-10T06:59:26.266Z"
   },
   {
    "duration": 17,
    "start_time": "2021-12-10T06:59:26.278Z"
   },
   {
    "duration": 6,
    "start_time": "2021-12-10T06:59:26.296Z"
   },
   {
    "duration": 7,
    "start_time": "2021-12-10T06:59:26.303Z"
   },
   {
    "duration": 719,
    "start_time": "2021-12-10T06:59:26.312Z"
   },
   {
    "duration": 67,
    "start_time": "2021-12-10T06:59:26.966Z"
   },
   {
    "duration": 62,
    "start_time": "2021-12-10T06:59:26.973Z"
   },
   {
    "duration": 37,
    "start_time": "2021-12-10T06:59:26.999Z"
   },
   {
    "duration": 31,
    "start_time": "2021-12-10T06:59:27.006Z"
   },
   {
    "duration": 26,
    "start_time": "2021-12-10T06:59:27.012Z"
   },
   {
    "duration": 23,
    "start_time": "2021-12-10T06:59:27.016Z"
   },
   {
    "duration": 19,
    "start_time": "2021-12-10T06:59:27.021Z"
   },
   {
    "duration": 16,
    "start_time": "2021-12-10T06:59:27.025Z"
   },
   {
    "duration": 9,
    "start_time": "2021-12-10T06:59:27.033Z"
   },
   {
    "duration": 5,
    "start_time": "2021-12-10T06:59:27.038Z"
   },
   {
    "duration": -1,
    "start_time": "2021-12-10T06:59:27.045Z"
   },
   {
    "duration": 58,
    "start_time": "2021-12-10T06:59:50.839Z"
   },
   {
    "duration": 12,
    "start_time": "2021-12-10T06:59:50.899Z"
   },
   {
    "duration": 6,
    "start_time": "2021-12-10T06:59:50.913Z"
   },
   {
    "duration": 7,
    "start_time": "2021-12-10T06:59:50.921Z"
   },
   {
    "duration": 8,
    "start_time": "2021-12-10T06:59:50.929Z"
   },
   {
    "duration": 9,
    "start_time": "2021-12-10T06:59:50.938Z"
   },
   {
    "duration": 45,
    "start_time": "2021-12-10T06:59:50.948Z"
   },
   {
    "duration": 6,
    "start_time": "2021-12-10T06:59:50.995Z"
   },
   {
    "duration": 8,
    "start_time": "2021-12-10T06:59:51.003Z"
   },
   {
    "duration": 12,
    "start_time": "2021-12-10T06:59:51.013Z"
   },
   {
    "duration": 8,
    "start_time": "2021-12-10T06:59:51.026Z"
   },
   {
    "duration": 4,
    "start_time": "2021-12-10T06:59:51.036Z"
   },
   {
    "duration": 8,
    "start_time": "2021-12-10T06:59:51.041Z"
   },
   {
    "duration": 41,
    "start_time": "2021-12-10T06:59:51.051Z"
   },
   {
    "duration": 12,
    "start_time": "2021-12-10T06:59:51.094Z"
   },
   {
    "duration": 6,
    "start_time": "2021-12-10T06:59:51.108Z"
   },
   {
    "duration": 9,
    "start_time": "2021-12-10T06:59:51.115Z"
   },
   {
    "duration": 11,
    "start_time": "2021-12-10T06:59:51.126Z"
   },
   {
    "duration": 10,
    "start_time": "2021-12-10T06:59:51.138Z"
   },
   {
    "duration": 15,
    "start_time": "2021-12-10T06:59:51.150Z"
   },
   {
    "duration": 928,
    "start_time": "2021-12-10T06:59:51.167Z"
   },
   {
    "duration": 13,
    "start_time": "2021-12-10T06:59:52.097Z"
   },
   {
    "duration": 11,
    "start_time": "2021-12-10T06:59:52.114Z"
   },
   {
    "duration": 17,
    "start_time": "2021-12-10T06:59:52.127Z"
   },
   {
    "duration": 9,
    "start_time": "2021-12-10T06:59:52.145Z"
   },
   {
    "duration": 8,
    "start_time": "2021-12-10T06:59:52.155Z"
   },
   {
    "duration": 696,
    "start_time": "2021-12-10T06:59:52.165Z"
   },
   {
    "duration": 32,
    "start_time": "2021-12-10T06:59:52.831Z"
   },
   {
    "duration": 28,
    "start_time": "2021-12-10T06:59:52.836Z"
   },
   {
    "duration": 23,
    "start_time": "2021-12-10T06:59:52.842Z"
   },
   {
    "duration": 15,
    "start_time": "2021-12-10T06:59:52.850Z"
   },
   {
    "duration": 10,
    "start_time": "2021-12-10T06:59:52.856Z"
   },
   {
    "duration": 5,
    "start_time": "2021-12-10T06:59:52.862Z"
   },
   {
    "duration": -9,
    "start_time": "2021-12-10T06:59:52.877Z"
   },
   {
    "duration": -14,
    "start_time": "2021-12-10T06:59:52.883Z"
   },
   {
    "duration": -21,
    "start_time": "2021-12-10T06:59:52.891Z"
   },
   {
    "duration": -26,
    "start_time": "2021-12-10T06:59:52.897Z"
   },
   {
    "duration": -30,
    "start_time": "2021-12-10T06:59:52.902Z"
   },
   {
    "duration": 396,
    "start_time": "2021-12-10T07:02:15.992Z"
   },
   {
    "duration": 57,
    "start_time": "2021-12-10T07:02:33.995Z"
   },
   {
    "duration": 12,
    "start_time": "2021-12-10T07:02:34.054Z"
   },
   {
    "duration": 7,
    "start_time": "2021-12-10T07:02:34.068Z"
   },
   {
    "duration": 5,
    "start_time": "2021-12-10T07:02:34.092Z"
   },
   {
    "duration": 8,
    "start_time": "2021-12-10T07:02:34.098Z"
   },
   {
    "duration": 10,
    "start_time": "2021-12-10T07:02:34.107Z"
   },
   {
    "duration": 8,
    "start_time": "2021-12-10T07:02:34.118Z"
   },
   {
    "duration": 7,
    "start_time": "2021-12-10T07:02:34.128Z"
   },
   {
    "duration": 5,
    "start_time": "2021-12-10T07:02:34.137Z"
   },
   {
    "duration": 7,
    "start_time": "2021-12-10T07:02:34.144Z"
   },
   {
    "duration": 39,
    "start_time": "2021-12-10T07:02:34.153Z"
   },
   {
    "duration": 6,
    "start_time": "2021-12-10T07:02:34.194Z"
   },
   {
    "duration": 8,
    "start_time": "2021-12-10T07:02:34.202Z"
   },
   {
    "duration": 16,
    "start_time": "2021-12-10T07:02:34.212Z"
   },
   {
    "duration": 12,
    "start_time": "2021-12-10T07:02:34.229Z"
   },
   {
    "duration": 7,
    "start_time": "2021-12-10T07:02:34.242Z"
   },
   {
    "duration": 10,
    "start_time": "2021-12-10T07:02:34.251Z"
   },
   {
    "duration": 31,
    "start_time": "2021-12-10T07:02:34.263Z"
   },
   {
    "duration": 5,
    "start_time": "2021-12-10T07:02:34.295Z"
   },
   {
    "duration": 16,
    "start_time": "2021-12-10T07:02:34.301Z"
   },
   {
    "duration": 484,
    "start_time": "2021-12-10T07:02:34.318Z"
   },
   {
    "duration": 10,
    "start_time": "2021-12-10T07:02:34.803Z"
   },
   {
    "duration": 29,
    "start_time": "2021-12-10T07:02:34.815Z"
   },
   {
    "duration": 20,
    "start_time": "2021-12-10T07:02:34.846Z"
   },
   {
    "duration": 16,
    "start_time": "2021-12-10T07:02:34.868Z"
   },
   {
    "duration": 23,
    "start_time": "2021-12-10T07:02:34.885Z"
   },
   {
    "duration": 207,
    "start_time": "2021-12-10T07:02:34.910Z"
   },
   {
    "duration": 55,
    "start_time": "2021-12-10T07:02:35.064Z"
   },
   {
    "duration": 48,
    "start_time": "2021-12-10T07:02:35.071Z"
   },
   {
    "duration": 43,
    "start_time": "2021-12-10T07:02:35.077Z"
   },
   {
    "duration": 38,
    "start_time": "2021-12-10T07:02:35.083Z"
   },
   {
    "duration": 34,
    "start_time": "2021-12-10T07:02:35.088Z"
   },
   {
    "duration": 30,
    "start_time": "2021-12-10T07:02:35.093Z"
   },
   {
    "duration": 25,
    "start_time": "2021-12-10T07:02:35.099Z"
   },
   {
    "duration": 20,
    "start_time": "2021-12-10T07:02:35.105Z"
   },
   {
    "duration": 10,
    "start_time": "2021-12-10T07:02:35.116Z"
   },
   {
    "duration": 3,
    "start_time": "2021-12-10T07:02:35.123Z"
   },
   {
    "duration": -2,
    "start_time": "2021-12-10T07:02:35.129Z"
   },
   {
    "duration": 13,
    "start_time": "2021-12-10T07:04:32.859Z"
   },
   {
    "duration": 339,
    "start_time": "2021-12-10T07:04:33.725Z"
   },
   {
    "duration": 60,
    "start_time": "2021-12-10T07:05:40.061Z"
   },
   {
    "duration": 15,
    "start_time": "2021-12-10T07:05:40.123Z"
   },
   {
    "duration": 6,
    "start_time": "2021-12-10T07:05:40.140Z"
   },
   {
    "duration": 5,
    "start_time": "2021-12-10T07:05:40.148Z"
   },
   {
    "duration": 39,
    "start_time": "2021-12-10T07:05:40.155Z"
   },
   {
    "duration": 7,
    "start_time": "2021-12-10T07:05:40.196Z"
   },
   {
    "duration": 9,
    "start_time": "2021-12-10T07:05:40.204Z"
   },
   {
    "duration": 9,
    "start_time": "2021-12-10T07:05:40.216Z"
   },
   {
    "duration": 7,
    "start_time": "2021-12-10T07:05:40.227Z"
   },
   {
    "duration": 8,
    "start_time": "2021-12-10T07:05:40.236Z"
   },
   {
    "duration": 8,
    "start_time": "2021-12-10T07:05:40.245Z"
   },
   {
    "duration": 5,
    "start_time": "2021-12-10T07:05:40.292Z"
   },
   {
    "duration": 11,
    "start_time": "2021-12-10T07:05:40.298Z"
   },
   {
    "duration": 15,
    "start_time": "2021-12-10T07:05:40.310Z"
   },
   {
    "duration": 12,
    "start_time": "2021-12-10T07:05:40.326Z"
   },
   {
    "duration": 7,
    "start_time": "2021-12-10T07:05:40.339Z"
   },
   {
    "duration": 7,
    "start_time": "2021-12-10T07:05:40.347Z"
   },
   {
    "duration": 9,
    "start_time": "2021-12-10T07:05:40.356Z"
   },
   {
    "duration": 4,
    "start_time": "2021-12-10T07:05:40.391Z"
   },
   {
    "duration": 13,
    "start_time": "2021-12-10T07:05:40.397Z"
   },
   {
    "duration": 481,
    "start_time": "2021-12-10T07:05:40.412Z"
   },
   {
    "duration": 9,
    "start_time": "2021-12-10T07:05:40.895Z"
   },
   {
    "duration": 12,
    "start_time": "2021-12-10T07:05:40.907Z"
   },
   {
    "duration": 7,
    "start_time": "2021-12-10T07:05:40.921Z"
   },
   {
    "duration": 6,
    "start_time": "2021-12-10T07:05:40.929Z"
   },
   {
    "duration": 7,
    "start_time": "2021-12-10T07:05:40.936Z"
   },
   {
    "duration": 561,
    "start_time": "2021-12-10T07:05:40.944Z"
   },
   {
    "duration": 36,
    "start_time": "2021-12-10T07:05:41.471Z"
   },
   {
    "duration": 30,
    "start_time": "2021-12-10T07:05:41.478Z"
   },
   {
    "duration": 25,
    "start_time": "2021-12-10T07:05:41.484Z"
   },
   {
    "duration": 20,
    "start_time": "2021-12-10T07:05:41.490Z"
   },
   {
    "duration": 16,
    "start_time": "2021-12-10T07:05:41.495Z"
   },
   {
    "duration": 11,
    "start_time": "2021-12-10T07:05:41.501Z"
   },
   {
    "duration": 8,
    "start_time": "2021-12-10T07:05:41.505Z"
   },
   {
    "duration": 3,
    "start_time": "2021-12-10T07:05:41.511Z"
   },
   {
    "duration": -1,
    "start_time": "2021-12-10T07:05:41.516Z"
   },
   {
    "duration": -19,
    "start_time": "2021-12-10T07:05:41.535Z"
   },
   {
    "duration": -26,
    "start_time": "2021-12-10T07:05:41.543Z"
   },
   {
    "duration": 10,
    "start_time": "2021-12-10T07:06:19.783Z"
   },
   {
    "duration": 347,
    "start_time": "2021-12-10T07:06:22.456Z"
   },
   {
    "duration": 60,
    "start_time": "2021-12-10T07:06:26.814Z"
   },
   {
    "duration": 12,
    "start_time": "2021-12-10T07:06:26.876Z"
   },
   {
    "duration": 7,
    "start_time": "2021-12-10T07:06:26.890Z"
   },
   {
    "duration": 4,
    "start_time": "2021-12-10T07:06:26.899Z"
   },
   {
    "duration": 10,
    "start_time": "2021-12-10T07:06:26.905Z"
   },
   {
    "duration": 6,
    "start_time": "2021-12-10T07:06:26.916Z"
   },
   {
    "duration": 8,
    "start_time": "2021-12-10T07:06:26.924Z"
   },
   {
    "duration": 5,
    "start_time": "2021-12-10T07:06:26.934Z"
   },
   {
    "duration": 7,
    "start_time": "2021-12-10T07:06:26.940Z"
   },
   {
    "duration": 49,
    "start_time": "2021-12-10T07:06:26.949Z"
   },
   {
    "duration": 9,
    "start_time": "2021-12-10T07:06:27.001Z"
   },
   {
    "duration": 6,
    "start_time": "2021-12-10T07:06:27.011Z"
   },
   {
    "duration": 8,
    "start_time": "2021-12-10T07:06:27.019Z"
   },
   {
    "duration": 25,
    "start_time": "2021-12-10T07:06:27.029Z"
   },
   {
    "duration": 36,
    "start_time": "2021-12-10T07:06:27.056Z"
   },
   {
    "duration": 7,
    "start_time": "2021-12-10T07:06:27.094Z"
   },
   {
    "duration": 7,
    "start_time": "2021-12-10T07:06:27.103Z"
   },
   {
    "duration": 12,
    "start_time": "2021-12-10T07:06:27.112Z"
   },
   {
    "duration": 8,
    "start_time": "2021-12-10T07:06:27.125Z"
   },
   {
    "duration": 11,
    "start_time": "2021-12-10T07:06:27.134Z"
   },
   {
    "duration": 482,
    "start_time": "2021-12-10T07:06:27.147Z"
   },
   {
    "duration": 9,
    "start_time": "2021-12-10T07:06:27.631Z"
   },
   {
    "duration": 19,
    "start_time": "2021-12-10T07:06:27.644Z"
   },
   {
    "duration": 5,
    "start_time": "2021-12-10T07:06:27.665Z"
   },
   {
    "duration": 24,
    "start_time": "2021-12-10T07:06:27.671Z"
   },
   {
    "duration": 7,
    "start_time": "2021-12-10T07:06:27.696Z"
   },
   {
    "duration": 7,
    "start_time": "2021-12-10T07:06:27.705Z"
   },
   {
    "duration": 12,
    "start_time": "2021-12-10T07:06:27.713Z"
   },
   {
    "duration": 21,
    "start_time": "2021-12-10T07:06:27.727Z"
   },
   {
    "duration": 7,
    "start_time": "2021-12-10T07:06:27.750Z"
   },
   {
    "duration": 43,
    "start_time": "2021-12-10T07:06:27.759Z"
   },
   {
    "duration": 681,
    "start_time": "2021-12-10T07:06:27.804Z"
   },
   {
    "duration": 560,
    "start_time": "2021-12-10T07:06:28.491Z"
   },
   {
    "duration": 15,
    "start_time": "2021-12-10T07:06:29.052Z"
   },
   {
    "duration": 35,
    "start_time": "2021-12-10T07:06:29.069Z"
   },
   {
    "duration": 20,
    "start_time": "2021-12-10T07:06:29.106Z"
   },
   {
    "duration": 42,
    "start_time": "2021-12-10T07:06:29.128Z"
   },
   {
    "duration": 33,
    "start_time": "2021-12-10T07:06:29.171Z"
   },
   {
    "duration": 10,
    "start_time": "2021-12-10T07:12:21.161Z"
   },
   {
    "duration": 8,
    "start_time": "2021-12-10T08:36:11.279Z"
   },
   {
    "duration": 5,
    "start_time": "2021-12-10T08:42:18.544Z"
   },
   {
    "duration": 63,
    "start_time": "2021-12-10T08:42:26.315Z"
   },
   {
    "duration": 13,
    "start_time": "2021-12-10T08:42:26.380Z"
   },
   {
    "duration": 19,
    "start_time": "2021-12-10T08:42:26.394Z"
   },
   {
    "duration": 18,
    "start_time": "2021-12-10T08:42:26.415Z"
   },
   {
    "duration": 13,
    "start_time": "2021-12-10T08:42:26.434Z"
   },
   {
    "duration": 14,
    "start_time": "2021-12-10T08:42:26.448Z"
   },
   {
    "duration": 20,
    "start_time": "2021-12-10T08:42:26.464Z"
   },
   {
    "duration": 13,
    "start_time": "2021-12-10T08:42:26.486Z"
   },
   {
    "duration": 31,
    "start_time": "2021-12-10T08:42:26.501Z"
   },
   {
    "duration": 13,
    "start_time": "2021-12-10T08:42:26.533Z"
   },
   {
    "duration": 14,
    "start_time": "2021-12-10T08:42:26.548Z"
   },
   {
    "duration": 5,
    "start_time": "2021-12-10T08:42:26.563Z"
   },
   {
    "duration": 15,
    "start_time": "2021-12-10T08:42:26.570Z"
   },
   {
    "duration": 21,
    "start_time": "2021-12-10T08:42:26.587Z"
   },
   {
    "duration": 12,
    "start_time": "2021-12-10T08:42:26.610Z"
   },
   {
    "duration": 18,
    "start_time": "2021-12-10T08:42:26.624Z"
   },
   {
    "duration": 32,
    "start_time": "2021-12-10T08:42:26.644Z"
   },
   {
    "duration": 11,
    "start_time": "2021-12-10T08:42:26.678Z"
   },
   {
    "duration": 17,
    "start_time": "2021-12-10T08:42:26.691Z"
   },
   {
    "duration": 27,
    "start_time": "2021-12-10T08:42:26.710Z"
   },
   {
    "duration": 513,
    "start_time": "2021-12-10T08:42:26.739Z"
   },
   {
    "duration": 12,
    "start_time": "2021-12-10T08:42:27.254Z"
   },
   {
    "duration": 25,
    "start_time": "2021-12-10T08:42:27.269Z"
   },
   {
    "duration": 19,
    "start_time": "2021-12-10T08:42:27.295Z"
   },
   {
    "duration": 19,
    "start_time": "2021-12-10T08:42:27.316Z"
   },
   {
    "duration": 22,
    "start_time": "2021-12-10T08:42:27.337Z"
   },
   {
    "duration": 6,
    "start_time": "2021-12-10T08:42:27.361Z"
   },
   {
    "duration": 31,
    "start_time": "2021-12-10T08:42:27.369Z"
   },
   {
    "duration": 29,
    "start_time": "2021-12-10T08:42:27.402Z"
   },
   {
    "duration": 10,
    "start_time": "2021-12-10T08:42:27.433Z"
   },
   {
    "duration": 20,
    "start_time": "2021-12-10T08:42:27.444Z"
   },
   {
    "duration": 721,
    "start_time": "2021-12-10T08:42:27.466Z"
   },
   {
    "duration": 5,
    "start_time": "2021-12-10T08:42:28.191Z"
   },
   {
    "duration": 25,
    "start_time": "2021-12-10T08:42:28.198Z"
   },
   {
    "duration": 24,
    "start_time": "2021-12-10T08:42:28.225Z"
   },
   {
    "duration": 43,
    "start_time": "2021-12-10T08:42:28.251Z"
   },
   {
    "duration": 45,
    "start_time": "2021-12-10T08:42:28.296Z"
   },
   {
    "duration": 19,
    "start_time": "2021-12-10T08:42:28.343Z"
   },
   {
    "duration": 21,
    "start_time": "2021-12-10T08:43:26.585Z"
   },
   {
    "duration": 9,
    "start_time": "2021-12-10T08:46:49.823Z"
   },
   {
    "duration": 10,
    "start_time": "2021-12-10T08:53:13.067Z"
   },
   {
    "duration": 4,
    "start_time": "2021-12-10T09:51:35.514Z"
   },
   {
    "duration": 20,
    "start_time": "2021-12-10T09:52:58.159Z"
   },
   {
    "duration": 61,
    "start_time": "2021-12-10T09:53:46.039Z"
   },
   {
    "duration": 13,
    "start_time": "2021-12-10T09:53:46.102Z"
   },
   {
    "duration": 8,
    "start_time": "2021-12-10T09:53:46.117Z"
   },
   {
    "duration": 8,
    "start_time": "2021-12-10T09:53:46.127Z"
   },
   {
    "duration": 13,
    "start_time": "2021-12-10T09:53:46.137Z"
   },
   {
    "duration": 10,
    "start_time": "2021-12-10T09:53:46.152Z"
   },
   {
    "duration": 32,
    "start_time": "2021-12-10T09:53:46.164Z"
   },
   {
    "duration": 12,
    "start_time": "2021-12-10T09:53:46.199Z"
   },
   {
    "duration": 15,
    "start_time": "2021-12-10T09:53:46.213Z"
   },
   {
    "duration": 12,
    "start_time": "2021-12-10T09:53:46.230Z"
   },
   {
    "duration": 12,
    "start_time": "2021-12-10T09:53:46.244Z"
   },
   {
    "duration": 6,
    "start_time": "2021-12-10T09:53:46.258Z"
   },
   {
    "duration": 31,
    "start_time": "2021-12-10T09:53:46.265Z"
   },
   {
    "duration": 25,
    "start_time": "2021-12-10T09:53:46.298Z"
   },
   {
    "duration": 13,
    "start_time": "2021-12-10T09:53:46.325Z"
   },
   {
    "duration": 22,
    "start_time": "2021-12-10T09:53:46.340Z"
   },
   {
    "duration": 10,
    "start_time": "2021-12-10T09:53:46.364Z"
   },
   {
    "duration": 22,
    "start_time": "2021-12-10T09:53:46.376Z"
   },
   {
    "duration": 8,
    "start_time": "2021-12-10T09:53:46.400Z"
   },
   {
    "duration": 10,
    "start_time": "2021-12-10T09:53:46.410Z"
   },
   {
    "duration": 485,
    "start_time": "2021-12-10T09:53:46.422Z"
   },
   {
    "duration": 11,
    "start_time": "2021-12-10T09:53:46.909Z"
   },
   {
    "duration": 12,
    "start_time": "2021-12-10T09:53:46.924Z"
   },
   {
    "duration": 6,
    "start_time": "2021-12-10T09:53:46.938Z"
   },
   {
    "duration": 6,
    "start_time": "2021-12-10T09:53:46.946Z"
   },
   {
    "duration": 9,
    "start_time": "2021-12-10T09:53:46.953Z"
   },
   {
    "duration": 32,
    "start_time": "2021-12-10T09:53:46.963Z"
   },
   {
    "duration": 14,
    "start_time": "2021-12-10T09:53:46.997Z"
   },
   {
    "duration": 26,
    "start_time": "2021-12-10T09:53:47.013Z"
   },
   {
    "duration": 9,
    "start_time": "2021-12-10T09:53:47.040Z"
   },
   {
    "duration": 12,
    "start_time": "2021-12-10T09:53:47.051Z"
   },
   {
    "duration": 811,
    "start_time": "2021-12-10T09:53:47.065Z"
   },
   {
    "duration": 13,
    "start_time": "2021-12-10T09:53:47.878Z"
   },
   {
    "duration": 17,
    "start_time": "2021-12-10T09:53:47.893Z"
   },
   {
    "duration": 29,
    "start_time": "2021-12-10T09:53:47.911Z"
   },
   {
    "duration": 23,
    "start_time": "2021-12-10T09:53:47.942Z"
   },
   {
    "duration": 64,
    "start_time": "2021-12-10T09:53:47.967Z"
   },
   {
    "duration": 17,
    "start_time": "2021-12-10T09:53:48.033Z"
   },
   {
    "duration": 17,
    "start_time": "2021-12-10T09:54:53.993Z"
   },
   {
    "duration": 17,
    "start_time": "2021-12-10T09:55:11.443Z"
   },
   {
    "duration": 57,
    "start_time": "2021-12-10T09:55:19.058Z"
   },
   {
    "duration": 12,
    "start_time": "2021-12-10T09:55:19.117Z"
   },
   {
    "duration": 7,
    "start_time": "2021-12-10T09:55:19.130Z"
   },
   {
    "duration": 3,
    "start_time": "2021-12-10T09:55:19.139Z"
   },
   {
    "duration": 7,
    "start_time": "2021-12-10T09:55:19.144Z"
   },
   {
    "duration": 40,
    "start_time": "2021-12-10T09:55:19.152Z"
   },
   {
    "duration": 13,
    "start_time": "2021-12-10T09:55:19.194Z"
   },
   {
    "duration": 14,
    "start_time": "2021-12-10T09:55:19.209Z"
   },
   {
    "duration": 14,
    "start_time": "2021-12-10T09:55:19.225Z"
   },
   {
    "duration": 11,
    "start_time": "2021-12-10T09:55:19.240Z"
   },
   {
    "duration": 14,
    "start_time": "2021-12-10T09:55:19.253Z"
   },
   {
    "duration": 8,
    "start_time": "2021-12-10T09:55:19.269Z"
   },
   {
    "duration": 18,
    "start_time": "2021-12-10T09:55:19.278Z"
   },
   {
    "duration": 27,
    "start_time": "2021-12-10T09:55:19.297Z"
   },
   {
    "duration": 15,
    "start_time": "2021-12-10T09:55:19.325Z"
   },
   {
    "duration": 35,
    "start_time": "2021-12-10T09:55:19.341Z"
   },
   {
    "duration": 21,
    "start_time": "2021-12-10T09:55:19.378Z"
   },
   {
    "duration": 28,
    "start_time": "2021-12-10T09:55:19.401Z"
   },
   {
    "duration": 28,
    "start_time": "2021-12-10T09:55:19.430Z"
   },
   {
    "duration": 27,
    "start_time": "2021-12-10T09:55:19.459Z"
   },
   {
    "duration": 475,
    "start_time": "2021-12-10T09:55:19.487Z"
   },
   {
    "duration": 9,
    "start_time": "2021-12-10T09:55:19.964Z"
   },
   {
    "duration": 21,
    "start_time": "2021-12-10T09:55:19.976Z"
   },
   {
    "duration": 7,
    "start_time": "2021-12-10T09:55:20.000Z"
   },
   {
    "duration": 7,
    "start_time": "2021-12-10T09:55:20.008Z"
   },
   {
    "duration": 7,
    "start_time": "2021-12-10T09:55:20.016Z"
   },
   {
    "duration": 6,
    "start_time": "2021-12-10T09:55:20.025Z"
   },
   {
    "duration": 16,
    "start_time": "2021-12-10T09:55:20.033Z"
   },
   {
    "duration": 61,
    "start_time": "2021-12-10T09:55:20.051Z"
   },
   {
    "duration": 9,
    "start_time": "2021-12-10T09:55:20.114Z"
   },
   {
    "duration": 13,
    "start_time": "2021-12-10T09:55:20.125Z"
   },
   {
    "duration": 730,
    "start_time": "2021-12-10T09:55:20.140Z"
   },
   {
    "duration": 5,
    "start_time": "2021-12-10T09:55:20.872Z"
   },
   {
    "duration": 27,
    "start_time": "2021-12-10T09:55:20.879Z"
   },
   {
    "duration": 30,
    "start_time": "2021-12-10T09:55:20.908Z"
   },
   {
    "duration": 23,
    "start_time": "2021-12-10T09:55:20.940Z"
   },
   {
    "duration": 69,
    "start_time": "2021-12-10T09:55:20.965Z"
   },
   {
    "duration": 19,
    "start_time": "2021-12-10T09:55:21.036Z"
   },
   {
    "duration": 13,
    "start_time": "2021-12-10T09:56:18.786Z"
   },
   {
    "duration": 361,
    "start_time": "2021-12-10T09:56:26.492Z"
   },
   {
    "duration": 60,
    "start_time": "2021-12-10T09:56:30.327Z"
   },
   {
    "duration": 13,
    "start_time": "2021-12-10T09:56:30.389Z"
   },
   {
    "duration": 23,
    "start_time": "2021-12-10T09:56:30.403Z"
   },
   {
    "duration": 20,
    "start_time": "2021-12-10T09:56:30.428Z"
   },
   {
    "duration": 12,
    "start_time": "2021-12-10T09:56:30.450Z"
   },
   {
    "duration": 16,
    "start_time": "2021-12-10T09:56:30.464Z"
   },
   {
    "duration": 15,
    "start_time": "2021-12-10T09:56:30.482Z"
   },
   {
    "duration": 13,
    "start_time": "2021-12-10T09:56:30.498Z"
   },
   {
    "duration": 20,
    "start_time": "2021-12-10T09:56:30.514Z"
   },
   {
    "duration": 12,
    "start_time": "2021-12-10T09:56:30.536Z"
   },
   {
    "duration": 8,
    "start_time": "2021-12-10T09:56:30.550Z"
   },
   {
    "duration": 15,
    "start_time": "2021-12-10T09:56:30.560Z"
   },
   {
    "duration": 19,
    "start_time": "2021-12-10T09:56:30.577Z"
   },
   {
    "duration": 27,
    "start_time": "2021-12-10T09:56:30.598Z"
   },
   {
    "duration": 18,
    "start_time": "2021-12-10T09:56:30.627Z"
   },
   {
    "duration": 36,
    "start_time": "2021-12-10T09:56:30.647Z"
   },
   {
    "duration": 13,
    "start_time": "2021-12-10T09:56:30.685Z"
   },
   {
    "duration": 25,
    "start_time": "2021-12-10T09:56:30.700Z"
   },
   {
    "duration": 26,
    "start_time": "2021-12-10T09:56:30.726Z"
   },
   {
    "duration": 29,
    "start_time": "2021-12-10T09:56:30.754Z"
   },
   {
    "duration": 489,
    "start_time": "2021-12-10T09:56:30.785Z"
   },
   {
    "duration": 19,
    "start_time": "2021-12-10T09:56:31.276Z"
   },
   {
    "duration": 26,
    "start_time": "2021-12-10T09:56:31.297Z"
   },
   {
    "duration": 20,
    "start_time": "2021-12-10T09:56:31.325Z"
   },
   {
    "duration": 10,
    "start_time": "2021-12-10T09:56:31.346Z"
   },
   {
    "duration": 8,
    "start_time": "2021-12-10T09:56:31.357Z"
   },
   {
    "duration": 268,
    "start_time": "2021-12-10T09:56:31.368Z"
   },
   {
    "duration": 125,
    "start_time": "2021-12-10T09:56:31.513Z"
   },
   {
    "duration": 120,
    "start_time": "2021-12-10T09:56:31.519Z"
   },
   {
    "duration": 114,
    "start_time": "2021-12-10T09:56:31.525Z"
   },
   {
    "duration": 103,
    "start_time": "2021-12-10T09:56:31.537Z"
   },
   {
    "duration": 99,
    "start_time": "2021-12-10T09:56:31.542Z"
   },
   {
    "duration": 93,
    "start_time": "2021-12-10T09:56:31.549Z"
   },
   {
    "duration": 90,
    "start_time": "2021-12-10T09:56:31.553Z"
   },
   {
    "duration": 86,
    "start_time": "2021-12-10T09:56:31.558Z"
   },
   {
    "duration": 82,
    "start_time": "2021-12-10T09:56:31.563Z"
   },
   {
    "duration": 78,
    "start_time": "2021-12-10T09:56:31.568Z"
   },
   {
    "duration": 74,
    "start_time": "2021-12-10T09:56:31.573Z"
   },
   {
    "duration": 339,
    "start_time": "2021-12-10T10:08:16.865Z"
   },
   {
    "duration": 189,
    "start_time": "2021-12-10T10:08:19.050Z"
   },
   {
    "duration": 59,
    "start_time": "2021-12-10T10:08:22.747Z"
   },
   {
    "duration": 14,
    "start_time": "2021-12-10T10:08:22.808Z"
   },
   {
    "duration": 8,
    "start_time": "2021-12-10T10:08:22.825Z"
   },
   {
    "duration": 4,
    "start_time": "2021-12-10T10:08:22.835Z"
   },
   {
    "duration": 7,
    "start_time": "2021-12-10T10:08:22.841Z"
   },
   {
    "duration": 47,
    "start_time": "2021-12-10T10:08:22.849Z"
   },
   {
    "duration": 10,
    "start_time": "2021-12-10T10:08:22.898Z"
   },
   {
    "duration": 7,
    "start_time": "2021-12-10T10:08:22.910Z"
   },
   {
    "duration": 7,
    "start_time": "2021-12-10T10:08:22.921Z"
   },
   {
    "duration": 8,
    "start_time": "2021-12-10T10:08:22.930Z"
   },
   {
    "duration": 6,
    "start_time": "2021-12-10T10:08:22.940Z"
   },
   {
    "duration": 4,
    "start_time": "2021-12-10T10:08:22.948Z"
   },
   {
    "duration": 7,
    "start_time": "2021-12-10T10:08:22.992Z"
   },
   {
    "duration": 18,
    "start_time": "2021-12-10T10:08:23.001Z"
   },
   {
    "duration": 11,
    "start_time": "2021-12-10T10:08:23.021Z"
   },
   {
    "duration": 19,
    "start_time": "2021-12-10T10:08:23.034Z"
   },
   {
    "duration": 7,
    "start_time": "2021-12-10T10:08:23.054Z"
   },
   {
    "duration": 38,
    "start_time": "2021-12-10T10:08:23.062Z"
   },
   {
    "duration": 6,
    "start_time": "2021-12-10T10:08:23.102Z"
   },
   {
    "duration": 13,
    "start_time": "2021-12-10T10:08:23.109Z"
   },
   {
    "duration": 524,
    "start_time": "2021-12-10T10:08:23.124Z"
   },
   {
    "duration": 12,
    "start_time": "2021-12-10T10:08:23.651Z"
   },
   {
    "duration": 30,
    "start_time": "2021-12-10T10:08:23.664Z"
   },
   {
    "duration": 10,
    "start_time": "2021-12-10T10:08:23.696Z"
   },
   {
    "duration": 6,
    "start_time": "2021-12-10T10:08:23.707Z"
   },
   {
    "duration": 8,
    "start_time": "2021-12-10T10:08:23.715Z"
   },
   {
    "duration": 4,
    "start_time": "2021-12-10T10:08:23.726Z"
   },
   {
    "duration": 15,
    "start_time": "2021-12-10T10:08:23.732Z"
   },
   {
    "duration": 45,
    "start_time": "2021-12-10T10:08:23.748Z"
   },
   {
    "duration": 8,
    "start_time": "2021-12-10T10:08:23.794Z"
   },
   {
    "duration": 15,
    "start_time": "2021-12-10T10:08:23.803Z"
   },
   {
    "duration": 720,
    "start_time": "2021-12-10T10:08:23.819Z"
   },
   {
    "duration": 7,
    "start_time": "2021-12-10T10:08:24.541Z"
   },
   {
    "duration": 24,
    "start_time": "2021-12-10T10:08:24.550Z"
   },
   {
    "duration": 26,
    "start_time": "2021-12-10T10:08:24.592Z"
   },
   {
    "duration": 24,
    "start_time": "2021-12-10T10:08:24.620Z"
   },
   {
    "duration": 73,
    "start_time": "2021-12-10T10:08:24.646Z"
   },
   {
    "duration": 21,
    "start_time": "2021-12-10T10:08:24.721Z"
   },
   {
    "duration": 64,
    "start_time": "2021-12-10T10:10:52.363Z"
   },
   {
    "duration": 8,
    "start_time": "2021-12-10T10:43:14.262Z"
   },
   {
    "duration": 8,
    "start_time": "2021-12-10T10:43:16.015Z"
   },
   {
    "duration": 6,
    "start_time": "2021-12-10T10:45:41.407Z"
   },
   {
    "duration": 7,
    "start_time": "2021-12-10T10:45:52.442Z"
   },
   {
    "duration": 8,
    "start_time": "2021-12-10T10:46:22.562Z"
   },
   {
    "duration": 345,
    "start_time": "2021-12-10T10:52:14.863Z"
   },
   {
    "duration": 334,
    "start_time": "2021-12-10T10:52:55.137Z"
   },
   {
    "duration": 325,
    "start_time": "2021-12-10T10:53:28.612Z"
   },
   {
    "duration": 338,
    "start_time": "2021-12-10T10:54:36.818Z"
   },
   {
    "duration": 11,
    "start_time": "2021-12-10T11:28:39.412Z"
   },
   {
    "duration": 56,
    "start_time": "2021-12-10T11:28:59.874Z"
   },
   {
    "duration": 15,
    "start_time": "2021-12-10T11:28:59.932Z"
   },
   {
    "duration": 7,
    "start_time": "2021-12-10T11:28:59.949Z"
   },
   {
    "duration": 35,
    "start_time": "2021-12-10T11:28:59.958Z"
   },
   {
    "duration": 7,
    "start_time": "2021-12-10T11:28:59.995Z"
   },
   {
    "duration": 16,
    "start_time": "2021-12-10T11:29:00.004Z"
   },
   {
    "duration": 14,
    "start_time": "2021-12-10T11:29:00.022Z"
   },
   {
    "duration": 7,
    "start_time": "2021-12-10T11:29:00.038Z"
   },
   {
    "duration": 10,
    "start_time": "2021-12-10T11:29:00.047Z"
   },
   {
    "duration": 37,
    "start_time": "2021-12-10T11:29:00.058Z"
   },
   {
    "duration": 10,
    "start_time": "2021-12-10T11:29:00.097Z"
   },
   {
    "duration": 5,
    "start_time": "2021-12-10T11:29:00.108Z"
   },
   {
    "duration": 10,
    "start_time": "2021-12-10T11:29:00.115Z"
   },
   {
    "duration": 18,
    "start_time": "2021-12-10T11:29:00.127Z"
   },
   {
    "duration": 13,
    "start_time": "2021-12-10T11:29:00.146Z"
   },
   {
    "duration": 36,
    "start_time": "2021-12-10T11:29:00.160Z"
   },
   {
    "duration": 30,
    "start_time": "2021-12-10T11:29:00.198Z"
   },
   {
    "duration": 358,
    "start_time": "2021-12-10T11:29:00.229Z"
   },
   {
    "duration": 8,
    "start_time": "2021-12-10T11:29:00.589Z"
   },
   {
    "duration": 25,
    "start_time": "2021-12-10T11:29:00.599Z"
   },
   {
    "duration": 16,
    "start_time": "2021-12-10T11:29:00.627Z"
   },
   {
    "duration": 23,
    "start_time": "2021-12-10T11:29:00.645Z"
   },
   {
    "duration": 484,
    "start_time": "2021-12-10T11:29:00.673Z"
   },
   {
    "duration": 10,
    "start_time": "2021-12-10T11:29:01.159Z"
   },
   {
    "duration": 26,
    "start_time": "2021-12-10T11:29:01.171Z"
   },
   {
    "duration": 19,
    "start_time": "2021-12-10T11:29:01.199Z"
   },
   {
    "duration": 15,
    "start_time": "2021-12-10T11:29:01.220Z"
   },
   {
    "duration": 20,
    "start_time": "2021-12-10T11:29:01.236Z"
   },
   {
    "duration": 30,
    "start_time": "2021-12-10T11:29:01.258Z"
   },
   {
    "duration": 21,
    "start_time": "2021-12-10T11:29:01.289Z"
   },
   {
    "duration": 18,
    "start_time": "2021-12-10T11:29:01.312Z"
   },
   {
    "duration": 17,
    "start_time": "2021-12-10T11:29:01.332Z"
   },
   {
    "duration": 744,
    "start_time": "2021-12-10T11:29:01.351Z"
   },
   {
    "duration": 5,
    "start_time": "2021-12-10T11:29:02.096Z"
   },
   {
    "duration": 38,
    "start_time": "2021-12-10T11:29:02.103Z"
   },
   {
    "duration": 25,
    "start_time": "2021-12-10T11:29:02.143Z"
   },
   {
    "duration": 34,
    "start_time": "2021-12-10T11:29:02.169Z"
   },
   {
    "duration": 46,
    "start_time": "2021-12-10T11:29:02.205Z"
   },
   {
    "duration": 39,
    "start_time": "2021-12-10T11:29:02.253Z"
   },
   {
    "duration": 10,
    "start_time": "2021-12-10T13:00:39.190Z"
   },
   {
    "duration": 338,
    "start_time": "2021-12-10T13:30:39.045Z"
   },
   {
    "duration": 21,
    "start_time": "2021-12-10T13:31:02.448Z"
   },
   {
    "duration": 21,
    "start_time": "2021-12-10T13:31:34.748Z"
   },
   {
    "duration": 58,
    "start_time": "2021-12-10T13:32:02.279Z"
   },
   {
    "duration": 14,
    "start_time": "2021-12-10T13:32:02.338Z"
   },
   {
    "duration": 30,
    "start_time": "2021-12-10T13:32:02.354Z"
   },
   {
    "duration": 21,
    "start_time": "2021-12-10T13:32:02.386Z"
   },
   {
    "duration": 18,
    "start_time": "2021-12-10T13:32:02.408Z"
   },
   {
    "duration": 27,
    "start_time": "2021-12-10T13:32:02.428Z"
   },
   {
    "duration": 16,
    "start_time": "2021-12-10T13:32:02.456Z"
   },
   {
    "duration": 13,
    "start_time": "2021-12-10T13:32:02.475Z"
   },
   {
    "duration": 19,
    "start_time": "2021-12-10T13:32:02.490Z"
   },
   {
    "duration": 32,
    "start_time": "2021-12-10T13:32:02.511Z"
   },
   {
    "duration": 9,
    "start_time": "2021-12-10T13:32:02.545Z"
   },
   {
    "duration": 6,
    "start_time": "2021-12-10T13:32:02.556Z"
   },
   {
    "duration": 10,
    "start_time": "2021-12-10T13:32:02.563Z"
   },
   {
    "duration": 19,
    "start_time": "2021-12-10T13:32:02.575Z"
   },
   {
    "duration": 13,
    "start_time": "2021-12-10T13:32:02.595Z"
   },
   {
    "duration": 13,
    "start_time": "2021-12-10T13:32:02.609Z"
   },
   {
    "duration": 19,
    "start_time": "2021-12-10T13:32:02.623Z"
   },
   {
    "duration": 10,
    "start_time": "2021-12-10T13:32:02.644Z"
   },
   {
    "duration": 36,
    "start_time": "2021-12-10T13:32:02.656Z"
   },
   {
    "duration": 4,
    "start_time": "2021-12-10T13:32:02.694Z"
   },
   {
    "duration": 28,
    "start_time": "2021-12-10T13:32:02.700Z"
   },
   {
    "duration": 491,
    "start_time": "2021-12-10T13:32:02.730Z"
   },
   {
    "duration": 11,
    "start_time": "2021-12-10T13:32:03.224Z"
   },
   {
    "duration": 14,
    "start_time": "2021-12-10T13:32:03.237Z"
   },
   {
    "duration": 9,
    "start_time": "2021-12-10T13:32:03.252Z"
   },
   {
    "duration": 10,
    "start_time": "2021-12-10T13:32:03.262Z"
   },
   {
    "duration": 6,
    "start_time": "2021-12-10T13:32:03.273Z"
   },
   {
    "duration": 13,
    "start_time": "2021-12-10T13:32:03.280Z"
   },
   {
    "duration": 21,
    "start_time": "2021-12-10T13:32:03.294Z"
   },
   {
    "duration": 7,
    "start_time": "2021-12-10T13:32:03.316Z"
   },
   {
    "duration": 16,
    "start_time": "2021-12-10T13:32:03.324Z"
   },
   {
    "duration": 710,
    "start_time": "2021-12-10T13:32:03.341Z"
   },
   {
    "duration": 4,
    "start_time": "2021-12-10T13:32:04.053Z"
   },
   {
    "duration": 19,
    "start_time": "2021-12-10T13:32:04.059Z"
   },
   {
    "duration": 27,
    "start_time": "2021-12-10T13:32:04.080Z"
   },
   {
    "duration": 22,
    "start_time": "2021-12-10T13:32:04.109Z"
   },
   {
    "duration": 99,
    "start_time": "2021-12-10T13:32:04.133Z"
   },
   {
    "duration": 19,
    "start_time": "2021-12-10T13:32:04.234Z"
   },
   {
    "duration": 235,
    "start_time": "2021-12-10T14:34:15.317Z"
   },
   {
    "duration": 208,
    "start_time": "2021-12-10T14:35:13.863Z"
   },
   {
    "duration": 238,
    "start_time": "2021-12-10T14:36:18.263Z"
   },
   {
    "duration": 590,
    "start_time": "2021-12-10T14:36:24.153Z"
   },
   {
    "duration": 192,
    "start_time": "2021-12-10T14:37:25.769Z"
   },
   {
    "duration": 59,
    "start_time": "2021-12-10T14:37:58.165Z"
   },
   {
    "duration": 12,
    "start_time": "2021-12-10T14:37:58.226Z"
   },
   {
    "duration": 8,
    "start_time": "2021-12-10T14:37:58.240Z"
   },
   {
    "duration": 8,
    "start_time": "2021-12-10T14:37:58.250Z"
   },
   {
    "duration": 33,
    "start_time": "2021-12-10T14:37:58.259Z"
   },
   {
    "duration": 7,
    "start_time": "2021-12-10T14:37:58.294Z"
   },
   {
    "duration": 10,
    "start_time": "2021-12-10T14:37:58.303Z"
   },
   {
    "duration": 8,
    "start_time": "2021-12-10T14:37:58.314Z"
   },
   {
    "duration": 9,
    "start_time": "2021-12-10T14:37:58.324Z"
   },
   {
    "duration": 8,
    "start_time": "2021-12-10T14:37:58.334Z"
   },
   {
    "duration": 6,
    "start_time": "2021-12-10T14:37:58.343Z"
   },
   {
    "duration": 41,
    "start_time": "2021-12-10T14:37:58.351Z"
   },
   {
    "duration": 7,
    "start_time": "2021-12-10T14:37:58.393Z"
   },
   {
    "duration": 18,
    "start_time": "2021-12-10T14:37:58.401Z"
   },
   {
    "duration": 11,
    "start_time": "2021-12-10T14:37:58.421Z"
   },
   {
    "duration": 9,
    "start_time": "2021-12-10T14:37:58.434Z"
   },
   {
    "duration": 10,
    "start_time": "2021-12-10T14:37:58.445Z"
   },
   {
    "duration": 34,
    "start_time": "2021-12-10T14:37:58.457Z"
   },
   {
    "duration": 11,
    "start_time": "2021-12-10T14:37:58.494Z"
   },
   {
    "duration": 8,
    "start_time": "2021-12-10T14:37:58.507Z"
   },
   {
    "duration": 10,
    "start_time": "2021-12-10T14:37:58.517Z"
   },
   {
    "duration": 498,
    "start_time": "2021-12-10T14:37:58.529Z"
   },
   {
    "duration": 13,
    "start_time": "2021-12-10T14:37:59.029Z"
   },
   {
    "duration": 13,
    "start_time": "2021-12-10T14:37:59.044Z"
   },
   {
    "duration": 7,
    "start_time": "2021-12-10T14:37:59.059Z"
   },
   {
    "duration": 28,
    "start_time": "2021-12-10T14:37:59.067Z"
   },
   {
    "duration": 4,
    "start_time": "2021-12-10T14:37:59.099Z"
   },
   {
    "duration": 12,
    "start_time": "2021-12-10T14:37:59.105Z"
   },
   {
    "duration": 21,
    "start_time": "2021-12-10T14:37:59.119Z"
   },
   {
    "duration": 10,
    "start_time": "2021-12-10T14:37:59.142Z"
   },
   {
    "duration": 44,
    "start_time": "2021-12-10T14:37:59.154Z"
   },
   {
    "duration": 703,
    "start_time": "2021-12-10T14:37:59.200Z"
   },
   {
    "duration": 6,
    "start_time": "2021-12-10T14:37:59.905Z"
   },
   {
    "duration": 20,
    "start_time": "2021-12-10T14:37:59.913Z"
   },
   {
    "duration": 24,
    "start_time": "2021-12-10T14:37:59.934Z"
   },
   {
    "duration": 45,
    "start_time": "2021-12-10T14:37:59.960Z"
   },
   {
    "duration": 47,
    "start_time": "2021-12-10T14:38:00.007Z"
   },
   {
    "duration": 37,
    "start_time": "2021-12-10T14:38:00.056Z"
   },
   {
    "duration": 11,
    "start_time": "2021-12-10T14:38:22.476Z"
   },
   {
    "duration": 9,
    "start_time": "2021-12-10T15:06:07.560Z"
   },
   {
    "duration": 11,
    "start_time": "2021-12-10T15:06:29.854Z"
   },
   {
    "duration": 205,
    "start_time": "2021-12-10T15:06:43.820Z"
   },
   {
    "duration": 60,
    "start_time": "2021-12-10T15:06:48.934Z"
   },
   {
    "duration": 13,
    "start_time": "2021-12-10T15:06:48.996Z"
   },
   {
    "duration": 10,
    "start_time": "2021-12-10T15:06:49.011Z"
   },
   {
    "duration": 5,
    "start_time": "2021-12-10T15:06:49.023Z"
   },
   {
    "duration": 8,
    "start_time": "2021-12-10T15:06:49.029Z"
   },
   {
    "duration": 12,
    "start_time": "2021-12-10T15:06:49.039Z"
   },
   {
    "duration": 44,
    "start_time": "2021-12-10T15:06:49.053Z"
   },
   {
    "duration": 11,
    "start_time": "2021-12-10T15:06:49.101Z"
   },
   {
    "duration": 12,
    "start_time": "2021-12-10T15:06:49.115Z"
   },
   {
    "duration": 12,
    "start_time": "2021-12-10T15:06:49.129Z"
   },
   {
    "duration": 9,
    "start_time": "2021-12-10T15:06:49.143Z"
   },
   {
    "duration": 40,
    "start_time": "2021-12-10T15:06:49.154Z"
   },
   {
    "duration": 8,
    "start_time": "2021-12-10T15:06:49.195Z"
   },
   {
    "duration": 25,
    "start_time": "2021-12-10T15:06:49.204Z"
   },
   {
    "duration": 12,
    "start_time": "2021-12-10T15:06:49.231Z"
   },
   {
    "duration": 10,
    "start_time": "2021-12-10T15:06:49.244Z"
   },
   {
    "duration": 322,
    "start_time": "2021-12-10T15:06:49.255Z"
   },
   {
    "duration": 18,
    "start_time": "2021-12-10T15:06:49.562Z"
   },
   {
    "duration": 12,
    "start_time": "2021-12-10T15:06:49.569Z"
   },
   {
    "duration": 7,
    "start_time": "2021-12-10T15:06:49.574Z"
   },
   {
    "duration": 3,
    "start_time": "2021-12-10T15:06:49.579Z"
   },
   {
    "duration": -1,
    "start_time": "2021-12-10T15:06:49.584Z"
   },
   {
    "duration": -5,
    "start_time": "2021-12-10T15:06:49.589Z"
   },
   {
    "duration": -8,
    "start_time": "2021-12-10T15:06:49.593Z"
   },
   {
    "duration": -12,
    "start_time": "2021-12-10T15:06:49.597Z"
   },
   {
    "duration": -16,
    "start_time": "2021-12-10T15:06:49.602Z"
   },
   {
    "duration": -19,
    "start_time": "2021-12-10T15:06:49.607Z"
   },
   {
    "duration": -23,
    "start_time": "2021-12-10T15:06:49.612Z"
   },
   {
    "duration": -27,
    "start_time": "2021-12-10T15:06:49.616Z"
   },
   {
    "duration": -30,
    "start_time": "2021-12-10T15:06:49.620Z"
   },
   {
    "duration": -32,
    "start_time": "2021-12-10T15:06:49.624Z"
   },
   {
    "duration": -37,
    "start_time": "2021-12-10T15:06:49.630Z"
   },
   {
    "duration": -42,
    "start_time": "2021-12-10T15:06:49.635Z"
   },
   {
    "duration": -46,
    "start_time": "2021-12-10T15:06:49.640Z"
   },
   {
    "duration": -49,
    "start_time": "2021-12-10T15:06:49.645Z"
   },
   {
    "duration": -53,
    "start_time": "2021-12-10T15:06:49.649Z"
   },
   {
    "duration": -55,
    "start_time": "2021-12-10T15:06:49.653Z"
   },
   {
    "duration": -58,
    "start_time": "2021-12-10T15:06:49.657Z"
   },
   {
    "duration": 12,
    "start_time": "2021-12-10T15:07:14.683Z"
   },
   {
    "duration": 11,
    "start_time": "2021-12-10T15:07:26.011Z"
   },
   {
    "duration": 11,
    "start_time": "2021-12-10T15:07:31.825Z"
   },
   {
    "duration": 60,
    "start_time": "2021-12-10T15:07:37.459Z"
   },
   {
    "duration": 12,
    "start_time": "2021-12-10T15:07:37.521Z"
   },
   {
    "duration": 16,
    "start_time": "2021-12-10T15:07:37.535Z"
   },
   {
    "duration": 16,
    "start_time": "2021-12-10T15:07:37.553Z"
   },
   {
    "duration": 22,
    "start_time": "2021-12-10T15:07:37.571Z"
   },
   {
    "duration": 21,
    "start_time": "2021-12-10T15:07:37.595Z"
   },
   {
    "duration": 9,
    "start_time": "2021-12-10T15:07:37.617Z"
   },
   {
    "duration": 16,
    "start_time": "2021-12-10T15:07:37.628Z"
   },
   {
    "duration": 25,
    "start_time": "2021-12-10T15:07:37.646Z"
   },
   {
    "duration": 10,
    "start_time": "2021-12-10T15:07:37.672Z"
   },
   {
    "duration": 8,
    "start_time": "2021-12-10T15:07:37.684Z"
   },
   {
    "duration": 4,
    "start_time": "2021-12-10T15:07:37.693Z"
   },
   {
    "duration": 9,
    "start_time": "2021-12-10T15:07:37.699Z"
   },
   {
    "duration": 20,
    "start_time": "2021-12-10T15:07:37.709Z"
   },
   {
    "duration": 13,
    "start_time": "2021-12-10T15:07:37.731Z"
   },
   {
    "duration": 12,
    "start_time": "2021-12-10T15:07:37.745Z"
   },
   {
    "duration": 12,
    "start_time": "2021-12-10T15:07:37.758Z"
   },
   {
    "duration": 11,
    "start_time": "2021-12-10T15:07:37.792Z"
   },
   {
    "duration": 9,
    "start_time": "2021-12-10T15:07:37.805Z"
   },
   {
    "duration": 6,
    "start_time": "2021-12-10T15:07:37.815Z"
   },
   {
    "duration": 11,
    "start_time": "2021-12-10T15:07:37.822Z"
   },
   {
    "duration": 477,
    "start_time": "2021-12-10T15:07:37.834Z"
   },
   {
    "duration": 11,
    "start_time": "2021-12-10T15:07:38.314Z"
   },
   {
    "duration": 13,
    "start_time": "2021-12-10T15:07:38.327Z"
   },
   {
    "duration": 7,
    "start_time": "2021-12-10T15:07:38.341Z"
   },
   {
    "duration": 9,
    "start_time": "2021-12-10T15:07:38.349Z"
   },
   {
    "duration": 7,
    "start_time": "2021-12-10T15:07:38.359Z"
   },
   {
    "duration": 13,
    "start_time": "2021-12-10T15:07:38.391Z"
   },
   {
    "duration": 21,
    "start_time": "2021-12-10T15:07:38.406Z"
   },
   {
    "duration": 8,
    "start_time": "2021-12-10T15:07:38.429Z"
   },
   {
    "duration": 14,
    "start_time": "2021-12-10T15:07:38.438Z"
   },
   {
    "duration": 738,
    "start_time": "2021-12-10T15:07:38.453Z"
   },
   {
    "duration": 5,
    "start_time": "2021-12-10T15:07:39.193Z"
   },
   {
    "duration": 19,
    "start_time": "2021-12-10T15:07:39.199Z"
   },
   {
    "duration": 24,
    "start_time": "2021-12-10T15:07:39.220Z"
   },
   {
    "duration": 47,
    "start_time": "2021-12-10T15:07:39.245Z"
   },
   {
    "duration": 45,
    "start_time": "2021-12-10T15:07:39.294Z"
   },
   {
    "duration": 19,
    "start_time": "2021-12-10T15:07:39.341Z"
   },
   {
    "duration": 203,
    "start_time": "2021-12-10T15:07:53.900Z"
   },
   {
    "duration": 195,
    "start_time": "2021-12-10T15:11:22.696Z"
   },
   {
    "duration": 241,
    "start_time": "2021-12-10T15:11:48.683Z"
   },
   {
    "duration": 179,
    "start_time": "2021-12-10T15:11:55.590Z"
   },
   {
    "duration": 193,
    "start_time": "2021-12-10T15:12:00.268Z"
   },
   {
    "duration": 182,
    "start_time": "2021-12-10T15:12:59.622Z"
   },
   {
    "duration": 277,
    "start_time": "2021-12-10T15:13:23.109Z"
   },
   {
    "duration": 211,
    "start_time": "2021-12-10T15:13:32.231Z"
   },
   {
    "duration": 191,
    "start_time": "2021-12-10T15:13:43.089Z"
   },
   {
    "duration": 62,
    "start_time": "2021-12-10T15:14:27.182Z"
   },
   {
    "duration": 13,
    "start_time": "2021-12-10T15:14:27.246Z"
   },
   {
    "duration": 30,
    "start_time": "2021-12-10T15:14:27.261Z"
   },
   {
    "duration": 5,
    "start_time": "2021-12-10T15:14:27.293Z"
   },
   {
    "duration": 8,
    "start_time": "2021-12-10T15:14:27.300Z"
   },
   {
    "duration": 9,
    "start_time": "2021-12-10T15:14:27.310Z"
   },
   {
    "duration": 8,
    "start_time": "2021-12-10T15:14:27.320Z"
   },
   {
    "duration": 6,
    "start_time": "2021-12-10T15:14:27.331Z"
   },
   {
    "duration": 7,
    "start_time": "2021-12-10T15:14:27.339Z"
   },
   {
    "duration": 46,
    "start_time": "2021-12-10T15:14:27.347Z"
   },
   {
    "duration": 7,
    "start_time": "2021-12-10T15:14:27.395Z"
   },
   {
    "duration": 3,
    "start_time": "2021-12-10T15:14:27.404Z"
   },
   {
    "duration": 9,
    "start_time": "2021-12-10T15:14:27.409Z"
   },
   {
    "duration": 17,
    "start_time": "2021-12-10T15:14:27.419Z"
   },
   {
    "duration": 13,
    "start_time": "2021-12-10T15:14:27.437Z"
   },
   {
    "duration": 42,
    "start_time": "2021-12-10T15:14:27.451Z"
   },
   {
    "duration": 12,
    "start_time": "2021-12-10T15:14:27.495Z"
   },
   {
    "duration": 10,
    "start_time": "2021-12-10T15:14:27.509Z"
   },
   {
    "duration": 4,
    "start_time": "2021-12-10T15:14:27.520Z"
   },
   {
    "duration": 9,
    "start_time": "2021-12-10T15:14:27.526Z"
   },
   {
    "duration": 506,
    "start_time": "2021-12-10T15:14:27.537Z"
   },
   {
    "duration": 10,
    "start_time": "2021-12-10T15:14:28.045Z"
   },
   {
    "duration": 12,
    "start_time": "2021-12-10T15:14:28.059Z"
   },
   {
    "duration": 19,
    "start_time": "2021-12-10T15:14:28.073Z"
   },
   {
    "duration": 7,
    "start_time": "2021-12-10T15:14:28.094Z"
   },
   {
    "duration": 6,
    "start_time": "2021-12-10T15:14:28.103Z"
   },
   {
    "duration": 12,
    "start_time": "2021-12-10T15:14:28.111Z"
   },
   {
    "duration": 22,
    "start_time": "2021-12-10T15:14:28.124Z"
   },
   {
    "duration": 44,
    "start_time": "2021-12-10T15:14:28.147Z"
   },
   {
    "duration": 12,
    "start_time": "2021-12-10T15:14:28.193Z"
   },
   {
    "duration": 721,
    "start_time": "2021-12-10T15:14:28.206Z"
   },
   {
    "duration": 6,
    "start_time": "2021-12-10T15:14:28.929Z"
   },
   {
    "duration": 20,
    "start_time": "2021-12-10T15:14:28.937Z"
   },
   {
    "duration": 41,
    "start_time": "2021-12-10T15:14:28.959Z"
   },
   {
    "duration": 23,
    "start_time": "2021-12-10T15:14:29.001Z"
   },
   {
    "duration": 46,
    "start_time": "2021-12-10T15:14:29.025Z"
   },
   {
    "duration": 20,
    "start_time": "2021-12-10T15:14:29.092Z"
   },
   {
    "duration": 20,
    "start_time": "2021-12-10T15:23:22.485Z"
   },
   {
    "duration": 12,
    "start_time": "2021-12-10T15:50:15.473Z"
   },
   {
    "duration": 13,
    "start_time": "2021-12-10T15:50:25.078Z"
   },
   {
    "duration": 13,
    "start_time": "2021-12-10T15:50:33.658Z"
   },
   {
    "duration": 15,
    "start_time": "2021-12-10T15:54:00.214Z"
   },
   {
    "duration": 13,
    "start_time": "2021-12-10T15:54:03.382Z"
   },
   {
    "duration": 20,
    "start_time": "2021-12-10T15:55:05.830Z"
   },
   {
    "duration": 20,
    "start_time": "2021-12-10T15:57:14.699Z"
   },
   {
    "duration": 24,
    "start_time": "2021-12-10T15:57:51.028Z"
   },
   {
    "duration": 29,
    "start_time": "2021-12-10T15:58:23.977Z"
   },
   {
    "duration": 28,
    "start_time": "2021-12-10T15:59:34.942Z"
   },
   {
    "duration": 14,
    "start_time": "2021-12-10T15:59:59.945Z"
   },
   {
    "duration": 21,
    "start_time": "2021-12-10T16:00:56.428Z"
   },
   {
    "duration": 26,
    "start_time": "2021-12-10T17:07:50.842Z"
   },
   {
    "duration": 24,
    "start_time": "2021-12-10T17:13:26.610Z"
   },
   {
    "duration": 25,
    "start_time": "2021-12-10T17:14:00.256Z"
   },
   {
    "duration": 28,
    "start_time": "2021-12-10T17:15:06.973Z"
   },
   {
    "duration": 32,
    "start_time": "2021-12-10T17:30:10.509Z"
   },
   {
    "duration": 264,
    "start_time": "2021-12-10T17:30:52.299Z"
   },
   {
    "duration": 25,
    "start_time": "2021-12-10T17:31:07.809Z"
   },
   {
    "duration": 27,
    "start_time": "2021-12-10T17:43:50.262Z"
   },
   {
    "duration": 467,
    "start_time": "2021-12-11T11:36:34.634Z"
   },
   {
    "duration": 888,
    "start_time": "2021-12-11T11:36:53.923Z"
   },
   {
    "duration": 27,
    "start_time": "2021-12-11T11:36:54.814Z"
   },
   {
    "duration": 8,
    "start_time": "2021-12-11T11:36:54.860Z"
   },
   {
    "duration": 5,
    "start_time": "2021-12-11T11:36:54.871Z"
   },
   {
    "duration": 9,
    "start_time": "2021-12-11T11:36:54.878Z"
   },
   {
    "duration": 9,
    "start_time": "2021-12-11T11:36:54.889Z"
   },
   {
    "duration": 9,
    "start_time": "2021-12-11T11:36:54.900Z"
   },
   {
    "duration": 8,
    "start_time": "2021-12-11T11:36:54.959Z"
   },
   {
    "duration": 9,
    "start_time": "2021-12-11T11:36:54.970Z"
   },
   {
    "duration": 10,
    "start_time": "2021-12-11T11:36:54.981Z"
   },
   {
    "duration": 10,
    "start_time": "2021-12-11T11:36:54.994Z"
   },
   {
    "duration": 6,
    "start_time": "2021-12-11T11:36:55.007Z"
   },
   {
    "duration": 54,
    "start_time": "2021-12-11T11:36:55.015Z"
   },
   {
    "duration": 30,
    "start_time": "2021-12-11T11:36:55.071Z"
   },
   {
    "duration": 18,
    "start_time": "2021-12-11T11:36:55.104Z"
   },
   {
    "duration": 36,
    "start_time": "2021-12-11T11:36:55.125Z"
   },
   {
    "duration": 10,
    "start_time": "2021-12-11T11:36:55.163Z"
   },
   {
    "duration": 15,
    "start_time": "2021-12-11T11:36:55.176Z"
   },
   {
    "duration": 6,
    "start_time": "2021-12-11T11:36:55.194Z"
   },
   {
    "duration": 56,
    "start_time": "2021-12-11T11:36:55.203Z"
   },
   {
    "duration": 845,
    "start_time": "2021-12-11T11:36:55.261Z"
   },
   {
    "duration": 14,
    "start_time": "2021-12-11T11:36:56.108Z"
   },
   {
    "duration": 34,
    "start_time": "2021-12-11T11:36:56.127Z"
   },
   {
    "duration": 9,
    "start_time": "2021-12-11T11:36:56.164Z"
   },
   {
    "duration": 12,
    "start_time": "2021-12-11T11:36:56.176Z"
   },
   {
    "duration": 6,
    "start_time": "2021-12-11T11:36:56.190Z"
   },
   {
    "duration": 65,
    "start_time": "2021-12-11T11:36:56.198Z"
   },
   {
    "duration": 28,
    "start_time": "2021-12-11T11:36:56.265Z"
   },
   {
    "duration": 16,
    "start_time": "2021-12-11T11:36:56.295Z"
   },
   {
    "duration": 17,
    "start_time": "2021-12-11T11:36:56.314Z"
   },
   {
    "duration": 945,
    "start_time": "2021-12-11T11:36:56.360Z"
   },
   {
    "duration": 783,
    "start_time": "2021-12-11T11:36:57.308Z"
   },
   {
    "duration": 22,
    "start_time": "2021-12-11T11:36:58.094Z"
   },
   {
    "duration": 60,
    "start_time": "2021-12-11T11:36:58.119Z"
   },
   {
    "duration": 40,
    "start_time": "2021-12-11T11:36:58.182Z"
   },
   {
    "duration": 14,
    "start_time": "2021-12-11T11:36:58.224Z"
   },
   {
    "duration": 44,
    "start_time": "2021-12-11T11:36:58.260Z"
   },
   {
    "duration": 34,
    "start_time": "2021-12-11T11:37:06.069Z"
   },
   {
    "duration": 32,
    "start_time": "2021-12-11T11:37:49.034Z"
   },
   {
    "duration": 38,
    "start_time": "2021-12-11T11:38:05.380Z"
   },
   {
    "duration": 22,
    "start_time": "2021-12-11T11:38:32.357Z"
   },
   {
    "duration": 23,
    "start_time": "2021-12-11T11:39:24.923Z"
   },
   {
    "duration": 22,
    "start_time": "2021-12-11T11:39:34.289Z"
   },
   {
    "duration": 21,
    "start_time": "2021-12-11T11:39:41.333Z"
   },
   {
    "duration": 40,
    "start_time": "2021-12-11T11:40:11.180Z"
   },
   {
    "duration": 39,
    "start_time": "2021-12-11T11:41:00.925Z"
   },
   {
    "duration": 20,
    "start_time": "2021-12-11T11:41:38.125Z"
   },
   {
    "duration": 37,
    "start_time": "2021-12-11T11:41:39.791Z"
   },
   {
    "duration": 31,
    "start_time": "2021-12-11T11:42:15.785Z"
   },
   {
    "duration": 38,
    "start_time": "2021-12-11T11:42:21.251Z"
   },
   {
    "duration": 536,
    "start_time": "2021-12-11T11:43:28.414Z"
   },
   {
    "duration": 420,
    "start_time": "2021-12-11T11:43:42.660Z"
   },
   {
    "duration": 43,
    "start_time": "2021-12-11T11:44:05.787Z"
   },
   {
    "duration": 39,
    "start_time": "2021-12-11T11:44:26.896Z"
   },
   {
    "duration": 42,
    "start_time": "2021-12-11T11:44:35.320Z"
   },
   {
    "duration": 39,
    "start_time": "2021-12-11T11:44:39.403Z"
   },
   {
    "duration": 21,
    "start_time": "2021-12-11T11:45:26.787Z"
   },
   {
    "duration": 42,
    "start_time": "2021-12-11T11:45:28.048Z"
   },
   {
    "duration": 21,
    "start_time": "2021-12-11T11:45:51.527Z"
   },
   {
    "duration": 39,
    "start_time": "2021-12-11T11:45:52.776Z"
   },
   {
    "duration": 80,
    "start_time": "2021-12-11T11:48:24.064Z"
   },
   {
    "duration": 30,
    "start_time": "2021-12-11T11:48:24.159Z"
   },
   {
    "duration": 19,
    "start_time": "2021-12-11T11:48:24.192Z"
   },
   {
    "duration": 9,
    "start_time": "2021-12-11T11:48:24.214Z"
   },
   {
    "duration": 12,
    "start_time": "2021-12-11T11:48:24.263Z"
   },
   {
    "duration": 13,
    "start_time": "2021-12-11T11:48:24.278Z"
   },
   {
    "duration": 16,
    "start_time": "2021-12-11T11:48:24.294Z"
   },
   {
    "duration": 17,
    "start_time": "2021-12-11T11:48:24.315Z"
   },
   {
    "duration": 14,
    "start_time": "2021-12-11T11:48:24.362Z"
   },
   {
    "duration": 15,
    "start_time": "2021-12-11T11:48:24.379Z"
   },
   {
    "duration": 10,
    "start_time": "2021-12-11T11:48:24.397Z"
   },
   {
    "duration": 11,
    "start_time": "2021-12-11T11:48:24.409Z"
   },
   {
    "duration": 47,
    "start_time": "2021-12-11T11:48:24.423Z"
   },
   {
    "duration": 23,
    "start_time": "2021-12-11T11:48:24.476Z"
   },
   {
    "duration": 20,
    "start_time": "2021-12-11T11:48:24.502Z"
   },
   {
    "duration": 59,
    "start_time": "2021-12-11T11:48:24.525Z"
   },
   {
    "duration": 15,
    "start_time": "2021-12-11T11:48:24.588Z"
   },
   {
    "duration": 14,
    "start_time": "2021-12-11T11:48:24.605Z"
   },
   {
    "duration": 5,
    "start_time": "2021-12-11T11:48:24.622Z"
   },
   {
    "duration": 38,
    "start_time": "2021-12-11T11:48:24.629Z"
   },
   {
    "duration": 920,
    "start_time": "2021-12-11T11:48:24.670Z"
   },
   {
    "duration": 13,
    "start_time": "2021-12-11T11:48:25.592Z"
   },
   {
    "duration": 18,
    "start_time": "2021-12-11T11:48:25.610Z"
   },
   {
    "duration": 35,
    "start_time": "2021-12-11T11:48:25.632Z"
   },
   {
    "duration": 22,
    "start_time": "2021-12-11T11:48:25.670Z"
   },
   {
    "duration": 6,
    "start_time": "2021-12-11T11:48:25.694Z"
   },
   {
    "duration": 16,
    "start_time": "2021-12-11T11:48:25.703Z"
   },
   {
    "duration": 70,
    "start_time": "2021-12-11T11:48:25.721Z"
   },
   {
    "duration": 11,
    "start_time": "2021-12-11T11:48:25.793Z"
   },
   {
    "duration": 15,
    "start_time": "2021-12-11T11:48:25.807Z"
   },
   {
    "duration": 1048,
    "start_time": "2021-12-11T11:48:25.860Z"
   },
   {
    "duration": 6,
    "start_time": "2021-12-11T11:48:26.911Z"
   },
   {
    "duration": 42,
    "start_time": "2021-12-11T11:48:26.919Z"
   },
   {
    "duration": 49,
    "start_time": "2021-12-11T11:48:26.964Z"
   },
   {
    "duration": 75,
    "start_time": "2021-12-11T11:48:27.016Z"
   },
   {
    "duration": 25,
    "start_time": "2021-12-11T11:48:27.093Z"
   },
   {
    "duration": 78,
    "start_time": "2021-12-11T11:48:27.121Z"
   },
   {
    "duration": 57,
    "start_time": "2021-12-11T11:48:27.202Z"
   },
   {
    "duration": 10,
    "start_time": "2021-12-11T11:58:32.153Z"
   },
   {
    "duration": 26,
    "start_time": "2021-12-11T11:58:59.637Z"
   },
   {
    "duration": 839,
    "start_time": "2021-12-11T11:59:16.738Z"
   },
   {
    "duration": 429,
    "start_time": "2021-12-11T11:59:42.698Z"
   },
   {
    "duration": 43,
    "start_time": "2021-12-11T12:00:28.674Z"
   },
   {
    "duration": 23,
    "start_time": "2021-12-11T12:01:34.555Z"
   },
   {
    "duration": 85,
    "start_time": "2021-12-11T12:02:04.273Z"
   },
   {
    "duration": 23,
    "start_time": "2021-12-11T12:02:04.361Z"
   },
   {
    "duration": 17,
    "start_time": "2021-12-11T12:02:04.387Z"
   },
   {
    "duration": 7,
    "start_time": "2021-12-11T12:02:04.407Z"
   },
   {
    "duration": 56,
    "start_time": "2021-12-11T12:02:04.417Z"
   },
   {
    "duration": 17,
    "start_time": "2021-12-11T12:02:04.476Z"
   },
   {
    "duration": 23,
    "start_time": "2021-12-11T12:02:04.496Z"
   },
   {
    "duration": 9,
    "start_time": "2021-12-11T12:02:04.524Z"
   },
   {
    "duration": 15,
    "start_time": "2021-12-11T12:02:04.561Z"
   },
   {
    "duration": 13,
    "start_time": "2021-12-11T12:02:04.579Z"
   },
   {
    "duration": 12,
    "start_time": "2021-12-11T12:02:04.594Z"
   },
   {
    "duration": 7,
    "start_time": "2021-12-11T12:02:04.609Z"
   },
   {
    "duration": 52,
    "start_time": "2021-12-11T12:02:04.618Z"
   },
   {
    "duration": 39,
    "start_time": "2021-12-11T12:02:04.672Z"
   },
   {
    "duration": 28,
    "start_time": "2021-12-11T12:02:04.714Z"
   },
   {
    "duration": 37,
    "start_time": "2021-12-11T12:02:04.745Z"
   },
   {
    "duration": 9,
    "start_time": "2021-12-11T12:02:04.784Z"
   },
   {
    "duration": 15,
    "start_time": "2021-12-11T12:02:04.795Z"
   },
   {
    "duration": 6,
    "start_time": "2021-12-11T12:02:04.812Z"
   },
   {
    "duration": 54,
    "start_time": "2021-12-11T12:02:04.820Z"
   },
   {
    "duration": 964,
    "start_time": "2021-12-11T12:02:04.877Z"
   },
   {
    "duration": 20,
    "start_time": "2021-12-11T12:02:05.844Z"
   },
   {
    "duration": 18,
    "start_time": "2021-12-11T12:02:05.870Z"
   },
   {
    "duration": 8,
    "start_time": "2021-12-11T12:02:05.891Z"
   },
   {
    "duration": 13,
    "start_time": "2021-12-11T12:02:05.901Z"
   },
   {
    "duration": 13,
    "start_time": "2021-12-11T12:02:05.916Z"
   },
   {
    "duration": 49,
    "start_time": "2021-12-11T12:02:05.931Z"
   },
   {
    "duration": 33,
    "start_time": "2021-12-11T12:02:05.983Z"
   },
   {
    "duration": 53,
    "start_time": "2021-12-11T12:02:06.019Z"
   },
   {
    "duration": 26,
    "start_time": "2021-12-11T12:02:06.074Z"
   },
   {
    "duration": 1042,
    "start_time": "2021-12-11T12:02:06.103Z"
   },
   {
    "duration": 11,
    "start_time": "2021-12-11T12:02:07.148Z"
   },
   {
    "duration": 29,
    "start_time": "2021-12-11T12:02:07.162Z"
   },
   {
    "duration": 79,
    "start_time": "2021-12-11T12:02:07.193Z"
   },
   {
    "duration": 60,
    "start_time": "2021-12-11T12:02:07.275Z"
   },
   {
    "duration": 44,
    "start_time": "2021-12-11T12:02:07.337Z"
   },
   {
    "duration": 45,
    "start_time": "2021-12-11T12:02:07.383Z"
   },
   {
    "duration": 58,
    "start_time": "2021-12-11T12:02:07.431Z"
   },
   {
    "duration": 3,
    "start_time": "2021-12-11T12:04:19.973Z"
   },
   {
    "duration": 130,
    "start_time": "2021-12-11T12:04:24.152Z"
   },
   {
    "duration": 22,
    "start_time": "2021-12-11T12:04:24.286Z"
   },
   {
    "duration": 13,
    "start_time": "2021-12-11T12:04:24.313Z"
   },
   {
    "duration": 8,
    "start_time": "2021-12-11T12:04:24.361Z"
   },
   {
    "duration": 15,
    "start_time": "2021-12-11T12:04:24.371Z"
   },
   {
    "duration": 9,
    "start_time": "2021-12-11T12:04:24.389Z"
   },
   {
    "duration": 12,
    "start_time": "2021-12-11T12:04:24.401Z"
   },
   {
    "duration": 47,
    "start_time": "2021-12-11T12:04:24.416Z"
   },
   {
    "duration": 11,
    "start_time": "2021-12-11T12:04:24.466Z"
   },
   {
    "duration": 14,
    "start_time": "2021-12-11T12:04:24.481Z"
   },
   {
    "duration": 9,
    "start_time": "2021-12-11T12:04:24.498Z"
   },
   {
    "duration": 8,
    "start_time": "2021-12-11T12:04:24.509Z"
   },
   {
    "duration": 18,
    "start_time": "2021-12-11T12:04:24.560Z"
   },
   {
    "duration": 42,
    "start_time": "2021-12-11T12:04:24.581Z"
   },
   {
    "duration": 40,
    "start_time": "2021-12-11T12:04:24.626Z"
   },
   {
    "duration": 4,
    "start_time": "2021-12-11T12:04:24.672Z"
   },
   {
    "duration": 14,
    "start_time": "2021-12-11T12:04:24.679Z"
   },
   {
    "duration": 14,
    "start_time": "2021-12-11T12:04:24.695Z"
   },
   {
    "duration": 7,
    "start_time": "2021-12-11T12:04:24.711Z"
   },
   {
    "duration": 53,
    "start_time": "2021-12-11T12:04:24.720Z"
   },
   {
    "duration": 1348,
    "start_time": "2021-12-11T12:04:24.776Z"
   },
   {
    "duration": 14,
    "start_time": "2021-12-11T12:04:26.127Z"
   },
   {
    "duration": 28,
    "start_time": "2021-12-11T12:04:26.169Z"
   },
   {
    "duration": 8,
    "start_time": "2021-12-11T12:04:26.200Z"
   },
   {
    "duration": 10,
    "start_time": "2021-12-11T12:04:26.211Z"
   },
   {
    "duration": 40,
    "start_time": "2021-12-11T12:04:26.224Z"
   },
   {
    "duration": 22,
    "start_time": "2021-12-11T12:04:26.268Z"
   },
   {
    "duration": 34,
    "start_time": "2021-12-11T12:04:26.293Z"
   },
   {
    "duration": 51,
    "start_time": "2021-12-11T12:04:26.330Z"
   },
   {
    "duration": 24,
    "start_time": "2021-12-11T12:04:26.384Z"
   },
   {
    "duration": 1061,
    "start_time": "2021-12-11T12:04:26.411Z"
   },
   {
    "duration": 11,
    "start_time": "2021-12-11T12:04:27.475Z"
   },
   {
    "duration": 44,
    "start_time": "2021-12-11T12:04:27.490Z"
   },
   {
    "duration": 74,
    "start_time": "2021-12-11T12:04:27.537Z"
   },
   {
    "duration": 68,
    "start_time": "2021-12-11T12:04:27.614Z"
   },
   {
    "duration": 25,
    "start_time": "2021-12-11T12:04:27.684Z"
   },
   {
    "duration": 78,
    "start_time": "2021-12-11T12:04:27.712Z"
   },
   {
    "duration": 42,
    "start_time": "2021-12-11T12:04:27.792Z"
   },
   {
    "duration": 143,
    "start_time": "2021-12-11T12:07:26.697Z"
   },
   {
    "duration": 142,
    "start_time": "2021-12-11T12:08:18.634Z"
   },
   {
    "duration": 141,
    "start_time": "2021-12-11T12:08:59.509Z"
   },
   {
    "duration": 79,
    "start_time": "2021-12-11T12:09:24.952Z"
   },
   {
    "duration": 40,
    "start_time": "2021-12-11T12:09:25.034Z"
   },
   {
    "duration": 9,
    "start_time": "2021-12-11T12:09:25.077Z"
   },
   {
    "duration": 6,
    "start_time": "2021-12-11T12:09:25.089Z"
   },
   {
    "duration": 11,
    "start_time": "2021-12-11T12:09:25.097Z"
   },
   {
    "duration": 54,
    "start_time": "2021-12-11T12:09:25.110Z"
   },
   {
    "duration": 12,
    "start_time": "2021-12-11T12:09:25.167Z"
   },
   {
    "duration": 14,
    "start_time": "2021-12-11T12:09:25.183Z"
   },
   {
    "duration": 10,
    "start_time": "2021-12-11T12:09:25.200Z"
   },
   {
    "duration": 52,
    "start_time": "2021-12-11T12:09:25.212Z"
   },
   {
    "duration": 13,
    "start_time": "2021-12-11T12:09:25.266Z"
   },
   {
    "duration": 6,
    "start_time": "2021-12-11T12:09:25.281Z"
   },
   {
    "duration": 11,
    "start_time": "2021-12-11T12:09:25.290Z"
   },
   {
    "duration": 56,
    "start_time": "2021-12-11T12:09:25.304Z"
   },
   {
    "duration": 18,
    "start_time": "2021-12-11T12:09:25.363Z"
   },
   {
    "duration": 5,
    "start_time": "2021-12-11T12:09:25.383Z"
   },
   {
    "duration": 10,
    "start_time": "2021-12-11T12:09:25.390Z"
   },
   {
    "duration": 15,
    "start_time": "2021-12-11T12:09:25.402Z"
   },
   {
    "duration": 40,
    "start_time": "2021-12-11T12:09:25.419Z"
   },
   {
    "duration": 14,
    "start_time": "2021-12-11T12:09:25.462Z"
   },
   {
    "duration": 851,
    "start_time": "2021-12-11T12:09:25.478Z"
   },
   {
    "duration": 13,
    "start_time": "2021-12-11T12:09:26.331Z"
   },
   {
    "duration": 18,
    "start_time": "2021-12-11T12:09:26.362Z"
   },
   {
    "duration": 8,
    "start_time": "2021-12-11T12:09:26.383Z"
   },
   {
    "duration": 9,
    "start_time": "2021-12-11T12:09:26.393Z"
   },
   {
    "duration": 6,
    "start_time": "2021-12-11T12:09:26.405Z"
   },
   {
    "duration": 55,
    "start_time": "2021-12-11T12:09:26.413Z"
   },
   {
    "duration": 31,
    "start_time": "2021-12-11T12:09:26.470Z"
   },
   {
    "duration": 11,
    "start_time": "2021-12-11T12:09:26.503Z"
   },
   {
    "duration": 43,
    "start_time": "2021-12-11T12:09:26.517Z"
   },
   {
    "duration": 976,
    "start_time": "2021-12-11T12:09:26.563Z"
   },
   {
    "duration": 17,
    "start_time": "2021-12-11T12:09:27.542Z"
   },
   {
    "duration": 29,
    "start_time": "2021-12-11T12:09:27.561Z"
   },
   {
    "duration": 45,
    "start_time": "2021-12-11T12:09:27.592Z"
   },
   {
    "duration": 41,
    "start_time": "2021-12-11T12:09:27.659Z"
   },
   {
    "duration": 21,
    "start_time": "2021-12-11T12:09:27.703Z"
   },
   {
    "duration": 70,
    "start_time": "2021-12-11T12:09:27.726Z"
   },
   {
    "duration": 41,
    "start_time": "2021-12-11T12:09:27.799Z"
   },
   {
    "duration": 852,
    "start_time": "2021-12-12T09:52:19.259Z"
   },
   {
    "duration": 29,
    "start_time": "2021-12-12T09:52:20.114Z"
   },
   {
    "duration": 8,
    "start_time": "2021-12-12T09:52:20.146Z"
   },
   {
    "duration": 6,
    "start_time": "2021-12-12T09:52:20.157Z"
   },
   {
    "duration": 10,
    "start_time": "2021-12-12T09:52:20.165Z"
   },
   {
    "duration": 48,
    "start_time": "2021-12-12T09:52:20.177Z"
   },
   {
    "duration": 20,
    "start_time": "2021-12-12T09:52:20.227Z"
   },
   {
    "duration": 8,
    "start_time": "2021-12-12T09:52:20.250Z"
   },
   {
    "duration": 10,
    "start_time": "2021-12-12T09:52:20.262Z"
   },
   {
    "duration": 49,
    "start_time": "2021-12-12T09:52:20.274Z"
   },
   {
    "duration": 16,
    "start_time": "2021-12-12T09:52:20.326Z"
   },
   {
    "duration": 7,
    "start_time": "2021-12-12T09:52:20.345Z"
   },
   {
    "duration": 11,
    "start_time": "2021-12-12T09:52:20.355Z"
   },
   {
    "duration": 67,
    "start_time": "2021-12-12T09:52:20.368Z"
   },
   {
    "duration": 18,
    "start_time": "2021-12-12T09:52:20.437Z"
   },
   {
    "duration": 5,
    "start_time": "2021-12-12T09:52:20.458Z"
   },
   {
    "duration": 10,
    "start_time": "2021-12-12T09:52:20.465Z"
   },
   {
    "duration": 39,
    "start_time": "2021-12-12T09:52:20.478Z"
   },
   {
    "duration": 6,
    "start_time": "2021-12-12T09:52:20.519Z"
   },
   {
    "duration": 35,
    "start_time": "2021-12-12T09:53:12.338Z"
   },
   {
    "duration": 56,
    "start_time": "2021-12-12T09:53:23.295Z"
   },
   {
    "duration": 37,
    "start_time": "2021-12-12T09:54:42.374Z"
   },
   {
    "duration": 28,
    "start_time": "2021-12-12T09:55:30.172Z"
   },
   {
    "duration": 6,
    "start_time": "2021-12-12T09:55:38.323Z"
   },
   {
    "duration": 5,
    "start_time": "2021-12-12T09:55:44.523Z"
   },
   {
    "duration": 1019,
    "start_time": "2021-12-12T09:58:02.330Z"
   },
   {
    "duration": 19,
    "start_time": "2021-12-12T10:01:18.882Z"
   },
   {
    "duration": 27,
    "start_time": "2021-12-12T10:01:24.599Z"
   }
  ],
  "kernelspec": {
   "display_name": "Python 3",
   "language": "python",
   "name": "python3"
  },
  "language_info": {
   "codemirror_mode": {
    "name": "ipython",
    "version": 3
   },
   "file_extension": ".py",
   "mimetype": "text/x-python",
   "name": "python",
   "nbconvert_exporter": "python",
   "pygments_lexer": "ipython3",
   "version": "3.7.12"
  },
  "toc": {
   "base_numbering": 1,
   "nav_menu": {},
   "number_sections": true,
   "sideBar": true,
   "skip_h1_title": true,
   "title_cell": "Table of Contents",
   "title_sidebar": "Contents",
   "toc_cell": false,
   "toc_position": {
    "height": "calc(100% - 180px)",
    "left": "10px",
    "top": "150px",
    "width": "291.81px"
   },
   "toc_section_display": true,
   "toc_window_display": true
  }
 },
 "nbformat": 4,
 "nbformat_minor": 2
}
