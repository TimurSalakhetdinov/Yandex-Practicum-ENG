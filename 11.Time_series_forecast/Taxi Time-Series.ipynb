{
 "cells": [
  {
   "cell_type": "markdown",
   "metadata": {
    "toc": true
   },
   "source": [
    "<h1>Содержание<span class=\"tocSkip\"></span></h1>\n",
    "<div class=\"toc\"><ul class=\"toc-item\"><li><span><a href=\"#Подготовка\" data-toc-modified-id=\"Подготовка-1\"><span class=\"toc-item-num\">1&nbsp;&nbsp;</span>Подготовка</a></span></li><li><span><a href=\"#Анализ\" data-toc-modified-id=\"Анализ-2\"><span class=\"toc-item-num\">2&nbsp;&nbsp;</span>Анализ</a></span></li><li><span><a href=\"#Обучение\" data-toc-modified-id=\"Обучение-3\"><span class=\"toc-item-num\">3&nbsp;&nbsp;</span>Обучение</a></span></li><li><span><a href=\"#Тестирование\" data-toc-modified-id=\"Тестирование-4\"><span class=\"toc-item-num\">4&nbsp;&nbsp;</span>Тестирование</a></span></li><li><span><a href=\"#Чек-лист-проверки\" data-toc-modified-id=\"Чек-лист-проверки-5\"><span class=\"toc-item-num\">5&nbsp;&nbsp;</span>Чек-лист проверки</a></span></li></ul></div>"
   ]
  },
  {
   "cell_type": "markdown",
   "metadata": {},
   "source": [
    "#  Прогнозирование заказов такси"
   ]
  },
  {
   "cell_type": "markdown",
   "metadata": {},
   "source": [
    "Компания «Чётенькое такси» собрала исторические данные о заказах такси в аэропортах. Чтобы привлекать больше водителей в период пиковой нагрузки, нужно спрогнозировать количество заказов такси на следующий час. Построим модель для такого предсказания.\n",
    "\n",
    "Значение метрики *RMSE* на тестовой выборке должно быть не больше 48.\n",
    "\n",
    "Нам нужно:\n",
    "\n",
    "1. Загрузить данные и выполнить их ресемплирование по одному часу.\n",
    "2. Проанализировать данные.\n",
    "3. Обучить разные модели с различными гиперпараметрами. Сделать тестовую выборку размером 10% от исходных данных.\n",
    "4. Проверить данные на тестовой выборке и сделать выводы.\n",
    "\n",
    "\n",
    "Данные лежат в файле `taxi.csv`. Количество заказов находится в столбце `num_orders`."
   ]
  },
  {
   "cell_type": "markdown",
   "metadata": {},
   "source": [
    "## Подготовка"
   ]
  },
  {
   "cell_type": "code",
   "execution_count": 1,
   "metadata": {},
   "outputs": [],
   "source": [
    "# Загрузим все необходимые библиотеки:\n",
    "import pandas as pd\n",
    "import numpy as np\n",
    "import matplotlib.pyplot as plt\n",
    "import seaborn as sns\n",
    "import time\n",
    "from sklearn.model_selection import train_test_split\n",
    "from statsmodels.tsa.seasonal import seasonal_decompose\n",
    "from sklearn.preprocessing import OrdinalEncoder, StandardScaler\n",
    "from sklearn.model_selection import TimeSeriesSplit, GridSearchCV\n",
    "from sklearn.linear_model import LinearRegression, Ridge\n",
    "from sklearn.ensemble import RandomForestRegressor\n",
    "from lightgbm import LGBMRegressor\n",
    "from sklearn.dummy import DummyRegressor\n",
    "from sklearn.metrics import mean_squared_error\n",
    "import warnings \n",
    "warnings.filterwarnings('ignore')"
   ]
  },
  {
   "cell_type": "code",
   "execution_count": 2,
   "metadata": {},
   "outputs": [
    {
     "name": "stdout",
     "output_type": "stream",
     "text": [
      "<class 'pandas.core.frame.DataFrame'>\n",
      "DatetimeIndex: 26496 entries, 2018-03-01 00:00:00 to 2018-08-31 23:50:00\n",
      "Data columns (total 1 columns):\n",
      " #   Column      Non-Null Count  Dtype\n",
      "---  ------      --------------  -----\n",
      " 0   num_orders  26496 non-null  int64\n",
      "dtypes: int64(1)\n",
      "memory usage: 414.0 KB\n"
     ]
    },
    {
     "data": {
      "text/plain": [
       "None"
      ]
     },
     "metadata": {},
     "output_type": "display_data"
    },
    {
     "data": {
      "text/html": [
       "<div>\n",
       "<style scoped>\n",
       "    .dataframe tbody tr th:only-of-type {\n",
       "        vertical-align: middle;\n",
       "    }\n",
       "\n",
       "    .dataframe tbody tr th {\n",
       "        vertical-align: top;\n",
       "    }\n",
       "\n",
       "    .dataframe thead th {\n",
       "        text-align: right;\n",
       "    }\n",
       "</style>\n",
       "<table border=\"1\" class=\"dataframe\">\n",
       "  <thead>\n",
       "    <tr style=\"text-align: right;\">\n",
       "      <th></th>\n",
       "      <th>num_orders</th>\n",
       "    </tr>\n",
       "    <tr>\n",
       "      <th>datetime</th>\n",
       "      <th></th>\n",
       "    </tr>\n",
       "  </thead>\n",
       "  <tbody>\n",
       "    <tr>\n",
       "      <th>2018-03-01 00:00:00</th>\n",
       "      <td>9</td>\n",
       "    </tr>\n",
       "    <tr>\n",
       "      <th>2018-03-01 00:10:00</th>\n",
       "      <td>14</td>\n",
       "    </tr>\n",
       "    <tr>\n",
       "      <th>2018-03-01 00:20:00</th>\n",
       "      <td>28</td>\n",
       "    </tr>\n",
       "    <tr>\n",
       "      <th>2018-03-01 00:30:00</th>\n",
       "      <td>20</td>\n",
       "    </tr>\n",
       "    <tr>\n",
       "      <th>2018-03-01 00:40:00</th>\n",
       "      <td>32</td>\n",
       "    </tr>\n",
       "  </tbody>\n",
       "</table>\n",
       "</div>"
      ],
      "text/plain": [
       "                     num_orders\n",
       "datetime                       \n",
       "2018-03-01 00:00:00           9\n",
       "2018-03-01 00:10:00          14\n",
       "2018-03-01 00:20:00          28\n",
       "2018-03-01 00:30:00          20\n",
       "2018-03-01 00:40:00          32"
      ]
     },
     "metadata": {},
     "output_type": "display_data"
    },
    {
     "data": {
      "text/html": [
       "<div>\n",
       "<style scoped>\n",
       "    .dataframe tbody tr th:only-of-type {\n",
       "        vertical-align: middle;\n",
       "    }\n",
       "\n",
       "    .dataframe tbody tr th {\n",
       "        vertical-align: top;\n",
       "    }\n",
       "\n",
       "    .dataframe thead th {\n",
       "        text-align: right;\n",
       "    }\n",
       "</style>\n",
       "<table border=\"1\" class=\"dataframe\">\n",
       "  <thead>\n",
       "    <tr style=\"text-align: right;\">\n",
       "      <th></th>\n",
       "      <th>num_orders</th>\n",
       "    </tr>\n",
       "  </thead>\n",
       "  <tbody>\n",
       "    <tr>\n",
       "      <th>count</th>\n",
       "      <td>26496.000000</td>\n",
       "    </tr>\n",
       "    <tr>\n",
       "      <th>mean</th>\n",
       "      <td>14.070463</td>\n",
       "    </tr>\n",
       "    <tr>\n",
       "      <th>std</th>\n",
       "      <td>9.211330</td>\n",
       "    </tr>\n",
       "    <tr>\n",
       "      <th>min</th>\n",
       "      <td>0.000000</td>\n",
       "    </tr>\n",
       "    <tr>\n",
       "      <th>25%</th>\n",
       "      <td>8.000000</td>\n",
       "    </tr>\n",
       "    <tr>\n",
       "      <th>50%</th>\n",
       "      <td>13.000000</td>\n",
       "    </tr>\n",
       "    <tr>\n",
       "      <th>75%</th>\n",
       "      <td>19.000000</td>\n",
       "    </tr>\n",
       "    <tr>\n",
       "      <th>max</th>\n",
       "      <td>119.000000</td>\n",
       "    </tr>\n",
       "  </tbody>\n",
       "</table>\n",
       "</div>"
      ],
      "text/plain": [
       "         num_orders\n",
       "count  26496.000000\n",
       "mean      14.070463\n",
       "std        9.211330\n",
       "min        0.000000\n",
       "25%        8.000000\n",
       "50%       13.000000\n",
       "75%       19.000000\n",
       "max      119.000000"
      ]
     },
     "metadata": {},
     "output_type": "display_data"
    },
    {
     "name": "stdout",
     "output_type": "stream",
     "text": [
      "Хронологический порядок даты и времени: True\n"
     ]
    }
   ],
   "source": [
    "# Выведем данные:\n",
    "data = pd.read_csv('/datasets/taxi.csv', index_col=[0], parse_dates=[0])\n",
    "\n",
    "# Выведем все необходимые характеристики данных:\n",
    "def analize(table):\n",
    "    display(table.info())\n",
    "    display(table.head())\n",
    "    display(table.describe())\n",
    "    print('Хронологический порядок даты и времени:', table.index.is_monotonic)\n",
    "\n",
    "analize(data)"
   ]
  },
  {
   "cell_type": "markdown",
   "metadata": {},
   "source": [
    "Пропусков нет. Данные в хронологическом порядке."
   ]
  },
  {
   "cell_type": "markdown",
   "metadata": {},
   "source": [
    "## Анализ"
   ]
  },
  {
   "cell_type": "code",
   "execution_count": 3,
   "metadata": {},
   "outputs": [
    {
     "data": {
      "text/plain": [
       "<AxesSubplot:xlabel='datetime'>"
      ]
     },
     "execution_count": 3,
     "metadata": {},
     "output_type": "execute_result"
    },
    {
     "data": {
      "image/png": "[encoded data removed]",
      "text/plain": [
       "<Figure size 432x288 with 1 Axes>"
      ]
     },
     "metadata": {
      "needs_background": "light"
     },
     "output_type": "display_data"
    }
   ],
   "source": [
    "# Построим график из имеющихся данных:\n",
    "data.plot()"
   ]
  },
  {
   "cell_type": "markdown",
   "metadata": {},
   "source": [
    "В августе больше всего заказов."
   ]
  },
  {
   "cell_type": "code",
   "execution_count": 4,
   "metadata": {},
   "outputs": [
    {
     "data": {
      "text/plain": [
       "<AxesSubplot:xlabel='datetime'>"
      ]
     },
     "execution_count": 4,
     "metadata": {},
     "output_type": "execute_result"
    },
    {
     "data": {
      "image/png": "[encoded data removed]",
      "text/plain": [
       "<Figure size 432x288 with 1 Axes>"
      ]
     },
     "metadata": {
      "needs_background": "light"
     },
     "output_type": "display_data"
    }
   ],
   "source": [
    "# Проведем ресемплирование данных по одному часу:\n",
    "data = data.resample('1H').sum()\n",
    "data.plot()"
   ]
  },
  {
   "cell_type": "code",
   "execution_count": 5,
   "metadata": {},
   "outputs": [
    {
     "data": {
      "image/png": "[encoded data removed]",
      "text/plain": [
       "<Figure size 432x576 with 3 Axes>"
      ]
     },
     "metadata": {
      "needs_background": "light"
     },
     "output_type": "display_data"
    }
   ],
   "source": [
    "# Разложим временной ряд на тренд и сезонную компоненту:\n",
    "decomposed = seasonal_decompose(data)\n",
    "\n",
    "plt.figure(figsize=(6, 8))\n",
    "plt.subplot(311)\n",
    "decomposed.trend.plot(ax=plt.gca())\n",
    "plt.title('Trend')\n",
    "plt.subplot(312)\n",
    "decomposed.seasonal.plot(ax=plt.gca())\n",
    "plt.title('Seasonality')\n",
    "plt.subplot(313)\n",
    "decomposed.resid.plot(ax=plt.gca())\n",
    "plt.title('Residuals')\n",
    "plt.tight_layout()"
   ]
  },
  {
   "cell_type": "markdown",
   "metadata": {},
   "source": [
    "**Вывод:** В наличии возрастающий тренд, особенно в августе, и сезонность изменения числа заказов."
   ]
  },
  {
   "cell_type": "markdown",
   "metadata": {},
   "source": [
    "Выделим два вида сезонности в данных:\n",
    "* дневная сезонность - по дням недели,\n",
    "* внутрисуточная сезонность - утро, день или вечер."
   ]
  },
  {
   "cell_type": "code",
   "execution_count": 6,
   "metadata": {},
   "outputs": [
    {
     "data": {
      "text/plain": [
       "<AxesSubplot:xlabel='datetime'>"
      ]
     },
     "execution_count": 6,
     "metadata": {},
     "output_type": "execute_result"
    },
    {
     "data": {
      "image/png": "[encoded data removed]",
      "text/plain": [
       "<Figure size 432x288 with 1 Axes>"
      ]
     },
     "metadata": {
      "needs_background": "light"
     },
     "output_type": "display_data"
    }
   ],
   "source": [
    "# Посмотрим на дневную сезонность на более коротком периоде - 2 недели по дням:\n",
    "data_1D = data.resample('1D').sum()\n",
    "\n",
    "decomposed = seasonal_decompose(data_1D)\n",
    "\n",
    "decomposed.seasonal['2018-03-01':'2018-03-15'].plot()"
   ]
  },
  {
   "cell_type": "markdown",
   "metadata": {},
   "source": [
    "Можно отметить здесь пиковые значения заказов такси по пятницам и понедельникам."
   ]
  },
  {
   "cell_type": "code",
   "execution_count": 7,
   "metadata": {},
   "outputs": [
    {
     "data": {
      "text/plain": [
       "<AxesSubplot:xlabel='datetime'>"
      ]
     },
     "execution_count": 7,
     "metadata": {},
     "output_type": "execute_result"
    },
    {
     "data": {
      "image/png": "[encoded data removed]",
      "text/plain": [
       "<Figure size 432x288 with 1 Axes>"
      ]
     },
     "metadata": {
      "needs_background": "light"
     },
     "output_type": "display_data"
    }
   ],
   "source": [
    "# Посмотрим на суточную сезонность на периоде - одного дня:\n",
    "data_1H = data.resample('1H').sum()\n",
    "\n",
    "decomposed = seasonal_decompose(data_1H)\n",
    "\n",
    "decomposed.seasonal['2018-03-01':'2018-03-01'].plot()"
   ]
  },
  {
   "cell_type": "markdown",
   "metadata": {},
   "source": [
    "Ночью и в обед спад в заказах, пик заказов утром с 8 до 10, вечером с 15 до 18, и поздним вечером с 21 до 24."
   ]
  },
  {
   "cell_type": "markdown",
   "metadata": {},
   "source": [
    "**Выводы:** Данные есть только с марта по сентябрь 2018. Сезонность можно рассмотреть только по дням недели и времени суток. На графиках присутствует сезонность по дням недели - больше всего заказов по пятницам и понедельникам, а также дневная сезонность утром, вечером и поздним вечером."
   ]
  },
  {
   "cell_type": "markdown",
   "metadata": {},
   "source": [
    "## Обучение"
   ]
  },
  {
   "cell_type": "code",
   "execution_count": 9,
   "metadata": {},
   "outputs": [
    {
     "data": {
      "text/html": [
       "<div>\n",
       "<style scoped>\n",
       "    .dataframe tbody tr th:only-of-type {\n",
       "        vertical-align: middle;\n",
       "    }\n",
       "\n",
       "    .dataframe tbody tr th {\n",
       "        vertical-align: top;\n",
       "    }\n",
       "\n",
       "    .dataframe thead th {\n",
       "        text-align: right;\n",
       "    }\n",
       "</style>\n",
       "<table border=\"1\" class=\"dataframe\">\n",
       "  <thead>\n",
       "    <tr style=\"text-align: right;\">\n",
       "      <th></th>\n",
       "      <th>num_orders</th>\n",
       "      <th>dayofweek</th>\n",
       "      <th>hour</th>\n",
       "      <th>lag_1</th>\n",
       "      <th>rolling_mean</th>\n",
       "    </tr>\n",
       "    <tr>\n",
       "      <th>datetime</th>\n",
       "      <th></th>\n",
       "      <th></th>\n",
       "      <th></th>\n",
       "      <th></th>\n",
       "      <th></th>\n",
       "    </tr>\n",
       "  </thead>\n",
       "  <tbody>\n",
       "    <tr>\n",
       "      <th>2018-03-01 00:00:00</th>\n",
       "      <td>124</td>\n",
       "      <td>3</td>\n",
       "      <td>0</td>\n",
       "      <td>NaN</td>\n",
       "      <td>NaN</td>\n",
       "    </tr>\n",
       "    <tr>\n",
       "      <th>2018-03-01 01:00:00</th>\n",
       "      <td>85</td>\n",
       "      <td>3</td>\n",
       "      <td>1</td>\n",
       "      <td>124.0</td>\n",
       "      <td>NaN</td>\n",
       "    </tr>\n",
       "    <tr>\n",
       "      <th>2018-03-01 02:00:00</th>\n",
       "      <td>71</td>\n",
       "      <td>3</td>\n",
       "      <td>2</td>\n",
       "      <td>85.0</td>\n",
       "      <td>NaN</td>\n",
       "    </tr>\n",
       "    <tr>\n",
       "      <th>2018-03-01 03:00:00</th>\n",
       "      <td>66</td>\n",
       "      <td>3</td>\n",
       "      <td>3</td>\n",
       "      <td>71.0</td>\n",
       "      <td>NaN</td>\n",
       "    </tr>\n",
       "    <tr>\n",
       "      <th>2018-03-01 04:00:00</th>\n",
       "      <td>43</td>\n",
       "      <td>3</td>\n",
       "      <td>4</td>\n",
       "      <td>66.0</td>\n",
       "      <td>NaN</td>\n",
       "    </tr>\n",
       "  </tbody>\n",
       "</table>\n",
       "</div>"
      ],
      "text/plain": [
       "                     num_orders  dayofweek  hour  lag_1  rolling_mean\n",
       "datetime                                                             \n",
       "2018-03-01 00:00:00         124          3     0    NaN           NaN\n",
       "2018-03-01 01:00:00          85          3     1  124.0           NaN\n",
       "2018-03-01 02:00:00          71          3     2   85.0           NaN\n",
       "2018-03-01 03:00:00          66          3     3   71.0           NaN\n",
       "2018-03-01 04:00:00          43          3     4   66.0           NaN"
      ]
     },
     "execution_count": 9,
     "metadata": {},
     "output_type": "execute_result"
    }
   ],
   "source": [
    "# Напишем функцию для создания признаков для горизонта прогнозирования в один шаг:\n",
    "def make_features(data, max_lag, rolling_mean_size):\n",
    "    data['dayofweek'] = data.index.dayofweek\n",
    "    data['hour'] = data.index.hour\n",
    "    \n",
    "    for lag in range(1, max_lag + 1):\n",
    "        data['lag_{}'.format(lag)] = data['num_orders'].shift(lag)\n",
    "\n",
    "    data['rolling_mean'] = data['num_orders'].shift().rolling(rolling_mean_size).mean()\n",
    "\n",
    "\n",
    "make_features(data, 1, 24)\n",
    "data.head()"
   ]
  },
  {
   "cell_type": "code",
   "execution_count": 10,
   "metadata": {},
   "outputs": [
    {
     "name": "stdout",
     "output_type": "stream",
     "text": [
      "(3508, 5)\n",
      "(884, 5)\n"
     ]
    }
   ],
   "source": [
    "# Выделим тестовую выборку в размере 10% от датасета:\n",
    "train, test = train_test_split(data, test_size=0.2, shuffle=False)\n",
    "train = train.dropna()\n",
    "\n",
    "print(train.shape)\n",
    "print(test.shape)"
   ]
  },
  {
   "cell_type": "code",
   "execution_count": 11,
   "metadata": {},
   "outputs": [],
   "source": [
    "# Выделим признаки и целевой признак в выборках:\n",
    "features_train = train.drop('num_orders', axis=1)\n",
    "target_train = train['num_orders']\n",
    "features_test = test.drop('num_orders', axis=1)\n",
    "target_test = test['num_orders']"
   ]
  },
  {
   "cell_type": "code",
   "execution_count": 12,
   "metadata": {},
   "outputs": [],
   "source": [
    "# Обучим модель LinearRegression:\n",
    "start_time = time.time()\n",
    "reg = LinearRegression()\n",
    "reg.fit(features_train,target_train)\n",
    "end_time = time.time()\n",
    "time_LR = end_time - start_time"
   ]
  },
  {
   "cell_type": "code",
   "execution_count": 13,
   "metadata": {},
   "outputs": [
    {
     "name": "stdout",
     "output_type": "stream",
     "text": [
      "Лучшие параметры: {'max_depth': 11, 'n_estimators': 50}\n",
      "Время обучения: 24.39370059967041\n"
     ]
    }
   ],
   "source": [
    "# Обучим модель RandomForestRegressor:\n",
    "start_time = time.time()\n",
    " \n",
    "reg_RF = RandomForestRegressor(random_state=12345)\n",
    "parameters = { 'n_estimators': range (10, 51, 10),\n",
    "              'max_depth': range (1,13, 2) }\n",
    "tscv = TimeSeriesSplit(n_splits=8)\n",
    "\n",
    "grid_RF = GridSearchCV(reg_RF, parameters, cv=tscv, scoring='neg_mean_squared_error') \n",
    "grid_RF.fit(features_train, target_train)\n",
    "end_time = time.time()\n",
    "time_RF = end_time - start_time\n",
    "\n",
    "print('Лучшие параметры:', grid_RF.best_params_)\n",
    "print('Время обучения:', time_RF)"
   ]
  },
  {
   "cell_type": "code",
   "execution_count": 14,
   "metadata": {},
   "outputs": [
    {
     "name": "stdout",
     "output_type": "stream",
     "text": [
      "Лучшие гиперпараметры: {'learning_rate': 0.1, 'num_leaves': 10}\n",
      "Время обучения: 14482.097421646118\n"
     ]
    }
   ],
   "source": [
    "# Обучим модель LGBMRegressor:\n",
    "start_time = time.time()\n",
    "\n",
    "reg_LGBM = LGBMRegressor(random_state=12345)\n",
    "parameters = [{'num_leaves':[10,50,75],\n",
    "              'learning_rate':[0.1,0.3,0.5]}]\n",
    "tscv = TimeSeriesSplit(n_splits=8)\n",
    "\n",
    "grid_LGBM = GridSearchCV(reg_LGBM, parameters, cv=tscv, scoring='neg_mean_squared_error')\n",
    "grid_LGBM.fit(features_train, target_train)\n",
    "end_time = time.time()\n",
    "time_LGBM = end_time - start_time\n",
    "print('Лучшие гиперпараметры:', grid_LGBM.best_params_)\n",
    "print('Время обучения:', time_LGBM)"
   ]
  },
  {
   "cell_type": "markdown",
   "metadata": {},
   "source": [
    "## Тестирование"
   ]
  },
  {
   "cell_type": "code",
   "execution_count": 23,
   "metadata": {},
   "outputs": [
    {
     "name": "stdout",
     "output_type": "stream",
     "text": [
      "Метрика RMSE LinearRegression: 46.55159819817629\n",
      "Время обучения: 0.005749940872192383\n",
      "Время предсказания: 0.004611968994140625\n"
     ]
    }
   ],
   "source": [
    "# Измерим метрику RMSE на модели LinearRegression:\n",
    "start_time = time.time()\n",
    "pred_test_LR = reg.predict(features_test)\n",
    "end_time = time.time()\n",
    "time_LR_pred = end_time - start_time\n",
    "RMSE_LR = np.sqrt(mean_squared_error(target_test, pred_test_LR))\n",
    "print('Метрика RMSE LinearRegression:', RMSE_LR)\n",
    "print('Время обучения:', time_LR)\n",
    "print('Время предсказания:', time_LR_pred)"
   ]
  },
  {
   "cell_type": "code",
   "execution_count": 16,
   "metadata": {},
   "outputs": [
    {
     "name": "stdout",
     "output_type": "stream",
     "text": [
      "Метрика RMSE RandomForestRegressor: 46.268295863094856\n",
      "Время обучения: 24.39370059967041\n",
      "Время предсказания: 0.07344222068786621\n"
     ]
    }
   ],
   "source": [
    "# Измерим метрику RMSE на модели RandomForestRegressor:\n",
    "start_time = time.time()\n",
    "pred_test_RF = grid_RF.predict(features_test)\n",
    "end_time = time.time()\n",
    "time_RF_pred = end_time - start_time\n",
    "RMSE_RF = np.sqrt(mean_squared_error(target_test, pred_test_RF))\n",
    "print('Метрика RMSE RandomForestRegressor:', RMSE_RF)\n",
    "print('Время обучения:', time_RF)\n",
    "print('Время предсказания:', time_RF_pred)"
   ]
  },
  {
   "cell_type": "code",
   "execution_count": 17,
   "metadata": {},
   "outputs": [
    {
     "name": "stdout",
     "output_type": "stream",
     "text": [
      "Метрика RMSE LightGBM: 45.6572407333329\n",
      "Время обучения: 14482.097421646118\n",
      "Время предсказания: 0.019479036331176758\n"
     ]
    }
   ],
   "source": [
    "# Измерим метрику RMSE на модели LightGBM:\n",
    "start_time = time.time()\n",
    "predictions_test_LGBM = grid_LGBM.predict(features_test)\n",
    "end_time = time.time()\n",
    "time_LGBM_pred = end_time - start_time\n",
    "RMSE_LightGBM = np.sqrt(mean_squared_error(target_test, predictions_test_LGBM))\n",
    "print('Метрика RMSE LightGBM:', RMSE_LightGBM)\n",
    "print('Время обучения:', time_LGBM)\n",
    "print('Время предсказания:', time_LGBM_pred)"
   ]
  },
  {
   "cell_type": "code",
   "execution_count": 18,
   "metadata": {},
   "outputs": [
    {
     "name": "stdout",
     "output_type": "stream",
     "text": [
      "Метрика RMSE DummyRegressor: 74.3390364639017\n",
      "Время обучения: 0.0009074211120605469\n",
      "Время предсказания: 0.0008673667907714844\n"
     ]
    }
   ],
   "source": [
    "# Используем DummyRegressor для проверки моделей на адекватность:\n",
    "start_time = time.time()\n",
    "dummy_reg = DummyRegressor()\n",
    "dummy_reg.fit(features_train, target_train)\n",
    "end_time = time.time()\n",
    "time_DR = end_time - start_time\n",
    "\n",
    "start_time = time.time()\n",
    "dummy_pred = dummy_reg.predict(features_test)\n",
    "end_time = time.time()\n",
    "time_DR_pred = end_time - start_time\n",
    "RMSE_DR = np.sqrt(mean_squared_error(target_test, dummy_pred))\n",
    "print('Метрика RMSE DummyRegressor:', RMSE_DR)\n",
    "print('Время обучения:', time_DR)\n",
    "print('Время предсказания:', time_DR_pred)"
   ]
  },
  {
   "cell_type": "code",
   "execution_count": 19,
   "metadata": {},
   "outputs": [
    {
     "data": {
      "text/html": [
       "<div>\n",
       "<style scoped>\n",
       "    .dataframe tbody tr th:only-of-type {\n",
       "        vertical-align: middle;\n",
       "    }\n",
       "\n",
       "    .dataframe tbody tr th {\n",
       "        vertical-align: top;\n",
       "    }\n",
       "\n",
       "    .dataframe thead th {\n",
       "        text-align: right;\n",
       "    }\n",
       "</style>\n",
       "<table border=\"1\" class=\"dataframe\">\n",
       "  <thead>\n",
       "    <tr style=\"text-align: right;\">\n",
       "      <th></th>\n",
       "      <th>model</th>\n",
       "      <th>RMSE</th>\n",
       "      <th>Time to learn</th>\n",
       "      <th>Time to predict</th>\n",
       "    </tr>\n",
       "  </thead>\n",
       "  <tbody>\n",
       "    <tr>\n",
       "      <th>0</th>\n",
       "      <td>LightGBM</td>\n",
       "      <td>45.657241</td>\n",
       "      <td>14482.097422</td>\n",
       "      <td>0.019479</td>\n",
       "    </tr>\n",
       "    <tr>\n",
       "      <th>1</th>\n",
       "      <td>RandomForestRegressor</td>\n",
       "      <td>46.268296</td>\n",
       "      <td>24.393701</td>\n",
       "      <td>0.073442</td>\n",
       "    </tr>\n",
       "    <tr>\n",
       "      <th>2</th>\n",
       "      <td>LinearRegression</td>\n",
       "      <td>46.551598</td>\n",
       "      <td>0.005750</td>\n",
       "      <td>0.002973</td>\n",
       "    </tr>\n",
       "    <tr>\n",
       "      <th>3</th>\n",
       "      <td>DummyRegressor</td>\n",
       "      <td>74.339036</td>\n",
       "      <td>0.000907</td>\n",
       "      <td>0.000867</td>\n",
       "    </tr>\n",
       "  </tbody>\n",
       "</table>\n",
       "</div>"
      ],
      "text/plain": [
       "                   model       RMSE  Time to learn  Time to predict\n",
       "0               LightGBM  45.657241   14482.097422         0.019479\n",
       "1  RandomForestRegressor  46.268296      24.393701         0.073442\n",
       "2       LinearRegression  46.551598       0.005750         0.002973\n",
       "3         DummyRegressor  74.339036       0.000907         0.000867"
      ]
     },
     "metadata": {},
     "output_type": "display_data"
    }
   ],
   "source": [
    "# Соберем полученные данные в единую таблицу:\n",
    "metrics = pd.DataFrame({'model':['LinearRegression', 'RandomForestRegressor', 'LightGBM', 'DummyRegressor'],\n",
    "                       'RMSE':[RMSE_LR, RMSE_RF, RMSE_LightGBM, RMSE_DR],\n",
    "                       'Time to learn':[time_LR, time_RF, time_LGBM, time_DR],\n",
    "                       'Time to predict':[time_LR_pred, time_RF_pred, time_LGBM_pred, time_DR_pred]})\n",
    "\n",
    "display(metrics.sort_values(by=['RMSE']).reset_index(drop=True))"
   ]
  },
  {
   "cell_type": "markdown",
   "metadata": {},
   "source": [
    "**Выводы:**\n",
    "* Метрика RMSE модели LightGBM имеет лучше значение 45,7 и ниже значения 48 - данная модель лучше всего отработала."
   ]
  },
  {
   "cell_type": "code",
   "execution_count": 63,
   "metadata": {
    "scrolled": false
   },
   "outputs": [
    {
     "data": {
      "text/plain": [
       "Text(0, 0.5, 'Число заказов')"
      ]
     },
     "execution_count": 63,
     "metadata": {},
     "output_type": "execute_result"
    },
    {
     "data": {
      "image/png": "[encoded data removed]",
      "text/plain": [
       "<Figure size 864x720 with 1 Axes>"
      ]
     },
     "metadata": {
      "needs_background": "light"
     },
     "output_type": "display_data"
    }
   ],
   "source": [
    "# Построим графики факт/предсказанное на одном рисунке:\n",
    "target = pd.DataFrame(target_test[0:884])\n",
    "target['predict'] = predict.tolist()\n",
    "target[0:48].plot(grid = True, figsize=(12, 10))\n",
    "plt.title(\"Результаты модели, 2 дня\", fontsize=16)\n",
    "plt.xlabel(\"Дата и время\", fontsize=12)\n",
    "plt.ylabel(\"Число заказов\", fontsize=12)"
   ]
  }
 ],
 "metadata": {
  "ExecuteTimeLog": [
   {
    "duration": 6615,
    "start_time": "2022-04-24T10:15:32.750Z"
   },
   {
    "duration": 9721,
    "start_time": "2022-04-24T10:31:59.224Z"
   },
   {
    "duration": 504,
    "start_time": "2022-04-24T10:32:14.148Z"
   },
   {
    "duration": 227,
    "start_time": "2022-04-24T11:29:32.628Z"
   },
   {
    "duration": 382,
    "start_time": "2022-04-24T11:30:05.241Z"
   },
   {
    "duration": 340,
    "start_time": "2022-04-24T11:30:28.424Z"
   },
   {
    "duration": 218,
    "start_time": "2022-04-24T11:31:39.525Z"
   },
   {
    "duration": 215,
    "start_time": "2022-04-24T11:32:34.724Z"
   },
   {
    "duration": 107,
    "start_time": "2022-04-24T11:34:43.547Z"
   },
   {
    "duration": 110,
    "start_time": "2022-04-24T11:35:03.224Z"
   },
   {
    "duration": 2825,
    "start_time": "2022-04-24T12:20:34.127Z"
   },
   {
    "duration": 4317,
    "start_time": "2022-04-24T12:27:43.224Z"
   },
   {
    "duration": 5907,
    "start_time": "2022-04-24T12:29:18.026Z"
   },
   {
    "duration": 402,
    "start_time": "2022-04-24T12:29:23.946Z"
   },
   {
    "duration": 3411,
    "start_time": "2022-04-24T12:29:24.356Z"
   },
   {
    "duration": 486,
    "start_time": "2022-04-24T12:29:27.772Z"
   },
   {
    "duration": 778,
    "start_time": "2022-04-24T12:29:28.267Z"
   },
   {
    "duration": 0,
    "start_time": "2022-04-24T12:29:29.051Z"
   },
   {
    "duration": 0,
    "start_time": "2022-04-24T12:29:29.052Z"
   },
   {
    "duration": 6262,
    "start_time": "2022-04-24T12:29:39.607Z"
   },
   {
    "duration": 332,
    "start_time": "2022-04-24T12:29:45.931Z"
   },
   {
    "duration": 3611,
    "start_time": "2022-04-24T12:29:46.333Z"
   },
   {
    "duration": 516,
    "start_time": "2022-04-24T12:29:58.325Z"
   },
   {
    "duration": 10,
    "start_time": "2022-04-24T12:30:32.051Z"
   },
   {
    "duration": 1503,
    "start_time": "2022-04-24T12:30:42.054Z"
   },
   {
    "duration": 103,
    "start_time": "2022-04-24T12:31:05.223Z"
   },
   {
    "duration": 35,
    "start_time": "2022-04-24T12:31:09.425Z"
   },
   {
    "duration": 1611,
    "start_time": "2022-04-24T12:35:30.424Z"
   },
   {
    "duration": 1805,
    "start_time": "2022-04-24T12:36:28.925Z"
   },
   {
    "duration": 2008,
    "start_time": "2022-04-24T12:36:36.024Z"
   },
   {
    "duration": 514,
    "start_time": "2022-04-24T13:38:56.224Z"
   },
   {
    "duration": 206,
    "start_time": "2022-04-24T13:39:15.224Z"
   },
   {
    "duration": 116,
    "start_time": "2022-04-24T13:39:19.225Z"
   },
   {
    "duration": 17,
    "start_time": "2022-04-24T13:40:02.625Z"
   },
   {
    "duration": 7509,
    "start_time": "2022-04-24T13:42:14.125Z"
   },
   {
    "duration": 395,
    "start_time": "2022-04-24T13:42:21.636Z"
   },
   {
    "duration": 4804,
    "start_time": "2022-04-24T13:42:22.033Z"
   },
   {
    "duration": 89,
    "start_time": "2022-04-24T13:42:26.840Z"
   },
   {
    "duration": 93,
    "start_time": "2022-04-24T13:42:26.931Z"
   },
   {
    "duration": 15,
    "start_time": "2022-04-24T13:42:27.025Z"
   },
   {
    "duration": 4108,
    "start_time": "2022-04-24T13:42:27.128Z"
   },
   {
    "duration": 3718,
    "start_time": "2022-04-24T13:43:33.724Z"
   },
   {
    "duration": 1508,
    "start_time": "2022-04-24T13:56:07.633Z"
   },
   {
    "duration": 3906,
    "start_time": "2022-04-24T13:56:20.127Z"
   },
   {
    "duration": 1916,
    "start_time": "2022-04-24T13:58:00.725Z"
   },
   {
    "duration": 653,
    "start_time": "2022-04-24T14:13:32.410Z"
   },
   {
    "duration": 203,
    "start_time": "2022-04-24T14:16:09.542Z"
   },
   {
    "duration": 6,
    "start_time": "2022-04-24T14:16:24.262Z"
   },
   {
    "duration": 8,
    "start_time": "2022-04-24T15:14:47.791Z"
   },
   {
    "duration": 3539,
    "start_time": "2022-04-24T15:17:13.325Z"
   },
   {
    "duration": 190,
    "start_time": "2022-04-24T15:17:16.867Z"
   },
   {
    "duration": 1986,
    "start_time": "2022-04-24T15:17:21.068Z"
   },
   {
    "duration": 617,
    "start_time": "2022-04-24T15:17:28.831Z"
   },
   {
    "duration": 80,
    "start_time": "2022-04-24T15:18:01.146Z"
   },
   {
    "duration": 12,
    "start_time": "2022-04-24T15:18:09.263Z"
   },
   {
    "duration": 8,
    "start_time": "2022-04-24T15:18:20.553Z"
   },
   {
    "duration": 98,
    "start_time": "2022-04-24T15:18:22.133Z"
   },
   {
    "duration": 40,
    "start_time": "2022-04-24T15:22:41.784Z"
   },
   {
    "duration": 343,
    "start_time": "2022-04-24T15:22:43.512Z"
   },
   {
    "duration": 8,
    "start_time": "2022-04-24T15:23:02.743Z"
   },
   {
    "duration": 7,
    "start_time": "2022-04-24T15:24:59.980Z"
   },
   {
    "duration": 64,
    "start_time": "2022-04-24T15:25:01.159Z"
   },
   {
    "duration": 13,
    "start_time": "2022-04-24T15:25:55.388Z"
   },
   {
    "duration": 21,
    "start_time": "2022-04-24T15:26:15.303Z"
   },
   {
    "duration": 12,
    "start_time": "2022-04-24T15:27:55.155Z"
   },
   {
    "duration": 12,
    "start_time": "2022-04-24T15:30:31.035Z"
   },
   {
    "duration": 2926,
    "start_time": "2022-04-24T15:30:53.327Z"
   },
   {
    "duration": 111,
    "start_time": "2022-04-24T15:30:56.255Z"
   },
   {
    "duration": 1849,
    "start_time": "2022-04-24T15:30:56.423Z"
   },
   {
    "duration": 400,
    "start_time": "2022-04-24T15:30:58.324Z"
   },
   {
    "duration": 1824,
    "start_time": "2022-04-24T15:30:58.726Z"
   },
   {
    "duration": 574,
    "start_time": "2022-04-24T15:31:52.783Z"
   },
   {
    "duration": 3397,
    "start_time": "2022-04-24T15:32:19.242Z"
   },
   {
    "duration": 124,
    "start_time": "2022-04-24T15:32:22.642Z"
   },
   {
    "duration": 1228,
    "start_time": "2022-04-24T15:32:22.824Z"
   },
   {
    "duration": 406,
    "start_time": "2022-04-24T15:32:24.053Z"
   },
   {
    "duration": 1893,
    "start_time": "2022-04-24T15:32:24.461Z"
   },
   {
    "duration": 569,
    "start_time": "2022-04-24T15:32:26.357Z"
   },
   {
    "duration": 22,
    "start_time": "2022-04-24T15:32:26.927Z"
   },
   {
    "duration": 7,
    "start_time": "2022-04-24T15:32:26.950Z"
   },
   {
    "duration": 66,
    "start_time": "2022-04-24T15:32:26.959Z"
   },
   {
    "duration": 9,
    "start_time": "2022-04-24T15:32:27.026Z"
   },
   {
    "duration": 186,
    "start_time": "2022-04-24T15:32:27.037Z"
   },
   {
    "duration": 8,
    "start_time": "2022-04-24T15:32:27.226Z"
   },
   {
    "duration": 104,
    "start_time": "2022-04-24T15:32:27.236Z"
   },
   {
    "duration": 2319,
    "start_time": "2022-04-24T15:33:42.505Z"
   },
   {
    "duration": 2382,
    "start_time": "2022-04-24T15:33:53.652Z"
   },
   {
    "duration": 108,
    "start_time": "2022-04-24T15:33:56.036Z"
   },
   {
    "duration": 1320,
    "start_time": "2022-04-24T15:33:56.145Z"
   },
   {
    "duration": 399,
    "start_time": "2022-04-24T15:33:57.467Z"
   },
   {
    "duration": 1145,
    "start_time": "2022-04-24T15:33:57.925Z"
   },
   {
    "duration": 571,
    "start_time": "2022-04-24T15:33:59.072Z"
   },
   {
    "duration": 80,
    "start_time": "2022-04-24T15:33:59.645Z"
   },
   {
    "duration": 10,
    "start_time": "2022-04-24T15:33:59.726Z"
   },
   {
    "duration": 5,
    "start_time": "2022-04-24T15:33:59.738Z"
   },
   {
    "duration": 10,
    "start_time": "2022-04-24T15:33:59.745Z"
   },
   {
    "duration": 266,
    "start_time": "2022-04-24T15:33:59.757Z"
   },
   {
    "duration": 8,
    "start_time": "2022-04-24T15:34:00.026Z"
   },
   {
    "duration": 21,
    "start_time": "2022-04-24T15:34:00.037Z"
   },
   {
    "duration": 41,
    "start_time": "2022-04-24T15:35:08.982Z"
   },
   {
    "duration": 73,
    "start_time": "2022-04-24T15:37:14.666Z"
   },
   {
    "duration": 46,
    "start_time": "2022-04-24T15:37:21.308Z"
   },
   {
    "duration": 84,
    "start_time": "2022-04-24T15:37:26.969Z"
   },
   {
    "duration": 153,
    "start_time": "2022-04-24T15:40:14.292Z"
   },
   {
    "duration": 25,
    "start_time": "2022-04-24T15:40:17.109Z"
   },
   {
    "duration": 287,
    "start_time": "2022-04-24T15:41:34.677Z"
   },
   {
    "duration": 8,
    "start_time": "2022-04-24T15:41:57.042Z"
   },
   {
    "duration": 22,
    "start_time": "2022-04-24T15:42:11.630Z"
   },
   {
    "duration": 35,
    "start_time": "2022-04-24T15:42:43.891Z"
   },
   {
    "duration": 219,
    "start_time": "2022-04-24T15:43:22.211Z"
   },
   {
    "duration": 18,
    "start_time": "2022-04-24T16:05:24.888Z"
   },
   {
    "duration": 11,
    "start_time": "2022-04-24T16:05:25.434Z"
   },
   {
    "duration": 8,
    "start_time": "2022-04-24T16:05:27.016Z"
   },
   {
    "duration": 10,
    "start_time": "2022-04-24T16:05:27.650Z"
   },
   {
    "duration": 20,
    "start_time": "2022-04-24T16:05:28.659Z"
   },
   {
    "duration": 76,
    "start_time": "2022-04-24T16:05:51.249Z"
   },
   {
    "duration": 7,
    "start_time": "2022-04-24T16:05:51.555Z"
   },
   {
    "duration": 100,
    "start_time": "2022-04-24T16:54:09.138Z"
   },
   {
    "duration": 271,
    "start_time": "2022-04-24T16:54:39.155Z"
   },
   {
    "duration": 154503,
    "start_time": "2022-04-24T16:54:47.425Z"
   },
   {
    "duration": 19,
    "start_time": "2022-04-24T17:13:27.631Z"
   },
   {
    "duration": 482,
    "start_time": "2022-04-24T17:13:41.859Z"
   },
   {
    "duration": 20,
    "start_time": "2022-04-24T17:13:49.217Z"
   },
   {
    "duration": 16,
    "start_time": "2022-04-24T17:14:26.968Z"
   },
   {
    "duration": 11,
    "start_time": "2022-04-24T17:14:50.088Z"
   },
   {
    "duration": 13,
    "start_time": "2022-04-24T17:53:40.145Z"
   },
   {
    "duration": 36,
    "start_time": "2022-04-24T17:54:10.517Z"
   },
   {
    "duration": 16904748,
    "start_time": "2022-04-24T17:54:14.495Z"
   },
   {
    "duration": 13,
    "start_time": "2022-04-25T06:26:03.386Z"
   },
   {
    "duration": 9,
    "start_time": "2022-04-25T06:26:03.661Z"
   },
   {
    "duration": 22,
    "start_time": "2022-04-25T06:26:17.398Z"
   },
   {
    "duration": 24,
    "start_time": "2022-04-25T06:28:40.844Z"
   },
   {
    "duration": 11,
    "start_time": "2022-04-25T06:29:05.578Z"
   },
   {
    "duration": 4,
    "start_time": "2022-04-25T07:19:40.174Z"
   },
   {
    "duration": 7915,
    "start_time": "2022-04-25T07:24:53.001Z"
   },
   {
    "duration": 12,
    "start_time": "2022-04-25T07:25:22.737Z"
   },
   {
    "duration": 11,
    "start_time": "2022-04-25T07:25:29.347Z"
   },
   {
    "duration": 1994,
    "start_time": "2022-04-25T07:25:52.394Z"
   },
   {
    "duration": 77,
    "start_time": "2022-04-25T07:25:54.391Z"
   },
   {
    "duration": 976,
    "start_time": "2022-04-25T07:25:54.470Z"
   },
   {
    "duration": 334,
    "start_time": "2022-04-25T07:25:55.449Z"
   },
   {
    "duration": 1049,
    "start_time": "2022-04-25T07:25:55.786Z"
   },
   {
    "duration": 395,
    "start_time": "2022-04-25T07:25:56.837Z"
   },
   {
    "duration": 34,
    "start_time": "2022-04-25T07:25:57.235Z"
   },
   {
    "duration": 10,
    "start_time": "2022-04-25T07:25:57.272Z"
   },
   {
    "duration": 6,
    "start_time": "2022-04-25T07:25:57.284Z"
   },
   {
    "duration": 153,
    "start_time": "2022-04-25T07:25:57.292Z"
   },
   {
    "duration": 10882,
    "start_time": "2022-04-25T07:25:57.448Z"
   },
   {
    "duration": 45,
    "start_time": "2022-04-25T11:24:45.545Z"
   },
   {
    "duration": 0,
    "start_time": "2022-04-25T11:24:45.592Z"
   },
   {
    "duration": 0,
    "start_time": "2022-04-25T11:24:45.593Z"
   },
   {
    "duration": 0,
    "start_time": "2022-04-25T11:24:45.594Z"
   },
   {
    "duration": 0,
    "start_time": "2022-04-25T11:24:45.595Z"
   },
   {
    "duration": 0,
    "start_time": "2022-04-25T11:24:45.596Z"
   },
   {
    "duration": 1619,
    "start_time": "2022-04-25T11:50:27.791Z"
   },
   {
    "duration": 56,
    "start_time": "2022-04-25T11:50:29.412Z"
   },
   {
    "duration": 663,
    "start_time": "2022-04-25T11:50:29.470Z"
   },
   {
    "duration": 225,
    "start_time": "2022-04-25T11:50:30.135Z"
   },
   {
    "duration": 752,
    "start_time": "2022-04-25T11:50:30.363Z"
   },
   {
    "duration": 299,
    "start_time": "2022-04-25T11:50:31.117Z"
   },
   {
    "duration": 24,
    "start_time": "2022-04-25T11:50:31.418Z"
   },
   {
    "duration": 7,
    "start_time": "2022-04-25T11:50:31.444Z"
   },
   {
    "duration": 4,
    "start_time": "2022-04-25T11:50:31.453Z"
   },
   {
    "duration": 112,
    "start_time": "2022-04-25T11:50:31.459Z"
   },
   {
    "duration": 7773,
    "start_time": "2022-04-25T11:50:31.573Z"
   },
   {
    "duration": 17064,
    "start_time": "2022-04-25T11:50:39.348Z"
   },
   {
    "duration": 8,
    "start_time": "2022-04-25T11:50:56.414Z"
   },
   {
    "duration": 184,
    "start_time": "2022-04-25T11:50:56.426Z"
   },
   {
    "duration": 8,
    "start_time": "2022-04-25T11:50:56.612Z"
   },
   {
    "duration": 7,
    "start_time": "2022-04-25T11:50:56.621Z"
   },
   {
    "duration": 11,
    "start_time": "2022-04-25T11:50:56.629Z"
   },
   {
    "duration": 88440,
    "start_time": "2022-04-26T06:40:13.159Z"
   },
   {
    "duration": 77,
    "start_time": "2022-04-26T06:41:41.601Z"
   },
   {
    "duration": 691,
    "start_time": "2022-04-26T06:41:41.679Z"
   },
   {
    "duration": 232,
    "start_time": "2022-04-26T06:41:42.371Z"
   },
   {
    "duration": 713,
    "start_time": "2022-04-26T06:41:42.604Z"
   },
   {
    "duration": 54,
    "start_time": "2022-04-26T16:01:12.159Z"
   },
   {
    "duration": 2420,
    "start_time": "2022-04-26T16:01:18.905Z"
   },
   {
    "duration": 78,
    "start_time": "2022-04-26T16:01:21.328Z"
   },
   {
    "duration": 1077,
    "start_time": "2022-04-26T16:01:22.424Z"
   },
   {
    "duration": 237,
    "start_time": "2022-04-26T16:01:24.357Z"
   },
   {
    "duration": 1142,
    "start_time": "2022-04-26T16:01:24.989Z"
   },
   {
    "duration": 297,
    "start_time": "2022-04-26T16:01:26.134Z"
   },
   {
    "duration": 316,
    "start_time": "2022-04-26T16:01:50.068Z"
   },
   {
    "duration": 296,
    "start_time": "2022-04-26T16:02:08.354Z"
   },
   {
    "duration": 274,
    "start_time": "2022-04-26T16:02:22.729Z"
   },
   {
    "duration": 167,
    "start_time": "2022-04-26T17:00:34.767Z"
   },
   {
    "duration": 163,
    "start_time": "2022-04-26T17:00:46.062Z"
   },
   {
    "duration": 152,
    "start_time": "2022-04-26T17:01:23.987Z"
   },
   {
    "duration": 150,
    "start_time": "2022-04-26T17:01:32.549Z"
   },
   {
    "duration": 143,
    "start_time": "2022-04-26T17:03:10.554Z"
   },
   {
    "duration": 159,
    "start_time": "2022-04-26T17:03:55.826Z"
   },
   {
    "duration": 228,
    "start_time": "2022-04-26T17:04:09.643Z"
   },
   {
    "duration": 220,
    "start_time": "2022-04-26T17:04:26.629Z"
   },
   {
    "duration": 135,
    "start_time": "2022-04-26T17:04:47.032Z"
   },
   {
    "duration": 138,
    "start_time": "2022-04-26T17:04:54.493Z"
   },
   {
    "duration": 77,
    "start_time": "2022-04-28T13:23:38.797Z"
   },
   {
    "duration": 2473,
    "start_time": "2022-04-28T13:23:47.042Z"
   },
   {
    "duration": 85,
    "start_time": "2022-04-28T13:23:49.517Z"
   },
   {
    "duration": 942,
    "start_time": "2022-04-28T13:23:49.604Z"
   },
   {
    "duration": 344,
    "start_time": "2022-04-28T13:23:50.549Z"
   },
   {
    "duration": 1086,
    "start_time": "2022-04-28T13:23:50.895Z"
   },
   {
    "duration": 395,
    "start_time": "2022-04-28T13:23:51.986Z"
   },
   {
    "duration": 239,
    "start_time": "2022-04-28T13:23:52.384Z"
   },
   {
    "duration": 544,
    "start_time": "2022-04-28T13:23:58.713Z"
   },
   {
    "duration": 30,
    "start_time": "2022-04-28T13:24:03.848Z"
   },
   {
    "duration": 29,
    "start_time": "2022-04-28T13:41:51.333Z"
   },
   {
    "duration": 41,
    "start_time": "2022-04-28T13:42:12.138Z"
   },
   {
    "duration": 40,
    "start_time": "2022-04-28T14:00:02.576Z"
   },
   {
    "duration": 33,
    "start_time": "2022-04-28T14:34:07.853Z"
   },
   {
    "duration": 2093,
    "start_time": "2022-04-28T14:49:22.831Z"
   },
   {
    "duration": 83,
    "start_time": "2022-04-28T14:49:24.927Z"
   },
   {
    "duration": 963,
    "start_time": "2022-04-28T14:49:25.012Z"
   },
   {
    "duration": 342,
    "start_time": "2022-04-28T14:49:25.979Z"
   },
   {
    "duration": 1036,
    "start_time": "2022-04-28T14:49:26.323Z"
   },
   {
    "duration": 298,
    "start_time": "2022-04-28T14:49:27.361Z"
   },
   {
    "duration": 237,
    "start_time": "2022-04-28T14:49:27.661Z"
   },
   {
    "duration": 575,
    "start_time": "2022-04-28T14:49:27.900Z"
   },
   {
    "duration": 26,
    "start_time": "2022-04-28T14:49:28.477Z"
   },
   {
    "duration": 14,
    "start_time": "2022-04-28T14:49:28.507Z"
   },
   {
    "duration": 9,
    "start_time": "2022-04-28T14:49:28.524Z"
   },
   {
    "duration": 17,
    "start_time": "2022-04-28T14:49:28.535Z"
   },
   {
    "duration": 24440,
    "start_time": "2022-04-28T14:49:28.554Z"
   },
   {
    "duration": 14482106,
    "start_time": "2022-04-28T14:49:52.996Z"
   },
   {
    "duration": 11,
    "start_time": "2022-04-28T18:51:15.105Z"
   },
   {
    "duration": 82,
    "start_time": "2022-04-28T18:51:15.119Z"
   },
   {
    "duration": 89,
    "start_time": "2022-04-28T18:51:15.204Z"
   },
   {
    "duration": 13,
    "start_time": "2022-04-28T18:51:15.296Z"
   },
   {
    "duration": 21,
    "start_time": "2022-04-28T18:51:15.311Z"
   },
   {
    "duration": 0,
    "start_time": "2022-04-28T18:51:15.922Z"
   },
   {
    "duration": 196,
    "start_time": "2022-04-28T19:55:34.267Z"
   },
   {
    "duration": 327,
    "start_time": "2022-04-28T19:55:58.834Z"
   },
   {
    "duration": 14,
    "start_time": "2022-04-28T19:56:13.239Z"
   },
   {
    "duration": 373,
    "start_time": "2022-04-28T19:56:22.636Z"
   },
   {
    "duration": 15,
    "start_time": "2022-04-28T19:57:10.404Z"
   },
   {
    "duration": 15,
    "start_time": "2022-04-28T19:57:16.789Z"
   },
   {
    "duration": 9,
    "start_time": "2022-04-28T19:57:31.114Z"
   },
   {
    "duration": 542,
    "start_time": "2022-04-28T19:57:41.351Z"
   },
   {
    "duration": 255,
    "start_time": "2022-04-28T19:58:15.034Z"
   },
   {
    "duration": 274,
    "start_time": "2022-04-28T19:58:52.094Z"
   },
   {
    "duration": 348,
    "start_time": "2022-04-28T19:59:18.602Z"
   },
   {
    "duration": 368,
    "start_time": "2022-04-28T19:59:26.801Z"
   },
   {
    "duration": 261,
    "start_time": "2022-04-28T20:00:22.265Z"
   },
   {
    "duration": 283,
    "start_time": "2022-04-28T20:00:30.341Z"
   },
   {
    "duration": 15,
    "start_time": "2022-04-28T20:00:37.141Z"
   },
   {
    "duration": 8,
    "start_time": "2022-04-28T20:01:14.924Z"
   },
   {
    "duration": 6,
    "start_time": "2022-04-28T20:02:36.703Z"
   },
   {
    "duration": 5,
    "start_time": "2022-04-28T20:02:47.083Z"
   },
   {
    "duration": 19,
    "start_time": "2022-04-28T20:04:31.498Z"
   },
   {
    "duration": 10,
    "start_time": "2022-04-28T20:06:06.199Z"
   },
   {
    "duration": 16,
    "start_time": "2022-04-28T20:06:17.194Z"
   },
   {
    "duration": 25,
    "start_time": "2022-04-28T20:06:20.926Z"
   },
   {
    "duration": 20,
    "start_time": "2022-04-28T20:07:07.608Z"
   },
   {
    "duration": 6,
    "start_time": "2022-04-28T20:07:30.660Z"
   },
   {
    "duration": 7,
    "start_time": "2022-04-28T20:07:37.302Z"
   },
   {
    "duration": 19,
    "start_time": "2022-04-28T20:08:32.333Z"
   },
   {
    "duration": 17,
    "start_time": "2022-04-28T20:08:42.317Z"
   },
   {
    "duration": 564,
    "start_time": "2022-04-28T20:09:03.904Z"
   },
   {
    "duration": 306,
    "start_time": "2022-04-28T20:09:16.147Z"
   },
   {
    "duration": 307,
    "start_time": "2022-04-28T20:09:33.030Z"
   },
   {
    "duration": 319,
    "start_time": "2022-04-28T20:09:37.583Z"
   },
   {
    "duration": 470,
    "start_time": "2022-04-28T20:09:51.456Z"
   },
   {
    "duration": 338,
    "start_time": "2022-04-28T20:09:59.843Z"
   },
   {
    "duration": 5,
    "start_time": "2022-04-28T20:10:37.970Z"
   },
   {
    "duration": 7,
    "start_time": "2022-04-28T20:10:53.145Z"
   },
   {
    "duration": 7,
    "start_time": "2022-04-28T20:11:09.014Z"
   },
   {
    "duration": 323,
    "start_time": "2022-04-28T20:11:14.156Z"
   },
   {
    "duration": 437,
    "start_time": "2022-04-28T20:11:43.347Z"
   },
   {
    "duration": 458,
    "start_time": "2022-04-28T20:13:18.035Z"
   },
   {
    "duration": 351,
    "start_time": "2022-04-28T20:13:27.034Z"
   },
   {
    "duration": 332,
    "start_time": "2022-04-28T20:13:31.407Z"
   },
   {
    "duration": 404,
    "start_time": "2022-04-28T20:13:45.590Z"
   },
   {
    "duration": 388,
    "start_time": "2022-04-28T20:13:58.016Z"
   }
  ],
  "kernelspec": {
   "display_name": "Python 3 (ipykernel)",
   "language": "python",
   "name": "python3"
  },
  "language_info": {
   "codemirror_mode": {
    "name": "ipython",
    "version": 3
   },
   "file_extension": ".py",
   "mimetype": "text/x-python",
   "name": "python",
   "nbconvert_exporter": "python",
   "pygments_lexer": "ipython3",
   "version": "3.9.7"
  },
  "toc": {
   "base_numbering": 1,
   "nav_menu": {},
   "number_sections": true,
   "sideBar": true,
   "skip_h1_title": true,
   "title_cell": "Содержание",
   "title_sidebar": "Contents",
   "toc_cell": true,
   "toc_position": {
    "height": "calc(100% - 180px)",
    "left": "10px",
    "top": "150px",
    "width": "165px"
   },
   "toc_section_display": true,
   "toc_window_display": true
  }
 },
 "nbformat": 4,
 "nbformat_minor": 2
}
